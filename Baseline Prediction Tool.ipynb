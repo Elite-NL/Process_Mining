{
 "cells": [
  {
   "cell_type": "code",
   "execution_count": 1,
   "metadata": {},
   "outputs": [],
   "source": [
    "# imports\n",
    "import pandas as pd\n",
    "from datetime import datetime\n",
    "import re"
   ]
  },
  {
   "cell_type": "code",
   "execution_count": 2,
   "metadata": {},
   "outputs": [
    {
     "data": {
      "text/plain": "     eventID   case concept:name                  case REG_DATE  \\\n0           0             173688  2011-10-01T00:38:44.546+02:00   \n1           1             173688  2011-10-01T00:38:44.546+02:00   \n2           2             173688  2011-10-01T00:38:44.546+02:00   \n3           3             173688  2011-10-01T00:38:44.546+02:00   \n4  4294967296             173691  2011-10-01T08:08:58.256+02:00   \n5  4294967297             173691  2011-10-01T08:08:58.256+02:00   \n6  4294967298             173691  2011-10-01T08:08:58.256+02:00   \n7  4294967299             173691  2011-10-01T08:08:58.256+02:00   \n8  8589934592             173694  2011-10-01T08:10:30.287+02:00   \n9  8589934593             173694  2011-10-01T08:10:30.287+02:00   \n\n   case AMOUNT_REQ      event concept:name event lifecycle:transition  \\\n0            20000             A_SUBMITTED                   COMPLETE   \n1            20000       A_PARTLYSUBMITTED                   COMPLETE   \n2            20000           A_PREACCEPTED                   COMPLETE   \n3            20000  W_Completeren aanvraag                   SCHEDULE   \n4             5000             A_SUBMITTED                   COMPLETE   \n5             5000       A_PARTLYSUBMITTED                   COMPLETE   \n6             5000           A_PREACCEPTED                   COMPLETE   \n7             5000  W_Completeren aanvraag                   SCHEDULE   \n8             7000             A_SUBMITTED                   COMPLETE   \n9             7000       A_PARTLYSUBMITTED                   COMPLETE   \n\n      event time:timestamp  \n0  01-10-2011 00:38:44.546  \n1  01-10-2011 00:38:44.880  \n2  01-10-2011 00:39:37.906  \n3  01-10-2011 00:39:38.875  \n4  01-10-2011 08:08:58.256  \n5  01-10-2011 08:09:02.195  \n6  01-10-2011 08:09:56.648  \n7  01-10-2011 08:09:59.578  \n8  01-10-2011 08:10:30.287  \n9  01-10-2011 08:10:30.591  ",
      "text/html": "<div>\n<style scoped>\n    .dataframe tbody tr th:only-of-type {\n        vertical-align: middle;\n    }\n\n    .dataframe tbody tr th {\n        vertical-align: top;\n    }\n\n    .dataframe thead th {\n        text-align: right;\n    }\n</style>\n<table border=\"1\" class=\"dataframe\">\n  <thead>\n    <tr style=\"text-align: right;\">\n      <th></th>\n      <th>eventID</th>\n      <th>case concept:name</th>\n      <th>case REG_DATE</th>\n      <th>case AMOUNT_REQ</th>\n      <th>event concept:name</th>\n      <th>event lifecycle:transition</th>\n      <th>event time:timestamp</th>\n    </tr>\n  </thead>\n  <tbody>\n    <tr>\n      <th>0</th>\n      <td>0</td>\n      <td>173688</td>\n      <td>2011-10-01T00:38:44.546+02:00</td>\n      <td>20000</td>\n      <td>A_SUBMITTED</td>\n      <td>COMPLETE</td>\n      <td>01-10-2011 00:38:44.546</td>\n    </tr>\n    <tr>\n      <th>1</th>\n      <td>1</td>\n      <td>173688</td>\n      <td>2011-10-01T00:38:44.546+02:00</td>\n      <td>20000</td>\n      <td>A_PARTLYSUBMITTED</td>\n      <td>COMPLETE</td>\n      <td>01-10-2011 00:38:44.880</td>\n    </tr>\n    <tr>\n      <th>2</th>\n      <td>2</td>\n      <td>173688</td>\n      <td>2011-10-01T00:38:44.546+02:00</td>\n      <td>20000</td>\n      <td>A_PREACCEPTED</td>\n      <td>COMPLETE</td>\n      <td>01-10-2011 00:39:37.906</td>\n    </tr>\n    <tr>\n      <th>3</th>\n      <td>3</td>\n      <td>173688</td>\n      <td>2011-10-01T00:38:44.546+02:00</td>\n      <td>20000</td>\n      <td>W_Completeren aanvraag</td>\n      <td>SCHEDULE</td>\n      <td>01-10-2011 00:39:38.875</td>\n    </tr>\n    <tr>\n      <th>4</th>\n      <td>4294967296</td>\n      <td>173691</td>\n      <td>2011-10-01T08:08:58.256+02:00</td>\n      <td>5000</td>\n      <td>A_SUBMITTED</td>\n      <td>COMPLETE</td>\n      <td>01-10-2011 08:08:58.256</td>\n    </tr>\n    <tr>\n      <th>5</th>\n      <td>4294967297</td>\n      <td>173691</td>\n      <td>2011-10-01T08:08:58.256+02:00</td>\n      <td>5000</td>\n      <td>A_PARTLYSUBMITTED</td>\n      <td>COMPLETE</td>\n      <td>01-10-2011 08:09:02.195</td>\n    </tr>\n    <tr>\n      <th>6</th>\n      <td>4294967298</td>\n      <td>173691</td>\n      <td>2011-10-01T08:08:58.256+02:00</td>\n      <td>5000</td>\n      <td>A_PREACCEPTED</td>\n      <td>COMPLETE</td>\n      <td>01-10-2011 08:09:56.648</td>\n    </tr>\n    <tr>\n      <th>7</th>\n      <td>4294967299</td>\n      <td>173691</td>\n      <td>2011-10-01T08:08:58.256+02:00</td>\n      <td>5000</td>\n      <td>W_Completeren aanvraag</td>\n      <td>SCHEDULE</td>\n      <td>01-10-2011 08:09:59.578</td>\n    </tr>\n    <tr>\n      <th>8</th>\n      <td>8589934592</td>\n      <td>173694</td>\n      <td>2011-10-01T08:10:30.287+02:00</td>\n      <td>7000</td>\n      <td>A_SUBMITTED</td>\n      <td>COMPLETE</td>\n      <td>01-10-2011 08:10:30.287</td>\n    </tr>\n    <tr>\n      <th>9</th>\n      <td>8589934593</td>\n      <td>173694</td>\n      <td>2011-10-01T08:10:30.287+02:00</td>\n      <td>7000</td>\n      <td>A_PARTLYSUBMITTED</td>\n      <td>COMPLETE</td>\n      <td>01-10-2011 08:10:30.591</td>\n    </tr>\n  </tbody>\n</table>\n</div>"
     },
     "execution_count": 2,
     "metadata": {},
     "output_type": "execute_result"
    }
   ],
   "source": [
    "# This notebook can be run separately from the deliverable tool.\n",
    "if (('df' not in globals()) or ('df_test' not in globals())):\n",
    "    df = pd.read_csv('data/BPI_Challenge_2012-training.csv')\n",
    "    \n",
    "    df_test = pd.read_csv('data/BPI_Challenge_2012-test.csv')\n",
    "\n",
    "    # Defining database-specific variables\n",
    "    case_column = \"case concept:name\"\n",
    "    registration_time_column = \"case REG_DATE\"\n",
    "    event_column = \"event concept:name\"\n",
    "    timestamp_column = \"event time:timestamp\"\n",
    "    timeformat_registration = \"%Y-%m-%dT%H:%M:%S\" # new time format\n",
    "    timeformat_timestamp = \"%d-%m-%Y %H:%M:%S.%f\"\n",
    "\n",
    "    # Names of columns we will add in this notebook\n",
    "    position_column = \"Position\"\n",
    "    baseline_next_event_column = \"Baseline Prediction for Next Activity\"\n",
    "    baseline_next_timestamp_column = \"Baseline Prediction for Next Timestamp\"\n",
    "\n",
    "df.head(10)"
   ]
  },
  {
   "cell_type": "code",
   "execution_count": 3,
   "metadata": {},
   "outputs": [
    {
     "name": "stdout",
     "output_type": "stream",
     "text": [
      "<class 'pandas.core.frame.DataFrame'>\n",
      "RangeIndex: 214377 entries, 0 to 214376\n",
      "Data columns (total 8 columns):\n",
      " #   Column                      Non-Null Count   Dtype         \n",
      "---  ------                      --------------   -----         \n",
      " 0   index                       214377 non-null  int64         \n",
      " 1   eventID                     214377 non-null  int64         \n",
      " 2   case concept:name           214377 non-null  int64         \n",
      " 3   case REG_DATE               214377 non-null  datetime64[ns]\n",
      " 4   case AMOUNT_REQ             214377 non-null  int64         \n",
      " 5   event concept:name          214377 non-null  object        \n",
      " 6   event lifecycle:transition  214377 non-null  object        \n",
      " 7   event time:timestamp        214377 non-null  datetime64[ns]\n",
      "dtypes: datetime64[ns](2), int64(4), object(2)\n",
      "memory usage: 13.1+ MB\n"
     ]
    }
   ],
   "source": [
    "# Basic data preprocessing of the timestamps\n",
    "df[registration_time_column]= [re.sub('\\..*|\\+.*','',a,flags=re.DOTALL) for a in df[registration_time_column]]\n",
    "df[registration_time_column] = [datetime.strptime(date, timeformat_registration) for date in df[registration_time_column]]\n",
    "df[timestamp_column] = [datetime.strptime(date, timeformat_timestamp) for date in df[timestamp_column]]\n",
    "df = df.sort_values(by=[case_column, timestamp_column]).reset_index() # sort values by user and time of event\n",
    "df.info()"
   ]
  },
  {
   "cell_type": "code",
   "execution_count": 4,
   "metadata": {},
   "outputs": [
    {
     "name": "stdout",
     "output_type": "stream",
     "text": [
      "<class 'pandas.core.frame.DataFrame'>\n",
      "RangeIndex: 47823 entries, 0 to 47822\n",
      "Data columns (total 8 columns):\n",
      " #   Column                      Non-Null Count  Dtype         \n",
      "---  ------                      --------------  -----         \n",
      " 0   index                       47823 non-null  int64         \n",
      " 1   eventID                     47823 non-null  int64         \n",
      " 2   case concept:name           47823 non-null  int64         \n",
      " 3   case REG_DATE               47823 non-null  datetime64[ns]\n",
      " 4   case AMOUNT_REQ             47823 non-null  int64         \n",
      " 5   event concept:name          47823 non-null  object        \n",
      " 6   event lifecycle:transition  47823 non-null  object        \n",
      " 7   event time:timestamp        47823 non-null  datetime64[ns]\n",
      "dtypes: datetime64[ns](2), int64(4), object(2)\n",
      "memory usage: 2.9+ MB\n"
     ]
    }
   ],
   "source": [
    "# Basic data preprocessing of the timestamps\n",
    "df_test[registration_time_column]= [re.sub('\\..*|\\+.*','',a,flags=re.DOTALL) for a in df_test[registration_time_column]]\n",
    "df_test[registration_time_column] = [datetime.strptime(date, timeformat_registration) for date in df_test[registration_time_column]]\n",
    "df_test[timestamp_column] = [datetime.strptime(date, timeformat_timestamp) for date in df_test[timestamp_column]]\n",
    "df_test = df_test.sort_values(by=[case_column, timestamp_column]).reset_index() # sort values by user and time of event\n",
    "df_test.info()"
   ]
  },
  {
   "cell_type": "code",
   "execution_count": 5,
   "metadata": {},
   "outputs": [],
   "source": [
    "# We fill in the Position column that shows which position is a certain event in the trace (the first event is 1)\n",
    "df[position_column] = df.groupby([case_column]).cumcount()+1\n",
    "df_test[position_column] = df_test.groupby([case_column]).cumcount()+1"
   ]
  },
  {
   "cell_type": "code",
   "execution_count": 6,
   "metadata": {},
   "outputs": [],
   "source": [
    "# Code Explanation: We subtract the timestamps and then shift the results up so the difference from n to n+1 is on row n.\n",
    "# Only if both events are in the same trace should include the row in the mean() calculation.\n",
    "shifted_deltatimes = df[timestamp_column].diff().shift(periods=-1)[df[case_column].shift(periods=-1) == df[case_column]]\n",
    "\n",
    "# The mean() function will return NaT if the input is empty, we replace this with pd.Timedelta(0)\n",
    "def replacenat(timedelta):\n",
    "    if (pd.isna(timedelta)):\n",
    "        return pd.Timedelta(0)\n",
    "    else:\n",
    "        return timedelta\n",
    "\n",
    "# list of unique events in the data\n",
    "unique_events = df[event_column].unique()"
   ]
  },
  {
   "cell_type": "code",
   "execution_count": 7,
   "metadata": {},
   "outputs": [],
   "source": [
    "# dictionary to store the most common (mode) event following the key event\n",
    "dict_common_next_event = {event: df[(df[case_column].shift(periods=-1) == df[case_column]) & (df[event_column].shift(periods=1) == event)][event_column].mode()[0] for event in unique_events}"
   ]
  },
  {
   "cell_type": "code",
   "execution_count": 8,
   "metadata": {},
   "outputs": [
    {
     "data": {
      "text/plain": "        index        eventID   case concept:name       case REG_DATE  \\\n78435   64935  16333760626688             185548 2011-11-15 13:42:45   \n78436   64936  16333760626689             185548 2011-11-15 13:42:45   \n78437   64938  16333760626690             185548 2011-11-15 13:42:45   \n78438   64939  16333760626691             185548 2011-11-15 13:42:45   \n78439   64989  16333760626692             185548 2011-11-15 13:42:45   \n...       ...             ...                ...                 ...   \n78605  165456  16333760626858             185548 2011-11-15 13:42:45   \n78606  165539  16333760626859             185548 2011-11-15 13:42:45   \n78607  165555  16333760626861             185548 2011-11-15 13:42:45   \n78608  165556  16333760626860             185548 2011-11-15 13:42:45   \n78609  165557  16333760626862             185548 2011-11-15 13:42:45   \n\n       case AMOUNT_REQ              event concept:name  \\\n78435            20000                     A_SUBMITTED   \n78436            20000               A_PARTLYSUBMITTED   \n78437            20000                   A_PREACCEPTED   \n78438            20000          W_Completeren aanvraag   \n78439            20000          W_Completeren aanvraag   \n...                ...                             ...   \n78605            20000  W_Nabellen incomplete dossiers   \n78606            20000  W_Nabellen incomplete dossiers   \n78607            20000                     O_CANCELLED   \n78608            20000                     A_CANCELLED   \n78609            20000  W_Nabellen incomplete dossiers   \n\n      event lifecycle:transition    event time:timestamp  Position  \\\n78435                   COMPLETE 2011-11-15 13:42:45.593         1   \n78436                   COMPLETE 2011-11-15 13:42:45.889         2   \n78437                   COMPLETE 2011-11-15 13:43:31.963         3   \n78438                   SCHEDULE 2011-11-15 13:43:32.557         4   \n78439                      START 2011-11-15 13:59:33.696         5   \n...                          ...                     ...       ...   \n78605                   COMPLETE 2012-01-17 10:54:42.893       171   \n78606                      START 2012-01-17 11:20:51.763       172   \n78607                   COMPLETE 2012-01-17 11:25:56.714       173   \n78608                   COMPLETE 2012-01-17 11:25:56.714       174   \n78609                   COMPLETE 2012-01-17 11:26:00.120       175   \n\n      Baseline Prediction for Next Activity  \n78435                     A_PARTLYSUBMITTED  \n78436                    W_Afhandelen leads  \n78437                W_Completeren aanvraag  \n78438                W_Completeren aanvraag  \n78439                W_Completeren aanvraag  \n...                                     ...  \n78605        W_Nabellen incomplete dossiers  \n78606        W_Nabellen incomplete dossiers  \n78607                            O_SELECTED  \n78608                           A_SUBMITTED  \n78609        W_Nabellen incomplete dossiers  \n\n[175 rows x 10 columns]",
      "text/html": "<div>\n<style scoped>\n    .dataframe tbody tr th:only-of-type {\n        vertical-align: middle;\n    }\n\n    .dataframe tbody tr th {\n        vertical-align: top;\n    }\n\n    .dataframe thead th {\n        text-align: right;\n    }\n</style>\n<table border=\"1\" class=\"dataframe\">\n  <thead>\n    <tr style=\"text-align: right;\">\n      <th></th>\n      <th>index</th>\n      <th>eventID</th>\n      <th>case concept:name</th>\n      <th>case REG_DATE</th>\n      <th>case AMOUNT_REQ</th>\n      <th>event concept:name</th>\n      <th>event lifecycle:transition</th>\n      <th>event time:timestamp</th>\n      <th>Position</th>\n      <th>Baseline Prediction for Next Activity</th>\n    </tr>\n  </thead>\n  <tbody>\n    <tr>\n      <th>78435</th>\n      <td>64935</td>\n      <td>16333760626688</td>\n      <td>185548</td>\n      <td>2011-11-15 13:42:45</td>\n      <td>20000</td>\n      <td>A_SUBMITTED</td>\n      <td>COMPLETE</td>\n      <td>2011-11-15 13:42:45.593</td>\n      <td>1</td>\n      <td>A_PARTLYSUBMITTED</td>\n    </tr>\n    <tr>\n      <th>78436</th>\n      <td>64936</td>\n      <td>16333760626689</td>\n      <td>185548</td>\n      <td>2011-11-15 13:42:45</td>\n      <td>20000</td>\n      <td>A_PARTLYSUBMITTED</td>\n      <td>COMPLETE</td>\n      <td>2011-11-15 13:42:45.889</td>\n      <td>2</td>\n      <td>W_Afhandelen leads</td>\n    </tr>\n    <tr>\n      <th>78437</th>\n      <td>64938</td>\n      <td>16333760626690</td>\n      <td>185548</td>\n      <td>2011-11-15 13:42:45</td>\n      <td>20000</td>\n      <td>A_PREACCEPTED</td>\n      <td>COMPLETE</td>\n      <td>2011-11-15 13:43:31.963</td>\n      <td>3</td>\n      <td>W_Completeren aanvraag</td>\n    </tr>\n    <tr>\n      <th>78438</th>\n      <td>64939</td>\n      <td>16333760626691</td>\n      <td>185548</td>\n      <td>2011-11-15 13:42:45</td>\n      <td>20000</td>\n      <td>W_Completeren aanvraag</td>\n      <td>SCHEDULE</td>\n      <td>2011-11-15 13:43:32.557</td>\n      <td>4</td>\n      <td>W_Completeren aanvraag</td>\n    </tr>\n    <tr>\n      <th>78439</th>\n      <td>64989</td>\n      <td>16333760626692</td>\n      <td>185548</td>\n      <td>2011-11-15 13:42:45</td>\n      <td>20000</td>\n      <td>W_Completeren aanvraag</td>\n      <td>START</td>\n      <td>2011-11-15 13:59:33.696</td>\n      <td>5</td>\n      <td>W_Completeren aanvraag</td>\n    </tr>\n    <tr>\n      <th>...</th>\n      <td>...</td>\n      <td>...</td>\n      <td>...</td>\n      <td>...</td>\n      <td>...</td>\n      <td>...</td>\n      <td>...</td>\n      <td>...</td>\n      <td>...</td>\n      <td>...</td>\n    </tr>\n    <tr>\n      <th>78605</th>\n      <td>165456</td>\n      <td>16333760626858</td>\n      <td>185548</td>\n      <td>2011-11-15 13:42:45</td>\n      <td>20000</td>\n      <td>W_Nabellen incomplete dossiers</td>\n      <td>COMPLETE</td>\n      <td>2012-01-17 10:54:42.893</td>\n      <td>171</td>\n      <td>W_Nabellen incomplete dossiers</td>\n    </tr>\n    <tr>\n      <th>78606</th>\n      <td>165539</td>\n      <td>16333760626859</td>\n      <td>185548</td>\n      <td>2011-11-15 13:42:45</td>\n      <td>20000</td>\n      <td>W_Nabellen incomplete dossiers</td>\n      <td>START</td>\n      <td>2012-01-17 11:20:51.763</td>\n      <td>172</td>\n      <td>W_Nabellen incomplete dossiers</td>\n    </tr>\n    <tr>\n      <th>78607</th>\n      <td>165555</td>\n      <td>16333760626861</td>\n      <td>185548</td>\n      <td>2011-11-15 13:42:45</td>\n      <td>20000</td>\n      <td>O_CANCELLED</td>\n      <td>COMPLETE</td>\n      <td>2012-01-17 11:25:56.714</td>\n      <td>173</td>\n      <td>O_SELECTED</td>\n    </tr>\n    <tr>\n      <th>78608</th>\n      <td>165556</td>\n      <td>16333760626860</td>\n      <td>185548</td>\n      <td>2011-11-15 13:42:45</td>\n      <td>20000</td>\n      <td>A_CANCELLED</td>\n      <td>COMPLETE</td>\n      <td>2012-01-17 11:25:56.714</td>\n      <td>174</td>\n      <td>A_SUBMITTED</td>\n    </tr>\n    <tr>\n      <th>78609</th>\n      <td>165557</td>\n      <td>16333760626862</td>\n      <td>185548</td>\n      <td>2011-11-15 13:42:45</td>\n      <td>20000</td>\n      <td>W_Nabellen incomplete dossiers</td>\n      <td>COMPLETE</td>\n      <td>2012-01-17 11:26:00.120</td>\n      <td>175</td>\n      <td>W_Nabellen incomplete dossiers</td>\n    </tr>\n  </tbody>\n</table>\n<p>175 rows × 10 columns</p>\n</div>"
     },
     "execution_count": 8,
     "metadata": {},
     "output_type": "execute_result"
    }
   ],
   "source": [
    "# We apply the dictionary to the dataset to get the baseline event prediction\n",
    "df[baseline_next_event_column] = [(dict_common_next_event[event] if (event in dict_common_next_event) else \"-\") for event in df[event_column]]\n",
    "\n",
    "df[df[case_column] == 185548]"
   ]
  },
  {
   "cell_type": "code",
   "execution_count": 9,
   "metadata": {},
   "outputs": [],
   "source": [
    "# dictionary to store the average time for each event\n",
    "dict_time_per_event = {event: replacenat(shifted_deltatimes[df[event_column] == event].mean()) for event in unique_events}"
   ]
  },
  {
   "cell_type": "code",
   "execution_count": 10,
   "metadata": {},
   "outputs": [
    {
     "data": {
      "text/plain": "        index        eventID   case concept:name       case REG_DATE  \\\n78435   64935  16333760626688             185548 2011-11-15 13:42:45   \n78436   64936  16333760626689             185548 2011-11-15 13:42:45   \n78437   64938  16333760626690             185548 2011-11-15 13:42:45   \n78438   64939  16333760626691             185548 2011-11-15 13:42:45   \n78439   64989  16333760626692             185548 2011-11-15 13:42:45   \n...       ...             ...                ...                 ...   \n78605  165456  16333760626858             185548 2011-11-15 13:42:45   \n78606  165539  16333760626859             185548 2011-11-15 13:42:45   \n78607  165555  16333760626861             185548 2011-11-15 13:42:45   \n78608  165556  16333760626860             185548 2011-11-15 13:42:45   \n78609  165557  16333760626862             185548 2011-11-15 13:42:45   \n\n       case AMOUNT_REQ              event concept:name  \\\n78435            20000                     A_SUBMITTED   \n78436            20000               A_PARTLYSUBMITTED   \n78437            20000                   A_PREACCEPTED   \n78438            20000          W_Completeren aanvraag   \n78439            20000          W_Completeren aanvraag   \n...                ...                             ...   \n78605            20000  W_Nabellen incomplete dossiers   \n78606            20000  W_Nabellen incomplete dossiers   \n78607            20000                     O_CANCELLED   \n78608            20000                     A_CANCELLED   \n78609            20000  W_Nabellen incomplete dossiers   \n\n      event lifecycle:transition    event time:timestamp  Position  \\\n78435                   COMPLETE 2011-11-15 13:42:45.593         1   \n78436                   COMPLETE 2011-11-15 13:42:45.889         2   \n78437                   COMPLETE 2011-11-15 13:43:31.963         3   \n78438                   SCHEDULE 2011-11-15 13:43:32.557         4   \n78439                      START 2011-11-15 13:59:33.696         5   \n...                          ...                     ...       ...   \n78605                   COMPLETE 2012-01-17 10:54:42.893       171   \n78606                      START 2012-01-17 11:20:51.763       172   \n78607                   COMPLETE 2012-01-17 11:25:56.714       173   \n78608                   COMPLETE 2012-01-17 11:25:56.714       174   \n78609                   COMPLETE 2012-01-17 11:26:00.120       175   \n\n      Baseline Prediction for Next Activity  \\\n78435                     A_PARTLYSUBMITTED   \n78436                    W_Afhandelen leads   \n78437                W_Completeren aanvraag   \n78438                W_Completeren aanvraag   \n78439                W_Completeren aanvraag   \n...                                     ...   \n78605        W_Nabellen incomplete dossiers   \n78606        W_Nabellen incomplete dossiers   \n78607                            O_SELECTED   \n78608                           A_SUBMITTED   \n78609        W_Nabellen incomplete dossiers   \n\n      Baseline Prediction for Next Timestamp  \n78435          2011-11-15 13:42:46.175640462  \n78436          2011-11-15 13:43:20.991779539  \n78437          2011-11-15 13:43:32.465771753  \n78438          2011-11-16 07:02:01.714379243  \n78439          2011-11-16 07:18:02.853379243  \n...                                      ...  \n78605          2012-01-17 18:08:57.358645946  \n78606          2012-01-17 18:35:06.228645946  \n78607          2012-01-17 11:25:58.074857292  \n78608          2012-01-17 11:28:58.061432222  \n78609          2012-01-17 18:40:14.585645946  \n\n[175 rows x 11 columns]",
      "text/html": "<div>\n<style scoped>\n    .dataframe tbody tr th:only-of-type {\n        vertical-align: middle;\n    }\n\n    .dataframe tbody tr th {\n        vertical-align: top;\n    }\n\n    .dataframe thead th {\n        text-align: right;\n    }\n</style>\n<table border=\"1\" class=\"dataframe\">\n  <thead>\n    <tr style=\"text-align: right;\">\n      <th></th>\n      <th>index</th>\n      <th>eventID</th>\n      <th>case concept:name</th>\n      <th>case REG_DATE</th>\n      <th>case AMOUNT_REQ</th>\n      <th>event concept:name</th>\n      <th>event lifecycle:transition</th>\n      <th>event time:timestamp</th>\n      <th>Position</th>\n      <th>Baseline Prediction for Next Activity</th>\n      <th>Baseline Prediction for Next Timestamp</th>\n    </tr>\n  </thead>\n  <tbody>\n    <tr>\n      <th>78435</th>\n      <td>64935</td>\n      <td>16333760626688</td>\n      <td>185548</td>\n      <td>2011-11-15 13:42:45</td>\n      <td>20000</td>\n      <td>A_SUBMITTED</td>\n      <td>COMPLETE</td>\n      <td>2011-11-15 13:42:45.593</td>\n      <td>1</td>\n      <td>A_PARTLYSUBMITTED</td>\n      <td>2011-11-15 13:42:46.175640462</td>\n    </tr>\n    <tr>\n      <th>78436</th>\n      <td>64936</td>\n      <td>16333760626689</td>\n      <td>185548</td>\n      <td>2011-11-15 13:42:45</td>\n      <td>20000</td>\n      <td>A_PARTLYSUBMITTED</td>\n      <td>COMPLETE</td>\n      <td>2011-11-15 13:42:45.889</td>\n      <td>2</td>\n      <td>W_Afhandelen leads</td>\n      <td>2011-11-15 13:43:20.991779539</td>\n    </tr>\n    <tr>\n      <th>78437</th>\n      <td>64938</td>\n      <td>16333760626690</td>\n      <td>185548</td>\n      <td>2011-11-15 13:42:45</td>\n      <td>20000</td>\n      <td>A_PREACCEPTED</td>\n      <td>COMPLETE</td>\n      <td>2011-11-15 13:43:31.963</td>\n      <td>3</td>\n      <td>W_Completeren aanvraag</td>\n      <td>2011-11-15 13:43:32.465771753</td>\n    </tr>\n    <tr>\n      <th>78438</th>\n      <td>64939</td>\n      <td>16333760626691</td>\n      <td>185548</td>\n      <td>2011-11-15 13:42:45</td>\n      <td>20000</td>\n      <td>W_Completeren aanvraag</td>\n      <td>SCHEDULE</td>\n      <td>2011-11-15 13:43:32.557</td>\n      <td>4</td>\n      <td>W_Completeren aanvraag</td>\n      <td>2011-11-16 07:02:01.714379243</td>\n    </tr>\n    <tr>\n      <th>78439</th>\n      <td>64989</td>\n      <td>16333760626692</td>\n      <td>185548</td>\n      <td>2011-11-15 13:42:45</td>\n      <td>20000</td>\n      <td>W_Completeren aanvraag</td>\n      <td>START</td>\n      <td>2011-11-15 13:59:33.696</td>\n      <td>5</td>\n      <td>W_Completeren aanvraag</td>\n      <td>2011-11-16 07:18:02.853379243</td>\n    </tr>\n    <tr>\n      <th>...</th>\n      <td>...</td>\n      <td>...</td>\n      <td>...</td>\n      <td>...</td>\n      <td>...</td>\n      <td>...</td>\n      <td>...</td>\n      <td>...</td>\n      <td>...</td>\n      <td>...</td>\n      <td>...</td>\n    </tr>\n    <tr>\n      <th>78605</th>\n      <td>165456</td>\n      <td>16333760626858</td>\n      <td>185548</td>\n      <td>2011-11-15 13:42:45</td>\n      <td>20000</td>\n      <td>W_Nabellen incomplete dossiers</td>\n      <td>COMPLETE</td>\n      <td>2012-01-17 10:54:42.893</td>\n      <td>171</td>\n      <td>W_Nabellen incomplete dossiers</td>\n      <td>2012-01-17 18:08:57.358645946</td>\n    </tr>\n    <tr>\n      <th>78606</th>\n      <td>165539</td>\n      <td>16333760626859</td>\n      <td>185548</td>\n      <td>2011-11-15 13:42:45</td>\n      <td>20000</td>\n      <td>W_Nabellen incomplete dossiers</td>\n      <td>START</td>\n      <td>2012-01-17 11:20:51.763</td>\n      <td>172</td>\n      <td>W_Nabellen incomplete dossiers</td>\n      <td>2012-01-17 18:35:06.228645946</td>\n    </tr>\n    <tr>\n      <th>78607</th>\n      <td>165555</td>\n      <td>16333760626861</td>\n      <td>185548</td>\n      <td>2011-11-15 13:42:45</td>\n      <td>20000</td>\n      <td>O_CANCELLED</td>\n      <td>COMPLETE</td>\n      <td>2012-01-17 11:25:56.714</td>\n      <td>173</td>\n      <td>O_SELECTED</td>\n      <td>2012-01-17 11:25:58.074857292</td>\n    </tr>\n    <tr>\n      <th>78608</th>\n      <td>165556</td>\n      <td>16333760626860</td>\n      <td>185548</td>\n      <td>2011-11-15 13:42:45</td>\n      <td>20000</td>\n      <td>A_CANCELLED</td>\n      <td>COMPLETE</td>\n      <td>2012-01-17 11:25:56.714</td>\n      <td>174</td>\n      <td>A_SUBMITTED</td>\n      <td>2012-01-17 11:28:58.061432222</td>\n    </tr>\n    <tr>\n      <th>78609</th>\n      <td>165557</td>\n      <td>16333760626862</td>\n      <td>185548</td>\n      <td>2011-11-15 13:42:45</td>\n      <td>20000</td>\n      <td>W_Nabellen incomplete dossiers</td>\n      <td>COMPLETE</td>\n      <td>2012-01-17 11:26:00.120</td>\n      <td>175</td>\n      <td>W_Nabellen incomplete dossiers</td>\n      <td>2012-01-17 18:40:14.585645946</td>\n    </tr>\n  </tbody>\n</table>\n<p>175 rows × 11 columns</p>\n</div>"
     },
     "execution_count": 10,
     "metadata": {},
     "output_type": "execute_result"
    }
   ],
   "source": [
    "# apply the average time to the dataframe to get the baseline time prediction\n",
    "df[baseline_next_timestamp_column] = [(time + dict_time_per_event[event] if (event in dict_time_per_event) else time) for event,time in zip(df[event_column], df[timestamp_column])]\n",
    "\n",
    "df[df[case_column] == 185548]"
   ]
  },
  {
   "cell_type": "code",
   "execution_count": 11,
   "metadata": {},
   "outputs": [
    {
     "data": {
      "text/plain": "    index        eventID   case concept:name       case REG_DATE  \\\n3       3  44968307589120             206327 2012-02-03 17:23:41   \n4       4  44968307589121             206327 2012-02-03 17:23:41   \n5       5  44968307589122             206327 2012-02-03 17:23:41   \n6       6  44968307589123             206327 2012-02-03 17:23:41   \n7     162  44968307589124             206327 2012-02-03 17:23:41   \n8     167  44968307589125             206327 2012-02-03 17:23:41   \n9     168  44968307589126             206327 2012-02-03 17:23:41   \n10    169  44968307589127             206327 2012-02-03 17:23:41   \n11    170  44968307589128             206327 2012-02-03 17:23:41   \n\n    case AMOUNT_REQ      event concept:name event lifecycle:transition  \\\n3              6000             A_SUBMITTED                   COMPLETE   \n4              6000       A_PARTLYSUBMITTED                   COMPLETE   \n5              6000           A_PREACCEPTED                   COMPLETE   \n6              6000  W_Completeren aanvraag                   SCHEDULE   \n7              6000  W_Completeren aanvraag                      START   \n8              6000  W_Completeren aanvraag                   COMPLETE   \n9              6000  W_Completeren aanvraag                      START   \n10             6000              A_DECLINED                   COMPLETE   \n11             6000  W_Completeren aanvraag                   COMPLETE   \n\n      event time:timestamp  Position Baseline Prediction for Next Activity  \\\n3  2012-02-03 17:23:41.949         1                     A_PARTLYSUBMITTED   \n4  2012-02-03 17:23:42.504         2                    W_Afhandelen leads   \n5  2012-02-03 17:24:23.379         3                W_Completeren aanvraag   \n6  2012-02-03 17:24:24.052         4                W_Completeren aanvraag   \n7  2012-02-03 20:52:43.090         5                W_Completeren aanvraag   \n8  2012-02-03 21:01:19.935         6                W_Completeren aanvraag   \n9  2012-02-03 21:01:31.267         7                W_Completeren aanvraag   \n10 2012-02-03 21:06:24.391         8                           A_SUBMITTED   \n11 2012-02-03 21:06:28.094         9                W_Completeren aanvraag   \n\n   Baseline Prediction for Next Timestamp  \n3           2012-02-03 17:23:42.531640462  \n4           2012-02-03 17:24:17.606779539  \n5           2012-02-03 17:24:23.881771753  \n6           2012-02-04 10:42:53.209379243  \n7           2012-02-04 14:11:12.247379243  \n8           2012-02-04 14:19:49.092379243  \n9           2012-02-04 14:20:00.424379243  \n10          2012-02-03 21:06:27.833911034  \n11          2012-02-04 14:24:57.251379243  ",
      "text/html": "<div>\n<style scoped>\n    .dataframe tbody tr th:only-of-type {\n        vertical-align: middle;\n    }\n\n    .dataframe tbody tr th {\n        vertical-align: top;\n    }\n\n    .dataframe thead th {\n        text-align: right;\n    }\n</style>\n<table border=\"1\" class=\"dataframe\">\n  <thead>\n    <tr style=\"text-align: right;\">\n      <th></th>\n      <th>index</th>\n      <th>eventID</th>\n      <th>case concept:name</th>\n      <th>case REG_DATE</th>\n      <th>case AMOUNT_REQ</th>\n      <th>event concept:name</th>\n      <th>event lifecycle:transition</th>\n      <th>event time:timestamp</th>\n      <th>Position</th>\n      <th>Baseline Prediction for Next Activity</th>\n      <th>Baseline Prediction for Next Timestamp</th>\n    </tr>\n  </thead>\n  <tbody>\n    <tr>\n      <th>3</th>\n      <td>3</td>\n      <td>44968307589120</td>\n      <td>206327</td>\n      <td>2012-02-03 17:23:41</td>\n      <td>6000</td>\n      <td>A_SUBMITTED</td>\n      <td>COMPLETE</td>\n      <td>2012-02-03 17:23:41.949</td>\n      <td>1</td>\n      <td>A_PARTLYSUBMITTED</td>\n      <td>2012-02-03 17:23:42.531640462</td>\n    </tr>\n    <tr>\n      <th>4</th>\n      <td>4</td>\n      <td>44968307589121</td>\n      <td>206327</td>\n      <td>2012-02-03 17:23:41</td>\n      <td>6000</td>\n      <td>A_PARTLYSUBMITTED</td>\n      <td>COMPLETE</td>\n      <td>2012-02-03 17:23:42.504</td>\n      <td>2</td>\n      <td>W_Afhandelen leads</td>\n      <td>2012-02-03 17:24:17.606779539</td>\n    </tr>\n    <tr>\n      <th>5</th>\n      <td>5</td>\n      <td>44968307589122</td>\n      <td>206327</td>\n      <td>2012-02-03 17:23:41</td>\n      <td>6000</td>\n      <td>A_PREACCEPTED</td>\n      <td>COMPLETE</td>\n      <td>2012-02-03 17:24:23.379</td>\n      <td>3</td>\n      <td>W_Completeren aanvraag</td>\n      <td>2012-02-03 17:24:23.881771753</td>\n    </tr>\n    <tr>\n      <th>6</th>\n      <td>6</td>\n      <td>44968307589123</td>\n      <td>206327</td>\n      <td>2012-02-03 17:23:41</td>\n      <td>6000</td>\n      <td>W_Completeren aanvraag</td>\n      <td>SCHEDULE</td>\n      <td>2012-02-03 17:24:24.052</td>\n      <td>4</td>\n      <td>W_Completeren aanvraag</td>\n      <td>2012-02-04 10:42:53.209379243</td>\n    </tr>\n    <tr>\n      <th>7</th>\n      <td>162</td>\n      <td>44968307589124</td>\n      <td>206327</td>\n      <td>2012-02-03 17:23:41</td>\n      <td>6000</td>\n      <td>W_Completeren aanvraag</td>\n      <td>START</td>\n      <td>2012-02-03 20:52:43.090</td>\n      <td>5</td>\n      <td>W_Completeren aanvraag</td>\n      <td>2012-02-04 14:11:12.247379243</td>\n    </tr>\n    <tr>\n      <th>8</th>\n      <td>167</td>\n      <td>44968307589125</td>\n      <td>206327</td>\n      <td>2012-02-03 17:23:41</td>\n      <td>6000</td>\n      <td>W_Completeren aanvraag</td>\n      <td>COMPLETE</td>\n      <td>2012-02-03 21:01:19.935</td>\n      <td>6</td>\n      <td>W_Completeren aanvraag</td>\n      <td>2012-02-04 14:19:49.092379243</td>\n    </tr>\n    <tr>\n      <th>9</th>\n      <td>168</td>\n      <td>44968307589126</td>\n      <td>206327</td>\n      <td>2012-02-03 17:23:41</td>\n      <td>6000</td>\n      <td>W_Completeren aanvraag</td>\n      <td>START</td>\n      <td>2012-02-03 21:01:31.267</td>\n      <td>7</td>\n      <td>W_Completeren aanvraag</td>\n      <td>2012-02-04 14:20:00.424379243</td>\n    </tr>\n    <tr>\n      <th>10</th>\n      <td>169</td>\n      <td>44968307589127</td>\n      <td>206327</td>\n      <td>2012-02-03 17:23:41</td>\n      <td>6000</td>\n      <td>A_DECLINED</td>\n      <td>COMPLETE</td>\n      <td>2012-02-03 21:06:24.391</td>\n      <td>8</td>\n      <td>A_SUBMITTED</td>\n      <td>2012-02-03 21:06:27.833911034</td>\n    </tr>\n    <tr>\n      <th>11</th>\n      <td>170</td>\n      <td>44968307589128</td>\n      <td>206327</td>\n      <td>2012-02-03 17:23:41</td>\n      <td>6000</td>\n      <td>W_Completeren aanvraag</td>\n      <td>COMPLETE</td>\n      <td>2012-02-03 21:06:28.094</td>\n      <td>9</td>\n      <td>W_Completeren aanvraag</td>\n      <td>2012-02-04 14:24:57.251379243</td>\n    </tr>\n  </tbody>\n</table>\n</div>"
     },
     "execution_count": 11,
     "metadata": {},
     "output_type": "execute_result"
    }
   ],
   "source": [
    "# Applying the baseline predictions to the test dataset\n",
    "df_test[baseline_next_event_column] = [(dict_common_next_event[event] if (event in dict_common_next_event) else \"-\") for event in df_test[event_column]]\n",
    "\n",
    "df_test[baseline_next_timestamp_column] = [(time + dict_time_per_event[event] if (event in dict_time_per_event) else time) for event,time in zip(df_test[event_column], df_test[timestamp_column])]\n",
    "\n",
    "df_test[df_test[case_column] == 206327]"
   ]
  },
  {
   "cell_type": "code",
   "execution_count": 12,
   "metadata": {},
   "outputs": [
    {
     "data": {
      "text/plain": "(64.9130980638327, 64.06370976661874)"
     },
     "execution_count": 12,
     "metadata": {},
     "output_type": "execute_result"
    }
   ],
   "source": [
    "# Accuracy % of event predictions:\n",
    "\n",
    "training_event_accuracy = len(df[(df[baseline_next_event_column].shift(periods=1)==df[event_column]) & (df[case_column].shift(periods=1) == df[case_column])]) * 100 / len(df[df[case_column].shift(periods=1) == df[case_column]])\n",
    "\n",
    "test_event_accuracy = len(df_test[(df_test[baseline_next_event_column].shift(periods=1)==df_test[event_column]) & (df_test[case_column].shift(periods=1) == df_test[case_column])]) * 100 / len(df_test[df_test[case_column].shift(periods=1) == df_test[case_column]])\n",
    "\n",
    "training_event_accuracy, test_event_accuracy"
   ]
  },
  {
   "cell_type": "code",
   "execution_count": 13,
   "metadata": {},
   "outputs": [
    {
     "data": {
      "text/plain": "(Timedelta('0 days 16:20:59.739888261'),\n Timedelta('0 days 14:43:13.416911984'))"
     },
     "execution_count": 13,
     "metadata": {},
     "output_type": "execute_result"
    }
   ],
   "source": [
    "# Mean Absolute Error of time predictions:\n",
    "\n",
    "training_time_MAE = abs(df[timestamp_column] - df[baseline_next_timestamp_column].shift(periods=1))[df[case_column].shift(periods=1) == df[case_column]].mean()\n",
    "\n",
    "test_time_MAE = abs(df_test[timestamp_column] - df_test[baseline_next_timestamp_column].shift(periods=1))[df_test[case_column].shift(periods=1) == df_test[case_column]].mean()\n",
    "\n",
    "training_time_MAE, test_time_MAE"
   ]
  },
  {
   "cell_type": "code",
   "execution_count": null,
   "metadata": {},
   "outputs": [],
   "source": []
  }
 ],
 "metadata": {
  "interpreter": {
   "hash": "450e333e9284914ea1fdff9838c0f3ff8e2f8f37f2f7a4d8dce33ea62376eaf6"
  },
  "kernelspec": {
   "display_name": "Python 3.9.7 ('base')",
   "language": "python",
   "name": "python3"
  },
  "language_info": {
   "codemirror_mode": {
    "name": "ipython",
    "version": 3
   },
   "file_extension": ".py",
   "mimetype": "text/x-python",
   "name": "python",
   "nbconvert_exporter": "python",
   "pygments_lexer": "ipython3",
   "version": "3.9.7"
  },
  "orig_nbformat": 4
 },
 "nbformat": 4,
 "nbformat_minor": 2
}