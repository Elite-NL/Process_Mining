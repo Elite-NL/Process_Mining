{
 "cells": [
  {
   "cell_type": "code",
   "execution_count": 7,
   "id": "65bd97da",
   "metadata": {},
   "outputs": [],
   "source": [
    "# Some install calls\n",
    "#!conda install -c conda-forge ciso8601\n",
    "#!pip install pm4py"
   ]
  },
  {
   "cell_type": "code",
   "execution_count": 8,
   "id": "8c2b6831",
   "metadata": {},
   "outputs": [],
   "source": [
    "import pandas as pd\n",
    "import pm4py\n",
    "from pm4py.objects.log.util import func as functools"
   ]
  },
  {
   "cell_type": "code",
   "execution_count": 9,
   "id": "8cb7c0ef",
   "metadata": {},
   "outputs": [
    {
     "data": {
      "text/plain": "array([             0,              1,              2, ...,\n       38835094290530, 35858681954366, 35858681954367], dtype=int64)"
     },
     "execution_count": 9,
     "metadata": {},
     "output_type": "execute_result"
    }
   ],
   "source": [
    "file = \"data/BPI_Challenge_2012-training.csv\"\n",
    "example = pd.read_csv(file)\n",
    "example['eventID '].unique()"
   ]
  },
  {
   "cell_type": "code",
   "execution_count": 10,
   "id": "6d458f77",
   "metadata": {},
   "outputs": [],
   "source": [
    "def import_csv1(file_path):\n",
    "    event_log = pd.read_csv(file_path, sep=',')\n",
    "    num_events = len(event_log)\n",
    "    num_cases = len(event_log['case concept:name'].unique()) \n",
    "    # replaced  '.case_id'  with  '['case concept:name']'\n",
    "    print(\"Number of events: {}\\nNumber of cases: {}\".format(num_events, num_cases))"
   ]
  },
  {
   "cell_type": "code",
   "execution_count": 16,
   "id": "7c5c5735",
   "metadata": {},
   "outputs": [],
   "source": [
    "def import_csv2(file_path):\n",
    "    event_log = pd.read_csv(file_path, sep=',')\n",
    "    event_log = pm4py.format_dataframe(event_log, case_id = 'case concept:name', activity_key = 'event concept:name',\n",
    "                                      timestamp_key = 'event time:timestamp', timest_format = '%Y-%m-%d %H:%M:%Sz')\n",
    "    start_activities = pm4py.get_start_activities(event_log)\n",
    "    end_activities = pm4py.get_end_activities(event_log)\n",
    "    print(\"Start activities: {}\\n\\nEnd activities: {}\".format(start_activities, end_activities))"
   ]
  },
  {
   "cell_type": "code",
   "execution_count": 17,
   "id": "9b2f131a",
   "metadata": {
    "pycharm": {
     "name": "#%%\n"
    }
   },
   "outputs": [
    {
     "name": "stdout",
     "output_type": "stream",
     "text": [
      "     eventID   case concept:name                  case REG_DATE  \\\n",
      "0           0             173688  2011-10-01T00:38:44.546+02:00   \n",
      "1           1             173688  2011-10-01T00:38:44.546+02:00   \n",
      "2           2             173688  2011-10-01T00:38:44.546+02:00   \n",
      "3           3             173688  2011-10-01T00:38:44.546+02:00   \n",
      "4  4294967296             173691  2011-10-01T08:08:58.256+02:00   \n",
      "\n",
      "   case AMOUNT_REQ      event concept:name event lifecycle:transition  \\\n",
      "0            20000             A_SUBMITTED                   COMPLETE   \n",
      "1            20000       A_PARTLYSUBMITTED                   COMPLETE   \n",
      "2            20000           A_PREACCEPTED                   COMPLETE   \n",
      "3            20000  W_Completeren aanvraag                   SCHEDULE   \n",
      "4             5000             A_SUBMITTED                   COMPLETE   \n",
      "\n",
      "      event time:timestamp  \n",
      "0  01-10-2011 00:38:44.546  \n",
      "1  01-10-2011 00:38:44.880  \n",
      "2  01-10-2011 00:39:37.906  \n",
      "3  01-10-2011 00:39:38.875  \n",
      "4  01-10-2011 08:08:58.256  \n",
      "Start activities: {'A_SUBMITTED': 10469}\n",
      "\n",
      "End activities: {'A_DECLINED': 2690, 'W_Valideren aanvraag': 2293, 'W_Afhandelen leads': 1846, 'W_Completeren aanvraag': 1470, 'W_Nabellen offertes': 905, 'A_CANCELLED': 619, 'W_Nabellen incomplete dossiers': 338, 'O_CANCELLED': 254, 'W_Beoordelen fraude': 49, 'W_Wijzigen contractgegevens': 4, 'A_ACTIVATED': 1}\n"
     ]
    },
    {
     "data": {
      "text/plain": "              eventID   case concept:name                  case REG_DATE  \\\n0                    0             173688  2011-10-01T00:38:44.546+02:00   \n1                    1             173688  2011-10-01T00:38:44.546+02:00   \n2                    2             173688  2011-10-01T00:38:44.546+02:00   \n3                    3             173688  2011-10-01T00:38:44.546+02:00   \n89                   4             173688  2011-10-01T00:38:44.546+02:00   \n...                ...                ...                            ...   \n199718  44955422687236             206318  2012-02-03T17:07:38.334+01:00   \n199719  44955422687237             206318  2012-02-03T17:07:38.334+01:00   \n199654  44959717654528             206321  2012-02-03T17:08:39.199+01:00   \n199655  44959717654529             206321  2012-02-03T17:08:39.199+01:00   \n199657  44959717654530             206321  2012-02-03T17:08:39.199+01:00   \n\n        case AMOUNT_REQ      event concept:name event lifecycle:transition  \\\n0                 20000             A_SUBMITTED                   COMPLETE   \n1                 20000       A_PARTLYSUBMITTED                   COMPLETE   \n2                 20000           A_PREACCEPTED                   COMPLETE   \n3                 20000  W_Completeren aanvraag                   SCHEDULE   \n89                20000  W_Completeren aanvraag                      START   \n...                 ...                     ...                        ...   \n199718             5000              A_DECLINED                   COMPLETE   \n199719             5000      W_Afhandelen leads                   COMPLETE   \n199654             2000             A_SUBMITTED                   COMPLETE   \n199655             2000       A_PARTLYSUBMITTED                   COMPLETE   \n199657             2000              A_DECLINED                   COMPLETE   \n\n           event time:timestamp case:concept:name            concept:name  \\\n0       01-10-2011 00:38:44.546            173688             A_SUBMITTED   \n1       01-10-2011 00:38:44.880            173688       A_PARTLYSUBMITTED   \n2       01-10-2011 00:39:37.906            173688           A_PREACCEPTED   \n3       01-10-2011 00:39:38.875            173688  W_Completeren aanvraag   \n89      01-10-2011 11:36:46.437            173688  W_Completeren aanvraag   \n...                         ...               ...                     ...   \n199718  03-02-2012 17:55:57.294            206318              A_DECLINED   \n199719  03-02-2012 17:56:00.998            206318      W_Afhandelen leads   \n199654  03-02-2012 17:08:39.200            206321             A_SUBMITTED   \n199655  03-02-2012 17:08:39.459            206321       A_PARTLYSUBMITTED   \n199657  03-02-2012 17:09:19.112            206321              A_DECLINED   \n\n                       time:timestamp  @@index  \n0       2011-10-01T00:38:44.546+02:00        0  \n1       2011-10-01T00:38:44.546+02:00        1  \n2       2011-10-01T00:38:44.546+02:00        2  \n3       2011-10-01T00:38:44.546+02:00        3  \n89      2011-10-01T00:38:44.546+02:00       89  \n...                               ...      ...  \n199718  2012-02-03T17:07:38.334+01:00   199718  \n199719  2012-02-03T17:07:38.334+01:00   199719  \n199654  2012-02-03T17:08:39.199+01:00   199654  \n199655  2012-02-03T17:08:39.199+01:00   199655  \n199657  2012-02-03T17:08:39.199+01:00   199657  \n\n[214377 rows x 11 columns]",
      "text/html": "<div>\n<style scoped>\n    .dataframe tbody tr th:only-of-type {\n        vertical-align: middle;\n    }\n\n    .dataframe tbody tr th {\n        vertical-align: top;\n    }\n\n    .dataframe thead th {\n        text-align: right;\n    }\n</style>\n<table border=\"1\" class=\"dataframe\">\n  <thead>\n    <tr style=\"text-align: right;\">\n      <th></th>\n      <th>eventID</th>\n      <th>case concept:name</th>\n      <th>case REG_DATE</th>\n      <th>case AMOUNT_REQ</th>\n      <th>event concept:name</th>\n      <th>event lifecycle:transition</th>\n      <th>event time:timestamp</th>\n      <th>case:concept:name</th>\n      <th>concept:name</th>\n      <th>time:timestamp</th>\n      <th>@@index</th>\n    </tr>\n  </thead>\n  <tbody>\n    <tr>\n      <th>0</th>\n      <td>0</td>\n      <td>173688</td>\n      <td>2011-10-01T00:38:44.546+02:00</td>\n      <td>20000</td>\n      <td>A_SUBMITTED</td>\n      <td>COMPLETE</td>\n      <td>01-10-2011 00:38:44.546</td>\n      <td>173688</td>\n      <td>A_SUBMITTED</td>\n      <td>2011-10-01T00:38:44.546+02:00</td>\n      <td>0</td>\n    </tr>\n    <tr>\n      <th>1</th>\n      <td>1</td>\n      <td>173688</td>\n      <td>2011-10-01T00:38:44.546+02:00</td>\n      <td>20000</td>\n      <td>A_PARTLYSUBMITTED</td>\n      <td>COMPLETE</td>\n      <td>01-10-2011 00:38:44.880</td>\n      <td>173688</td>\n      <td>A_PARTLYSUBMITTED</td>\n      <td>2011-10-01T00:38:44.546+02:00</td>\n      <td>1</td>\n    </tr>\n    <tr>\n      <th>2</th>\n      <td>2</td>\n      <td>173688</td>\n      <td>2011-10-01T00:38:44.546+02:00</td>\n      <td>20000</td>\n      <td>A_PREACCEPTED</td>\n      <td>COMPLETE</td>\n      <td>01-10-2011 00:39:37.906</td>\n      <td>173688</td>\n      <td>A_PREACCEPTED</td>\n      <td>2011-10-01T00:38:44.546+02:00</td>\n      <td>2</td>\n    </tr>\n    <tr>\n      <th>3</th>\n      <td>3</td>\n      <td>173688</td>\n      <td>2011-10-01T00:38:44.546+02:00</td>\n      <td>20000</td>\n      <td>W_Completeren aanvraag</td>\n      <td>SCHEDULE</td>\n      <td>01-10-2011 00:39:38.875</td>\n      <td>173688</td>\n      <td>W_Completeren aanvraag</td>\n      <td>2011-10-01T00:38:44.546+02:00</td>\n      <td>3</td>\n    </tr>\n    <tr>\n      <th>89</th>\n      <td>4</td>\n      <td>173688</td>\n      <td>2011-10-01T00:38:44.546+02:00</td>\n      <td>20000</td>\n      <td>W_Completeren aanvraag</td>\n      <td>START</td>\n      <td>01-10-2011 11:36:46.437</td>\n      <td>173688</td>\n      <td>W_Completeren aanvraag</td>\n      <td>2011-10-01T00:38:44.546+02:00</td>\n      <td>89</td>\n    </tr>\n    <tr>\n      <th>...</th>\n      <td>...</td>\n      <td>...</td>\n      <td>...</td>\n      <td>...</td>\n      <td>...</td>\n      <td>...</td>\n      <td>...</td>\n      <td>...</td>\n      <td>...</td>\n      <td>...</td>\n      <td>...</td>\n    </tr>\n    <tr>\n      <th>199718</th>\n      <td>44955422687236</td>\n      <td>206318</td>\n      <td>2012-02-03T17:07:38.334+01:00</td>\n      <td>5000</td>\n      <td>A_DECLINED</td>\n      <td>COMPLETE</td>\n      <td>03-02-2012 17:55:57.294</td>\n      <td>206318</td>\n      <td>A_DECLINED</td>\n      <td>2012-02-03T17:07:38.334+01:00</td>\n      <td>199718</td>\n    </tr>\n    <tr>\n      <th>199719</th>\n      <td>44955422687237</td>\n      <td>206318</td>\n      <td>2012-02-03T17:07:38.334+01:00</td>\n      <td>5000</td>\n      <td>W_Afhandelen leads</td>\n      <td>COMPLETE</td>\n      <td>03-02-2012 17:56:00.998</td>\n      <td>206318</td>\n      <td>W_Afhandelen leads</td>\n      <td>2012-02-03T17:07:38.334+01:00</td>\n      <td>199719</td>\n    </tr>\n    <tr>\n      <th>199654</th>\n      <td>44959717654528</td>\n      <td>206321</td>\n      <td>2012-02-03T17:08:39.199+01:00</td>\n      <td>2000</td>\n      <td>A_SUBMITTED</td>\n      <td>COMPLETE</td>\n      <td>03-02-2012 17:08:39.200</td>\n      <td>206321</td>\n      <td>A_SUBMITTED</td>\n      <td>2012-02-03T17:08:39.199+01:00</td>\n      <td>199654</td>\n    </tr>\n    <tr>\n      <th>199655</th>\n      <td>44959717654529</td>\n      <td>206321</td>\n      <td>2012-02-03T17:08:39.199+01:00</td>\n      <td>2000</td>\n      <td>A_PARTLYSUBMITTED</td>\n      <td>COMPLETE</td>\n      <td>03-02-2012 17:08:39.459</td>\n      <td>206321</td>\n      <td>A_PARTLYSUBMITTED</td>\n      <td>2012-02-03T17:08:39.199+01:00</td>\n      <td>199655</td>\n    </tr>\n    <tr>\n      <th>199657</th>\n      <td>44959717654530</td>\n      <td>206321</td>\n      <td>2012-02-03T17:08:39.199+01:00</td>\n      <td>2000</td>\n      <td>A_DECLINED</td>\n      <td>COMPLETE</td>\n      <td>03-02-2012 17:09:19.112</td>\n      <td>206321</td>\n      <td>A_DECLINED</td>\n      <td>2012-02-03T17:08:39.199+01:00</td>\n      <td>199657</td>\n    </tr>\n  </tbody>\n</table>\n<p>214377 rows × 11 columns</p>\n</div>"
     },
     "execution_count": 17,
     "metadata": {},
     "output_type": "execute_result"
    }
   ],
   "source": [
    "df = import_csv2(file)\n",
    "df"
   ]
  }
 ],
 "metadata": {
  "kernelspec": {
   "display_name": "Python 3 (ipykernel)",
   "language": "python",
   "name": "python3"
  },
  "language_info": {
   "codemirror_mode": {
    "name": "ipython",
    "version": 3
   },
   "file_extension": ".py",
   "mimetype": "text/x-python",
   "name": "python",
   "nbconvert_exporter": "python",
   "pygments_lexer": "ipython3",
   "version": "3.7.6"
  },
  "toc": {
   "base_numbering": 1,
   "nav_menu": {},
   "number_sections": false,
   "sideBar": true,
   "skip_h1_title": false,
   "title_cell": "Table of Contents",
   "title_sidebar": "Contents",
   "toc_cell": false,
   "toc_position": {},
   "toc_section_display": true,
   "toc_window_display": false
  }
 },
 "nbformat": 4,
 "nbformat_minor": 5
}