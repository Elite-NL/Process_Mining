{
 "cells": [
  {
   "cell_type": "code",
   "execution_count": 1,
   "id": "65bd97da",
   "metadata": {},
   "outputs": [
    {
     "name": "stdout",
     "output_type": "stream",
     "text": [
      "^C\n",
      "^C\n"
     ]
    }
   ],
   "source": [
    "# Some install calls\n",
    "#!conda install -c conda-forge ciso8601\n",
    "#!pip install pm4py"
   ]
  },
  {
   "cell_type": "code",
   "execution_count": 2,
   "id": "8c2b6831",
   "metadata": {},
   "outputs": [],
   "source": [
    "import pandas as pd\n",
    "import pm4py\n",
    "from pm4py.objects.log.util import func as functools"
   ]
  },
  {
   "cell_type": "code",
   "execution_count": 4,
   "id": "8cb7c0ef",
   "metadata": {},
   "outputs": [
    {
     "data": {
      "text/plain": "array([             0,              1,              2, ...,\n       38835094290530, 35858681954366, 35858681954367], dtype=int64)"
     },
     "execution_count": 4,
     "metadata": {},
     "output_type": "execute_result"
    }
   ],
   "source": [
    "file = \"data/BPI_Challenge_2012-training.csv\"\n",
    "example = pd.read_csv(file)\n",
    "example['eventID '].unique()"
   ]
  },
  {
   "cell_type": "code",
   "execution_count": 5,
   "id": "6d458f77",
   "metadata": {},
   "outputs": [],
   "source": [
    "def import_csv1(file_path):\n",
    "    event_log = pd.read_csv(file_path, sep=',')\n",
    "    num_events = len(event_log)\n",
    "    num_cases = len(event_log['case concept:name'].unique()) \n",
    "    # replaced  '.case_id'  with  '['case concept:name']'\n",
    "    print(\"Number of events: {}\\nNumber of cases: {}\".format(num_events, num_cases))"
   ]
  },
  {
   "cell_type": "code",
   "execution_count": 6,
   "id": "7c5c5735",
   "metadata": {},
   "outputs": [],
   "source": [
    "def import_csv2(file_path):\n",
    "    event_log = pd.read_csv(file_path, sep=',')\n",
    "    event_log = pm4py.format_dataframe(event_log, case_id = 'case concept:name', activity_key = 'event concept:name',\n",
    "                                      timestamp_key = 'event time:timestamp', timest_format = '%Y-%m-%d %H:%M:%Sz')\n",
    "    start_activities = pm4py.get_start_activities(event_log)\n",
    "    end_activities = pm4py.get_end_activities(event_log)\n",
    "    print(\"Start activities: {}\\n\\nEnd activities: {}\".format(start_activities, end_activities))"
   ]
  },
  {
   "cell_type": "code",
   "execution_count": 7,
   "id": "9b2f131a",
   "metadata": {},
   "outputs": [
    {
     "name": "stdout",
     "output_type": "stream",
     "text": [
      "Start activities: {'A_SUBMITTED': 7986, 'W_Nabellen offertes': 1604, 'W_Completeren aanvraag': 387, 'W_Valideren aanvraag': 288, 'W_Nabellen incomplete dossiers': 146, 'W_Afhandelen leads': 20, 'A_CANCELLED': 19, 'O_CANCELLED': 15, 'W_Beoordelen fraude': 3, 'W_Wijzigen contractgegevens': 1}\n",
      "\n",
      "End activities: {'A_DECLINED': 2690, 'W_Completeren aanvraag': 2229, 'W_Nabellen offertes': 2057, 'W_Afhandelen leads': 1871, 'W_Valideren aanvraag': 1163, 'W_Nabellen incomplete dossiers': 309, 'A_CANCELLED': 61, 'W_Beoordelen fraude': 50, 'O_CANCELLED': 37, 'W_Wijzigen contractgegevens': 2}\n"
     ]
    }
   ],
   "source": [
    "df = import_csv2(file)\n",
    "df"
   ]
  }
 ],
 "metadata": {
  "kernelspec": {
   "display_name": "Python 3 (ipykernel)",
   "language": "python",
   "name": "python3"
  },
  "language_info": {
   "codemirror_mode": {
    "name": "ipython",
    "version": 3
   },
   "file_extension": ".py",
   "mimetype": "text/x-python",
   "name": "python",
   "nbconvert_exporter": "python",
   "pygments_lexer": "ipython3",
   "version": "3.7.6"
  },
  "toc": {
   "base_numbering": 1,
   "nav_menu": {},
   "number_sections": false,
   "sideBar": true,
   "skip_h1_title": false,
   "title_cell": "Table of Contents",
   "title_sidebar": "Contents",
   "toc_cell": false,
   "toc_position": {},
   "toc_section_display": true,
   "toc_window_display": false
  }
 },
 "nbformat": 4,
 "nbformat_minor": 5
}