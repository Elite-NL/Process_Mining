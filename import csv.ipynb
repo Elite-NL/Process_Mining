{
 "cells": [
  {
   "cell_type": "code",
   "execution_count": 1,
   "id": "65bd97da",
   "metadata": {},
   "outputs": [
    {
     "name": "stdout",
     "output_type": "stream",
     "text": [
      "^C\n",
      "^C\n"
     ]
    }
   ],
   "source": [
    "# Some install calls\n",
    "#!conda install -c conda-forge ciso8601\n",
    "#!pip install pm4py"
   ]
  },
  {
   "cell_type": "code",
   "execution_count": 5,
   "id": "8c2b6831",
   "metadata": {},
   "outputs": [],
   "source": [
    "import pandas as pd\n",
    "import pm4py\n",
    "from pm4py.objects.log.util import func as functools"
   ]
  },
  {
   "cell_type": "code",
   "execution_count": 49,
   "id": "8cb7c0ef",
   "metadata": {},
   "outputs": [
    {
     "data": {
      "text/plain": [
       "array([44964012621824, 44964012621825, 44964012621826, ...,\n",
       "       49495203119136, 52342766436386, 52342766436387], dtype=int64)"
      ]
     },
     "execution_count": 49,
     "metadata": {},
     "output_type": "execute_result"
    }
   ],
   "source": [
    "file = \"BPI_Challenge_2012-test.csv\"\n",
    "example = pd.read_csv(file)\n",
    "example['eventID '].unique()"
   ]
  },
  {
   "cell_type": "code",
   "execution_count": 57,
   "id": "6d458f77",
   "metadata": {},
   "outputs": [],
   "source": [
    "def import_csv1(file_path):\n",
    "    event_log = pd.read_csv(file_path, sep=',')\n",
    "    num_events = len(event_log)\n",
    "    num_cases = len(event_log['case concept:name'].unique()) \n",
    "    # replaced  '.case_id'  with  '['case concept:name']'\n",
    "    print(\"Number of events: {}\\nNumber of cases: {}\".format(num_events, num_cases))"
   ]
  },
  {
   "cell_type": "code",
   "execution_count": 62,
   "id": "7c5c5735",
   "metadata": {},
   "outputs": [],
   "source": [
    "def import_csv2(file_path):\n",
    "    event_log = pd.read_csv(file_path, sep=',')\n",
    "    event_log = pm4py.format_dataframe(event_log, case_id = 'case concept:name', activity_key = 'event concept:name',\n",
    "                                      timestamp_key = 'event time:timestamp', timest_format = '%Y-%m-%d %H:%M:%Sz')\n",
    "    start_activities = pm4py.get_start_activities(event_log)\n",
    "    end_activities = pm4py.get_end_activities(event_log)\n",
    "    print(\"Start activities: {}\\n\\nEnd activities: {}\".format(start_activities, end_activities))"
   ]
  },
  {
   "cell_type": "code",
   "execution_count": 63,
   "id": "9b2f131a",
   "metadata": {},
   "outputs": [
    {
     "name": "stdout",
     "output_type": "stream",
     "text": [
      "Start activities: {'A_SUBMITTED': 1890, 'W_Nabellen offertes': 488, 'W_Completeren aanvraag': 134, 'W_Valideren aanvraag': 49, 'W_Nabellen incomplete dossiers': 45, 'W_Afhandelen leads': 11, 'W_Beoordelen fraude': 1}\n",
      "\n",
      "End activities: {'A_DECLINED': 739, 'W_Completeren aanvraag': 643, 'W_Nabellen offertes': 523, 'W_Afhandelen leads': 400, 'W_Valideren aanvraag': 225, 'W_Nabellen incomplete dossiers': 79, 'W_Beoordelen fraude': 9}\n"
     ]
    }
   ],
   "source": [
    "import_csv2(file)"
   ]
  }
 ],
 "metadata": {
  "kernelspec": {
   "display_name": "Python 3 (ipykernel)",
   "language": "python",
   "name": "python3"
  },
  "language_info": {
   "codemirror_mode": {
    "name": "ipython",
    "version": 3
   },
   "file_extension": ".py",
   "mimetype": "text/x-python",
   "name": "python",
   "nbconvert_exporter": "python",
   "pygments_lexer": "ipython3",
   "version": "3.7.6"
  },
  "toc": {
   "base_numbering": 1,
   "nav_menu": {},
   "number_sections": false,
   "sideBar": true,
   "skip_h1_title": false,
   "title_cell": "Table of Contents",
   "title_sidebar": "Contents",
   "toc_cell": false,
   "toc_position": {},
   "toc_section_display": true,
   "toc_window_display": false
  }
 },
 "nbformat": 4,
 "nbformat_minor": 5
}