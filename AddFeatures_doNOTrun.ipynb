{
 "cells": [
  {
   "cell_type": "code",
   "execution_count": 2,
   "metadata": {
    "collapsed": true
   },
   "outputs": [],
   "source": [
    "import pandas as pd\n",
    "import pm4py\n"
   ]
  },
  {
   "cell_type": "code",
   "execution_count": 24,
   "outputs": [],
   "source": [
    "def import_csv(file_path):\n",
    "    event_log = pd.read_csv(file_path, sep=',')\n",
    "    # make a timestamp out of the timefield\n",
    "    event_log[\"event time:timestamp\"] = pd.to_datetime(event_log[\"event time:timestamp\"])\n",
    "\n",
    "    # change format into pm4py event_log\n",
    "    event_log = pm4py.format_dataframe(event_log, case_id = 'case concept:name', activity_key = 'event concept:name',\n",
    "                                       timestamp_key = \"event time:timestamp\", timest_format = '%Y-%m-%d %H:%M:%Sz')\n",
    "\n",
    "    #2011-10-01T00:38:44.546+02:00\n",
    "    # print what the start and end activities are:\n",
    "    start_activities = pm4py.get_start_activities(event_log)\n",
    "    end_activities = pm4py.get_end_activities(event_log)\n",
    "    print(\"Start activities: {}\\n\\nEnd activities: {}\".format(start_activities, end_activities))\n",
    "\n",
    "    # print how many events and how many instances (cases) there are\n",
    "    num_events = len(event_log)\n",
    "    num_cases = len(event_log['case concept:name'].unique())\n",
    "    print(' ')\n",
    "    print(\"Number of events: {}\\nNumber of cases: {}\".format(num_events, num_cases))\n",
    "\n",
    "\n",
    "    return event_log"
   ],
   "metadata": {
    "collapsed": false,
    "pycharm": {
     "name": "#%%\n"
    }
   }
  },
  {
   "cell_type": "code",
   "execution_count": 25,
   "outputs": [
    {
     "name": "stdout",
     "output_type": "stream",
     "text": [
      "Start activities: {'A_SUBMITTED': 10469}\n",
      "\n",
      "End activities: {'A_DECLINED': 2690, 'W_Valideren aanvraag': 1953, 'W_Afhandelen leads': 1864, 'W_Completeren aanvraag': 1702, 'W_Nabellen offertes': 1286, 'A_CANCELLED': 433, 'W_Nabellen incomplete dossiers': 318, 'O_CANCELLED': 171, 'W_Beoordelen fraude': 49, 'W_Wijzigen contractgegevens': 2, 'A_ACTIVATED': 1}\n",
      " \n",
      "Number of events: 199668\n",
      "Number of cases: 10469\n"
     ]
    }
   ],
   "source": [
    "file = \"data/BPI_Challenge_2012-training2.csv\"\n",
    "\n",
    "event_log = import_csv(file)"
   ],
   "metadata": {
    "collapsed": false,
    "pycharm": {
     "name": "#%%\n"
    }
   }
  },
  {
   "cell_type": "code",
   "execution_count": 5,
   "outputs": [
    {
     "name": "stdout",
     "output_type": "stream",
     "text": [
      "    Unnamed: 0  index  eventID   case concept:name  \\\n",
      "0            0      0         0             173688   \n",
      "1            1      1         1             173688   \n",
      "2            2      2         2             173688   \n",
      "3            3      3         3             173688   \n",
      "89          89     89         4             173688   \n",
      "\n",
      "                       case REG_DATE  case AMOUNT_REQ      event concept:name  \\\n",
      "0   2011-10-01 00:38:44.546000+02:00            20000             A_SUBMITTED   \n",
      "1   2011-10-01 00:38:44.546000+02:00            20000       A_PARTLYSUBMITTED   \n",
      "2   2011-10-01 00:38:44.546000+02:00            20000           A_PREACCEPTED   \n",
      "3   2011-10-01 00:38:44.546000+02:00            20000  W_Completeren aanvraag   \n",
      "89  2011-10-01 00:38:44.546000+02:00            20000  W_Completeren aanvraag   \n",
      "\n",
      "   event lifecycle:transition     event time:timestamp  check  \\\n",
      "0                    COMPLETE  2011-10-01 00:38:44.546  train   \n",
      "1                    COMPLETE  2011-10-01 00:38:44.880  train   \n",
      "2                    COMPLETE  2011-10-01 00:39:37.906  train   \n",
      "3                    SCHEDULE  2011-10-01 00:39:38.875  train   \n",
      "89                      START  2011-10-01 11:36:46.437  train   \n",
      "\n",
      "   case:concept:name            concept:name  \\\n",
      "0             173688             A_SUBMITTED   \n",
      "1             173688       A_PARTLYSUBMITTED   \n",
      "2             173688           A_PREACCEPTED   \n",
      "3             173688  W_Completeren aanvraag   \n",
      "89            173688  W_Completeren aanvraag   \n",
      "\n",
      "                      time:timestamp  @@index  \n",
      "0   2011-10-01 00:38:44.546000+02:00        0  \n",
      "1   2011-10-01 00:38:44.546000+02:00        1  \n",
      "2   2011-10-01 00:38:44.546000+02:00        2  \n",
      "3   2011-10-01 00:38:44.546000+02:00        3  \n",
      "89  2011-10-01 00:38:44.546000+02:00       89  \n",
      "        Unnamed: 0   index        eventID   case concept:name  \\\n",
      "199651      199651  199651  44955422687233             206318   \n",
      "199652      199652  199652  44955422687234             206318   \n",
      "199654      199654  199654  44959717654528             206321   \n",
      "199655      199655  199655  44959717654529             206321   \n",
      "199657      199657  199657  44959717654530             206321   \n",
      "\n",
      "                           case REG_DATE  case AMOUNT_REQ  event concept:name  \\\n",
      "199651  2012-02-03 17:07:38.334000+01:00             5000   A_PARTLYSUBMITTED   \n",
      "199652  2012-02-03 17:07:38.334000+01:00             5000  W_Afhandelen leads   \n",
      "199654  2012-02-03 17:08:39.199000+01:00             2000         A_SUBMITTED   \n",
      "199655  2012-02-03 17:08:39.199000+01:00             2000   A_PARTLYSUBMITTED   \n",
      "199657  2012-02-03 17:08:39.199000+01:00             2000          A_DECLINED   \n",
      "\n",
      "       event lifecycle:transition     event time:timestamp  check  \\\n",
      "199651                   COMPLETE  2012-02-03 17:07:38.843  train   \n",
      "199652                   SCHEDULE  2012-02-03 17:07:52.820  train   \n",
      "199654                   COMPLETE  2012-02-03 17:08:39.200  train   \n",
      "199655                   COMPLETE  2012-02-03 17:08:39.459  train   \n",
      "199657                   COMPLETE  2012-02-03 17:09:19.112  train   \n",
      "\n",
      "       case:concept:name        concept:name  \\\n",
      "199651            206318   A_PARTLYSUBMITTED   \n",
      "199652            206318  W_Afhandelen leads   \n",
      "199654            206321         A_SUBMITTED   \n",
      "199655            206321   A_PARTLYSUBMITTED   \n",
      "199657            206321          A_DECLINED   \n",
      "\n",
      "                          time:timestamp  @@index  \n",
      "199651  2012-02-03 17:07:38.334000+01:00   199651  \n",
      "199652  2012-02-03 17:07:38.334000+01:00   199652  \n",
      "199654  2012-02-03 17:08:39.199000+01:00   199654  \n",
      "199655  2012-02-03 17:08:39.199000+01:00   199655  \n",
      "199657  2012-02-03 17:08:39.199000+01:00   199657  \n"
     ]
    }
   ],
   "source": [
    "print(event_log.head())\n",
    "print(event_log.tail())"
   ],
   "metadata": {
    "collapsed": false,
    "pycharm": {
     "name": "#%%\n"
    }
   }
  },
  {
   "cell_type": "code",
   "execution_count": 6,
   "outputs": [],
   "source": [
    "# which features would be good predictors?\n",
    "# the previous event\n",
    "# have certain events already taken place in the sequence\n"
   ],
   "metadata": {
    "collapsed": false,
    "pycharm": {
     "name": "#%%\n"
    }
   }
  },
  {
   "cell_type": "code",
   "execution_count": null,
   "outputs": [],
   "source": [
    "event_log = event_log.sort_values('event time:timestamp')\n",
    "\n",
    "def add_previous_events(instance):\n",
    "    \"\"\"instance is sorted by timestamp\"\"\"\n",
    "    instance = instance.reset_index()\n",
    "    previous_list = ['start']\n",
    "\n",
    "    for event_nr in range(len(instance)):\n",
    "        instance.loc[event_nr, 'previous_events'] = ' '.join(str(e) for e in previous_list)\n",
    "        instance.loc[event_nr, 'previous_event'] = previous_list[-1]\n",
    "        for event in previous_list:\n",
    "            instance.loc[event_nr, event] = 1\n",
    "        previous_list.append(instance.loc[event_nr, 'event concept:name'])\n",
    "\n",
    "    return  instance\n",
    "\n",
    "new_event_log = pd.DataFrame()\n",
    "instance_list = pd.unique(event_log['case concept:name'])\n",
    "\n",
    "for instance_id in instance_list:\n",
    "    instance = event_log[event_log['case concept:name'] == instance_id]\n",
    "    new_event_log = new_event_log.append(add_previous_events(instance))\n",
    "\n",
    "print(new_event_log)"
   ],
   "metadata": {
    "collapsed": false,
    "pycharm": {
     "name": "#%%\n",
     "is_executing": true
    }
   }
  },
  {
   "cell_type": "code",
   "execution_count": null,
   "outputs": [],
   "source": [
    "new_event_log.to_csv('added_features_event_log.csv')"
   ],
   "metadata": {
    "collapsed": false,
    "pycharm": {
     "name": "#%%\n",
     "is_executing": true
    }
   }
  }
 ],
 "metadata": {
  "kernelspec": {
   "display_name": "Python 3",
   "language": "python",
   "name": "python3"
  },
  "language_info": {
   "codemirror_mode": {
    "name": "ipython",
    "version": 2
   },
   "file_extension": ".py",
   "mimetype": "text/x-python",
   "name": "python",
   "nbconvert_exporter": "python",
   "pygments_lexer": "ipython2",
   "version": "2.7.6"
  }
 },
 "nbformat": 4,
 "nbformat_minor": 0
}