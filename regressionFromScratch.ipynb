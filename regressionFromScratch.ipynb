{
 "cells": [
  {
   "cell_type": "code",
   "execution_count": 1,
   "outputs": [],
   "source": [
    "import numpy as np\n",
    "import pandas as pd\n",
    "\n",
    "import plotly.express as px"
   ],
   "metadata": {
    "collapsed": false,
    "pycharm": {
     "name": "#%%\n"
    }
   }
  },
  {
   "cell_type": "code",
   "execution_count": 2,
   "outputs": [],
   "source": [
    "def normalize(data):\n",
    "    for i in range(0,data.shape[1]-1):\n",
    "        data[:,i] = ((data[:,i] - np.mean(data[:,i]))/np.std(data[:, i]))"
   ],
   "metadata": {
    "collapsed": false,
    "pycharm": {
     "name": "#%%\n"
    }
   }
  },
  {
   "cell_type": "code",
   "execution_count": 3,
   "outputs": [],
   "source": [
    "def load_data(filename):\n",
    "    df = pd.read_csv(filename, sep=\";\", index_col=False, header=None)\n",
    "    data = np.array(df, dtype=float)\n",
    "    normalize(data)\n",
    "    return data[:,:-1], data[:, -1]"
   ],
   "metadata": {
    "collapsed": false,
    "pycharm": {
     "name": "#%%\n"
    }
   }
  },
  {
   "cell_type": "code",
   "execution_count": 4,
   "outputs": [
    {
     "name": "stdout",
     "output_type": "stream",
     "text": [
      "[array([[0.],\n",
      "       [0.],\n",
      "       [0.]])]\n"
     ]
    }
   ],
   "source": [
    "# load the dataset\n",
    "x,y = load_data(\"data/housePrices.csv\")\n",
    "\n",
    "# y should become a 1D array\n",
    "y = np.reshape(y, (len(y),1))\n",
    "\n",
    "# add a column with only ones for the intercept\n",
    "x = np.hstack((np.ones((x.shape[0],1)), x))\n",
    "\n",
    "# make for every feature in x a beta (regression parameter)\n",
    "# B0 = intercept\n",
    "# the betas are your model, so you have to save them and update them\n",
    "betas = [np.zeros((x.shape[1], 1))]\n",
    "print(betas)\n",
    "\n",
    "# keep track of the cost\n",
    "cost=[]"
   ],
   "metadata": {
    "collapsed": false,
    "pycharm": {
     "name": "#%%\n"
    }
   }
  },
  {
   "cell_type": "code",
   "execution_count": 5,
   "outputs": [],
   "source": [
    "def prediction(x):\n",
    "    return np.matmul(x, betas)"
   ],
   "metadata": {
    "collapsed": false,
    "pycharm": {
     "name": "#%%\n"
    }
   }
  },
  {
   "cell_type": "code",
   "execution_count": 6,
   "outputs": [],
   "source": [
    "def cost_function(x, y):\n",
    "    return ((prediction(x)-y).T@(prediction(x)-y))/(2*y.shape[0])"
   ],
   "metadata": {
    "collapsed": false,
    "pycharm": {
     "name": "#%%\n"
    }
   }
  },
  {
   "cell_type": "code",
   "execution_count": 11,
   "outputs": [],
   "source": [
    "def updateBetas(eventTuple, timePassed, learning_rate=0.1):\n",
    "\n",
    "    # number of datapoints, so this is now just one\n",
    "    # m = x.shape[0]\n",
    "\n",
    "    # prediction based on the current betas\n",
    "    predictedTimePassed = prediction(eventTuple)\n",
    "    print('predicted house price: (should be 0 at first iteration) ', predictedTimePassed)\n",
    "\n",
    "    # calculate how far you were off\n",
    "    # error should have the shape [[error B0], [error B1], [error B2]]\n",
    "    # eventTuple.T should have the shape [[1],[x_feature1], [x_feature2]]\n",
    "    # predictedTimePassed and TimePassed should have the shape [[value]]\n",
    "    error = np.reshape(eventTuple, (len(eventTuple),1))@(predictedTimePassed - timePassed)\n",
    "    print('error:', error)\n",
    "    # cost_function:\n",
    "    cost.extend(cost_function(eventTuple, predictedTimePassed))\n",
    "\n",
    "    # return the updated betas\n",
    "    betas[0] = betas[0] - learning_rate * error"
   ],
   "metadata": {
    "collapsed": false,
    "pycharm": {
     "name": "#%%\n"
    }
   }
  },
  {
   "cell_type": "code",
   "execution_count": 12,
   "outputs": [
    {
     "name": "stdout",
     "output_type": "stream",
     "text": [
      "predicted house price: (should be 0 at first iteration)  [[333858.83421642]]\n",
      "error: [[-66041.16578358]\n",
      " [ -8678.82767221]\n",
      " [ 14931.46957076]]\n",
      "predicted house price: (should be 0 at first iteration)  [[289311.45240785]]\n",
      "error: [[-40588.54759215]\n",
      " [ 20685.57570906]\n",
      " [  9176.8014102 ]]\n",
      "predicted house price: (should be 0 at first iteration)  [[374436.89968596]]\n",
      "error: [[ 5436.89968596]\n",
      " [ 2761.44864402]\n",
      " [-1229.24695918]]\n",
      "predicted house price: (should be 0 at first iteration)  [[292296.64394279]]\n",
      "error: [[ 60296.64394279]\n",
      " [-44841.23081799]\n",
      " [-93724.61506828]]\n",
      "predicted house price: (should be 0 at first iteration)  [[426982.55509109]]\n",
      "error: [[-112917.44490891]\n",
      " [-143526.0609114 ]\n",
      " [-124458.1912164 ]]\n",
      "predicted house price: (should be 0 at first iteration)  [[345020.86172921]]\n",
      "error: [[45120.86172921]\n",
      " [ -899.93787324]\n",
      " [49732.44693478]]\n",
      "predicted house price: (should be 0 at first iteration)  [[273347.29775303]]\n",
      "error: [[-41552.70224697]\n",
      " [ 24665.20714421]\n",
      " [  9394.79038297]]\n",
      "predicted house price: (should be 0 at first iteration)  [[266302.56689879]]\n",
      "error: [[ 67303.56689879]\n",
      " [-49110.45399449]\n",
      " [-15216.89009014]]\n",
      "predicted house price: (should be 0 at first iteration)  [[249695.02235156]]\n",
      "error: [[ 37695.02235156]\n",
      " [-29758.96797628]\n",
      " [ -8522.59454438]]\n",
      "predicted house price: (should be 0 at first iteration)  [[258245.96899448]]\n",
      "error: [[ 15745.96899448]\n",
      " [-10147.7415373 ]\n",
      " [ -3560.05915574]]\n",
      "predicted house price: (should be 0 at first iteration)  [[323026.51655175]]\n",
      "error: [[83027.51655175]\n",
      " [-6408.24673687]\n",
      " [91513.35774164]]\n",
      "predicted house price: (should be 0 at first iteration)  [[316324.44052779]]\n",
      "error: [[-3.06755595e+04]\n",
      " [ 2.65650187e+01]\n",
      " [ 6.93554054e+03]]\n",
      "predicted house price: (should be 0 at first iteration)  [[304976.51940852]]\n",
      "error: [[-25022.48059148]\n",
      " [  3522.64083274]\n",
      " [  5657.41690208]]\n",
      "predicted house price: (should be 0 at first iteration)  [[638421.30852428]]\n",
      "error: [[ -61478.69147572]\n",
      " [-193718.94218292]\n",
      " [-149424.18719267]]\n",
      "predicted house price: (should be 0 at first iteration)  [[210251.66012612]]\n",
      "error: [[-49648.33987388]\n",
      " [ 46268.46444604]\n",
      " [ 11225.16035673]]\n",
      "predicted house price: (should be 0 at first iteration)  [[388285.40429422]]\n",
      "error: [[-61614.59570578]\n",
      " [-23457.60228856]\n",
      " [-67911.92574591]]\n",
      "predicted house price: (should be 0 at first iteration)  [[208301.01408967]]\n",
      "error: [[-91598.98591033]\n",
      " [ 79304.84356019]\n",
      " [142380.72193928]]\n",
      "predicted house price: (should be 0 at first iteration)  [[237394.02410667]]\n",
      "error: [[ 37494.02410667]\n",
      " [-36467.65042519]\n",
      " [ -8477.15017432]]\n",
      "predicted house price: (should be 0 at first iteration)  [[437675.89693502]]\n",
      "error: [[-62322.10306498]\n",
      " [-48221.32080533]\n",
      " [-68691.74401287]]\n",
      "predicted house price: (should be 0 at first iteration)  [[520388.56598895]]\n",
      "error: [[ -78611.43401105]\n",
      " [-103020.3459719 ]\n",
      " [ -86645.92874764]]\n",
      "predicted house price: (should be 0 at first iteration)  [[314748.3529657]]\n",
      "error: [[ 61848.3529657 ]\n",
      " [-18383.01655752]\n",
      " [-13983.50240115]]\n",
      "predicted house price: (should be 0 at first iteration)  [[301636.51225968]]\n",
      "error: [[ 46636.51225968]\n",
      " [ -6684.08088041]\n",
      " [-72491.41699847]]\n",
      "predicted house price: (should be 0 at first iteration)  [[273368.6443596]]\n",
      "error: [[ 30468.6443596 ]\n",
      " [-15373.04441271]\n",
      " [ -6888.75840879]]\n",
      "predicted house price: (should be 0 at first iteration)  [[368381.66802628]]\n",
      "error: [[108481.66802628]\n",
      " [ -5337.25421926]\n",
      " [119569.05501697]]\n",
      "predicted house price: (should be 0 at first iteration)  [[657315.35658754]]\n",
      "error: [[ 83415.35658754]\n",
      " [200454.9803817 ]\n",
      " [-18859.65887857]]\n",
      "predicted house price: (should be 0 at first iteration)  [[187790.81979342]]\n",
      "error: [[-62109.18020658]\n",
      " [ 71152.84018867]\n",
      " [ 14042.4737104 ]]\n",
      "predicted house price: (should be 0 at first iteration)  [[252171.65632275]]\n",
      "error: [[-212328.34367725]\n",
      " [ 146560.85276842]\n",
      " [  48006.03025418]]\n",
      "predicted house price: (should be 0 at first iteration)  [[412967.38023125]]\n",
      "error: [[-56032.61976875]\n",
      " [-37439.46843709]\n",
      " [ 12668.60369772]]\n",
      "predicted house price: (should be 0 at first iteration)  [[380624.86963054]]\n",
      "error: [[-94375.13036946]\n",
      " [-23926.11041675]\n",
      " [ 21337.59104081]]\n",
      "predicted house price: (should be 0 at first iteration)  [[447084.57969422]]\n",
      "error: [[147184.57969422]\n",
      " [119124.97396319]\n",
      " [-33277.45727857]]\n",
      "predicted house price: (should be 0 at first iteration)  [[316475.07977894]]\n",
      "error: [[-33424.92022106]\n",
      " [  6873.76182583]\n",
      " [ 51955.42531984]]\n",
      "predicted house price: (should be 0 at first iteration)  [[225545.91101873]]\n",
      "error: [[  55645.91101873]\n",
      " [ -70826.26827862]\n",
      " [-160409.93553046]]\n",
      "predicted house price: (should be 0 at first iteration)  [[380107.03700352]]\n",
      "error: [[65207.03700352]\n",
      " [ 3261.09979604]\n",
      " [71871.5331062 ]]\n",
      "predicted house price: (should be 0 at first iteration)  [[477595.05018111]]\n",
      "error: [[-102304.94981889]\n",
      " [-147864.01207365]\n",
      " [  23130.47062442]]\n",
      "predicted house price: (should be 0 at first iteration)  [[342153.43915425]]\n",
      "error: [[ 56253.43915425]\n",
      " [-13571.81973154]\n",
      " [ 62002.83129403]]\n",
      "predicted house price: (should be 0 at first iteration)  [[267596.57879215]]\n",
      "error: [[ 17696.57879215]\n",
      " [-12687.85216007]\n",
      " [ -4001.07909372]]\n",
      "predicted house price: (should be 0 at first iteration)  [[236570.47576997]]\n",
      "error: [[ 6670.47576997]\n",
      " [-6462.42271438]\n",
      " [-1508.15033018]]\n",
      "predicted house price: (should be 0 at first iteration)  [[373148.49868688]]\n",
      "error: [[28148.49868688]\n",
      " [ 4701.6339087 ]\n",
      " [31025.42069432]]\n",
      "predicted house price: (should be 0 at first iteration)  [[664564.04933687]]\n",
      "error: [[115564.04933687]\n",
      " [325483.12772649]\n",
      " [127375.29229175]]\n",
      "predicted house price: (should be 0 at first iteration)  [[338849.16653694]]\n",
      "error: [[51849.16653694]\n",
      " [10638.8139894 ]\n",
      " [57148.41925862]]\n",
      "predicted house price: (should be 0 at first iteration)  [[315055.25014478]]\n",
      "error: [[-53444.74985522]\n",
      " [ 22887.00576312]\n",
      " [ 83074.08638454]]\n",
      "predicted house price: (should be 0 at first iteration)  [[360191.50682024]]\n",
      "error: [[30291.50682024]\n",
      " [ 9143.64115203]\n",
      " [-6848.70878599]]\n",
      "predicted house price: (should be 0 at first iteration)  [[359326.41065618]]\n",
      "error: [[45326.41065618]\n",
      " [32649.61689924]\n",
      " [49959.00402414]]\n",
      "predicted house price: (should be 0 at first iteration)  [[256895.56578742]]\n",
      "error: [[-42104.43421258]\n",
      " [ 42879.80402913]\n",
      " [  9519.53332107]]\n",
      "predicted house price: (should be 0 at first iteration)  [[272510.98232412]]\n",
      "error: [[  92610.98232412]\n",
      " [-135309.21858795]\n",
      " [-143953.76096982]]\n",
      "predicted house price: (should be 0 at first iteration)  [[289207.7860453]]\n",
      "error: [[-10692.2139547 ]\n",
      " [  2022.03278473]\n",
      " [-11785.01346691]]\n",
      "predicted house price: (should be 0 at first iteration)  [[240711.34233393]]\n",
      "error: [[ 1211.34233393]\n",
      " [-1229.02742986]\n",
      " [ -273.87646757]]\n",
      "[array([[320348.28180682],\n",
      "       [ 81457.39114497],\n",
      "       [-12197.05104221]])]\n"
     ]
    }
   ],
   "source": [
    "# run the model\n",
    "[updateBetas(eventTuple, timePassed, learning_rate=0.1) for eventTuple, timePassed in zip(x, y)]\n",
    "\n",
    "print(betas)"
   ],
   "metadata": {
    "collapsed": false,
    "pycharm": {
     "name": "#%%\n"
    }
   }
  },
  {
   "cell_type": "code",
   "execution_count": 10,
   "outputs": [
    {
     "name": "stdout",
     "output_type": "stream",
     "text": [
      "[array([[0.]]), array([[0.]]), array([[0.]]), array([[0.]]), array([[0.]]), array([[0.]]), array([[0.]]), array([[0.]]), array([[0.]]), array([[0.]]), array([[0.]]), array([[0.]]), array([[0.]]), array([[0.]]), array([[0.]]), array([[0.]]), array([[0.]]), array([[0.]]), array([[0.]]), array([[0.]]), array([[0.]]), array([[0.]]), array([[0.]]), array([[0.]]), array([[0.]]), array([[0.]]), array([[0.]]), array([[0.]]), array([[0.]]), array([[0.]]), array([[0.]]), array([[0.]]), array([[0.]]), array([[0.]]), array([[0.]]), array([[0.]]), array([[0.]]), array([[0.]]), array([[0.]]), array([[0.]]), array([[0.]]), array([[0.]]), array([[0.]]), array([[0.]]), array([[0.]]), array([[0.]]), array([[0.]])]\n"
     ]
    },
    {
     "ename": "ValueError",
     "evalue": "Data must be 1-dimensional",
     "output_type": "error",
     "traceback": [
      "\u001B[1;31m---------------------------------------------------------------------------\u001B[0m",
      "\u001B[1;31mValueError\u001B[0m                                Traceback (most recent call last)",
      "\u001B[1;32m<ipython-input-10-e110933cd28d>\u001B[0m in \u001B[0;36m<module>\u001B[1;34m\u001B[0m\n\u001B[0;32m      1\u001B[0m \u001B[0mprint\u001B[0m\u001B[1;33m(\u001B[0m\u001B[0mcost\u001B[0m\u001B[1;33m)\u001B[0m\u001B[1;33m\u001B[0m\u001B[1;33m\u001B[0m\u001B[0m\n\u001B[1;32m----> 2\u001B[1;33m \u001B[0mfig\u001B[0m \u001B[1;33m=\u001B[0m \u001B[0mpx\u001B[0m\u001B[1;33m.\u001B[0m\u001B[0mscatter\u001B[0m\u001B[1;33m(\u001B[0m\u001B[0my\u001B[0m\u001B[1;33m=\u001B[0m\u001B[0mcost\u001B[0m\u001B[1;33m)\u001B[0m\u001B[1;33m\u001B[0m\u001B[1;33m\u001B[0m\u001B[0m\n\u001B[0m\u001B[0;32m      3\u001B[0m \u001B[0mfig\u001B[0m\u001B[1;33m.\u001B[0m\u001B[0mshow\u001B[0m\u001B[1;33m(\u001B[0m\u001B[1;33m)\u001B[0m\u001B[1;33m\u001B[0m\u001B[1;33m\u001B[0m\u001B[0m\n",
      "\u001B[1;32m~\\AppData\\Local\\Continuum\\anaconda3\\lib\\site-packages\\plotly\\express\\_chart_types.py\u001B[0m in \u001B[0;36mscatter\u001B[1;34m(data_frame, x, y, color, symbol, size, hover_name, hover_data, custom_data, text, facet_row, facet_col, facet_col_wrap, facet_row_spacing, facet_col_spacing, error_x, error_x_minus, error_y, error_y_minus, animation_frame, animation_group, category_orders, labels, orientation, color_discrete_sequence, color_discrete_map, color_continuous_scale, range_color, color_continuous_midpoint, symbol_sequence, symbol_map, opacity, size_max, marginal_x, marginal_y, trendline, trendline_color_override, log_x, log_y, range_x, range_y, render_mode, title, template, width, height)\u001B[0m\n\u001B[0;32m     62\u001B[0m     \u001B[0mmark\u001B[0m \u001B[1;32min\u001B[0m \u001B[1;36m2\u001B[0m\u001B[0mD\u001B[0m \u001B[0mspace\u001B[0m\u001B[1;33m.\u001B[0m\u001B[1;33m\u001B[0m\u001B[1;33m\u001B[0m\u001B[0m\n\u001B[0;32m     63\u001B[0m     \"\"\"\n\u001B[1;32m---> 64\u001B[1;33m     \u001B[1;32mreturn\u001B[0m \u001B[0mmake_figure\u001B[0m\u001B[1;33m(\u001B[0m\u001B[0margs\u001B[0m\u001B[1;33m=\u001B[0m\u001B[0mlocals\u001B[0m\u001B[1;33m(\u001B[0m\u001B[1;33m)\u001B[0m\u001B[1;33m,\u001B[0m \u001B[0mconstructor\u001B[0m\u001B[1;33m=\u001B[0m\u001B[0mgo\u001B[0m\u001B[1;33m.\u001B[0m\u001B[0mScatter\u001B[0m\u001B[1;33m)\u001B[0m\u001B[1;33m\u001B[0m\u001B[1;33m\u001B[0m\u001B[0m\n\u001B[0m\u001B[0;32m     65\u001B[0m \u001B[1;33m\u001B[0m\u001B[0m\n\u001B[0;32m     66\u001B[0m \u001B[1;33m\u001B[0m\u001B[0m\n",
      "\u001B[1;32m~\\AppData\\Local\\Continuum\\anaconda3\\lib\\site-packages\\plotly\\express\\_core.py\u001B[0m in \u001B[0;36mmake_figure\u001B[1;34m(args, constructor, trace_patch, layout_patch)\u001B[0m\n\u001B[0;32m   1859\u001B[0m     \u001B[0mapply_default_cascade\u001B[0m\u001B[1;33m(\u001B[0m\u001B[0margs\u001B[0m\u001B[1;33m)\u001B[0m\u001B[1;33m\u001B[0m\u001B[1;33m\u001B[0m\u001B[0m\n\u001B[0;32m   1860\u001B[0m \u001B[1;33m\u001B[0m\u001B[0m\n\u001B[1;32m-> 1861\u001B[1;33m     \u001B[0margs\u001B[0m \u001B[1;33m=\u001B[0m \u001B[0mbuild_dataframe\u001B[0m\u001B[1;33m(\u001B[0m\u001B[0margs\u001B[0m\u001B[1;33m,\u001B[0m \u001B[0mconstructor\u001B[0m\u001B[1;33m)\u001B[0m\u001B[1;33m\u001B[0m\u001B[1;33m\u001B[0m\u001B[0m\n\u001B[0m\u001B[0;32m   1862\u001B[0m     \u001B[1;32mif\u001B[0m \u001B[0mconstructor\u001B[0m \u001B[1;32min\u001B[0m \u001B[1;33m[\u001B[0m\u001B[0mgo\u001B[0m\u001B[1;33m.\u001B[0m\u001B[0mTreemap\u001B[0m\u001B[1;33m,\u001B[0m \u001B[0mgo\u001B[0m\u001B[1;33m.\u001B[0m\u001B[0mSunburst\u001B[0m\u001B[1;33m]\u001B[0m \u001B[1;32mand\u001B[0m \u001B[0margs\u001B[0m\u001B[1;33m[\u001B[0m\u001B[1;34m\"path\"\u001B[0m\u001B[1;33m]\u001B[0m \u001B[1;32mis\u001B[0m \u001B[1;32mnot\u001B[0m \u001B[1;32mNone\u001B[0m\u001B[1;33m:\u001B[0m\u001B[1;33m\u001B[0m\u001B[1;33m\u001B[0m\u001B[0m\n\u001B[0;32m   1863\u001B[0m         \u001B[0margs\u001B[0m \u001B[1;33m=\u001B[0m \u001B[0mprocess_dataframe_hierarchy\u001B[0m\u001B[1;33m(\u001B[0m\u001B[0margs\u001B[0m\u001B[1;33m)\u001B[0m\u001B[1;33m\u001B[0m\u001B[1;33m\u001B[0m\u001B[0m\n",
      "\u001B[1;32m~\\AppData\\Local\\Continuum\\anaconda3\\lib\\site-packages\\plotly\\express\\_core.py\u001B[0m in \u001B[0;36mbuild_dataframe\u001B[1;34m(args, constructor)\u001B[0m\n\u001B[0;32m   1376\u001B[0m \u001B[1;33m\u001B[0m\u001B[0m\n\u001B[0;32m   1377\u001B[0m     df_output, wide_id_vars = process_args_into_dataframe(\n\u001B[1;32m-> 1378\u001B[1;33m         \u001B[0margs\u001B[0m\u001B[1;33m,\u001B[0m \u001B[0mwide_mode\u001B[0m\u001B[1;33m,\u001B[0m \u001B[0mvar_name\u001B[0m\u001B[1;33m,\u001B[0m \u001B[0mvalue_name\u001B[0m\u001B[1;33m\u001B[0m\u001B[1;33m\u001B[0m\u001B[0m\n\u001B[0m\u001B[0;32m   1379\u001B[0m     )\n\u001B[0;32m   1380\u001B[0m \u001B[1;33m\u001B[0m\u001B[0m\n",
      "\u001B[1;32m~\\AppData\\Local\\Continuum\\anaconda3\\lib\\site-packages\\plotly\\express\\_core.py\u001B[0m in \u001B[0;36mprocess_args_into_dataframe\u001B[1;34m(args, wide_mode, var_name, value_name)\u001B[0m\n\u001B[0;32m   1225\u001B[0m                         \u001B[1;33m%\u001B[0m \u001B[1;33m(\u001B[0m\u001B[0mfield\u001B[0m\u001B[1;33m,\u001B[0m \u001B[0mlen\u001B[0m\u001B[1;33m(\u001B[0m\u001B[0margument\u001B[0m\u001B[1;33m)\u001B[0m\u001B[1;33m,\u001B[0m \u001B[0mstr\u001B[0m\u001B[1;33m(\u001B[0m\u001B[0mlist\u001B[0m\u001B[1;33m(\u001B[0m\u001B[0mdf_output\u001B[0m\u001B[1;33m.\u001B[0m\u001B[0mcolumns\u001B[0m\u001B[1;33m)\u001B[0m\u001B[1;33m)\u001B[0m\u001B[1;33m,\u001B[0m \u001B[0mlength\u001B[0m\u001B[1;33m)\u001B[0m\u001B[1;33m\u001B[0m\u001B[1;33m\u001B[0m\u001B[0m\n\u001B[0;32m   1226\u001B[0m                     )\n\u001B[1;32m-> 1227\u001B[1;33m                 \u001B[0mdf_output\u001B[0m\u001B[1;33m[\u001B[0m\u001B[0mstr\u001B[0m\u001B[1;33m(\u001B[0m\u001B[0mcol_name\u001B[0m\u001B[1;33m)\u001B[0m\u001B[1;33m]\u001B[0m \u001B[1;33m=\u001B[0m \u001B[0mto_unindexed_series\u001B[0m\u001B[1;33m(\u001B[0m\u001B[0margument\u001B[0m\u001B[1;33m)\u001B[0m\u001B[1;33m\u001B[0m\u001B[1;33m\u001B[0m\u001B[0m\n\u001B[0m\u001B[0;32m   1228\u001B[0m \u001B[1;33m\u001B[0m\u001B[0m\n\u001B[0;32m   1229\u001B[0m             \u001B[1;31m# Finally, update argument with column name now that column exists\u001B[0m\u001B[1;33m\u001B[0m\u001B[1;33m\u001B[0m\u001B[1;33m\u001B[0m\u001B[0m\n",
      "\u001B[1;32m~\\AppData\\Local\\Continuum\\anaconda3\\lib\\site-packages\\plotly\\express\\_core.py\u001B[0m in \u001B[0;36mto_unindexed_series\u001B[1;34m(x)\u001B[0m\n\u001B[0;32m   1047\u001B[0m     \u001B[0mrequired\u001B[0m \u001B[0mto\u001B[0m \u001B[0mget\u001B[0m \u001B[0mthings\u001B[0m \u001B[0mto\u001B[0m \u001B[0mmatch\u001B[0m \u001B[0mup\u001B[0m \u001B[0mright\u001B[0m \u001B[1;32min\u001B[0m \u001B[0mthe\u001B[0m \u001B[0mnew\u001B[0m \u001B[0mDataFrame\u001B[0m \u001B[0mwe\u001B[0m\u001B[0;31m'\u001B[0m\u001B[0mre\u001B[0m \u001B[0mbuilding\u001B[0m\u001B[1;33m\u001B[0m\u001B[1;33m\u001B[0m\u001B[0m\n\u001B[0;32m   1048\u001B[0m     \"\"\"\n\u001B[1;32m-> 1049\u001B[1;33m     \u001B[1;32mreturn\u001B[0m \u001B[0mpd\u001B[0m\u001B[1;33m.\u001B[0m\u001B[0mSeries\u001B[0m\u001B[1;33m(\u001B[0m\u001B[0mx\u001B[0m\u001B[1;33m)\u001B[0m\u001B[1;33m.\u001B[0m\u001B[0mreset_index\u001B[0m\u001B[1;33m(\u001B[0m\u001B[0mdrop\u001B[0m\u001B[1;33m=\u001B[0m\u001B[1;32mTrue\u001B[0m\u001B[1;33m)\u001B[0m\u001B[1;33m\u001B[0m\u001B[1;33m\u001B[0m\u001B[0m\n\u001B[0m\u001B[0;32m   1050\u001B[0m \u001B[1;33m\u001B[0m\u001B[0m\n\u001B[0;32m   1051\u001B[0m \u001B[1;33m\u001B[0m\u001B[0m\n",
      "\u001B[1;32m~\\AppData\\Local\\Continuum\\anaconda3\\lib\\site-packages\\pandas\\core\\series.py\u001B[0m in \u001B[0;36m__init__\u001B[1;34m(self, data, index, dtype, name, copy, fastpath)\u001B[0m\n\u001B[0;32m    437\u001B[0m                     \u001B[0mdata\u001B[0m \u001B[1;33m=\u001B[0m \u001B[0mdata\u001B[0m\u001B[1;33m.\u001B[0m\u001B[0mcopy\u001B[0m\u001B[1;33m(\u001B[0m\u001B[1;33m)\u001B[0m\u001B[1;33m\u001B[0m\u001B[1;33m\u001B[0m\u001B[0m\n\u001B[0;32m    438\u001B[0m             \u001B[1;32melse\u001B[0m\u001B[1;33m:\u001B[0m\u001B[1;33m\u001B[0m\u001B[1;33m\u001B[0m\u001B[0m\n\u001B[1;32m--> 439\u001B[1;33m                 \u001B[0mdata\u001B[0m \u001B[1;33m=\u001B[0m \u001B[0msanitize_array\u001B[0m\u001B[1;33m(\u001B[0m\u001B[0mdata\u001B[0m\u001B[1;33m,\u001B[0m \u001B[0mindex\u001B[0m\u001B[1;33m,\u001B[0m \u001B[0mdtype\u001B[0m\u001B[1;33m,\u001B[0m \u001B[0mcopy\u001B[0m\u001B[1;33m)\u001B[0m\u001B[1;33m\u001B[0m\u001B[1;33m\u001B[0m\u001B[0m\n\u001B[0m\u001B[0;32m    440\u001B[0m \u001B[1;33m\u001B[0m\u001B[0m\n\u001B[0;32m    441\u001B[0m                 \u001B[0mmanager\u001B[0m \u001B[1;33m=\u001B[0m \u001B[0mget_option\u001B[0m\u001B[1;33m(\u001B[0m\u001B[1;34m\"mode.data_manager\"\u001B[0m\u001B[1;33m)\u001B[0m\u001B[1;33m\u001B[0m\u001B[1;33m\u001B[0m\u001B[0m\n",
      "\u001B[1;32m~\\AppData\\Local\\Continuum\\anaconda3\\lib\\site-packages\\pandas\\core\\construction.py\u001B[0m in \u001B[0;36msanitize_array\u001B[1;34m(data, index, dtype, copy, raise_cast_failure, allow_2d)\u001B[0m\n\u001B[0;32m    574\u001B[0m                 \u001B[0msubarr\u001B[0m \u001B[1;33m=\u001B[0m \u001B[0mmaybe_infer_to_datetimelike\u001B[0m\u001B[1;33m(\u001B[0m\u001B[0msubarr\u001B[0m\u001B[1;33m)\u001B[0m\u001B[1;33m\u001B[0m\u001B[1;33m\u001B[0m\u001B[0m\n\u001B[0;32m    575\u001B[0m \u001B[1;33m\u001B[0m\u001B[0m\n\u001B[1;32m--> 576\u001B[1;33m     \u001B[0msubarr\u001B[0m \u001B[1;33m=\u001B[0m \u001B[0m_sanitize_ndim\u001B[0m\u001B[1;33m(\u001B[0m\u001B[0msubarr\u001B[0m\u001B[1;33m,\u001B[0m \u001B[0mdata\u001B[0m\u001B[1;33m,\u001B[0m \u001B[0mdtype\u001B[0m\u001B[1;33m,\u001B[0m \u001B[0mindex\u001B[0m\u001B[1;33m,\u001B[0m \u001B[0mallow_2d\u001B[0m\u001B[1;33m=\u001B[0m\u001B[0mallow_2d\u001B[0m\u001B[1;33m)\u001B[0m\u001B[1;33m\u001B[0m\u001B[1;33m\u001B[0m\u001B[0m\n\u001B[0m\u001B[0;32m    577\u001B[0m \u001B[1;33m\u001B[0m\u001B[0m\n\u001B[0;32m    578\u001B[0m     \u001B[1;32mif\u001B[0m \u001B[0misinstance\u001B[0m\u001B[1;33m(\u001B[0m\u001B[0msubarr\u001B[0m\u001B[1;33m,\u001B[0m \u001B[0mnp\u001B[0m\u001B[1;33m.\u001B[0m\u001B[0mndarray\u001B[0m\u001B[1;33m)\u001B[0m\u001B[1;33m:\u001B[0m\u001B[1;33m\u001B[0m\u001B[1;33m\u001B[0m\u001B[0m\n",
      "\u001B[1;32m~\\AppData\\Local\\Continuum\\anaconda3\\lib\\site-packages\\pandas\\core\\construction.py\u001B[0m in \u001B[0;36m_sanitize_ndim\u001B[1;34m(result, data, dtype, index, allow_2d)\u001B[0m\n\u001B[0;32m    625\u001B[0m             \u001B[1;32mif\u001B[0m \u001B[0mallow_2d\u001B[0m\u001B[1;33m:\u001B[0m\u001B[1;33m\u001B[0m\u001B[1;33m\u001B[0m\u001B[0m\n\u001B[0;32m    626\u001B[0m                 \u001B[1;32mreturn\u001B[0m \u001B[0mresult\u001B[0m\u001B[1;33m\u001B[0m\u001B[1;33m\u001B[0m\u001B[0m\n\u001B[1;32m--> 627\u001B[1;33m             \u001B[1;32mraise\u001B[0m \u001B[0mValueError\u001B[0m\u001B[1;33m(\u001B[0m\u001B[1;34m\"Data must be 1-dimensional\"\u001B[0m\u001B[1;33m)\u001B[0m\u001B[1;33m\u001B[0m\u001B[1;33m\u001B[0m\u001B[0m\n\u001B[0m\u001B[0;32m    628\u001B[0m         \u001B[1;32mif\u001B[0m \u001B[0mis_object_dtype\u001B[0m\u001B[1;33m(\u001B[0m\u001B[0mdtype\u001B[0m\u001B[1;33m)\u001B[0m \u001B[1;32mand\u001B[0m \u001B[0misinstance\u001B[0m\u001B[1;33m(\u001B[0m\u001B[0mdtype\u001B[0m\u001B[1;33m,\u001B[0m \u001B[0mExtensionDtype\u001B[0m\u001B[1;33m)\u001B[0m\u001B[1;33m:\u001B[0m\u001B[1;33m\u001B[0m\u001B[1;33m\u001B[0m\u001B[0m\n\u001B[0;32m    629\u001B[0m             \u001B[1;31m# i.e. PandasDtype(\"O\")\u001B[0m\u001B[1;33m\u001B[0m\u001B[1;33m\u001B[0m\u001B[1;33m\u001B[0m\u001B[0m\n",
      "\u001B[1;31mValueError\u001B[0m: Data must be 1-dimensional"
     ]
    }
   ],
   "source": [
    "print(cost)\n",
    "fig = px.scatter(y=cost)\n",
    "fig.show()"
   ],
   "metadata": {
    "collapsed": false,
    "pycharm": {
     "name": "#%%\n"
    }
   }
  }
 ],
 "metadata": {
  "kernelspec": {
   "display_name": "Python 3",
   "language": "python",
   "name": "python3"
  },
  "language_info": {
   "codemirror_mode": {
    "name": "ipython",
    "version": 2
   },
   "file_extension": ".py",
   "mimetype": "text/x-python",
   "name": "python",
   "nbconvert_exporter": "python",
   "pygments_lexer": "ipython2",
   "version": "2.7.6"
  }
 },
 "nbformat": 4,
 "nbformat_minor": 0
}