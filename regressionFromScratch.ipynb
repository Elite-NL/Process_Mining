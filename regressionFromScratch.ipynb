{
 "cells": [
  {
   "cell_type": "code",
   "execution_count": 1,
   "outputs": [],
   "source": [
    "import numpy as np\n",
    "import pandas as pd\n",
    "from matplotlib import pyplot as plt\n",
    "import plotly.express as px"
   ],
   "metadata": {
    "collapsed": false,
    "pycharm": {
     "name": "#%%\n"
    }
   }
  },
  {
   "cell_type": "code",
   "execution_count": null,
   "outputs": [],
   "source": [
    "def normalize(data):\n",
    "    for i in range(0,data.shape[1]-1):\n",
    "        data[:,i] = ((data[:,i] - np.mean(data[:,i]))/np.std(data[:, i]))"
   ],
   "metadata": {
    "collapsed": false,
    "pycharm": {
     "name": "#%%\n",
     "is_executing": true
    }
   }
  },
  {
   "cell_type": "code",
   "execution_count": null,
   "outputs": [],
   "source": [
    "def load_data(filename):\n",
    "    df = pd.read_csv(filename, sep=\";\", index_col=False, header=None)\n",
    "    data = np.array(df, dtype=float)\n",
    "    normalize(data)\n",
    "    return data[:,:-1], data[:, -1]"
   ],
   "metadata": {
    "collapsed": false,
    "pycharm": {
     "name": "#%%\n",
     "is_executing": true
    }
   }
  },
  {
   "cell_type": "code",
   "execution_count": null,
   "outputs": [],
   "source": [
    "# load the dataset\n",
    "x,y = load_data(\"data/housePrices.csv\")\n",
    "\n",
    "# y should become a 1D array\n",
    "y = np.reshape(y, (len(y),1))\n",
    "\n",
    "# add a column with only ones for the intercept\n",
    "x = np.hstack((np.ones((x.shape[0],1)), x))\n",
    "\n",
    "# make for every feature in x a beta (regression parameter)\n",
    "# B0 = intercept\n",
    "# the betas are your model, so you have to save them and update them\n",
    "betas = [np.zeros((x.shape[1], 1))]\n",
    "print(betas)\n",
    "\n",
    "# keep track of the cost\n",
    "cost=[]"
   ],
   "metadata": {
    "collapsed": false,
    "pycharm": {
     "name": "#%%\n",
     "is_executing": true
    }
   }
  },
  {
   "cell_type": "code",
   "execution_count": null,
   "outputs": [],
   "source": [
    "def prediction(x):\n",
    "    return np.matmul(x, betas)"
   ],
   "metadata": {
    "collapsed": false,
    "pycharm": {
     "name": "#%%\n",
     "is_executing": true
    }
   }
  },
  {
   "cell_type": "code",
   "execution_count": null,
   "outputs": [],
   "source": [
    "def cost_function(x, y):\n",
    "    return ((prediction(x)-y).T@(prediction(x)-y))/(2*y.shape[0])"
   ],
   "metadata": {
    "collapsed": false,
    "pycharm": {
     "name": "#%%\n",
     "is_executing": true
    }
   }
  },
  {
   "cell_type": "code",
   "execution_count": null,
   "outputs": [],
   "source": [
    "def updateBetas(eventTuple, timePassed, learning_rate=0.1):\n",
    "\n",
    "    # number of datapoints, so this is now just one\n",
    "    # m = x.shape[0]\n",
    "\n",
    "    # prediction based on the current betas\n",
    "    predictedTimePassed = prediction(eventTuple)\n",
    "    print('predicted house price: (should be 0 at first iteration) ', predictedTimePassed)\n",
    "\n",
    "    # calculate how far you were off\n",
    "    # error should have the shape [[error B0], [error B1], [error B2]]\n",
    "    # eventTuple.T should have the shape [[1],[x_feature1], [x_feature2]]\n",
    "    # predictedTimePassed and TimePassed should have the shape [[value]]\n",
    "    error = np.reshape(eventTuple, (len(eventTuple),1))@(predictedTimePassed - timePassed)\n",
    "\n",
    "    # cost_function:\n",
    "    cost.append(cost_function(x, y))\n",
    "\n",
    "    # return the updated betas\n",
    "    betas[0] = betas[0] - learning_rate * error"
   ],
   "metadata": {
    "collapsed": false,
    "pycharm": {
     "name": "#%%\n",
     "is_executing": true
    }
   }
  },
  {
   "cell_type": "code",
   "execution_count": null,
   "outputs": [],
   "source": [
    "# run the model\n",
    "[updateBetas(eventTuple, timePassed, learning_rate=0.1) for eventTuple, timePassed in zip(x, y)]\n",
    "\n",
    "print(betas)"
   ],
   "metadata": {
    "collapsed": false,
    "pycharm": {
     "name": "#%%\n",
     "is_executing": true
    }
   }
  },
  {
   "cell_type": "code",
   "execution_count": null,
   "outputs": [],
   "source": [
    "fig = px.scatter(y=cost)\n",
    "fig.show()"
   ],
   "metadata": {
    "collapsed": false,
    "pycharm": {
     "name": "#%%\n",
     "is_executing": true
    }
   }
  }
 ],
 "metadata": {
  "kernelspec": {
   "display_name": "Python 3",
   "language": "python",
   "name": "python3"
  },
  "language_info": {
   "codemirror_mode": {
    "name": "ipython",
    "version": 2
   },
   "file_extension": ".py",
   "mimetype": "text/x-python",
   "name": "python",
   "nbconvert_exporter": "python",
   "pygments_lexer": "ipython2",
   "version": "2.7.6"
  }
 },
 "nbformat": 4,
 "nbformat_minor": 0
}