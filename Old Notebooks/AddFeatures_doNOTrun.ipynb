{
 "cells": [
  {
   "cell_type": "code",
   "execution_count": 1,
   "metadata": {
    "collapsed": true
   },
   "outputs": [],
   "source": [
    "import pandas as pd\n",
    "import pm4py\n",
    "from datetime import datetime"
   ]
  },
  {
   "cell_type": "code",
   "execution_count": 2,
   "outputs": [],
   "source": [
    "# Defining database-specific variables\n",
    "case_column = \"case concept:name\"\n",
    "event_column = \"event concept:name\"\n",
    "timestamp_column = \"event time:timestamp\"\n",
    "timeformat_timestamp = \"%d-%m-%Y %H:%M:%S.%f\""
   ],
   "metadata": {
    "collapsed": false,
    "pycharm": {
     "name": "#%%\n"
    }
   }
  },
  {
   "cell_type": "code",
   "execution_count": 3,
   "outputs": [],
   "source": [
    "def import_csv(file_path):\n",
    "    event_log = pd.read_csv(file_path, sep=',')\n",
    "    # make a timestamp out of the timefield\n",
    "    event_log[timestamp_column] = [datetime.strptime(date, timeformat_timestamp) for date in event_log[timestamp_column]]\n",
    "    event_log = event_log.sort_values(by=[case_column, timestamp_column])  # sort values by user and time of event\n",
    "\n",
    "\n",
    "    # change format into pm4py event_log\n",
    "    event_log = pm4py.format_dataframe(event_log, case_id = case_column, activity_key = event_column,\n",
    "                                       timestamp_key = timestamp_column, timest_format = '%Y-%m-%d %H:%M:%Sz')\n",
    "\n",
    "    #2011-10-01T00:38:44.546+02:00\n",
    "    # print what the start and end activities are:\n",
    "    start_activities = pm4py.get_start_activities(event_log)\n",
    "    end_activities = pm4py.get_end_activities(event_log)\n",
    "    print(\"Start activities: {}\\n\\nEnd activities: {}\".format(start_activities, end_activities))\n",
    "\n",
    "    # print how many events and how many instances (cases) there are\n",
    "    num_events = len(event_log)\n",
    "    num_cases = len(event_log[case_column].unique())\n",
    "    print(' ')\n",
    "    print(\"Number of events: {}\\nNumber of cases: {}\".format(num_events, num_cases))\n",
    "\n",
    "\n",
    "    return event_log"
   ],
   "metadata": {
    "collapsed": false,
    "pycharm": {
     "name": "#%%\n"
    }
   }
  },
  {
   "cell_type": "code",
   "execution_count": 4,
   "outputs": [
    {
     "name": "stdout",
     "output_type": "stream",
     "text": [
      "Start activities: {'A_SUBMITTED': 2618}\n",
      "\n",
      "End activities: {'A_DECLINED': 739, 'W_Completeren aanvraag': 466, 'W_Valideren aanvraag': 454, 'W_Nabellen offertes': 389, 'W_Afhandelen leads': 388, 'W_Nabellen incomplete dossiers': 114, 'A_CANCELLED': 45, 'O_CANCELLED': 15, 'W_Beoordelen fraude': 8}\n",
      " \n",
      "Number of events: 47823\n",
      "Number of cases: 2618\n"
     ]
    }
   ],
   "source": [
    "file = \"data/BPI_Challenge_2012-test.csv\"\n",
    "\n",
    "event_log = import_csv(file)"
   ],
   "metadata": {
    "collapsed": false,
    "pycharm": {
     "name": "#%%\n"
    }
   }
  },
  {
   "cell_type": "code",
   "execution_count": 5,
   "outputs": [
    {
     "name": "stdout",
     "output_type": "stream",
     "text": [
      "         eventID   case concept:name                  case REG_DATE  \\\n",
      "0  44964012621824             206324  2012-02-03T17:17:11.047+01:00   \n",
      "1  44964012621825             206324  2012-02-03T17:17:11.047+01:00   \n",
      "2  44964012621826             206324  2012-02-03T17:17:11.047+01:00   \n",
      "3  44968307589120             206327  2012-02-03T17:23:41.949+01:00   \n",
      "4  44968307589121             206327  2012-02-03T17:23:41.949+01:00   \n",
      "\n",
      "   case AMOUNT_REQ event concept:name event lifecycle:transition  \\\n",
      "0             2500        A_SUBMITTED                   COMPLETE   \n",
      "1             2500  A_PARTLYSUBMITTED                   COMPLETE   \n",
      "2             2500         A_DECLINED                   COMPLETE   \n",
      "3             6000        A_SUBMITTED                   COMPLETE   \n",
      "4             6000  A_PARTLYSUBMITTED                   COMPLETE   \n",
      "\n",
      "     event time:timestamp case:concept:name       concept:name  \\\n",
      "0 2012-02-03 17:17:11.047            206324        A_SUBMITTED   \n",
      "1 2012-02-03 17:17:11.323            206324  A_PARTLYSUBMITTED   \n",
      "2 2012-02-03 17:17:42.964            206324         A_DECLINED   \n",
      "3 2012-02-03 17:23:41.949            206327        A_SUBMITTED   \n",
      "4 2012-02-03 17:23:42.504            206327  A_PARTLYSUBMITTED   \n",
      "\n",
      "           time:timestamp  @@index  \n",
      "0 2012-02-03 17:17:11.047        0  \n",
      "1 2012-02-03 17:17:11.323        1  \n",
      "2 2012-02-03 17:17:42.964        2  \n",
      "3 2012-02-03 17:23:41.949        3  \n",
      "4 2012-02-03 17:23:42.504        4  \n",
      "             eventID   case concept:name                  case REG_DATE  \\\n",
      "38039  56203942035457             214376  2012-02-29T23:51:16.799+01:00   \n",
      "38040  56203942035458             214376  2012-02-29T23:51:16.799+01:00   \n",
      "38096  56203942035459             214376  2012-02-29T23:51:16.799+01:00   \n",
      "38099  56203942035460             214376  2012-02-29T23:51:16.799+01:00   \n",
      "38100  56203942035461             214376  2012-02-29T23:51:16.799+01:00   \n",
      "\n",
      "       case AMOUNT_REQ  event concept:name event lifecycle:transition  \\\n",
      "38039            15000   A_PARTLYSUBMITTED                   COMPLETE   \n",
      "38040            15000  W_Afhandelen leads                   SCHEDULE   \n",
      "38096            15000  W_Afhandelen leads                      START   \n",
      "38099            15000          A_DECLINED                   COMPLETE   \n",
      "38100            15000  W_Afhandelen leads                   COMPLETE   \n",
      "\n",
      "         event time:timestamp case:concept:name        concept:name  \\\n",
      "38039 2012-02-29 23:51:17.423            214376   A_PARTLYSUBMITTED   \n",
      "38040 2012-02-29 23:52:01.287            214376  W_Afhandelen leads   \n",
      "38096 2012-03-01 09:26:46.736            214376  W_Afhandelen leads   \n",
      "38099 2012-03-01 09:27:37.118            214376          A_DECLINED   \n",
      "38100 2012-03-01 09:27:41.325            214376  W_Afhandelen leads   \n",
      "\n",
      "               time:timestamp  @@index  \n",
      "38039 2012-02-29 23:51:17.423    38039  \n",
      "38040 2012-02-29 23:52:01.287    38040  \n",
      "38096 2012-03-01 09:26:46.736    38096  \n",
      "38099 2012-03-01 09:27:37.118    38099  \n",
      "38100 2012-03-01 09:27:41.325    38100  \n"
     ]
    }
   ],
   "source": [
    "print(event_log.head())\n",
    "print(event_log.tail())"
   ],
   "metadata": {
    "collapsed": false,
    "pycharm": {
     "name": "#%%\n"
    }
   }
  },
  {
   "cell_type": "code",
   "execution_count": 6,
   "outputs": [],
   "source": [
    "# which features would be good predictors?\n",
    "# the previous event\n",
    "# have certain events already taken place in the sequence"
   ],
   "metadata": {
    "collapsed": false,
    "pycharm": {
     "name": "#%%\n"
    }
   }
  },
  {
   "cell_type": "code",
   "execution_count": 7,
   "outputs": [
    {
     "name": "stdout",
     "output_type": "stream",
     "text": [
      "    index        eventID   case concept:name                  case REG_DATE  \\\n",
      "0       0  44964012621824             206324  2012-02-03T17:17:11.047+01:00   \n",
      "1       1  44964012621825             206324  2012-02-03T17:17:11.047+01:00   \n",
      "2       2  44964012621826             206324  2012-02-03T17:17:11.047+01:00   \n",
      "0       3  44968307589120             206327  2012-02-03T17:23:41.949+01:00   \n",
      "1       4  44968307589121             206327  2012-02-03T17:23:41.949+01:00   \n",
      "..    ...             ...                ...                            ...   \n",
      "1   38039  56203942035457             214376  2012-02-29T23:51:16.799+01:00   \n",
      "2   38040  56203942035458             214376  2012-02-29T23:51:16.799+01:00   \n",
      "3   38096  56203942035459             214376  2012-02-29T23:51:16.799+01:00   \n",
      "4   38099  56203942035460             214376  2012-02-29T23:51:16.799+01:00   \n",
      "5   38100  56203942035461             214376  2012-02-29T23:51:16.799+01:00   \n",
      "\n",
      "    case AMOUNT_REQ  event concept:name event lifecycle:transition  \\\n",
      "0              2500         A_SUBMITTED                   COMPLETE   \n",
      "1              2500   A_PARTLYSUBMITTED                   COMPLETE   \n",
      "2              2500          A_DECLINED                   COMPLETE   \n",
      "0              6000         A_SUBMITTED                   COMPLETE   \n",
      "1              6000   A_PARTLYSUBMITTED                   COMPLETE   \n",
      "..              ...                 ...                        ...   \n",
      "1             15000   A_PARTLYSUBMITTED                   COMPLETE   \n",
      "2             15000  W_Afhandelen leads                   SCHEDULE   \n",
      "3             15000  W_Afhandelen leads                      START   \n",
      "4             15000          A_DECLINED                   COMPLETE   \n",
      "5             15000  W_Afhandelen leads                   COMPLETE   \n",
      "\n",
      "      event time:timestamp case:concept:name        concept:name  ...  \\\n",
      "0  2012-02-03 17:17:11.047            206324         A_SUBMITTED  ...   \n",
      "1  2012-02-03 17:17:11.323            206324   A_PARTLYSUBMITTED  ...   \n",
      "2  2012-02-03 17:17:42.964            206324          A_DECLINED  ...   \n",
      "0  2012-02-03 17:23:41.949            206327         A_SUBMITTED  ...   \n",
      "1  2012-02-03 17:23:42.504            206327   A_PARTLYSUBMITTED  ...   \n",
      "..                     ...               ...                 ...  ...   \n",
      "1  2012-02-29 23:51:17.423            214376   A_PARTLYSUBMITTED  ...   \n",
      "2  2012-02-29 23:52:01.287            214376  W_Afhandelen leads  ...   \n",
      "3  2012-03-01 09:26:46.736            214376  W_Afhandelen leads  ...   \n",
      "4  2012-03-01 09:27:37.118            214376          A_DECLINED  ...   \n",
      "5  2012-03-01 09:27:41.325            214376  W_Afhandelen leads  ...   \n",
      "\n",
      "   W_Afhandelen leads  O_SENT_BACK W_Valideren aanvraag O_ACCEPTED A_APPROVED  \\\n",
      "0                 NaN          NaN                  NaN        NaN        NaN   \n",
      "1                 NaN          NaN                  NaN        NaN        NaN   \n",
      "2                 NaN          NaN                  NaN        NaN        NaN   \n",
      "0                 NaN          NaN                  NaN        NaN        NaN   \n",
      "1                 NaN          NaN                  NaN        NaN        NaN   \n",
      "..                ...          ...                  ...        ...        ...   \n",
      "1                 NaN          NaN                  NaN        NaN        NaN   \n",
      "2                 NaN          NaN                  NaN        NaN        NaN   \n",
      "3                 1.0          NaN                  NaN        NaN        NaN   \n",
      "4                 1.0          NaN                  NaN        NaN        NaN   \n",
      "5                 1.0          NaN                  NaN        NaN        NaN   \n",
      "\n",
      "    A_REGISTERED  A_ACTIVATED  O_DECLINED  W_Nabellen incomplete dossiers  \\\n",
      "0            NaN          NaN         NaN                             NaN   \n",
      "1            NaN          NaN         NaN                             NaN   \n",
      "2            NaN          NaN         NaN                             NaN   \n",
      "0            NaN          NaN         NaN                             NaN   \n",
      "1            NaN          NaN         NaN                             NaN   \n",
      "..           ...          ...         ...                             ...   \n",
      "1            NaN          NaN         NaN                             NaN   \n",
      "2            NaN          NaN         NaN                             NaN   \n",
      "3            NaN          NaN         NaN                             NaN   \n",
      "4            NaN          NaN         NaN                             NaN   \n",
      "5            NaN          NaN         NaN                             NaN   \n",
      "\n",
      "    W_Beoordelen fraude  \n",
      "0                   NaN  \n",
      "1                   NaN  \n",
      "2                   NaN  \n",
      "0                   NaN  \n",
      "1                   NaN  \n",
      "..                  ...  \n",
      "1                   NaN  \n",
      "2                   NaN  \n",
      "3                   NaN  \n",
      "4                   NaN  \n",
      "5                   NaN  \n",
      "\n",
      "[47823 rows x 39 columns]\n"
     ]
    }
   ],
   "source": [
    "event_log = event_log.sort_values('event time:timestamp')\n",
    "\n",
    "def add_previous_events(instance):\n",
    "    \"\"\"instance is sorted by timestamp\"\"\"\n",
    "    instance = instance.reset_index()\n",
    "    previous_list = ['start']\n",
    "    previous_lifecycle = 'start'\n",
    "\n",
    "    for event_nr in range(len(instance)):\n",
    "        instance.loc[event_nr, 'previous_events'] = ' '.join(str(e) for e in previous_list)\n",
    "        instance.loc[event_nr, 'previous_event'] = previous_list[-1]\n",
    "        instance.loc[event_nr, 'previous lifecycle'] = previous_lifecycle\n",
    "        for event in previous_list:\n",
    "            instance.loc[event_nr, event] = 1\n",
    "        previous_list.append(instance.loc[event_nr, 'event concept:name'])\n",
    "        previous_lifecycle = instance.loc[event_nr, 'event lifecycle:transition']\n",
    "\n",
    "    return  instance\n",
    "\n",
    "new_event_log = pd.DataFrame()\n",
    "instance_list = pd.unique(event_log['case concept:name'])\n",
    "\n",
    "for instance_id in instance_list:\n",
    "    instance = event_log[event_log['case concept:name'] == instance_id]\n",
    "    new_event_log = new_event_log.append(add_previous_events(instance))\n",
    "\n",
    "print(new_event_log)"
   ],
   "metadata": {
    "collapsed": false,
    "pycharm": {
     "name": "#%%\n"
    }
   }
  },
  {
   "cell_type": "code",
   "execution_count": 7,
   "outputs": [],
   "source": [
    "new_event_log.to_csv('added_features_event_log_test.csv')"
   ],
   "metadata": {
    "collapsed": false,
    "pycharm": {
     "name": "#%%\n"
    }
   }
  }
 ],
 "metadata": {
  "kernelspec": {
   "display_name": "Python 3",
   "language": "python",
   "name": "python3"
  },
  "language_info": {
   "codemirror_mode": {
    "name": "ipython",
    "version": 2
   },
   "file_extension": ".py",
   "mimetype": "text/x-python",
   "name": "python",
   "nbconvert_exporter": "python",
   "pygments_lexer": "ipython2",
   "version": "2.7.6"
  }
 },
 "nbformat": 4,
 "nbformat_minor": 0
}