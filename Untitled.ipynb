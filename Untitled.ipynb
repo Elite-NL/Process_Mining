{
 "cells": [
  {
   "cell_type": "code",
   "execution_count": null,
   "metadata": {},
   "outputs": [
    {
     "name": "stderr",
     "output_type": "stream",
     "text": [
      "C:\\ProgramData\\Anaconda3\\envs\\my_env\\lib\\site-packages\\IPython\\core\\interactiveshell.py:3444: DtypeWarning: Columns (0,2) have mixed types.Specify dtype option on import or set low_memory=False.\n",
      "  exec(code_obj, self.user_global_ns, self.user_ns)\n"
     ]
    },
    {
     "name": "stdout",
     "output_type": "stream",
     "text": [
      "0                  Wandsworth\n",
      "1                     Lambeth\n",
      "2                     Lambeth\n",
      "3                 Westminster\n",
      "4                      Newham\n",
      "                 ...         \n",
      "115579            Dundee City\n",
      "115580      East Renfrewshire\n",
      "115581          Aberdeen City\n",
      "115582      North Lanarkshire\n",
      "115583    West Dunbartonshire\n",
      "Name: local_authority_ons_district, Length: 115584, dtype: object\n",
      "  local_authority_ons_district local_authority_ons_district_code  \\\n",
      "0                Aberdeen City                         S12000033   \n",
      "1                Aberdeenshire                         S12000034   \n",
      "2                         Adur                         E07000223   \n",
      "3                    Allerdale                         E07000026   \n",
      "4                 Amber Valley                         E07000032   \n",
      "\n",
      "   number_of_accidents  total_number_of_vehicles_involved_in_accidents  \\\n",
      "0                   70                                             122   \n",
      "1                  118                                             202   \n",
      "2                  120                                             243   \n",
      "3                  153                                             242   \n",
      "4                  149                                             284   \n",
      "\n",
      "   total_number_of_casualties_involved_in_accidents  \\\n",
      "0                                                84   \n",
      "1                                               166   \n",
      "2                                               150   \n",
      "3                                               188   \n",
      "4                                               174   \n",
      "\n",
      "   total_number_of_vehicles_involved_in_accidents_string  \\\n",
      "0                                                122       \n",
      "1                                                202       \n",
      "2                                                243       \n",
      "3                                                242       \n",
      "4                                                284       \n",
      "\n",
      "   total_number_of_casualties_involved_in_accidents_string  \\\n",
      "0                                                 84         \n",
      "1                                                166         \n",
      "2                                                150         \n",
      "3                                                188         \n",
      "4                                                174         \n",
      "\n",
      "  number_of_accidents_class  \n",
      "0                Low: 0-200  \n",
      "1                Low: 0-200  \n",
      "2                Low: 0-200  \n",
      "3                Low: 0-200  \n",
      "4                Low: 0-200  \n",
      "Dash is running on http://127.0.0.1:8050/\n",
      "\n",
      " * Serving Flask app '__main__' (lazy loading)\n",
      " * Environment: production\n",
      "   WARNING: This is a development server. Do not use it in a production deployment.\n",
      "   Use a production WSGI server instead.\n",
      " * Debug mode: off\n"
     ]
    },
    {
     "name": "stderr",
     "output_type": "stream",
     "text": [
      " * Running on http://127.0.0.1:8050/ (Press CTRL+C to quit)\n",
      "127.0.0.1 - - [03/Feb/2022 13:17:10] \"GET / HTTP/1.1\" 200 -\n",
      "127.0.0.1 - - [03/Feb/2022 13:17:10] \"GET /_dash-component-suites/dash_bootstrap_components/_components/dash_bootstrap_components.v1_0_2m1643890606.min.js HTTP/1.1\" 200 -\n",
      "127.0.0.1 - - [03/Feb/2022 13:17:10] \"GET /_dash-component-suites/dash/deps/react-dom@16.v2_1_0m1643570774.14.0.min.js HTTP/1.1\" 200 -\n",
      "127.0.0.1 - - [03/Feb/2022 13:17:10] \"GET /_dash-component-suites/dash/deps/prop-types@15.v2_1_0m1643570774.7.2.min.js HTTP/1.1\" 200 -\n",
      "127.0.0.1 - - [03/Feb/2022 13:17:10] \"GET /_dash-component-suites/dash/deps/react@16.v2_1_0m1643570774.14.0.min.js HTTP/1.1\" 200 -\n",
      "127.0.0.1 - - [03/Feb/2022 13:17:10] \"GET /_dash-component-suites/dash/deps/polyfill@7.v2_1_0m1643570774.12.1.min.js HTTP/1.1\" 200 -\n",
      "127.0.0.1 - - [03/Feb/2022 13:17:10] \"GET /_dash-component-suites/dash/dcc/dash_core_components-shared.v2_1_0m1643570774.js HTTP/1.1\" 200 -\n",
      "127.0.0.1 - - [03/Feb/2022 13:17:10] \"GET /_dash-component-suites/dash/dash_table/bundle.v5_1_0m1643570773.js HTTP/1.1\" 200 -\n",
      "127.0.0.1 - - [03/Feb/2022 13:17:10] \"GET /_dash-component-suites/dash/dcc/dash_core_components.v2_1_0m1643570774.js HTTP/1.1\" 200 -\n",
      "127.0.0.1 - - [03/Feb/2022 13:17:10] \"GET /_dash-component-suites/dash/html/dash_html_components.v2_0_1m1643570774.min.js HTTP/1.1\" 200 -\n",
      "127.0.0.1 - - [03/Feb/2022 13:17:10] \"GET /_dash-component-suites/dash/dash-renderer/build/dash_renderer.v2_1_0m1643570773.min.js HTTP/1.1\" 200 -\n",
      "127.0.0.1 - - [03/Feb/2022 13:17:11] \"GET /_dash-layout HTTP/1.1\" 200 -\n",
      "127.0.0.1 - - [03/Feb/2022 13:17:11] \"GET /_dash-dependencies HTTP/1.1\" 200 -\n",
      "127.0.0.1 - - [03/Feb/2022 13:17:11] \"GET /_favicon.ico?v=2.1.0 HTTP/1.1\" 200 -\n",
      "127.0.0.1 - - [03/Feb/2022 13:17:11] \"GET /_dash-component-suites/dash/dcc/async-dropdown.js HTTP/1.1\" 200 -\n",
      "127.0.0.1 - - [03/Feb/2022 13:17:11] \"GET /_dash-component-suites/dash/dcc/async-graph.js HTTP/1.1\" 200 -\n",
      "127.0.0.1 - - [03/Feb/2022 13:17:11] \"GET /_dash-component-suites/dash/dcc/async-slider.js HTTP/1.1\" 200 -\n",
      "127.0.0.1 - - [03/Feb/2022 13:17:11] \"GET /_dash-component-suites/dash/dcc/async-plotlyjs.js HTTP/1.1\" 200 -\n"
     ]
    },
    {
     "name": "stdout",
     "output_type": "stream",
     "text": [
      "accident_severity\n"
     ]
    },
    {
     "name": "stderr",
     "output_type": "stream",
     "text": [
      "127.0.0.1 - - [03/Feb/2022 13:17:12] \"POST /_dash-update-component HTTP/1.1\" 200 -\n"
     ]
    },
    {
     "name": "stdout",
     "output_type": "stream",
     "text": [
      "None\n",
      "accident_severity\n",
      "YESH\n",
      "40031    Serious\n",
      "40032     Slight\n",
      "40034     Slight\n",
      "40035     Slight\n",
      "40037    Serious\n",
      "          ...   \n",
      "43952     Slight\n",
      "43953     Slight\n",
      "43956     Slight\n",
      "43957     Slight\n",
      "43961     Slight\n",
      "Name: accident_severity, Length: 1802, dtype: object\n"
     ]
    },
    {
     "name": "stderr",
     "output_type": "stream",
     "text": [
      "127.0.0.1 - - [03/Feb/2022 13:17:29] \"POST /_dash-update-component HTTP/1.1\" 200 -\n",
      "127.0.0.1 - - [03/Feb/2022 13:17:31] \"POST /_dash-update-component HTTP/1.1\" 200 -\n",
      "127.0.0.1 - - [03/Feb/2022 13:17:31] \"POST /_dash-update-component HTTP/1.1\" 200 -\n",
      "127.0.0.1 - - [03/Feb/2022 13:17:31] \"POST /_dash-update-component HTTP/1.1\" 200 -\n",
      "127.0.0.1 - - [03/Feb/2022 13:17:31] \"POST /_dash-update-component HTTP/1.1\" 200 -\n",
      "127.0.0.1 - - [03/Feb/2022 13:18:08] \"POST /_dash-update-component HTTP/1.1\" 200 -\n",
      "127.0.0.1 - - [03/Feb/2022 13:18:11] \"POST /_dash-update-component HTTP/1.1\" 200 -\n",
      "127.0.0.1 - - [03/Feb/2022 13:18:47] \"POST /_dash-update-component HTTP/1.1\" 200 -\n"
     ]
    },
    {
     "name": "stdout",
     "output_type": "stream",
     "text": [
      "None\n",
      "age_band_of_driver\n",
      "age_band_of_driver\n",
      "73570                         21 - 25\n",
      "73571    Data missing or out of range\n",
      "73574    Data missing or out of range\n",
      "73575    Data missing or out of range\n",
      "73576    Data missing or out of range\n",
      "                     ...             \n",
      "81000                         26 - 35\n",
      "81001    Data missing or out of range\n",
      "81002                         66 - 75\n",
      "81008                         46 - 55\n",
      "81009                         46 - 55\n",
      "Name: age_band_of_driver, Length: 3410, dtype: object\n"
     ]
    },
    {
     "name": "stderr",
     "output_type": "stream",
     "text": [
      "127.0.0.1 - - [03/Feb/2022 13:19:42] \"POST /_dash-update-component HTTP/1.1\" 200 -\n",
      "127.0.0.1 - - [03/Feb/2022 13:19:42] \"POST /_dash-update-component HTTP/1.1\" 200 -\n",
      "127.0.0.1 - - [03/Feb/2022 13:19:42] \"POST /_dash-update-component HTTP/1.1\" 200 -\n",
      "127.0.0.1 - - [03/Feb/2022 13:19:53] \"POST /_dash-update-component HTTP/1.1\" 200 -\n",
      "127.0.0.1 - - [03/Feb/2022 13:19:57] \"POST /_dash-update-component HTTP/1.1\" 200 -\n",
      "127.0.0.1 - - [03/Feb/2022 13:20:00] \"POST /_dash-update-component HTTP/1.1\" 200 -\n",
      "127.0.0.1 - - [03/Feb/2022 13:21:28] \"POST /_dash-update-component HTTP/1.1\" 200 -\n",
      "127.0.0.1 - - [03/Feb/2022 13:21:34] \"POST /_dash-update-component HTTP/1.1\" 200 -\n"
     ]
    },
    {
     "name": "stdout",
     "output_type": "stream",
     "text": [
      "None\n",
      "vehicle_type\n",
      "vehicle_type\n",
      "73570                                    Car\n",
      "73571                                    Car\n",
      "73574                                    Car\n",
      "73575         Goods vehicle - unknown weight\n",
      "73576                                    Car\n",
      "                        ...                 \n",
      "81000                                    Car\n",
      "81001    Van / Goods 3.5 tonnes mgw or under\n",
      "81002                                    Car\n",
      "81008                                    Car\n",
      "81009                                    Car\n",
      "Name: vehicle_type, Length: 3410, dtype: object\n"
     ]
    },
    {
     "name": "stderr",
     "output_type": "stream",
     "text": [
      "127.0.0.1 - - [03/Feb/2022 13:21:41] \"POST /_dash-update-component HTTP/1.1\" 200 -\n",
      "127.0.0.1 - - [03/Feb/2022 13:21:41] \"POST /_dash-update-component HTTP/1.1\" 200 -\n",
      "127.0.0.1 - - [03/Feb/2022 13:21:41] \"POST /_dash-update-component HTTP/1.1\" 200 -\n",
      "127.0.0.1 - - [03/Feb/2022 13:21:46] \"POST /_dash-update-component HTTP/1.1\" 200 -\n"
     ]
    },
    {
     "name": "stdout",
     "output_type": "stream",
     "text": [
      "None\n",
      "accident_severity\n",
      "YESH\n",
      "accident_severity\n",
      "40031    Serious\n",
      "40032     Slight\n",
      "40034     Slight\n",
      "40035     Slight\n",
      "40037    Serious\n",
      "          ...   \n",
      "43952     Slight\n",
      "43953     Slight\n",
      "43956     Slight\n",
      "43957     Slight\n",
      "43961     Slight\n",
      "Name: accident_severity, Length: 1802, dtype: object\n"
     ]
    },
    {
     "name": "stderr",
     "output_type": "stream",
     "text": [
      "127.0.0.1 - - [03/Feb/2022 13:21:50] \"POST /_dash-update-component HTTP/1.1\" 200 -\n",
      "127.0.0.1 - - [03/Feb/2022 13:21:51] \"POST /_dash-update-component HTTP/1.1\" 200 -\n",
      "127.0.0.1 - - [03/Feb/2022 13:21:51] \"POST /_dash-update-component HTTP/1.1\" 200 -\n",
      "127.0.0.1 - - [03/Feb/2022 13:21:52] \"POST /_dash-update-component HTTP/1.1\" 200 -\n"
     ]
    },
    {
     "name": "stdout",
     "output_type": "stream",
     "text": [
      "None\n",
      "road_type\n",
      "YESHroad_type\n",
      "\n",
      "40031      Dual carriageway\n",
      "40032    Single carriageway\n",
      "40034    Single carriageway\n",
      "40035    Single carriageway\n",
      "40037    Single carriageway\n",
      "                ...        \n",
      "43952        One way street\n",
      "43953    Single carriageway\n",
      "43956    Single carriageway\n",
      "43957    Single carriageway\n",
      "43961      Dual carriageway\n",
      "Name: road_type, Length: 1802, dtype: object\n"
     ]
    },
    {
     "name": "stderr",
     "output_type": "stream",
     "text": [
      "127.0.0.1 - - [03/Feb/2022 13:21:52] \"POST /_dash-update-component HTTP/1.1\" 200 -\n",
      "127.0.0.1 - - [03/Feb/2022 13:21:53] \"POST /_dash-update-component HTTP/1.1\" 200 -\n",
      "127.0.0.1 - - [03/Feb/2022 13:22:01] \"POST /_dash-update-component HTTP/1.1\" 200 -\n"
     ]
    },
    {
     "name": "stdout",
     "output_type": "stream",
     "text": [
      "None\n",
      "accident_severityaccident_severity\n",
      "YESH\n",
      "\n",
      "40031    Serious\n",
      "40032     Slight\n",
      "40034     Slight\n",
      "40035     Slight\n",
      "40037    Serious\n",
      "          ...   \n",
      "43952     Slight\n",
      "43953     Slight\n",
      "43956     Slight\n",
      "43957     Slight\n",
      "43961     Slight\n",
      "Name: accident_severity, Length: 1802, dtype: object\n"
     ]
    },
    {
     "name": "stderr",
     "output_type": "stream",
     "text": [
      "127.0.0.1 - - [03/Feb/2022 13:22:23] \"POST /_dash-update-component HTTP/1.1\" 200 -\n",
      "127.0.0.1 - - [03/Feb/2022 13:22:23] \"POST /_dash-update-component HTTP/1.1\" 200 -\n",
      "127.0.0.1 - - [03/Feb/2022 13:22:23] \"POST /_dash-update-component HTTP/1.1\" 200 -\n",
      "127.0.0.1 - - [03/Feb/2022 13:22:54] \"POST /_dash-update-component HTTP/1.1\" 200 -\n"
     ]
    },
    {
     "name": "stdout",
     "output_type": "stream",
     "text": [
      "East Riding of Yorkshire\n",
      "High: 400-600\n",
      "{'points': [{'curveNumber': 0, 'pointNumber': 109, 'pointIndex': 109, 'location': 'E06000011', 'z': 495, 'text': 'District name: East Riding of Yorkshire<br>Number of vehicles involved in accidents: 904<br>Number of casualties involved in accidents: 648<br>Accidents number class: High: 400-600', 'bbox': {'x0': 388.4423599628326, 'x1': 388.4423599628326, 'y0': 381.8531750680627, 'y1': 381.8531750680627}}]}\n",
      "accident_severity\n",
      "YESH\n",
      "East Riding of Yorkshire\n",
      "East Riding of Yorkshire37760     Slight\n",
      "37761    Serious\n",
      "37763     Slight\n",
      "37769     Slight\n",
      "37772     Slight\n",
      "          ...   \n",
      "39447     Slight\n",
      "39448     Slight\n",
      "39449    Serious\n",
      "39452     Slight\n",
      "39455     Slight\n",
      "Name: accident_severity, Length: 495, dtype: object\n",
      "\n"
     ]
    },
    {
     "name": "stderr",
     "output_type": "stream",
     "text": [
      "127.0.0.1 - - [03/Feb/2022 13:22:54] \"POST /_dash-update-component HTTP/1.1\" 200 -\n",
      "127.0.0.1 - - [03/Feb/2022 13:22:55] \"POST /_dash-update-component HTTP/1.1\" 200 -\n",
      "127.0.0.1 - - [03/Feb/2022 13:22:57] \"POST /_dash-update-component HTTP/1.1\" 200 -\n"
     ]
    },
    {
     "name": "stdout",
     "output_type": "stream",
     "text": [
      "Westminster\n",
      "Extreme: 600+\n",
      "{'points': [{'curveNumber': 0, 'pointNumber': 360, 'pointIndex': 360, 'location': 'E09000033', 'z': 1037, 'text': 'District name: Westminster<br>Number of vehicles involved in accidents: 1867<br>Number of casualties involved in accidents: 1156<br>Accidents number class: Extreme: 600+', 'bbox': {'x0': 383.6577942574379, 'x1': 383.6577942574379, 'y0': 450.42276740290026, 'y1': 450.42276740290026}}]}\n",
      "accident_severity\n",
      "YESH\n",
      "Westminster\n",
      "2        Slight\n",
      "4        Slight\n",
      "22       Slight\n",
      "49       Slight\n",
      "52       Slight\n",
      "          ...  \n",
      "20738    Slight\n",
      "20762    Slight\n",
      "20764    Slight\n",
      "20777    Slight\n",
      "20889    Slight\n",
      "Name: accident_severity, Length: 1037, dtype: objectWestminster\n",
      "\n"
     ]
    },
    {
     "name": "stderr",
     "output_type": "stream",
     "text": [
      "127.0.0.1 - - [03/Feb/2022 13:22:58] \"POST /_dash-update-component HTTP/1.1\" 200 -\n",
      "127.0.0.1 - - [03/Feb/2022 13:22:58] \"POST /_dash-update-component HTTP/1.1\" 200 -\n",
      "127.0.0.1 - - [03/Feb/2022 13:23:00] \"POST /_dash-update-component HTTP/1.1\" 200 -\n"
     ]
    },
    {
     "name": "stdout",
     "output_type": "stream",
     "text": [
      "Cornwall\n",
      "Extreme: 600+\n",
      "{'points': [{'curveNumber': 0, 'pointNumber': 78, 'pointIndex': 78, 'location': 'E06000052', 'z': 862, 'text': 'District name: Cornwall<br>Number of vehicles involved in accidents: 1522<br>Number of casualties involved in accidents: 1218<br>Accidents number class: Extreme: 600+', 'bbox': {'x0': 293.7240517605882, 'x1': 293.7240517605882, 'y0': 469.9447163873117, 'y1': 469.9447163873117}}]}\n",
      "accident_severity\n",
      "YESH\n",
      "Cornwall\n",
      "Cornwall\n",
      "77015      Fatal\n",
      "77018     Slight\n",
      "77020    Serious\n",
      "77028     Slight\n",
      "77029     Slight\n",
      "          ...   \n",
      "79615     Slight\n",
      "79618     Slight\n",
      "79619     Slight\n",
      "79623    Serious\n",
      "79627     Slight\n",
      "Name: accident_severity, Length: 862, dtype: object\n"
     ]
    },
    {
     "name": "stderr",
     "output_type": "stream",
     "text": [
      "127.0.0.1 - - [03/Feb/2022 13:23:01] \"POST /_dash-update-component HTTP/1.1\" 200 -\n",
      "127.0.0.1 - - [03/Feb/2022 13:23:01] \"POST /_dash-update-component HTTP/1.1\" 200 -\n",
      "127.0.0.1 - - [03/Feb/2022 13:23:03] \"POST /_dash-update-component HTTP/1.1\" 200 -\n"
     ]
    },
    {
     "name": "stdout",
     "output_type": "stream",
     "text": [
      "Eden\n",
      "Low: 0-200\n",
      "{'points': [{'curveNumber': 0, 'pointNumber': 114, 'pointIndex': 114, 'location': 'E07000030', 'z': 97, 'text': 'District name: Eden<br>Number of vehicles involved in accidents: 145<br>Number of casualties involved in accidents: 120<br>Accidents number class: Low: 0-200', 'bbox': {'x0': 353.92872298665066, 'x1': 353.92872298665066, 'y0': 354.02676696140657, 'y1': 354.02676696140657}}]}\n",
      "accident_severity\n",
      "EdenYESH\n",
      "Eden\n",
      "\n",
      "20908    Serious\n",
      "20919     Slight\n",
      "20958     Slight\n",
      "20959     Slight\n",
      "20976     Slight\n",
      "          ...   \n",
      "21649     Slight\n",
      "21650     Slight\n",
      "21653     Slight\n",
      "21658    Serious\n",
      "21660     Slight\n",
      "Name: accident_severity, Length: 97, dtype: object\n"
     ]
    },
    {
     "name": "stderr",
     "output_type": "stream",
     "text": [
      "127.0.0.1 - - [03/Feb/2022 13:23:03] \"POST /_dash-update-component HTTP/1.1\" 200 -\n",
      "127.0.0.1 - - [03/Feb/2022 13:23:04] \"POST /_dash-update-component HTTP/1.1\" 200 -\n",
      "127.0.0.1 - - [03/Feb/2022 13:23:26] \"POST /_dash-update-component HTTP/1.1\" 200 -\n"
     ]
    },
    {
     "name": "stdout",
     "output_type": "stream",
     "text": [
      "Aberdeenshire\n",
      "Low: 0-200\n",
      "{'points': [{'curveNumber': 0, 'pointNumber': 1, 'pointIndex': 1, 'location': 'S12000034', 'z': 118, 'text': 'District name: Aberdeenshire<br>Number of vehicles involved in accidents: 202<br>Number of casualties involved in accidents: 166<br>Accidents number class: Low: 0-200', 'bbox': {'x0': 370.37365055186564, 'x1': 370.37365055186564, 'y0': 275.46335943953864, 'y1': 275.46335943953864}}]}\n",
      "accident_severity\n",
      "YESH\n",
      "Aberdeenshire\n",
      "Aberdeenshire\n",
      "87392    Serious\n",
      "87402    Serious\n",
      "87422     Slight\n",
      "87466      Fatal\n",
      "87584    Serious\n",
      "          ...   \n",
      "91117     Slight\n",
      "91119     Slight\n",
      "91151    Serious\n",
      "91173    Serious\n",
      "91174     Slight\n",
      "Name: accident_severity, Length: 118, dtype: object\n"
     ]
    },
    {
     "name": "stderr",
     "output_type": "stream",
     "text": [
      "127.0.0.1 - - [03/Feb/2022 13:23:26] \"POST /_dash-update-component HTTP/1.1\" 200 -\n",
      "127.0.0.1 - - [03/Feb/2022 13:23:27] \"POST /_dash-update-component HTTP/1.1\" 200 -\n",
      "127.0.0.1 - - [03/Feb/2022 13:23:36] \"POST /_dash-update-component HTTP/1.1\" 200 -\n"
     ]
    },
    {
     "name": "stdout",
     "output_type": "stream",
     "text": [
      "Highland{'points': [{'curveNumber': 0, 'pointNumber': 155, 'pointIndex': 155, 'location': 'S12000017', 'z': 215, 'text': 'District name: Highland<br>Number of vehicles involved in accidents: 355<br>Number of casualties involved in accidents: 296<br>Accidents number class: Medium: 200-400', 'bbox': {'x0': 331.4470931853274, 'x1': 331.4470931853274, 'y0': 257.79255503230206, 'y1': 257.79255503230206}}]}Highland\n",
      "\n",
      "Medium: 200-400\n",
      "\n",
      "accident_severity\n",
      "YESH\n",
      "Highland\n",
      "87366    Serious\n",
      "87372     Slight\n",
      "87404     Slight\n",
      "87427    Serious\n",
      "87448     Slight\n",
      "          ...   \n",
      "91157     Slight\n",
      "91161     Slight\n",
      "91162    Serious\n",
      "91165     Slight\n",
      "91181    Serious\n",
      "Name: accident_severity, Length: 215, dtype: object\n"
     ]
    },
    {
     "name": "stderr",
     "output_type": "stream",
     "text": [
      "127.0.0.1 - - [03/Feb/2022 13:23:37] \"POST /_dash-update-component HTTP/1.1\" 200 -\n",
      "127.0.0.1 - - [03/Feb/2022 13:23:37] \"POST /_dash-update-component HTTP/1.1\" 200 -\n",
      "127.0.0.1 - - [03/Feb/2022 13:23:40] \"POST /_dash-update-component HTTP/1.1\" 200 -\n"
     ]
    },
    {
     "name": "stdout",
     "output_type": "stream",
     "text": [
      "Aberdeenshire\n",
      "Low: 0-200\n",
      "{'points': [{'curveNumber': 0, 'pointNumber': 1, 'pointIndex': 1, 'location': 'S12000034', 'z': 118, 'text': 'District name: Aberdeenshire<br>Number of vehicles involved in accidents: 202<br>Number of casualties involved in accidents: 166<br>Accidents number class: Low: 0-200', 'bbox': {'x0': 370.37365055186564, 'x1': 370.37365055186564, 'y0': 275.46335943953864, 'y1': 275.46335943953864}}]}\n",
      "accident_severity\n",
      "YESH\n",
      "Aberdeenshire\n",
      "Aberdeenshire\n",
      "87392    Serious\n",
      "87402    Serious\n",
      "87422     Slight\n",
      "87466      Fatal\n",
      "87584    Serious\n",
      "          ...   \n",
      "91117     Slight\n",
      "91119     Slight\n",
      "91151    Serious\n",
      "91173    Serious\n",
      "91174     Slight\n",
      "Name: accident_severity, Length: 118, dtype: object\n"
     ]
    },
    {
     "name": "stderr",
     "output_type": "stream",
     "text": [
      "127.0.0.1 - - [03/Feb/2022 13:23:40] \"POST /_dash-update-component HTTP/1.1\" 200 -\n",
      "127.0.0.1 - - [03/Feb/2022 13:23:40] \"POST /_dash-update-component HTTP/1.1\" 200 -\n",
      "127.0.0.1 - - [03/Feb/2022 13:23:43] \"POST /_dash-update-component HTTP/1.1\" 200 -\n"
     ]
    },
    {
     "name": "stdout",
     "output_type": "stream",
     "text": [
      "Scottish Borders\n",
      "Low: 0-200\n",
      "{'points': [{'curveNumber': 0, 'pointNumber': 268, 'pointIndex': 268, 'location': 'S12000026', 'z': 83, 'text': 'District name: Scottish Borders<br>Number of vehicles involved in accidents: 129<br>Number of casualties involved in accidents: 108<br>Accidents number class: Low: 0-200', 'bbox': {'x0': 357.83723773932354, 'x1': 357.83723773932354, 'y0': 324.4490309784735, 'y1': 324.4490309784735}}]}\n",
      "accident_severity\n",
      "YESH\n",
      "Scottish Borders\n",
      "Scottish Borders\n",
      "87429    Serious\n",
      "87493    Serious\n",
      "87695     Slight\n",
      "87702    Serious\n",
      "87777    Serious\n",
      "          ...   \n",
      "91111      Fatal\n",
      "91116     Slight\n",
      "91135     Slight\n",
      "91158     Slight\n",
      "91172     Slight\n",
      "Name: accident_severity, Length: 83, dtype: object\n"
     ]
    },
    {
     "name": "stderr",
     "output_type": "stream",
     "text": [
      "127.0.0.1 - - [03/Feb/2022 13:23:43] \"POST /_dash-update-component HTTP/1.1\" 200 -\n",
      "127.0.0.1 - - [03/Feb/2022 13:23:44] \"POST /_dash-update-component HTTP/1.1\" 200 -\n",
      "127.0.0.1 - - [03/Feb/2022 13:23:48] \"POST /_dash-update-component HTTP/1.1\" 200 -\n"
     ]
    },
    {
     "name": "stdout",
     "output_type": "stream",
     "text": [
      "Leeds\n",
      "Extreme: 600+\n",
      "{'points': [{'curveNumber': 0, 'pointNumber': 176, 'pointIndex': 176, 'location': 'E08000035', 'z': 1009, 'text': 'District name: Leeds<br>Number of vehicles involved in accidents: 1843<br>Number of casualties involved in accidents: 1262<br>Accidents number class: Extreme: 600+', 'bbox': {'x0': 369.3787186028296, 'x1': 369.3787186028296, 'y0': 380.1312323408238, 'y1': 380.1312323408238}}]}\n",
      "accident_severity\n",
      "YESH\n",
      "Leeds\n",
      "Leeds\n",
      "32965     Slight\n",
      "32966    Serious\n",
      "32967     Slight\n",
      "32968     Slight\n",
      "32975     Slight\n",
      "          ...   \n",
      "35717     Slight\n",
      "35719     Slight\n",
      "35720     Slight\n",
      "35726     Slight\n",
      "35728    Serious\n",
      "Name: accident_severity, Length: 1009, dtype: object\n"
     ]
    },
    {
     "name": "stderr",
     "output_type": "stream",
     "text": [
      "127.0.0.1 - - [03/Feb/2022 13:23:48] \"POST /_dash-update-component HTTP/1.1\" 200 -\n",
      "127.0.0.1 - - [03/Feb/2022 13:23:49] \"POST /_dash-update-component HTTP/1.1\" 200 -\n",
      "127.0.0.1 - - [03/Feb/2022 13:23:50] \"POST /_dash-update-component HTTP/1.1\" 200 -\n"
     ]
    },
    {
     "name": "stdout",
     "output_type": "stream",
     "text": [
      "Stratford-on-Avon\n",
      "Low: 0-200\n",
      "{'points': [{'curveNumber': 0, 'pointNumber': 309, 'pointIndex': 309, 'location': 'E07000221', 'z': 177, 'text': 'District name: Stratford-on-Avon<br>Number of vehicles involved in accidents: 335<br>Number of casualties involved in accidents: 235<br>Accidents number class: Low: 0-200', 'bbox': {'x0': 360.77256555904586, 'x1': 360.77256555904586, 'y0': 427.7468093007262, 'y1': 427.7468093007262}}]}\n",
      "accident_severity\n",
      "YESH\n",
      "Stratford-on-Avon\n",
      "46287    Serious\n",
      "46292     Slight\n",
      "46293    Serious\n",
      "46295     Slight\n",
      "46303     Slight\n",
      "          ...   \n",
      "47101     Slight\n",
      "47110    Serious\n",
      "47112     Slight\n",
      "47125     Slight\n",
      "47131     Slight\n",
      "Name: accident_severity, Length: 177, dtype: object\n",
      "Stratford-on-Avon\n"
     ]
    },
    {
     "name": "stderr",
     "output_type": "stream",
     "text": [
      "127.0.0.1 - - [03/Feb/2022 13:23:51] \"POST /_dash-update-component HTTP/1.1\" 200 -\n",
      "127.0.0.1 - - [03/Feb/2022 13:23:51] \"POST /_dash-update-component HTTP/1.1\" 200 -\n",
      "127.0.0.1 - - [03/Feb/2022 13:23:53] \"POST /_dash-update-component HTTP/1.1\" 200 -\n"
     ]
    },
    {
     "name": "stdout",
     "output_type": "stream",
     "text": [
      "Ashford{'points': [{'curveNumber': 0, 'pointNumber': 9, 'pointIndex': 9, 'location': 'E07000105', 'z': 242, 'text': 'District name: Ashford<br>Number of vehicles involved in accidents: 434<br>Number of casualties involved in accidents: 351<br>Accidents number class: Medium: 200-400', 'bbox': {'x0': 399.3479584570094, 'x1': 399.3479584570094, 'y0': 463.9497384810711, 'y1': 463.9497384810711}}]}\n",
      "Medium: 200-400\n",
      "\n",
      "accident_severity\n",
      "YESH\n",
      "Ashford\n",
      "Ashford\n",
      "70400     Slight\n",
      "70412     Slight\n",
      "70414     Slight\n",
      "70435    Serious\n",
      "70436    Serious\n",
      "          ...   \n",
      "73728     Slight\n",
      "73739    Serious\n",
      "73763     Slight\n",
      "73790     Slight\n",
      "73791    Serious\n",
      "Name: accident_severity, Length: 242, dtype: object\n"
     ]
    },
    {
     "name": "stderr",
     "output_type": "stream",
     "text": [
      "127.0.0.1 - - [03/Feb/2022 13:23:53] \"POST /_dash-update-component HTTP/1.1\" 200 -\n",
      "127.0.0.1 - - [03/Feb/2022 13:23:53] \"POST /_dash-update-component HTTP/1.1\" 200 -\n",
      "127.0.0.1 - - [03/Feb/2022 13:23:55] \"POST /_dash-update-component HTTP/1.1\" 200 -\n"
     ]
    },
    {
     "name": "stdout",
     "output_type": "stream",
     "text": [
      "Angus{'points': [{'curveNumber': 0, 'pointNumber': 5, 'pointIndex': 5, 'location': 'S12000041', 'z': 125, 'text': 'District name: Angus<br>Number of vehicles involved in accidents: 202<br>Number of casualties involved in accidents: 188<br>Accidents number class: Low: 0-200', 'bbox': {'x0': 361.24234695054025, 'x1': 361.24234695054025, 'y0': 292.87513501856847, 'y1': 292.87513501856847}}]}\n",
      "Low: 0-200\n",
      "\n",
      "accident_severity\n",
      "YESH\n",
      "Angus\n",
      "Angus\n",
      "87380    Serious\n",
      "87426     Slight\n",
      "87468    Serious\n",
      "87470     Slight\n",
      "87497    Serious\n",
      "          ...   \n",
      "91063     Slight\n",
      "91142     Slight\n",
      "91154    Serious\n",
      "91167    Serious\n",
      "91176    Serious\n",
      "Name: accident_severity, Length: 125, dtype: object\n"
     ]
    },
    {
     "name": "stderr",
     "output_type": "stream",
     "text": [
      "127.0.0.1 - - [03/Feb/2022 13:23:55] \"POST /_dash-update-component HTTP/1.1\" 200 -\n",
      "127.0.0.1 - - [03/Feb/2022 13:23:55] \"POST /_dash-update-component HTTP/1.1\" 200 -\n",
      "127.0.0.1 - - [03/Feb/2022 13:23:58] \"POST /_dash-update-component HTTP/1.1\" 200 -\n"
     ]
    },
    {
     "name": "stdout",
     "output_type": "stream",
     "text": [
      "Aberdeenshire\n",
      "{'points': [{'curveNumber': 0, 'pointNumber': 1, 'pointIndex': 1, 'location': 'S12000034', 'z': 118, 'text': 'District name: Aberdeenshire<br>Number of vehicles involved in accidents: 202<br>Number of casualties involved in accidents: 166<br>Accidents number class: Low: 0-200', 'bbox': {'x0': 370.37365055186564, 'x1': 370.37365055186564, 'y0': 275.46335943953864, 'y1': 275.46335943953864}}]}Low: 0-200\n",
      "\n",
      "accident_severity\n",
      "YESH\n",
      "Aberdeenshire\n",
      "Aberdeenshire\n",
      "87392    Serious\n",
      "87402    Serious\n",
      "87422     Slight\n",
      "87466      Fatal\n",
      "87584    Serious\n",
      "          ...   \n",
      "91117     Slight\n",
      "91119     Slight\n",
      "91151    Serious\n",
      "91173    Serious\n",
      "91174     Slight\n",
      "Name: accident_severity, Length: 118, dtype: object\n"
     ]
    },
    {
     "name": "stderr",
     "output_type": "stream",
     "text": [
      "127.0.0.1 - - [03/Feb/2022 13:23:59] \"POST /_dash-update-component HTTP/1.1\" 200 -\n",
      "127.0.0.1 - - [03/Feb/2022 13:23:59] \"POST /_dash-update-component HTTP/1.1\" 200 -\n",
      "127.0.0.1 - - [03/Feb/2022 13:24:34] \"POST /_dash-update-component HTTP/1.1\" 200 -\n"
     ]
    },
    {
     "name": "stdout",
     "output_type": "stream",
     "text": [
      "Cornwall\n",
      "Extreme: 600+\n",
      "{'points': [{'curveNumber': 0, 'pointNumber': 78, 'pointIndex': 78, 'location': 'E06000052', 'z': 862, 'text': 'District name: Cornwall<br>Number of vehicles involved in accidents: 1522<br>Number of casualties involved in accidents: 1218<br>Accidents number class: Extreme: 600+', 'bbox': {'x0': 293.7240517605882, 'x1': 293.7240517605882, 'y0': 469.9447163873117, 'y1': 469.9447163873117}}]}\n",
      "accident_severity\n",
      "YESH\n",
      "Cornwall\n",
      "Cornwall\n",
      "77015      Fatal\n",
      "77018     Slight\n",
      "77020    Serious\n",
      "77028     Slight\n",
      "77029     Slight\n",
      "          ...   \n",
      "79615     Slight\n",
      "79618     Slight\n",
      "79619     Slight\n",
      "79623    Serious\n",
      "79627     Slight\n",
      "Name: accident_severity, Length: 862, dtype: object\n"
     ]
    },
    {
     "name": "stderr",
     "output_type": "stream",
     "text": [
      "127.0.0.1 - - [03/Feb/2022 13:24:35] \"POST /_dash-update-component HTTP/1.1\" 200 -\n",
      "127.0.0.1 - - [03/Feb/2022 13:24:35] \"POST /_dash-update-component HTTP/1.1\" 200 -\n",
      "127.0.0.1 - - [03/Feb/2022 13:24:39] \"POST /_dash-update-component HTTP/1.1\" 200 -\n"
     ]
    },
    {
     "name": "stdout",
     "output_type": "stream",
     "text": [
      "Aberdeenshire\n",
      "{'points': [{'curveNumber': 0, 'pointNumber': 1, 'pointIndex': 1, 'location': 'S12000034', 'z': 118, 'text': 'District name: Aberdeenshire<br>Number of vehicles involved in accidents: 202<br>Number of casualties involved in accidents: 166<br>Accidents number class: Low: 0-200', 'bbox': {'x0': 370.37365055186564, 'x1': 370.37365055186564, 'y0': 275.46335943953864, 'y1': 275.46335943953864}}]}Low: 0-200\n",
      "\n",
      "accident_severity\n",
      "YESH\n",
      "Aberdeenshire\n",
      "Aberdeenshire\n",
      "87392    Serious\n",
      "87402    Serious\n",
      "87422     Slight\n",
      "87466      Fatal\n",
      "87584    Serious\n",
      "          ...   \n",
      "91117     Slight\n",
      "91119     Slight\n",
      "91151    Serious\n",
      "91173    Serious\n",
      "91174     Slight\n",
      "Name: accident_severity, Length: 118, dtype: object\n"
     ]
    },
    {
     "name": "stderr",
     "output_type": "stream",
     "text": [
      "127.0.0.1 - - [03/Feb/2022 13:24:39] \"POST /_dash-update-component HTTP/1.1\" 200 -\n",
      "127.0.0.1 - - [03/Feb/2022 13:24:39] \"POST /_dash-update-component HTTP/1.1\" 200 -\n",
      "127.0.0.1 - - [03/Feb/2022 13:24:59] \"POST /_dash-update-component HTTP/1.1\" 200 -\n",
      "127.0.0.1 - - [03/Feb/2022 13:25:39] \"POST /_dash-update-component HTTP/1.1\" 200 -\n",
      "127.0.0.1 - - [03/Feb/2022 13:27:36] \"POST /_dash-update-component HTTP/1.1\" 200 -\n"
     ]
    },
    {
     "name": "stdout",
     "output_type": "stream",
     "text": [
      "Southwark\n",
      "Extreme: 600+\n",
      "{'points': [{'curveNumber': 0, 'pointNumber': 298, 'pointIndex': 298, 'location': 'E09000028', 'z': 893, 'text': 'District name: Southwark<br>Number of vehicles involved in accidents: 1635<br>Number of casualties involved in accidents: 958<br>Accidents number class: Extreme: 600+', 'bbox': {'x0': 312.1190542542581, 'x1': 312.1190542542581, 'y0': 513.6443340177211, 'y1': 513.6443340177211}}]}\n",
      "accident_severity\n",
      "YESH\n",
      "Southwark\n",
      "Southwark\n",
      "41       Serious\n",
      "51        Slight\n",
      "54        Slight\n",
      "57        Slight\n",
      "76        Slight\n",
      "          ...   \n",
      "20833     Slight\n",
      "20838     Slight\n",
      "20855    Serious\n",
      "20869     Slight\n",
      "20904    Serious\n",
      "Name: accident_severity, Length: 893, dtype: object\n"
     ]
    },
    {
     "name": "stderr",
     "output_type": "stream",
     "text": [
      "127.0.0.1 - - [03/Feb/2022 13:27:37] \"POST /_dash-update-component HTTP/1.1\" 200 -\n",
      "127.0.0.1 - - [03/Feb/2022 13:27:37] \"POST /_dash-update-component HTTP/1.1\" 200 -\n",
      "127.0.0.1 - - [03/Feb/2022 13:27:42] \"POST /_dash-update-component HTTP/1.1\" 200 -\n"
     ]
    },
    {
     "name": "stdout",
     "output_type": "stream",
     "text": [
      "Tower Hamlets\n",
      "Extreme: 600+\n",
      "{'points': [{'curveNumber': 0, 'pointNumber': 333, 'pointIndex': 333, 'location': 'E09000030', 'z': 896, 'text': 'District name: Tower Hamlets<br>Number of vehicles involved in accidents: 1666<br>Number of casualties involved in accidents: 1034<br>Accidents number class: Extreme: 600+', 'bbox': {'x0': 314.96000979660687, 'x1': 314.96000979660687, 'y0': 510.09919842070667, 'y1': 510.09919842070667}}]}\n",
      "accident_severity\n",
      "YESH\n",
      "Tower Hamlets\n",
      "Tower Hamlets7        Serious\n",
      "17        Slight\n",
      "31       Serious\n",
      "59        Slight\n",
      "86       Serious\n",
      "          ...   \n",
      "20893     Slight\n",
      "20900     Slight\n",
      "20901     Slight\n",
      "20903    Serious\n",
      "20905     Slight\n",
      "Name: accident_severity, Length: 896, dtype: object\n",
      "\n"
     ]
    },
    {
     "name": "stderr",
     "output_type": "stream",
     "text": [
      "127.0.0.1 - - [03/Feb/2022 13:27:42] \"POST /_dash-update-component HTTP/1.1\" 200 -\n",
      "127.0.0.1 - - [03/Feb/2022 13:27:42] \"POST /_dash-update-component HTTP/1.1\" 200 -\n",
      "127.0.0.1 - - [03/Feb/2022 13:27:44] \"POST /_dash-update-component HTTP/1.1\" 200 -\n"
     ]
    },
    {
     "name": "stdout",
     "output_type": "stream",
     "text": [
      "Enfield\n",
      "Extreme: 600+\n",
      "{'points': [{'curveNumber': 0, 'pointNumber': 116, 'pointIndex': 116, 'location': 'E09000010', 'z': 862, 'text': 'District name: Enfield<br>Number of vehicles involved in accidents: 1625<br>Number of casualties involved in accidents: 1028<br>Accidents number class: Extreme: 600+', 'bbox': {'x0': 312.5003991280025, 'x1': 312.5003991280025, 'y0': 496.60612977580877, 'y1': 496.60612977580877}}]}\n",
      "accident_severity\n",
      "YESH\n",
      "Enfield\n",
      "Enfield\n",
      "9         Slight\n",
      "11       Serious\n",
      "23        Slight\n",
      "30        Slight\n",
      "83        Slight\n",
      "          ...   \n",
      "20828     Slight\n",
      "20858     Slight\n",
      "20863     Slight\n",
      "20866     Slight\n",
      "20881     Slight\n",
      "Name: accident_severity, Length: 862, dtype: object\n"
     ]
    },
    {
     "name": "stderr",
     "output_type": "stream",
     "text": [
      "127.0.0.1 - - [03/Feb/2022 13:27:44] \"POST /_dash-update-component HTTP/1.1\" 200 -\n",
      "127.0.0.1 - - [03/Feb/2022 13:27:45] \"POST /_dash-update-component HTTP/1.1\" 200 -\n",
      "127.0.0.1 - - [03/Feb/2022 13:27:48] \"POST /_dash-update-component HTTP/1.1\" 200 -\n"
     ]
    },
    {
     "name": "stdout",
     "output_type": "stream",
     "text": [
      "Ealing{'points': [{'curveNumber': 0, 'pointNumber': 97, 'pointIndex': 97, 'location': 'E09000009', 'z': 822, 'text': 'District name: Ealing<br>Number of vehicles involved in accidents: 1507<br>Number of casualties involved in accidents: 981<br>Accidents number class: Extreme: 600+', 'bbox': {'x0': 297.15137261379937, 'x1': 297.15137261379937, 'y0': 507.0265604390552, 'y1': 507.0265604390552}}]}\n",
      "\n",
      "accident_severity\n",
      "YESH\n",
      "Ealing\n",
      "Extreme: 600+\n",
      "Ealing72        Slight\n",
      "95        Slight\n",
      "132       Slight\n",
      "138      Serious\n",
      "149       Slight\n",
      "          ...   \n",
      "20759     Slight\n",
      "20805     Slight\n",
      "20841     Slight\n",
      "20857      Fatal\n",
      "20860     Slight\n",
      "Name: accident_severity, Length: 822, dtype: object\n",
      "\n"
     ]
    },
    {
     "name": "stderr",
     "output_type": "stream",
     "text": [
      "127.0.0.1 - - [03/Feb/2022 13:27:48] \"POST /_dash-update-component HTTP/1.1\" 200 -\n",
      "127.0.0.1 - - [03/Feb/2022 13:27:48] \"POST /_dash-update-component HTTP/1.1\" 200 -\n",
      "127.0.0.1 - - [03/Feb/2022 13:27:50] \"POST /_dash-update-component HTTP/1.1\" 200 -\n"
     ]
    },
    {
     "name": "stdout",
     "output_type": "stream",
     "text": [
      "Hillingdon\n",
      "High: 400-600\n",
      "{'points': [{'curveNumber': 0, 'pointNumber': 156, 'pointIndex': 156, 'location': 'E09000017', 'z': 549, 'text': 'District name: Hillingdon<br>Number of vehicles involved in accidents: 1020<br>Number of casualties involved in accidents: 684<br>Accidents number class: High: 400-600', 'bbox': {'x0': 289.20260504054306, 'x1': 289.20260504054306, 'y0': 503.94525131916544, 'y1': 503.94525131916544}}]}\n",
      "accident_severity\n",
      "YESH\n",
      "Hillingdon\n",
      "Hillingdon\n",
      "47        Slight\n",
      "70        Slight\n",
      "73        Slight\n",
      "81        Slight\n",
      "85         Fatal\n",
      "          ...   \n",
      "20681     Slight\n",
      "20720     Slight\n",
      "20799     Slight\n",
      "20806     Slight\n",
      "20877    Serious\n",
      "Name: accident_severity, Length: 549, dtype: object\n"
     ]
    },
    {
     "name": "stderr",
     "output_type": "stream",
     "text": [
      "127.0.0.1 - - [03/Feb/2022 13:27:50] \"POST /_dash-update-component HTTP/1.1\" 200 -\n",
      "127.0.0.1 - - [03/Feb/2022 13:27:51] \"POST /_dash-update-component HTTP/1.1\" 200 -\n",
      "127.0.0.1 - - [03/Feb/2022 13:27:52] \"POST /_dash-update-component HTTP/1.1\" 200 -\n"
     ]
    },
    {
     "name": "stdout",
     "output_type": "stream",
     "text": [
      "Breckland\n",
      "{'points': [{'curveNumber': 0, 'pointNumber': 34, 'pointIndex': 34, 'location': 'E07000143', 'z': 204, 'text': 'District name: Breckland<br>Number of vehicles involved in accidents: 348<br>Number of casualties involved in accidents: 284<br>Accidents number class: Medium: 200-400', 'bbox': {'x0': 383.1975746603347, 'x1': 383.1975746603347, 'y0': 410.0267070173413, 'y1': 410.0267070173413}}]}Medium: 200-400\n",
      "\n",
      "accident_severity\n",
      "YESH\n",
      "Breckland\n",
      "Breckland\n",
      "54946     Slight\n",
      "54955     Slight\n",
      "54964    Serious\n",
      "54969      Fatal\n",
      "54979     Slight\n",
      "          ...   \n",
      "56243     Slight\n",
      "56244     Slight\n",
      "56254     Slight\n",
      "56260     Slight\n",
      "56261     Slight\n",
      "Name: accident_severity, Length: 204, dtype: object\n"
     ]
    },
    {
     "name": "stderr",
     "output_type": "stream",
     "text": [
      "127.0.0.1 - - [03/Feb/2022 13:27:52] \"POST /_dash-update-component HTTP/1.1\" 200 -\n",
      "127.0.0.1 - - [03/Feb/2022 13:27:53] \"POST /_dash-update-component HTTP/1.1\" 200 -\n",
      "127.0.0.1 - - [03/Feb/2022 13:27:55] \"POST /_dash-update-component HTTP/1.1\" 200 -\n"
     ]
    },
    {
     "name": "stdout",
     "output_type": "stream",
     "text": [
      "Ryedale\n",
      "Low: 0-200\n",
      "{'points': [{'curveNumber': 0, 'pointNumber': 264, 'pointIndex': 264, 'location': 'E07000167', 'z': 99, 'text': 'District name: Ryedale<br>Number of vehicles involved in accidents: 161<br>Number of casualties involved in accidents: 136<br>Accidents number class: Low: 0-200', 'bbox': {'x0': 305.76656213433193, 'x1': 305.76656213433193, 'y0': 235.77465223095078, 'y1': 235.77465223095078}}]}\n",
      "accident_severity\n",
      "YESH\n",
      "Ryedale\n",
      "31787     Slight\n",
      "31788     Slight\n",
      "31858     Slight\n",
      "31909    Serious\n",
      "31920    Serious\n",
      "          ...   \n",
      "32879     Slight\n",
      "32895     Slight\n",
      "32915    Serious\n",
      "32947     Slight\n",
      "32958     Slight\n",
      "Name: accident_severity, Length: 99, dtype: object\n",
      "Ryedale\n"
     ]
    },
    {
     "name": "stderr",
     "output_type": "stream",
     "text": [
      "127.0.0.1 - - [03/Feb/2022 13:27:56] \"POST /_dash-update-component HTTP/1.1\" 200 -\n",
      "127.0.0.1 - - [03/Feb/2022 13:27:56] \"POST /_dash-update-component HTTP/1.1\" 200 -\n",
      "127.0.0.1 - - [03/Feb/2022 13:28:00] \"POST /_dash-update-component HTTP/1.1\" 200 -\n"
     ]
    },
    {
     "name": "stdout",
     "output_type": "stream",
     "text": [
      "Leeds\n",
      "Extreme: 600+\n",
      "{'points': [{'curveNumber': 0, 'pointNumber': 176, 'pointIndex': 176, 'location': 'E08000035', 'z': 1009, 'text': 'District name: Leeds<br>Number of vehicles involved in accidents: 1843<br>Number of casualties involved in accidents: 1262<br>Accidents number class: Extreme: 600+', 'bbox': {'x0': 235.32598079304785, 'x1': 235.32598079304785, 'y0': 281.0081181218793, 'y1': 281.0081181218793}}]}\n",
      "accident_severity\n",
      "YESH\n",
      "Leeds\n",
      "Leeds\n",
      "32965     Slight\n",
      "32966    Serious\n",
      "32967     Slight\n",
      "32968     Slight\n",
      "32975     Slight\n",
      "          ...   \n",
      "35717     Slight\n",
      "35719     Slight\n",
      "35720     Slight\n",
      "35726     Slight\n",
      "35728    Serious\n",
      "Name: accident_severity, Length: 1009, dtype: object\n"
     ]
    },
    {
     "name": "stderr",
     "output_type": "stream",
     "text": [
      "127.0.0.1 - - [03/Feb/2022 13:28:01] \"POST /_dash-update-component HTTP/1.1\" 200 -\n",
      "127.0.0.1 - - [03/Feb/2022 13:28:01] \"POST /_dash-update-component HTTP/1.1\" 200 -\n",
      "127.0.0.1 - - [03/Feb/2022 13:28:02] \"POST /_dash-update-component HTTP/1.1\" 200 -\n"
     ]
    },
    {
     "name": "stdout",
     "output_type": "stream",
     "text": [
      "Pendle\n",
      "Low: 0-200\n",
      "{'points': [{'curveNumber': 0, 'pointNumber': 235, 'pointIndex': 235, 'location': 'E07000122', 'z': 126, 'text': 'District name: Pendle<br>Number of vehicles involved in accidents: 245<br>Number of casualties involved in accidents: 176<br>Accidents number class: Low: 0-200', 'bbox': {'x0': 174.1220700387605, 'x1': 174.1220700387605, 'y0': 265.9836897966252, 'y1': 265.9836897966252}}]}\n",
      "accident_severity\n",
      "YESH\n",
      "Pendle\n",
      "21666    Serious\n",
      "21675     Slight\n",
      "21712    Serious\n",
      "21743     Slight\n",
      "21765    Serious\n",
      "          ...   \n",
      "23986     Slight\n",
      "23988     Slight\n",
      "23991     Slight\n",
      "24007     Slight\n",
      "24008     Slight\n",
      "Name: accident_severity, Length: 126, dtype: objectPendle\n",
      "\n"
     ]
    },
    {
     "name": "stderr",
     "output_type": "stream",
     "text": [
      "127.0.0.1 - - [03/Feb/2022 13:28:02] \"POST /_dash-update-component HTTP/1.1\" 200 -\n",
      "127.0.0.1 - - [03/Feb/2022 13:28:03] \"POST /_dash-update-component HTTP/1.1\" 200 -\n",
      "127.0.0.1 - - [03/Feb/2022 13:28:06] \"POST /_dash-update-component HTTP/1.1\" 200 -\n"
     ]
    },
    {
     "name": "stdout",
     "output_type": "stream",
     "text": [
      "Richmondshire\n",
      "Low: 0-200\n",
      "{'points': [{'curveNumber': 0, 'pointNumber': 253, 'pointIndex': 253, 'location': 'E07000166', 'z': 84, 'text': 'District name: Richmondshire<br>Number of vehicles involved in accidents: 123<br>Number of casualties involved in accidents: 109<br>Accidents number class: Low: 0-200', 'bbox': {'x0': 217.84940075622808, 'x1': 217.84940075622808, 'y0': 190.9475139049173, 'y1': 190.9475139049173}}]}\n",
      "accident_severity\n",
      "RichmondshireYESH\n",
      "Richmondshire\n",
      "\n",
      "31802     Slight\n",
      "31808     Slight\n",
      "31809    Serious\n",
      "31838     Slight\n",
      "31877     Slight\n",
      "          ...   \n",
      "32905     Slight\n",
      "32909     Slight\n",
      "32914     Slight\n",
      "32920     Slight\n",
      "32945     Slight\n",
      "Name: accident_severity, Length: 84, dtype: object\n"
     ]
    },
    {
     "name": "stderr",
     "output_type": "stream",
     "text": [
      "127.0.0.1 - - [03/Feb/2022 13:28:07] \"POST /_dash-update-component HTTP/1.1\" 200 -\n",
      "127.0.0.1 - - [03/Feb/2022 13:28:07] \"POST /_dash-update-component HTTP/1.1\" 200 -\n",
      "127.0.0.1 - - [03/Feb/2022 13:28:09] \"POST /_dash-update-component HTTP/1.1\" 200 -\n"
     ]
    },
    {
     "name": "stdout",
     "output_type": "stream",
     "text": [
      "Eden\n",
      "Low: 0-200\n",
      "{'points': [{'curveNumber': 0, 'pointNumber': 114, 'pointIndex': 114, 'location': 'E07000030', 'z': 97, 'text': 'District name: Eden<br>Number of vehicles involved in accidents: 145<br>Number of casualties involved in accidents: 120<br>Accidents number class: Low: 0-200', 'bbox': {'x0': 152.4901364539205, 'x1': 152.4901364539205, 'y0': 141.04785635577718, 'y1': 141.04785635577718}}]}\n",
      "accident_severity\n",
      "YESH\n",
      "Eden\n",
      "20908    Serious\n",
      "20919     Slight\n",
      "20958     Slight\n",
      "20959     Slight\n",
      "20976     Slight\n",
      "          ...   \n",
      "21649     Slight\n",
      "21650     Slight\n",
      "21653     Slight\n",
      "21658    Serious\n",
      "21660     Slight\n",
      "Name: accident_severity, Length: 97, dtype: object\n",
      "Eden\n"
     ]
    },
    {
     "name": "stderr",
     "output_type": "stream",
     "text": [
      "127.0.0.1 - - [03/Feb/2022 13:28:09] \"POST /_dash-update-component HTTP/1.1\" 200 -\n",
      "127.0.0.1 - - [03/Feb/2022 13:28:10] \"POST /_dash-update-component HTTP/1.1\" 200 -\n"
     ]
    },
    {
     "name": "stdout",
     "output_type": "stream",
     "text": [
      "{'points': [{'curveNumber': 0, 'pointNumber': 114, 'pointIndex': 114, 'location': 'E07000030', 'z': 97, 'text': 'District name: Eden<br>Number of vehicles involved in accidents: 145<br>Number of casualties involved in accidents: 120<br>Accidents number class: Low: 0-200', 'bbox': {'x0': 152.4901364539205, 'x1': 152.4901364539205, 'y0': 141.04785635577718, 'y1': 141.04785635577718}}]}\n",
      "road_typeroad_type\n",
      "\n",
      "YESH\n",
      "Eden\n",
      "20908    Single carriageway\n",
      "20919    Single carriageway\n",
      "20958    Single carriageway\n",
      "20959    Single carriageway\n",
      "20976      Dual carriageway\n",
      "                ...        \n",
      "21649      Dual carriageway\n",
      "21650    Single carriageway\n",
      "21653      Dual carriageway\n",
      "21658    Single carriageway\n",
      "21660    Single carriageway\n",
      "Name: road_type, Length: 97, dtype: object\n"
     ]
    },
    {
     "name": "stderr",
     "output_type": "stream",
     "text": [
      "127.0.0.1 - - [03/Feb/2022 13:28:15] \"POST /_dash-update-component HTTP/1.1\" 200 -\n",
      "127.0.0.1 - - [03/Feb/2022 13:28:15] \"POST /_dash-update-component HTTP/1.1\" 200 -\n",
      "127.0.0.1 - - [03/Feb/2022 13:28:15] \"POST /_dash-update-component HTTP/1.1\" 200 -\n",
      "127.0.0.1 - - [03/Feb/2022 13:28:19] \"POST /_dash-update-component HTTP/1.1\" 200 -\n"
     ]
    },
    {
     "name": "stdout",
     "output_type": "stream",
     "text": [
      "Leeds\n",
      "Extreme: 600+\n",
      "{'points': [{'curveNumber': 0, 'pointNumber': 176, 'pointIndex': 176, 'location': 'E08000035', 'z': 1009, 'text': 'District name: Leeds<br>Number of vehicles involved in accidents: 1843<br>Number of casualties involved in accidents: 1262<br>Accidents number class: Extreme: 600+', 'bbox': {'x0': 235.32598079304785, 'x1': 235.32598079304785, 'y0': 281.0081181218793, 'y1': 281.0081181218793}}]}\n",
      "road_type\n",
      "YESH\n",
      "Leeds\n",
      "Leeds\n",
      "32965      Dual carriageway\n",
      "32966      Dual carriageway\n",
      "32967      Dual carriageway\n",
      "32968    Single carriageway\n",
      "32975    Single carriageway\n",
      "                ...        \n",
      "35717    Single carriageway\n",
      "35719    Single carriageway\n",
      "35720    Single carriageway\n",
      "35726      Dual carriageway\n",
      "35728    Single carriageway\n",
      "Name: road_type, Length: 1009, dtype: object\n"
     ]
    },
    {
     "name": "stderr",
     "output_type": "stream",
     "text": [
      "127.0.0.1 - - [03/Feb/2022 13:28:20] \"POST /_dash-update-component HTTP/1.1\" 200 -\n",
      "127.0.0.1 - - [03/Feb/2022 13:28:20] \"POST /_dash-update-component HTTP/1.1\" 200 -\n",
      "127.0.0.1 - - [03/Feb/2022 13:28:22] \"POST /_dash-update-component HTTP/1.1\" 200 -\n"
     ]
    },
    {
     "name": "stdout",
     "output_type": "stream",
     "text": [
      "West Lindsey\n",
      "Low: 0-200\n",
      "{'points': [{'curveNumber': 0, 'pointNumber': 355, 'pointIndex': 355, 'location': 'E07000142', 'z': 181, 'text': 'District name: West Lindsey<br>Number of vehicles involved in accidents: 304<br>Number of casualties involved in accidents: 244<br>Accidents number class: Low: 0-200', 'bbox': {'x0': 328.0299705863781, 'x1': 328.0299705863781, 'y0': 360.29679224094707, 'y1': 360.29679224094707}}]}\n",
      "road_type\n",
      "YESH\n",
      "West Lindsey\n",
      "West Lindsey\n",
      "50287    Single carriageway\n",
      "50304    Single carriageway\n",
      "50313    Single carriageway\n",
      "50315    Single carriageway\n",
      "50323    Single carriageway\n",
      "                ...        \n",
      "51625    Single carriageway\n",
      "51629    Single carriageway\n",
      "51636    Single carriageway\n",
      "51652    Single carriageway\n",
      "51667    Single carriageway\n",
      "Name: road_type, Length: 181, dtype: object\n"
     ]
    },
    {
     "name": "stderr",
     "output_type": "stream",
     "text": [
      "127.0.0.1 - - [03/Feb/2022 13:28:22] \"POST /_dash-update-component HTTP/1.1\" 200 -\n",
      "127.0.0.1 - - [03/Feb/2022 13:28:22] \"POST /_dash-update-component HTTP/1.1\" 200 -\n",
      "127.0.0.1 - - [03/Feb/2022 13:28:24] \"POST /_dash-update-component HTTP/1.1\" 200 -\n"
     ]
    },
    {
     "name": "stdout",
     "output_type": "stream",
     "text": [
      "King's Lynn and West Norfolk\n",
      "Medium: 200-400\n",
      "{'points': [{'curveNumber': 0, 'pointNumber': 169, 'pointIndex': 169, 'location': 'E07000146', 'z': 228, 'text': \"District name: King's Lynn and West Norfolk<br>Number of vehicles involved in accidents: 418<br>Number of casualties involved in accidents: 318<br>Accidents number class: Medium: 200-400\", 'bbox': {'x0': 411.20695488324077, 'x1': 411.20695488324077, 'y0': 464.5995499386836, 'y1': 464.5995499386836}}]}\n",
      "road_type\n",
      "YESH\n",
      "King's Lynn and West Norfolk\n",
      "King's Lynn and West Norfolk\n",
      "54943    Single carriageway\n",
      "54949    Single carriageway\n",
      "54951    Single carriageway\n",
      "54952    Single carriageway\n",
      "54954    Single carriageway\n",
      "                ...        \n",
      "56216    Single carriageway\n",
      "56221    Single carriageway\n",
      "56223      Dual carriageway\n",
      "56228            Roundabout\n",
      "56256    Single carriageway\n",
      "Name: road_type, Length: 228, dtype: object\n"
     ]
    },
    {
     "name": "stderr",
     "output_type": "stream",
     "text": [
      "127.0.0.1 - - [03/Feb/2022 13:28:25] \"POST /_dash-update-component HTTP/1.1\" 200 -\n",
      "127.0.0.1 - - [03/Feb/2022 13:28:25] \"POST /_dash-update-component HTTP/1.1\" 200 -\n"
     ]
    },
    {
     "name": "stdout",
     "output_type": "stream",
     "text": [
      "{'points': [{'curveNumber': 0, 'pointNumber': 169, 'pointIndex': 169, 'location': 'E07000146', 'z': 228, 'text': \"District name: King's Lynn and West Norfolk<br>Number of vehicles involved in accidents: 418<br>Number of casualties involved in accidents: 318<br>Accidents number class: Medium: 200-400\", 'bbox': {'x0': 411.20695488324077, 'x1': 411.20695488324077, 'y0': 464.5995499386836, 'y1': 464.5995499386836}}]}age_band_of_casualty\n",
      "age_band_of_casualty\n",
      "\n",
      "King's Lynn and West Norfolk\n",
      "68696    11 - 15\n",
      "68704    Over 75\n",
      "68706    56 - 65\n",
      "68707    21 - 25\n",
      "68708    21 - 25\n",
      "          ...   \n",
      "70398      0 - 5\n",
      "70400    46 - 55\n",
      "70401    46 - 55\n",
      "70409    36 - 45\n",
      "70447    36 - 45\n",
      "Name: age_band_of_casualty, Length: 318, dtype: object\n"
     ]
    },
    {
     "name": "stderr",
     "output_type": "stream",
     "text": [
      "127.0.0.1 - - [03/Feb/2022 13:28:31] \"POST /_dash-update-component HTTP/1.1\" 200 -\n",
      "127.0.0.1 - - [03/Feb/2022 13:28:31] \"POST /_dash-update-component HTTP/1.1\" 200 -\n",
      "127.0.0.1 - - [03/Feb/2022 13:28:31] \"POST /_dash-update-component HTTP/1.1\" 200 -\n"
     ]
    },
    {
     "name": "stdout",
     "output_type": "stream",
     "text": [
      "King's Lynn and West Norfolk\n"
     ]
    },
    {
     "name": "stderr",
     "output_type": "stream",
     "text": [
      "127.0.0.1 - - [03/Feb/2022 13:28:39] \"POST /_dash-update-component HTTP/1.1\" 200 -\n"
     ]
    },
    {
     "name": "stdout",
     "output_type": "stream",
     "text": [
      "King's Lynn and West Norfolk\n"
     ]
    },
    {
     "name": "stderr",
     "output_type": "stream",
     "text": [
      "127.0.0.1 - - [03/Feb/2022 13:28:46] \"POST /_dash-update-component HTTP/1.1\" 200 -\n",
      "127.0.0.1 - - [03/Feb/2022 13:28:55] \"POST /_dash-update-component HTTP/1.1\" 200 -\n",
      "127.0.0.1 - - [03/Feb/2022 13:28:55] \"POST /_dash-update-component HTTP/1.1\" 200 -\n"
     ]
    },
    {
     "name": "stdout",
     "output_type": "stream",
     "text": [
      "Newark and Sherwood\n",
      "Low: 0-200\n",
      "{'points': [{'curveNumber': 0, 'pointNumber': 206, 'pointIndex': 206, 'location': 'E07000175', 'z': 181, 'text': 'District name: Newark and Sherwood<br>Number of vehicles involved in accidents: 324<br>Number of casualties involved in accidents: 218<br>Accidents number class: Low: 0-200', 'bbox': {'x0': 292.7758216112404, 'x1': 292.7758216112404, 'y0': 395.75091321123546, 'y1': 395.75091321123546}}]}\n",
      "age_band_of_casualty\n",
      "Newark and Sherwood\n",
      "Newark and Sherwood60842    36 - 45\n",
      "60844    26 - 35\n",
      "60845    Over 75\n",
      "60848    26 - 35\n",
      "60851    46 - 55\n",
      "          ...   \n",
      "61298    26 - 35\n",
      "61299    16 - 20\n",
      "61300    21 - 25\n",
      "61301    26 - 35\n",
      "61302    36 - 45\n",
      "Name: age_band_of_casualty, Length: 218, dtype: object\n",
      "\n"
     ]
    },
    {
     "name": "stderr",
     "output_type": "stream",
     "text": [
      "127.0.0.1 - - [03/Feb/2022 13:28:55] \"POST /_dash-update-component HTTP/1.1\" 200 -\n",
      "127.0.0.1 - - [03/Feb/2022 13:36:50] \"POST /_dash-update-component HTTP/1.1\" 200 -\n"
     ]
    },
    {
     "name": "stdout",
     "output_type": "stream",
     "text": [
      "{'points': [{'curveNumber': 0, 'pointNumber': 206, 'pointIndex': 206, 'location': 'E07000175', 'z': 181, 'text': 'District name: Newark and Sherwood<br>Number of vehicles involved in accidents: 324<br>Number of casualties involved in accidents: 218<br>Accidents number class: Low: 0-200', 'bbox': {'x0': 292.7758216112404, 'x1': 292.7758216112404, 'y0': 395.75091321123546, 'y1': 395.75091321123546}}]}road_type\n",
      "\n",
      "road_type\n",
      "YESH\n",
      "Newark and Sherwood\n",
      "48922    Single carriageway\n",
      "48924    Single carriageway\n",
      "48925            Roundabout\n",
      "48928    Single carriageway\n",
      "48931            Roundabout\n",
      "                ...        \n",
      "49286    Single carriageway\n",
      "49288    Single carriageway\n",
      "49290    Single carriageway\n",
      "49291    Single carriageway\n",
      "49292      Dual carriageway\n",
      "Name: road_type, Length: 181, dtype: object\n"
     ]
    },
    {
     "name": "stderr",
     "output_type": "stream",
     "text": [
      "127.0.0.1 - - [03/Feb/2022 13:37:00] \"POST /_dash-update-component HTTP/1.1\" 200 -\n",
      "127.0.0.1 - - [03/Feb/2022 13:37:00] \"POST /_dash-update-component HTTP/1.1\" 200 -\n",
      "127.0.0.1 - - [03/Feb/2022 13:37:00] \"POST /_dash-update-component HTTP/1.1\" 200 -\n"
     ]
    },
    {
     "name": "stdout",
     "output_type": "stream",
     "text": [
      "{'points': [{'curveNumber': 0, 'pointNumber': 206, 'pointIndex': 206, 'location': 'E07000175', 'z': 181, 'text': 'District name: Newark and Sherwood<br>Number of vehicles involved in accidents: 324<br>Number of casualties involved in accidents: 218<br>Accidents number class: Low: 0-200', 'bbox': {'x0': 292.7758216112404, 'x1': 292.7758216112404, 'y0': 395.75091321123546, 'y1': 395.75091321123546}}]}age_band_of_casualty\n",
      "age_band_of_casualty\n",
      "Newark and Sherwood\n",
      "\n",
      "60842    36 - 45\n",
      "60844    26 - 35\n",
      "60845    Over 75\n",
      "60848    26 - 35\n",
      "60851    46 - 55\n",
      "          ...   \n",
      "61298    26 - 35\n",
      "61299    16 - 20\n",
      "61300    21 - 25\n",
      "61301    26 - 35\n",
      "61302    36 - 45\n",
      "Name: age_band_of_casualty, Length: 218, dtype: object\n"
     ]
    },
    {
     "name": "stderr",
     "output_type": "stream",
     "text": [
      "127.0.0.1 - - [03/Feb/2022 13:37:08] \"POST /_dash-update-component HTTP/1.1\" 200 -\n",
      "127.0.0.1 - - [03/Feb/2022 13:37:08] \"POST /_dash-update-component HTTP/1.1\" 200 -\n",
      "127.0.0.1 - - [03/Feb/2022 13:37:08] \"POST /_dash-update-component HTTP/1.1\" 200 -\n"
     ]
    },
    {
     "name": "stdout",
     "output_type": "stream",
     "text": [
      "{'points': [{'curveNumber': 0, 'pointNumber': 206, 'pointIndex': 206, 'location': 'E07000175', 'z': 181, 'text': 'District name: Newark and Sherwood<br>Number of vehicles involved in accidents: 324<br>Number of casualties involved in accidents: 218<br>Accidents number class: Low: 0-200', 'bbox': {'x0': 292.7758216112404, 'x1': 292.7758216112404, 'y0': 395.75091321123546, 'y1': 395.75091321123546}}]}accident_severity\n",
      "accident_severity\n",
      "\n",
      "YESH\n",
      "Newark and Sherwood\n",
      "48922    Serious\n",
      "48924     Slight\n",
      "48925     Slight\n",
      "48928     Slight\n",
      "48931     Slight\n",
      "          ...   \n",
      "49286     Slight\n",
      "49288    Serious\n",
      "49290     Slight\n",
      "49291     Slight\n",
      "49292    Serious\n",
      "Name: accident_severity, Length: 181, dtype: object\n"
     ]
    },
    {
     "name": "stderr",
     "output_type": "stream",
     "text": [
      "127.0.0.1 - - [03/Feb/2022 13:37:13] \"POST /_dash-update-component HTTP/1.1\" 200 -\n",
      "127.0.0.1 - - [03/Feb/2022 13:37:13] \"POST /_dash-update-component HTTP/1.1\" 200 -\n",
      "127.0.0.1 - - [03/Feb/2022 13:37:13] \"POST /_dash-update-component HTTP/1.1\" 200 -\n",
      "127.0.0.1 - - [03/Feb/2022 13:37:16] \"POST /_dash-update-component HTTP/1.1\" 200 -\n"
     ]
    },
    {
     "name": "stdout",
     "output_type": "stream",
     "text": [
      "Aberdeenshire\n",
      "Low: 0-200\n",
      "{'points': [{'curveNumber': 0, 'pointNumber': 1, 'pointIndex': 1, 'location': 'S12000034', 'z': 118, 'text': 'District name: Aberdeenshire<br>Number of vehicles involved in accidents: 202<br>Number of casualties involved in accidents: 166<br>Accidents number class: Low: 0-200', 'bbox': {'x0': 339.3198175460903, 'x1': 339.3198175460903, 'y0': 210.9927495118759, 'y1': 210.9927495118759}}]}Aberdeenshire\n",
      "accident_severity\n",
      "YESH\n",
      "Aberdeenshire\n",
      "\n",
      "87392    Serious\n",
      "87402    Serious\n",
      "87422     Slight\n",
      "87466      Fatal\n",
      "87584    Serious\n",
      "          ...   \n",
      "91117     Slight\n",
      "91119     Slight\n",
      "91151    Serious\n",
      "91173    Serious\n",
      "91174     Slight\n",
      "Name: accident_severity, Length: 118, dtype: object\n"
     ]
    },
    {
     "name": "stderr",
     "output_type": "stream",
     "text": [
      "127.0.0.1 - - [03/Feb/2022 13:37:16] \"POST /_dash-update-component HTTP/1.1\" 200 -\n",
      "127.0.0.1 - - [03/Feb/2022 13:37:17] \"POST /_dash-update-component HTTP/1.1\" 200 -\n",
      "127.0.0.1 - - [03/Feb/2022 13:37:23] \"POST /_dash-update-component HTTP/1.1\" 200 -\n",
      "127.0.0.1 - - [03/Feb/2022 13:37:26] \"POST /_dash-update-component HTTP/1.1\" 200 -\n",
      "127.0.0.1 - - [03/Feb/2022 13:37:28] \"POST /_dash-update-component HTTP/1.1\" 200 -\n",
      "127.0.0.1 - - [03/Feb/2022 13:37:33] \"POST /_dash-update-component HTTP/1.1\" 200 -\n",
      "127.0.0.1 - - [03/Feb/2022 13:37:36] \"POST /_dash-update-component HTTP/1.1\" 200 -\n",
      "127.0.0.1 - - [03/Feb/2022 13:37:43] \"POST /_dash-update-component HTTP/1.1\" 200 -\n",
      "127.0.0.1 - - [03/Feb/2022 13:37:46] \"POST /_dash-update-component HTTP/1.1\" 200 -\n",
      "127.0.0.1 - - [03/Feb/2022 13:37:53] \"POST /_dash-update-component HTTP/1.1\" 200 -\n",
      "127.0.0.1 - - [03/Feb/2022 13:38:24] \"POST /_dash-update-component HTTP/1.1\" 200 -\n",
      "127.0.0.1 - - [03/Feb/2022 13:38:48] \"POST /_dash-update-component HTTP/1.1\" 200 -\n"
     ]
    },
    {
     "name": "stdout",
     "output_type": "stream",
     "text": [
      "Aberdeen City\n",
      "{'points': [{'curveNumber': 0, 'pointNumber': 0, 'pointIndex': 0, 'location': 'S12000033', 'z': 70, 'text': 'District name: Aberdeen City<br>Number of vehicles involved in accidents: 122<br>Number of casualties involved in accidents: 84<br>Accidents number class: Low: 0-200', 'bbox': {'x0': 344.0373179028444, 'x1': 344.0373179028444, 'y0': 217.6422102797403, 'y1': 217.6422102797403}}]}Low: 0-200\n",
      "\n",
      "accident_severity\n",
      "YESH\n",
      "Aberdeen City\n",
      "Aberdeen City87511     Slight\n",
      "87515     Slight\n",
      "87552     Slight\n",
      "87571    Serious\n",
      "87588      Fatal\n",
      "          ...   \n",
      "91054     Slight\n",
      "91101    Serious\n",
      "91123     Slight\n",
      "91139    Serious\n",
      "91196    Serious\n",
      "Name: accident_severity, Length: 70, dtype: object\n",
      "\n"
     ]
    },
    {
     "name": "stderr",
     "output_type": "stream",
     "text": [
      "127.0.0.1 - - [03/Feb/2022 13:38:48] \"POST /_dash-update-component HTTP/1.1\" 200 -\n",
      "127.0.0.1 - - [03/Feb/2022 13:38:49] \"POST /_dash-update-component HTTP/1.1\" 200 -\n",
      "127.0.0.1 - - [03/Feb/2022 13:38:54] \"POST /_dash-update-component HTTP/1.1\" 200 -\n"
     ]
    },
    {
     "name": "stdout",
     "output_type": "stream",
     "text": [
      "Aberdeenshire\n",
      "Low: 0-200\n",
      "{'points': [{'curveNumber': 0, 'pointNumber': 1, 'pointIndex': 1, 'location': 'S12000034', 'z': 118, 'text': 'District name: Aberdeenshire<br>Number of vehicles involved in accidents: 202<br>Number of casualties involved in accidents: 166<br>Accidents number class: Low: 0-200', 'bbox': {'x0': 339.3198175460903, 'x1': 339.3198175460903, 'y0': 210.9927495118759, 'y1': 210.9927495118759}}]}\n",
      "accident_severity\n",
      "YESH\n",
      "Aberdeenshire\n",
      "87392    Serious\n",
      "87402    Serious\n",
      "87422     Slight\n",
      "87466      Fatal\n",
      "87584    Serious\n",
      "          ...   \n",
      "91117     Slight\n",
      "91119     Slight\n",
      "91151    Serious\n",
      "91173    Serious\n",
      "91174     Slight\n",
      "Name: accident_severity, Length: 118, dtype: object\n",
      "Aberdeenshire\n"
     ]
    },
    {
     "name": "stderr",
     "output_type": "stream",
     "text": [
      "127.0.0.1 - - [03/Feb/2022 13:38:54] \"POST /_dash-update-component HTTP/1.1\" 200 -\n",
      "127.0.0.1 - - [03/Feb/2022 13:38:54] \"POST /_dash-update-component HTTP/1.1\" 200 -\n",
      "127.0.0.1 - - [03/Feb/2022 13:39:00] \"POST /_dash-update-component HTTP/1.1\" 200 -\n",
      "127.0.0.1 - - [03/Feb/2022 13:39:00] \"POST /_dash-update-component HTTP/1.1\" 200 -\n"
     ]
    },
    {
     "name": "stdout",
     "output_type": "stream",
     "text": [
      "Highland\n",
      "Medium: 200-400\n",
      "{'points': [{'curveNumber': 0, 'pointNumber': 155, 'pointIndex': 155, 'location': 'S12000017', 'z': 215, 'text': 'District name: Highland<br>Number of vehicles involved in accidents: 355<br>Number of casualties involved in accidents: 296<br>Accidents number class: Medium: 200-400', 'bbox': {'x0': 296.32032829733794, 'x1': 296.32032829733794, 'y0': 192.11117065316557, 'y1': 192.11117065316557}}]}\n",
      "accident_severity\n",
      "YESH\n",
      "Highland\n",
      "87366    Serious\n",
      "87372     Slight\n",
      "87404     Slight\n",
      "87427    Serious\n",
      "87448     Slight\n",
      "          ...   \n",
      "91157     Slight\n",
      "91161     Slight\n",
      "91162    Serious\n",
      "91165     Slight\n",
      "91181    Serious\n",
      "Name: accident_severity, Length: 215, dtype: objectHighland\n",
      "\n"
     ]
    },
    {
     "name": "stderr",
     "output_type": "stream",
     "text": [
      "127.0.0.1 - - [03/Feb/2022 13:39:01] \"POST /_dash-update-component HTTP/1.1\" 200 -\n",
      "127.0.0.1 - - [03/Feb/2022 13:39:04] \"POST /_dash-update-component HTTP/1.1\" 200 -\n"
     ]
    },
    {
     "name": "stdout",
     "output_type": "stream",
     "text": [
      "Orkney Islands{'points': [{'curveNumber': 0, 'pointNumber': 232, 'pointIndex': 232, 'location': 'S12000023', 'z': 9, 'text': 'District name: Orkney Islands<br>Number of vehicles involved in accidents: 16<br>Number of casualties involved in accidents: 10<br>Accidents number class: Low: 0-200', 'bbox': {'x0': 341.1204911240611, 'x1': 341.1204911240611, 'y0': 152.65755841413193, 'y1': 152.65755841413193}}]}\n",
      "Low: 0-200\n",
      "\n",
      "accident_severity\n",
      "YESH\n",
      "Orkney Islands\n",
      "Orkney Islands\n",
      "87673     Slight\n",
      "88060     Slight\n",
      "88069     Slight\n",
      "88558     Slight\n",
      "88734      Fatal\n",
      "88755    Serious\n",
      "89520    Serious\n",
      "89723     Slight\n",
      "91177     Slight\n",
      "Name: accident_severity, dtype: object\n"
     ]
    },
    {
     "name": "stderr",
     "output_type": "stream",
     "text": [
      "127.0.0.1 - - [03/Feb/2022 13:39:04] \"POST /_dash-update-component HTTP/1.1\" 200 -\n",
      "127.0.0.1 - - [03/Feb/2022 13:39:05] \"POST /_dash-update-component HTTP/1.1\" 200 -\n",
      "127.0.0.1 - - [03/Feb/2022 13:39:13] \"POST /_dash-update-component HTTP/1.1\" 200 -\n"
     ]
    },
    {
     "name": "stdout",
     "output_type": "stream",
     "text": [
      "Aberdeen City\n",
      "Low: 0-200\n",
      "{'points': [{'curveNumber': 0, 'pointNumber': 0, 'pointIndex': 0, 'location': 'S12000033', 'z': 70, 'text': 'District name: Aberdeen City<br>Number of vehicles involved in accidents: 122<br>Number of casualties involved in accidents: 84<br>Accidents number class: Low: 0-200', 'bbox': {'x0': 347.0373179028444, 'x1': 347.0373179028444, 'y0': 219.6422102797403, 'y1': 219.6422102797403}}]}\n",
      "accident_severity\n",
      "YESH\n",
      "Aberdeen City\n",
      "87511     Slight\n",
      "87515     Slight\n",
      "87552     Slight\n",
      "87571    Serious\n",
      "87588      Fatal\n",
      "          ...   \n",
      "91054     Slight\n",
      "91101    Serious\n",
      "91123     Slight\n",
      "91139    Serious\n",
      "91196    Serious\n",
      "Name: accident_severity, Length: 70, dtype: objectAberdeen City\n",
      "\n"
     ]
    },
    {
     "name": "stderr",
     "output_type": "stream",
     "text": [
      "127.0.0.1 - - [03/Feb/2022 13:39:13] \"POST /_dash-update-component HTTP/1.1\" 200 -\n",
      "127.0.0.1 - - [03/Feb/2022 13:39:13] \"POST /_dash-update-component HTTP/1.1\" 200 -\n",
      "127.0.0.1 - - [03/Feb/2022 13:39:15] \"POST /_dash-update-component HTTP/1.1\" 200 -\n"
     ]
    },
    {
     "name": "stdout",
     "output_type": "stream",
     "text": [
      "Aberdeenshire\n",
      "Low: 0-200\n",
      "{'points': [{'curveNumber': 0, 'pointNumber': 1, 'pointIndex': 1, 'location': 'S12000034', 'z': 118, 'text': 'District name: Aberdeenshire<br>Number of vehicles involved in accidents: 202<br>Number of casualties involved in accidents: 166<br>Accidents number class: Low: 0-200', 'bbox': {'x0': 342.3198175460903, 'x1': 342.3198175460903, 'y0': 212.9927495118759, 'y1': 212.9927495118759}}]}\n",
      "accident_severity\n",
      "YESH\n",
      "AberdeenshireAberdeenshire\n",
      "\n",
      "87392    Serious\n",
      "87402    Serious\n",
      "87422     Slight\n",
      "87466      Fatal\n",
      "87584    Serious\n",
      "          ...   \n",
      "91117     Slight\n",
      "91119     Slight\n",
      "91151    Serious\n",
      "91173    Serious\n",
      "91174     Slight\n",
      "Name: accident_severity, Length: 118, dtype: object\n"
     ]
    },
    {
     "name": "stderr",
     "output_type": "stream",
     "text": [
      "127.0.0.1 - - [03/Feb/2022 13:39:15] \"POST /_dash-update-component HTTP/1.1\" 200 -\n",
      "127.0.0.1 - - [03/Feb/2022 13:39:15] \"POST /_dash-update-component HTTP/1.1\" 200 -\n",
      "127.0.0.1 - - [03/Feb/2022 13:42:20] \"POST /_dash-update-component HTTP/1.1\" 200 -\n",
      "127.0.0.1 - - [03/Feb/2022 13:42:22] \"POST /_dash-update-component HTTP/1.1\" 200 -\n",
      "127.0.0.1 - - [03/Feb/2022 13:42:24] \"POST /_dash-update-component HTTP/1.1\" 200 -\n",
      "127.0.0.1 - - [03/Feb/2022 13:42:28] \"POST /_dash-update-component HTTP/1.1\" 200 -\n"
     ]
    },
    {
     "name": "stdout",
     "output_type": "stream",
     "text": [
      "{'points': [{'curveNumber': 0, 'pointNumber': 1, 'pointIndex': 1, 'location': 'S12000034', 'z': 118, 'text': 'District name: Aberdeenshire<br>Number of vehicles involved in accidents: 202<br>Number of casualties involved in accidents: 166<br>Accidents number class: Low: 0-200', 'bbox': {'x0': 342.3198175460903, 'x1': 342.3198175460903, 'y0': 212.9927495118759, 'y1': 212.9927495118759}}]}\n",
      "vehicle_type\n",
      "Aberdeenshirevehicle_type\n",
      "\n",
      "160843    Car\n",
      "160844    Car\n",
      "160861    Car\n",
      "160862    Car\n",
      "160895    Car\n",
      "         ... \n",
      "167296    Car\n",
      "167329    Car\n",
      "167330    Car\n",
      "167331    Car\n",
      "167332    Car\n",
      "Name: vehicle_type, Length: 202, dtype: object\n"
     ]
    },
    {
     "name": "stderr",
     "output_type": "stream",
     "text": [
      "127.0.0.1 - - [03/Feb/2022 13:42:35] \"POST /_dash-update-component HTTP/1.1\" 200 -\n",
      "127.0.0.1 - - [03/Feb/2022 13:42:35] \"POST /_dash-update-component HTTP/1.1\" 200 -\n",
      "127.0.0.1 - - [03/Feb/2022 13:42:35] \"POST /_dash-update-component HTTP/1.1\" 200 -\n"
     ]
    },
    {
     "name": "stdout",
     "output_type": "stream",
     "text": [
      "{'points': [{'curveNumber': 0, 'pointNumber': 1, 'pointIndex': 1, 'location': 'S12000034', 'z': 118, 'text': 'District name: Aberdeenshire<br>Number of vehicles involved in accidents: 202<br>Number of casualties involved in accidents: 166<br>Accidents number class: Low: 0-200', 'bbox': {'x0': 342.3198175460903, 'x1': 342.3198175460903, 'y0': 212.9927495118759, 'y1': 212.9927495118759}}]}age_band_of_casualty\n",
      "age_band_of_casualty\n",
      "Aberdeenshire\n",
      "\n",
      "110639      0 - 5\n",
      "110640    Over 75\n",
      "110641    26 - 35\n",
      "110642     6 - 10\n",
      "110653    56 - 65\n",
      "           ...   \n",
      "115520    26 - 35\n",
      "115549    26 - 35\n",
      "115550    66 - 75\n",
      "115551    36 - 45\n",
      "115552    36 - 45\n",
      "Name: age_band_of_casualty, Length: 166, dtype: object\n"
     ]
    },
    {
     "name": "stderr",
     "output_type": "stream",
     "text": [
      "127.0.0.1 - - [03/Feb/2022 13:42:45] \"POST /_dash-update-component HTTP/1.1\" 200 -\n",
      "127.0.0.1 - - [03/Feb/2022 13:42:45] \"POST /_dash-update-component HTTP/1.1\" 200 -\n",
      "127.0.0.1 - - [03/Feb/2022 13:42:46] \"POST /_dash-update-component HTTP/1.1\" 200 -\n",
      "127.0.0.1 - - [03/Feb/2022 13:43:26] \"POST /_dash-update-component HTTP/1.1\" 200 -\n"
     ]
    },
    {
     "name": "stdout",
     "output_type": "stream",
     "text": [
      "County Durham\n",
      "{'points': [{'curveNumber': 0, 'pointNumber': 80, 'pointIndex': 80, 'location': 'E06000047', 'z': 498, 'text': 'District name: County Durham<br>Number of vehicles involved in accidents: 910<br>Number of casualties involved in accidents: 674<br>Accidents number class: High: 400-600', 'bbox': {'x0': 341.8890711717278, 'x1': 341.8890711717278, 'y0': 305.1410141042545, 'y1': 305.1410141042545}}]}High: 400-600\n",
      "\n",
      "age_band_of_casualty\n",
      "County Durham\n",
      "County Durham\n",
      "37605    Over 75\n",
      "37607    Over 75\n",
      "37608    26 - 35\n",
      "37609    36 - 45\n",
      "37610    36 - 45\n",
      "          ...   \n",
      "38409    21 - 25\n",
      "38412    46 - 55\n",
      "38414      0 - 5\n",
      "38415    26 - 35\n",
      "38416    46 - 55\n",
      "Name: age_band_of_casualty, Length: 674, dtype: object\n"
     ]
    },
    {
     "name": "stderr",
     "output_type": "stream",
     "text": [
      "127.0.0.1 - - [03/Feb/2022 13:43:27] \"POST /_dash-update-component HTTP/1.1\" 200 -\n",
      "127.0.0.1 - - [03/Feb/2022 13:43:27] \"POST /_dash-update-component HTTP/1.1\" 200 -\n",
      "127.0.0.1 - - [03/Feb/2022 13:43:30] \"POST /_dash-update-component HTTP/1.1\" 200 -\n"
     ]
    },
    {
     "name": "stdout",
     "output_type": "stream",
     "text": [
      "Wiltshire\n",
      "Extreme: 600+\n",
      "{'points': [{'curveNumber': 0, 'pointNumber': 363, 'pointIndex': 363, 'location': 'E06000054', 'z': 670, 'text': 'District name: Wiltshire<br>Number of vehicles involved in accidents: 1185<br>Number of casualties involved in accidents: 867<br>Accidents number class: Extreme: 600+', 'bbox': {'x0': 319.92596944602514, 'x1': 319.92596944602514, 'y0': 419.72918013306094, 'y1': 419.72918013306094}}]}\n",
      "age_band_of_casualty\n",
      "Wiltshire\n",
      "Wiltshire\n",
      "104177    36 - 45\n",
      "104178    66 - 75\n",
      "104179    16 - 20\n",
      "104182    Over 75\n",
      "104183    56 - 65\n",
      "           ...   \n",
      "105359    21 - 25\n",
      "105360    Over 75\n",
      "105361    16 - 20\n",
      "105362    46 - 55\n",
      "105369    56 - 65\n",
      "Name: age_band_of_casualty, Length: 867, dtype: object\n"
     ]
    },
    {
     "name": "stderr",
     "output_type": "stream",
     "text": [
      "127.0.0.1 - - [03/Feb/2022 13:43:31] \"POST /_dash-update-component HTTP/1.1\" 200 -\n",
      "127.0.0.1 - - [03/Feb/2022 13:43:31] \"POST /_dash-update-component HTTP/1.1\" 200 -\n",
      "127.0.0.1 - - [03/Feb/2022 13:43:33] \"POST /_dash-update-component HTTP/1.1\" 200 -\n"
     ]
    },
    {
     "name": "stdout",
     "output_type": "stream",
     "text": [
      "Cornwall\n",
      "Extreme: 600+\n",
      "{'points': [{'curveNumber': 0, 'pointNumber': 78, 'pointIndex': 78, 'location': 'E06000052', 'z': 862, 'text': 'District name: Cornwall<br>Number of vehicles involved in accidents: 1522<br>Number of casualties involved in accidents: 1218<br>Accidents number class: Extreme: 600+', 'bbox': {'x0': 251.7430331076235, 'x1': 251.7430331076235, 'y0': 442.81125115240343, 'y1': 442.81125115240343}}]}\n",
      "age_band_of_casualty\n",
      "Cornwall\n",
      "Cornwall97221     Over 75\n",
      "97229     26 - 35\n",
      "97230     26 - 35\n",
      "97231     26 - 35\n",
      "97232     16 - 20\n",
      "           ...   \n",
      "100682    66 - 75\n",
      "100690    46 - 55\n",
      "100691    26 - 35\n",
      "100695    66 - 75\n",
      "100699    21 - 25\n",
      "Name: age_band_of_casualty, Length: 1218, dtype: object\n",
      "\n"
     ]
    },
    {
     "name": "stderr",
     "output_type": "stream",
     "text": [
      "127.0.0.1 - - [03/Feb/2022 13:43:33] \"POST /_dash-update-component HTTP/1.1\" 200 -\n",
      "127.0.0.1 - - [03/Feb/2022 13:43:34] \"POST /_dash-update-component HTTP/1.1\" 200 -\n"
     ]
    },
    {
     "name": "stdout",
     "output_type": "stream",
     "text": [
      "{'points': [{'curveNumber': 0, 'pointNumber': 78, 'pointIndex': 78, 'location': 'E06000052', 'z': 862, 'text': 'District name: Cornwall<br>Number of vehicles involved in accidents: 1522<br>Number of casualties involved in accidents: 1218<br>Accidents number class: Extreme: 600+', 'bbox': {'x0': 251.7430331076235, 'x1': 251.7430331076235, 'y0': 442.81125115240343, 'y1': 442.81125115240343}}]}\n",
      "vehicle_type\n",
      "Cornwall\n",
      "vehicle_type142078                           Car\n",
      "142079          Agricultural vehicle\n",
      "142080                           Car\n",
      "142081                           Car\n",
      "142082                           Car\n",
      "                     ...            \n",
      "146723                           Car\n",
      "146729                           Car\n",
      "146730                   Pedal cycle\n",
      "146738    Motorcycle 125cc and under\n",
      "146739                           Car\n",
      "Name: vehicle_type, Length: 1522, dtype: object\n",
      "\n"
     ]
    },
    {
     "name": "stderr",
     "output_type": "stream",
     "text": [
      "127.0.0.1 - - [03/Feb/2022 13:43:39] \"POST /_dash-update-component HTTP/1.1\" 200 -\n",
      "127.0.0.1 - - [03/Feb/2022 13:43:39] \"POST /_dash-update-component HTTP/1.1\" 200 -\n",
      "127.0.0.1 - - [03/Feb/2022 13:43:39] \"POST /_dash-update-component HTTP/1.1\" 200 -\n",
      "127.0.0.1 - - [03/Feb/2022 13:43:43] \"POST /_dash-update-component HTTP/1.1\" 200 -\n"
     ]
    },
    {
     "name": "stdout",
     "output_type": "stream",
     "text": [
      "Brent{'points': [{'curveNumber': 0, 'pointNumber': 35, 'pointIndex': 35, 'location': 'E09000005', 'z': 814, 'text': 'District name: Brent<br>Number of vehicles involved in accidents: 1454<br>Number of casualties involved in accidents: 916<br>Accidents number class: Extreme: 600+', 'bbox': {'x0': 356.0661013899638, 'x1': 356.0661013899638, 'y0': 418.0416334004874, 'y1': 418.0416334004874}}]}\n",
      "vehicle_type\n",
      "\n",
      "Extreme: 600+\n",
      "Brent\n",
      "Brent\n",
      "29                                        Car\n",
      "30                                        Car\n",
      "58                 Motorcycle 125cc and under\n",
      "76        Van / Goods 3.5 tonnes mgw or under\n",
      "192                                       Car\n",
      "                         ...                 \n",
      "38512                   Taxi/Private hire car\n",
      "38526                                     Car\n",
      "38527    Bus or coach (17 or more pass seats)\n",
      "38582                                     Car\n",
      "38583                                     Car\n",
      "Name: vehicle_type, Length: 1454, dtype: object\n"
     ]
    },
    {
     "name": "stderr",
     "output_type": "stream",
     "text": [
      "127.0.0.1 - - [03/Feb/2022 13:43:44] \"POST /_dash-update-component HTTP/1.1\" 200 -\n",
      "127.0.0.1 - - [03/Feb/2022 13:43:44] \"POST /_dash-update-component HTTP/1.1\" 200 -\n",
      "127.0.0.1 - - [03/Feb/2022 13:44:28] \"POST /_dash-update-component HTTP/1.1\" 200 -\n"
     ]
    },
    {
     "name": "stdout",
     "output_type": "stream",
     "text": [
      "Southwark{'points': [{'curveNumber': 0, 'pointNumber': 298, 'pointIndex': 298, 'location': 'E09000028', 'z': 893, 'text': 'District name: Southwark<br>Number of vehicles involved in accidents: 1635<br>Number of casualties involved in accidents: 958<br>Accidents number class: Extreme: 600+', 'bbox': {'x0': 334.5607958546052, 'x1': 334.5607958546052, 'y0': 368.5519073454816, 'y1': 368.5519073454816}}]}\n",
      "\n",
      "Extreme: 600+\n",
      "vehicle_typeSouthwark\n",
      "\n",
      "Southwark\n",
      "69        Van / Goods 3.5 tonnes mgw or under\n",
      "70       Bus or coach (17 or more pass seats)\n",
      "71                                Pedal cycle\n",
      "85                                        Car\n",
      "86       Bus or coach (17 or more pass seats)\n",
      "                         ...                 \n",
      "38531                                     Car\n",
      "38556                   Motorcycle over 500cc\n",
      "38557                                     Car\n",
      "38625              Motorcycle 125cc and under\n",
      "38626                                     Car\n",
      "Name: vehicle_type, Length: 1635, dtype: object\n"
     ]
    },
    {
     "name": "stderr",
     "output_type": "stream",
     "text": [
      "127.0.0.1 - - [03/Feb/2022 13:44:29] \"POST /_dash-update-component HTTP/1.1\" 200 -\n",
      "127.0.0.1 - - [03/Feb/2022 13:44:29] \"POST /_dash-update-component HTTP/1.1\" 200 -\n"
     ]
    },
    {
     "name": "stdout",
     "output_type": "stream",
     "text": [
      "Southwark\n"
     ]
    },
    {
     "name": "stderr",
     "output_type": "stream",
     "text": [
      "127.0.0.1 - - [03/Feb/2022 13:47:51] \"POST /_dash-update-component HTTP/1.1\" 200 -\n"
     ]
    },
    {
     "name": "stdout",
     "output_type": "stream",
     "text": [
      "Southwark\n"
     ]
    },
    {
     "name": "stderr",
     "output_type": "stream",
     "text": [
      "127.0.0.1 - - [03/Feb/2022 13:47:54] \"POST /_dash-update-component HTTP/1.1\" 200 -\n",
      "127.0.0.1 - - [03/Feb/2022 13:48:03] \"POST /_dash-update-component HTTP/1.1\" 200 -\n"
     ]
    },
    {
     "name": "stdout",
     "output_type": "stream",
     "text": [
      "Hounslow{'points': [{'curveNumber': 0, 'pointNumber': 159, 'pointIndex': 159, 'location': 'E09000018', 'z': 603, 'text': 'District name: Hounslow<br>Number of vehicles involved in accidents: 1125<br>Number of casualties involved in accidents: 697<br>Accidents number class: Extreme: 600+', 'bbox': {'x0': 244.9165327061428, 'x1': 244.9165327061428, 'y0': 360.18982414805214, 'y1': 360.18982414805214}}]}\n",
      "Extreme: 600+\n",
      "Hounslow\n",
      "\n",
      "vehicle_type\n",
      "Hounslow\n",
      "94       Van / Goods 3.5 tonnes mgw or under\n",
      "95                                       Car\n",
      "133               Motorcycle 125cc and under\n",
      "236               Motorcycle 125cc and under\n",
      "237                                      Car\n",
      "                        ...                 \n",
      "38387                                    Car\n",
      "38480             Motorcycle 125cc and under\n",
      "38481                                    Car\n",
      "38492                                    Car\n",
      "38493                                    Car\n",
      "Name: vehicle_type, Length: 1125, dtype: object\n"
     ]
    },
    {
     "name": "stderr",
     "output_type": "stream",
     "text": [
      "127.0.0.1 - - [03/Feb/2022 13:48:03] \"POST /_dash-update-component HTTP/1.1\" 200 -\n",
      "127.0.0.1 - - [03/Feb/2022 13:48:03] \"POST /_dash-update-component HTTP/1.1\" 200 -\n",
      "127.0.0.1 - - [03/Feb/2022 13:48:27] \"POST /_dash-update-component HTTP/1.1\" 200 -\n"
     ]
    },
    {
     "name": "stdout",
     "output_type": "stream",
     "text": [
      "Lewisham{'points': [{'curveNumber': 0, 'pointNumber': 179, 'pointIndex': 179, 'location': 'E09000023', 'z': 747, 'text': 'District name: Lewisham<br>Number of vehicles involved in accidents: 1372<br>Number of casualties involved in accidents: 870<br>Accidents number class: Extreme: 600+', 'bbox': {'x0': 243.13635234873925, 'x1': 243.13635234873925, 'y0': 355.572299714177, 'y1': 355.572299714177}}]}\n",
      "vehicle_type\n",
      "Lewisham\n",
      "\n",
      "Extreme: 600+\n",
      "Lewisham\n",
      "5                                        Car\n",
      "53                                       Car\n",
      "163                              Pedal cycle\n",
      "164      Van / Goods 3.5 tonnes mgw or under\n",
      "187                                      Car\n",
      "                        ...                 \n",
      "38475                                    Car\n",
      "38482                            Pedal cycle\n",
      "38483                                    Car\n",
      "38572                                    Car\n",
      "38573                                    Car\n",
      "Name: vehicle_type, Length: 1372, dtype: object\n"
     ]
    },
    {
     "name": "stderr",
     "output_type": "stream",
     "text": [
      "127.0.0.1 - - [03/Feb/2022 13:48:28] \"POST /_dash-update-component HTTP/1.1\" 200 -\n",
      "127.0.0.1 - - [03/Feb/2022 13:48:28] \"POST /_dash-update-component HTTP/1.1\" 200 -\n",
      "127.0.0.1 - - [03/Feb/2022 13:48:47] \"POST /_dash-update-component HTTP/1.1\" 200 -\n"
     ]
    },
    {
     "name": "stdout",
     "output_type": "stream",
     "text": [
      "Colchester\n",
      "Medium: 200-400\n",
      "{'points': [{'curveNumber': 0, 'pointNumber': 73, 'pointIndex': 73, 'location': 'E07000071', 'z': 294, 'text': 'District name: Colchester<br>Number of vehicles involved in accidents: 550<br>Number of casualties involved in accidents: 392<br>Accidents number class: Medium: 200-400', 'bbox': {'x0': 345.8366064692691, 'x1': 345.8366064692691, 'y0': 379.98604800306566, 'y1': 379.98604800306566}}]}\n",
      "vehicle_type\n",
      "Colchester\n",
      "Colchester\n",
      "109961    Goods 7.5 tonnes mgw and over\n",
      "109962                              Car\n",
      "109976                              Car\n",
      "109977                              Car\n",
      "109984                              Car\n",
      "                      ...              \n",
      "114634                              Car\n",
      "114688                              Car\n",
      "114689                      Pedal cycle\n",
      "114698                              Car\n",
      "114699                              Car\n",
      "Name: vehicle_type, Length: 550, dtype: object\n"
     ]
    },
    {
     "name": "stderr",
     "output_type": "stream",
     "text": [
      "127.0.0.1 - - [03/Feb/2022 13:48:48] \"POST /_dash-update-component HTTP/1.1\" 200 -\n",
      "127.0.0.1 - - [03/Feb/2022 13:48:48] \"POST /_dash-update-component HTTP/1.1\" 200 -\n",
      "127.0.0.1 - - [03/Feb/2022 13:49:01] \"POST /_dash-update-component HTTP/1.1\" 200 -\n"
     ]
    },
    {
     "name": "stdout",
     "output_type": "stream",
     "text": [
      "Southwark{'points': [{'curveNumber': 0, 'pointNumber': 298, 'pointIndex': 298, 'location': 'E09000028', 'z': 893, 'text': 'District name: Southwark<br>Number of vehicles involved in accidents: 1635<br>Number of casualties involved in accidents: 958<br>Accidents number class: Extreme: 600+', 'bbox': {'x0': 394.7764301458965, 'x1': 394.7764301458965, 'y0': 435.413445874452, 'y1': 435.413445874452}}]}\n",
      "Extreme: 600+\n",
      "\n",
      "vehicle_type\n",
      "Southwark\n",
      "Southwark\n",
      "69        Van / Goods 3.5 tonnes mgw or under\n",
      "70       Bus or coach (17 or more pass seats)\n",
      "71                                Pedal cycle\n",
      "85                                        Car\n",
      "86       Bus or coach (17 or more pass seats)\n",
      "                         ...                 \n",
      "38531                                     Car\n",
      "38556                   Motorcycle over 500cc\n",
      "38557                                     Car\n",
      "38625              Motorcycle 125cc and under\n",
      "38626                                     Car\n",
      "Name: vehicle_type, Length: 1635, dtype: object\n"
     ]
    },
    {
     "name": "stderr",
     "output_type": "stream",
     "text": [
      "127.0.0.1 - - [03/Feb/2022 13:49:01] \"POST /_dash-update-component HTTP/1.1\" 200 -\n",
      "127.0.0.1 - - [03/Feb/2022 13:49:02] \"POST /_dash-update-component HTTP/1.1\" 200 -\n",
      "127.0.0.1 - - [03/Feb/2022 13:50:44] \"POST /_dash-update-component HTTP/1.1\" 200 -\n",
      "127.0.0.1 - - [03/Feb/2022 13:50:48] \"POST /_dash-update-component HTTP/1.1\" 200 -\n"
     ]
    },
    {
     "name": "stdout",
     "output_type": "stream",
     "text": [
      "Southwark\n"
     ]
    },
    {
     "name": "stderr",
     "output_type": "stream",
     "text": [
      "127.0.0.1 - - [03/Feb/2022 13:58:14] \"POST /_dash-update-component HTTP/1.1\" 200 -\n"
     ]
    },
    {
     "name": "stdout",
     "output_type": "stream",
     "text": [
      "Southwark\n"
     ]
    },
    {
     "name": "stderr",
     "output_type": "stream",
     "text": [
      "127.0.0.1 - - [03/Feb/2022 13:58:18] \"POST /_dash-update-component HTTP/1.1\" 200 -\n"
     ]
    },
    {
     "name": "stdout",
     "output_type": "stream",
     "text": [
      "Southwark\n"
     ]
    },
    {
     "name": "stderr",
     "output_type": "stream",
     "text": [
      "127.0.0.1 - - [03/Feb/2022 13:58:20] \"POST /_dash-update-component HTTP/1.1\" 200 -\n"
     ]
    },
    {
     "name": "stdout",
     "output_type": "stream",
     "text": [
      "Southwark\n"
     ]
    },
    {
     "name": "stderr",
     "output_type": "stream",
     "text": [
      "127.0.0.1 - - [03/Feb/2022 13:58:27] \"POST /_dash-update-component HTTP/1.1\" 200 -\n"
     ]
    },
    {
     "name": "stdout",
     "output_type": "stream",
     "text": [
      "Southwark\n"
     ]
    },
    {
     "name": "stderr",
     "output_type": "stream",
     "text": [
      "127.0.0.1 - - [03/Feb/2022 13:58:30] \"POST /_dash-update-component HTTP/1.1\" 200 -\n"
     ]
    },
    {
     "name": "stdout",
     "output_type": "stream",
     "text": [
      "Southwark\n"
     ]
    },
    {
     "name": "stderr",
     "output_type": "stream",
     "text": [
      "127.0.0.1 - - [03/Feb/2022 13:58:34] \"POST /_dash-update-component HTTP/1.1\" 200 -\n"
     ]
    },
    {
     "name": "stdout",
     "output_type": "stream",
     "text": [
      "Southwark\n"
     ]
    },
    {
     "name": "stderr",
     "output_type": "stream",
     "text": [
      "127.0.0.1 - - [03/Feb/2022 13:58:39] \"POST /_dash-update-component HTTP/1.1\" 200 -\n"
     ]
    },
    {
     "name": "stdout",
     "output_type": "stream",
     "text": [
      "Southwark\n"
     ]
    },
    {
     "name": "stderr",
     "output_type": "stream",
     "text": [
      "127.0.0.1 - - [03/Feb/2022 13:58:46] \"POST /_dash-update-component HTTP/1.1\" 200 -\n"
     ]
    },
    {
     "name": "stdout",
     "output_type": "stream",
     "text": [
      "Southwark\n"
     ]
    },
    {
     "name": "stderr",
     "output_type": "stream",
     "text": [
      "127.0.0.1 - - [03/Feb/2022 13:59:09] \"POST /_dash-update-component HTTP/1.1\" 200 -\n"
     ]
    },
    {
     "name": "stdout",
     "output_type": "stream",
     "text": [
      "Southwark\n"
     ]
    },
    {
     "name": "stderr",
     "output_type": "stream",
     "text": [
      "127.0.0.1 - - [03/Feb/2022 13:59:38] \"POST /_dash-update-component HTTP/1.1\" 200 -\n"
     ]
    },
    {
     "name": "stdout",
     "output_type": "stream",
     "text": [
      "Southwark\n"
     ]
    },
    {
     "name": "stderr",
     "output_type": "stream",
     "text": [
      "127.0.0.1 - - [03/Feb/2022 13:59:42] \"POST /_dash-update-component HTTP/1.1\" 200 -\n"
     ]
    },
    {
     "name": "stdout",
     "output_type": "stream",
     "text": [
      "Southwark\n"
     ]
    },
    {
     "name": "stderr",
     "output_type": "stream",
     "text": [
      "127.0.0.1 - - [03/Feb/2022 14:00:07] \"POST /_dash-update-component HTTP/1.1\" 200 -\n",
      "127.0.0.1 - - [03/Feb/2022 14:00:36] \"POST /_dash-update-component HTTP/1.1\" 200 -\n"
     ]
    },
    {
     "name": "stdout",
     "output_type": "stream",
     "text": [
      "Wiltshire\n",
      "Extreme: 600+\n",
      "{'points': [{'curveNumber': 0, 'pointNumber': 363, 'pointIndex': 363, 'location': 'E06000054', 'z': 670, 'text': 'District name: Wiltshire<br>Number of vehicles involved in accidents: 1185<br>Number of casualties involved in accidents: 867<br>Accidents number class: Extreme: 600+', 'bbox': {'x0': 359.5292423311323, 'x1': 359.5292423311323, 'y0': 498.59390406456714, 'y1': 498.59390406456714}}]}\n",
      "vehicle_type\n",
      "Wiltshire\n",
      "Wiltshire\n",
      "151851                                    Car\n",
      "151852                                    Car\n",
      "151853                                    Car\n",
      "151856                                    Car\n",
      "151857                                    Car\n",
      "                         ...                 \n",
      "153510                            Pedal cycle\n",
      "153511                                    Car\n",
      "153512    Van / Goods 3.5 tonnes mgw or under\n",
      "153518                                    Car\n",
      "153519                                    Car\n",
      "Name: vehicle_type, Length: 1185, dtype: object\n"
     ]
    },
    {
     "name": "stderr",
     "output_type": "stream",
     "text": [
      "127.0.0.1 - - [03/Feb/2022 14:00:37] \"POST /_dash-update-component HTTP/1.1\" 200 -\n",
      "127.0.0.1 - - [03/Feb/2022 14:00:37] \"POST /_dash-update-component HTTP/1.1\" 200 -\n",
      "127.0.0.1 - - [03/Feb/2022 14:00:50] \"POST /_dash-update-component HTTP/1.1\" 200 -\n"
     ]
    },
    {
     "name": "stdout",
     "output_type": "stream",
     "text": [
      "Aberdeenshire\n",
      "Low: 0-200\n",
      "{'points': [{'curveNumber': 0, 'pointNumber': 1, 'pointIndex': 1, 'location': 'S12000034', 'z': 118, 'text': 'District name: Aberdeenshire<br>Number of vehicles involved in accidents: 202<br>Number of casualties involved in accidents: 166<br>Accidents number class: Low: 0-200', 'bbox': {'x0': 467.71281502327076, 'x1': 467.71281502327076, 'y0': 222.40543124968417, 'y1': 222.40543124968417}}]}\n",
      "vehicle_type\n",
      "Aberdeenshire\n",
      "Aberdeenshire\n",
      "160843    Car\n",
      "160844    Car\n",
      "160861    Car\n",
      "160862    Car\n",
      "160895    Car\n",
      "         ... \n",
      "167296    Car\n",
      "167329    Car\n",
      "167330    Car\n",
      "167331    Car\n",
      "167332    Car\n",
      "Name: vehicle_type, Length: 202, dtype: object\n"
     ]
    },
    {
     "name": "stderr",
     "output_type": "stream",
     "text": [
      "127.0.0.1 - - [03/Feb/2022 14:00:51] \"POST /_dash-update-component HTTP/1.1\" 200 -\n",
      "127.0.0.1 - - [03/Feb/2022 14:00:51] \"POST /_dash-update-component HTTP/1.1\" 200 -\n",
      "127.0.0.1 - - [03/Feb/2022 14:01:24] \"POST /_dash-update-component HTTP/1.1\" 200 -\n"
     ]
    },
    {
     "name": "stdout",
     "output_type": "stream",
     "text": [
      "Lewisham\n",
      "Extreme: 600+\n",
      "{'points': [{'curveNumber': 0, 'pointNumber': 179, 'pointIndex': 179, 'location': 'E09000023', 'z': 747, 'text': 'District name: Lewisham<br>Number of vehicles involved in accidents: 1372<br>Number of casualties involved in accidents: 870<br>Accidents number class: Extreme: 600+', 'bbox': {'x0': 485.95138136216195, 'x1': 485.95138136216195, 'y0': 429.9075110319534, 'y1': 429.9075110319534}}]}\n",
      "Lewisham\n",
      "vehicle_type\n",
      "Lewisham\n",
      "5                                        Car\n",
      "53                                       Car\n",
      "163                              Pedal cycle\n",
      "164      Van / Goods 3.5 tonnes mgw or under\n",
      "187                                      Car\n",
      "                        ...                 \n",
      "38475                                    Car\n",
      "38482                            Pedal cycle\n",
      "38483                                    Car\n",
      "38572                                    Car\n",
      "38573                                    Car\n",
      "Name: vehicle_type, Length: 1372, dtype: object\n"
     ]
    },
    {
     "name": "stderr",
     "output_type": "stream",
     "text": [
      "127.0.0.1 - - [03/Feb/2022 14:01:25] \"POST /_dash-update-component HTTP/1.1\" 200 -\n",
      "127.0.0.1 - - [03/Feb/2022 14:01:25] \"POST /_dash-update-component HTTP/1.1\" 200 -\n"
     ]
    },
    {
     "name": "stdout",
     "output_type": "stream",
     "text": [
      "Lewisham\n"
     ]
    },
    {
     "name": "stderr",
     "output_type": "stream",
     "text": [
      "127.0.0.1 - - [03/Feb/2022 14:01:44] \"POST /_dash-update-component HTTP/1.1\" 200 -\n"
     ]
    },
    {
     "name": "stdout",
     "output_type": "stream",
     "text": [
      "Lewisham\n"
     ]
    },
    {
     "name": "stderr",
     "output_type": "stream",
     "text": [
      "127.0.0.1 - - [03/Feb/2022 14:01:47] \"POST /_dash-update-component HTTP/1.1\" 200 -\n"
     ]
    },
    {
     "name": "stdout",
     "output_type": "stream",
     "text": [
      "Lewisham\n"
     ]
    },
    {
     "name": "stderr",
     "output_type": "stream",
     "text": [
      "127.0.0.1 - - [03/Feb/2022 14:01:54] \"POST /_dash-update-component HTTP/1.1\" 200 -\n",
      "127.0.0.1 - - [03/Feb/2022 14:03:09] \"POST /_dash-update-component HTTP/1.1\" 200 -\n"
     ]
    },
    {
     "name": "stdout",
     "output_type": "stream",
     "text": [
      "Argyll and Bute\n",
      "Low: 0-200\n",
      "{'points': [{'curveNumber': 0, 'pointNumber': 6, 'pointIndex': 6, 'location': 'S12000035', 'z': 83, 'text': 'District name: Argyll and Bute<br>Number of vehicles involved in accidents: 138<br>Number of casualties involved in accidents: 121<br>Accidents number class: Low: 0-200', 'bbox': {'x0': 200.4105322757739, 'x1': 200.4105322757739, 'y0': 178.7316187817778, 'y1': 178.7316187817778}}]}\n",
      "vehicle_type\n",
      "Argyll and Bute\n",
      "Argyll and Bute\n",
      "160799                                    Car\n",
      "160831                                    Car\n",
      "160832                                    Car\n",
      "160833                                    Car\n",
      "160834                                    Car\n",
      "                         ...                 \n",
      "166935        Goods over 3.5t. and under 7.5t\n",
      "166994                                    Car\n",
      "166995    Van / Goods 3.5 tonnes mgw or under\n",
      "167052                                    Car\n",
      "167053                                    Car\n",
      "Name: vehicle_type, Length: 138, dtype: object\n"
     ]
    },
    {
     "name": "stderr",
     "output_type": "stream",
     "text": [
      "127.0.0.1 - - [03/Feb/2022 14:03:09] \"POST /_dash-update-component HTTP/1.1\" 200 -\n",
      "127.0.0.1 - - [03/Feb/2022 14:03:09] \"POST /_dash-update-component HTTP/1.1\" 200 -\n",
      "127.0.0.1 - - [03/Feb/2022 14:03:22] \"POST /_dash-update-component HTTP/1.1\" 200 -\n"
     ]
    },
    {
     "name": "stdout",
     "output_type": "stream",
     "text": [
      "Huntingdonshire\n",
      "Medium: 200-400\n",
      "{'points': [{'curveNumber': 0, 'pointNumber': 160, 'pointIndex': 160, 'location': 'E07000011', 'z': 213, 'text': 'District name: Huntingdonshire<br>Number of vehicles involved in accidents: 387<br>Number of casualties involved in accidents: 283<br>Accidents number class: Medium: 200-400', 'bbox': {'x0': 444.00038525587024, 'x1': 444.00038525587024, 'y0': 358.752570440347, 'y1': 358.752570440347}}]}\n",
      "vehicle_type\n",
      "Huntingdonshire\n",
      "98705                                       Car\n",
      "98706                                       Car\n",
      "98726                                       Car\n",
      "98727     Motorcycle over 125cc and up to 500cc\n",
      "98732            Goods vehicle - unknown weight\n",
      "                          ...                  \n",
      "100983                                      Car\n",
      "100984                                      Car\n",
      "100994                                      Car\n",
      "101012           Goods vehicle - unknown weight\n",
      "101013                                      Car\n",
      "Name: vehicle_type, Length: 387, dtype: objectHuntingdonshire\n",
      "\n"
     ]
    },
    {
     "name": "stderr",
     "output_type": "stream",
     "text": [
      "127.0.0.1 - - [03/Feb/2022 14:03:23] \"POST /_dash-update-component HTTP/1.1\" 200 -\n",
      "127.0.0.1 - - [03/Feb/2022 14:03:23] \"POST /_dash-update-component HTTP/1.1\" 200 -\n",
      "127.0.0.1 - - [03/Feb/2022 14:03:25] \"POST /_dash-update-component HTTP/1.1\" 200 -\n"
     ]
    },
    {
     "name": "stdout",
     "output_type": "stream",
     "text": [
      "Southwark\n",
      "Extreme: 600+\n",
      "{'points': [{'curveNumber': 0, 'pointNumber': 298, 'pointIndex': 298, 'location': 'E09000028', 'z': 893, 'text': 'District name: Southwark<br>Number of vehicles involved in accidents: 1635<br>Number of casualties involved in accidents: 958<br>Accidents number class: Extreme: 600+', 'bbox': {'x0': 344.1417162781745, 'x1': 344.1417162781745, 'y0': 476.9052414832968, 'y1': 476.9052414832968}}]}\n",
      "vehicle_type\n",
      "Southwark\n",
      "Southwark\n",
      "69        Van / Goods 3.5 tonnes mgw or under\n",
      "70       Bus or coach (17 or more pass seats)\n",
      "71                                Pedal cycle\n",
      "85                                        Car\n",
      "86       Bus or coach (17 or more pass seats)\n",
      "                         ...                 \n",
      "38531                                     Car\n",
      "38556                   Motorcycle over 500cc\n",
      "38557                                     Car\n",
      "38625              Motorcycle 125cc and under\n",
      "38626                                     Car\n",
      "Name: vehicle_type, Length: 1635, dtype: object\n"
     ]
    },
    {
     "name": "stderr",
     "output_type": "stream",
     "text": [
      "127.0.0.1 - - [03/Feb/2022 14:03:26] \"POST /_dash-update-component HTTP/1.1\" 200 -\n",
      "127.0.0.1 - - [03/Feb/2022 14:03:26] \"POST /_dash-update-component HTTP/1.1\" 200 -\n"
     ]
    },
    {
     "name": "stdout",
     "output_type": "stream",
     "text": [
      "Southwark\n"
     ]
    },
    {
     "name": "stderr",
     "output_type": "stream",
     "text": [
      "127.0.0.1 - - [03/Feb/2022 14:03:42] \"POST /_dash-update-component HTTP/1.1\" 200 -\n"
     ]
    },
    {
     "name": "stdout",
     "output_type": "stream",
     "text": [
      "Southwark\n"
     ]
    },
    {
     "name": "stderr",
     "output_type": "stream",
     "text": [
      "127.0.0.1 - - [03/Feb/2022 14:04:43] \"POST /_dash-update-component HTTP/1.1\" 200 -\n"
     ]
    },
    {
     "name": "stdout",
     "output_type": "stream",
     "text": [
      "Southwark\n"
     ]
    },
    {
     "name": "stderr",
     "output_type": "stream",
     "text": [
      "127.0.0.1 - - [03/Feb/2022 14:04:47] \"POST /_dash-update-component HTTP/1.1\" 200 -\n",
      "127.0.0.1 - - [03/Feb/2022 16:50:41] \"POST /_dash-update-component HTTP/1.1\" 200 -\n"
     ]
    },
    {
     "name": "stdout",
     "output_type": "stream",
     "text": [
      "Southwark\n"
     ]
    },
    {
     "name": "stderr",
     "output_type": "stream",
     "text": [
      "127.0.0.1 - - [03/Feb/2022 16:50:46] \"POST /_dash-update-component HTTP/1.1\" 200 -\n"
     ]
    },
    {
     "name": "stdout",
     "output_type": "stream",
     "text": [
      "Southwark\n"
     ]
    },
    {
     "name": "stderr",
     "output_type": "stream",
     "text": [
      "127.0.0.1 - - [03/Feb/2022 16:50:48] \"POST /_dash-update-component HTTP/1.1\" 200 -\n"
     ]
    },
    {
     "name": "stdout",
     "output_type": "stream",
     "text": [
      "Southwark\n"
     ]
    },
    {
     "name": "stderr",
     "output_type": "stream",
     "text": [
      "127.0.0.1 - - [03/Feb/2022 16:50:51] \"POST /_dash-update-component HTTP/1.1\" 200 -\n"
     ]
    },
    {
     "name": "stdout",
     "output_type": "stream",
     "text": [
      "Southwark\n"
     ]
    },
    {
     "name": "stderr",
     "output_type": "stream",
     "text": [
      "127.0.0.1 - - [03/Feb/2022 16:51:00] \"POST /_dash-update-component HTTP/1.1\" 200 -\n"
     ]
    },
    {
     "name": "stdout",
     "output_type": "stream",
     "text": [
      "Southwark\n"
     ]
    },
    {
     "name": "stderr",
     "output_type": "stream",
     "text": [
      "127.0.0.1 - - [03/Feb/2022 16:51:23] \"POST /_dash-update-component HTTP/1.1\" 200 -\n",
      "127.0.0.1 - - [03/Feb/2022 16:51:23] \"POST /_dash-update-component HTTP/1.1\" 200 -\n",
      "127.0.0.1 - - [03/Feb/2022 16:51:23] \"POST /_dash-update-component HTTP/1.1\" 200 -\n"
     ]
    },
    {
     "name": "stdout",
     "output_type": "stream",
     "text": [
      "County Durham\n",
      "High: 400-600\n",
      "{'points': [{'curveNumber': 0, 'pointNumber': 80, 'pointIndex': 80, 'location': 'E06000047', 'z': 498, 'text': 'District name: County Durham<br>Number of vehicles involved in accidents: 910<br>Number of casualties involved in accidents: 674<br>Accidents number class: High: 400-600', 'bbox': {'x0': 325.3901857775186, 'x1': 325.3901857775186, 'y0': 237.2452662942087, 'y1': 237.2452662942087}}]}\n",
      "vehicle_type\n",
      "County Durham\n",
      "57383                                     Car\n",
      "57386                                     Car\n",
      "57387                   Taxi/Private hire car\n",
      "57388                                     Car\n",
      "57389                                     Car\n",
      "                         ...                 \n",
      "58463    Bus or coach (17 or more pass seats)\n",
      "58466                                     Car\n",
      "58467                                     Car\n",
      "58468                                     Car\n",
      "58469                             Pedal cycle\n",
      "Name: vehicle_type, Length: 910, dtype: object\n",
      "County Durham\n"
     ]
    },
    {
     "name": "stderr",
     "output_type": "stream",
     "text": [
      "127.0.0.1 - - [03/Feb/2022 16:51:30] \"POST /_dash-update-component HTTP/1.1\" 200 -\n",
      "127.0.0.1 - - [03/Feb/2022 16:51:30] \"POST /_dash-update-component HTTP/1.1\" 200 -\n",
      "127.0.0.1 - - [03/Feb/2022 16:51:30] \"POST /_dash-update-component HTTP/1.1\" 200 -\n"
     ]
    },
    {
     "name": "stdout",
     "output_type": "stream",
     "text": [
      "Bedford\n",
      "Medium: 200-400\n",
      "{'points': [{'curveNumber': 0, 'pointNumber': 20, 'pointIndex': 20, 'location': 'E06000055', 'z': 284, 'text': 'District name: Bedford<br>Number of vehicles involved in accidents: 508<br>Number of casualties involved in accidents: 373<br>Accidents number class: Medium: 200-400', 'bbox': {'x0': 362.8349974603361, 'x1': 362.8349974603361, 'y0': 135, 'y1': 135}}]}\n",
      "vehicle_type\n",
      "Bedford\n",
      "Bedford\n",
      "105295                                    Car\n",
      "105296             Motorcycle 125cc and under\n",
      "105297                                    Car\n",
      "105298                            Pedal cycle\n",
      "105299                                    Car\n",
      "                         ...                 \n",
      "107247                                    Car\n",
      "107248                                    Car\n",
      "107253                  Motorcycle over 500cc\n",
      "107254    Van / Goods 3.5 tonnes mgw or under\n",
      "107255                            Pedal cycle\n",
      "Name: vehicle_type, Length: 508, dtype: object\n"
     ]
    },
    {
     "name": "stderr",
     "output_type": "stream",
     "text": [
      "127.0.0.1 - - [03/Feb/2022 16:51:50] \"POST /_dash-update-component HTTP/1.1\" 200 -\n",
      "127.0.0.1 - - [03/Feb/2022 16:51:50] \"POST /_dash-update-component HTTP/1.1\" 200 -\n",
      "127.0.0.1 - - [03/Feb/2022 16:51:50] \"POST /_dash-update-component HTTP/1.1\" 200 -\n"
     ]
    },
    {
     "name": "stdout",
     "output_type": "stream",
     "text": [
      "Epping Forest\n",
      "Medium: 200-400\n",
      "{'points': [{'curveNumber': 0, 'pointNumber': 117, 'pointIndex': 117, 'location': 'E07000072', 'z': 287, 'text': 'District name: Epping Forest<br>Number of vehicles involved in accidents: 574<br>Number of casualties involved in accidents: 384<br>Accidents number class: Medium: 200-400', 'bbox': {'x0': 490.27960314841494, 'x1': 490.27960314841494, 'y0': 226.53053997338793, 'y1': 226.53053997338793}}]}\n",
      "vehicle_type\n",
      "Epping Forest\n",
      "109944                                     Car\n",
      "109981    Bus or coach (17 or more pass seats)\n",
      "109996                                     Car\n",
      "110026           Goods 7.5 tonnes mgw and over\n",
      "110027                                     Car\n",
      "                          ...                 \n",
      "114685                                     Car\n",
      "114686                                     Car\n",
      "114687                                     Car\n",
      "114700                                     Car\n",
      "114701                             Pedal cycle\n",
      "Name: vehicle_type, Length: 574, dtype: object\n",
      "Epping Forest\n"
     ]
    },
    {
     "name": "stderr",
     "output_type": "stream",
     "text": [
      "127.0.0.1 - - [03/Feb/2022 16:52:13] \"POST /_dash-update-component HTTP/1.1\" 200 -\n",
      "127.0.0.1 - - [03/Feb/2022 16:52:13] \"POST /_dash-update-component HTTP/1.1\" 200 -\n",
      "127.0.0.1 - - [03/Feb/2022 16:52:13] \"POST /_dash-update-component HTTP/1.1\" 200 -\n"
     ]
    },
    {
     "name": "stdout",
     "output_type": "stream",
     "text": [
      "Islington\n",
      "High: 400-600\n",
      "{'points': [{'curveNumber': 0, 'pointNumber': 166, 'pointIndex': 166, 'location': 'E09000019', 'z': 542, 'text': 'District name: Islington<br>Number of vehicles involved in accidents: 1003<br>Number of casualties involved in accidents: 594<br>Accidents number class: High: 400-600', 'bbox': {'x0': 378.1225436583936, 'x1': 378.1225436583936, 'y0': 315.29852005907014, 'y1': 315.29852005907014}}]}\n",
      "vehicle_type\n",
      "Islington\n",
      "Islington\n",
      "25                         Car\n",
      "26                         Car\n",
      "198                        Car\n",
      "199      Taxi/Private hire car\n",
      "200                        Car\n",
      "                 ...          \n",
      "38401                      Car\n",
      "38420                      Car\n",
      "38605                      Car\n",
      "38606                      Car\n",
      "38607                      Car\n",
      "Name: vehicle_type, Length: 1003, dtype: object\n"
     ]
    },
    {
     "name": "stderr",
     "output_type": "stream",
     "text": [
      "127.0.0.1 - - [03/Feb/2022 16:52:30] \"POST /_dash-update-component HTTP/1.1\" 200 -\n",
      "127.0.0.1 - - [03/Feb/2022 16:52:46] \"POST /_dash-update-component HTTP/1.1\" 200 -\n"
     ]
    },
    {
     "name": "stdout",
     "output_type": "stream",
     "text": [
      "Islington\n"
     ]
    },
    {
     "name": "stderr",
     "output_type": "stream",
     "text": [
      "127.0.0.1 - - [03/Feb/2022 16:53:01] \"POST /_dash-update-component HTTP/1.1\" 200 -\n"
     ]
    },
    {
     "name": "stdout",
     "output_type": "stream",
     "text": [
      "Islington\n"
     ]
    },
    {
     "name": "stderr",
     "output_type": "stream",
     "text": [
      "127.0.0.1 - - [03/Feb/2022 16:53:03] \"POST /_dash-update-component HTTP/1.1\" 200 -\n"
     ]
    },
    {
     "name": "stdout",
     "output_type": "stream",
     "text": [
      "Islington\n"
     ]
    },
    {
     "name": "stderr",
     "output_type": "stream",
     "text": [
      "127.0.0.1 - - [03/Feb/2022 16:54:00] \"POST /_dash-update-component HTTP/1.1\" 200 -\n"
     ]
    },
    {
     "name": "stdout",
     "output_type": "stream",
     "text": [
      "Islington\n"
     ]
    },
    {
     "name": "stderr",
     "output_type": "stream",
     "text": [
      "127.0.0.1 - - [03/Feb/2022 16:54:11] \"POST /_dash-update-component HTTP/1.1\" 200 -\n"
     ]
    },
    {
     "name": "stdout",
     "output_type": "stream",
     "text": [
      "Islington\n"
     ]
    },
    {
     "name": "stderr",
     "output_type": "stream",
     "text": [
      "127.0.0.1 - - [03/Feb/2022 16:57:31] \"POST /_dash-update-component HTTP/1.1\" 200 -\n"
     ]
    },
    {
     "name": "stdout",
     "output_type": "stream",
     "text": [
      "Islington\n"
     ]
    },
    {
     "name": "stderr",
     "output_type": "stream",
     "text": [
      "127.0.0.1 - - [03/Feb/2022 16:57:47] \"POST /_dash-update-component HTTP/1.1\" 200 -\n"
     ]
    },
    {
     "name": "stdout",
     "output_type": "stream",
     "text": [
      "Islington\n"
     ]
    },
    {
     "name": "stderr",
     "output_type": "stream",
     "text": [
      "127.0.0.1 - - [03/Feb/2022 16:57:54] \"POST /_dash-update-component HTTP/1.1\" 200 -\n"
     ]
    },
    {
     "name": "stdout",
     "output_type": "stream",
     "text": [
      "Islington\n"
     ]
    },
    {
     "name": "stderr",
     "output_type": "stream",
     "text": [
      "127.0.0.1 - - [03/Feb/2022 16:58:00] \"POST /_dash-update-component HTTP/1.1\" 200 -\n"
     ]
    },
    {
     "name": "stdout",
     "output_type": "stream",
     "text": [
      "Islington\n"
     ]
    }
   ],
   "source": [
    "import json\n",
    "from urllib.request import urlopen\n",
    "\n",
    "import pandas as pd\n",
    "import plotly.express as px  # (version 4.7.0 or higher)\n",
    "import plotly.graph_objs as go\n",
    "from dash import Dash, dcc, html, Input, Output  # pip install dash (version 2.0.0 or higher)\n",
    "import dash_bootstrap_components as dbc\n",
    "import re\n",
    "import numpy as np\n",
    "\n",
    "with urlopen('https://raw.githubusercontent.com/martinjc/UK-GeoJSON/master/json/administrative/gb/lad.json') as response:\n",
    "    counties = json.load(response)\n",
    "\n",
    "ids=[]\n",
    "for k in range(len(counties['features'])):\n",
    "    counties['features'][k]['id'] = counties['features'][k]['properties']['LAD13CD']\n",
    "    ids.append(counties['features'][k]['properties']['LAD13CD'])\n",
    "\n",
    "# Dashboard\n",
    "#external_stylesheets = ['https://codepen.io/chriddyp/pen/bWLwgP.css']\n",
    "app = Dash(__name__, external_stylesheets = [dbc.themes.SLATE]) # VAPOR, SLATE, SOLAR\n",
    "\n",
    "# Data preprocessing -- Importing the clean data (importing csv into pandas)\n",
    "# Importing all datasets\n",
    "df_accident_dataset = pd.read_csv('decoded accident dataset with district.csv')\n",
    "df_casualty_dataset = pd.read_csv('decoded casualty dataset with district.csv')\n",
    "df_vehicle_dataset = pd.read_csv('decoded vehicle dataset with district.csv')\n",
    "\n",
    "print(df_casualty_dataset['local_authority_ons_district'])\n",
    "\n",
    "# Import data for choropleth map\n",
    "df_accidents_per_district = pd.read_csv('df_accidents_per_district.csv')\n",
    "print(df_accidents_per_district.head())\n",
    "\n",
    "df = df_accidents_per_district\n",
    "df1 = df.copy()\n",
    "df1['total_number_of_vehicles_involved_in_accidents_string'] = df1['total_number_of_vehicles_involved_in_accidents_string'].astype(str)\n",
    "df1['total_number_of_casualties_involved_in_accidents_string'] = df1['total_number_of_casualties_involved_in_accidents_string'].astype(str)\n",
    "df1['number_of_accidents_class'] = df1['number_of_accidents_class'].astype(str)\n",
    "df1['text'] = 'District name: ' + df1['local_authority_ons_district'] + '<br>' + \\\n",
    "              'Number of vehicles involved in accidents: ' + df1[\n",
    "                  'total_number_of_vehicles_involved_in_accidents_string'] + '<br>' + \\\n",
    "              'Number of casualties involved in accidents: ' + df1[\n",
    "                  'total_number_of_casualties_involved_in_accidents_string'] + '<br>' \\\n",
    "              'Accidents number class: ' + df1['number_of_accidents_class'] # This has to be a string in the dataframe\n",
    "\n",
    "# fig_map = go.Figure(data=[go.Choropleth(\n",
    "#     geojson=counties,\n",
    "#     locations=df1['local_authority_ons_district_code'],\n",
    "#     z=df1['number_of_accidents'],\n",
    "#     text=df1['text'],\n",
    "#     colorscale='Viridis',\n",
    "#     #customdata= [df1['local_authority_ons_district'], df1['total_number_of_vehicles_involved_in_accidents_string'], df['total_number_of_casualties_involved_in_accidents_string'], df1['number_of_accidents_class']],\n",
    "#     zmin=0,\n",
    "#     zmax=750,\n",
    "#     autocolorscale=False,\n",
    "#     reversescale=False,\n",
    "#     marker_line_color='White',\n",
    "#     marker_line_width=0.2,\n",
    "#     colorbar_title='Number of accidents',\n",
    "# )])\n",
    "# fig_map.update_geos(fitbounds='locations', visible=False, scope='europe')\n",
    "# fig_map.update_layout(margin={\"r\": 1, \"t\": 0, \"l\": 0, \"b\": 0},\n",
    "#                   title_text='Number of Accidents per Local Authority District in Great Britain in 2020')\n",
    "\n",
    "def average_district(column_slctd, dataset):\n",
    "    #print(dataset.columns)\n",
    "    #print(dataset['local_authority_ons_district'])\n",
    "    number_counties = dataset['local_authority_ons_district'].nunique()\n",
    "    v = pd.DataFrame(dataset[column_slctd].value_counts())\n",
    "    v.reset_index(inplace=True)\n",
    "    k = []\n",
    "    for i in range(len(v)):\n",
    "        j = [v.iloc[i, 0] for m in range((round(v.iloc[i, 1] / number_counties)))]\n",
    "        # ceiling rounding\n",
    "        if len(j) == 0:\n",
    "            j = [v.iloc[i, 0]]\n",
    "        k.extend(j)\n",
    "    column_data = k\n",
    "    return column_data\n",
    "\n",
    "\n",
    "# ------------------------------------------------------------------------------\n",
    "\n",
    "# App layout\n",
    "# https://stackoverflow.com/questions/63592900/plotly-dash-how-to-design-the-layout-using-dash-bootstrap-components\n",
    "app.layout = html.Div([\n",
    "# TESTING:\n",
    "    dbc.Card(\n",
    "        dbc.CardBody([\n",
    "            dbc.Row([\n",
    "                dbc.Col([\n",
    "\n",
    "                    html.Div([\n",
    "                        dbc.Card(\n",
    "                            dbc.CardBody([\n",
    "                                html.Div([\n",
    "                                    html.H1(\"UK traffic accidents dashboard\"),\n",
    "                                ], style={'textAlign': 'center'}),\n",
    "                            ])\n",
    "                        )\n",
    "                    ])\n",
    "\n",
    "                ], width=6),\n",
    "                dbc.Col([\n",
    "\n",
    "                    html.Div([\n",
    "                        dbc.Card(\n",
    "                            dbc.CardBody([\n",
    "                                dcc.Dropdown(\n",
    "                                    id='slct_column',\n",
    "                                    options=[\n",
    "                                            {\"label\": \"Accident severity\", \"value\": 'accident_severity'},\n",
    "                                            {\"label\": \"Road type\", \"value\": 'road_type'},\n",
    "                                            {\"label\": \"Age band of driver\", \"value\": 'age_band_of_driver'},\n",
    "                                            {\"label\": \"Vehicle type\", \"value\": 'vehicle_type'},\n",
    "                                            {\"label\": \"Age band of casualty\", \"value\": 'age_band_of_casualty'}\n",
    "                                    ],\n",
    "                                    value='accident_severity'\n",
    "                                ),\n",
    "                                html.Br(),\n",
    "                                html.Div([\n",
    "                                    html.H5(\"This dropdown menu affects the attribute of interest of all bar charts\"),\n",
    "                                ], style={'textAlign': 'center'}),\n",
    "\n",
    "                            ])\n",
    "                        )\n",
    "                    ])\n",
    "\n",
    "                ], width=6)\n",
    "            ], align='center'),\n",
    "            html.Br(),\n",
    "            dbc.Row([\n",
    "                dbc.Col([\n",
    "\n",
    "                    html.Div([\n",
    "                        dbc.Card(\n",
    "                            dbc.CardBody([\n",
    "                                dcc.Slider(\n",
    "                                    id='max_slider',\n",
    "                                    min=750,\n",
    "                                    max=1850,\n",
    "                                    step=50,\n",
    "                                    marks={\n",
    "                                        750: '750',\n",
    "                                        850: '850',\n",
    "                                        950: '950',\n",
    "                                        1050: '1050',\n",
    "                                        1150: '1150',\n",
    "                                        1250: '1250',\n",
    "                                        1350: '1350',\n",
    "                                        1450: '1450',\n",
    "                                        1550: '1550',\n",
    "                                        1650: '1650',\n",
    "                                        1750: '1750',\n",
    "                                        1850: '1850',\n",
    "                                    },\n",
    "                                    value=750,\n",
    "                                ),\n",
    "                                html.Br(),\n",
    "                                html.Div([\n",
    "                                html.H5(\"This slider lets you chose the maximum value of the color scale, to change contrast in the map\"),\n",
    "                                ], style={'textAlign': 'center'}),\n",
    "                                dcc.Graph(\n",
    "                                    id='accident_map',\n",
    "                                    #figure = fig_map,\n",
    "                                    clickData = None # Start off with none, and then when clicking it obtains the clicking data\n",
    "                                ),\n",
    "                                html.Br(),\n",
    "                                html.Div([\n",
    "                                    html.H5(\"Click on a district to find the distribution for this specific district\"),\n",
    "                                ], style={'textAlign': 'center'})\n",
    "                            ])\n",
    "                        )\n",
    "                    ])\n",
    "\n",
    "                ], width=6),\n",
    "                dbc.Col([\n",
    "\n",
    "                    html.Div([\n",
    "                        dbc.Card(\n",
    "                            dbc.CardBody([\n",
    "                                dcc.Graph(id='barchart2'),\n",
    "                                html.Br(),\n",
    "                                html.Div([\n",
    "                                    html.H5(id='chosen_district'),  #html.Div\n",
    "                                ], style={'textAlign': 'center'})\n",
    "                            ])\n",
    "                        )\n",
    "                    ])\n",
    "\n",
    "                ], width=6)\n",
    "            ], align='center'),\n",
    "            # html.Br(),\n",
    "            # dbc.Row([\n",
    "            #     dbc.Col([\n",
    "            #\n",
    "            #         html.Div([\n",
    "            #             dbc.Card(\n",
    "            #                 dbc.CardBody([\n",
    "            #                     html.Div([\n",
    "            #                         html.H2(\"Text\"),\n",
    "            #                     ], style={'textAlign': 'center'})\n",
    "            #                 ])\n",
    "            #             )\n",
    "            #         ])\n",
    "            #\n",
    "            #     ], width=6),\n",
    "            #     dbc.Col([\n",
    "            #\n",
    "            #         html.Div([\n",
    "            #             dbc.Card(\n",
    "            #                 dbc.CardBody([\n",
    "            #                     html.Div([\n",
    "            #                         html.H2(\"Text\"),\n",
    "            #                     ], style={'textAlign': 'center'})\n",
    "            #                 ])\n",
    "            #             )\n",
    "            #         ])\n",
    "            #\n",
    "            #     ], width=6)\n",
    "            # ], align='center'),\n",
    "            html.Br(),\n",
    "            dbc.Row([\n",
    "                dbc.Col([\n",
    "\n",
    "                    html.Div([\n",
    "                        dbc.Card(\n",
    "                            dbc.CardBody([\n",
    "                                dcc.Dropdown(\n",
    "                                    id='slct_class',  # How is this linked to df\n",
    "                                    options=[\n",
    "                                        {\"label\": \"Low: 0-200 accidents\", \"value\": 'Low: 0-200'},\n",
    "                                        {\"label\": \"Medium: 200-400 accidents\", \"value\": 'Medium: 200-400'},\n",
    "                                        {\"label\": \"High: 400-600 accidents\", \"value\": 'High: 400-600'},\n",
    "                                        {\"label\": \"Extreme: 600+ accidents\", \"value\": 'Extreme: 600+'}],\n",
    "                                    multi=False,\n",
    "                                    value='Low: 0-200',\n",
    "                                ),\n",
    "                                html.Br(),\n",
    "                                html.Div([\n",
    "                                    html.H5(\"This dropdown menu affects the values of this bar chart only\"),\n",
    "                                ], style={'textAlign': 'center'}),\n",
    "                                dcc.Graph(id='barchart3'),\n",
    "                                html.Br(),\n",
    "                                html.Div([\n",
    "                                    html.H5(\"This bar chart displays the distribution of the chosen attribute for an average district from the same class\"),\n",
    "                                ], style={'textAlign': 'center'})\n",
    "\n",
    "                            ])\n",
    "                        )\n",
    "                    ])\n",
    "\n",
    "                ], width=6),\n",
    "                dbc.Col([\n",
    "\n",
    "                    html.Div([\n",
    "                        dbc.Card(\n",
    "                            dbc.CardBody([\n",
    "                                dcc.Graph(id='barchart'),\n",
    "                                html.Br(),\n",
    "                                html.Div([\n",
    "                                    html.H5(\"This bar chart displays the distribution for the chosen attribute for an average district in the UK\"),\n",
    "                                ], style={'textAlign': 'center'})\n",
    "                            ])\n",
    "                        )\n",
    "                    ])\n",
    "\n",
    "                ], width=6),\n",
    "            ], align='center'),\n",
    "            html.Br(),\n",
    "            dbc.Row([\n",
    "                dbc.Col([\n",
    "\n",
    "                    html.Div([\n",
    "                        dbc.Card(\n",
    "                            dbc.CardBody([\n",
    "                                dcc.Dropdown(\n",
    "                                    id='choose_log_a',  # How is this linked to df\n",
    "                                    options=[\n",
    "                                        {\"label\": \"Log of number of accidents\", \"value\": 'log'},\n",
    "                                        {\"label\": \"Number of accidents\", \"value\": 'normal'}],\n",
    "                                    multi=False,\n",
    "                                    value='normal',\n",
    "                                ),\n",
    "                                html.Br(),\n",
    "                                html.Div([\n",
    "                                    html.H5(\"This dropdown menu decides if the values in the heatmap are the natural logs of the values or not\"),\n",
    "                                ], style={'textAlign': 'center'}),\n",
    "                                dcc.Graph(id='heatmap_a'),\n",
    "                                html.Br(),\n",
    "                                html.Div([\n",
    "                                    html.H5(\n",
    "                                        \"This heatmap displays the heatmap for the accident severity and road type for the chosen district\"),\n",
    "                                ], style={'textAlign': 'center'})\n",
    "                            ])\n",
    "                        )\n",
    "                    ])\n",
    "\n",
    "                ], width=4),\n",
    "                dbc.Col([\n",
    "\n",
    "                    html.Div([\n",
    "                        dbc.Card(\n",
    "                            dbc.CardBody([\n",
    "                                dcc.Dropdown(\n",
    "                                    id='choose_log_c1',  # How is this linked to df\n",
    "                                    options=[\n",
    "                                        {\"label\": \"Log of number of accidents\", \"value\": 'log'},\n",
    "                                        {\"label\": \"Number of accidents\", \"value\": 'normal'}],\n",
    "                                    multi=False,\n",
    "                                    value='normal',\n",
    "                                ),\n",
    "                                html.Br(),\n",
    "                                html.Div([\n",
    "                                    html.H5(\n",
    "                                        \"This dropdown menu decides if the values in the heatmap are the natural logs of the values or not\"),\n",
    "                                ], style={'textAlign': 'center'}),\n",
    "                                dcc.Graph(id='heatmap_c1'),\n",
    "                                html.Br(),\n",
    "                                html.Div([\n",
    "                                    html.H5(\n",
    "                                        \"This heatmap displays the heatmap for the casualty severity and the age band of the casualty for the chosen district\"),\n",
    "                                ], style={'textAlign': 'center'})\n",
    "                            ])\n",
    "                        )\n",
    "                    ])\n",
    "\n",
    "                ], width=4),\n",
    "                dbc.Col([\n",
    "\n",
    "                    html.Div([\n",
    "                        dbc.Card(\n",
    "                            dbc.CardBody([\n",
    "                                dcc.Dropdown(\n",
    "                                    id='choose_log_c2',  # How is this linked to df\n",
    "                                    options=[\n",
    "                                        {\"label\": \"Log of number of accidents\", \"value\": 'log'},\n",
    "                                        {\"label\": \"Number of accidents\", \"value\": 'normal'}],\n",
    "                                    multi=False,\n",
    "                                    value='normal',\n",
    "                                ),\n",
    "                                html.Br(),\n",
    "                                html.Div([\n",
    "                                    html.H5(\n",
    "                                        \"This dropdown menu decides if the values in the heatmap are the natural logs of the values or not\"),\n",
    "                                ], style={'textAlign': 'center'}),\n",
    "                                dcc.Graph(id='heatmap_c2'), #, hoverData = None\n",
    "                                html.Br(),\n",
    "                                html.Div([\n",
    "                                    html.H5(\n",
    "                                        \"This heatmap displays the heatmap for the casualty severity and vehicle type for the chosen district\"),\n",
    "                                ], style={'textAlign': 'center'})\n",
    "                            ])\n",
    "                        )\n",
    "                    ])\n",
    "\n",
    "                ], width=4)\n",
    "            ], align='center'),\n",
    "        ]), color = 'dark'\n",
    "    )\n",
    "])\n",
    "\n",
    "# Make a heatmap for which you can choose attributes for both axes, and it is influenced by the clicked district\n",
    "# and it displays the number of accidents. Maybe for district and for class or country\n",
    "\n",
    "# evt hoover zoom on the map\n",
    "\n",
    "# Change frequency --> number of accidents\n",
    "\n",
    "    #     html.Div(\n",
    "    #         dcc.Dropdown(\n",
    "    #             id='slct_class', # How is this linked to df\n",
    "    #             options= [\n",
    "    #                 {\"label\": \"Low: 0-200\", \"value\": 'Low: 0-200'},\n",
    "    #                 {\"label\": \"Medium: 200-400\", \"value\": 'Medium: 200-400'},\n",
    "    #                 {\"label\": \"High: 400-600\", \"value\": 'High: 400-600'},\n",
    "    #                 {\"label\": \"Extreme: 600+\", \"value\": 'Extreme: 600+'}],\n",
    "    #             multi=False,\n",
    "    #             value='Low: 0-200',\n",
    "    #         ), style = {'width': '49%', 'display': 'inline-block'}\n",
    "    #     ),\n",
    "    #\n",
    "    #     html.Div( # dropdown menu with different attributes, is that possible?\n",
    "    #         # Throw the chosen attribute into the histograms. To get two of the same histograms\n",
    "    #         dcc.Dropdown(\n",
    "    #             id='slct_column',\n",
    "    #             options=[\n",
    "    #                     {\"label\": \"Accident severity\", \"value\": 'accident_severity'},\n",
    "    #                     {\"label\": \"Road type\", \"value\": 'road_type'},\n",
    "    #                     {\"label\": \"Age band of driver\", \"value\": 'age_band_of_driver'},\n",
    "    #                     {\"label\": \"Casualty type\", \"value\": 'casualty_type'}],\n",
    "    #             value='accident_severity'\n",
    "    #         ), style={'width': '49%', 'float': 'right', 'display': 'inline-block'})\n",
    "    # ], style={\n",
    "    #     'padding': '10px 5px'\n",
    "    # }),\n",
    "\n",
    "### New\n",
    "\n",
    "#     html.Div([\n",
    "#         #dcc.Graph(id='histogram3'),\n",
    "#         dcc.Graph(\n",
    "#             id='accident_map',\n",
    "#             figure = fig_map,\n",
    "#             clickData = None # Start off with none, and then when clicking it obtains the clicking data\n",
    "#         ),\n",
    "#         dcc.Graph(id='histogram3')\n",
    "#\n",
    "#     ], style={'width': '49%', 'display': 'inline-block', 'padding': '0 20'}),\n",
    "#\n",
    "#     html.Div([\n",
    "#         dcc.Graph(id='histogram2'),\n",
    "#         dcc.Graph(id='histogram'),\n",
    "#     ], style={'display': 'inline-block', 'width': '49%'}),\n",
    "#\n",
    "#     html.Div(id='output_container', style={'width': '49%', 'padding': '0px 20px 20px 20px'}) # Evt add children = []\n",
    "#\n",
    "# ])\n",
    "\n",
    "\n",
    "### New\n",
    "\n",
    "#     html.Div([\n",
    "#\n",
    "#         html.Div(\n",
    "#             dcc.Dropdown(\n",
    "#                 id='slct_class', # How is this linked to df\n",
    "#                 options= [\n",
    "#                     {\"label\": \"Low: 0-200\", \"value\": 'Low: 0-200'},\n",
    "#                     {\"label\": \"Medium: 200-400\", \"value\": 'Medium: 200-400'},\n",
    "#                     {\"label\": \"High: 400-600\", \"value\": 'High: 400-600'},\n",
    "#                     {\"label\": \"Extreme: 600+\", \"value\": 'Extreme: 600+'}],\n",
    "#                 multi=False,\n",
    "#                 value='Low: 0-200',\n",
    "#             ), style = {'width': '49%', 'display': 'inline-block'}\n",
    "#         ),\n",
    "#\n",
    "#         html.Div( # dropdown menu with different attributes, is that possible?\n",
    "#             # Throw the chosen attribute into the histograms. To get two of the same histograms\n",
    "#             dcc.Dropdown(\n",
    "#                 id='slct_column',\n",
    "#                 options=[\n",
    "#                         {\"label\": \"Accident severity\", \"value\": 'accident_severity'},\n",
    "#                         {\"label\": \"Road type\", \"value\": 'road_type'},\n",
    "#                         {\"label\": \"Age band of driver\", \"value\": 'age_band_of_driver'},\n",
    "#                         {\"label\": \"Casualty type\", \"value\": 'casualty_type'}],\n",
    "#                 value='accident_severity'\n",
    "#             ), style={'width': '49%', 'float': 'right', 'display': 'inline-block'})\n",
    "#     ], style={\n",
    "#         'padding': '10px 5px'\n",
    "#     }),\n",
    "#\n",
    "# ### New\n",
    "#\n",
    "#     html.Div([\n",
    "#         #dcc.Graph(id='histogram3'),\n",
    "#         dcc.Graph(\n",
    "#             id='accident_map',\n",
    "#             figure = fig_map,\n",
    "#             clickData = None # Start off with none, and then when clicking it obtains the clicking data\n",
    "#         ),\n",
    "#         dcc.Graph(id='histogram3')\n",
    "#\n",
    "#     ], style={'width': '49%', 'display': 'inline-block', 'padding': '0 20'}),\n",
    "#\n",
    "#     html.Div([\n",
    "#         dcc.Graph(id='histogram2'),\n",
    "#         dcc.Graph(id='histogram'),\n",
    "#     ], style={'display': 'inline-block', 'width': '49%'}),\n",
    "#\n",
    "#     html.Div(id='output_container', style={'width': '49%', 'padding': '0px 20px 20px 20px'}) # Evt add children = []\n",
    "#\n",
    "# ])\n",
    "\n",
    "# ------------------------------------------------------------------------------\n",
    "# Connect the Plotly graphs with Dash Components\n",
    "\n",
    "@app.callback(\n",
    "    Output(component_id='accident_map', component_property='figure'), #value needs to become figure\n",
    "    Input(component_id='max_slider', component_property='value'))\n",
    "    # The fact that the input is never used might cause the dash to be slow.\n",
    "def update_map(slider_val): # Changed from graph to text\n",
    "    fig_map = go.Figure(data=[go.Choropleth(\n",
    "        geojson=counties,\n",
    "        locations=df1['local_authority_ons_district_code'],\n",
    "        z=df1['number_of_accidents'],\n",
    "        text=df1['text'],\n",
    "        colorscale='Viridis',\n",
    "        # customdata= [df1['local_authority_ons_district'], df1['total_number_of_vehicles_involved_in_accidents_string'], df['total_number_of_casualties_involved_in_accidents_string'], df1['number_of_accidents_class']],\n",
    "        zmin=0,\n",
    "        zmax=slider_val,\n",
    "        autocolorscale=False,\n",
    "        reversescale=False,\n",
    "        marker_line_color='White',\n",
    "        marker_line_width=0.2,\n",
    "        colorbar_title='Number of accidents',\n",
    "    )])\n",
    "    fig_map.update_geos(fitbounds='locations', visible=False, scope='europe')\n",
    "    fig_map.update_layout(margin={\"r\": 1, \"t\": 0, \"l\": 0, \"b\": 0})\n",
    "    #if column_slctd in df_vehicle_dataset:\n",
    "    return fig_map\n",
    "\n",
    "@app.callback(\n",
    "    Output(component_id='chosen_district', component_property='children'), #value needs to become figure\n",
    "    Input(component_id='accident_map', component_property='clickData'))\n",
    "    # The fact that the input is never used might cause the dash to be slow.\n",
    "def update_map(clk_data): # Changed from graph to text\n",
    "    if clk_data is None:\n",
    "        clk_district = 'Birmingham'\n",
    "        clk_class = 'Extreme: 600+'\n",
    "    else:\n",
    "        # print(f'click data: {clk_data}')\n",
    "        clk_text = clk_data['points'][0]['text']  # use regex to obtain district.\n",
    "        clk_text1 = clk_text\n",
    "        clk_text2 = clk_text\n",
    "        clk_district = re.search(r\"District name: (.*?)<br>\", clk_text1).group(1)\n",
    "        print(clk_district)\n",
    "        clk_class = re.search(r\"Accidents number class: (.*)\", clk_text2).group(1)\n",
    "        print(clk_class)\n",
    "\n",
    "    return f'This bar chart displays the distribution for the chosen attribute for {clk_district} ({clk_class} accidents)' #'This histogram displays the distribution for the chosen attribute for {} ({} accidents)'.format(clk_district, clk_class)\n",
    "\n",
    "@app.callback(\n",
    "    Output(component_id='barchart3', component_property='figure'), #value needs to become figure\n",
    "    Input(component_id='slct_class', component_property='value'),\n",
    "    Input(component_id='slct_column', component_property='value'))\n",
    "    # The fact that the input is never used might cause the dash to be slow.\n",
    "def update_figure(option_slctd, column_slctd): # Changed from graph to text\n",
    "\n",
    "    title_dict = {'accident_severity': 'Accident severity', 'road_type': 'Road type', 'age_band_of_driver':\n",
    "        'Age band of driver', 'vehicle_type': 'Vehicle type', 'age_band_of_casualty': 'Age band of casualty'}\n",
    "    #print(title_dict[column_slctd])\n",
    "\n",
    "    if column_slctd in df_accident_dataset:\n",
    "        data = df_accident_dataset[df_accident_dataset['number_of_accidents_class'] == option_slctd]\n",
    "        column_data = average_district(column_slctd, data) #data[column_slctd]\n",
    "    elif column_slctd in df_casualty_dataset:\n",
    "        data = df_casualty_dataset[df_casualty_dataset['number_of_accidents_class'] == option_slctd]\n",
    "        column_data = average_district(column_slctd, data) #data[column_slctd]\n",
    "    #if column_slctd in df_vehicle_dataset:\n",
    "    else:\n",
    "        data = df_vehicle_dataset[df_vehicle_dataset['number_of_accidents_class'] == option_slctd]\n",
    "        column_data = average_district(column_slctd, data)\n",
    "\n",
    "    fig_hist3 = px.histogram(df, x=column_data) # , labels = {column_data: column_slctd}\n",
    "    fig_hist3.update_xaxes(categoryorder='category ascending', title_text = title_dict[column_slctd])\n",
    "    fig_hist3.update_yaxes(title_text = 'Frequency')\n",
    "    return fig_hist3\n",
    "\n",
    "@app.callback(\n",
    "    Output(component_id='barchart2', component_property='figure'), # value needs to become figure\n",
    "    Input(component_id='accident_map', component_property='clickData'),\n",
    "    Input(component_id='slct_column', component_property='value'))\n",
    "def update_y_timeseries(clk_data, column_slctd): # HOW DO I GET THE VALUES FROM DF_DATA\n",
    "    print(clk_data)\n",
    "    print(column_slctd)\n",
    "\n",
    "    title_dict = {'accident_severity': 'Accident severity', 'road_type': 'Road type', 'age_band_of_driver':\n",
    "        'Age band of driver', 'vehicle_type': 'Vehicle type', 'age_band_of_casualty': 'Age band of casualty'}\n",
    "\n",
    "    if column_slctd in df_accident_dataset:\n",
    "        print('YESH')\n",
    "        if clk_data is None:\n",
    "            data = df_accident_dataset[df_accident_dataset['local_authority_ons_district'] == 'Birmingham']\n",
    "        else:\n",
    "            # print(f'click data: {clk_data}')\n",
    "            clk_text = clk_data['points'][0]['text']  # use regex to obtain district.\n",
    "            clk_district = re.search(r\"District name: (.*?)<br>\", clk_text).group(1)\n",
    "            print(clk_district)\n",
    "            data = df_accident_dataset[df_accident_dataset['local_authority_ons_district'] == clk_district]\n",
    "            # How do I get a different dataframe as input of callback.\n",
    "            # maybe make a base graph below the map\n",
    "            # and update using the clickdata.\n",
    "        column_data = data[column_slctd]\n",
    "    elif column_slctd in df_casualty_dataset:\n",
    "        if clk_data is None:\n",
    "            data = df_casualty_dataset[df_casualty_dataset['local_authority_ons_district'] == 'Birmingham']\n",
    "        else:\n",
    "            # print(f'click data: {clk_data}')\n",
    "            clk_text = clk_data['points'][0]['text']  # use regex to obtain district.\n",
    "            clk_district = re.search(r\"District name: (.*?)<br>\", clk_text).group(1)\n",
    "            print(clk_district)\n",
    "            data = df_casualty_dataset[df_casualty_dataset['local_authority_ons_district'] == clk_district]\n",
    "            # How do I get a different dataframe as input of callback.\n",
    "            # maybe make a base graph below the map\n",
    "            # and update using the clickdata.\n",
    "        column_data = data[column_slctd]\n",
    "    #if column_slctd in df_vehicle_dataset:\n",
    "    else:\n",
    "        if clk_data is None:\n",
    "            data = df_vehicle_dataset[df_vehicle_dataset['local_authority_ons_district'] == 'Birmingham']\n",
    "        else:\n",
    "            # print(f'click data: {clk_data}')\n",
    "            clk_text = clk_data['points'][0]['text']  # use regex to obtain district.\n",
    "            clk_district = re.search(r\"District name: (.*?)<br>\", clk_text).group(1)\n",
    "            print(clk_district)\n",
    "            data = df_vehicle_dataset[df_vehicle_dataset['local_authority_ons_district'] == clk_district]\n",
    "            # How do I get a different dataframe as input of callback.\n",
    "            # maybe make a base graph below the map\n",
    "            # and update using the clickdata.\n",
    "        column_data = data[column_slctd]\n",
    "    print(column_data)\n",
    "    fig_hist = px.histogram(df, x=column_data)\n",
    "    fig_hist.update_xaxes(categoryorder='category ascending', title_text = title_dict[column_slctd])\n",
    "    fig_hist.update_yaxes(title_text = 'Frequency')\n",
    "    return fig_hist\n",
    "\n",
    "\n",
    "@app.callback(\n",
    "    Output(component_id='barchart', component_property='figure'), #value needs to become figure\n",
    "    Input(component_id='slct_column', component_property='value'))\n",
    "def update_x_timeseries(column_slctd):\n",
    "\n",
    "    title_dict = {'accident_severity': 'Accident severity', 'road_type': 'Road type', 'age_band_of_driver':\n",
    "        'Age band of driver', 'vehicle_type': 'Vehicle type', 'age_band_of_casualty': 'Age band of casualty'}\n",
    "\n",
    "    print(column_slctd)\n",
    "    if column_slctd in df_accident_dataset:\n",
    "        column_data = average_district(column_slctd, df_accident_dataset) #df_accident_dataset[column_slctd]\n",
    "    elif column_slctd in df_casualty_dataset:\n",
    "        column_data = average_district(column_slctd, df_casualty_dataset)#df_casualty_dataset[column_slctd]\n",
    "    #if column_slctd in df_vehicle_dataset:\n",
    "    else:\n",
    "        column_data = average_district(column_slctd, df_vehicle_dataset) #df_vehicle_dataset[column_slctd]\n",
    "    fig_hist2 = px.histogram(df, x=column_data)\n",
    "    fig_hist2.update_xaxes(categoryorder='category ascending', title_text = title_dict[column_slctd])\n",
    "    fig_hist2.update_yaxes(title_text = 'Frequency')\n",
    "    return fig_hist2\n",
    "# https://www.youtube.com/watch?v=UYH_dNSX1DM\n",
    "\n",
    "@app.callback(\n",
    "    Output(component_id='heatmap_a', component_property='figure'),\n",
    "    Output(component_id='heatmap_c1', component_property='figure'),\n",
    "    Output(component_id='heatmap_c2', component_property='figure'),#value needs to become figure\n",
    "    Input(component_id='accident_map', component_property='clickData'),\n",
    "    Input(component_id='choose_log_a', component_property='value'),\n",
    "    Input(component_id='choose_log_c1', component_property='value'),\n",
    "    Input(component_id='choose_log_c2', component_property='value'))\n",
    "    #Input(component_id='heatmap_c2', component_property='hoverData'))\n",
    "def update_heatmaps(clk_data, log_a, log_c1, log_c2): #, hover_data\n",
    "    if clk_data is None:\n",
    "        data_a = df_accident_dataset[df_accident_dataset['local_authority_ons_district'] == 'Birmingham']\n",
    "        data_c = df_casualty_dataset[df_casualty_dataset['local_authority_ons_district'] == 'Birmingham']\n",
    "    else:\n",
    "        # print(f'click data: {clk_data}')\n",
    "        clk_text = clk_data['points'][0]['text']  # use regex to obtain district.\n",
    "        clk_district = re.search(r\"District name: (.*?)<br>\", clk_text).group(1)\n",
    "        print(clk_district)\n",
    "        data_a = df_accident_dataset[df_accident_dataset['local_authority_ons_district'] == clk_district]\n",
    "        data_c = df_casualty_dataset[df_casualty_dataset['local_authority_ons_district'] == clk_district]\n",
    "        # How do I get a different dataframe as input of callback.\n",
    "        # maybe make a base graph below the map\n",
    "        # and update using the clickdata.\n",
    "\n",
    "    data_heatmap_a = data_a.groupby(['accident_severity', 'road_type']).size().reset_index().rename(columns={0: 'count'})\n",
    "    data_heatmap_a = data_heatmap_a.set_index(['accident_severity', 'road_type'])\n",
    "    if log_a == 'log':\n",
    "        data_heatmap_a = data_heatmap_a.reset_index().pivot(columns='road_type', index='accident_severity', values='count').fillna(1) #0\n",
    "        list_columns_1 = data_heatmap_a.columns.to_list()\n",
    "        log_data_heatmap_a = np.log(data_heatmap_a[list_columns_1])\n",
    "        heatmap_a = px.imshow(log_data_heatmap_a, labels=dict(color=\"Log of number of accidents\"))\n",
    "    else:\n",
    "        data_heatmap_a = data_heatmap_a.reset_index().pivot(columns='road_type', index='accident_severity', values='count').fillna(0)\n",
    "        heatmap_a = px.imshow(data_heatmap_a, labels=dict(color=\"Number of accidents\"))\n",
    "\n",
    "    data_heatmap_c1 = data_c.groupby(['casualty_severity', 'age_band_of_casualty']).size().reset_index().rename(columns={0: 'count'})\n",
    "    data_heatmap_c1 = data_heatmap_c1.set_index(['casualty_severity', 'age_band_of_casualty'])\n",
    "    if log_c1 == 'log':\n",
    "        data_heatmap_c1 = data_heatmap_c1.reset_index().pivot(columns='age_band_of_casualty', index='casualty_severity', values='count').fillna(1) #0\n",
    "        list_columns_2 = data_heatmap_c1.columns.to_list()\n",
    "        log_data_heatmap_c1 = np.log(data_heatmap_c1[list_columns_2])\n",
    "        heatmap_c1 = px.imshow(log_data_heatmap_c1, labels=dict(color=\"Log of number of accidents\"))\n",
    "    else:\n",
    "        data_heatmap_c1 = data_heatmap_c1.reset_index().pivot(columns='age_band_of_casualty', index='casualty_severity', values='count').fillna(0)\n",
    "        heatmap_c1 = px.imshow(data_heatmap_c1, labels=dict(color=\"Number of accidents\"))\n",
    "\n",
    "    data_heatmap_c2 = data_c.groupby(['casualty_severity', 'casualty_type']).size().reset_index().rename(columns={0: 'count'})\n",
    "    data_heatmap_c2 = data_heatmap_c2.set_index(['casualty_severity', 'casualty_type'])\n",
    "    if log_c2 == 'log':\n",
    "        data_heatmap_c2 = data_heatmap_c2.reset_index().pivot(columns='casualty_type', index='casualty_severity', values='count').fillna(1)\n",
    "        list_columns_3 = data_heatmap_c2.columns.to_list()\n",
    "        log_data_heatmap_c2 = np.log(data_heatmap_c2[list_columns_3])\n",
    "        heatmap_c2 = px.imshow(log_data_heatmap_c2, labels=dict(color=\"Log of number of accidents\"))\n",
    "    else:\n",
    "        data_heatmap_c2 = data_heatmap_c2.reset_index().pivot(columns='casualty_type', index='casualty_severity', values='count').fillna(0)\n",
    "        heatmap_c2 = px.imshow(data_heatmap_c2, labels=dict(color=\"Number of accidents\"))\n",
    "\n",
    "    #hvr_data = hover_data\n",
    "    #if hvr_data is None:\n",
    "    #    heatmap_c2.update_xaxes(showticklabels=False)\n",
    "\n",
    "\n",
    "    return heatmap_a, heatmap_c1, heatmap_c2\n",
    "#https://stackoverflow.com/questions/66505485/how-to-shorten-and-show-only-a-part-of-text-in-plotly-express-axis\n",
    "\n",
    "if __name__ == '__main__':\n",
    "    app.run_server(debug=False)"
   ]
  },
  {
   "cell_type": "code",
   "execution_count": 2,
   "metadata": {},
   "outputs": [
    {
     "name": "stdout",
     "output_type": "stream",
     "text": [
      "Collecting dash_bootstrap_components\n",
      "  Downloading dash_bootstrap_components-1.0.2-py3-none-any.whl (209 kB)\n",
      "Requirement already satisfied: dash>=2.0.0 in c:\\users\\20203666\\appdata\\roaming\\python\\python39\\site-packages (from dash_bootstrap_components) (2.1.0)\n",
      "Requirement already satisfied: plotly>=5.0.0 in c:\\users\\20203666\\appdata\\roaming\\python\\python39\\site-packages (from dash>=2.0.0->dash_bootstrap_components) (5.5.0)\n",
      "Requirement already satisfied: Flask>=1.0.4 in c:\\programdata\\anaconda3\\envs\\my_env\\lib\\site-packages (from dash>=2.0.0->dash_bootstrap_components) (2.0.2)\n",
      "Requirement already satisfied: dash-core-components==2.0.0 in c:\\users\\20203666\\appdata\\roaming\\python\\python39\\site-packages (from dash>=2.0.0->dash_bootstrap_components) (2.0.0)\n",
      "Requirement already satisfied: dash-html-components==2.0.0 in c:\\users\\20203666\\appdata\\roaming\\python\\python39\\site-packages (from dash>=2.0.0->dash_bootstrap_components) (2.0.0)\n",
      "Requirement already satisfied: flask-compress in c:\\programdata\\anaconda3\\envs\\my_env\\lib\\site-packages (from dash>=2.0.0->dash_bootstrap_components) (1.5.0)\n",
      "Requirement already satisfied: dash-table==5.0.0 in c:\\users\\20203666\\appdata\\roaming\\python\\python39\\site-packages (from dash>=2.0.0->dash_bootstrap_components) (5.0.0)\n",
      "Requirement already satisfied: Werkzeug>=2.0 in c:\\programdata\\anaconda3\\envs\\my_env\\lib\\site-packages (from Flask>=1.0.4->dash>=2.0.0->dash_bootstrap_components) (2.0.2)\n",
      "Requirement already satisfied: itsdangerous>=2.0 in c:\\programdata\\anaconda3\\envs\\my_env\\lib\\site-packages (from Flask>=1.0.4->dash>=2.0.0->dash_bootstrap_components) (2.0.1)\n",
      "Requirement already satisfied: Jinja2>=3.0 in c:\\programdata\\anaconda3\\envs\\my_env\\lib\\site-packages (from Flask>=1.0.4->dash>=2.0.0->dash_bootstrap_components) (3.0.2)\n",
      "Requirement already satisfied: click>=7.1.2 in c:\\programdata\\anaconda3\\envs\\my_env\\lib\\site-packages (from Flask>=1.0.4->dash>=2.0.0->dash_bootstrap_components) (7.1.2)\n",
      "Requirement already satisfied: MarkupSafe>=2.0 in c:\\programdata\\anaconda3\\envs\\my_env\\lib\\site-packages (from Jinja2>=3.0->Flask>=1.0.4->dash>=2.0.0->dash_bootstrap_components) (2.0.1)\n",
      "Requirement already satisfied: six in c:\\programdata\\anaconda3\\envs\\my_env\\lib\\site-packages (from plotly>=5.0.0->dash>=2.0.0->dash_bootstrap_components) (1.15.0)\n",
      "Requirement already satisfied: tenacity>=6.2.0 in c:\\users\\20203666\\appdata\\roaming\\python\\python39\\site-packages (from plotly>=5.0.0->dash>=2.0.0->dash_bootstrap_components) (8.0.1)\n",
      "Requirement already satisfied: brotli in c:\\programdata\\anaconda3\\envs\\my_env\\lib\\site-packages (from flask-compress->dash>=2.0.0->dash_bootstrap_components) (1.0.9)\n",
      "Installing collected packages: dash-bootstrap-components\n",
      "Successfully installed dash-bootstrap-components-1.0.2\n"
     ]
    },
    {
     "name": "stderr",
     "output_type": "stream",
     "text": [
      "WARNING: Ignoring invalid distribution -ash-table (c:\\programdata\\anaconda3\\envs\\my_env\\lib\\site-packages)\n",
      "WARNING: Ignoring invalid distribution -ash-table (c:\\programdata\\anaconda3\\envs\\my_env\\lib\\site-packages)\n",
      "WARNING: Ignoring invalid distribution -ash-table (c:\\programdata\\anaconda3\\envs\\my_env\\lib\\site-packages)\n",
      "WARNING: Ignoring invalid distribution -ash-table (c:\\programdata\\anaconda3\\envs\\my_env\\lib\\site-packages)\n",
      "WARNING: Ignoring invalid distribution -ash-table (c:\\programdata\\anaconda3\\envs\\my_env\\lib\\site-packages)\n",
      "WARNING: Ignoring invalid distribution -ash-table (c:\\programdata\\anaconda3\\envs\\my_env\\lib\\site-packages)\n",
      "WARNING: Ignoring invalid distribution -ash-table (c:\\programdata\\anaconda3\\envs\\my_env\\lib\\site-packages)\n"
     ]
    }
   ],
   "source": [
    "!pip install dash_bootstrap_components"
   ]
  },
  {
   "cell_type": "code",
   "execution_count": null,
   "metadata": {},
   "outputs": [],
   "source": []
  }
 ],
 "metadata": {
  "kernelspec": {
   "display_name": "Python [conda env:my_env]",
   "language": "python",
   "name": "conda-env-my_env-py"
  },
  "language_info": {
   "codemirror_mode": {
    "name": "ipython",
    "version": 3
   },
   "file_extension": ".py",
   "mimetype": "text/x-python",
   "name": "python",
   "nbconvert_exporter": "python",
   "pygments_lexer": "ipython3",
   "version": "3.9.7"
  }
 },
 "nbformat": 4,
 "nbformat_minor": 4
}
