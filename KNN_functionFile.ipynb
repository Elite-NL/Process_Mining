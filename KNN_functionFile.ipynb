{
 "cells": [
  {
   "cell_type": "code",
   "execution_count": null,
   "outputs": [],
   "source": [
    "import numpy as np\n",
    "import pandas as pd\n",
    "\n",
    "# to create a counterobject\n",
    "from collections import Counter"
   ],
   "metadata": {
    "collapsed": false,
    "pycharm": {
     "name": "#%%\n"
    }
   }
  },
  {
   "cell_type": "code",
   "execution_count": null,
   "outputs": [],
   "source": [
    "def calculate_eucledian_distance (validation_point, point_Xi):\n",
    "\n",
    "    return np.sqrt((validation_point[0] - point_Xi[0])**2 + (validation_point[1] - point_Xi[1])**2)\n"
   ],
   "metadata": {
    "collapsed": false,
    "pycharm": {
     "name": "#%%\n"
    }
   }
  },
  {
   "cell_type": "code",
   "execution_count": null,
   "outputs": [],
   "source": [
    "def calculate_distance_list (validation_point, X):\n",
    "\n",
    "    return X.apply(lambda x: calculate_eucledian_distance (validation_point, x), axis=1)"
   ],
   "metadata": {
    "collapsed": false,
    "pycharm": {
     "name": "#%%\n"
    }
   }
  },
  {
   "cell_type": "code",
   "execution_count": null,
   "outputs": [],
   "source": [
    "def test_validation_point (validation_point, train_dataset, relevantFeatures, labelColumn, defaultValue, neighbours):\n",
    "\n",
    "    # select the relevant features\n",
    "    X = train_dataset[relevantFeatures]\n",
    "\n",
    "    # calculate the distances to every point in the train dataset\n",
    "    train_dataset['distance_list'] = calculate_distance_list (validation_point, X)\n",
    "\n",
    "    # sort the events in the train dataset on distance to the validation point\n",
    "    train_dataset = train_dataset.sort_values('distance_list').reset_index()\n",
    "\n",
    "    # only look at the K-nearest neighbours\n",
    "    count_occurance = Counter(train_dataset.loc[0:neighbours-1, labelColumn])\n",
    "\n",
    "    # in case of a tie, it returns an arbitrary value\n",
    "    # sklearn returns the lowest class, so let's do the same\n",
    "    value, count = count_occurance.most_common()[0]\n",
    "\n",
    "    # if there is an even amount of neighbours, and there is a tie, return label defaultValue\n",
    "    if ((neighbours % 2) == 0) & (count == (neighbours/2)):\n",
    "        return defaultValue\n",
    "\n",
    "    # else, return the class value that occurs most\n",
    "    else:\n",
    "        return value"
   ],
   "metadata": {
    "collapsed": false,
    "pycharm": {
     "name": "#%%\n"
    }
   }
  },
  {
   "cell_type": "code",
   "execution_count": null,
   "outputs": [],
   "source": [
    "def get_validation_accuracy (validation_dataset, train_dataset, neighbours, relevantFeatures, labelColumn,):\n",
    "\n",
    "    correct = 0\n",
    "\n",
    "    for i in range(0,len(validation_dataset)):\n",
    "\n",
    "        validation_point = validation_dataset.loc[i,:]\n",
    "        validation_y = validation_point[labelColumn]\n",
    "        validation_x = validation_point[relevantFeatures]\n",
    "        value = test_validation_point (validation_x, train_dataset, neighbours=neighbours)\n",
    "        if value == validation_y:\n",
    "            correct +=1\n",
    "\n",
    "    return correct / len(validation_dataset)"
   ],
   "metadata": {
    "collapsed": false,
    "pycharm": {
     "name": "#%%\n"
    }
   }
  },
  {
   "cell_type": "code",
   "execution_count": null,
   "outputs": [],
   "source": [
    "def print_statement (val_acc, neighbours):\n",
    "\n",
    "    print('The validation accuracy is: ' + str(val_acc) + ' when k == ' + str(neighbours) + '.')"
   ],
   "metadata": {
    "collapsed": false,
    "pycharm": {
     "name": "#%%\n"
    }
   }
  }
 ],
 "metadata": {
  "kernelspec": {
   "display_name": "Python 3",
   "language": "python",
   "name": "python3"
  },
  "language_info": {
   "codemirror_mode": {
    "name": "ipython",
    "version": 2
   },
   "file_extension": ".py",
   "mimetype": "text/x-python",
   "name": "python",
   "nbconvert_exporter": "python",
   "pygments_lexer": "ipython2",
   "version": "2.7.6"
  }
 },
 "nbformat": 4,
 "nbformat_minor": 0
}