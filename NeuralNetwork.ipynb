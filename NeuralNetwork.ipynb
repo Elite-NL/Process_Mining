{
 "cells": [
  {
   "cell_type": "code",
   "execution_count": 1,
   "metadata": {
    "collapsed": true
   },
   "outputs": [],
   "source": [
    "import pandas as pd\n",
    "import numpy as np\n",
    "\n",
    "# process mining for python\n",
    "import pm4py\n",
    "\n",
    "# machine learning\n",
    "from sklearn.ensemble import RandomForestClassifier\n",
    "from sklearn.model_selection import train_test_split\n",
    "from sklearn.model_selection import cross_val_score\n",
    "from sklearn.metrics import classification_report, confusion_matrix\n",
    "\n",
    "# nice plots & tables\n",
    "import plotly\n",
    "import plotly.express as px\n",
    "import plotly.graph_objects as go\n",
    "from IPython.display import display"
   ]
  },
  {
   "cell_type": "code",
   "execution_count": 2,
   "outputs": [],
   "source": [
    "def import_csv(file_path):\n",
    "    event_log = pd.read_csv(file_path, sep=',')\n",
    "    # make a timestamp out of the timefield\n",
    "    event_log[\"event time:timestamp\"] = pd.to_datetime(event_log[\"event time:timestamp\"])\n",
    "\n",
    "    # replace nan with 0:\n",
    "    event_log = event_log.fillna(0)\n",
    "\n",
    "    # change format into pm4py event_log\n",
    "    event_log = pm4py.format_dataframe(event_log, case_id = 'case concept:name', activity_key = 'event concept:name',\n",
    "                                       timestamp_key = \"event time:timestamp\", timest_format = '%Y-%m-%d %H:%M:%Sz')\n",
    "\n",
    "    #2011-10-01T00:38:44.546+02:00\n",
    "    # print what the start and end activities are:\n",
    "    start_activities = pm4py.get_start_activities(event_log)\n",
    "    end_activities = pm4py.get_end_activities(event_log)\n",
    "    print(\"Start activities: {}\\n\\nEnd activities: {}\".format(start_activities, end_activities))\n",
    "\n",
    "    # print how many events and how many instances (cases) there are\n",
    "    num_events = len(event_log)\n",
    "    num_cases = len(event_log['case concept:name'].unique())\n",
    "    print(' ')\n",
    "    print(\"Number of events: {}\\nNumber of cases: {}\".format(num_events, num_cases))\n",
    "\n",
    "\n",
    "    return event_log"
   ],
   "metadata": {
    "collapsed": false,
    "pycharm": {
     "name": "#%%\n"
    }
   }
  },
  {
   "cell_type": "code",
   "execution_count": 3,
   "outputs": [
    {
     "name": "stdout",
     "output_type": "stream",
     "text": [
      "Start activities: {'A_SUBMITTED': 10469}\n",
      "\n",
      "End activities: {'A_DECLINED': 2690, 'W_Valideren aanvraag': 1953, 'W_Afhandelen leads': 1864, 'W_Completeren aanvraag': 1705, 'W_Nabellen offertes': 1288, 'A_CANCELLED': 425, 'W_Nabellen incomplete dossiers': 318, 'O_CANCELLED': 174, 'W_Beoordelen fraude': 49, 'W_Wijzigen contractgegevens': 2, 'A_ACTIVATED': 1}\n",
      " \n",
      "Number of events: 199668\n",
      "Number of cases: 10469\n"
     ]
    }
   ],
   "source": [
    "file = \"data/added_features_event_log.csv\"\n",
    "\n",
    "event_log = import_csv(file)"
   ],
   "metadata": {
    "collapsed": false,
    "pycharm": {
     "name": "#%%\n"
    }
   }
  },
  {
   "cell_type": "code",
   "execution_count": 4,
   "outputs": [
    {
     "data": {
      "text/plain": "   Unnamed: 0  level_0  Unnamed: 0.1  index  eventID   case concept:name  \\\n0           0        0             0      0         0             173688   \n1           1        1             1      1         1             173688   \n2           2        2             2      2         2             173688   \n3           3        3             3      3         3             173688   \n4           4       89            89     89         4             173688   \n\n                   case REG_DATE  case AMOUNT_REQ      event concept:name  \\\n0  2011-10-01T00:38:44.546+02:00            20000             A_SUBMITTED   \n1  2011-10-01T00:38:44.546+02:00            20000       A_PARTLYSUBMITTED   \n2  2011-10-01T00:38:44.546+02:00            20000           A_PREACCEPTED   \n3  2011-10-01T00:38:44.546+02:00            20000  W_Completeren aanvraag   \n4  2011-10-01T00:38:44.546+02:00            20000  W_Completeren aanvraag   \n\n  event lifecycle:transition  ... A_CANCELLED W_Afhandelen leads  A_DECLINED  \\\n0                   COMPLETE  ...         0.0                0.0         0.0   \n1                   COMPLETE  ...         0.0                0.0         0.0   \n2                   COMPLETE  ...         0.0                0.0         0.0   \n3                   SCHEDULE  ...         0.0                0.0         0.0   \n4                      START  ...         0.0                0.0         0.0   \n\n  O_DECLINED W_Nabellen incomplete dossiers  W_Beoordelen fraude  \\\n0        0.0                            0.0                  0.0   \n1        0.0                            0.0                  0.0   \n2        0.0                            0.0                  0.0   \n3        0.0                            0.0                  0.0   \n4        0.0                            0.0                  0.0   \n\n   W_Wijzigen contractgegevens  case:concept:name            concept:name  \\\n0                          0.0             173688             A_SUBMITTED   \n1                          0.0             173688       A_PARTLYSUBMITTED   \n2                          0.0             173688           A_PREACCEPTED   \n3                          0.0             173688  W_Completeren aanvraag   \n4                          0.0             173688  W_Completeren aanvraag   \n\n           time:timestamp  \n0 2011-10-01 00:38:44.546  \n1 2011-10-01 00:38:44.880  \n2 2011-10-01 00:39:37.906  \n3 2011-10-01 00:39:38.875  \n4 2011-10-01 11:36:46.437  \n\n[5 rows x 43 columns]",
      "text/html": "<div>\n<style scoped>\n    .dataframe tbody tr th:only-of-type {\n        vertical-align: middle;\n    }\n\n    .dataframe tbody tr th {\n        vertical-align: top;\n    }\n\n    .dataframe thead th {\n        text-align: right;\n    }\n</style>\n<table border=\"1\" class=\"dataframe\">\n  <thead>\n    <tr style=\"text-align: right;\">\n      <th></th>\n      <th>Unnamed: 0</th>\n      <th>level_0</th>\n      <th>Unnamed: 0.1</th>\n      <th>index</th>\n      <th>eventID</th>\n      <th>case concept:name</th>\n      <th>case REG_DATE</th>\n      <th>case AMOUNT_REQ</th>\n      <th>event concept:name</th>\n      <th>event lifecycle:transition</th>\n      <th>...</th>\n      <th>A_CANCELLED</th>\n      <th>W_Afhandelen leads</th>\n      <th>A_DECLINED</th>\n      <th>O_DECLINED</th>\n      <th>W_Nabellen incomplete dossiers</th>\n      <th>W_Beoordelen fraude</th>\n      <th>W_Wijzigen contractgegevens</th>\n      <th>case:concept:name</th>\n      <th>concept:name</th>\n      <th>time:timestamp</th>\n    </tr>\n  </thead>\n  <tbody>\n    <tr>\n      <th>0</th>\n      <td>0</td>\n      <td>0</td>\n      <td>0</td>\n      <td>0</td>\n      <td>0</td>\n      <td>173688</td>\n      <td>2011-10-01T00:38:44.546+02:00</td>\n      <td>20000</td>\n      <td>A_SUBMITTED</td>\n      <td>COMPLETE</td>\n      <td>...</td>\n      <td>0.0</td>\n      <td>0.0</td>\n      <td>0.0</td>\n      <td>0.0</td>\n      <td>0.0</td>\n      <td>0.0</td>\n      <td>0.0</td>\n      <td>173688</td>\n      <td>A_SUBMITTED</td>\n      <td>2011-10-01 00:38:44.546</td>\n    </tr>\n    <tr>\n      <th>1</th>\n      <td>1</td>\n      <td>1</td>\n      <td>1</td>\n      <td>1</td>\n      <td>1</td>\n      <td>173688</td>\n      <td>2011-10-01T00:38:44.546+02:00</td>\n      <td>20000</td>\n      <td>A_PARTLYSUBMITTED</td>\n      <td>COMPLETE</td>\n      <td>...</td>\n      <td>0.0</td>\n      <td>0.0</td>\n      <td>0.0</td>\n      <td>0.0</td>\n      <td>0.0</td>\n      <td>0.0</td>\n      <td>0.0</td>\n      <td>173688</td>\n      <td>A_PARTLYSUBMITTED</td>\n      <td>2011-10-01 00:38:44.880</td>\n    </tr>\n    <tr>\n      <th>2</th>\n      <td>2</td>\n      <td>2</td>\n      <td>2</td>\n      <td>2</td>\n      <td>2</td>\n      <td>173688</td>\n      <td>2011-10-01T00:38:44.546+02:00</td>\n      <td>20000</td>\n      <td>A_PREACCEPTED</td>\n      <td>COMPLETE</td>\n      <td>...</td>\n      <td>0.0</td>\n      <td>0.0</td>\n      <td>0.0</td>\n      <td>0.0</td>\n      <td>0.0</td>\n      <td>0.0</td>\n      <td>0.0</td>\n      <td>173688</td>\n      <td>A_PREACCEPTED</td>\n      <td>2011-10-01 00:39:37.906</td>\n    </tr>\n    <tr>\n      <th>3</th>\n      <td>3</td>\n      <td>3</td>\n      <td>3</td>\n      <td>3</td>\n      <td>3</td>\n      <td>173688</td>\n      <td>2011-10-01T00:38:44.546+02:00</td>\n      <td>20000</td>\n      <td>W_Completeren aanvraag</td>\n      <td>SCHEDULE</td>\n      <td>...</td>\n      <td>0.0</td>\n      <td>0.0</td>\n      <td>0.0</td>\n      <td>0.0</td>\n      <td>0.0</td>\n      <td>0.0</td>\n      <td>0.0</td>\n      <td>173688</td>\n      <td>W_Completeren aanvraag</td>\n      <td>2011-10-01 00:39:38.875</td>\n    </tr>\n    <tr>\n      <th>4</th>\n      <td>4</td>\n      <td>89</td>\n      <td>89</td>\n      <td>89</td>\n      <td>4</td>\n      <td>173688</td>\n      <td>2011-10-01T00:38:44.546+02:00</td>\n      <td>20000</td>\n      <td>W_Completeren aanvraag</td>\n      <td>START</td>\n      <td>...</td>\n      <td>0.0</td>\n      <td>0.0</td>\n      <td>0.0</td>\n      <td>0.0</td>\n      <td>0.0</td>\n      <td>0.0</td>\n      <td>0.0</td>\n      <td>173688</td>\n      <td>W_Completeren aanvraag</td>\n      <td>2011-10-01 11:36:46.437</td>\n    </tr>\n  </tbody>\n</table>\n<p>5 rows × 43 columns</p>\n</div>"
     },
     "execution_count": 4,
     "metadata": {},
     "output_type": "execute_result"
    }
   ],
   "source": [
    "event_log.head()"
   ],
   "metadata": {
    "collapsed": false,
    "pycharm": {
     "name": "#%%\n"
    }
   }
  },
  {
   "cell_type": "code",
   "execution_count": 5,
   "outputs": [
    {
     "data": {
      "text/plain": "Index(['Unnamed: 0', 'level_0', 'Unnamed: 0.1', 'index', 'eventID ',\n       'case concept:name', 'case REG_DATE', 'case AMOUNT_REQ',\n       'event concept:name', 'event lifecycle:transition',\n       'event time:timestamp', 'check', '@@index', 'previous_events',\n       'previous_event', 'start', 'A_SUBMITTED', 'A_PARTLYSUBMITTED',\n       'A_PREACCEPTED', 'W_Completeren aanvraag', 'A_ACCEPTED', 'O_SELECTED',\n       'A_FINALIZED', 'O_CREATED', 'O_SENT', 'W_Nabellen offertes',\n       'O_SENT_BACK', 'W_Valideren aanvraag', 'A_ACTIVATED', 'A_REGISTERED',\n       'A_APPROVED', 'O_ACCEPTED', 'O_CANCELLED', 'A_CANCELLED',\n       'W_Afhandelen leads', 'A_DECLINED', 'O_DECLINED',\n       'W_Nabellen incomplete dossiers', 'W_Beoordelen fraude',\n       'W_Wijzigen contractgegevens', 'case:concept:name', 'concept:name',\n       'time:timestamp'],\n      dtype='object')"
     },
     "execution_count": 5,
     "metadata": {},
     "output_type": "execute_result"
    }
   ],
   "source": [
    "event_log.columns"
   ],
   "metadata": {
    "collapsed": false,
    "pycharm": {
     "name": "#%%\n"
    }
   }
  },
  {
   "cell_type": "code",
   "execution_count": 34,
   "outputs": [],
   "source": [
    "# Assumption: it doesn't matter in what order things happened before, just that they happened before.\n",
    "# So I'm building a model that predicts the next event (categorical), based on:\n",
    "# - the amount of money they want to borrow\n",
    "# - the previous event (categorical) ->'previous_event' -> sklearn does not accept categorical for trees\n",
    "# (which could be solved with hot-one-encoding, but that would add a lot more features, so let's first try without)\n",
    "# - and on with events have already happened (booleans).\n",
    "\n",
    "X = event_log[['case AMOUNT_REQ', 'A_SUBMITTED', 'A_PARTLYSUBMITTED',\n",
    "               'A_PREACCEPTED', 'W_Completeren aanvraag', 'A_ACCEPTED', 'O_SELECTED',\n",
    "               'A_FINALIZED', 'O_CREATED', 'O_SENT', 'W_Nabellen offertes',\n",
    "               'O_SENT_BACK', 'W_Valideren aanvraag', 'A_ACTIVATED', 'A_REGISTERED',\n",
    "               'A_APPROVED', 'O_ACCEPTED', 'O_CANCELLED', 'A_CANCELLED',\n",
    "               'W_Afhandelen leads', 'A_DECLINED', 'O_DECLINED',\n",
    "               'W_Nabellen incomplete dossiers', 'W_Beoordelen fraude',\n",
    "               'W_Wijzigen contractgegevens']]\n",
    "\n",
    "y = event_log['event concept:name']"
   ],
   "metadata": {
    "collapsed": false,
    "pycharm": {
     "name": "#%%\n"
    }
   }
  },
  {
   "cell_type": "code",
   "execution_count": 7,
   "outputs": [
    {
     "name": "stdout",
     "output_type": "stream",
     "text": [
      "   case AMOUNT_REQ  A_SUBMITTED  A_PARTLYSUBMITTED  A_PREACCEPTED  \\\n",
      "0            20000          0.0                0.0            0.0   \n",
      "1            20000          1.0                0.0            0.0   \n",
      "2            20000          1.0                1.0            0.0   \n",
      "3            20000          1.0                1.0            1.0   \n",
      "4            20000          1.0                1.0            1.0   \n",
      "\n",
      "   W_Completeren aanvraag  A_ACCEPTED  O_SELECTED  A_FINALIZED  O_CREATED  \\\n",
      "0                     0.0         0.0         0.0          0.0        0.0   \n",
      "1                     0.0         0.0         0.0          0.0        0.0   \n",
      "2                     0.0         0.0         0.0          0.0        0.0   \n",
      "3                     0.0         0.0         0.0          0.0        0.0   \n",
      "4                     1.0         0.0         0.0          0.0        0.0   \n",
      "\n",
      "   O_SENT  ...  A_APPROVED  O_ACCEPTED  O_CANCELLED  A_CANCELLED  \\\n",
      "0     0.0  ...         0.0         0.0          0.0          0.0   \n",
      "1     0.0  ...         0.0         0.0          0.0          0.0   \n",
      "2     0.0  ...         0.0         0.0          0.0          0.0   \n",
      "3     0.0  ...         0.0         0.0          0.0          0.0   \n",
      "4     0.0  ...         0.0         0.0          0.0          0.0   \n",
      "\n",
      "   W_Afhandelen leads  A_DECLINED  O_DECLINED  W_Nabellen incomplete dossiers  \\\n",
      "0                 0.0         0.0         0.0                             0.0   \n",
      "1                 0.0         0.0         0.0                             0.0   \n",
      "2                 0.0         0.0         0.0                             0.0   \n",
      "3                 0.0         0.0         0.0                             0.0   \n",
      "4                 0.0         0.0         0.0                             0.0   \n",
      "\n",
      "   W_Beoordelen fraude  W_Wijzigen contractgegevens  \n",
      "0                  0.0                          0.0  \n",
      "1                  0.0                          0.0  \n",
      "2                  0.0                          0.0  \n",
      "3                  0.0                          0.0  \n",
      "4                  0.0                          0.0  \n",
      "\n",
      "[5 rows x 25 columns]\n"
     ]
    }
   ],
   "source": [
    "print(X.head())"
   ],
   "metadata": {
    "collapsed": false,
    "pycharm": {
     "name": "#%%\n"
    }
   }
  },
  {
   "cell_type": "code",
   "execution_count": 8,
   "outputs": [
    {
     "name": "stdout",
     "output_type": "stream",
     "text": [
      "         1         2         3         4         5         10        15  \\\n",
      "0  0.391170  0.580934  0.667251  0.714329  0.735689  0.762959  0.762283   \n",
      "1  0.392422  0.580683  0.658937  0.718561  0.739320  0.767817  0.766314   \n",
      "2  0.393249  0.582862  0.660014  0.720414  0.740897  0.767191  0.766415   \n",
      "3  0.392082  0.581173  0.656199  0.715173  0.734881  0.757970  0.755566   \n",
      "4  0.391005  0.578369  0.654797  0.717201  0.739439  0.762026  0.759422   \n",
      "\n",
      "         20  \n",
      "0  0.759954  \n",
      "1  0.763209  \n",
      "2  0.760555  \n",
      "3  0.746150  \n",
      "4  0.752360  \n"
     ]
    }
   ],
   "source": [
    "# Because we now have flattened our complex data to simple tabular data,\n",
    "# a simple random forest will probably outperform a neural network\n",
    "# so let's build a simple one, so that I see how well my neural network performs\n",
    "# and it also means that I can use n-fold cross validation :-)\n",
    "\n",
    "# only needed without cross validation\n",
    "#X_train, X_test, y_train, y_test = train_test_split( X, y, test_size=0.2, random_state=0)\n",
    "\n",
    "# we want to see what the best max_depth is:\n",
    "depths = [1,2,3,4,5,6,7,8,9,10,15,20]\n",
    "scores_df = pd.DataFrame()\n",
    "for depth in depths:\n",
    "    clf = RandomForestClassifier(max_depth=depth, random_state=0)\n",
    "    scores_df[depth] = cross_val_score(clf, X, y, cv=5)\n",
    "\n",
    "# without cross validation\n",
    "#clf.fit(X_train, y_train)\n",
    "#print(clf.score(X_test, y_test))\n",
    "\n",
    "# with cross validation\n",
    "\n",
    "print(scores_df)"
   ],
   "metadata": {
    "collapsed": false,
    "pycharm": {
     "name": "#%%\n"
    }
   }
  },
  {
   "cell_type": "code",
   "execution_count": 10,
   "outputs": [
    {
     "data": {
      "application/vnd.plotly.v1+json": {
       "config": {
        "plotlyServerURL": "https://plot.ly"
       },
       "data": [
        {
         "name": "1",
         "type": "scatter",
         "y": [
          0.39117043121149897,
          0.3924224971202484,
          0.393248860620023,
          0.39208173690932313,
          0.3910049332632159
         ]
        },
        {
         "name": "2",
         "type": "scatter",
         "y": [
          0.5809335403415635,
          0.5806831271598137,
          0.5828617218410377,
          0.5811734655548043,
          0.5783687676858739
         ]
        },
        {
         "name": "3",
         "type": "scatter",
         "y": [
          0.6672509640907497,
          0.6589372464566535,
          0.660014023138178,
          0.6561991335486941,
          0.6547967846142289
         ]
        },
        {
         "name": "4",
         "type": "scatter",
         "y": [
          0.7143286422597286,
          0.7185606250313017,
          0.7204136825762508,
          0.7151729146320086,
          0.7172013121979315
         ]
        },
        {
         "name": "5",
         "type": "scatter",
         "y": [
          0.7356888866629939,
          0.7393198777983673,
          0.7408974808433916,
          0.7348809255502967,
          0.7394385595873088
         ]
        },
        {
         "name": "10",
         "type": "scatter",
         "y": [
          0.7629588821555566,
          0.7678168978815045,
          0.7671908649271297,
          0.7579695990784564,
          0.7620263942103023
         ]
        },
        {
         "name": "15",
         "type": "scatter",
         "y": [
          0.762282766564832,
          0.7663144187910051,
          0.7664145840637051,
          0.7555655723336588,
          0.7594220319034383
         ]
        },
        {
         "name": "20",
         "type": "scatter",
         "y": [
          0.759953923974558,
          0.7632092953373065,
          0.7605549156107577,
          0.7461498009165352,
          0.7523602033405955
         ]
        }
       ],
       "layout": {
        "template": {
         "data": {
          "bar": [
           {
            "error_x": {
             "color": "#2a3f5f"
            },
            "error_y": {
             "color": "#2a3f5f"
            },
            "marker": {
             "line": {
              "color": "#E5ECF6",
              "width": 0.5
             }
            },
            "type": "bar"
           }
          ],
          "barpolar": [
           {
            "marker": {
             "line": {
              "color": "#E5ECF6",
              "width": 0.5
             }
            },
            "type": "barpolar"
           }
          ],
          "carpet": [
           {
            "aaxis": {
             "endlinecolor": "#2a3f5f",
             "gridcolor": "white",
             "linecolor": "white",
             "minorgridcolor": "white",
             "startlinecolor": "#2a3f5f"
            },
            "baxis": {
             "endlinecolor": "#2a3f5f",
             "gridcolor": "white",
             "linecolor": "white",
             "minorgridcolor": "white",
             "startlinecolor": "#2a3f5f"
            },
            "type": "carpet"
           }
          ],
          "choropleth": [
           {
            "colorbar": {
             "outlinewidth": 0,
             "ticks": ""
            },
            "type": "choropleth"
           }
          ],
          "contour": [
           {
            "colorbar": {
             "outlinewidth": 0,
             "ticks": ""
            },
            "colorscale": [
             [
              0.0,
              "#0d0887"
             ],
             [
              0.1111111111111111,
              "#46039f"
             ],
             [
              0.2222222222222222,
              "#7201a8"
             ],
             [
              0.3333333333333333,
              "#9c179e"
             ],
             [
              0.4444444444444444,
              "#bd3786"
             ],
             [
              0.5555555555555556,
              "#d8576b"
             ],
             [
              0.6666666666666666,
              "#ed7953"
             ],
             [
              0.7777777777777778,
              "#fb9f3a"
             ],
             [
              0.8888888888888888,
              "#fdca26"
             ],
             [
              1.0,
              "#f0f921"
             ]
            ],
            "type": "contour"
           }
          ],
          "contourcarpet": [
           {
            "colorbar": {
             "outlinewidth": 0,
             "ticks": ""
            },
            "type": "contourcarpet"
           }
          ],
          "heatmap": [
           {
            "colorbar": {
             "outlinewidth": 0,
             "ticks": ""
            },
            "colorscale": [
             [
              0.0,
              "#0d0887"
             ],
             [
              0.1111111111111111,
              "#46039f"
             ],
             [
              0.2222222222222222,
              "#7201a8"
             ],
             [
              0.3333333333333333,
              "#9c179e"
             ],
             [
              0.4444444444444444,
              "#bd3786"
             ],
             [
              0.5555555555555556,
              "#d8576b"
             ],
             [
              0.6666666666666666,
              "#ed7953"
             ],
             [
              0.7777777777777778,
              "#fb9f3a"
             ],
             [
              0.8888888888888888,
              "#fdca26"
             ],
             [
              1.0,
              "#f0f921"
             ]
            ],
            "type": "heatmap"
           }
          ],
          "heatmapgl": [
           {
            "colorbar": {
             "outlinewidth": 0,
             "ticks": ""
            },
            "colorscale": [
             [
              0.0,
              "#0d0887"
             ],
             [
              0.1111111111111111,
              "#46039f"
             ],
             [
              0.2222222222222222,
              "#7201a8"
             ],
             [
              0.3333333333333333,
              "#9c179e"
             ],
             [
              0.4444444444444444,
              "#bd3786"
             ],
             [
              0.5555555555555556,
              "#d8576b"
             ],
             [
              0.6666666666666666,
              "#ed7953"
             ],
             [
              0.7777777777777778,
              "#fb9f3a"
             ],
             [
              0.8888888888888888,
              "#fdca26"
             ],
             [
              1.0,
              "#f0f921"
             ]
            ],
            "type": "heatmapgl"
           }
          ],
          "histogram": [
           {
            "marker": {
             "colorbar": {
              "outlinewidth": 0,
              "ticks": ""
             }
            },
            "type": "histogram"
           }
          ],
          "histogram2d": [
           {
            "colorbar": {
             "outlinewidth": 0,
             "ticks": ""
            },
            "colorscale": [
             [
              0.0,
              "#0d0887"
             ],
             [
              0.1111111111111111,
              "#46039f"
             ],
             [
              0.2222222222222222,
              "#7201a8"
             ],
             [
              0.3333333333333333,
              "#9c179e"
             ],
             [
              0.4444444444444444,
              "#bd3786"
             ],
             [
              0.5555555555555556,
              "#d8576b"
             ],
             [
              0.6666666666666666,
              "#ed7953"
             ],
             [
              0.7777777777777778,
              "#fb9f3a"
             ],
             [
              0.8888888888888888,
              "#fdca26"
             ],
             [
              1.0,
              "#f0f921"
             ]
            ],
            "type": "histogram2d"
           }
          ],
          "histogram2dcontour": [
           {
            "colorbar": {
             "outlinewidth": 0,
             "ticks": ""
            },
            "colorscale": [
             [
              0.0,
              "#0d0887"
             ],
             [
              0.1111111111111111,
              "#46039f"
             ],
             [
              0.2222222222222222,
              "#7201a8"
             ],
             [
              0.3333333333333333,
              "#9c179e"
             ],
             [
              0.4444444444444444,
              "#bd3786"
             ],
             [
              0.5555555555555556,
              "#d8576b"
             ],
             [
              0.6666666666666666,
              "#ed7953"
             ],
             [
              0.7777777777777778,
              "#fb9f3a"
             ],
             [
              0.8888888888888888,
              "#fdca26"
             ],
             [
              1.0,
              "#f0f921"
             ]
            ],
            "type": "histogram2dcontour"
           }
          ],
          "mesh3d": [
           {
            "colorbar": {
             "outlinewidth": 0,
             "ticks": ""
            },
            "type": "mesh3d"
           }
          ],
          "parcoords": [
           {
            "line": {
             "colorbar": {
              "outlinewidth": 0,
              "ticks": ""
             }
            },
            "type": "parcoords"
           }
          ],
          "pie": [
           {
            "automargin": true,
            "type": "pie"
           }
          ],
          "scatter": [
           {
            "marker": {
             "colorbar": {
              "outlinewidth": 0,
              "ticks": ""
             }
            },
            "type": "scatter"
           }
          ],
          "scatter3d": [
           {
            "line": {
             "colorbar": {
              "outlinewidth": 0,
              "ticks": ""
             }
            },
            "marker": {
             "colorbar": {
              "outlinewidth": 0,
              "ticks": ""
             }
            },
            "type": "scatter3d"
           }
          ],
          "scattercarpet": [
           {
            "marker": {
             "colorbar": {
              "outlinewidth": 0,
              "ticks": ""
             }
            },
            "type": "scattercarpet"
           }
          ],
          "scattergeo": [
           {
            "marker": {
             "colorbar": {
              "outlinewidth": 0,
              "ticks": ""
             }
            },
            "type": "scattergeo"
           }
          ],
          "scattergl": [
           {
            "marker": {
             "colorbar": {
              "outlinewidth": 0,
              "ticks": ""
             }
            },
            "type": "scattergl"
           }
          ],
          "scattermapbox": [
           {
            "marker": {
             "colorbar": {
              "outlinewidth": 0,
              "ticks": ""
             }
            },
            "type": "scattermapbox"
           }
          ],
          "scatterpolar": [
           {
            "marker": {
             "colorbar": {
              "outlinewidth": 0,
              "ticks": ""
             }
            },
            "type": "scatterpolar"
           }
          ],
          "scatterpolargl": [
           {
            "marker": {
             "colorbar": {
              "outlinewidth": 0,
              "ticks": ""
             }
            },
            "type": "scatterpolargl"
           }
          ],
          "scatterternary": [
           {
            "marker": {
             "colorbar": {
              "outlinewidth": 0,
              "ticks": ""
             }
            },
            "type": "scatterternary"
           }
          ],
          "surface": [
           {
            "colorbar": {
             "outlinewidth": 0,
             "ticks": ""
            },
            "colorscale": [
             [
              0.0,
              "#0d0887"
             ],
             [
              0.1111111111111111,
              "#46039f"
             ],
             [
              0.2222222222222222,
              "#7201a8"
             ],
             [
              0.3333333333333333,
              "#9c179e"
             ],
             [
              0.4444444444444444,
              "#bd3786"
             ],
             [
              0.5555555555555556,
              "#d8576b"
             ],
             [
              0.6666666666666666,
              "#ed7953"
             ],
             [
              0.7777777777777778,
              "#fb9f3a"
             ],
             [
              0.8888888888888888,
              "#fdca26"
             ],
             [
              1.0,
              "#f0f921"
             ]
            ],
            "type": "surface"
           }
          ],
          "table": [
           {
            "cells": {
             "fill": {
              "color": "#EBF0F8"
             },
             "line": {
              "color": "white"
             }
            },
            "header": {
             "fill": {
              "color": "#C8D4E3"
             },
             "line": {
              "color": "white"
             }
            },
            "type": "table"
           }
          ]
         },
         "layout": {
          "annotationdefaults": {
           "arrowcolor": "#2a3f5f",
           "arrowhead": 0,
           "arrowwidth": 1
          },
          "autotypenumbers": "strict",
          "coloraxis": {
           "colorbar": {
            "outlinewidth": 0,
            "ticks": ""
           }
          },
          "colorscale": {
           "diverging": [
            [
             0,
             "#8e0152"
            ],
            [
             0.1,
             "#c51b7d"
            ],
            [
             0.2,
             "#de77ae"
            ],
            [
             0.3,
             "#f1b6da"
            ],
            [
             0.4,
             "#fde0ef"
            ],
            [
             0.5,
             "#f7f7f7"
            ],
            [
             0.6,
             "#e6f5d0"
            ],
            [
             0.7,
             "#b8e186"
            ],
            [
             0.8,
             "#7fbc41"
            ],
            [
             0.9,
             "#4d9221"
            ],
            [
             1,
             "#276419"
            ]
           ],
           "sequential": [
            [
             0.0,
             "#0d0887"
            ],
            [
             0.1111111111111111,
             "#46039f"
            ],
            [
             0.2222222222222222,
             "#7201a8"
            ],
            [
             0.3333333333333333,
             "#9c179e"
            ],
            [
             0.4444444444444444,
             "#bd3786"
            ],
            [
             0.5555555555555556,
             "#d8576b"
            ],
            [
             0.6666666666666666,
             "#ed7953"
            ],
            [
             0.7777777777777778,
             "#fb9f3a"
            ],
            [
             0.8888888888888888,
             "#fdca26"
            ],
            [
             1.0,
             "#f0f921"
            ]
           ],
           "sequentialminus": [
            [
             0.0,
             "#0d0887"
            ],
            [
             0.1111111111111111,
             "#46039f"
            ],
            [
             0.2222222222222222,
             "#7201a8"
            ],
            [
             0.3333333333333333,
             "#9c179e"
            ],
            [
             0.4444444444444444,
             "#bd3786"
            ],
            [
             0.5555555555555556,
             "#d8576b"
            ],
            [
             0.6666666666666666,
             "#ed7953"
            ],
            [
             0.7777777777777778,
             "#fb9f3a"
            ],
            [
             0.8888888888888888,
             "#fdca26"
            ],
            [
             1.0,
             "#f0f921"
            ]
           ]
          },
          "colorway": [
           "#636efa",
           "#EF553B",
           "#00cc96",
           "#ab63fa",
           "#FFA15A",
           "#19d3f3",
           "#FF6692",
           "#B6E880",
           "#FF97FF",
           "#FECB52"
          ],
          "font": {
           "color": "#2a3f5f"
          },
          "geo": {
           "bgcolor": "white",
           "lakecolor": "white",
           "landcolor": "#E5ECF6",
           "showlakes": true,
           "showland": true,
           "subunitcolor": "white"
          },
          "hoverlabel": {
           "align": "left"
          },
          "hovermode": "closest",
          "mapbox": {
           "style": "light"
          },
          "paper_bgcolor": "white",
          "plot_bgcolor": "#E5ECF6",
          "polar": {
           "angularaxis": {
            "gridcolor": "white",
            "linecolor": "white",
            "ticks": ""
           },
           "bgcolor": "#E5ECF6",
           "radialaxis": {
            "gridcolor": "white",
            "linecolor": "white",
            "ticks": ""
           }
          },
          "scene": {
           "xaxis": {
            "backgroundcolor": "#E5ECF6",
            "gridcolor": "white",
            "gridwidth": 2,
            "linecolor": "white",
            "showbackground": true,
            "ticks": "",
            "zerolinecolor": "white"
           },
           "yaxis": {
            "backgroundcolor": "#E5ECF6",
            "gridcolor": "white",
            "gridwidth": 2,
            "linecolor": "white",
            "showbackground": true,
            "ticks": "",
            "zerolinecolor": "white"
           },
           "zaxis": {
            "backgroundcolor": "#E5ECF6",
            "gridcolor": "white",
            "gridwidth": 2,
            "linecolor": "white",
            "showbackground": true,
            "ticks": "",
            "zerolinecolor": "white"
           }
          },
          "shapedefaults": {
           "line": {
            "color": "#2a3f5f"
           }
          },
          "ternary": {
           "aaxis": {
            "gridcolor": "white",
            "linecolor": "white",
            "ticks": ""
           },
           "baxis": {
            "gridcolor": "white",
            "linecolor": "white",
            "ticks": ""
           },
           "bgcolor": "#E5ECF6",
           "caxis": {
            "gridcolor": "white",
            "linecolor": "white",
            "ticks": ""
           }
          },
          "title": {
           "x": 0.05
          },
          "xaxis": {
           "automargin": true,
           "gridcolor": "white",
           "linecolor": "white",
           "ticks": "",
           "title": {
            "standoff": 15
           },
           "zerolinecolor": "white",
           "zerolinewidth": 2
          },
          "yaxis": {
           "automargin": true,
           "gridcolor": "white",
           "linecolor": "white",
           "ticks": "",
           "title": {
            "standoff": 15
           },
           "zerolinecolor": "white",
           "zerolinewidth": 2
          }
         }
        },
        "yaxis": {
         "range": [
          0,
          1
         ]
        }
       }
      },
      "text/html": "<div>                            <div id=\"78bd24c9-6929-47b4-b8b9-8f90f987a118\" class=\"plotly-graph-div\" style=\"height:525px; width:100%;\"></div>            <script type=\"text/javascript\">                require([\"plotly\"], function(Plotly) {                    window.PLOTLYENV=window.PLOTLYENV || {};                                    if (document.getElementById(\"78bd24c9-6929-47b4-b8b9-8f90f987a118\")) {                    Plotly.newPlot(                        \"78bd24c9-6929-47b4-b8b9-8f90f987a118\",                        [{\"name\": \"1\", \"type\": \"scatter\", \"y\": [0.39117043121149897, 0.3924224971202484, 0.393248860620023, 0.39208173690932313, 0.3910049332632159]}, {\"name\": \"2\", \"type\": \"scatter\", \"y\": [0.5809335403415635, 0.5806831271598137, 0.5828617218410377, 0.5811734655548043, 0.5783687676858739]}, {\"name\": \"3\", \"type\": \"scatter\", \"y\": [0.6672509640907497, 0.6589372464566535, 0.660014023138178, 0.6561991335486941, 0.6547967846142289]}, {\"name\": \"4\", \"type\": \"scatter\", \"y\": [0.7143286422597286, 0.7185606250313017, 0.7204136825762508, 0.7151729146320086, 0.7172013121979315]}, {\"name\": \"5\", \"type\": \"scatter\", \"y\": [0.7356888866629939, 0.7393198777983673, 0.7408974808433916, 0.7348809255502967, 0.7394385595873088]}, {\"name\": \"10\", \"type\": \"scatter\", \"y\": [0.7629588821555566, 0.7678168978815045, 0.7671908649271297, 0.7579695990784564, 0.7620263942103023]}, {\"name\": \"15\", \"type\": \"scatter\", \"y\": [0.762282766564832, 0.7663144187910051, 0.7664145840637051, 0.7555655723336588, 0.7594220319034383]}, {\"name\": \"20\", \"type\": \"scatter\", \"y\": [0.759953923974558, 0.7632092953373065, 0.7605549156107577, 0.7461498009165352, 0.7523602033405955]}],                        {\"template\": {\"data\": {\"bar\": [{\"error_x\": {\"color\": \"#2a3f5f\"}, \"error_y\": {\"color\": \"#2a3f5f\"}, \"marker\": {\"line\": {\"color\": \"#E5ECF6\", \"width\": 0.5}}, \"type\": \"bar\"}], \"barpolar\": [{\"marker\": {\"line\": {\"color\": \"#E5ECF6\", \"width\": 0.5}}, \"type\": \"barpolar\"}], \"carpet\": [{\"aaxis\": {\"endlinecolor\": \"#2a3f5f\", \"gridcolor\": \"white\", \"linecolor\": \"white\", \"minorgridcolor\": \"white\", \"startlinecolor\": \"#2a3f5f\"}, \"baxis\": {\"endlinecolor\": \"#2a3f5f\", \"gridcolor\": \"white\", \"linecolor\": \"white\", \"minorgridcolor\": \"white\", \"startlinecolor\": \"#2a3f5f\"}, \"type\": \"carpet\"}], \"choropleth\": [{\"colorbar\": {\"outlinewidth\": 0, \"ticks\": \"\"}, \"type\": \"choropleth\"}], \"contour\": [{\"colorbar\": {\"outlinewidth\": 0, \"ticks\": \"\"}, \"colorscale\": [[0.0, \"#0d0887\"], [0.1111111111111111, \"#46039f\"], [0.2222222222222222, \"#7201a8\"], [0.3333333333333333, \"#9c179e\"], [0.4444444444444444, \"#bd3786\"], [0.5555555555555556, \"#d8576b\"], [0.6666666666666666, \"#ed7953\"], [0.7777777777777778, \"#fb9f3a\"], [0.8888888888888888, \"#fdca26\"], [1.0, \"#f0f921\"]], \"type\": \"contour\"}], \"contourcarpet\": [{\"colorbar\": {\"outlinewidth\": 0, \"ticks\": \"\"}, \"type\": \"contourcarpet\"}], \"heatmap\": [{\"colorbar\": {\"outlinewidth\": 0, \"ticks\": \"\"}, \"colorscale\": [[0.0, \"#0d0887\"], [0.1111111111111111, \"#46039f\"], [0.2222222222222222, \"#7201a8\"], [0.3333333333333333, \"#9c179e\"], [0.4444444444444444, \"#bd3786\"], [0.5555555555555556, \"#d8576b\"], [0.6666666666666666, \"#ed7953\"], [0.7777777777777778, \"#fb9f3a\"], [0.8888888888888888, \"#fdca26\"], [1.0, \"#f0f921\"]], \"type\": \"heatmap\"}], \"heatmapgl\": [{\"colorbar\": {\"outlinewidth\": 0, \"ticks\": \"\"}, \"colorscale\": [[0.0, \"#0d0887\"], [0.1111111111111111, \"#46039f\"], [0.2222222222222222, \"#7201a8\"], [0.3333333333333333, \"#9c179e\"], [0.4444444444444444, \"#bd3786\"], [0.5555555555555556, \"#d8576b\"], [0.6666666666666666, \"#ed7953\"], [0.7777777777777778, \"#fb9f3a\"], [0.8888888888888888, \"#fdca26\"], [1.0, \"#f0f921\"]], \"type\": \"heatmapgl\"}], \"histogram\": [{\"marker\": {\"colorbar\": {\"outlinewidth\": 0, \"ticks\": \"\"}}, \"type\": \"histogram\"}], \"histogram2d\": [{\"colorbar\": {\"outlinewidth\": 0, \"ticks\": \"\"}, \"colorscale\": [[0.0, \"#0d0887\"], [0.1111111111111111, \"#46039f\"], [0.2222222222222222, \"#7201a8\"], [0.3333333333333333, \"#9c179e\"], [0.4444444444444444, \"#bd3786\"], [0.5555555555555556, \"#d8576b\"], [0.6666666666666666, \"#ed7953\"], [0.7777777777777778, \"#fb9f3a\"], [0.8888888888888888, \"#fdca26\"], [1.0, \"#f0f921\"]], \"type\": \"histogram2d\"}], \"histogram2dcontour\": [{\"colorbar\": {\"outlinewidth\": 0, \"ticks\": \"\"}, \"colorscale\": [[0.0, \"#0d0887\"], [0.1111111111111111, \"#46039f\"], [0.2222222222222222, \"#7201a8\"], [0.3333333333333333, \"#9c179e\"], [0.4444444444444444, \"#bd3786\"], [0.5555555555555556, \"#d8576b\"], [0.6666666666666666, \"#ed7953\"], [0.7777777777777778, \"#fb9f3a\"], [0.8888888888888888, \"#fdca26\"], [1.0, \"#f0f921\"]], \"type\": \"histogram2dcontour\"}], \"mesh3d\": [{\"colorbar\": {\"outlinewidth\": 0, \"ticks\": \"\"}, \"type\": \"mesh3d\"}], \"parcoords\": [{\"line\": {\"colorbar\": {\"outlinewidth\": 0, \"ticks\": \"\"}}, \"type\": \"parcoords\"}], \"pie\": [{\"automargin\": true, \"type\": \"pie\"}], \"scatter\": [{\"marker\": {\"colorbar\": {\"outlinewidth\": 0, \"ticks\": \"\"}}, \"type\": \"scatter\"}], \"scatter3d\": [{\"line\": {\"colorbar\": {\"outlinewidth\": 0, \"ticks\": \"\"}}, \"marker\": {\"colorbar\": {\"outlinewidth\": 0, \"ticks\": \"\"}}, \"type\": \"scatter3d\"}], \"scattercarpet\": [{\"marker\": {\"colorbar\": {\"outlinewidth\": 0, \"ticks\": \"\"}}, \"type\": \"scattercarpet\"}], \"scattergeo\": [{\"marker\": {\"colorbar\": {\"outlinewidth\": 0, \"ticks\": \"\"}}, \"type\": \"scattergeo\"}], \"scattergl\": [{\"marker\": {\"colorbar\": {\"outlinewidth\": 0, \"ticks\": \"\"}}, \"type\": \"scattergl\"}], \"scattermapbox\": [{\"marker\": {\"colorbar\": {\"outlinewidth\": 0, \"ticks\": \"\"}}, \"type\": \"scattermapbox\"}], \"scatterpolar\": [{\"marker\": {\"colorbar\": {\"outlinewidth\": 0, \"ticks\": \"\"}}, \"type\": \"scatterpolar\"}], \"scatterpolargl\": [{\"marker\": {\"colorbar\": {\"outlinewidth\": 0, \"ticks\": \"\"}}, \"type\": \"scatterpolargl\"}], \"scatterternary\": [{\"marker\": {\"colorbar\": {\"outlinewidth\": 0, \"ticks\": \"\"}}, \"type\": \"scatterternary\"}], \"surface\": [{\"colorbar\": {\"outlinewidth\": 0, \"ticks\": \"\"}, \"colorscale\": [[0.0, \"#0d0887\"], [0.1111111111111111, \"#46039f\"], [0.2222222222222222, \"#7201a8\"], [0.3333333333333333, \"#9c179e\"], [0.4444444444444444, \"#bd3786\"], [0.5555555555555556, \"#d8576b\"], [0.6666666666666666, \"#ed7953\"], [0.7777777777777778, \"#fb9f3a\"], [0.8888888888888888, \"#fdca26\"], [1.0, \"#f0f921\"]], \"type\": \"surface\"}], \"table\": [{\"cells\": {\"fill\": {\"color\": \"#EBF0F8\"}, \"line\": {\"color\": \"white\"}}, \"header\": {\"fill\": {\"color\": \"#C8D4E3\"}, \"line\": {\"color\": \"white\"}}, \"type\": \"table\"}]}, \"layout\": {\"annotationdefaults\": {\"arrowcolor\": \"#2a3f5f\", \"arrowhead\": 0, \"arrowwidth\": 1}, \"autotypenumbers\": \"strict\", \"coloraxis\": {\"colorbar\": {\"outlinewidth\": 0, \"ticks\": \"\"}}, \"colorscale\": {\"diverging\": [[0, \"#8e0152\"], [0.1, \"#c51b7d\"], [0.2, \"#de77ae\"], [0.3, \"#f1b6da\"], [0.4, \"#fde0ef\"], [0.5, \"#f7f7f7\"], [0.6, \"#e6f5d0\"], [0.7, \"#b8e186\"], [0.8, \"#7fbc41\"], [0.9, \"#4d9221\"], [1, \"#276419\"]], \"sequential\": [[0.0, \"#0d0887\"], [0.1111111111111111, \"#46039f\"], [0.2222222222222222, \"#7201a8\"], [0.3333333333333333, \"#9c179e\"], [0.4444444444444444, \"#bd3786\"], [0.5555555555555556, \"#d8576b\"], [0.6666666666666666, \"#ed7953\"], [0.7777777777777778, \"#fb9f3a\"], [0.8888888888888888, \"#fdca26\"], [1.0, \"#f0f921\"]], \"sequentialminus\": [[0.0, \"#0d0887\"], [0.1111111111111111, \"#46039f\"], [0.2222222222222222, \"#7201a8\"], [0.3333333333333333, \"#9c179e\"], [0.4444444444444444, \"#bd3786\"], [0.5555555555555556, \"#d8576b\"], [0.6666666666666666, \"#ed7953\"], [0.7777777777777778, \"#fb9f3a\"], [0.8888888888888888, \"#fdca26\"], [1.0, \"#f0f921\"]]}, \"colorway\": [\"#636efa\", \"#EF553B\", \"#00cc96\", \"#ab63fa\", \"#FFA15A\", \"#19d3f3\", \"#FF6692\", \"#B6E880\", \"#FF97FF\", \"#FECB52\"], \"font\": {\"color\": \"#2a3f5f\"}, \"geo\": {\"bgcolor\": \"white\", \"lakecolor\": \"white\", \"landcolor\": \"#E5ECF6\", \"showlakes\": true, \"showland\": true, \"subunitcolor\": \"white\"}, \"hoverlabel\": {\"align\": \"left\"}, \"hovermode\": \"closest\", \"mapbox\": {\"style\": \"light\"}, \"paper_bgcolor\": \"white\", \"plot_bgcolor\": \"#E5ECF6\", \"polar\": {\"angularaxis\": {\"gridcolor\": \"white\", \"linecolor\": \"white\", \"ticks\": \"\"}, \"bgcolor\": \"#E5ECF6\", \"radialaxis\": {\"gridcolor\": \"white\", \"linecolor\": \"white\", \"ticks\": \"\"}}, \"scene\": {\"xaxis\": {\"backgroundcolor\": \"#E5ECF6\", \"gridcolor\": \"white\", \"gridwidth\": 2, \"linecolor\": \"white\", \"showbackground\": true, \"ticks\": \"\", \"zerolinecolor\": \"white\"}, \"yaxis\": {\"backgroundcolor\": \"#E5ECF6\", \"gridcolor\": \"white\", \"gridwidth\": 2, \"linecolor\": \"white\", \"showbackground\": true, \"ticks\": \"\", \"zerolinecolor\": \"white\"}, \"zaxis\": {\"backgroundcolor\": \"#E5ECF6\", \"gridcolor\": \"white\", \"gridwidth\": 2, \"linecolor\": \"white\", \"showbackground\": true, \"ticks\": \"\", \"zerolinecolor\": \"white\"}}, \"shapedefaults\": {\"line\": {\"color\": \"#2a3f5f\"}}, \"ternary\": {\"aaxis\": {\"gridcolor\": \"white\", \"linecolor\": \"white\", \"ticks\": \"\"}, \"baxis\": {\"gridcolor\": \"white\", \"linecolor\": \"white\", \"ticks\": \"\"}, \"bgcolor\": \"#E5ECF6\", \"caxis\": {\"gridcolor\": \"white\", \"linecolor\": \"white\", \"ticks\": \"\"}}, \"title\": {\"x\": 0.05}, \"xaxis\": {\"automargin\": true, \"gridcolor\": \"white\", \"linecolor\": \"white\", \"ticks\": \"\", \"title\": {\"standoff\": 15}, \"zerolinecolor\": \"white\", \"zerolinewidth\": 2}, \"yaxis\": {\"automargin\": true, \"gridcolor\": \"white\", \"linecolor\": \"white\", \"ticks\": \"\", \"title\": {\"standoff\": 15}, \"zerolinecolor\": \"white\", \"zerolinewidth\": 2}}}, \"yaxis\": {\"range\": [0, 1]}},                        {\"responsive\": true}                    ).then(function(){\n                            \nvar gd = document.getElementById('78bd24c9-6929-47b4-b8b9-8f90f987a118');\nvar x = new MutationObserver(function (mutations, observer) {{\n        var display = window.getComputedStyle(gd).display;\n        if (!display || display === 'none') {{\n            console.log([gd, 'removed!']);\n            Plotly.purge(gd);\n            observer.disconnect();\n        }}\n}});\n\n// Listen for the removal of the full notebook cells\nvar notebookContainer = gd.closest('#notebook-container');\nif (notebookContainer) {{\n    x.observe(notebookContainer, {childList: true});\n}}\n\n// Listen for the clearing of the current output cell\nvar outputEl = gd.closest('.output');\nif (outputEl) {{\n    x.observe(outputEl, {childList: true});\n}}\n\n                        })                };                });            </script>        </div>"
     },
     "metadata": {},
     "output_type": "display_data"
    }
   ],
   "source": [
    "fig = go.Figure()\n",
    "\n",
    "for depth in depths:\n",
    "    fig.add_trace(go.Scatter(y= scores_df[depth], name=depth))\n",
    "fig.update_yaxes(range=[0,1])\n",
    "fig.show()\n",
    "\n",
    "# a depth of more than 5 doesn't increase the performance that much anymore, but it could lead it overfitting\n",
    "# based on the cross validation, it looks quite stable"
   ],
   "metadata": {
    "collapsed": false,
    "pycharm": {
     "name": "#%%\n"
    }
   }
  },
  {
   "cell_type": "code",
   "execution_count": 35,
   "outputs": [
    {
     "name": "stdout",
     "output_type": "stream",
     "text": [
      "The accuracy of this model is:  0.7664554822392227\n",
      "Confusion Matrix\n"
     ]
    },
    {
     "data": {
      "text/plain": "                                A_CANCELLED  W_Afhandelen leads  \\\nA_CANCELLED                               0                   0   \nW_Afhandelen leads                        0                1589   \nW_Completeren aanvraag                    0                   0   \nA_SUBMITTED                               0                   0   \nA_REGISTERED                              0                   0   \nW_Valideren aanvraag                      0                   0   \nW_Nabellen offertes                       0                   0   \nO_SENT_BACK                               0                   0   \nA_DECLINED                                0                 489   \nA_PARTLYSUBMITTED                         0                   0   \nO_CREATED                                 0                   0   \nO_CANCELLED                               0                   0   \nO_SENT                                    0                   0   \nA_ACCEPTED                                0                   0   \nA_FINALIZED                               0                   0   \nO_SELECTED                                0                   0   \nW_Nabellen incomplete dossiers            0                   0   \nA_PREACCEPTED                             0                 541   \nA_ACTIVATED                               0                   0   \nA_APPROVED                                0                   0   \nO_DECLINED                                0                   0   \nO_ACCEPTED                                0                   0   \nW_Beoordelen fraude                       0                  10   \n\n                                W_Completeren aanvraag  A_SUBMITTED  \\\nA_CANCELLED                                        147            0   \nW_Afhandelen leads                                 405            0   \nW_Completeren aanvraag                            7620            0   \nA_SUBMITTED                                          0         2107   \nA_REGISTERED                                         0            0   \nW_Valideren aanvraag                                 0            0   \nW_Nabellen offertes                                  0            0   \nO_SENT_BACK                                          0            0   \nA_DECLINED                                         180            0   \nA_PARTLYSUBMITTED                                    0            0   \nO_CREATED                                            0            0   \nO_CANCELLED                                          0            0   \nO_SENT                                               0            0   \nA_ACCEPTED                                         834            0   \nA_FINALIZED                                          0            0   \nO_SELECTED                                           0            0   \nW_Nabellen incomplete dossiers                       0            0   \nA_PREACCEPTED                                        0            0   \nA_ACTIVATED                                          0            0   \nA_APPROVED                                           0            0   \nO_DECLINED                                           0            0   \nO_ACCEPTED                                           0            0   \nW_Beoordelen fraude                                  2            0   \n\n                                A_REGISTERED  W_Valideren aanvraag  \\\nA_CANCELLED                                0                     5   \nW_Afhandelen leads                         0                     0   \nW_Completeren aanvraag                     0                     0   \nA_SUBMITTED                                0                     0   \nA_REGISTERED                             175                    19   \nW_Valideren aanvraag                       0                  1865   \nW_Nabellen offertes                        0                   500   \nO_SENT_BACK                                0                     0   \nA_DECLINED                                 0                    35   \nA_PARTLYSUBMITTED                          0                     0   \nO_CREATED                                  0                    15   \nO_CANCELLED                                0                    23   \nO_SENT                                     0                    19   \nA_ACCEPTED                                 0                     0   \nA_FINALIZED                                0                     0   \nO_SELECTED                                 0                    21   \nW_Nabellen incomplete dossiers             0                   265   \nA_PREACCEPTED                              0                     0   \nA_ACTIVATED                               62                    20   \nA_APPROVED                                13                    45   \nO_DECLINED                                 0                    42   \nO_ACCEPTED                                 8                    73   \nW_Beoordelen fraude                        0                    16   \n\n                                W_Nabellen offertes  O_SENT_BACK  A_DECLINED  \\\nA_CANCELLED                                     222            0           0   \nW_Afhandelen leads                                0            0          73   \nW_Completeren aanvraag                          797            0           0   \nA_SUBMITTED                                       0            0           0   \nA_REGISTERED                                      0            0           0   \nW_Valideren aanvraag                              0            0           0   \nW_Nabellen offertes                            7546            0           0   \nO_SENT_BACK                                     468            0           0   \nA_DECLINED                                        2            0         134   \nA_PARTLYSUBMITTED                                 0            0           0   \nO_CREATED                                       263            0           0   \nO_CANCELLED                                     365            0           0   \nO_SENT                                          236            0           0   \nA_ACCEPTED                                        0            0           0   \nA_FINALIZED                                       0            0           0   \nO_SELECTED                                      256            0           0   \nW_Nabellen incomplete dossiers                    0            0           0   \nA_PREACCEPTED                                     0            0          27   \nA_ACTIVATED                                       0            0           0   \nA_APPROVED                                        0            0           0   \nO_DECLINED                                        4            0           0   \nO_ACCEPTED                                        0            0           0   \nW_Beoordelen fraude                               0            0           2   \n\n                                A_PARTLYSUBMITTED  ...  A_ACCEPTED  \\\nA_CANCELLED                                     0  ...           0   \nW_Afhandelen leads                              0  ...           0   \nW_Completeren aanvraag                          0  ...           0   \nA_SUBMITTED                                     0  ...           0   \nA_REGISTERED                                    0  ...           0   \nW_Valideren aanvraag                            0  ...           0   \nW_Nabellen offertes                             0  ...           0   \nO_SENT_BACK                                     0  ...           0   \nA_DECLINED                                      0  ...           0   \nA_PARTLYSUBMITTED                            2156  ...           0   \nO_CREATED                                       0  ...           0   \nO_CANCELLED                                     0  ...           0   \nO_SENT                                          0  ...           0   \nA_ACCEPTED                                      0  ...           0   \nA_FINALIZED                                     0  ...           0   \nO_SELECTED                                      0  ...           0   \nW_Nabellen incomplete dossiers                  0  ...           0   \nA_PREACCEPTED                                   0  ...           0   \nA_ACTIVATED                                     0  ...           0   \nA_APPROVED                                      0  ...           0   \nO_DECLINED                                      0  ...           0   \nO_ACCEPTED                                      0  ...           0   \nW_Beoordelen fraude                             0  ...           0   \n\n                                A_FINALIZED  O_SELECTED  \\\nA_CANCELLED                               0          10   \nW_Afhandelen leads                        0           0   \nW_Completeren aanvraag                    1          42   \nA_SUBMITTED                               0           0   \nA_REGISTERED                              0           0   \nW_Valideren aanvraag                      0           0   \nW_Nabellen offertes                       0           0   \nO_SENT_BACK                               0           0   \nA_DECLINED                                0           7   \nA_PARTLYSUBMITTED                         0           0   \nO_CREATED                                 0           0   \nO_CANCELLED                               0           0   \nO_SENT                                    0           0   \nA_ACCEPTED                                0           0   \nA_FINALIZED                             483         315   \nO_SELECTED                                2         780   \nW_Nabellen incomplete dossiers            0           0   \nA_PREACCEPTED                             0           0   \nA_ACTIVATED                               0           0   \nA_APPROVED                                0           0   \nO_DECLINED                                0           0   \nO_ACCEPTED                                0           0   \nW_Beoordelen fraude                       0           0   \n\n                                W_Nabellen incomplete dossiers  A_PREACCEPTED  \\\nA_CANCELLED                                                 20              0   \nW_Afhandelen leads                                           0            547   \nW_Completeren aanvraag                                       0              0   \nA_SUBMITTED                                                  0              0   \nA_REGISTERED                                                17              0   \nW_Valideren aanvraag                                      1009              0   \nW_Nabellen offertes                                          0              0   \nO_SENT_BACK                                                 21              0   \nA_DECLINED                                                  16            301   \nA_PARTLYSUBMITTED                                            0              0   \nO_CREATED                                                   34              0   \nO_CANCELLED                                                 41              0   \nO_SENT                                                      34              0   \nA_ACCEPTED                                                   0              0   \nA_FINALIZED                                                  0              0   \nO_SELECTED                                                  26              0   \nW_Nabellen incomplete dossiers                            3184              0   \nA_PREACCEPTED                                                0            597   \nA_ACTIVATED                                                 16              0   \nA_APPROVED                                                  45              0   \nO_DECLINED                                                  14              0   \nO_ACCEPTED                                                  97              0   \nW_Beoordelen fraude                                          0              4   \n\n                                A_ACTIVATED  A_APPROVED  O_DECLINED  \\\nA_CANCELLED                               0           0           0   \nW_Afhandelen leads                        0           0           0   \nW_Completeren aanvraag                    0           0           0   \nA_SUBMITTED                               0           0           0   \nA_REGISTERED                             11          59           0   \nW_Valideren aanvraag                      0           0           0   \nW_Nabellen offertes                       0           0           0   \nO_SENT_BACK                               0           0           0   \nA_DECLINED                                0           0           0   \nA_PARTLYSUBMITTED                         0           0           0   \nO_CREATED                                 0           0           0   \nO_CANCELLED                               0           0           0   \nO_SENT                                    0           0           0   \nA_ACCEPTED                                0           0           0   \nA_FINALIZED                               0           0           0   \nO_SELECTED                                0           0           0   \nW_Nabellen incomplete dossiers            0           0           0   \nA_PREACCEPTED                             0           0           0   \nA_ACTIVATED                             142          49           0   \nA_APPROVED                               11         198           0   \nO_DECLINED                                0           0          51   \nO_ACCEPTED                                6          16           0   \nW_Beoordelen fraude                       0           0           0   \n\n                                O_ACCEPTED  W_Beoordelen fraude  \nA_CANCELLED                              0                    0  \nW_Afhandelen leads                       0                   10  \nW_Completeren aanvraag                   0                    0  \nA_SUBMITTED                              0                    0  \nA_REGISTERED                            27                    0  \nW_Valideren aanvraag                     0                    0  \nW_Nabellen offertes                      0                    0  \nO_SENT_BACK                              0                    0  \nA_DECLINED                               0                   13  \nA_PARTLYSUBMITTED                        0                    0  \nO_CREATED                                0                    0  \nO_CANCELLED                              0                    0  \nO_SENT                                   0                    0  \nA_ACCEPTED                               0                    0  \nA_FINALIZED                              0                    0  \nO_SELECTED                               0                    0  \nW_Nabellen incomplete dossiers           0                    0  \nA_PREACCEPTED                            0                    0  \nA_ACTIVATED                             29                    0  \nA_APPROVED                              16                    0  \nO_DECLINED                               0                    0  \nO_ACCEPTED                             122                    0  \nW_Beoordelen fraude                      0                   73  \n\n[23 rows x 23 columns]",
      "text/html": "<div>\n<style scoped>\n    .dataframe tbody tr th:only-of-type {\n        vertical-align: middle;\n    }\n\n    .dataframe tbody tr th {\n        vertical-align: top;\n    }\n\n    .dataframe thead th {\n        text-align: right;\n    }\n</style>\n<table border=\"1\" class=\"dataframe\">\n  <thead>\n    <tr style=\"text-align: right;\">\n      <th></th>\n      <th>A_CANCELLED</th>\n      <th>W_Afhandelen leads</th>\n      <th>W_Completeren aanvraag</th>\n      <th>A_SUBMITTED</th>\n      <th>A_REGISTERED</th>\n      <th>W_Valideren aanvraag</th>\n      <th>W_Nabellen offertes</th>\n      <th>O_SENT_BACK</th>\n      <th>A_DECLINED</th>\n      <th>A_PARTLYSUBMITTED</th>\n      <th>...</th>\n      <th>A_ACCEPTED</th>\n      <th>A_FINALIZED</th>\n      <th>O_SELECTED</th>\n      <th>W_Nabellen incomplete dossiers</th>\n      <th>A_PREACCEPTED</th>\n      <th>A_ACTIVATED</th>\n      <th>A_APPROVED</th>\n      <th>O_DECLINED</th>\n      <th>O_ACCEPTED</th>\n      <th>W_Beoordelen fraude</th>\n    </tr>\n  </thead>\n  <tbody>\n    <tr>\n      <th>A_CANCELLED</th>\n      <td>0</td>\n      <td>0</td>\n      <td>147</td>\n      <td>0</td>\n      <td>0</td>\n      <td>5</td>\n      <td>222</td>\n      <td>0</td>\n      <td>0</td>\n      <td>0</td>\n      <td>...</td>\n      <td>0</td>\n      <td>0</td>\n      <td>10</td>\n      <td>20</td>\n      <td>0</td>\n      <td>0</td>\n      <td>0</td>\n      <td>0</td>\n      <td>0</td>\n      <td>0</td>\n    </tr>\n    <tr>\n      <th>W_Afhandelen leads</th>\n      <td>0</td>\n      <td>1589</td>\n      <td>405</td>\n      <td>0</td>\n      <td>0</td>\n      <td>0</td>\n      <td>0</td>\n      <td>0</td>\n      <td>73</td>\n      <td>0</td>\n      <td>...</td>\n      <td>0</td>\n      <td>0</td>\n      <td>0</td>\n      <td>0</td>\n      <td>547</td>\n      <td>0</td>\n      <td>0</td>\n      <td>0</td>\n      <td>0</td>\n      <td>10</td>\n    </tr>\n    <tr>\n      <th>W_Completeren aanvraag</th>\n      <td>0</td>\n      <td>0</td>\n      <td>7620</td>\n      <td>0</td>\n      <td>0</td>\n      <td>0</td>\n      <td>797</td>\n      <td>0</td>\n      <td>0</td>\n      <td>0</td>\n      <td>...</td>\n      <td>0</td>\n      <td>1</td>\n      <td>42</td>\n      <td>0</td>\n      <td>0</td>\n      <td>0</td>\n      <td>0</td>\n      <td>0</td>\n      <td>0</td>\n      <td>0</td>\n    </tr>\n    <tr>\n      <th>A_SUBMITTED</th>\n      <td>0</td>\n      <td>0</td>\n      <td>0</td>\n      <td>2107</td>\n      <td>0</td>\n      <td>0</td>\n      <td>0</td>\n      <td>0</td>\n      <td>0</td>\n      <td>0</td>\n      <td>...</td>\n      <td>0</td>\n      <td>0</td>\n      <td>0</td>\n      <td>0</td>\n      <td>0</td>\n      <td>0</td>\n      <td>0</td>\n      <td>0</td>\n      <td>0</td>\n      <td>0</td>\n    </tr>\n    <tr>\n      <th>A_REGISTERED</th>\n      <td>0</td>\n      <td>0</td>\n      <td>0</td>\n      <td>0</td>\n      <td>175</td>\n      <td>19</td>\n      <td>0</td>\n      <td>0</td>\n      <td>0</td>\n      <td>0</td>\n      <td>...</td>\n      <td>0</td>\n      <td>0</td>\n      <td>0</td>\n      <td>17</td>\n      <td>0</td>\n      <td>11</td>\n      <td>59</td>\n      <td>0</td>\n      <td>27</td>\n      <td>0</td>\n    </tr>\n    <tr>\n      <th>W_Valideren aanvraag</th>\n      <td>0</td>\n      <td>0</td>\n      <td>0</td>\n      <td>0</td>\n      <td>0</td>\n      <td>1865</td>\n      <td>0</td>\n      <td>0</td>\n      <td>0</td>\n      <td>0</td>\n      <td>...</td>\n      <td>0</td>\n      <td>0</td>\n      <td>0</td>\n      <td>1009</td>\n      <td>0</td>\n      <td>0</td>\n      <td>0</td>\n      <td>0</td>\n      <td>0</td>\n      <td>0</td>\n    </tr>\n    <tr>\n      <th>W_Nabellen offertes</th>\n      <td>0</td>\n      <td>0</td>\n      <td>0</td>\n      <td>0</td>\n      <td>0</td>\n      <td>500</td>\n      <td>7546</td>\n      <td>0</td>\n      <td>0</td>\n      <td>0</td>\n      <td>...</td>\n      <td>0</td>\n      <td>0</td>\n      <td>0</td>\n      <td>0</td>\n      <td>0</td>\n      <td>0</td>\n      <td>0</td>\n      <td>0</td>\n      <td>0</td>\n      <td>0</td>\n    </tr>\n    <tr>\n      <th>O_SENT_BACK</th>\n      <td>0</td>\n      <td>0</td>\n      <td>0</td>\n      <td>0</td>\n      <td>0</td>\n      <td>0</td>\n      <td>468</td>\n      <td>0</td>\n      <td>0</td>\n      <td>0</td>\n      <td>...</td>\n      <td>0</td>\n      <td>0</td>\n      <td>0</td>\n      <td>21</td>\n      <td>0</td>\n      <td>0</td>\n      <td>0</td>\n      <td>0</td>\n      <td>0</td>\n      <td>0</td>\n    </tr>\n    <tr>\n      <th>A_DECLINED</th>\n      <td>0</td>\n      <td>489</td>\n      <td>180</td>\n      <td>0</td>\n      <td>0</td>\n      <td>35</td>\n      <td>2</td>\n      <td>0</td>\n      <td>134</td>\n      <td>0</td>\n      <td>...</td>\n      <td>0</td>\n      <td>0</td>\n      <td>7</td>\n      <td>16</td>\n      <td>301</td>\n      <td>0</td>\n      <td>0</td>\n      <td>0</td>\n      <td>0</td>\n      <td>13</td>\n    </tr>\n    <tr>\n      <th>A_PARTLYSUBMITTED</th>\n      <td>0</td>\n      <td>0</td>\n      <td>0</td>\n      <td>0</td>\n      <td>0</td>\n      <td>0</td>\n      <td>0</td>\n      <td>0</td>\n      <td>0</td>\n      <td>2156</td>\n      <td>...</td>\n      <td>0</td>\n      <td>0</td>\n      <td>0</td>\n      <td>0</td>\n      <td>0</td>\n      <td>0</td>\n      <td>0</td>\n      <td>0</td>\n      <td>0</td>\n      <td>0</td>\n    </tr>\n    <tr>\n      <th>O_CREATED</th>\n      <td>0</td>\n      <td>0</td>\n      <td>0</td>\n      <td>0</td>\n      <td>0</td>\n      <td>15</td>\n      <td>263</td>\n      <td>0</td>\n      <td>0</td>\n      <td>0</td>\n      <td>...</td>\n      <td>0</td>\n      <td>0</td>\n      <td>0</td>\n      <td>34</td>\n      <td>0</td>\n      <td>0</td>\n      <td>0</td>\n      <td>0</td>\n      <td>0</td>\n      <td>0</td>\n    </tr>\n    <tr>\n      <th>O_CANCELLED</th>\n      <td>0</td>\n      <td>0</td>\n      <td>0</td>\n      <td>0</td>\n      <td>0</td>\n      <td>23</td>\n      <td>365</td>\n      <td>0</td>\n      <td>0</td>\n      <td>0</td>\n      <td>...</td>\n      <td>0</td>\n      <td>0</td>\n      <td>0</td>\n      <td>41</td>\n      <td>0</td>\n      <td>0</td>\n      <td>0</td>\n      <td>0</td>\n      <td>0</td>\n      <td>0</td>\n    </tr>\n    <tr>\n      <th>O_SENT</th>\n      <td>0</td>\n      <td>0</td>\n      <td>0</td>\n      <td>0</td>\n      <td>0</td>\n      <td>19</td>\n      <td>236</td>\n      <td>0</td>\n      <td>0</td>\n      <td>0</td>\n      <td>...</td>\n      <td>0</td>\n      <td>0</td>\n      <td>0</td>\n      <td>34</td>\n      <td>0</td>\n      <td>0</td>\n      <td>0</td>\n      <td>0</td>\n      <td>0</td>\n      <td>0</td>\n    </tr>\n    <tr>\n      <th>A_ACCEPTED</th>\n      <td>0</td>\n      <td>0</td>\n      <td>834</td>\n      <td>0</td>\n      <td>0</td>\n      <td>0</td>\n      <td>0</td>\n      <td>0</td>\n      <td>0</td>\n      <td>0</td>\n      <td>...</td>\n      <td>0</td>\n      <td>0</td>\n      <td>0</td>\n      <td>0</td>\n      <td>0</td>\n      <td>0</td>\n      <td>0</td>\n      <td>0</td>\n      <td>0</td>\n      <td>0</td>\n    </tr>\n    <tr>\n      <th>A_FINALIZED</th>\n      <td>0</td>\n      <td>0</td>\n      <td>0</td>\n      <td>0</td>\n      <td>0</td>\n      <td>0</td>\n      <td>0</td>\n      <td>0</td>\n      <td>0</td>\n      <td>0</td>\n      <td>...</td>\n      <td>0</td>\n      <td>483</td>\n      <td>315</td>\n      <td>0</td>\n      <td>0</td>\n      <td>0</td>\n      <td>0</td>\n      <td>0</td>\n      <td>0</td>\n      <td>0</td>\n    </tr>\n    <tr>\n      <th>O_SELECTED</th>\n      <td>0</td>\n      <td>0</td>\n      <td>0</td>\n      <td>0</td>\n      <td>0</td>\n      <td>21</td>\n      <td>256</td>\n      <td>0</td>\n      <td>0</td>\n      <td>0</td>\n      <td>...</td>\n      <td>0</td>\n      <td>2</td>\n      <td>780</td>\n      <td>26</td>\n      <td>0</td>\n      <td>0</td>\n      <td>0</td>\n      <td>0</td>\n      <td>0</td>\n      <td>0</td>\n    </tr>\n    <tr>\n      <th>W_Nabellen incomplete dossiers</th>\n      <td>0</td>\n      <td>0</td>\n      <td>0</td>\n      <td>0</td>\n      <td>0</td>\n      <td>265</td>\n      <td>0</td>\n      <td>0</td>\n      <td>0</td>\n      <td>0</td>\n      <td>...</td>\n      <td>0</td>\n      <td>0</td>\n      <td>0</td>\n      <td>3184</td>\n      <td>0</td>\n      <td>0</td>\n      <td>0</td>\n      <td>0</td>\n      <td>0</td>\n      <td>0</td>\n    </tr>\n    <tr>\n      <th>A_PREACCEPTED</th>\n      <td>0</td>\n      <td>541</td>\n      <td>0</td>\n      <td>0</td>\n      <td>0</td>\n      <td>0</td>\n      <td>0</td>\n      <td>0</td>\n      <td>27</td>\n      <td>0</td>\n      <td>...</td>\n      <td>0</td>\n      <td>0</td>\n      <td>0</td>\n      <td>0</td>\n      <td>597</td>\n      <td>0</td>\n      <td>0</td>\n      <td>0</td>\n      <td>0</td>\n      <td>0</td>\n    </tr>\n    <tr>\n      <th>A_ACTIVATED</th>\n      <td>0</td>\n      <td>0</td>\n      <td>0</td>\n      <td>0</td>\n      <td>62</td>\n      <td>20</td>\n      <td>0</td>\n      <td>0</td>\n      <td>0</td>\n      <td>0</td>\n      <td>...</td>\n      <td>0</td>\n      <td>0</td>\n      <td>0</td>\n      <td>16</td>\n      <td>0</td>\n      <td>142</td>\n      <td>49</td>\n      <td>0</td>\n      <td>29</td>\n      <td>0</td>\n    </tr>\n    <tr>\n      <th>A_APPROVED</th>\n      <td>0</td>\n      <td>0</td>\n      <td>0</td>\n      <td>0</td>\n      <td>13</td>\n      <td>45</td>\n      <td>0</td>\n      <td>0</td>\n      <td>0</td>\n      <td>0</td>\n      <td>...</td>\n      <td>0</td>\n      <td>0</td>\n      <td>0</td>\n      <td>45</td>\n      <td>0</td>\n      <td>11</td>\n      <td>198</td>\n      <td>0</td>\n      <td>16</td>\n      <td>0</td>\n    </tr>\n    <tr>\n      <th>O_DECLINED</th>\n      <td>0</td>\n      <td>0</td>\n      <td>0</td>\n      <td>0</td>\n      <td>0</td>\n      <td>42</td>\n      <td>4</td>\n      <td>0</td>\n      <td>0</td>\n      <td>0</td>\n      <td>...</td>\n      <td>0</td>\n      <td>0</td>\n      <td>0</td>\n      <td>14</td>\n      <td>0</td>\n      <td>0</td>\n      <td>0</td>\n      <td>51</td>\n      <td>0</td>\n      <td>0</td>\n    </tr>\n    <tr>\n      <th>O_ACCEPTED</th>\n      <td>0</td>\n      <td>0</td>\n      <td>0</td>\n      <td>0</td>\n      <td>8</td>\n      <td>73</td>\n      <td>0</td>\n      <td>0</td>\n      <td>0</td>\n      <td>0</td>\n      <td>...</td>\n      <td>0</td>\n      <td>0</td>\n      <td>0</td>\n      <td>97</td>\n      <td>0</td>\n      <td>6</td>\n      <td>16</td>\n      <td>0</td>\n      <td>122</td>\n      <td>0</td>\n    </tr>\n    <tr>\n      <th>W_Beoordelen fraude</th>\n      <td>0</td>\n      <td>10</td>\n      <td>2</td>\n      <td>0</td>\n      <td>0</td>\n      <td>16</td>\n      <td>0</td>\n      <td>0</td>\n      <td>2</td>\n      <td>0</td>\n      <td>...</td>\n      <td>0</td>\n      <td>0</td>\n      <td>0</td>\n      <td>0</td>\n      <td>4</td>\n      <td>0</td>\n      <td>0</td>\n      <td>0</td>\n      <td>0</td>\n      <td>73</td>\n    </tr>\n  </tbody>\n</table>\n<p>23 rows × 23 columns</p>\n</div>"
     },
     "metadata": {},
     "output_type": "display_data"
    }
   ],
   "source": [
    "#### confusion matrix ####\n",
    "# to see where the most mistakes are made\n",
    "\n",
    "# model\n",
    "X_train, X_test, y_train, y_test = train_test_split( X, y, test_size=0.2, random_state=0)\n",
    "clf = RandomForestClassifier(max_depth=10, random_state=0)\n",
    "clf.fit(X_train, y_train)\n",
    "print('The accuracy of this model is: ', clf.score(X_train, y_train))\n",
    "\n",
    "# list of predictions\n",
    "y_pred_list = list(clf.predict(X_test))\n",
    "y_list = list(y_test)\n",
    "\n",
    "print('Confusion Matrix')\n",
    "my_matrix=pd.DataFrame(confusion_matrix(y_list, y_pred_list, labels=pd.unique(y_list)), index=pd.unique(y_list))\n",
    "my_matrix.columns = pd.unique(y_list)\n",
    "display(my_matrix)"
   ],
   "metadata": {
    "collapsed": false,
    "pycharm": {
     "name": "#%%\n"
    }
   }
  },
  {
   "cell_type": "code",
   "execution_count": null,
   "outputs": [],
   "source": [
    "from sklearn.neighbors import KNeighborsClassifier\n",
    "\n",
    "nr_of_neighbors = [1,3,5,7,11]\n",
    "scores_knn_df = pd.DataFrame()\n",
    "\n",
    "for nr in nr_of_neighbors:\n",
    "    neigh = KNeighborsClassifier(n_neighbors=nr)\n",
    "    scores_knn_df[nr] = cross_val_score(neigh, X, y, cv=5)\n",
    "\n",
    "\n",
    "print(scores_df)\n",
    "\n",
    "fig = go.Figure()\n",
    "\n",
    "for nr in nr_of_neighbors:\n",
    "    fig.add_trace(go.Scatter(y= scores_knn_df[nr], name=nr))\n",
    "fig.update_yaxes(range=[0,1])\n",
    "fig.show()"
   ],
   "metadata": {
    "collapsed": false,
    "pycharm": {
     "name": "#%%\n",
     "is_executing": true
    }
   }
  }
 ],
 "metadata": {
  "kernelspec": {
   "display_name": "Python 3",
   "language": "python",
   "name": "python3"
  },
  "language_info": {
   "codemirror_mode": {
    "name": "ipython",
    "version": 2
   },
   "file_extension": ".py",
   "mimetype": "text/x-python",
   "name": "python",
   "nbconvert_exporter": "python",
   "pygments_lexer": "ipython2",
   "version": "2.7.6"
  }
 },
 "nbformat": 4,
 "nbformat_minor": 0
}