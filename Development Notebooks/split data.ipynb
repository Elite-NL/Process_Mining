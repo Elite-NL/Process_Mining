{
 "cells": [
  {
   "cell_type": "code",
   "execution_count": 35,
   "metadata": {
    "collapsed": true
   },
   "outputs": [],
   "source": [
    "import pandas as pd\n",
    "import plotly.express as px\n",
    "import matplotlib.pyplot as plt\n",
    "import statistics\n",
    "import numpy as np\n",
    "from datetime import datetime\n",
    "import re\n",
    "timeformat_timestamp = \"%d-%m-%Y %H:%M:%S.%f\""
   ]
  },
  {
   "cell_type": "code",
   "execution_count": 36,
   "outputs": [
    {
     "name": "stdout",
     "output_type": "stream",
     "text": [
      "8507 10797\n"
     ]
    }
   ],
   "source": [
    "df_train = pd.read_csv('data/BPI_Challenge_2012-training.csv')\n",
    "df_test = pd.read_csv('data/BPI_Challenge_2012-test.csv')\n",
    "df_train['check'] = 'train'\n",
    "df_test['check'] = 'test'\n",
    "df_train[\"event time:timestamp\"] = [datetime.strptime(date, timeformat_timestamp) for date in df_train[\"event time:timestamp\"]]\n",
    "df_test[\"event time:timestamp\"] = [datetime.strptime(date, timeformat_timestamp) for date in df_test[\"event time:timestamp\"]]\n",
    "df_all = pd.concat([df_train, df_test], ignore_index=True)\n",
    "#df_all = df_all.sort_values(['event time:timestamp'])\n",
    "df_all.reset_index(inplace=True, drop=True)\n",
    "lst_case = list(df_all['case concept:name'].unique())\n",
    "tr = round(len(lst_case)*0.65)\n",
    "val = round(len(lst_case)*0.825)\n",
    "print(tr,val)"
   ],
   "metadata": {
    "collapsed": false,
    "pycharm": {
     "name": "#%%\n"
    }
   }
  },
  {
   "cell_type": "code",
   "execution_count": 37,
   "outputs": [],
   "source": [
    "df_tr = df_all[df_all['case concept:name'].isin(lst_case[:tr])]\n",
    "df_val = df_all[df_all['case concept:name'].isin(lst_case[tr:val])]\n",
    "df_te = df_all[df_all['case concept:name'].isin(lst_case[val:])]"
   ],
   "metadata": {
    "collapsed": false,
    "pycharm": {
     "name": "#%%\n"
    }
   }
  },
  {
   "cell_type": "code",
   "execution_count": 38,
   "outputs": [],
   "source": [
    "def split_data(df_train,df_test):\n",
    "    max_time_train = min(df_test['event time:timestamp'])\n",
    "    cases = []\n",
    "    for case in list(df_train['case concept:name'].unique()):\n",
    "        if df_train[df_train['case concept:name']==case].iloc[-1,6] > max_time_train:\n",
    "            cases.append(case)\n",
    "    df_train3 = df_train[~df_train['case concept:name'].isin(cases)]\n",
    "    df_train3.reset_index(inplace=True, drop=True)\n",
    "    return df_train3"
   ],
   "metadata": {
    "collapsed": false,
    "pycharm": {
     "name": "#%%\n"
    }
   }
  },
  {
   "cell_type": "code",
   "execution_count": 39,
   "outputs": [],
   "source": [
    "df_tr1 = split_data(df_tr, df_val)\n",
    "df_val1 = split_data(df_val, df_te)"
   ],
   "metadata": {
    "collapsed": false,
    "pycharm": {
     "name": "#%%\n"
    }
   }
  },
  {
   "cell_type": "code",
   "execution_count": 40,
   "outputs": [
    {
     "name": "stdout",
     "output_type": "stream",
     "text": [
      "8507 7672\n",
      "2290 1535\n",
      "2290\n"
     ]
    }
   ],
   "source": [
    "print(len(df_tr['case concept:name'].unique()), len(df_tr1['case concept:name'].unique()))\n",
    "print(len(df_val['case concept:name'].unique()), len(df_val1['case concept:name'].unique()))\n",
    "print(len(df_te['case concept:name'].unique()))"
   ],
   "metadata": {
    "collapsed": false,
    "pycharm": {
     "name": "#%%\n"
    }
   }
  },
  {
   "cell_type": "code",
   "execution_count": 41,
   "outputs": [
    {
     "name": "stdout",
     "output_type": "stream",
     "text": [
      "0.7473951182303585\n"
     ]
    }
   ],
   "source": [
    "print((len(df_tr1)+len(df_val1)+len(df_te))/ len(df_all))"
   ],
   "metadata": {
    "collapsed": false,
    "pycharm": {
     "name": "#%%\n"
    }
   }
  },
  {
   "cell_type": "code",
   "execution_count": 42,
   "outputs": [
    {
     "data": {
      "text/plain": "0.6971735037021539"
     },
     "execution_count": 42,
     "metadata": {},
     "output_type": "execute_result"
    }
   ],
   "source": [
    "len(df_tr1)/(len(df_tr1)+len(df_val1)+len(df_te))"
   ],
   "metadata": {
    "collapsed": false,
    "pycharm": {
     "name": "#%%\n"
    }
   }
  },
  {
   "cell_type": "code",
   "execution_count": 43,
   "outputs": [
    {
     "data": {
      "text/plain": "0.09415871039511754"
     },
     "execution_count": 43,
     "metadata": {},
     "output_type": "execute_result"
    }
   ],
   "source": [
    "len(df_val1)/(len(df_tr1)+len(df_val1)+len(df_te))"
   ],
   "metadata": {
    "collapsed": false,
    "pycharm": {
     "name": "#%%\n"
    }
   }
  },
  {
   "cell_type": "code",
   "execution_count": 44,
   "outputs": [
    {
     "data": {
      "text/plain": "0.20866778590272853"
     },
     "execution_count": 44,
     "metadata": {},
     "output_type": "execute_result"
    }
   ],
   "source": [
    "len(df_te)/(len(df_tr1)+len(df_val1)+len(df_te))"
   ],
   "metadata": {
    "collapsed": false,
    "pycharm": {
     "name": "#%%\n"
    }
   }
  },
  {
   "cell_type": "code",
   "execution_count": 46,
   "outputs": [],
   "source": [
    "df_tr1.to_csv('final data/BPI_Challenge_2012-training.csv')"
   ],
   "metadata": {
    "collapsed": false,
    "pycharm": {
     "name": "#%%\n"
    }
   }
  },
  {
   "cell_type": "code",
   "execution_count": 47,
   "outputs": [],
   "source": [
    "df_val1.to_csv('final data/BPI_Challenge_2012-validation.csv')"
   ],
   "metadata": {
    "collapsed": false,
    "pycharm": {
     "name": "#%%\n"
    }
   }
  },
  {
   "cell_type": "code",
   "execution_count": 48,
   "outputs": [],
   "source": [
    "df_te.to_csv('final data/BPI_Challenge_2012-test.csv')"
   ],
   "metadata": {
    "collapsed": false,
    "pycharm": {
     "name": "#%%\n"
    }
   }
  },
  {
   "cell_type": "code",
   "execution_count": null,
   "outputs": [],
   "source": [],
   "metadata": {
    "collapsed": false,
    "pycharm": {
     "name": "#%%\n"
    }
   }
  }
 ],
 "metadata": {
  "kernelspec": {
   "display_name": "Python 3",
   "language": "python",
   "name": "python3"
  },
  "language_info": {
   "codemirror_mode": {
    "name": "ipython",
    "version": 2
   },
   "file_extension": ".py",
   "mimetype": "text/x-python",
   "name": "python",
   "nbconvert_exporter": "python",
   "pygments_lexer": "ipython2",
   "version": "2.7.6"
  }
 },
 "nbformat": 4,
 "nbformat_minor": 0
}