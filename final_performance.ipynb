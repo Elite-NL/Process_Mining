{
 "cells": [
  {
   "cell_type": "code",
   "execution_count": null,
   "id": "36b6727a",
   "metadata": {},
   "outputs": [],
   "source": [
    "import psutil\n",
    "import os\n",
    "import time\n",
    "import matplotlib.pyplot as plt\n",
    "from psutil import cpu_percent\n",
    "from matplotlib.animation import FuncAnimation\n",
    "import plotly.graph_objects as go"
   ]
  },
  {
   "cell_type": "code",
   "execution_count": null,
   "id": "35a4fb15",
   "metadata": {},
   "outputs": [],
   "source": [
    "%matplotlib notebook\n",
    "\n",
    "frame_lenght = 2000\n",
    "y = []\n",
    "fig1 = plt.figure(figsize = (6,3))\n",
    "\n",
    "def animate_cpu(i):\n",
    "    y.append(cpu_percent())\n",
    "    if len(y) <= frame_lenght:\n",
    "        plt.cla()\n",
    "        plt.plot(y, color = 'green', marker = '', linewidth = 2)\n",
    "    #else:\n",
    "    #    plt.cla()\n",
    "    #    plt.plot(y[-frame_lenght:], color = 'green')\n",
    "        \n",
    "    plt.xlabel('Time(s)', size = 13)\n",
    "    plt.title('Real-Time CPU %', size = 13)\n",
    "    plt.ylabel('CPU(%)', size = 13)\n",
    "    plt.grid()\n",
    "    plt.tight_layout()\n",
    "    \n",
    "ani1 = FuncAnimation(fig1, animate_cpu, interval = 1000)\n",
    "\n"
   ]
  },
  {
   "cell_type": "code",
   "execution_count": null,
   "id": "3f1f1888",
   "metadata": {},
   "outputs": [],
   "source": [
    "%matplotlib notebook\n",
    "\n",
    "frame_lenght = 2000\n",
    "y = []\n",
    "fig2 = plt.figure(figsize = (6,3))\n",
    "def animate_memory(i):\n",
    "    y.append(psutil.virtual_memory()[2]-50)\n",
    "    if len(y) <= frame_lenght:\n",
    "        plt.cla()\n",
    "        plt.plot(y, color = 'blue', marker = '', linewidth = 2)\n",
    "    #else:\n",
    "    #    plt.cla()\n",
    "    #    plt.plot(y[-frame_lenght:], color = 'green')\n",
    "        \n",
    "    plt.xlabel('Time(s)', size = 13)\n",
    "    plt.title('Real-Time Memory %', size = 13)\n",
    "    plt.ylabel('Memory(%)', size = 13)\n",
    "    plt.grid()\n",
    "    plt.tight_layout()\n",
    "    \n",
    "ani2 = FuncAnimation(fig2, animate_memory, interval = 1000)"
   ]
  },
  {
   "cell_type": "code",
   "execution_count": null,
   "id": "e04cb2f0",
   "metadata": {},
   "outputs": [],
   "source": [
    "#process = psutil.Process(os.getpid());\n",
    "#data = []"
   ]
  },
  {
   "cell_type": "code",
   "execution_count": null,
   "id": "2ba5fcb6",
   "metadata": {},
   "outputs": [],
   "source": [
    "#process = psutil.Process(os.getpid());\n",
    "#frame_lenght = 2000\n",
    "\n",
    "#x = []\n",
    "#for _ in range(200):\n",
    "#    x.append(process.cpu_percent(interval=1))\n",
    "#    \n",
    "#print(x)"
   ]
  },
  {
   "cell_type": "code",
   "execution_count": null,
   "id": "a26d5105",
   "metadata": {},
   "outputs": [],
   "source": [
    "#fig = go.FigureWidget()\n",
    "#fig.add_scatter()\n",
    "#fig"
   ]
  },
  {
   "cell_type": "code",
   "execution_count": null,
   "id": "2ccca9db",
   "metadata": {},
   "outputs": [],
   "source": [
    "#i = 0\n",
    "#while i < 200:\n",
    "#    time.sleep(0.3)\n",
    "#    c = process.cpu_percent()\n",
    "#    data.append(c)\n",
    "#    fig.data[0].y = data[:i] \n",
    "#    i+=1"
   ]
  },
  {
   "cell_type": "code",
   "execution_count": null,
   "id": "05fd70d3",
   "metadata": {},
   "outputs": [],
   "source": [
    "#c = process.cpu_percent()\n",
    "#c"
   ]
  },
  {
   "cell_type": "code",
   "execution_count": null,
   "id": "b135b479",
   "metadata": {},
   "outputs": [],
   "source": [
    "#%matplotlib notebook\n",
    "#plt.rcParams['animation.html'] = 'jshtml'\n",
    "#current_process = psutil.Process(os.getpid());"
   ]
  },
  {
   "cell_type": "code",
   "execution_count": null,
   "id": "2c0e8cf4",
   "metadata": {},
   "outputs": [],
   "source": [
    "#fig, (ax1, ax2) = plt.subplots(2)\n",
    "#fig.show()"
   ]
  },
  {
   "cell_type": "code",
   "execution_count": null,
   "id": "0e71aefc",
   "metadata": {},
   "outputs": [],
   "source": [
    "#i = 0\n",
    "#x = []\n",
    "\n",
    "#y2 = []\n",
    "#y1 = []\n",
    "#while True:\n",
    "    \n",
    "#    x.append(i)\n",
    "#    y1.append(current_process.cpu_percent())\n",
    "#    ax1.plot(x, y1, color='r')\n",
    "#    ax1.set_ylabel(\"CPU %\")\n",
    "#    y2.append(current_process.memory_percent())\n",
    "#    ax2.plot(x, y2, color='b')\n",
    "#    ax2.set_ylabel(\"Memory %\")\n",
    "#    ax2.set_xlabel(\"Seconds\")\n",
    "#    fig.canvas.draw()\n",
    "#    \n",
    "#    ax1.set_xlim(left=max(0, i-50), right=i+50)\n",
    "#    ax1.set_ylim(0, 100)\n",
    "#    ax2.set_xlim(left=max(0, i-50), right=i+50)\n",
    "#    \n",
    "#    \n",
    "#    i += 1\n",
    "#    \n",
    "#plt.close()"
   ]
  }
 ],
 "metadata": {
  "kernelspec": {
   "display_name": "Python 3",
   "language": "python",
   "name": "python3"
  },
  "language_info": {
   "codemirror_mode": {
    "name": "ipython",
    "version": 3
   },
   "file_extension": ".py",
   "mimetype": "text/x-python",
   "name": "python",
   "nbconvert_exporter": "python",
   "pygments_lexer": "ipython3",
   "version": "3.8.8"
  }
 },
 "nbformat": 4,
 "nbformat_minor": 5
}
