{
 "cells": [
  {
   "cell_type": "code",
   "execution_count": 105,
   "metadata": {},
   "outputs": [],
   "source": [
    "### GROUP 2 ###\n",
    "\n",
    "# B.J.T. Donkers - 1506897\n",
    "# S. van der Leek - 1564226\n",
    "# L. Sloot - 1365711\n",
    "# S. Diemel  - 1645749\n",
    "# A.E. Murariu - 1532081\n",
    "# Z.V. Petrov - 1554999"
   ]
  },
  {
   "cell_type": "code",
   "execution_count": 106,
   "metadata": {},
   "outputs": [],
   "source": [
    "# imports\n",
    "import pandas as pd"
   ]
  },
  {
   "cell_type": "code",
   "execution_count": 107,
   "metadata": {},
   "outputs": [
    {
     "data": {
      "text/plain": "              eventID   case concept:name                  case REG_DATE  \\\n0                    0             173688  2011-10-01T00:38:44.546+02:00   \n1                    1             173688  2011-10-01T00:38:44.546+02:00   \n2                    2             173688  2011-10-01T00:38:44.546+02:00   \n3                    3             173688  2011-10-01T00:38:44.546+02:00   \n4           4294967296             173691  2011-10-01T08:08:58.256+02:00   \n...                ...                ...                            ...   \n214372  38835094290529             201854  2012-01-18T02:09:07.029+01:00   \n214373  38835094290528             201854  2012-01-18T02:09:07.029+01:00   \n214374  38835094290530             201854  2012-01-18T02:09:07.029+01:00   \n214375  35858681954366             199678  2012-01-10T19:16:52.800+01:00   \n214376  35858681954367             199678  2012-01-10T19:16:52.800+01:00   \n\n        case AMOUNT_REQ              event concept:name  \\\n0                 20000                     A_SUBMITTED   \n1                 20000               A_PARTLYSUBMITTED   \n2                 20000                   A_PREACCEPTED   \n3                 20000          W_Completeren aanvraag   \n4                  5000                     A_SUBMITTED   \n...                 ...                             ...   \n214372            50000                     O_CANCELLED   \n214373            50000                     A_CANCELLED   \n214374            50000  W_Nabellen incomplete dossiers   \n214375            30000             W_Nabellen offertes   \n214376            30000             W_Nabellen offertes   \n\n       event lifecycle:transition     event time:timestamp  \n0                        COMPLETE  01-10-2011 00:38:44.546  \n1                        COMPLETE  01-10-2011 00:38:44.880  \n2                        COMPLETE  01-10-2011 00:39:37.906  \n3                        SCHEDULE  01-10-2011 00:39:38.875  \n4                        COMPLETE  01-10-2011 08:08:58.256  \n...                           ...                      ...  \n214372                   COMPLETE  14-03-2012 15:30:19.361  \n214373                   COMPLETE  14-03-2012 15:30:19.361  \n214374                   COMPLETE  14-03-2012 15:30:23.187  \n214375                      START  14-03-2012 15:36:15.299  \n214376                   COMPLETE  14-03-2012 15:40:34.231  \n\n[214377 rows x 7 columns]",
      "text/html": "<div>\n<style scoped>\n    .dataframe tbody tr th:only-of-type {\n        vertical-align: middle;\n    }\n\n    .dataframe tbody tr th {\n        vertical-align: top;\n    }\n\n    .dataframe thead th {\n        text-align: right;\n    }\n</style>\n<table border=\"1\" class=\"dataframe\">\n  <thead>\n    <tr style=\"text-align: right;\">\n      <th></th>\n      <th>eventID</th>\n      <th>case concept:name</th>\n      <th>case REG_DATE</th>\n      <th>case AMOUNT_REQ</th>\n      <th>event concept:name</th>\n      <th>event lifecycle:transition</th>\n      <th>event time:timestamp</th>\n    </tr>\n  </thead>\n  <tbody>\n    <tr>\n      <th>0</th>\n      <td>0</td>\n      <td>173688</td>\n      <td>2011-10-01T00:38:44.546+02:00</td>\n      <td>20000</td>\n      <td>A_SUBMITTED</td>\n      <td>COMPLETE</td>\n      <td>01-10-2011 00:38:44.546</td>\n    </tr>\n    <tr>\n      <th>1</th>\n      <td>1</td>\n      <td>173688</td>\n      <td>2011-10-01T00:38:44.546+02:00</td>\n      <td>20000</td>\n      <td>A_PARTLYSUBMITTED</td>\n      <td>COMPLETE</td>\n      <td>01-10-2011 00:38:44.880</td>\n    </tr>\n    <tr>\n      <th>2</th>\n      <td>2</td>\n      <td>173688</td>\n      <td>2011-10-01T00:38:44.546+02:00</td>\n      <td>20000</td>\n      <td>A_PREACCEPTED</td>\n      <td>COMPLETE</td>\n      <td>01-10-2011 00:39:37.906</td>\n    </tr>\n    <tr>\n      <th>3</th>\n      <td>3</td>\n      <td>173688</td>\n      <td>2011-10-01T00:38:44.546+02:00</td>\n      <td>20000</td>\n      <td>W_Completeren aanvraag</td>\n      <td>SCHEDULE</td>\n      <td>01-10-2011 00:39:38.875</td>\n    </tr>\n    <tr>\n      <th>4</th>\n      <td>4294967296</td>\n      <td>173691</td>\n      <td>2011-10-01T08:08:58.256+02:00</td>\n      <td>5000</td>\n      <td>A_SUBMITTED</td>\n      <td>COMPLETE</td>\n      <td>01-10-2011 08:08:58.256</td>\n    </tr>\n    <tr>\n      <th>...</th>\n      <td>...</td>\n      <td>...</td>\n      <td>...</td>\n      <td>...</td>\n      <td>...</td>\n      <td>...</td>\n      <td>...</td>\n    </tr>\n    <tr>\n      <th>214372</th>\n      <td>38835094290529</td>\n      <td>201854</td>\n      <td>2012-01-18T02:09:07.029+01:00</td>\n      <td>50000</td>\n      <td>O_CANCELLED</td>\n      <td>COMPLETE</td>\n      <td>14-03-2012 15:30:19.361</td>\n    </tr>\n    <tr>\n      <th>214373</th>\n      <td>38835094290528</td>\n      <td>201854</td>\n      <td>2012-01-18T02:09:07.029+01:00</td>\n      <td>50000</td>\n      <td>A_CANCELLED</td>\n      <td>COMPLETE</td>\n      <td>14-03-2012 15:30:19.361</td>\n    </tr>\n    <tr>\n      <th>214374</th>\n      <td>38835094290530</td>\n      <td>201854</td>\n      <td>2012-01-18T02:09:07.029+01:00</td>\n      <td>50000</td>\n      <td>W_Nabellen incomplete dossiers</td>\n      <td>COMPLETE</td>\n      <td>14-03-2012 15:30:23.187</td>\n    </tr>\n    <tr>\n      <th>214375</th>\n      <td>35858681954366</td>\n      <td>199678</td>\n      <td>2012-01-10T19:16:52.800+01:00</td>\n      <td>30000</td>\n      <td>W_Nabellen offertes</td>\n      <td>START</td>\n      <td>14-03-2012 15:36:15.299</td>\n    </tr>\n    <tr>\n      <th>214376</th>\n      <td>35858681954367</td>\n      <td>199678</td>\n      <td>2012-01-10T19:16:52.800+01:00</td>\n      <td>30000</td>\n      <td>W_Nabellen offertes</td>\n      <td>COMPLETE</td>\n      <td>14-03-2012 15:40:34.231</td>\n    </tr>\n  </tbody>\n</table>\n<p>214377 rows × 7 columns</p>\n</div>"
     },
     "execution_count": 107,
     "metadata": {},
     "output_type": "execute_result"
    }
   ],
   "source": [
    "# read the data (2012)\n",
    "df = pd.read_csv('data/BPI_Challenge_2012-training.csv')\n",
    "\n",
    "df_test = pd.read_csv('data/BPI_Challenge_2012-test.csv')\n",
    "\n",
    "amount_column_in_data = True\n",
    "# read the data (road traffic fines)\n",
    "# df = pd.read_csv('data/Road_Traffic_Fine_Management_Process-training.csv')\n",
    "\n",
    "# read the data (2017)\n",
    "# df = pd.read_csv('data/BPI Challenge 2017-training.csv')\n",
    "\n",
    "# read the data (2018)\n",
    "# df = pd.read_csv('data/BPI Challenge 2018-training.csv')\n",
    "\n",
    "df"
   ]
  },
  {
   "cell_type": "code",
   "execution_count": 108,
   "metadata": {},
   "outputs": [],
   "source": [
    "# Defining database-specific variables\n",
    "case_column = \"case concept:name\"\n",
    "registration_time_column = \"case REG_DATE\"\n",
    "event_column = \"event concept:name\"\n",
    "timestamp_column = \"event time:timestamp\"\n",
    "amount_column = 'case AMOUNT_REQ'\n",
    "row_nr_column = 'row_nr'\n",
    "index_column = \"index\"\n",
    "timeformat_registration = \"%Y-%m-%dT%H:%M:%S\" # new time format\n",
    "timeformat_timestamp = \"%d-%m-%Y %H:%M:%S.%f\"\n",
    "additionalInfo = 'event lifecycle:transition' # additional info for the timePrediction_onTheFly, set to None if you don't want to use it\n",
    "\n",
    "# Names of new columns we will add in the notebooks\n",
    "position_column = \"Position\" # added in the baseline notebook\n",
    "baseline_next_event_column = \"Baseline Prediction for Next Activity\" # added in the baseline notebook\n",
    "baseline_next_timestamp_column = \"Baseline Prediction for Next Timestamp\" # added in the baseline notebook\n",
    "pred_event_otf = \"pred_event_otf\" # added by event_onthefly notebook\n",
    "otf_next_timestamp_column = \"OnTheFly Prediction for Next Timestamp\" # added by the timePrediction_onTheFly notebook"
   ]
  },
  {
   "cell_type": "code",
   "execution_count": 109,
   "metadata": {},
   "outputs": [
    {
     "name": "stdout",
     "output_type": "stream",
     "text": [
      "<class 'pandas.core.frame.DataFrame'>\n",
      "RangeIndex: 214377 entries, 0 to 214376\n",
      "Data columns (total 8 columns):\n",
      " #   Column                      Non-Null Count   Dtype         \n",
      "---  ------                      --------------   -----         \n",
      " 0   index                       214377 non-null  int64         \n",
      " 1   eventID                     214377 non-null  int64         \n",
      " 2   case concept:name           214377 non-null  int64         \n",
      " 3   case REG_DATE               214377 non-null  datetime64[ns]\n",
      " 4   case AMOUNT_REQ             214377 non-null  int64         \n",
      " 5   event concept:name          214377 non-null  object        \n",
      " 6   event lifecycle:transition  214377 non-null  object        \n",
      " 7   event time:timestamp        214377 non-null  datetime64[ns]\n",
      "dtypes: datetime64[ns](2), int64(4), object(2)\n",
      "memory usage: 13.1+ MB\n",
      "<class 'pandas.core.frame.DataFrame'>\n",
      "RangeIndex: 47823 entries, 0 to 47822\n",
      "Data columns (total 8 columns):\n",
      " #   Column                      Non-Null Count  Dtype         \n",
      "---  ------                      --------------  -----         \n",
      " 0   index                       47823 non-null  int64         \n",
      " 1   eventID                     47823 non-null  int64         \n",
      " 2   case concept:name           47823 non-null  int64         \n",
      " 3   case REG_DATE               47823 non-null  datetime64[ns]\n",
      " 4   case AMOUNT_REQ             47823 non-null  int64         \n",
      " 5   event concept:name          47823 non-null  object        \n",
      " 6   event lifecycle:transition  47823 non-null  object        \n",
      " 7   event time:timestamp        47823 non-null  datetime64[ns]\n",
      "dtypes: datetime64[ns](2), int64(4), object(2)\n",
      "memory usage: 2.9+ MB\n"
     ]
    }
   ],
   "source": [
    "# Running the notebook that adds the baseline predictions to df and df_test\n",
    "%run -i \"Baseline Prediction Tool.ipynb\""
   ]
  },
  {
   "cell_type": "code",
   "execution_count": 109,
   "metadata": {},
   "outputs": [],
   "source": []
  },
  {
   "cell_type": "code",
   "execution_count": 109,
   "outputs": [],
   "source": [],
   "metadata": {
    "collapsed": false,
    "pycharm": {
     "name": "#%%\n"
    }
   }
  },
  {
   "cell_type": "code",
   "execution_count": 110,
   "metadata": {},
   "outputs": [
    {
     "data": {
      "text/plain": "(64.9130980638327, 64.06370976661874)"
     },
     "execution_count": 110,
     "metadata": {},
     "output_type": "execute_result"
    }
   ],
   "source": [
    "# Accuracy % of the baseline event predictions:\n",
    "\n",
    "training_event_accuracy = len(df[(df[baseline_next_event_column].shift(periods=1)==df[event_column]) & (df[case_column].shift(periods=1) == df[case_column])]) * 100 / len(df[df[case_column].shift(periods=1) == df[case_column]])\n",
    "\n",
    "test_event_accuracy = len(df_test[(df_test[baseline_next_event_column].shift(periods=1)==df_test[event_column]) & (df_test[case_column].shift(periods=1) == df_test[case_column])]) * 100 / len(df_test[df_test[case_column].shift(periods=1) == df_test[case_column]])\n",
    "\n",
    "training_event_accuracy, test_event_accuracy"
   ]
  },
  {
   "cell_type": "code",
   "execution_count": 111,
   "metadata": {},
   "outputs": [
    {
     "data": {
      "text/plain": "(Timedelta('0 days 16:20:59.739888261'),\n Timedelta('0 days 14:43:13.416911984'))"
     },
     "execution_count": 111,
     "metadata": {},
     "output_type": "execute_result"
    }
   ],
   "source": [
    "# Mean Absolute Error of the baseline time predictions:\n",
    "\n",
    "training_time_MAE = abs(df[timestamp_column] - df[baseline_next_timestamp_column].shift(periods=1))[df[case_column].shift(periods=1) == df[case_column]].mean()\n",
    "\n",
    "test_time_MAE = abs(df_test[timestamp_column] - df_test[baseline_next_timestamp_column].shift(periods=1))[df_test[case_column].shift(periods=1) == df_test[case_column]].mean()\n",
    "\n",
    "training_time_MAE, test_time_MAE"
   ]
  },
  {
   "cell_type": "code",
   "execution_count": 112,
   "metadata": {},
   "outputs": [
    {
     "name": "stderr",
     "output_type": "stream",
     "text": [
      "C:\\Users\\20203666\\AppData\\Local\\Temp/ipykernel_16208/3488171749.py:15: SettingWithCopyWarning: \n",
      "A value is trying to be set on a copy of a slice from a DataFrame.\n",
      "Try using .loc[row_indexer,col_indexer] = value instead\n",
      "\n",
      "See the caveats in the documentation: https://pandas.pydata.org/pandas-docs/stable/user_guide/indexing.html#returning-a-view-versus-a-copy\n",
      "  dataset[row_nr_column] = dataset.index\n",
      "C:\\Users\\20203666\\AppData\\Local\\Temp/ipykernel_16208/3488171749.py:16: SettingWithCopyWarning: \n",
      "A value is trying to be set on a copy of a slice from a DataFrame.\n",
      "Try using .loc[row_indexer,col_indexer] = value instead\n",
      "\n",
      "See the caveats in the documentation: https://pandas.pydata.org/pandas-docs/stable/user_guide/indexing.html#returning-a-view-versus-a-copy\n",
      "  dataset_test[row_nr_column] = dataset_test.index\n",
      "C:\\Users\\20203666\\AppData\\Local\\Temp/ipykernel_16208/3488171749.py:20: SettingWithCopyWarning: \n",
      "A value is trying to be set on a copy of a slice from a DataFrame.\n",
      "Try using .loc[row_indexer,col_indexer] = value instead\n",
      "\n",
      "See the caveats in the documentation: https://pandas.pydata.org/pandas-docs/stable/user_guide/indexing.html#returning-a-view-versus-a-copy\n",
      "  dataset[amount_column] = [round(x,-4) for x in dataset[amount_column]]\n",
      "C:\\Users\\20203666\\AppData\\Local\\Temp/ipykernel_16208/3488171749.py:21: SettingWithCopyWarning: \n",
      "A value is trying to be set on a copy of a slice from a DataFrame.\n",
      "Try using .loc[row_indexer,col_indexer] = value instead\n",
      "\n",
      "See the caveats in the documentation: https://pandas.pydata.org/pandas-docs/stable/user_guide/indexing.html#returning-a-view-versus-a-copy\n",
      "  dataset_test[amount_column] = [round(x,-4) for x in dataset_test[amount_column]]\n"
     ]
    },
    {
     "name": "stdout",
     "output_type": "stream",
     "text": [
      "   case concept:name      event concept:name event lifecycle:transition  \\\n",
      "0             173688             A_SUBMITTED                   COMPLETE   \n",
      "1             173688       A_PARTLYSUBMITTED                   COMPLETE   \n",
      "2             173688           A_PREACCEPTED                   COMPLETE   \n",
      "3             173688  W_Completeren aanvraag                   SCHEDULE   \n",
      "4             173691             A_SUBMITTED                   COMPLETE   \n",
      "\n",
      "   case AMOUNT_REQ  row_nr  \n",
      "0            20000       0  \n",
      "1            20000       1  \n",
      "2            20000       2  \n",
      "3            20000       3  \n",
      "4                0       4  \n",
      "dict: Elapsed time during the whole program in seconds: 13.265625\n",
      "train accuracy:0.8166329913490398\n",
      "length df = 214377, length predictions = 214377\n",
      "test accuracy:0.8156398628470302\n",
      "length df = 47823, length predictions = 47823\n"
     ]
    }
   ],
   "source": [
    "# Running the notebook that adds the on-the-fly event prediction to df and df_test\n",
    "df = df.sort_values([index_column])\n",
    "df.reset_index(inplace=True, drop=True)\n",
    "df_test = df_test.sort_values([index_column])\n",
    "df_test.reset_index(inplace=True, drop=True)\n",
    "%run -i \"event_onTheFly.ipynb\""
   ]
  },
  {
   "cell_type": "code",
   "execution_count": 120,
   "outputs": [
    {
     "name": "stdout",
     "output_type": "stream",
     "text": [
      "train accuracy event on the fly: 81.66329913490398\n",
      "test accuracy event on the fly: 81.56398628470302\n"
     ]
    }
   ],
   "source": [
    "print(f'train accuracy event on the fly: {train_acc_event_otf*100}') # does still run because is in event_onthefly.ipynb\n",
    "print(f'test accuracy event on the fly: {test_acc_event_otf*100}')"
   ],
   "metadata": {
    "collapsed": false,
    "pycharm": {
     "name": "#%%\n"
    }
   }
  },
  {
   "cell_type": "code",
   "execution_count": 114,
   "metadata": {},
   "outputs": [],
   "source": [
    "#df = df.sort_values(by=[case_column, timestamp_column]).reset_index(drop=True)\n",
    "#df_test = df_test.sort_values(by=[case_column, timestamp_column]).reset_index(drop=True)\n",
    "\n",
    "#training_event_accuracy = len(df[(df[pred_event_otf].shift(periods=1)==df[event_column]) & (df[case_column].shift(periods=1) == df[case_column])]) * 100 / len(df[df[case_column].shift(periods=1) == df[case_column]])\n",
    "\n",
    "#test_event_accuracy = len(df_test[(df_test[pred_event_otf].shift(periods=1)==df_test[event_column]) & (df_test[case_column].shift(periods=1) == df_test[case_column])]) * 100 / len(df_test[df_test[case_column].shift(periods=1) == df_test[case_column]])\n",
    "\n",
    "#training_event_accuracy, test_event_accuracy\n"
   ]
  },
  {
   "cell_type": "code",
   "execution_count": 114,
   "outputs": [],
   "source": [],
   "metadata": {
    "collapsed": false,
    "pycharm": {
     "name": "#%%\n"
    }
   }
  },
  {
   "cell_type": "code",
   "execution_count": 115,
   "metadata": {},
   "outputs": [],
   "source": [
    "# Accuracy % of the on-the-fly event predictions:\n",
    "\n",
    "# training_event_accuracy = len(df[(df[baseline_next_event_column].shift(periods=1)==df[event_column]) & (df[case_column].shift(periods=1) == df[case_column])]) * 100 / len(df[df[case_column].shift(periods=1) == df[case_column]])\n",
    "\n",
    "# test_event_accuracy = len(df_test[(df_test[baseline_next_event_column].shift(periods=1)==df_test[event_column]) & (df_test[case_column].shift(periods=1) == df_test[case_column])]) * 100 / len(df_test[df_test[case_column].shift(periods=1) == df_test[case_column]])\n",
    "\n",
    "# training_event_accuracy, test_event_accuracy"
   ]
  },
  {
   "cell_type": "code",
   "execution_count": 116,
   "metadata": {},
   "outputs": [
    {
     "name": "stdout",
     "output_type": "stream",
     "text": [
      "   case concept:name      event concept:name    event time:timestamp  \\\n",
      "0             173688             A_SUBMITTED 2011-10-01 00:38:44.546   \n",
      "1             173688       A_PARTLYSUBMITTED 2011-10-01 00:38:44.880   \n",
      "2             173688           A_PREACCEPTED 2011-10-01 00:39:37.906   \n",
      "3             173688  W_Completeren aanvraag 2011-10-01 00:39:38.875   \n",
      "4             173691             A_SUBMITTED 2011-10-01 08:08:58.256   \n",
      "\n",
      "  event lifecycle:transition  row_nr  \n",
      "0                   COMPLETE       0  \n",
      "1                   COMPLETE       1  \n",
      "2                   COMPLETE       2  \n",
      "3                   SCHEDULE       3  \n",
      "4                   COMPLETE       4  \n"
     ]
    },
    {
     "name": "stderr",
     "output_type": "stream",
     "text": [
      "C:\\Users\\20203666\\AppData\\Local\\Temp/ipykernel_16208/1376477422.py:23: SettingWithCopyWarning: \n",
      "A value is trying to be set on a copy of a slice from a DataFrame.\n",
      "Try using .loc[row_indexer,col_indexer] = value instead\n",
      "\n",
      "See the caveats in the documentation: https://pandas.pydata.org/pandas-docs/stable/user_guide/indexing.html#returning-a-view-versus-a-copy\n",
      "  dataset[row_nr_column] = dataset.index\n",
      "C:\\Users\\20203666\\AppData\\Local\\Temp/ipykernel_16208/1376477422.py:24: SettingWithCopyWarning: \n",
      "A value is trying to be set on a copy of a slice from a DataFrame.\n",
      "Try using .loc[row_indexer,col_indexer] = value instead\n",
      "\n",
      "See the caveats in the documentation: https://pandas.pydata.org/pandas-docs/stable/user_guide/indexing.html#returning-a-view-versus-a-copy\n",
      "  dataset_test[row_nr_column] = dataset_test.index\n",
      "C:\\ProgramData\\Anaconda3\\envs\\my_env\\lib\\site-packages\\pandas\\core\\indexing.py:1773: SettingWithCopyWarning: \n",
      "A value is trying to be set on a copy of a slice from a DataFrame.\n",
      "Try using .loc[row_indexer,col_indexer] = value instead\n",
      "\n",
      "See the caveats in the documentation: https://pandas.pydata.org/pandas-docs/stable/user_guide/indexing.html#returning-a-view-versus-a-copy\n",
      "  self._setitem_single_column(ilocs[0], value, pi)\n",
      "C:\\ProgramData\\Anaconda3\\envs\\my_env\\lib\\site-packages\\pandas\\core\\indexing.py:1773: SettingWithCopyWarning: \n",
      "A value is trying to be set on a copy of a slice from a DataFrame.\n",
      "Try using .loc[row_indexer,col_indexer] = value instead\n",
      "\n",
      "See the caveats in the documentation: https://pandas.pydata.org/pandas-docs/stable/user_guide/indexing.html#returning-a-view-versus-a-copy\n",
      "  self._setitem_single_column(ilocs[0], value, pi)\n"
     ]
    },
    {
     "name": "stdout",
     "output_type": "stream",
     "text": [
      "dict: Elapsed time during the whole program in seconds: 55.6875\n"
     ]
    },
    {
     "name": "stderr",
     "output_type": "stream",
     "text": [
      "C:\\Users\\20203666\\AppData\\Local\\Temp/ipykernel_16208/2674699106.py:14: RuntimeWarning: divide by zero encountered in log2\n",
      "  error_df['log_predictionError'] = [np.log2(x) for x in error_df['predictionError']]\n"
     ]
    },
    {
     "name": "stdout",
     "output_type": "stream",
     "text": [
      "The mean absolute error on the training-set is: 725.8 minutes.\n",
      "dict: Elapsed time during the whole program on the testset in seconds: 3.734375\n",
      "The mean absolute error on the test-set is: 619.86 minutes.\n",
      "                         event_column               timestamp  \\\n",
      "0        A_SUBMITTED_XX_COMPLETE_XX_0 2012-02-03 17:17:11.047   \n",
      "1  A_PARTLYSUBMITTED_XX_COMPLETE_XX_0 2012-02-03 17:17:11.323   \n",
      "3        A_SUBMITTED_XX_COMPLETE_XX_0 2012-02-03 17:23:41.949   \n",
      "4  A_PARTLYSUBMITTED_XX_COMPLETE_XX_0 2012-02-03 17:23:42.504   \n",
      "5      A_PREACCEPTED_XX_COMPLETE_XX_0 2012-02-03 17:24:23.379   \n",
      "\n",
      "   predictionError  predictionErrorRatio  predictedTimePassed  timePassed  \\\n",
      "0         0.004439              0.964925             0.009039    0.004600   \n",
      "1         0.008243              0.015630             0.535593    0.527350   \n",
      "3         0.000655              0.070834             0.008595    0.009250   \n",
      "4         0.146482              0.215019             0.534768    0.681250   \n",
      "5         0.002926              0.260872             0.008291    0.011217   \n",
      "\n",
      "  event_column_basic  log_predictionError  \n",
      "0        A_SUBMITTED            -7.815662  \n",
      "1  A_PARTLYSUBMITTED            -6.922686  \n",
      "3        A_SUBMITTED           -10.575755  \n",
      "4  A_PARTLYSUBMITTED            -2.771208  \n",
      "5      A_PREACCEPTED            -8.416799  \n"
     ]
    }
   ],
   "source": [
    "# Running the notebook that adds the on-the-fly event prediction to df and df_test\n",
    "%run -i \"timePrediction_onTheFly.ipynb\" # Takes around 2 minutes to run"
   ]
  },
  {
   "cell_type": "code",
   "execution_count": 117,
   "metadata": {},
   "outputs": [
    {
     "data": {
      "text/plain": "   index    eventID   case concept:name       case REG_DATE  case AMOUNT_REQ  \\\n0      0           0             173688 2011-10-01 00:38:44            20000   \n1      1           1             173688 2011-10-01 00:38:44            20000   \n2      2           2             173688 2011-10-01 00:38:44            20000   \n3      3           3             173688 2011-10-01 00:38:44            20000   \n4      4  4294967296             173691 2011-10-01 08:08:58             5000   \n5      5  4294967297             173691 2011-10-01 08:08:58             5000   \n6      6  4294967298             173691 2011-10-01 08:08:58             5000   \n7      7  4294967299             173691 2011-10-01 08:08:58             5000   \n8      8  8589934592             173694 2011-10-01 08:10:30             7000   \n9      9  8589934593             173694 2011-10-01 08:10:30             7000   \n\n       event concept:name event lifecycle:transition    event time:timestamp  \\\n0             A_SUBMITTED                   COMPLETE 2011-10-01 00:38:44.546   \n1       A_PARTLYSUBMITTED                   COMPLETE 2011-10-01 00:38:44.880   \n2           A_PREACCEPTED                   COMPLETE 2011-10-01 00:39:37.906   \n3  W_Completeren aanvraag                   SCHEDULE 2011-10-01 00:39:38.875   \n4             A_SUBMITTED                   COMPLETE 2011-10-01 08:08:58.256   \n5       A_PARTLYSUBMITTED                   COMPLETE 2011-10-01 08:09:02.195   \n6           A_PREACCEPTED                   COMPLETE 2011-10-01 08:09:56.648   \n7  W_Completeren aanvraag                   SCHEDULE 2011-10-01 08:09:59.578   \n8             A_SUBMITTED                   COMPLETE 2011-10-01 08:10:30.287   \n9       A_PARTLYSUBMITTED                   COMPLETE 2011-10-01 08:10:30.591   \n\n   Position Baseline Prediction for Next Activity  \\\n0         1                     A_PARTLYSUBMITTED   \n1         2                    W_Afhandelen leads   \n2         3                W_Completeren aanvraag   \n3         4                W_Completeren aanvraag   \n4         1                     A_PARTLYSUBMITTED   \n5         2                    W_Afhandelen leads   \n6         3                W_Completeren aanvraag   \n7         4                W_Completeren aanvraag   \n8         1                     A_PARTLYSUBMITTED   \n9         2                    W_Afhandelen leads   \n\n  Baseline Prediction for Next Timestamp       pred_event_otf  \n0          2011-10-01 00:38:45.128640462  W_Nabellen offertes  \n1          2011-10-01 00:39:19.982779539  W_Nabellen offertes  \n2          2011-10-01 00:39:38.408771753  W_Nabellen offertes  \n3          2011-10-01 17:58:08.032379243  W_Nabellen offertes  \n4          2011-10-01 08:08:58.838640462  W_Nabellen offertes  \n5          2011-10-01 08:09:37.297779539  W_Nabellen offertes  \n6          2011-10-01 08:09:57.150771753  W_Nabellen offertes  \n7          2011-10-02 01:28:28.735379243  W_Nabellen offertes  \n8          2011-10-01 08:10:30.869640462  W_Nabellen offertes  \n9          2011-10-01 08:11:05.693779539  W_Nabellen offertes  ",
      "text/html": "<div>\n<style scoped>\n    .dataframe tbody tr th:only-of-type {\n        vertical-align: middle;\n    }\n\n    .dataframe tbody tr th {\n        vertical-align: top;\n    }\n\n    .dataframe thead th {\n        text-align: right;\n    }\n</style>\n<table border=\"1\" class=\"dataframe\">\n  <thead>\n    <tr style=\"text-align: right;\">\n      <th></th>\n      <th>index</th>\n      <th>eventID</th>\n      <th>case concept:name</th>\n      <th>case REG_DATE</th>\n      <th>case AMOUNT_REQ</th>\n      <th>event concept:name</th>\n      <th>event lifecycle:transition</th>\n      <th>event time:timestamp</th>\n      <th>Position</th>\n      <th>Baseline Prediction for Next Activity</th>\n      <th>Baseline Prediction for Next Timestamp</th>\n      <th>pred_event_otf</th>\n    </tr>\n  </thead>\n  <tbody>\n    <tr>\n      <th>0</th>\n      <td>0</td>\n      <td>0</td>\n      <td>173688</td>\n      <td>2011-10-01 00:38:44</td>\n      <td>20000</td>\n      <td>A_SUBMITTED</td>\n      <td>COMPLETE</td>\n      <td>2011-10-01 00:38:44.546</td>\n      <td>1</td>\n      <td>A_PARTLYSUBMITTED</td>\n      <td>2011-10-01 00:38:45.128640462</td>\n      <td>W_Nabellen offertes</td>\n    </tr>\n    <tr>\n      <th>1</th>\n      <td>1</td>\n      <td>1</td>\n      <td>173688</td>\n      <td>2011-10-01 00:38:44</td>\n      <td>20000</td>\n      <td>A_PARTLYSUBMITTED</td>\n      <td>COMPLETE</td>\n      <td>2011-10-01 00:38:44.880</td>\n      <td>2</td>\n      <td>W_Afhandelen leads</td>\n      <td>2011-10-01 00:39:19.982779539</td>\n      <td>W_Nabellen offertes</td>\n    </tr>\n    <tr>\n      <th>2</th>\n      <td>2</td>\n      <td>2</td>\n      <td>173688</td>\n      <td>2011-10-01 00:38:44</td>\n      <td>20000</td>\n      <td>A_PREACCEPTED</td>\n      <td>COMPLETE</td>\n      <td>2011-10-01 00:39:37.906</td>\n      <td>3</td>\n      <td>W_Completeren aanvraag</td>\n      <td>2011-10-01 00:39:38.408771753</td>\n      <td>W_Nabellen offertes</td>\n    </tr>\n    <tr>\n      <th>3</th>\n      <td>3</td>\n      <td>3</td>\n      <td>173688</td>\n      <td>2011-10-01 00:38:44</td>\n      <td>20000</td>\n      <td>W_Completeren aanvraag</td>\n      <td>SCHEDULE</td>\n      <td>2011-10-01 00:39:38.875</td>\n      <td>4</td>\n      <td>W_Completeren aanvraag</td>\n      <td>2011-10-01 17:58:08.032379243</td>\n      <td>W_Nabellen offertes</td>\n    </tr>\n    <tr>\n      <th>4</th>\n      <td>4</td>\n      <td>4294967296</td>\n      <td>173691</td>\n      <td>2011-10-01 08:08:58</td>\n      <td>5000</td>\n      <td>A_SUBMITTED</td>\n      <td>COMPLETE</td>\n      <td>2011-10-01 08:08:58.256</td>\n      <td>1</td>\n      <td>A_PARTLYSUBMITTED</td>\n      <td>2011-10-01 08:08:58.838640462</td>\n      <td>W_Nabellen offertes</td>\n    </tr>\n    <tr>\n      <th>5</th>\n      <td>5</td>\n      <td>4294967297</td>\n      <td>173691</td>\n      <td>2011-10-01 08:08:58</td>\n      <td>5000</td>\n      <td>A_PARTLYSUBMITTED</td>\n      <td>COMPLETE</td>\n      <td>2011-10-01 08:09:02.195</td>\n      <td>2</td>\n      <td>W_Afhandelen leads</td>\n      <td>2011-10-01 08:09:37.297779539</td>\n      <td>W_Nabellen offertes</td>\n    </tr>\n    <tr>\n      <th>6</th>\n      <td>6</td>\n      <td>4294967298</td>\n      <td>173691</td>\n      <td>2011-10-01 08:08:58</td>\n      <td>5000</td>\n      <td>A_PREACCEPTED</td>\n      <td>COMPLETE</td>\n      <td>2011-10-01 08:09:56.648</td>\n      <td>3</td>\n      <td>W_Completeren aanvraag</td>\n      <td>2011-10-01 08:09:57.150771753</td>\n      <td>W_Nabellen offertes</td>\n    </tr>\n    <tr>\n      <th>7</th>\n      <td>7</td>\n      <td>4294967299</td>\n      <td>173691</td>\n      <td>2011-10-01 08:08:58</td>\n      <td>5000</td>\n      <td>W_Completeren aanvraag</td>\n      <td>SCHEDULE</td>\n      <td>2011-10-01 08:09:59.578</td>\n      <td>4</td>\n      <td>W_Completeren aanvraag</td>\n      <td>2011-10-02 01:28:28.735379243</td>\n      <td>W_Nabellen offertes</td>\n    </tr>\n    <tr>\n      <th>8</th>\n      <td>8</td>\n      <td>8589934592</td>\n      <td>173694</td>\n      <td>2011-10-01 08:10:30</td>\n      <td>7000</td>\n      <td>A_SUBMITTED</td>\n      <td>COMPLETE</td>\n      <td>2011-10-01 08:10:30.287</td>\n      <td>1</td>\n      <td>A_PARTLYSUBMITTED</td>\n      <td>2011-10-01 08:10:30.869640462</td>\n      <td>W_Nabellen offertes</td>\n    </tr>\n    <tr>\n      <th>9</th>\n      <td>9</td>\n      <td>8589934593</td>\n      <td>173694</td>\n      <td>2011-10-01 08:10:30</td>\n      <td>7000</td>\n      <td>A_PARTLYSUBMITTED</td>\n      <td>COMPLETE</td>\n      <td>2011-10-01 08:10:30.591</td>\n      <td>2</td>\n      <td>W_Afhandelen leads</td>\n      <td>2011-10-01 08:11:05.693779539</td>\n      <td>W_Nabellen offertes</td>\n    </tr>\n  </tbody>\n</table>\n</div>"
     },
     "execution_count": 117,
     "metadata": {},
     "output_type": "execute_result"
    }
   ],
   "source": [
    "df.head(10)"
   ]
  },
  {
   "cell_type": "code",
   "execution_count": 118,
   "outputs": [],
   "source": [],
   "metadata": {
    "collapsed": false,
    "pycharm": {
     "name": "#%%\n"
    }
   }
  },
  {
   "cell_type": "code",
   "execution_count": 13,
   "metadata": {},
   "outputs": [],
   "source": [
    "# Mean Absolute Error of the on-the-fly time predictions:\n",
    "\n",
    "# training_time_MAE = abs(df[timestamp_column] - df[baseline_next_timestamp_column].shift(periods=1))[df[case_column].shift(periods=1) == df[case_column]].mean()\n",
    "\n",
    "# test_time_MAE = abs(df_test[timestamp_column] - df_test[baseline_next_timestamp_column].shift(periods=1))[df_test[case_column].shift(periods=1) == df_test[case_column]].mean()\n",
    "\n",
    "# training_time_MAE, test_time_MAE"
   ]
  },
  {
   "cell_type": "code",
   "execution_count": null,
   "metadata": {},
   "outputs": [],
   "source": []
  }
 ],
 "metadata": {
  "interpreter": {
   "hash": "450e333e9284914ea1fdff9838c0f3ff8e2f8f37f2f7a4d8dce33ea62376eaf6"
  },
  "kernelspec": {
   "display_name": "Python 3.9.7 ('base')",
   "language": "python",
   "name": "python3"
  },
  "language_info": {
   "codemirror_mode": {
    "name": "ipython",
    "version": 3
   },
   "file_extension": ".py",
   "mimetype": "text/x-python",
   "name": "python",
   "nbconvert_exporter": "python",
   "pygments_lexer": "ipython3",
   "version": "3.9.7"
  },
  "orig_nbformat": 4
 },
 "nbformat": 4,
 "nbformat_minor": 2
}