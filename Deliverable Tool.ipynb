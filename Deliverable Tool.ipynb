{
 "cells": [
  {
   "cell_type": "code",
   "execution_count": 1,
   "metadata": {},
   "outputs": [],
   "source": [
    "### GROUP 2 ###\n",
    "\n",
    "# B.J.T. Donkers - 1506897\n",
    "# S. van der Leek - 1564226\n",
    "# L. Sloot - 1365711\n",
    "# S. Diemel  - 1645749\n",
    "# A.E. Murariu - 1532081\n",
    "# Z.V. Petrov - 1554999"
   ]
  },
  {
   "cell_type": "code",
   "execution_count": 2,
   "metadata": {},
   "outputs": [],
   "source": [
    "# imports\n",
    "import pandas as pd\n",
    "import pm4py"
   ]
  },
  {
   "cell_type": "code",
   "execution_count": 3,
   "metadata": {},
   "outputs": [
    {
     "data": {
      "text/plain": "parsing log, completed traces ::   0%|          | 0/13087 [00:00<?, ?it/s]",
      "application/vnd.jupyter.widget-view+json": {
       "version_major": 2,
       "version_minor": 0,
       "model_id": "ffb42fbd80f84b37b52318120d4d6765"
      }
     },
     "metadata": {},
     "output_type": "display_data"
    },
    {
     "data": {
      "text/plain": "  org:resource lifecycle:transition            concept:name  \\\n0          112             COMPLETE             A_SUBMITTED   \n1          112             COMPLETE       A_PARTLYSUBMITTED   \n2          112             COMPLETE           A_PREACCEPTED   \n3          112             SCHEDULE  W_Completeren aanvraag   \n4          NaN                START  W_Completeren aanvraag   \n5        10862             COMPLETE              A_ACCEPTED   \n6        10862             COMPLETE              O_SELECTED   \n7        10862             COMPLETE             A_FINALIZED   \n8        10862             COMPLETE               O_CREATED   \n9        10862             COMPLETE                  O_SENT   \n\n                     time:timestamp                     case:REG_DATE  \\\n0  2011-10-01 00:38:44.546000+02:00  2011-10-01 00:38:44.546000+02:00   \n1  2011-10-01 00:38:44.880000+02:00  2011-10-01 00:38:44.546000+02:00   \n2  2011-10-01 00:39:37.906000+02:00  2011-10-01 00:38:44.546000+02:00   \n3  2011-10-01 00:39:38.875000+02:00  2011-10-01 00:38:44.546000+02:00   \n4  2011-10-01 11:36:46.437000+02:00  2011-10-01 00:38:44.546000+02:00   \n5  2011-10-01 11:42:43.308000+02:00  2011-10-01 00:38:44.546000+02:00   \n6  2011-10-01 11:45:09.243000+02:00  2011-10-01 00:38:44.546000+02:00   \n7  2011-10-01 11:45:09.243000+02:00  2011-10-01 00:38:44.546000+02:00   \n8  2011-10-01 11:45:11.197000+02:00  2011-10-01 00:38:44.546000+02:00   \n9  2011-10-01 11:45:11.380000+02:00  2011-10-01 00:38:44.546000+02:00   \n\n  case:concept:name case:AMOUNT_REQ  \n0            173688           20000  \n1            173688           20000  \n2            173688           20000  \n3            173688           20000  \n4            173688           20000  \n5            173688           20000  \n6            173688           20000  \n7            173688           20000  \n8            173688           20000  \n9            173688           20000  ",
      "text/html": "<div>\n<style scoped>\n    .dataframe tbody tr th:only-of-type {\n        vertical-align: middle;\n    }\n\n    .dataframe tbody tr th {\n        vertical-align: top;\n    }\n\n    .dataframe thead th {\n        text-align: right;\n    }\n</style>\n<table border=\"1\" class=\"dataframe\">\n  <thead>\n    <tr style=\"text-align: right;\">\n      <th></th>\n      <th>org:resource</th>\n      <th>lifecycle:transition</th>\n      <th>concept:name</th>\n      <th>time:timestamp</th>\n      <th>case:REG_DATE</th>\n      <th>case:concept:name</th>\n      <th>case:AMOUNT_REQ</th>\n    </tr>\n  </thead>\n  <tbody>\n    <tr>\n      <th>0</th>\n      <td>112</td>\n      <td>COMPLETE</td>\n      <td>A_SUBMITTED</td>\n      <td>2011-10-01 00:38:44.546000+02:00</td>\n      <td>2011-10-01 00:38:44.546000+02:00</td>\n      <td>173688</td>\n      <td>20000</td>\n    </tr>\n    <tr>\n      <th>1</th>\n      <td>112</td>\n      <td>COMPLETE</td>\n      <td>A_PARTLYSUBMITTED</td>\n      <td>2011-10-01 00:38:44.880000+02:00</td>\n      <td>2011-10-01 00:38:44.546000+02:00</td>\n      <td>173688</td>\n      <td>20000</td>\n    </tr>\n    <tr>\n      <th>2</th>\n      <td>112</td>\n      <td>COMPLETE</td>\n      <td>A_PREACCEPTED</td>\n      <td>2011-10-01 00:39:37.906000+02:00</td>\n      <td>2011-10-01 00:38:44.546000+02:00</td>\n      <td>173688</td>\n      <td>20000</td>\n    </tr>\n    <tr>\n      <th>3</th>\n      <td>112</td>\n      <td>SCHEDULE</td>\n      <td>W_Completeren aanvraag</td>\n      <td>2011-10-01 00:39:38.875000+02:00</td>\n      <td>2011-10-01 00:38:44.546000+02:00</td>\n      <td>173688</td>\n      <td>20000</td>\n    </tr>\n    <tr>\n      <th>4</th>\n      <td>NaN</td>\n      <td>START</td>\n      <td>W_Completeren aanvraag</td>\n      <td>2011-10-01 11:36:46.437000+02:00</td>\n      <td>2011-10-01 00:38:44.546000+02:00</td>\n      <td>173688</td>\n      <td>20000</td>\n    </tr>\n    <tr>\n      <th>5</th>\n      <td>10862</td>\n      <td>COMPLETE</td>\n      <td>A_ACCEPTED</td>\n      <td>2011-10-01 11:42:43.308000+02:00</td>\n      <td>2011-10-01 00:38:44.546000+02:00</td>\n      <td>173688</td>\n      <td>20000</td>\n    </tr>\n    <tr>\n      <th>6</th>\n      <td>10862</td>\n      <td>COMPLETE</td>\n      <td>O_SELECTED</td>\n      <td>2011-10-01 11:45:09.243000+02:00</td>\n      <td>2011-10-01 00:38:44.546000+02:00</td>\n      <td>173688</td>\n      <td>20000</td>\n    </tr>\n    <tr>\n      <th>7</th>\n      <td>10862</td>\n      <td>COMPLETE</td>\n      <td>A_FINALIZED</td>\n      <td>2011-10-01 11:45:09.243000+02:00</td>\n      <td>2011-10-01 00:38:44.546000+02:00</td>\n      <td>173688</td>\n      <td>20000</td>\n    </tr>\n    <tr>\n      <th>8</th>\n      <td>10862</td>\n      <td>COMPLETE</td>\n      <td>O_CREATED</td>\n      <td>2011-10-01 11:45:11.197000+02:00</td>\n      <td>2011-10-01 00:38:44.546000+02:00</td>\n      <td>173688</td>\n      <td>20000</td>\n    </tr>\n    <tr>\n      <th>9</th>\n      <td>10862</td>\n      <td>COMPLETE</td>\n      <td>O_SENT</td>\n      <td>2011-10-01 11:45:11.380000+02:00</td>\n      <td>2011-10-01 00:38:44.546000+02:00</td>\n      <td>173688</td>\n      <td>20000</td>\n    </tr>\n  </tbody>\n</table>\n</div>"
     },
     "execution_count": 3,
     "metadata": {},
     "output_type": "execute_result"
    }
   ],
   "source": [
    "# read the data (2012)\n",
    "df_total = pm4py.convert_to_dataframe(pm4py.read_xes(\"data/BPI_Challenge_2012.xes\"))\n",
    "\n",
    "# read the data (road traffic fines)\n",
    "# df = pd.read_csv('data/Road_Traffic_Fine_Management_Process-training.csv')\n",
    "\n",
    "# read the data (2017)\n",
    "# df = pd.read_csv('data/BPI Challenge 2017-training.csv')\n",
    "\n",
    "# read the data (2018)\n",
    "# df = pd.read_csv('data/BPI Challenge 2018-training.csv')\n",
    "\n",
    "df_total.head(10)"
   ]
  },
  {
   "cell_type": "code",
   "execution_count": 4,
   "metadata": {},
   "outputs": [],
   "source": [
    "# Percentage cut-off points for training, validation and testing datasets\n",
    "training_percentage = 0.70 \n",
    "validation_percentage = 0.80\n",
    "\n",
    "# Defining database-specific variables\n",
    "case_column = \"case:concept:name\"\n",
    "registration_time_column = \"case:REG_DATE\"\n",
    "event_column = \"concept:name\"\n",
    "timestamp_column = \"time:timestamp\"\n",
    "amount_column = 'case:AMOUNT_REQ'\n",
    "row_nr_column = 'row_nr'\n",
    "index_column = \"index\"\n",
    "# timeformat_registration = \"%Y-%m-%dT%H:%M:%S\" # new time format\n",
    "# timeformat_timestamp = \"%d-%m-%Y %H:%M:%S.%f\"\n",
    "lifecycle_column = 'lifecycle:transition' # additional info for the timePrediction_onTheFly, set to None if you don't want to use it\n",
    "amount_column_in_data = True\n",
    "\n",
    "# Names of new columns we will add in the notebooks\n",
    "position_column = \"Position\" # added in this tool notebook\n",
    "baseline_la_next_event_column = \"Baseline Last Event Prediction for Next Activity\" # added in the baseline notebook\n",
    "baseline_la_next_timestamp_column = \"Baseline Last Event Prediction for Next Timestamp\" # added in the baseline notebook\n",
    "baseline_pos_next_event_column = \"Baseline Last Pos Prediction for Next Activity\" # added in the baseline notebook\n",
    "baseline_pos_next_timestamp_column = \"Baseline Last Pos Prediction for Next Timestamp\" # added in the baseline notebook\n",
    "pred_event_otf = \"OTF Prediction for Next Activity\" # added by event_onthefly notebook\n",
    "otf_next_timestamp_column = \"OnTheFly Prediction for Next Timestamp\" # added by the timePrediction_onTheFly notebook"
   ]
  },
  {
   "cell_type": "code",
   "execution_count": 5,
   "metadata": {},
   "outputs": [],
   "source": [
    "# Basic data preprocessing of the timestamps and reg dates\n",
    "df_total[timestamp_column] = [pd.Timestamp(time) for time in df_total[timestamp_column]]\n",
    "df_total[registration_time_column]= [pd.Timestamp(reg_time) for reg_time in df_total[registration_time_column]]\n",
    "df_total = df_total.sort_values(by=[case_column, timestamp_column]) # sort values by user and time of event\n",
    "\n",
    "#df_total.head(10)"
   ]
  },
  {
   "cell_type": "code",
   "execution_count": 6,
   "metadata": {},
   "outputs": [],
   "source": [
    "# We fill in the Position column that shows which position is a certain event in the trace (the first event is 1)\n",
    "df_total[position_column] = df_total.groupby([case_column]).cumcount()+1\n",
    "\n",
    "#df_total.head(10)"
   ]
  },
  {
   "cell_type": "code",
   "execution_count": 7,
   "metadata": {},
   "outputs": [
    {
     "data": {
      "text/plain": "(Timestamp('2012-01-26 11:14:40.465000+0100', tz='UTC+01:00'),\n Timestamp('2012-02-09 15:41:26.559000+0100', tz='UTC+01:00'))"
     },
     "execution_count": 7,
     "metadata": {},
     "output_type": "execute_result"
    }
   ],
   "source": [
    "df_total = df_total.sort_values(by=[timestamp_column])\n",
    "\n",
    "training_cutoff_timestamp = df_total.iloc[[int(training_percentage*len(df_total))]].iloc[0][timestamp_column]\n",
    "validation_cutoff_timestamp = df_total.iloc[[int(validation_percentage*len(df_total))]].iloc[0][timestamp_column]\n",
    "\n",
    "(training_cutoff_timestamp, validation_cutoff_timestamp)"
   ]
  },
  {
   "cell_type": "code",
   "execution_count": 8,
   "metadata": {},
   "outputs": [
    {
     "data": {
      "text/plain": "1378"
     },
     "execution_count": 8,
     "metadata": {},
     "output_type": "execute_result"
    }
   ],
   "source": [
    "# dictionary to store whether each case has an event that occured before and or after the cutoff timestamps\n",
    "\n",
    "dict_overlapping_cases = {}\n",
    "\n",
    "def find_overlapping_cases(case, timestamp):\n",
    "    templist = [timestamp < training_cutoff_timestamp, timestamp > training_cutoff_timestamp, timestamp < validation_cutoff_timestamp, timestamp > validation_cutoff_timestamp]\n",
    "    if (case in dict_overlapping_cases):\n",
    "        dict_overlapping_cases[case] = [(a or b) for a,b in zip(templist, dict_overlapping_cases[case])]\n",
    "    else:\n",
    "        dict_overlapping_cases[case] = templist\n",
    "\n",
    "[find_overlapping_cases(case,time) for case,time in zip(df_total[case_column],df_total[timestamp_column])]\n",
    "\n",
    "def case_overlaps_a_timestamp(case):\n",
    "    return (dict_overlapping_cases[case][0] and dict_overlapping_cases[case][1]) or (dict_overlapping_cases[case][2] and dict_overlapping_cases[case][3])\n",
    "\n",
    "list_overlapping_cases = [case for case in dict_overlapping_cases.keys() if case_overlaps_a_timestamp(case)]\n",
    "len(list_overlapping_cases)"
   ]
  },
  {
   "cell_type": "code",
   "execution_count": 9,
   "metadata": {},
   "outputs": [
    {
     "data": {
      "text/plain": "(262200, 161548, 5198, 37781)"
     },
     "execution_count": 9,
     "metadata": {},
     "output_type": "execute_result"
    }
   ],
   "source": [
    "# splitting the data and removing all events belonging to cases that overlap the cutoff timestamps\n",
    "\n",
    "df = df_total.iloc[:int(training_percentage*len(df_total))]\n",
    "df_validation = df_total.iloc[int(training_percentage*len(df_total)):int(validation_percentage*len(df_total))]\n",
    "df_test = df_total.iloc[int(validation_percentage*len(df_total)):]\n",
    "\n",
    "df = df[[(case not in list_overlapping_cases) for case in df[case_column]]]\n",
    "df_validation = df_validation[[(case not in list_overlapping_cases) for case in df_validation[case_column]]]\n",
    "df_test = df_test[[(case not in list_overlapping_cases) for case in df_test[case_column]]]\n",
    "\n",
    "# without removing overlapping events: (262200, 183540, 26220, 52440)\n",
    "# with removing overlapping events: (262200, 161548, 5198, 37781)\n",
    "(len(df_total),len(df),len(df_validation),len(df_test)) "
   ]
  },
  {
   "cell_type": "code",
   "execution_count": 10,
   "metadata": {},
   "outputs": [],
   "source": [
    "### this cell is not allowed here\n",
    "\n",
    "df = df.sort_values(by=[case_column, timestamp_column])\n",
    "df_validation = df_validation.sort_values(by=[case_column, timestamp_column])\n",
    "df_test = df_test.sort_values(by=[case_column, timestamp_column])"
   ]
  },
  {
   "cell_type": "code",
   "execution_count": 25,
   "metadata": {},
   "outputs": [
    {
     "ename": "TypeError",
     "evalue": "Timestamp subtraction must have the same timezones or no timezones",
     "output_type": "error",
     "traceback": [
      "\u001B[1;31m---------------------------------------------------------------------------\u001B[0m",
      "\u001B[1;31mTypeError\u001B[0m                                 Traceback (most recent call last)",
      "\u001B[1;32m~\\Documents\\GitHub\\Process_Mining\\Baseline Prediction Tool.ipynb\u001B[0m in \u001B[0;36m<module>\u001B[1;34m\u001B[0m\n\u001B[0;32m      1\u001B[0m \u001B[1;31m# Code Explanation: We subtract the timestamps and then shift the results up so the difference from n to n+1 is on row n.\u001B[0m\u001B[1;33m\u001B[0m\u001B[1;33m\u001B[0m\u001B[0m\n\u001B[0;32m      2\u001B[0m \u001B[1;31m# Only if both events are in the same trace should include the row in the mean() calculation.\u001B[0m\u001B[1;33m\u001B[0m\u001B[1;33m\u001B[0m\u001B[0m\n\u001B[1;32m----> 3\u001B[1;33m \u001B[0mshifted_deltatimes\u001B[0m \u001B[1;33m=\u001B[0m \u001B[0mdf\u001B[0m\u001B[1;33m[\u001B[0m\u001B[0mtimestamp_column\u001B[0m\u001B[1;33m]\u001B[0m\u001B[1;33m.\u001B[0m\u001B[0mdiff\u001B[0m\u001B[1;33m(\u001B[0m\u001B[1;33m)\u001B[0m\u001B[1;33m.\u001B[0m\u001B[0mshift\u001B[0m\u001B[1;33m(\u001B[0m\u001B[0mperiods\u001B[0m\u001B[1;33m=\u001B[0m\u001B[1;33m-\u001B[0m\u001B[1;36m1\u001B[0m\u001B[1;33m)\u001B[0m\u001B[1;33m[\u001B[0m\u001B[0mdf\u001B[0m\u001B[1;33m[\u001B[0m\u001B[0mcase_column\u001B[0m\u001B[1;33m]\u001B[0m\u001B[1;33m.\u001B[0m\u001B[0mshift\u001B[0m\u001B[1;33m(\u001B[0m\u001B[0mperiods\u001B[0m\u001B[1;33m=\u001B[0m\u001B[1;33m-\u001B[0m\u001B[1;36m1\u001B[0m\u001B[1;33m)\u001B[0m \u001B[1;33m==\u001B[0m \u001B[0mdf\u001B[0m\u001B[1;33m[\u001B[0m\u001B[0mcase_column\u001B[0m\u001B[1;33m]\u001B[0m\u001B[1;33m]\u001B[0m\u001B[1;33m\u001B[0m\u001B[1;33m\u001B[0m\u001B[0m\n\u001B[0m\u001B[0;32m      4\u001B[0m \u001B[1;33m\u001B[0m\u001B[0m\n\u001B[0;32m      5\u001B[0m \u001B[1;31m# The mean() function will return NaT if the input is empty, we replace this with pd.Timedelta(0)\u001B[0m\u001B[1;33m\u001B[0m\u001B[1;33m\u001B[0m\u001B[0m\n",
      "\u001B[1;32mC:\\ProgramData\\Anaconda3\\envs\\my_env\\lib\\site-packages\\pandas\\core\\series.py\u001B[0m in \u001B[0;36mdiff\u001B[1;34m(self, periods)\u001B[0m\n\u001B[0;32m   2646\u001B[0m         \u001B[1;33m{\u001B[0m\u001B[0mexamples\u001B[0m\u001B[1;33m}\u001B[0m\u001B[1;33m\u001B[0m\u001B[1;33m\u001B[0m\u001B[0m\n\u001B[0;32m   2647\u001B[0m         \"\"\"\n\u001B[1;32m-> 2648\u001B[1;33m         \u001B[0mresult\u001B[0m \u001B[1;33m=\u001B[0m \u001B[0malgorithms\u001B[0m\u001B[1;33m.\u001B[0m\u001B[0mdiff\u001B[0m\u001B[1;33m(\u001B[0m\u001B[0mself\u001B[0m\u001B[1;33m.\u001B[0m\u001B[0m_values\u001B[0m\u001B[1;33m,\u001B[0m \u001B[0mperiods\u001B[0m\u001B[1;33m)\u001B[0m\u001B[1;33m\u001B[0m\u001B[1;33m\u001B[0m\u001B[0m\n\u001B[0m\u001B[0;32m   2649\u001B[0m         return self._constructor(result, index=self.index).__finalize__(\n\u001B[0;32m   2650\u001B[0m             \u001B[0mself\u001B[0m\u001B[1;33m,\u001B[0m \u001B[0mmethod\u001B[0m\u001B[1;33m=\u001B[0m\u001B[1;34m\"diff\"\u001B[0m\u001B[1;33m\u001B[0m\u001B[1;33m\u001B[0m\u001B[0m\n",
      "\u001B[1;32mC:\\ProgramData\\Anaconda3\\envs\\my_env\\lib\\site-packages\\pandas\\core\\algorithms.py\u001B[0m in \u001B[0;36mdiff\u001B[1;34m(arr, n, axis, stacklevel)\u001B[0m\n\u001B[0;32m   1709\u001B[0m         \u001B[0mlag_indexer\u001B[0m \u001B[1;33m=\u001B[0m \u001B[0mtuple\u001B[0m\u001B[1;33m(\u001B[0m\u001B[0m_lag_indexer\u001B[0m\u001B[1;33m)\u001B[0m\u001B[1;33m\u001B[0m\u001B[1;33m\u001B[0m\u001B[0m\n\u001B[0;32m   1710\u001B[0m \u001B[1;33m\u001B[0m\u001B[0m\n\u001B[1;32m-> 1711\u001B[1;33m         \u001B[0mout_arr\u001B[0m\u001B[1;33m[\u001B[0m\u001B[0mres_indexer\u001B[0m\u001B[1;33m]\u001B[0m \u001B[1;33m=\u001B[0m \u001B[0mop\u001B[0m\u001B[1;33m(\u001B[0m\u001B[0marr\u001B[0m\u001B[1;33m[\u001B[0m\u001B[0mres_indexer\u001B[0m\u001B[1;33m]\u001B[0m\u001B[1;33m,\u001B[0m \u001B[0marr\u001B[0m\u001B[1;33m[\u001B[0m\u001B[0mlag_indexer\u001B[0m\u001B[1;33m]\u001B[0m\u001B[1;33m)\u001B[0m\u001B[1;33m\u001B[0m\u001B[1;33m\u001B[0m\u001B[0m\n\u001B[0m\u001B[0;32m   1712\u001B[0m \u001B[1;33m\u001B[0m\u001B[0m\n\u001B[0;32m   1713\u001B[0m     \u001B[1;32mif\u001B[0m \u001B[0mis_timedelta\u001B[0m\u001B[1;33m:\u001B[0m\u001B[1;33m\u001B[0m\u001B[1;33m\u001B[0m\u001B[0m\n",
      "\u001B[1;32mC:\\ProgramData\\Anaconda3\\envs\\my_env\\lib\\site-packages\\pandas\\_libs\\tslibs\\timestamps.pyx\u001B[0m in \u001B[0;36mpandas._libs.tslibs.timestamps._Timestamp.__sub__\u001B[1;34m()\u001B[0m\n",
      "\u001B[1;31mTypeError\u001B[0m: Timestamp subtraction must have the same timezones or no timezones"
     ]
    },
    {
     "ename": "TypeError",
     "evalue": "Timestamp subtraction must have the same timezones or no timezones",
     "output_type": "error",
     "traceback": [
      "\u001B[1;31m---------------------------------------------------------------------------\u001B[0m",
      "\u001B[1;31mTypeError\u001B[0m                                 Traceback (most recent call last)",
      "\u001B[1;32m~\\AppData\\Local\\Temp/ipykernel_15320/2425100141.py\u001B[0m in \u001B[0;36m<module>\u001B[1;34m\u001B[0m\n\u001B[0;32m      1\u001B[0m \u001B[1;31m# Running the notebook that adds the baseline predictions to df and df_test\u001B[0m\u001B[1;33m\u001B[0m\u001B[1;33m\u001B[0m\u001B[0m\n\u001B[1;32m----> 2\u001B[1;33m \u001B[0mget_ipython\u001B[0m\u001B[1;33m(\u001B[0m\u001B[1;33m)\u001B[0m\u001B[1;33m.\u001B[0m\u001B[0mrun_line_magic\u001B[0m\u001B[1;33m(\u001B[0m\u001B[1;34m'run'\u001B[0m\u001B[1;33m,\u001B[0m \u001B[1;34m'-i \"Baseline Prediction Tool.ipynb\"'\u001B[0m\u001B[1;33m)\u001B[0m\u001B[1;33m\u001B[0m\u001B[1;33m\u001B[0m\u001B[0m\n\u001B[0m",
      "\u001B[1;32mC:\\ProgramData\\Anaconda3\\envs\\my_env\\lib\\site-packages\\IPython\\core\\interactiveshell.py\u001B[0m in \u001B[0;36mrun_line_magic\u001B[1;34m(self, magic_name, line, _stack_depth)\u001B[0m\n\u001B[0;32m   2349\u001B[0m                 \u001B[0mkwargs\u001B[0m\u001B[1;33m[\u001B[0m\u001B[1;34m'local_ns'\u001B[0m\u001B[1;33m]\u001B[0m \u001B[1;33m=\u001B[0m \u001B[0mself\u001B[0m\u001B[1;33m.\u001B[0m\u001B[0mget_local_scope\u001B[0m\u001B[1;33m(\u001B[0m\u001B[0mstack_depth\u001B[0m\u001B[1;33m)\u001B[0m\u001B[1;33m\u001B[0m\u001B[1;33m\u001B[0m\u001B[0m\n\u001B[0;32m   2350\u001B[0m             \u001B[1;32mwith\u001B[0m \u001B[0mself\u001B[0m\u001B[1;33m.\u001B[0m\u001B[0mbuiltin_trap\u001B[0m\u001B[1;33m:\u001B[0m\u001B[1;33m\u001B[0m\u001B[1;33m\u001B[0m\u001B[0m\n\u001B[1;32m-> 2351\u001B[1;33m                 \u001B[0mresult\u001B[0m \u001B[1;33m=\u001B[0m \u001B[0mfn\u001B[0m\u001B[1;33m(\u001B[0m\u001B[1;33m*\u001B[0m\u001B[0margs\u001B[0m\u001B[1;33m,\u001B[0m \u001B[1;33m**\u001B[0m\u001B[0mkwargs\u001B[0m\u001B[1;33m)\u001B[0m\u001B[1;33m\u001B[0m\u001B[1;33m\u001B[0m\u001B[0m\n\u001B[0m\u001B[0;32m   2352\u001B[0m             \u001B[1;32mreturn\u001B[0m \u001B[0mresult\u001B[0m\u001B[1;33m\u001B[0m\u001B[1;33m\u001B[0m\u001B[0m\n\u001B[0;32m   2353\u001B[0m \u001B[1;33m\u001B[0m\u001B[0m\n",
      "\u001B[1;32mC:\\ProgramData\\Anaconda3\\envs\\my_env\\lib\\site-packages\\decorator.py\u001B[0m in \u001B[0;36mfun\u001B[1;34m(*args, **kw)\u001B[0m\n\u001B[0;32m    230\u001B[0m             \u001B[1;32mif\u001B[0m \u001B[1;32mnot\u001B[0m \u001B[0mkwsyntax\u001B[0m\u001B[1;33m:\u001B[0m\u001B[1;33m\u001B[0m\u001B[1;33m\u001B[0m\u001B[0m\n\u001B[0;32m    231\u001B[0m                 \u001B[0margs\u001B[0m\u001B[1;33m,\u001B[0m \u001B[0mkw\u001B[0m \u001B[1;33m=\u001B[0m \u001B[0mfix\u001B[0m\u001B[1;33m(\u001B[0m\u001B[0margs\u001B[0m\u001B[1;33m,\u001B[0m \u001B[0mkw\u001B[0m\u001B[1;33m,\u001B[0m \u001B[0msig\u001B[0m\u001B[1;33m)\u001B[0m\u001B[1;33m\u001B[0m\u001B[1;33m\u001B[0m\u001B[0m\n\u001B[1;32m--> 232\u001B[1;33m             \u001B[1;32mreturn\u001B[0m \u001B[0mcaller\u001B[0m\u001B[1;33m(\u001B[0m\u001B[0mfunc\u001B[0m\u001B[1;33m,\u001B[0m \u001B[1;33m*\u001B[0m\u001B[1;33m(\u001B[0m\u001B[0mextras\u001B[0m \u001B[1;33m+\u001B[0m \u001B[0margs\u001B[0m\u001B[1;33m)\u001B[0m\u001B[1;33m,\u001B[0m \u001B[1;33m**\u001B[0m\u001B[0mkw\u001B[0m\u001B[1;33m)\u001B[0m\u001B[1;33m\u001B[0m\u001B[1;33m\u001B[0m\u001B[0m\n\u001B[0m\u001B[0;32m    233\u001B[0m     \u001B[0mfun\u001B[0m\u001B[1;33m.\u001B[0m\u001B[0m__name__\u001B[0m \u001B[1;33m=\u001B[0m \u001B[0mfunc\u001B[0m\u001B[1;33m.\u001B[0m\u001B[0m__name__\u001B[0m\u001B[1;33m\u001B[0m\u001B[1;33m\u001B[0m\u001B[0m\n\u001B[0;32m    234\u001B[0m     \u001B[0mfun\u001B[0m\u001B[1;33m.\u001B[0m\u001B[0m__doc__\u001B[0m \u001B[1;33m=\u001B[0m \u001B[0mfunc\u001B[0m\u001B[1;33m.\u001B[0m\u001B[0m__doc__\u001B[0m\u001B[1;33m\u001B[0m\u001B[1;33m\u001B[0m\u001B[0m\n",
      "\u001B[1;32mC:\\ProgramData\\Anaconda3\\envs\\my_env\\lib\\site-packages\\IPython\\core\\magic.py\u001B[0m in \u001B[0;36m<lambda>\u001B[1;34m(f, *a, **k)\u001B[0m\n\u001B[0;32m    185\u001B[0m     \u001B[1;31m# but it's overkill for just that one bit of state.\u001B[0m\u001B[1;33m\u001B[0m\u001B[1;33m\u001B[0m\u001B[0m\n\u001B[0;32m    186\u001B[0m     \u001B[1;32mdef\u001B[0m \u001B[0mmagic_deco\u001B[0m\u001B[1;33m(\u001B[0m\u001B[0marg\u001B[0m\u001B[1;33m)\u001B[0m\u001B[1;33m:\u001B[0m\u001B[1;33m\u001B[0m\u001B[1;33m\u001B[0m\u001B[0m\n\u001B[1;32m--> 187\u001B[1;33m         \u001B[0mcall\u001B[0m \u001B[1;33m=\u001B[0m \u001B[1;32mlambda\u001B[0m \u001B[0mf\u001B[0m\u001B[1;33m,\u001B[0m \u001B[1;33m*\u001B[0m\u001B[0ma\u001B[0m\u001B[1;33m,\u001B[0m \u001B[1;33m**\u001B[0m\u001B[0mk\u001B[0m\u001B[1;33m:\u001B[0m \u001B[0mf\u001B[0m\u001B[1;33m(\u001B[0m\u001B[1;33m*\u001B[0m\u001B[0ma\u001B[0m\u001B[1;33m,\u001B[0m \u001B[1;33m**\u001B[0m\u001B[0mk\u001B[0m\u001B[1;33m)\u001B[0m\u001B[1;33m\u001B[0m\u001B[1;33m\u001B[0m\u001B[0m\n\u001B[0m\u001B[0;32m    188\u001B[0m \u001B[1;33m\u001B[0m\u001B[0m\n\u001B[0;32m    189\u001B[0m         \u001B[1;32mif\u001B[0m \u001B[0mcallable\u001B[0m\u001B[1;33m(\u001B[0m\u001B[0marg\u001B[0m\u001B[1;33m)\u001B[0m\u001B[1;33m:\u001B[0m\u001B[1;33m\u001B[0m\u001B[1;33m\u001B[0m\u001B[0m\n",
      "\u001B[1;32mC:\\ProgramData\\Anaconda3\\envs\\my_env\\lib\\site-packages\\IPython\\core\\magics\\execution.py\u001B[0m in \u001B[0;36mrun\u001B[1;34m(self, parameter_s, runner, file_finder)\u001B[0m\n\u001B[0;32m    722\u001B[0m             \u001B[1;32mwith\u001B[0m \u001B[0mpreserve_keys\u001B[0m\u001B[1;33m(\u001B[0m\u001B[0mself\u001B[0m\u001B[1;33m.\u001B[0m\u001B[0mshell\u001B[0m\u001B[1;33m.\u001B[0m\u001B[0muser_ns\u001B[0m\u001B[1;33m,\u001B[0m \u001B[1;34m'__file__'\u001B[0m\u001B[1;33m)\u001B[0m\u001B[1;33m:\u001B[0m\u001B[1;33m\u001B[0m\u001B[1;33m\u001B[0m\u001B[0m\n\u001B[0;32m    723\u001B[0m                 \u001B[0mself\u001B[0m\u001B[1;33m.\u001B[0m\u001B[0mshell\u001B[0m\u001B[1;33m.\u001B[0m\u001B[0muser_ns\u001B[0m\u001B[1;33m[\u001B[0m\u001B[1;34m'__file__'\u001B[0m\u001B[1;33m]\u001B[0m \u001B[1;33m=\u001B[0m \u001B[0mfilename\u001B[0m\u001B[1;33m\u001B[0m\u001B[1;33m\u001B[0m\u001B[0m\n\u001B[1;32m--> 724\u001B[1;33m                 \u001B[0mself\u001B[0m\u001B[1;33m.\u001B[0m\u001B[0mshell\u001B[0m\u001B[1;33m.\u001B[0m\u001B[0msafe_execfile_ipy\u001B[0m\u001B[1;33m(\u001B[0m\u001B[0mfilename\u001B[0m\u001B[1;33m,\u001B[0m \u001B[0mraise_exceptions\u001B[0m\u001B[1;33m=\u001B[0m\u001B[1;32mTrue\u001B[0m\u001B[1;33m)\u001B[0m\u001B[1;33m\u001B[0m\u001B[1;33m\u001B[0m\u001B[0m\n\u001B[0m\u001B[0;32m    725\u001B[0m             \u001B[1;32mreturn\u001B[0m\u001B[1;33m\u001B[0m\u001B[1;33m\u001B[0m\u001B[0m\n\u001B[0;32m    726\u001B[0m \u001B[1;33m\u001B[0m\u001B[0m\n",
      "\u001B[1;32mC:\\ProgramData\\Anaconda3\\envs\\my_env\\lib\\site-packages\\IPython\\core\\interactiveshell.py\u001B[0m in \u001B[0;36msafe_execfile_ipy\u001B[1;34m(self, fname, shell_futures, raise_exceptions)\u001B[0m\n\u001B[0;32m   2836\u001B[0m                     \u001B[0mresult\u001B[0m \u001B[1;33m=\u001B[0m \u001B[0mself\u001B[0m\u001B[1;33m.\u001B[0m\u001B[0mrun_cell\u001B[0m\u001B[1;33m(\u001B[0m\u001B[0mcell\u001B[0m\u001B[1;33m,\u001B[0m \u001B[0msilent\u001B[0m\u001B[1;33m=\u001B[0m\u001B[1;32mTrue\u001B[0m\u001B[1;33m,\u001B[0m \u001B[0mshell_futures\u001B[0m\u001B[1;33m=\u001B[0m\u001B[0mshell_futures\u001B[0m\u001B[1;33m)\u001B[0m\u001B[1;33m\u001B[0m\u001B[1;33m\u001B[0m\u001B[0m\n\u001B[0;32m   2837\u001B[0m                     \u001B[1;32mif\u001B[0m \u001B[0mraise_exceptions\u001B[0m\u001B[1;33m:\u001B[0m\u001B[1;33m\u001B[0m\u001B[1;33m\u001B[0m\u001B[0m\n\u001B[1;32m-> 2838\u001B[1;33m                         \u001B[0mresult\u001B[0m\u001B[1;33m.\u001B[0m\u001B[0mraise_error\u001B[0m\u001B[1;33m(\u001B[0m\u001B[1;33m)\u001B[0m\u001B[1;33m\u001B[0m\u001B[1;33m\u001B[0m\u001B[0m\n\u001B[0m\u001B[0;32m   2839\u001B[0m                     \u001B[1;32melif\u001B[0m \u001B[1;32mnot\u001B[0m \u001B[0mresult\u001B[0m\u001B[1;33m.\u001B[0m\u001B[0msuccess\u001B[0m\u001B[1;33m:\u001B[0m\u001B[1;33m\u001B[0m\u001B[1;33m\u001B[0m\u001B[0m\n\u001B[0;32m   2840\u001B[0m                         \u001B[1;32mbreak\u001B[0m\u001B[1;33m\u001B[0m\u001B[1;33m\u001B[0m\u001B[0m\n",
      "\u001B[1;32mC:\\ProgramData\\Anaconda3\\envs\\my_env\\lib\\site-packages\\IPython\\core\\interactiveshell.py\u001B[0m in \u001B[0;36mraise_error\u001B[1;34m(self)\u001B[0m\n\u001B[0;32m    330\u001B[0m             \u001B[1;32mraise\u001B[0m \u001B[0mself\u001B[0m\u001B[1;33m.\u001B[0m\u001B[0merror_before_exec\u001B[0m\u001B[1;33m\u001B[0m\u001B[1;33m\u001B[0m\u001B[0m\n\u001B[0;32m    331\u001B[0m         \u001B[1;32mif\u001B[0m \u001B[0mself\u001B[0m\u001B[1;33m.\u001B[0m\u001B[0merror_in_exec\u001B[0m \u001B[1;32mis\u001B[0m \u001B[1;32mnot\u001B[0m \u001B[1;32mNone\u001B[0m\u001B[1;33m:\u001B[0m\u001B[1;33m\u001B[0m\u001B[1;33m\u001B[0m\u001B[0m\n\u001B[1;32m--> 332\u001B[1;33m             \u001B[1;32mraise\u001B[0m \u001B[0mself\u001B[0m\u001B[1;33m.\u001B[0m\u001B[0merror_in_exec\u001B[0m\u001B[1;33m\u001B[0m\u001B[1;33m\u001B[0m\u001B[0m\n\u001B[0m\u001B[0;32m    333\u001B[0m \u001B[1;33m\u001B[0m\u001B[0m\n\u001B[0;32m    334\u001B[0m     \u001B[1;32mdef\u001B[0m \u001B[0m__repr__\u001B[0m\u001B[1;33m(\u001B[0m\u001B[0mself\u001B[0m\u001B[1;33m)\u001B[0m\u001B[1;33m:\u001B[0m\u001B[1;33m\u001B[0m\u001B[1;33m\u001B[0m\u001B[0m\n",
      "    \u001B[1;31m[... skipping hidden 1 frame]\u001B[0m\n",
      "\u001B[1;32m~\\AppData\\Local\\Temp/ipykernel_15320/3091533751.py\u001B[0m in \u001B[0;36m<module>\u001B[1;34m\u001B[0m\n\u001B[0;32m      1\u001B[0m \u001B[1;31m# Code Explanation: We subtract the timestamps and then shift the results up so the difference from n to n+1 is on row n.\u001B[0m\u001B[1;33m\u001B[0m\u001B[1;33m\u001B[0m\u001B[0m\n\u001B[0;32m      2\u001B[0m \u001B[1;31m# Only if both events are in the same trace should include the row in the mean() calculation.\u001B[0m\u001B[1;33m\u001B[0m\u001B[1;33m\u001B[0m\u001B[0m\n\u001B[1;32m----> 3\u001B[1;33m \u001B[0mshifted_deltatimes\u001B[0m \u001B[1;33m=\u001B[0m \u001B[0mdf\u001B[0m\u001B[1;33m[\u001B[0m\u001B[0mtimestamp_column\u001B[0m\u001B[1;33m]\u001B[0m\u001B[1;33m.\u001B[0m\u001B[0mdiff\u001B[0m\u001B[1;33m(\u001B[0m\u001B[1;33m)\u001B[0m\u001B[1;33m.\u001B[0m\u001B[0mshift\u001B[0m\u001B[1;33m(\u001B[0m\u001B[0mperiods\u001B[0m\u001B[1;33m=\u001B[0m\u001B[1;33m-\u001B[0m\u001B[1;36m1\u001B[0m\u001B[1;33m)\u001B[0m\u001B[1;33m[\u001B[0m\u001B[0mdf\u001B[0m\u001B[1;33m[\u001B[0m\u001B[0mcase_column\u001B[0m\u001B[1;33m]\u001B[0m\u001B[1;33m.\u001B[0m\u001B[0mshift\u001B[0m\u001B[1;33m(\u001B[0m\u001B[0mperiods\u001B[0m\u001B[1;33m=\u001B[0m\u001B[1;33m-\u001B[0m\u001B[1;36m1\u001B[0m\u001B[1;33m)\u001B[0m \u001B[1;33m==\u001B[0m \u001B[0mdf\u001B[0m\u001B[1;33m[\u001B[0m\u001B[0mcase_column\u001B[0m\u001B[1;33m]\u001B[0m\u001B[1;33m]\u001B[0m\u001B[1;33m\u001B[0m\u001B[1;33m\u001B[0m\u001B[0m\n\u001B[0m\u001B[0;32m      4\u001B[0m \u001B[1;33m\u001B[0m\u001B[0m\n\u001B[0;32m      5\u001B[0m \u001B[1;31m# The mean() function will return NaT if the input is empty, we replace this with pd.Timedelta(0)\u001B[0m\u001B[1;33m\u001B[0m\u001B[1;33m\u001B[0m\u001B[0m\n",
      "\u001B[1;32mC:\\ProgramData\\Anaconda3\\envs\\my_env\\lib\\site-packages\\pandas\\core\\series.py\u001B[0m in \u001B[0;36mdiff\u001B[1;34m(self, periods)\u001B[0m\n\u001B[0;32m   2646\u001B[0m         \u001B[1;33m{\u001B[0m\u001B[0mexamples\u001B[0m\u001B[1;33m}\u001B[0m\u001B[1;33m\u001B[0m\u001B[1;33m\u001B[0m\u001B[0m\n\u001B[0;32m   2647\u001B[0m         \"\"\"\n\u001B[1;32m-> 2648\u001B[1;33m         \u001B[0mresult\u001B[0m \u001B[1;33m=\u001B[0m \u001B[0malgorithms\u001B[0m\u001B[1;33m.\u001B[0m\u001B[0mdiff\u001B[0m\u001B[1;33m(\u001B[0m\u001B[0mself\u001B[0m\u001B[1;33m.\u001B[0m\u001B[0m_values\u001B[0m\u001B[1;33m,\u001B[0m \u001B[0mperiods\u001B[0m\u001B[1;33m)\u001B[0m\u001B[1;33m\u001B[0m\u001B[1;33m\u001B[0m\u001B[0m\n\u001B[0m\u001B[0;32m   2649\u001B[0m         return self._constructor(result, index=self.index).__finalize__(\n\u001B[0;32m   2650\u001B[0m             \u001B[0mself\u001B[0m\u001B[1;33m,\u001B[0m \u001B[0mmethod\u001B[0m\u001B[1;33m=\u001B[0m\u001B[1;34m\"diff\"\u001B[0m\u001B[1;33m\u001B[0m\u001B[1;33m\u001B[0m\u001B[0m\n",
      "\u001B[1;32mC:\\ProgramData\\Anaconda3\\envs\\my_env\\lib\\site-packages\\pandas\\core\\algorithms.py\u001B[0m in \u001B[0;36mdiff\u001B[1;34m(arr, n, axis, stacklevel)\u001B[0m\n\u001B[0;32m   1709\u001B[0m         \u001B[0mlag_indexer\u001B[0m \u001B[1;33m=\u001B[0m \u001B[0mtuple\u001B[0m\u001B[1;33m(\u001B[0m\u001B[0m_lag_indexer\u001B[0m\u001B[1;33m)\u001B[0m\u001B[1;33m\u001B[0m\u001B[1;33m\u001B[0m\u001B[0m\n\u001B[0;32m   1710\u001B[0m \u001B[1;33m\u001B[0m\u001B[0m\n\u001B[1;32m-> 1711\u001B[1;33m         \u001B[0mout_arr\u001B[0m\u001B[1;33m[\u001B[0m\u001B[0mres_indexer\u001B[0m\u001B[1;33m]\u001B[0m \u001B[1;33m=\u001B[0m \u001B[0mop\u001B[0m\u001B[1;33m(\u001B[0m\u001B[0marr\u001B[0m\u001B[1;33m[\u001B[0m\u001B[0mres_indexer\u001B[0m\u001B[1;33m]\u001B[0m\u001B[1;33m,\u001B[0m \u001B[0marr\u001B[0m\u001B[1;33m[\u001B[0m\u001B[0mlag_indexer\u001B[0m\u001B[1;33m]\u001B[0m\u001B[1;33m)\u001B[0m\u001B[1;33m\u001B[0m\u001B[1;33m\u001B[0m\u001B[0m\n\u001B[0m\u001B[0;32m   1712\u001B[0m \u001B[1;33m\u001B[0m\u001B[0m\n\u001B[0;32m   1713\u001B[0m     \u001B[1;32mif\u001B[0m \u001B[0mis_timedelta\u001B[0m\u001B[1;33m:\u001B[0m\u001B[1;33m\u001B[0m\u001B[1;33m\u001B[0m\u001B[0m\n",
      "\u001B[1;32mC:\\ProgramData\\Anaconda3\\envs\\my_env\\lib\\site-packages\\pandas\\_libs\\tslibs\\timestamps.pyx\u001B[0m in \u001B[0;36mpandas._libs.tslibs.timestamps._Timestamp.__sub__\u001B[1;34m()\u001B[0m\n",
      "\u001B[1;31mTypeError\u001B[0m: Timestamp subtraction must have the same timezones or no timezones"
     ]
    }
   ],
   "source": [
    "# Running the notebook that adds the baseline predictions to df and df_test\n",
    "%run -i \"Baseline Prediction Tool.ipynb\""
   ]
  },
  {
   "cell_type": "code",
   "execution_count": null,
   "metadata": {},
   "outputs": [],
   "source": [
    "# Accuracy % of the baseline based on last event, event predictions:\n",
    "\n",
    "training_event_accuracy = len(df[(df[baseline_la_next_event_column].shift(periods=1)==df[event_column]) & (df[case_column].shift(periods=1) == df[case_column])]) * 100 / len(df[df[case_column].shift(periods=1) == df[case_column]])\n",
    "\n",
    "test_event_accuracy = len(df_test[(df_test[baseline_la_next_event_column].shift(periods=1)==df_test[event_column]) & (df_test[case_column].shift(periods=1) == df_test[case_column])]) * 100 / len(df_test[df_test[case_column].shift(periods=1) == df_test[case_column]])\n",
    "\n",
    "training_event_accuracy, test_event_accuracy"
   ]
  },
  {
   "cell_type": "code",
   "execution_count": null,
   "metadata": {},
   "outputs": [],
   "source": [
    "# Accuracy % of the baseline based on last position, event predictions:\n",
    "\n",
    "training_event_accuracy = len(df[(df[baseline_pos_next_event_column].shift(periods=1)==df[event_column]) & (df[case_column].shift(periods=1) == df[case_column])]) * 100 / len(df[df[case_column].shift(periods=1) == df[case_column]])\n",
    "\n",
    "test_event_accuracy = len(df_test[(df_test[baseline_pos_next_event_column].shift(periods=1)==df_test[event_column]) & (df_test[case_column].shift(periods=1) == df_test[case_column])]) * 100 / len(df_test[df_test[case_column].shift(periods=1) == df_test[case_column]])\n",
    "\n",
    "training_event_accuracy, test_event_accuracy"
   ]
  },
  {
   "cell_type": "code",
   "execution_count": null,
   "metadata": {},
   "outputs": [],
   "source": [
    "# Mean Absolute Error of the baseline based on last event, time predictions:\n",
    "\n",
    "training_time_MAE = abs(df[timestamp_column] - df[baseline_la_next_timestamp_column].shift(periods=1))[df[case_column].shift(periods=1) == df[case_column]].mean()\n",
    "\n",
    "test_time_MAE = abs(df_test[timestamp_column] - df_test[baseline_la_next_timestamp_column].shift(periods=1))[df_test[case_column].shift(periods=1) == df_test[case_column]].mean()\n",
    "\n",
    "training_time_MAE, test_time_MAE"
   ]
  },
  {
   "cell_type": "code",
   "execution_count": null,
   "metadata": {},
   "outputs": [],
   "source": [
    "# Mean Absolute Error of the baseline based on last position, time predictions:\n",
    "\n",
    "training_time_MAE = abs(df[timestamp_column] - df[baseline_pos_next_timestamp_column].shift(periods=1))[df[case_column].shift(periods=1) == df[case_column]].mean()\n",
    "\n",
    "test_time_MAE = abs(df_test[timestamp_column] - df_test[baseline_pos_next_timestamp_column].shift(periods=1))[df_test[case_column].shift(periods=1) == df_test[case_column]].mean()\n",
    "\n",
    "training_time_MAE, test_time_MAE"
   ]
  },
  {
   "cell_type": "code",
   "execution_count": 11,
   "metadata": {},
   "outputs": [
    {
     "name": "stdout",
     "output_type": "stream",
     "text": [
      "dict_keys(['__name__', '__doc__', '__package__', '__loader__', '__spec__', '__builtin__', '__builtins__', '_ih', '_oh', '_dh', 'In', 'Out', 'get_ipython', 'exit', 'quit', '_', '__', '___', '_i', '_ii', '_iii', '_i1', 'sys', 'remove_imported_pydev_package', '_pydevd_bundle', 'pydev_jupyter_vars', '_i2', 'pd', 'pm4py', '_i3', 'df_total', '_3', '_i4', 'training_percentage', 'validation_percentage', 'case_column', 'registration_time_column', 'event_column', 'timestamp_column', 'amount_column', 'row_nr_column', 'index_column', 'lifecycle_column', 'amount_column_in_data', 'position_column', 'baseline_la_next_event_column', 'baseline_la_next_timestamp_column', 'baseline_pos_next_event_column', 'baseline_pos_next_timestamp_column', 'pred_event_otf', 'otf_next_timestamp_column', '_i5', '_i6', '_i7', 'training_cutoff_timestamp', 'validation_cutoff_timestamp', '_7', '_i8', 'dict_overlapping_cases', 'find_overlapping_cases', 'case_overlaps_a_timestamp', 'list_overlapping_cases', '_8', '_i9', 'df', 'df_validation', 'df_test', '_9', '_i10', '_i11', '__file__', 'np', 'plotly', 'px', 'go', 'datetime', 'time'])\n"
     ]
    },
    {
     "name": "stderr",
     "output_type": "stream",
     "text": [
      "C:\\Users\\20203666\\AppData\\Local\\Temp/ipykernel_7832/1697363144.py:21: SettingWithCopyWarning: \n",
      "A value is trying to be set on a copy of a slice from a DataFrame.\n",
      "Try using .loc[row_indexer,col_indexer] = value instead\n",
      "\n",
      "See the caveats in the documentation: https://pandas.pydata.org/pandas-docs/stable/user_guide/indexing.html#returning-a-view-versus-a-copy\n",
      "  dataset[row_nr_column] = dataset.index\n",
      "C:\\Users\\20203666\\AppData\\Local\\Temp/ipykernel_7832/1697363144.py:22: SettingWithCopyWarning: \n",
      "A value is trying to be set on a copy of a slice from a DataFrame.\n",
      "Try using .loc[row_indexer,col_indexer] = value instead\n",
      "\n",
      "See the caveats in the documentation: https://pandas.pydata.org/pandas-docs/stable/user_guide/indexing.html#returning-a-view-versus-a-copy\n",
      "  dataset_val[row_nr_column] = dataset_val.index\n",
      "C:\\Users\\20203666\\AppData\\Local\\Temp/ipykernel_7832/1697363144.py:23: SettingWithCopyWarning: \n",
      "A value is trying to be set on a copy of a slice from a DataFrame.\n",
      "Try using .loc[row_indexer,col_indexer] = value instead\n",
      "\n",
      "See the caveats in the documentation: https://pandas.pydata.org/pandas-docs/stable/user_guide/indexing.html#returning-a-view-versus-a-copy\n",
      "  dataset_test[row_nr_column] = dataset_test.index\n",
      "C:\\Users\\20203666\\AppData\\Local\\Temp/ipykernel_7832/1697363144.py:33: SettingWithCopyWarning: \n",
      "A value is trying to be set on a copy of a slice from a DataFrame.\n",
      "Try using .loc[row_indexer,col_indexer] = value instead\n",
      "\n",
      "See the caveats in the documentation: https://pandas.pydata.org/pandas-docs/stable/user_guide/indexing.html#returning-a-view-versus-a-copy\n",
      "  dataset[amount_column] = [round(int(x),-4) for x in dataset[amount_column]]\n",
      "C:\\Users\\20203666\\AppData\\Local\\Temp/ipykernel_7832/1697363144.py:34: SettingWithCopyWarning: \n",
      "A value is trying to be set on a copy of a slice from a DataFrame.\n",
      "Try using .loc[row_indexer,col_indexer] = value instead\n",
      "\n",
      "See the caveats in the documentation: https://pandas.pydata.org/pandas-docs/stable/user_guide/indexing.html#returning-a-view-versus-a-copy\n",
      "  dataset_val[amount_column] = [round(int(x),-4) for x in dataset_val[amount_column]]\n",
      "C:\\Users\\20203666\\AppData\\Local\\Temp/ipykernel_7832/1697363144.py:35: SettingWithCopyWarning: \n",
      "A value is trying to be set on a copy of a slice from a DataFrame.\n",
      "Try using .loc[row_indexer,col_indexer] = value instead\n",
      "\n",
      "See the caveats in the documentation: https://pandas.pydata.org/pandas-docs/stable/user_guide/indexing.html#returning-a-view-versus-a-copy\n",
      "  dataset_test[amount_column] = [round(int(x),-4) for x in dataset_test[amount_column]]\n"
     ]
    },
    {
     "name": "stdout",
     "output_type": "stream",
     "text": [
      "   case:concept:name            concept:name lifecycle:transition  \\\n",
      "0             173688             A_SUBMITTED             COMPLETE   \n",
      "1             173688       A_PARTLYSUBMITTED             COMPLETE   \n",
      "2             173688           A_PREACCEPTED             COMPLETE   \n",
      "3             173688  W_Completeren aanvraag             SCHEDULE   \n",
      "26            173691             A_SUBMITTED             COMPLETE   \n",
      "\n",
      "                      time:timestamp  case:AMOUNT_REQ  row_nr  \n",
      "0   2011-10-01 00:38:44.546000+02:00            20000       0  \n",
      "1   2011-10-01 00:38:44.880000+02:00            20000       1  \n",
      "2   2011-10-01 00:39:37.906000+02:00            20000       2  \n",
      "3   2011-10-01 00:39:38.875000+02:00            20000       3  \n",
      "26  2011-10-01 08:08:58.256000+02:00                0      26  \n",
      "dict: Elapsed time during the whole program in seconds: 61.109375\n",
      "train accuracy:0.8079473235930027\n",
      "length df = 161548, length predictions = 161548\n",
      "test accuracy:0.7386313465783665\n",
      "test accuracy:0.1282560706401766\n",
      "test accuracy:0.8160581075775422\n",
      "length df = 37781, length predictions = 37781\n"
     ]
    }
   ],
   "source": [
    "# Running the notebook that adds the on-the-fly event prediction to df and df_test\n",
    "df = df.sort_values(by=timestamp_column)\n",
    "df_validation = df_validation.sort_values(by=timestamp_column)\n",
    "df_test = df_test.sort_values(by=timestamp_column)\n",
    "%run -i \"event_onTheFly.ipynb\""
   ]
  },
  {
   "cell_type": "code",
   "execution_count": 13,
   "metadata": {},
   "outputs": [
    {
     "data": {
      "text/plain": "    org:resource lifecycle:transition            concept:name  \\\n0            112             COMPLETE             A_SUBMITTED   \n1            112             COMPLETE       A_PARTLYSUBMITTED   \n2            112             COMPLETE           A_PREACCEPTED   \n3            112             SCHEDULE  W_Completeren aanvraag   \n26           112             COMPLETE             A_SUBMITTED   \n27           112             COMPLETE       A_PARTLYSUBMITTED   \n28           112             COMPLETE           A_PREACCEPTED   \n29           112             SCHEDULE  W_Completeren aanvraag   \n124          112             COMPLETE             A_SUBMITTED   \n125          112             COMPLETE       A_PARTLYSUBMITTED   \n\n                       time:timestamp                     case:REG_DATE  \\\n0    2011-10-01 00:38:44.546000+02:00  2011-10-01 00:38:44.546000+02:00   \n1    2011-10-01 00:38:44.880000+02:00  2011-10-01 00:38:44.546000+02:00   \n2    2011-10-01 00:39:37.906000+02:00  2011-10-01 00:38:44.546000+02:00   \n3    2011-10-01 00:39:38.875000+02:00  2011-10-01 00:38:44.546000+02:00   \n26   2011-10-01 08:08:58.256000+02:00  2011-10-01 08:08:58.256000+02:00   \n27   2011-10-01 08:09:02.195000+02:00  2011-10-01 08:08:58.256000+02:00   \n28   2011-10-01 08:09:56.648000+02:00  2011-10-01 08:08:58.256000+02:00   \n29   2011-10-01 08:09:59.578000+02:00  2011-10-01 08:08:58.256000+02:00   \n124  2011-10-01 08:11:08.866000+02:00  2011-10-01 08:11:08.865000+02:00   \n125  2011-10-01 08:11:09.035000+02:00  2011-10-01 08:11:08.865000+02:00   \n\n    case:concept:name case:AMOUNT_REQ  Position    prediction event otf  \\\n0              173688           20000         1  W_Completeren aanvraag   \n1              173688           20000         2  W_Completeren aanvraag   \n2              173688           20000         3  W_Completeren aanvraag   \n3              173688           20000         4  W_Completeren aanvraag   \n26             173691            5000         1              A_ACCEPTED   \n27             173691            5000         2              O_SELECTED   \n28             173691            5000         3  W_Completeren aanvraag   \n29             173691            5000         4  W_Completeren aanvraag   \n124            173697           15000         1                  O_SENT   \n125            173697           15000         2     W_Nabellen offertes   \n\n    OTF Prediction for Next Activity  \n0             W_Completeren aanvraag  \n1             W_Completeren aanvraag  \n2             W_Completeren aanvraag  \n3             W_Completeren aanvraag  \n26                        A_ACCEPTED  \n27                        O_SELECTED  \n28            W_Completeren aanvraag  \n29            W_Completeren aanvraag  \n124                           O_SENT  \n125              W_Nabellen offertes  ",
      "text/html": "<div>\n<style scoped>\n    .dataframe tbody tr th:only-of-type {\n        vertical-align: middle;\n    }\n\n    .dataframe tbody tr th {\n        vertical-align: top;\n    }\n\n    .dataframe thead th {\n        text-align: right;\n    }\n</style>\n<table border=\"1\" class=\"dataframe\">\n  <thead>\n    <tr style=\"text-align: right;\">\n      <th></th>\n      <th>org:resource</th>\n      <th>lifecycle:transition</th>\n      <th>concept:name</th>\n      <th>time:timestamp</th>\n      <th>case:REG_DATE</th>\n      <th>case:concept:name</th>\n      <th>case:AMOUNT_REQ</th>\n      <th>Position</th>\n      <th>prediction event otf</th>\n      <th>OTF Prediction for Next Activity</th>\n    </tr>\n  </thead>\n  <tbody>\n    <tr>\n      <th>0</th>\n      <td>112</td>\n      <td>COMPLETE</td>\n      <td>A_SUBMITTED</td>\n      <td>2011-10-01 00:38:44.546000+02:00</td>\n      <td>2011-10-01 00:38:44.546000+02:00</td>\n      <td>173688</td>\n      <td>20000</td>\n      <td>1</td>\n      <td>W_Completeren aanvraag</td>\n      <td>W_Completeren aanvraag</td>\n    </tr>\n    <tr>\n      <th>1</th>\n      <td>112</td>\n      <td>COMPLETE</td>\n      <td>A_PARTLYSUBMITTED</td>\n      <td>2011-10-01 00:38:44.880000+02:00</td>\n      <td>2011-10-01 00:38:44.546000+02:00</td>\n      <td>173688</td>\n      <td>20000</td>\n      <td>2</td>\n      <td>W_Completeren aanvraag</td>\n      <td>W_Completeren aanvraag</td>\n    </tr>\n    <tr>\n      <th>2</th>\n      <td>112</td>\n      <td>COMPLETE</td>\n      <td>A_PREACCEPTED</td>\n      <td>2011-10-01 00:39:37.906000+02:00</td>\n      <td>2011-10-01 00:38:44.546000+02:00</td>\n      <td>173688</td>\n      <td>20000</td>\n      <td>3</td>\n      <td>W_Completeren aanvraag</td>\n      <td>W_Completeren aanvraag</td>\n    </tr>\n    <tr>\n      <th>3</th>\n      <td>112</td>\n      <td>SCHEDULE</td>\n      <td>W_Completeren aanvraag</td>\n      <td>2011-10-01 00:39:38.875000+02:00</td>\n      <td>2011-10-01 00:38:44.546000+02:00</td>\n      <td>173688</td>\n      <td>20000</td>\n      <td>4</td>\n      <td>W_Completeren aanvraag</td>\n      <td>W_Completeren aanvraag</td>\n    </tr>\n    <tr>\n      <th>26</th>\n      <td>112</td>\n      <td>COMPLETE</td>\n      <td>A_SUBMITTED</td>\n      <td>2011-10-01 08:08:58.256000+02:00</td>\n      <td>2011-10-01 08:08:58.256000+02:00</td>\n      <td>173691</td>\n      <td>5000</td>\n      <td>1</td>\n      <td>A_ACCEPTED</td>\n      <td>A_ACCEPTED</td>\n    </tr>\n    <tr>\n      <th>27</th>\n      <td>112</td>\n      <td>COMPLETE</td>\n      <td>A_PARTLYSUBMITTED</td>\n      <td>2011-10-01 08:09:02.195000+02:00</td>\n      <td>2011-10-01 08:08:58.256000+02:00</td>\n      <td>173691</td>\n      <td>5000</td>\n      <td>2</td>\n      <td>O_SELECTED</td>\n      <td>O_SELECTED</td>\n    </tr>\n    <tr>\n      <th>28</th>\n      <td>112</td>\n      <td>COMPLETE</td>\n      <td>A_PREACCEPTED</td>\n      <td>2011-10-01 08:09:56.648000+02:00</td>\n      <td>2011-10-01 08:08:58.256000+02:00</td>\n      <td>173691</td>\n      <td>5000</td>\n      <td>3</td>\n      <td>W_Completeren aanvraag</td>\n      <td>W_Completeren aanvraag</td>\n    </tr>\n    <tr>\n      <th>29</th>\n      <td>112</td>\n      <td>SCHEDULE</td>\n      <td>W_Completeren aanvraag</td>\n      <td>2011-10-01 08:09:59.578000+02:00</td>\n      <td>2011-10-01 08:08:58.256000+02:00</td>\n      <td>173691</td>\n      <td>5000</td>\n      <td>4</td>\n      <td>W_Completeren aanvraag</td>\n      <td>W_Completeren aanvraag</td>\n    </tr>\n    <tr>\n      <th>124</th>\n      <td>112</td>\n      <td>COMPLETE</td>\n      <td>A_SUBMITTED</td>\n      <td>2011-10-01 08:11:08.866000+02:00</td>\n      <td>2011-10-01 08:11:08.865000+02:00</td>\n      <td>173697</td>\n      <td>15000</td>\n      <td>1</td>\n      <td>O_SENT</td>\n      <td>O_SENT</td>\n    </tr>\n    <tr>\n      <th>125</th>\n      <td>112</td>\n      <td>COMPLETE</td>\n      <td>A_PARTLYSUBMITTED</td>\n      <td>2011-10-01 08:11:09.035000+02:00</td>\n      <td>2011-10-01 08:11:08.865000+02:00</td>\n      <td>173697</td>\n      <td>15000</td>\n      <td>2</td>\n      <td>W_Nabellen offertes</td>\n      <td>W_Nabellen offertes</td>\n    </tr>\n  </tbody>\n</table>\n</div>"
     },
     "execution_count": 13,
     "metadata": {},
     "output_type": "execute_result"
    }
   ],
   "source": [
    "df[pred_event_otf] = train_pred_event_otf\n",
    "df_test[pred_event_otf] = test_pred_event_otf\n",
    "df.head(10)"
   ]
  },
  {
   "cell_type": "code",
   "execution_count": 13,
   "metadata": {
    "collapsed": false,
    "pycharm": {
     "name": "#%%\n"
    }
   },
   "outputs": [
    {
     "name": "stdout",
     "output_type": "stream",
     "text": [
      "train accuracy event on the fly: 80.79473235930027\n",
      "test accuracy event on the fly: 81.60581075775421\n"
     ]
    }
   ],
   "source": [
    "print(f'train accuracy event on the fly: {train_acc_event_otf*100}') # does still run because is in event_onthefly.ipynb\n",
    "print(f'test accuracy event on the fly: {test_acc_event_otf*100}')"
   ]
  },
  {
   "cell_type": "code",
   "execution_count": 14,
   "metadata": {},
   "outputs": [
    {
     "data": {
      "text/plain": "(13.621175391469567, 14.243647989231029)"
     },
     "execution_count": 14,
     "metadata": {},
     "output_type": "execute_result"
    }
   ],
   "source": [
    "df = df.sort_values(by=[case_column, timestamp_column]).reset_index(drop=True)\n",
    "df_test = df_test.sort_values(by=[case_column, timestamp_column]).reset_index(drop=True)\n",
    "\n",
    "training_event_accuracy = len(df[(df[pred_event_otf].shift(periods=1)==df[event_column]) & (df[case_column].shift(periods=1) == df[case_column])]) * 100 / len(df[df[case_column].shift(periods=1) == df[case_column]])\n",
    "\n",
    "test_event_accuracy = len(df_test[(df_test[pred_event_otf].shift(periods=1)==df_test[event_column]) & (df_test[case_column].shift(periods=1) == df_test[case_column])]) * 100 / len(df_test[df_test[case_column].shift(periods=1) == df_test[case_column]])\n",
    "\n",
    "training_event_accuracy, test_event_accuracy\n"
   ]
  },
  {
   "cell_type": "code",
   "execution_count": null,
   "metadata": {},
   "outputs": [],
   "source": [
    "# Accuracy % of the on-the-fly event predictions:\n",
    "\n",
    "# training_event_accuracy = len(df[(df[baseline_next_event_column].shift(periods=1)==df[event_column]) & (df[case_column].shift(periods=1) == df[case_column])]) * 100 / len(df[df[case_column].shift(periods=1) == df[case_column]])\n",
    "\n",
    "# test_event_accuracy = len(df_test[(df_test[baseline_next_event_column].shift(periods=1)==df_test[event_column]) & (df_test[case_column].shift(periods=1) == df_test[case_column])]) * 100 / len(df_test[df_test[case_column].shift(periods=1) == df_test[case_column]])\n",
    "\n",
    "# training_event_accuracy, test_event_accuracy"
   ]
  },
  {
   "cell_type": "code",
   "execution_count": null,
   "metadata": {},
   "outputs": [],
   "source": [
    "# Running the notebook that adds the on-the-fly event prediction to df and df_test\n",
    "%run -i \"timePrediction_onTheFly.ipynb\" # Takes around 2 minutes to run"
   ]
  },
  {
   "cell_type": "code",
   "execution_count": null,
   "metadata": {},
   "outputs": [],
   "source": [
    "df.head(10)"
   ]
  },
  {
   "cell_type": "code",
   "execution_count": null,
   "metadata": {},
   "outputs": [],
   "source": [
    "# Mean Absolute Error of the on-the-fly time predictions:\n",
    "\n",
    "# training_time_MAE = abs(df[timestamp_column] - df[baseline_next_timestamp_column].shift(periods=1))[df[case_column].shift(periods=1) == df[case_column]].mean()\n",
    "\n",
    "# test_time_MAE = abs(df_test[timestamp_column] - df_test[baseline_next_timestamp_column].shift(periods=1))[df_test[case_column].shift(periods=1) == df_test[case_column]].mean()\n",
    "\n",
    "# training_time_MAE, test_time_MAE"
   ]
  },
  {
   "cell_type": "code",
   "execution_count": null,
   "metadata": {},
   "outputs": [],
   "source": []
  }
 ],
 "metadata": {
  "interpreter": {
   "hash": "450e333e9284914ea1fdff9838c0f3ff8e2f8f37f2f7a4d8dce33ea62376eaf6"
  },
  "kernelspec": {
   "display_name": "Python 3.9.7 ('base')",
   "language": "python",
   "name": "python3"
  },
  "language_info": {
   "codemirror_mode": {
    "name": "ipython",
    "version": 3
   },
   "file_extension": ".py",
   "mimetype": "text/x-python",
   "name": "python",
   "nbconvert_exporter": "python",
   "pygments_lexer": "ipython3",
   "version": "3.9.11"
  },
  "orig_nbformat": 4
 },
 "nbformat": 4,
 "nbformat_minor": 2
}