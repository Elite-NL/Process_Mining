{
 "cells": [
  {
   "cell_type": "code",
   "execution_count": 1,
   "metadata": {},
   "outputs": [],
   "source": [
    "### GROUP 2 ###\n",
    "\n",
    "# B.J.T. Donkers - 1506897\n",
    "# S. van der Leek - 1564226\n",
    "# L. Sloot - 1365711\n",
    "# S. Diemel  - 1645749\n",
    "# A.E. Murariu - 1532081\n",
    "# Z.V. Petrov - 1554999"
   ]
  },
  {
   "cell_type": "code",
   "execution_count": 2,
   "metadata": {},
   "outputs": [],
   "source": [
    "# imports\n",
    "import pandas as pd\n",
    "import pm4py"
   ]
  },
  {
   "cell_type": "code",
   "execution_count": 3,
   "metadata": {},
   "outputs": [
    {
     "name": "stderr",
     "output_type": "stream",
     "text": [
      "parsing log, completed traces :: 100%|██████████| 13087/13087 [00:11<00:00, 1133.91it/s]\n"
     ]
    },
    {
     "data": {
      "text/html": [
       "<div>\n",
       "<style scoped>\n",
       "    .dataframe tbody tr th:only-of-type {\n",
       "        vertical-align: middle;\n",
       "    }\n",
       "\n",
       "    .dataframe tbody tr th {\n",
       "        vertical-align: top;\n",
       "    }\n",
       "\n",
       "    .dataframe thead th {\n",
       "        text-align: right;\n",
       "    }\n",
       "</style>\n",
       "<table border=\"1\" class=\"dataframe\">\n",
       "  <thead>\n",
       "    <tr style=\"text-align: right;\">\n",
       "      <th></th>\n",
       "      <th>org:resource</th>\n",
       "      <th>lifecycle:transition</th>\n",
       "      <th>concept:name</th>\n",
       "      <th>time:timestamp</th>\n",
       "      <th>case:REG_DATE</th>\n",
       "      <th>case:concept:name</th>\n",
       "      <th>case:AMOUNT_REQ</th>\n",
       "    </tr>\n",
       "  </thead>\n",
       "  <tbody>\n",
       "    <tr>\n",
       "      <th>0</th>\n",
       "      <td>112</td>\n",
       "      <td>COMPLETE</td>\n",
       "      <td>A_SUBMITTED</td>\n",
       "      <td>2011-10-01 00:38:44.546000+02:00</td>\n",
       "      <td>2011-10-01 00:38:44.546000+02:00</td>\n",
       "      <td>173688</td>\n",
       "      <td>20000</td>\n",
       "    </tr>\n",
       "    <tr>\n",
       "      <th>1</th>\n",
       "      <td>112</td>\n",
       "      <td>COMPLETE</td>\n",
       "      <td>A_PARTLYSUBMITTED</td>\n",
       "      <td>2011-10-01 00:38:44.880000+02:00</td>\n",
       "      <td>2011-10-01 00:38:44.546000+02:00</td>\n",
       "      <td>173688</td>\n",
       "      <td>20000</td>\n",
       "    </tr>\n",
       "    <tr>\n",
       "      <th>2</th>\n",
       "      <td>112</td>\n",
       "      <td>COMPLETE</td>\n",
       "      <td>A_PREACCEPTED</td>\n",
       "      <td>2011-10-01 00:39:37.906000+02:00</td>\n",
       "      <td>2011-10-01 00:38:44.546000+02:00</td>\n",
       "      <td>173688</td>\n",
       "      <td>20000</td>\n",
       "    </tr>\n",
       "    <tr>\n",
       "      <th>3</th>\n",
       "      <td>112</td>\n",
       "      <td>SCHEDULE</td>\n",
       "      <td>W_Completeren aanvraag</td>\n",
       "      <td>2011-10-01 00:39:38.875000+02:00</td>\n",
       "      <td>2011-10-01 00:38:44.546000+02:00</td>\n",
       "      <td>173688</td>\n",
       "      <td>20000</td>\n",
       "    </tr>\n",
       "    <tr>\n",
       "      <th>4</th>\n",
       "      <td>NaN</td>\n",
       "      <td>START</td>\n",
       "      <td>W_Completeren aanvraag</td>\n",
       "      <td>2011-10-01 11:36:46.437000+02:00</td>\n",
       "      <td>2011-10-01 00:38:44.546000+02:00</td>\n",
       "      <td>173688</td>\n",
       "      <td>20000</td>\n",
       "    </tr>\n",
       "    <tr>\n",
       "      <th>5</th>\n",
       "      <td>10862</td>\n",
       "      <td>COMPLETE</td>\n",
       "      <td>A_ACCEPTED</td>\n",
       "      <td>2011-10-01 11:42:43.308000+02:00</td>\n",
       "      <td>2011-10-01 00:38:44.546000+02:00</td>\n",
       "      <td>173688</td>\n",
       "      <td>20000</td>\n",
       "    </tr>\n",
       "    <tr>\n",
       "      <th>6</th>\n",
       "      <td>10862</td>\n",
       "      <td>COMPLETE</td>\n",
       "      <td>O_SELECTED</td>\n",
       "      <td>2011-10-01 11:45:09.243000+02:00</td>\n",
       "      <td>2011-10-01 00:38:44.546000+02:00</td>\n",
       "      <td>173688</td>\n",
       "      <td>20000</td>\n",
       "    </tr>\n",
       "    <tr>\n",
       "      <th>7</th>\n",
       "      <td>10862</td>\n",
       "      <td>COMPLETE</td>\n",
       "      <td>A_FINALIZED</td>\n",
       "      <td>2011-10-01 11:45:09.243000+02:00</td>\n",
       "      <td>2011-10-01 00:38:44.546000+02:00</td>\n",
       "      <td>173688</td>\n",
       "      <td>20000</td>\n",
       "    </tr>\n",
       "    <tr>\n",
       "      <th>8</th>\n",
       "      <td>10862</td>\n",
       "      <td>COMPLETE</td>\n",
       "      <td>O_CREATED</td>\n",
       "      <td>2011-10-01 11:45:11.197000+02:00</td>\n",
       "      <td>2011-10-01 00:38:44.546000+02:00</td>\n",
       "      <td>173688</td>\n",
       "      <td>20000</td>\n",
       "    </tr>\n",
       "    <tr>\n",
       "      <th>9</th>\n",
       "      <td>10862</td>\n",
       "      <td>COMPLETE</td>\n",
       "      <td>O_SENT</td>\n",
       "      <td>2011-10-01 11:45:11.380000+02:00</td>\n",
       "      <td>2011-10-01 00:38:44.546000+02:00</td>\n",
       "      <td>173688</td>\n",
       "      <td>20000</td>\n",
       "    </tr>\n",
       "  </tbody>\n",
       "</table>\n",
       "</div>"
      ],
      "text/plain": [
       "  org:resource lifecycle:transition            concept:name  \\\n",
       "0          112             COMPLETE             A_SUBMITTED   \n",
       "1          112             COMPLETE       A_PARTLYSUBMITTED   \n",
       "2          112             COMPLETE           A_PREACCEPTED   \n",
       "3          112             SCHEDULE  W_Completeren aanvraag   \n",
       "4          NaN                START  W_Completeren aanvraag   \n",
       "5        10862             COMPLETE              A_ACCEPTED   \n",
       "6        10862             COMPLETE              O_SELECTED   \n",
       "7        10862             COMPLETE             A_FINALIZED   \n",
       "8        10862             COMPLETE               O_CREATED   \n",
       "9        10862             COMPLETE                  O_SENT   \n",
       "\n",
       "                     time:timestamp                     case:REG_DATE  \\\n",
       "0  2011-10-01 00:38:44.546000+02:00  2011-10-01 00:38:44.546000+02:00   \n",
       "1  2011-10-01 00:38:44.880000+02:00  2011-10-01 00:38:44.546000+02:00   \n",
       "2  2011-10-01 00:39:37.906000+02:00  2011-10-01 00:38:44.546000+02:00   \n",
       "3  2011-10-01 00:39:38.875000+02:00  2011-10-01 00:38:44.546000+02:00   \n",
       "4  2011-10-01 11:36:46.437000+02:00  2011-10-01 00:38:44.546000+02:00   \n",
       "5  2011-10-01 11:42:43.308000+02:00  2011-10-01 00:38:44.546000+02:00   \n",
       "6  2011-10-01 11:45:09.243000+02:00  2011-10-01 00:38:44.546000+02:00   \n",
       "7  2011-10-01 11:45:09.243000+02:00  2011-10-01 00:38:44.546000+02:00   \n",
       "8  2011-10-01 11:45:11.197000+02:00  2011-10-01 00:38:44.546000+02:00   \n",
       "9  2011-10-01 11:45:11.380000+02:00  2011-10-01 00:38:44.546000+02:00   \n",
       "\n",
       "  case:concept:name case:AMOUNT_REQ  \n",
       "0            173688           20000  \n",
       "1            173688           20000  \n",
       "2            173688           20000  \n",
       "3            173688           20000  \n",
       "4            173688           20000  \n",
       "5            173688           20000  \n",
       "6            173688           20000  \n",
       "7            173688           20000  \n",
       "8            173688           20000  \n",
       "9            173688           20000  "
      ]
     },
     "execution_count": 3,
     "metadata": {},
     "output_type": "execute_result"
    }
   ],
   "source": [
    "# read the data (2012)\n",
    "df_total = pm4py.convert_to_dataframe(pm4py.read_xes(\"data/BPI_Challenge_2012.xes\"))\n",
    "\n",
    "# read the data (road traffic fines)\n",
    "# df = pd.read_csv('data/Road_Traffic_Fine_Management_Process-training.csv')\n",
    "\n",
    "# read the data (2017)\n",
    "# df = pd.read_csv('data/BPI Challenge 2017-training.csv')\n",
    "\n",
    "# read the data (2018)\n",
    "# df = pd.read_csv('data/BPI Challenge 2018-training.csv')\n",
    "\n",
    "df_total.head(10)"
   ]
  },
  {
   "cell_type": "code",
   "execution_count": 4,
   "metadata": {},
   "outputs": [],
   "source": [
    "# Percentage cut-off points for training, validation and testing datasets\n",
    "training_percentage = 0.70 \n",
    "validation_percentage = 0.80\n",
    "\n",
    "# Defining database-specific variables\n",
    "case_column = \"case:concept:name\"\n",
    "registration_time_column = \"case:REG_DATE\"\n",
    "event_column = \"concept:name\"\n",
    "timestamp_column = \"time:timestamp\"\n",
    "amount_column = 'case AMOUNT_REQ'\n",
    "# row_nr_column = 'row_nr'\n",
    "index_column = \"index\"\n",
    "# timeformat_registration = \"%Y-%m-%dT%H:%M:%S\" # new time format\n",
    "# timeformat_timestamp = \"%d-%m-%Y %H:%M:%S.%f\"\n",
    "lifecycle_column = 'lifecycle:transition' # additional info for the timePrediction_onTheFly, set to None if you don't want to use it\n",
    "amount_column_in_data = True\n",
    "\n",
    "# Names of new columns we will add in the notebooks\n",
    "position_column = \"Position\" # added in this tool notebook\n",
    "baseline_la_next_event_column = \"Baseline Last Event Prediction for Next Activity\" # added in the baseline notebook\n",
    "baseline_la_next_timestamp_column = \"Baseline Last Event Prediction for Next Timestamp\" # added in the baseline notebook\n",
    "baseline_pos_next_event_column = \"Baseline Last Pos Prediction for Next Activity\" # added in the baseline notebook\n",
    "baseline_pos_next_timestamp_column = \"Baseline Last Pos Prediction for Next Timestamp\" # added in the baseline notebook\n",
    "pred_event_otf = \"OTF Prediction for Next Activity\" # added by event_onthefly notebook\n",
    "otf_next_timestamp_column = \"OnTheFly Prediction for Next Timestamp\" # added by the timePrediction_onTheFly notebook"
   ]
  },
  {
   "cell_type": "code",
   "execution_count": 5,
   "metadata": {},
   "outputs": [],
   "source": [
    "# Basic data preprocessing of the timestamps and reg dates\n",
    "df_total[timestamp_column] = [pd.Timestamp(time) for time in df_total[timestamp_column]]\n",
    "df_total[registration_time_column]= [pd.Timestamp(reg_time) for reg_time in df_total[registration_time_column]]\n",
    "df_total = df_total.sort_values(by=[case_column, timestamp_column]) # sort values by user and time of event\n",
    "\n",
    "#df_total.head(10)"
   ]
  },
  {
   "cell_type": "code",
   "execution_count": 6,
   "metadata": {},
   "outputs": [],
   "source": [
    "# We fill in the Position column that shows which position is a certain event in the trace (the first event is 1)\n",
    "df_total[position_column] = df_total.groupby([case_column]).cumcount()+1\n",
    "\n",
    "#df_total.head(10)"
   ]
  },
  {
   "cell_type": "code",
   "execution_count": 7,
   "metadata": {},
   "outputs": [
    {
     "data": {
      "text/plain": [
       "(Timestamp('2012-01-26 11:14:40.465000+0100', tz='UTC+01:00'),\n",
       " Timestamp('2012-02-09 15:41:26.559000+0100', tz='UTC+01:00'))"
      ]
     },
     "execution_count": 7,
     "metadata": {},
     "output_type": "execute_result"
    }
   ],
   "source": [
    "df_total = df_total.sort_values(by=[timestamp_column])\n",
    "\n",
    "training_cutoff_timestamp = df_total.iloc[[int(training_percentage*len(df_total))]].iloc[0][timestamp_column]\n",
    "validation_cutoff_timestamp = df_total.iloc[[int(validation_percentage*len(df_total))]].iloc[0][timestamp_column]\n",
    "\n",
    "(training_cutoff_timestamp, validation_cutoff_timestamp)"
   ]
  },
  {
   "cell_type": "code",
   "execution_count": 8,
   "metadata": {},
   "outputs": [
    {
     "data": {
      "text/plain": [
       "1378"
      ]
     },
     "execution_count": 8,
     "metadata": {},
     "output_type": "execute_result"
    }
   ],
   "source": [
    "# dictionary to store whether each case has an event that occured before and or after the cutoff timestamps\n",
    "\n",
    "dict_overlapping_cases = {}\n",
    "\n",
    "def find_overlapping_cases(case, timestamp):\n",
    "    templist = [timestamp < training_cutoff_timestamp, timestamp > training_cutoff_timestamp, timestamp < validation_cutoff_timestamp, timestamp > validation_cutoff_timestamp]\n",
    "    if (case in dict_overlapping_cases):\n",
    "        dict_overlapping_cases[case] = [(a or b) for a,b in zip(templist, dict_overlapping_cases[case])]\n",
    "    else:\n",
    "        dict_overlapping_cases[case] = templist\n",
    "\n",
    "[find_overlapping_cases(case,time) for case,time in zip(df_total[case_column],df_total[timestamp_column])]\n",
    "\n",
    "def case_overlaps_a_timestamp(case):\n",
    "    return (dict_overlapping_cases[case][0] and dict_overlapping_cases[case][1]) or (dict_overlapping_cases[case][2] and dict_overlapping_cases[case][3])\n",
    "\n",
    "list_overlapping_cases = [case for case in dict_overlapping_cases.keys() if case_overlaps_a_timestamp(case)]\n",
    "len(list_overlapping_cases)"
   ]
  },
  {
   "cell_type": "code",
   "execution_count": 9,
   "metadata": {},
   "outputs": [
    {
     "data": {
      "text/plain": [
       "(262200, 161548, 5198, 37781)"
      ]
     },
     "execution_count": 9,
     "metadata": {},
     "output_type": "execute_result"
    }
   ],
   "source": [
    "# splitting the data and removing all events belonging to cases that overlap the cutoff timestamps\n",
    "\n",
    "df = df_total.iloc[:int(training_percentage*len(df_total))]\n",
    "df_validation = df_total.iloc[int(training_percentage*len(df_total)):int(validation_percentage*len(df_total))]\n",
    "df_test = df_total.iloc[int(validation_percentage*len(df_total)):]\n",
    "\n",
    "df = df[[(case not in list_overlapping_cases) for case in df[case_column]]]\n",
    "df_validation = df_validation[[(case not in list_overlapping_cases) for case in df_validation[case_column]]]\n",
    "df_test = df_test[[(case not in list_overlapping_cases) for case in df_test[case_column]]]\n",
    "\n",
    "# without removing overlapping events: (262200, 183540, 26220, 52440)\n",
    "# with removing overlapping events: (262200, 161548, 5198, 37781)\n",
    "(len(df_total),len(df),len(df_validation),len(df_test)) "
   ]
  },
  {
   "cell_type": "code",
   "execution_count": 10,
   "metadata": {},
   "outputs": [],
   "source": [
    "df = df.sort_values(by=[case_column, timestamp_column])\n",
    "df_validation = df_validation.sort_values(by=[case_column, timestamp_column])\n",
    "df_test = df_test.sort_values(by=[case_column, timestamp_column])"
   ]
  },
  {
   "cell_type": "code",
   "execution_count": 11,
   "metadata": {},
   "outputs": [
    {
     "ename": "TypeError",
     "evalue": "cannot subtract DatetimeArray from ndarray",
     "output_type": "error",
     "traceback": [
      "\u001b[1;31m---------------------------------------------------------------------------\u001b[0m",
      "\u001b[1;31mTypeError\u001b[0m                                 Traceback (most recent call last)",
      "File \u001b[1;32m~\\AppData\\Local\\Temp\\ipykernel_25916\\1180284119.py:5\u001b[0m, in \u001b[0;36m<cell line: 5>\u001b[1;34m()\u001b[0m\n\u001b[0;32m      <a href='file:///c%3A/Users/Sander/AppData/Local/Temp/ipykernel_25916/1180284119.py?line=0'>1</a>\u001b[0m \u001b[39m# Mean Absolute Error of baseline last activity time predictions:\u001b[39;00m\n\u001b[0;32m      <a href='file:///c%3A/Users/Sander/AppData/Local/Temp/ipykernel_25916/1180284119.py?line=2'>3</a>\u001b[0m training_time_MAE \u001b[39m=\u001b[39m \u001b[39mabs\u001b[39m(df[timestamp_column] \u001b[39m-\u001b[39m df[baseline_la_next_timestamp_column]\u001b[39m.\u001b[39mshift(periods\u001b[39m=\u001b[39m\u001b[39m1\u001b[39m))[df[case_column]\u001b[39m.\u001b[39mshift(periods\u001b[39m=\u001b[39m\u001b[39m1\u001b[39m) \u001b[39m==\u001b[39m df[case_column]]\u001b[39m.\u001b[39mmean()\n\u001b[1;32m----> <a href='file:///c%3A/Users/Sander/AppData/Local/Temp/ipykernel_25916/1180284119.py?line=4'>5</a>\u001b[0m test_time_MAE \u001b[39m=\u001b[39m \u001b[39mabs\u001b[39m(df_test[timestamp_column] \u001b[39m-\u001b[39;49m df_test[baseline_la_next_timestamp_column]\u001b[39m.\u001b[39;49mshift(periods\u001b[39m=\u001b[39;49m\u001b[39m1\u001b[39;49m))[df_test[case_column]\u001b[39m.\u001b[39mshift(periods\u001b[39m=\u001b[39m\u001b[39m1\u001b[39m) \u001b[39m==\u001b[39m df_test[case_column]]\u001b[39m.\u001b[39mmean()\n\u001b[0;32m      <a href='file:///c%3A/Users/Sander/AppData/Local/Temp/ipykernel_25916/1180284119.py?line=6'>7</a>\u001b[0m training_time_MAE, test_time_MAE\n",
      "File \u001b[1;32m~\\anaconda3\\lib\\site-packages\\pandas\\core\\ops\\common.py:70\u001b[0m, in \u001b[0;36m_unpack_zerodim_and_defer.<locals>.new_method\u001b[1;34m(self, other)\u001b[0m\n\u001b[0;32m     <a href='file:///c%3A/Users/Sander/anaconda3/lib/site-packages/pandas/core/ops/common.py?line=65'>66</a>\u001b[0m             \u001b[39mreturn\u001b[39;00m \u001b[39mNotImplemented\u001b[39m\n\u001b[0;32m     <a href='file:///c%3A/Users/Sander/anaconda3/lib/site-packages/pandas/core/ops/common.py?line=67'>68</a>\u001b[0m other \u001b[39m=\u001b[39m item_from_zerodim(other)\n\u001b[1;32m---> <a href='file:///c%3A/Users/Sander/anaconda3/lib/site-packages/pandas/core/ops/common.py?line=69'>70</a>\u001b[0m \u001b[39mreturn\u001b[39;00m method(\u001b[39mself\u001b[39;49m, other)\n",
      "File \u001b[1;32m~\\anaconda3\\lib\\site-packages\\pandas\\core\\arraylike.py:108\u001b[0m, in \u001b[0;36mOpsMixin.__sub__\u001b[1;34m(self, other)\u001b[0m\n\u001b[0;32m    <a href='file:///c%3A/Users/Sander/anaconda3/lib/site-packages/pandas/core/arraylike.py?line=105'>106</a>\u001b[0m \u001b[39m@unpack_zerodim_and_defer\u001b[39m(\u001b[39m\"\u001b[39m\u001b[39m__sub__\u001b[39m\u001b[39m\"\u001b[39m)\n\u001b[0;32m    <a href='file:///c%3A/Users/Sander/anaconda3/lib/site-packages/pandas/core/arraylike.py?line=106'>107</a>\u001b[0m \u001b[39mdef\u001b[39;00m \u001b[39m__sub__\u001b[39m(\u001b[39mself\u001b[39m, other):\n\u001b[1;32m--> <a href='file:///c%3A/Users/Sander/anaconda3/lib/site-packages/pandas/core/arraylike.py?line=107'>108</a>\u001b[0m     \u001b[39mreturn\u001b[39;00m \u001b[39mself\u001b[39;49m\u001b[39m.\u001b[39;49m_arith_method(other, operator\u001b[39m.\u001b[39;49msub)\n",
      "File \u001b[1;32m~\\anaconda3\\lib\\site-packages\\pandas\\core\\series.py:5639\u001b[0m, in \u001b[0;36mSeries._arith_method\u001b[1;34m(self, other, op)\u001b[0m\n\u001b[0;32m   <a href='file:///c%3A/Users/Sander/anaconda3/lib/site-packages/pandas/core/series.py?line=5636'>5637</a>\u001b[0m \u001b[39mdef\u001b[39;00m \u001b[39m_arith_method\u001b[39m(\u001b[39mself\u001b[39m, other, op):\n\u001b[0;32m   <a href='file:///c%3A/Users/Sander/anaconda3/lib/site-packages/pandas/core/series.py?line=5637'>5638</a>\u001b[0m     \u001b[39mself\u001b[39m, other \u001b[39m=\u001b[39m ops\u001b[39m.\u001b[39malign_method_SERIES(\u001b[39mself\u001b[39m, other)\n\u001b[1;32m-> <a href='file:///c%3A/Users/Sander/anaconda3/lib/site-packages/pandas/core/series.py?line=5638'>5639</a>\u001b[0m     \u001b[39mreturn\u001b[39;00m base\u001b[39m.\u001b[39;49mIndexOpsMixin\u001b[39m.\u001b[39;49m_arith_method(\u001b[39mself\u001b[39;49m, other, op)\n",
      "File \u001b[1;32m~\\anaconda3\\lib\\site-packages\\pandas\\core\\base.py:1295\u001b[0m, in \u001b[0;36mIndexOpsMixin._arith_method\u001b[1;34m(self, other, op)\u001b[0m\n\u001b[0;32m   <a href='file:///c%3A/Users/Sander/anaconda3/lib/site-packages/pandas/core/base.py?line=1291'>1292</a>\u001b[0m rvalues \u001b[39m=\u001b[39m ensure_wrapped_if_datetimelike(rvalues)\n\u001b[0;32m   <a href='file:///c%3A/Users/Sander/anaconda3/lib/site-packages/pandas/core/base.py?line=1293'>1294</a>\u001b[0m \u001b[39mwith\u001b[39;00m np\u001b[39m.\u001b[39merrstate(\u001b[39mall\u001b[39m\u001b[39m=\u001b[39m\u001b[39m\"\u001b[39m\u001b[39mignore\u001b[39m\u001b[39m\"\u001b[39m):\n\u001b[1;32m-> <a href='file:///c%3A/Users/Sander/anaconda3/lib/site-packages/pandas/core/base.py?line=1294'>1295</a>\u001b[0m     result \u001b[39m=\u001b[39m ops\u001b[39m.\u001b[39;49marithmetic_op(lvalues, rvalues, op)\n\u001b[0;32m   <a href='file:///c%3A/Users/Sander/anaconda3/lib/site-packages/pandas/core/base.py?line=1296'>1297</a>\u001b[0m \u001b[39mreturn\u001b[39;00m \u001b[39mself\u001b[39m\u001b[39m.\u001b[39m_construct_result(result, name\u001b[39m=\u001b[39mres_name)\n",
      "File \u001b[1;32m~\\anaconda3\\lib\\site-packages\\pandas\\core\\ops\\array_ops.py:216\u001b[0m, in \u001b[0;36marithmetic_op\u001b[1;34m(left, right, op)\u001b[0m\n\u001b[0;32m    <a href='file:///c%3A/Users/Sander/anaconda3/lib/site-packages/pandas/core/ops/array_ops.py?line=202'>203</a>\u001b[0m \u001b[39m# NB: We assume that extract_array and ensure_wrapped_if_datetimelike\u001b[39;00m\n\u001b[0;32m    <a href='file:///c%3A/Users/Sander/anaconda3/lib/site-packages/pandas/core/ops/array_ops.py?line=203'>204</a>\u001b[0m \u001b[39m#  have already been called on `left` and `right`,\u001b[39;00m\n\u001b[0;32m    <a href='file:///c%3A/Users/Sander/anaconda3/lib/site-packages/pandas/core/ops/array_ops.py?line=204'>205</a>\u001b[0m \u001b[39m#  and `maybe_prepare_scalar_for_op` has already been called on `right`\u001b[39;00m\n\u001b[0;32m    <a href='file:///c%3A/Users/Sander/anaconda3/lib/site-packages/pandas/core/ops/array_ops.py?line=205'>206</a>\u001b[0m \u001b[39m# We need to special-case datetime64/timedelta64 dtypes (e.g. because numpy\u001b[39;00m\n\u001b[0;32m    <a href='file:///c%3A/Users/Sander/anaconda3/lib/site-packages/pandas/core/ops/array_ops.py?line=206'>207</a>\u001b[0m \u001b[39m# casts integer dtypes to timedelta64 when operating with timedelta64 - GH#22390)\u001b[39;00m\n\u001b[0;32m    <a href='file:///c%3A/Users/Sander/anaconda3/lib/site-packages/pandas/core/ops/array_ops.py?line=208'>209</a>\u001b[0m \u001b[39mif\u001b[39;00m (\n\u001b[0;32m    <a href='file:///c%3A/Users/Sander/anaconda3/lib/site-packages/pandas/core/ops/array_ops.py?line=209'>210</a>\u001b[0m     should_extension_dispatch(left, right)\n\u001b[0;32m    <a href='file:///c%3A/Users/Sander/anaconda3/lib/site-packages/pandas/core/ops/array_ops.py?line=210'>211</a>\u001b[0m     \u001b[39mor\u001b[39;00m \u001b[39misinstance\u001b[39m(right, (Timedelta, BaseOffset, Timestamp))\n\u001b[1;32m   (...)\u001b[0m\n\u001b[0;32m    <a href='file:///c%3A/Users/Sander/anaconda3/lib/site-packages/pandas/core/ops/array_ops.py?line=213'>214</a>\u001b[0m     \u001b[39m# Timedelta/Timestamp and other custom scalars are included in the check\u001b[39;00m\n\u001b[0;32m    <a href='file:///c%3A/Users/Sander/anaconda3/lib/site-packages/pandas/core/ops/array_ops.py?line=214'>215</a>\u001b[0m     \u001b[39m# because numexpr will fail on it, see GH#31457\u001b[39;00m\n\u001b[1;32m--> <a href='file:///c%3A/Users/Sander/anaconda3/lib/site-packages/pandas/core/ops/array_ops.py?line=215'>216</a>\u001b[0m     res_values \u001b[39m=\u001b[39m op(left, right)\n\u001b[0;32m    <a href='file:///c%3A/Users/Sander/anaconda3/lib/site-packages/pandas/core/ops/array_ops.py?line=216'>217</a>\u001b[0m \u001b[39melse\u001b[39;00m:\n\u001b[0;32m    <a href='file:///c%3A/Users/Sander/anaconda3/lib/site-packages/pandas/core/ops/array_ops.py?line=217'>218</a>\u001b[0m     \u001b[39m# TODO we should handle EAs consistently and move this check before the if/else\u001b[39;00m\n\u001b[0;32m    <a href='file:///c%3A/Users/Sander/anaconda3/lib/site-packages/pandas/core/ops/array_ops.py?line=218'>219</a>\u001b[0m     \u001b[39m# (https://github.com/pandas-dev/pandas/issues/41165)\u001b[39;00m\n\u001b[0;32m    <a href='file:///c%3A/Users/Sander/anaconda3/lib/site-packages/pandas/core/ops/array_ops.py?line=219'>220</a>\u001b[0m     _bool_arith_check(op, left, right)\n",
      "File \u001b[1;32m~\\anaconda3\\lib\\site-packages\\pandas\\core\\arrays\\datetimelike.py:1752\u001b[0m, in \u001b[0;36mTimelikeOps.__array_ufunc__\u001b[1;34m(self, ufunc, method, *inputs, **kwargs)\u001b[0m\n\u001b[0;32m   <a href='file:///c%3A/Users/Sander/anaconda3/lib/site-packages/pandas/core/arrays/datetimelike.py?line=1743'>1744</a>\u001b[0m \u001b[39mif\u001b[39;00m (\n\u001b[0;32m   <a href='file:///c%3A/Users/Sander/anaconda3/lib/site-packages/pandas/core/arrays/datetimelike.py?line=1744'>1745</a>\u001b[0m     ufunc \u001b[39min\u001b[39;00m [np\u001b[39m.\u001b[39misnan, np\u001b[39m.\u001b[39misinf, np\u001b[39m.\u001b[39misfinite]\n\u001b[0;32m   <a href='file:///c%3A/Users/Sander/anaconda3/lib/site-packages/pandas/core/arrays/datetimelike.py?line=1745'>1746</a>\u001b[0m     \u001b[39mand\u001b[39;00m \u001b[39mlen\u001b[39m(inputs) \u001b[39m==\u001b[39m \u001b[39m1\u001b[39m\n\u001b[0;32m   <a href='file:///c%3A/Users/Sander/anaconda3/lib/site-packages/pandas/core/arrays/datetimelike.py?line=1746'>1747</a>\u001b[0m     \u001b[39mand\u001b[39;00m inputs[\u001b[39m0\u001b[39m] \u001b[39mis\u001b[39;00m \u001b[39mself\u001b[39m\n\u001b[0;32m   <a href='file:///c%3A/Users/Sander/anaconda3/lib/site-packages/pandas/core/arrays/datetimelike.py?line=1747'>1748</a>\u001b[0m ):\n\u001b[0;32m   <a href='file:///c%3A/Users/Sander/anaconda3/lib/site-packages/pandas/core/arrays/datetimelike.py?line=1748'>1749</a>\u001b[0m     \u001b[39m# numpy 1.18 changed isinf and isnan to not raise on dt64/td64\u001b[39;00m\n\u001b[0;32m   <a href='file:///c%3A/Users/Sander/anaconda3/lib/site-packages/pandas/core/arrays/datetimelike.py?line=1749'>1750</a>\u001b[0m     \u001b[39mreturn\u001b[39;00m \u001b[39mgetattr\u001b[39m(ufunc, method)(\u001b[39mself\u001b[39m\u001b[39m.\u001b[39m_ndarray, \u001b[39m*\u001b[39m\u001b[39m*\u001b[39mkwargs)\n\u001b[1;32m-> <a href='file:///c%3A/Users/Sander/anaconda3/lib/site-packages/pandas/core/arrays/datetimelike.py?line=1751'>1752</a>\u001b[0m \u001b[39mreturn\u001b[39;00m \u001b[39msuper\u001b[39m()\u001b[39m.\u001b[39m__array_ufunc__(ufunc, method, \u001b[39m*\u001b[39minputs, \u001b[39m*\u001b[39m\u001b[39m*\u001b[39mkwargs)\n",
      "File \u001b[1;32m~\\anaconda3\\lib\\site-packages\\pandas\\core\\arrays\\base.py:1611\u001b[0m, in \u001b[0;36mExtensionArray.__array_ufunc__\u001b[1;34m(self, ufunc, method, *inputs, **kwargs)\u001b[0m\n\u001b[0;32m   <a href='file:///c%3A/Users/Sander/anaconda3/lib/site-packages/pandas/core/arrays/base.py?line=1605'>1606</a>\u001b[0m \u001b[39mif\u001b[39;00m \u001b[39many\u001b[39m(\n\u001b[0;32m   <a href='file:///c%3A/Users/Sander/anaconda3/lib/site-packages/pandas/core/arrays/base.py?line=1606'>1607</a>\u001b[0m     \u001b[39misinstance\u001b[39m(other, (ABCSeries, ABCIndex, ABCDataFrame)) \u001b[39mfor\u001b[39;00m other \u001b[39min\u001b[39;00m inputs\n\u001b[0;32m   <a href='file:///c%3A/Users/Sander/anaconda3/lib/site-packages/pandas/core/arrays/base.py?line=1607'>1608</a>\u001b[0m ):\n\u001b[0;32m   <a href='file:///c%3A/Users/Sander/anaconda3/lib/site-packages/pandas/core/arrays/base.py?line=1608'>1609</a>\u001b[0m     \u001b[39mreturn\u001b[39;00m \u001b[39mNotImplemented\u001b[39m\n\u001b[1;32m-> <a href='file:///c%3A/Users/Sander/anaconda3/lib/site-packages/pandas/core/arrays/base.py?line=1610'>1611</a>\u001b[0m result \u001b[39m=\u001b[39m arraylike\u001b[39m.\u001b[39mmaybe_dispatch_ufunc_to_dunder_op(\n\u001b[0;32m   <a href='file:///c%3A/Users/Sander/anaconda3/lib/site-packages/pandas/core/arrays/base.py?line=1611'>1612</a>\u001b[0m     \u001b[39mself\u001b[39m, ufunc, method, \u001b[39m*\u001b[39minputs, \u001b[39m*\u001b[39m\u001b[39m*\u001b[39mkwargs\n\u001b[0;32m   <a href='file:///c%3A/Users/Sander/anaconda3/lib/site-packages/pandas/core/arrays/base.py?line=1612'>1613</a>\u001b[0m )\n\u001b[0;32m   <a href='file:///c%3A/Users/Sander/anaconda3/lib/site-packages/pandas/core/arrays/base.py?line=1613'>1614</a>\u001b[0m \u001b[39mif\u001b[39;00m result \u001b[39mis\u001b[39;00m \u001b[39mnot\u001b[39;00m \u001b[39mNotImplemented\u001b[39m:\n\u001b[0;32m   <a href='file:///c%3A/Users/Sander/anaconda3/lib/site-packages/pandas/core/arrays/base.py?line=1614'>1615</a>\u001b[0m     \u001b[39mreturn\u001b[39;00m result\n",
      "File \u001b[1;32m~\\anaconda3\\lib\\site-packages\\pandas\\_libs\\ops_dispatch.pyx:113\u001b[0m, in \u001b[0;36mpandas._libs.ops_dispatch.maybe_dispatch_ufunc_to_dunder_op\u001b[1;34m()\u001b[0m\n",
      "File \u001b[1;32m~\\anaconda3\\lib\\site-packages\\pandas\\core\\arrays\\datetimelike.py:1380\u001b[0m, in \u001b[0;36mDatetimeLikeArrayMixin.__rsub__\u001b[1;34m(self, other)\u001b[0m\n\u001b[0;32m   <a href='file:///c%3A/Users/Sander/anaconda3/lib/site-packages/pandas/core/arrays/datetimelike.py?line=1371'>1372</a>\u001b[0m     \u001b[39mreturn\u001b[39;00m other \u001b[39m-\u001b[39m \u001b[39mself\u001b[39m\n\u001b[0;32m   <a href='file:///c%3A/Users/Sander/anaconda3/lib/site-packages/pandas/core/arrays/datetimelike.py?line=1372'>1373</a>\u001b[0m \u001b[39melif\u001b[39;00m (\n\u001b[0;32m   <a href='file:///c%3A/Users/Sander/anaconda3/lib/site-packages/pandas/core/arrays/datetimelike.py?line=1373'>1374</a>\u001b[0m     is_datetime64_any_dtype(\u001b[39mself\u001b[39m\u001b[39m.\u001b[39mdtype)\n\u001b[0;32m   <a href='file:///c%3A/Users/Sander/anaconda3/lib/site-packages/pandas/core/arrays/datetimelike.py?line=1374'>1375</a>\u001b[0m     \u001b[39mand\u001b[39;00m \u001b[39mhasattr\u001b[39m(other, \u001b[39m\"\u001b[39m\u001b[39mdtype\u001b[39m\u001b[39m\"\u001b[39m)\n\u001b[1;32m   (...)\u001b[0m\n\u001b[0;32m   <a href='file:///c%3A/Users/Sander/anaconda3/lib/site-packages/pandas/core/arrays/datetimelike.py?line=1377'>1378</a>\u001b[0m     \u001b[39m# GH#19959 datetime - datetime is well-defined as timedelta,\u001b[39;00m\n\u001b[0;32m   <a href='file:///c%3A/Users/Sander/anaconda3/lib/site-packages/pandas/core/arrays/datetimelike.py?line=1378'>1379</a>\u001b[0m     \u001b[39m# but any other type - datetime is not well-defined.\u001b[39;00m\n\u001b[1;32m-> <a href='file:///c%3A/Users/Sander/anaconda3/lib/site-packages/pandas/core/arrays/datetimelike.py?line=1379'>1380</a>\u001b[0m     \u001b[39mraise\u001b[39;00m \u001b[39mTypeError\u001b[39;00m(\n\u001b[0;32m   <a href='file:///c%3A/Users/Sander/anaconda3/lib/site-packages/pandas/core/arrays/datetimelike.py?line=1380'>1381</a>\u001b[0m         \u001b[39mf\u001b[39m\u001b[39m\"\u001b[39m\u001b[39mcannot subtract \u001b[39m\u001b[39m{\u001b[39;00m\u001b[39mtype\u001b[39m(\u001b[39mself\u001b[39m)\u001b[39m.\u001b[39m\u001b[39m__name__\u001b[39m\u001b[39m}\u001b[39;00m\u001b[39m from \u001b[39m\u001b[39m{\u001b[39;00m\u001b[39mtype\u001b[39m(other)\u001b[39m.\u001b[39m\u001b[39m__name__\u001b[39m\u001b[39m}\u001b[39;00m\u001b[39m\"\u001b[39m\n\u001b[0;32m   <a href='file:///c%3A/Users/Sander/anaconda3/lib/site-packages/pandas/core/arrays/datetimelike.py?line=1381'>1382</a>\u001b[0m     )\n\u001b[0;32m   <a href='file:///c%3A/Users/Sander/anaconda3/lib/site-packages/pandas/core/arrays/datetimelike.py?line=1382'>1383</a>\u001b[0m \u001b[39melif\u001b[39;00m is_period_dtype(\u001b[39mself\u001b[39m\u001b[39m.\u001b[39mdtype) \u001b[39mand\u001b[39;00m is_timedelta64_dtype(other_dtype):\n\u001b[0;32m   <a href='file:///c%3A/Users/Sander/anaconda3/lib/site-packages/pandas/core/arrays/datetimelike.py?line=1383'>1384</a>\u001b[0m     \u001b[39m# TODO: Can we simplify/generalize these cases at all?\u001b[39;00m\n\u001b[0;32m   <a href='file:///c%3A/Users/Sander/anaconda3/lib/site-packages/pandas/core/arrays/datetimelike.py?line=1384'>1385</a>\u001b[0m     \u001b[39mraise\u001b[39;00m \u001b[39mTypeError\u001b[39;00m(\u001b[39mf\u001b[39m\u001b[39m\"\u001b[39m\u001b[39mcannot subtract \u001b[39m\u001b[39m{\u001b[39;00m\u001b[39mtype\u001b[39m(\u001b[39mself\u001b[39m)\u001b[39m.\u001b[39m\u001b[39m__name__\u001b[39m\u001b[39m}\u001b[39;00m\u001b[39m from \u001b[39m\u001b[39m{\u001b[39;00mother\u001b[39m.\u001b[39mdtype\u001b[39m}\u001b[39;00m\u001b[39m\"\u001b[39m)\n",
      "\u001b[1;31mTypeError\u001b[0m: cannot subtract DatetimeArray from ndarray"
     ]
    },
    {
     "ename": "TypeError",
     "evalue": "cannot subtract DatetimeArray from ndarray",
     "output_type": "error",
     "traceback": [
      "\u001b[1;31m---------------------------------------------------------------------------\u001b[0m",
      "\u001b[1;31mTypeError\u001b[0m                                 Traceback (most recent call last)",
      "\u001b[1;32mc:\\Users\\Sander\\Documents\\GitHub\\Process_Mining\\Deliverable Tool.ipynb Cell 11'\u001b[0m in \u001b[0;36m<cell line: 2>\u001b[1;34m()\u001b[0m\n\u001b[0;32m      <a href='vscode-notebook-cell:/c%3A/Users/Sander/Documents/GitHub/Process_Mining/Deliverable%20Tool.ipynb#ch0000010?line=0'>1</a>\u001b[0m \u001b[39m# Running the notebook that adds the baseline predictions to df and df_test\u001b[39;00m\n\u001b[1;32m----> <a href='vscode-notebook-cell:/c%3A/Users/Sander/Documents/GitHub/Process_Mining/Deliverable%20Tool.ipynb#ch0000010?line=1'>2</a>\u001b[0m get_ipython()\u001b[39m.\u001b[39;49mrun_line_magic(\u001b[39m'\u001b[39;49m\u001b[39mrun\u001b[39;49m\u001b[39m'\u001b[39;49m, \u001b[39m'\u001b[39;49m\u001b[39m-i \u001b[39;49m\u001b[39m\"\u001b[39;49m\u001b[39mBaseline Prediction Tool.ipynb\u001b[39;49m\u001b[39m\"\u001b[39;49m\u001b[39m'\u001b[39;49m)\n",
      "File \u001b[1;32m~\\anaconda3\\lib\\site-packages\\IPython\\core\\interactiveshell.py:2285\u001b[0m, in \u001b[0;36mInteractiveShell.run_line_magic\u001b[1;34m(self, magic_name, line, _stack_depth)\u001b[0m\n\u001b[0;32m   <a href='file:///c%3A/Users/Sander/anaconda3/lib/site-packages/IPython/core/interactiveshell.py?line=2282'>2283</a>\u001b[0m     kwargs[\u001b[39m'\u001b[39m\u001b[39mlocal_ns\u001b[39m\u001b[39m'\u001b[39m] \u001b[39m=\u001b[39m \u001b[39mself\u001b[39m\u001b[39m.\u001b[39mget_local_scope(stack_depth)\n\u001b[0;32m   <a href='file:///c%3A/Users/Sander/anaconda3/lib/site-packages/IPython/core/interactiveshell.py?line=2283'>2284</a>\u001b[0m \u001b[39mwith\u001b[39;00m \u001b[39mself\u001b[39m\u001b[39m.\u001b[39mbuiltin_trap:\n\u001b[1;32m-> <a href='file:///c%3A/Users/Sander/anaconda3/lib/site-packages/IPython/core/interactiveshell.py?line=2284'>2285</a>\u001b[0m     result \u001b[39m=\u001b[39m fn(\u001b[39m*\u001b[39margs, \u001b[39m*\u001b[39m\u001b[39m*\u001b[39mkwargs)\n\u001b[0;32m   <a href='file:///c%3A/Users/Sander/anaconda3/lib/site-packages/IPython/core/interactiveshell.py?line=2285'>2286</a>\u001b[0m \u001b[39mreturn\u001b[39;00m result\n",
      "File \u001b[1;32m~\\anaconda3\\lib\\site-packages\\IPython\\core\\magics\\execution.py:717\u001b[0m, in \u001b[0;36mExecutionMagics.run\u001b[1;34m(self, parameter_s, runner, file_finder)\u001b[0m\n\u001b[0;32m    <a href='file:///c%3A/Users/Sander/anaconda3/lib/site-packages/IPython/core/magics/execution.py?line=714'>715</a>\u001b[0m     \u001b[39mwith\u001b[39;00m preserve_keys(\u001b[39mself\u001b[39m\u001b[39m.\u001b[39mshell\u001b[39m.\u001b[39muser_ns, \u001b[39m'\u001b[39m\u001b[39m__file__\u001b[39m\u001b[39m'\u001b[39m):\n\u001b[0;32m    <a href='file:///c%3A/Users/Sander/anaconda3/lib/site-packages/IPython/core/magics/execution.py?line=715'>716</a>\u001b[0m         \u001b[39mself\u001b[39m\u001b[39m.\u001b[39mshell\u001b[39m.\u001b[39muser_ns[\u001b[39m'\u001b[39m\u001b[39m__file__\u001b[39m\u001b[39m'\u001b[39m] \u001b[39m=\u001b[39m filename\n\u001b[1;32m--> <a href='file:///c%3A/Users/Sander/anaconda3/lib/site-packages/IPython/core/magics/execution.py?line=716'>717</a>\u001b[0m         \u001b[39mself\u001b[39;49m\u001b[39m.\u001b[39;49mshell\u001b[39m.\u001b[39;49msafe_execfile_ipy(filename, raise_exceptions\u001b[39m=\u001b[39;49m\u001b[39mTrue\u001b[39;49;00m)\n\u001b[0;32m    <a href='file:///c%3A/Users/Sander/anaconda3/lib/site-packages/IPython/core/magics/execution.py?line=717'>718</a>\u001b[0m     \u001b[39mreturn\u001b[39;00m\n\u001b[0;32m    <a href='file:///c%3A/Users/Sander/anaconda3/lib/site-packages/IPython/core/magics/execution.py?line=719'>720</a>\u001b[0m \u001b[39m# Control the response to exit() calls made by the script being run\u001b[39;00m\n",
      "File \u001b[1;32m~\\anaconda3\\lib\\site-packages\\IPython\\core\\interactiveshell.py:2791\u001b[0m, in \u001b[0;36mInteractiveShell.safe_execfile_ipy\u001b[1;34m(self, fname, shell_futures, raise_exceptions)\u001b[0m\n\u001b[0;32m   <a href='file:///c%3A/Users/Sander/anaconda3/lib/site-packages/IPython/core/interactiveshell.py?line=2788'>2789</a>\u001b[0m result \u001b[39m=\u001b[39m \u001b[39mself\u001b[39m\u001b[39m.\u001b[39mrun_cell(cell, silent\u001b[39m=\u001b[39m\u001b[39mTrue\u001b[39;00m, shell_futures\u001b[39m=\u001b[39mshell_futures)\n\u001b[0;32m   <a href='file:///c%3A/Users/Sander/anaconda3/lib/site-packages/IPython/core/interactiveshell.py?line=2789'>2790</a>\u001b[0m \u001b[39mif\u001b[39;00m raise_exceptions:\n\u001b[1;32m-> <a href='file:///c%3A/Users/Sander/anaconda3/lib/site-packages/IPython/core/interactiveshell.py?line=2790'>2791</a>\u001b[0m     result\u001b[39m.\u001b[39;49mraise_error()\n\u001b[0;32m   <a href='file:///c%3A/Users/Sander/anaconda3/lib/site-packages/IPython/core/interactiveshell.py?line=2791'>2792</a>\u001b[0m \u001b[39melif\u001b[39;00m \u001b[39mnot\u001b[39;00m result\u001b[39m.\u001b[39msuccess:\n\u001b[0;32m   <a href='file:///c%3A/Users/Sander/anaconda3/lib/site-packages/IPython/core/interactiveshell.py?line=2792'>2793</a>\u001b[0m     \u001b[39mbreak\u001b[39;00m\n",
      "File \u001b[1;32m~\\anaconda3\\lib\\site-packages\\IPython\\core\\interactiveshell.py:240\u001b[0m, in \u001b[0;36mExecutionResult.raise_error\u001b[1;34m(self)\u001b[0m\n\u001b[0;32m    <a href='file:///c%3A/Users/Sander/anaconda3/lib/site-packages/IPython/core/interactiveshell.py?line=237'>238</a>\u001b[0m     \u001b[39mraise\u001b[39;00m \u001b[39mself\u001b[39m\u001b[39m.\u001b[39merror_before_exec\n\u001b[0;32m    <a href='file:///c%3A/Users/Sander/anaconda3/lib/site-packages/IPython/core/interactiveshell.py?line=238'>239</a>\u001b[0m \u001b[39mif\u001b[39;00m \u001b[39mself\u001b[39m\u001b[39m.\u001b[39merror_in_exec \u001b[39mis\u001b[39;00m \u001b[39mnot\u001b[39;00m \u001b[39mNone\u001b[39;00m:\n\u001b[1;32m--> <a href='file:///c%3A/Users/Sander/anaconda3/lib/site-packages/IPython/core/interactiveshell.py?line=239'>240</a>\u001b[0m     \u001b[39mraise\u001b[39;00m \u001b[39mself\u001b[39m\u001b[39m.\u001b[39merror_in_exec\n",
      "    \u001b[1;31m[... skipping hidden 1 frame]\u001b[0m\n",
      "File \u001b[1;32m~\\AppData\\Local\\Temp\\ipykernel_25916\\1180284119.py:5\u001b[0m, in \u001b[0;36m<cell line: 5>\u001b[1;34m()\u001b[0m\n\u001b[0;32m      <a href='file:///c%3A/Users/Sander/AppData/Local/Temp/ipykernel_25916/1180284119.py?line=0'>1</a>\u001b[0m \u001b[39m# Mean Absolute Error of baseline last activity time predictions:\u001b[39;00m\n\u001b[0;32m      <a href='file:///c%3A/Users/Sander/AppData/Local/Temp/ipykernel_25916/1180284119.py?line=2'>3</a>\u001b[0m training_time_MAE \u001b[39m=\u001b[39m \u001b[39mabs\u001b[39m(df[timestamp_column] \u001b[39m-\u001b[39m df[baseline_la_next_timestamp_column]\u001b[39m.\u001b[39mshift(periods\u001b[39m=\u001b[39m\u001b[39m1\u001b[39m))[df[case_column]\u001b[39m.\u001b[39mshift(periods\u001b[39m=\u001b[39m\u001b[39m1\u001b[39m) \u001b[39m==\u001b[39m df[case_column]]\u001b[39m.\u001b[39mmean()\n\u001b[1;32m----> <a href='file:///c%3A/Users/Sander/AppData/Local/Temp/ipykernel_25916/1180284119.py?line=4'>5</a>\u001b[0m test_time_MAE \u001b[39m=\u001b[39m \u001b[39mabs\u001b[39m(df_test[timestamp_column] \u001b[39m-\u001b[39;49m df_test[baseline_la_next_timestamp_column]\u001b[39m.\u001b[39;49mshift(periods\u001b[39m=\u001b[39;49m\u001b[39m1\u001b[39;49m))[df_test[case_column]\u001b[39m.\u001b[39mshift(periods\u001b[39m=\u001b[39m\u001b[39m1\u001b[39m) \u001b[39m==\u001b[39m df_test[case_column]]\u001b[39m.\u001b[39mmean()\n\u001b[0;32m      <a href='file:///c%3A/Users/Sander/AppData/Local/Temp/ipykernel_25916/1180284119.py?line=6'>7</a>\u001b[0m training_time_MAE, test_time_MAE\n",
      "File \u001b[1;32m~\\anaconda3\\lib\\site-packages\\pandas\\core\\ops\\common.py:70\u001b[0m, in \u001b[0;36m_unpack_zerodim_and_defer.<locals>.new_method\u001b[1;34m(self, other)\u001b[0m\n\u001b[0;32m     <a href='file:///c%3A/Users/Sander/anaconda3/lib/site-packages/pandas/core/ops/common.py?line=65'>66</a>\u001b[0m             \u001b[39mreturn\u001b[39;00m \u001b[39mNotImplemented\u001b[39m\n\u001b[0;32m     <a href='file:///c%3A/Users/Sander/anaconda3/lib/site-packages/pandas/core/ops/common.py?line=67'>68</a>\u001b[0m other \u001b[39m=\u001b[39m item_from_zerodim(other)\n\u001b[1;32m---> <a href='file:///c%3A/Users/Sander/anaconda3/lib/site-packages/pandas/core/ops/common.py?line=69'>70</a>\u001b[0m \u001b[39mreturn\u001b[39;00m method(\u001b[39mself\u001b[39;49m, other)\n",
      "File \u001b[1;32m~\\anaconda3\\lib\\site-packages\\pandas\\core\\arraylike.py:108\u001b[0m, in \u001b[0;36mOpsMixin.__sub__\u001b[1;34m(self, other)\u001b[0m\n\u001b[0;32m    <a href='file:///c%3A/Users/Sander/anaconda3/lib/site-packages/pandas/core/arraylike.py?line=105'>106</a>\u001b[0m \u001b[39m@unpack_zerodim_and_defer\u001b[39m(\u001b[39m\"\u001b[39m\u001b[39m__sub__\u001b[39m\u001b[39m\"\u001b[39m)\n\u001b[0;32m    <a href='file:///c%3A/Users/Sander/anaconda3/lib/site-packages/pandas/core/arraylike.py?line=106'>107</a>\u001b[0m \u001b[39mdef\u001b[39;00m \u001b[39m__sub__\u001b[39m(\u001b[39mself\u001b[39m, other):\n\u001b[1;32m--> <a href='file:///c%3A/Users/Sander/anaconda3/lib/site-packages/pandas/core/arraylike.py?line=107'>108</a>\u001b[0m     \u001b[39mreturn\u001b[39;00m \u001b[39mself\u001b[39;49m\u001b[39m.\u001b[39;49m_arith_method(other, operator\u001b[39m.\u001b[39;49msub)\n",
      "File \u001b[1;32m~\\anaconda3\\lib\\site-packages\\pandas\\core\\series.py:5639\u001b[0m, in \u001b[0;36mSeries._arith_method\u001b[1;34m(self, other, op)\u001b[0m\n\u001b[0;32m   <a href='file:///c%3A/Users/Sander/anaconda3/lib/site-packages/pandas/core/series.py?line=5636'>5637</a>\u001b[0m \u001b[39mdef\u001b[39;00m \u001b[39m_arith_method\u001b[39m(\u001b[39mself\u001b[39m, other, op):\n\u001b[0;32m   <a href='file:///c%3A/Users/Sander/anaconda3/lib/site-packages/pandas/core/series.py?line=5637'>5638</a>\u001b[0m     \u001b[39mself\u001b[39m, other \u001b[39m=\u001b[39m ops\u001b[39m.\u001b[39malign_method_SERIES(\u001b[39mself\u001b[39m, other)\n\u001b[1;32m-> <a href='file:///c%3A/Users/Sander/anaconda3/lib/site-packages/pandas/core/series.py?line=5638'>5639</a>\u001b[0m     \u001b[39mreturn\u001b[39;00m base\u001b[39m.\u001b[39;49mIndexOpsMixin\u001b[39m.\u001b[39;49m_arith_method(\u001b[39mself\u001b[39;49m, other, op)\n",
      "File \u001b[1;32m~\\anaconda3\\lib\\site-packages\\pandas\\core\\base.py:1295\u001b[0m, in \u001b[0;36mIndexOpsMixin._arith_method\u001b[1;34m(self, other, op)\u001b[0m\n\u001b[0;32m   <a href='file:///c%3A/Users/Sander/anaconda3/lib/site-packages/pandas/core/base.py?line=1291'>1292</a>\u001b[0m rvalues \u001b[39m=\u001b[39m ensure_wrapped_if_datetimelike(rvalues)\n\u001b[0;32m   <a href='file:///c%3A/Users/Sander/anaconda3/lib/site-packages/pandas/core/base.py?line=1293'>1294</a>\u001b[0m \u001b[39mwith\u001b[39;00m np\u001b[39m.\u001b[39merrstate(\u001b[39mall\u001b[39m\u001b[39m=\u001b[39m\u001b[39m\"\u001b[39m\u001b[39mignore\u001b[39m\u001b[39m\"\u001b[39m):\n\u001b[1;32m-> <a href='file:///c%3A/Users/Sander/anaconda3/lib/site-packages/pandas/core/base.py?line=1294'>1295</a>\u001b[0m     result \u001b[39m=\u001b[39m ops\u001b[39m.\u001b[39;49marithmetic_op(lvalues, rvalues, op)\n\u001b[0;32m   <a href='file:///c%3A/Users/Sander/anaconda3/lib/site-packages/pandas/core/base.py?line=1296'>1297</a>\u001b[0m \u001b[39mreturn\u001b[39;00m \u001b[39mself\u001b[39m\u001b[39m.\u001b[39m_construct_result(result, name\u001b[39m=\u001b[39mres_name)\n",
      "File \u001b[1;32m~\\anaconda3\\lib\\site-packages\\pandas\\core\\ops\\array_ops.py:216\u001b[0m, in \u001b[0;36marithmetic_op\u001b[1;34m(left, right, op)\u001b[0m\n\u001b[0;32m    <a href='file:///c%3A/Users/Sander/anaconda3/lib/site-packages/pandas/core/ops/array_ops.py?line=202'>203</a>\u001b[0m \u001b[39m# NB: We assume that extract_array and ensure_wrapped_if_datetimelike\u001b[39;00m\n\u001b[0;32m    <a href='file:///c%3A/Users/Sander/anaconda3/lib/site-packages/pandas/core/ops/array_ops.py?line=203'>204</a>\u001b[0m \u001b[39m#  have already been called on `left` and `right`,\u001b[39;00m\n\u001b[0;32m    <a href='file:///c%3A/Users/Sander/anaconda3/lib/site-packages/pandas/core/ops/array_ops.py?line=204'>205</a>\u001b[0m \u001b[39m#  and `maybe_prepare_scalar_for_op` has already been called on `right`\u001b[39;00m\n\u001b[0;32m    <a href='file:///c%3A/Users/Sander/anaconda3/lib/site-packages/pandas/core/ops/array_ops.py?line=205'>206</a>\u001b[0m \u001b[39m# We need to special-case datetime64/timedelta64 dtypes (e.g. because numpy\u001b[39;00m\n\u001b[0;32m    <a href='file:///c%3A/Users/Sander/anaconda3/lib/site-packages/pandas/core/ops/array_ops.py?line=206'>207</a>\u001b[0m \u001b[39m# casts integer dtypes to timedelta64 when operating with timedelta64 - GH#22390)\u001b[39;00m\n\u001b[0;32m    <a href='file:///c%3A/Users/Sander/anaconda3/lib/site-packages/pandas/core/ops/array_ops.py?line=208'>209</a>\u001b[0m \u001b[39mif\u001b[39;00m (\n\u001b[0;32m    <a href='file:///c%3A/Users/Sander/anaconda3/lib/site-packages/pandas/core/ops/array_ops.py?line=209'>210</a>\u001b[0m     should_extension_dispatch(left, right)\n\u001b[0;32m    <a href='file:///c%3A/Users/Sander/anaconda3/lib/site-packages/pandas/core/ops/array_ops.py?line=210'>211</a>\u001b[0m     \u001b[39mor\u001b[39;00m \u001b[39misinstance\u001b[39m(right, (Timedelta, BaseOffset, Timestamp))\n\u001b[1;32m   (...)\u001b[0m\n\u001b[0;32m    <a href='file:///c%3A/Users/Sander/anaconda3/lib/site-packages/pandas/core/ops/array_ops.py?line=213'>214</a>\u001b[0m     \u001b[39m# Timedelta/Timestamp and other custom scalars are included in the check\u001b[39;00m\n\u001b[0;32m    <a href='file:///c%3A/Users/Sander/anaconda3/lib/site-packages/pandas/core/ops/array_ops.py?line=214'>215</a>\u001b[0m     \u001b[39m# because numexpr will fail on it, see GH#31457\u001b[39;00m\n\u001b[1;32m--> <a href='file:///c%3A/Users/Sander/anaconda3/lib/site-packages/pandas/core/ops/array_ops.py?line=215'>216</a>\u001b[0m     res_values \u001b[39m=\u001b[39m op(left, right)\n\u001b[0;32m    <a href='file:///c%3A/Users/Sander/anaconda3/lib/site-packages/pandas/core/ops/array_ops.py?line=216'>217</a>\u001b[0m \u001b[39melse\u001b[39;00m:\n\u001b[0;32m    <a href='file:///c%3A/Users/Sander/anaconda3/lib/site-packages/pandas/core/ops/array_ops.py?line=217'>218</a>\u001b[0m     \u001b[39m# TODO we should handle EAs consistently and move this check before the if/else\u001b[39;00m\n\u001b[0;32m    <a href='file:///c%3A/Users/Sander/anaconda3/lib/site-packages/pandas/core/ops/array_ops.py?line=218'>219</a>\u001b[0m     \u001b[39m# (https://github.com/pandas-dev/pandas/issues/41165)\u001b[39;00m\n\u001b[0;32m    <a href='file:///c%3A/Users/Sander/anaconda3/lib/site-packages/pandas/core/ops/array_ops.py?line=219'>220</a>\u001b[0m     _bool_arith_check(op, left, right)\n",
      "File \u001b[1;32m~\\anaconda3\\lib\\site-packages\\pandas\\core\\arrays\\datetimelike.py:1752\u001b[0m, in \u001b[0;36mTimelikeOps.__array_ufunc__\u001b[1;34m(self, ufunc, method, *inputs, **kwargs)\u001b[0m\n\u001b[0;32m   <a href='file:///c%3A/Users/Sander/anaconda3/lib/site-packages/pandas/core/arrays/datetimelike.py?line=1743'>1744</a>\u001b[0m \u001b[39mif\u001b[39;00m (\n\u001b[0;32m   <a href='file:///c%3A/Users/Sander/anaconda3/lib/site-packages/pandas/core/arrays/datetimelike.py?line=1744'>1745</a>\u001b[0m     ufunc \u001b[39min\u001b[39;00m [np\u001b[39m.\u001b[39misnan, np\u001b[39m.\u001b[39misinf, np\u001b[39m.\u001b[39misfinite]\n\u001b[0;32m   <a href='file:///c%3A/Users/Sander/anaconda3/lib/site-packages/pandas/core/arrays/datetimelike.py?line=1745'>1746</a>\u001b[0m     \u001b[39mand\u001b[39;00m \u001b[39mlen\u001b[39m(inputs) \u001b[39m==\u001b[39m \u001b[39m1\u001b[39m\n\u001b[0;32m   <a href='file:///c%3A/Users/Sander/anaconda3/lib/site-packages/pandas/core/arrays/datetimelike.py?line=1746'>1747</a>\u001b[0m     \u001b[39mand\u001b[39;00m inputs[\u001b[39m0\u001b[39m] \u001b[39mis\u001b[39;00m \u001b[39mself\u001b[39m\n\u001b[0;32m   <a href='file:///c%3A/Users/Sander/anaconda3/lib/site-packages/pandas/core/arrays/datetimelike.py?line=1747'>1748</a>\u001b[0m ):\n\u001b[0;32m   <a href='file:///c%3A/Users/Sander/anaconda3/lib/site-packages/pandas/core/arrays/datetimelike.py?line=1748'>1749</a>\u001b[0m     \u001b[39m# numpy 1.18 changed isinf and isnan to not raise on dt64/td64\u001b[39;00m\n\u001b[0;32m   <a href='file:///c%3A/Users/Sander/anaconda3/lib/site-packages/pandas/core/arrays/datetimelike.py?line=1749'>1750</a>\u001b[0m     \u001b[39mreturn\u001b[39;00m \u001b[39mgetattr\u001b[39m(ufunc, method)(\u001b[39mself\u001b[39m\u001b[39m.\u001b[39m_ndarray, \u001b[39m*\u001b[39m\u001b[39m*\u001b[39mkwargs)\n\u001b[1;32m-> <a href='file:///c%3A/Users/Sander/anaconda3/lib/site-packages/pandas/core/arrays/datetimelike.py?line=1751'>1752</a>\u001b[0m \u001b[39mreturn\u001b[39;00m \u001b[39msuper\u001b[39m()\u001b[39m.\u001b[39m__array_ufunc__(ufunc, method, \u001b[39m*\u001b[39minputs, \u001b[39m*\u001b[39m\u001b[39m*\u001b[39mkwargs)\n",
      "File \u001b[1;32m~\\anaconda3\\lib\\site-packages\\pandas\\core\\arrays\\base.py:1611\u001b[0m, in \u001b[0;36mExtensionArray.__array_ufunc__\u001b[1;34m(self, ufunc, method, *inputs, **kwargs)\u001b[0m\n\u001b[0;32m   <a href='file:///c%3A/Users/Sander/anaconda3/lib/site-packages/pandas/core/arrays/base.py?line=1605'>1606</a>\u001b[0m \u001b[39mif\u001b[39;00m \u001b[39many\u001b[39m(\n\u001b[0;32m   <a href='file:///c%3A/Users/Sander/anaconda3/lib/site-packages/pandas/core/arrays/base.py?line=1606'>1607</a>\u001b[0m     \u001b[39misinstance\u001b[39m(other, (ABCSeries, ABCIndex, ABCDataFrame)) \u001b[39mfor\u001b[39;00m other \u001b[39min\u001b[39;00m inputs\n\u001b[0;32m   <a href='file:///c%3A/Users/Sander/anaconda3/lib/site-packages/pandas/core/arrays/base.py?line=1607'>1608</a>\u001b[0m ):\n\u001b[0;32m   <a href='file:///c%3A/Users/Sander/anaconda3/lib/site-packages/pandas/core/arrays/base.py?line=1608'>1609</a>\u001b[0m     \u001b[39mreturn\u001b[39;00m \u001b[39mNotImplemented\u001b[39m\n\u001b[1;32m-> <a href='file:///c%3A/Users/Sander/anaconda3/lib/site-packages/pandas/core/arrays/base.py?line=1610'>1611</a>\u001b[0m result \u001b[39m=\u001b[39m arraylike\u001b[39m.\u001b[39mmaybe_dispatch_ufunc_to_dunder_op(\n\u001b[0;32m   <a href='file:///c%3A/Users/Sander/anaconda3/lib/site-packages/pandas/core/arrays/base.py?line=1611'>1612</a>\u001b[0m     \u001b[39mself\u001b[39m, ufunc, method, \u001b[39m*\u001b[39minputs, \u001b[39m*\u001b[39m\u001b[39m*\u001b[39mkwargs\n\u001b[0;32m   <a href='file:///c%3A/Users/Sander/anaconda3/lib/site-packages/pandas/core/arrays/base.py?line=1612'>1613</a>\u001b[0m )\n\u001b[0;32m   <a href='file:///c%3A/Users/Sander/anaconda3/lib/site-packages/pandas/core/arrays/base.py?line=1613'>1614</a>\u001b[0m \u001b[39mif\u001b[39;00m result \u001b[39mis\u001b[39;00m \u001b[39mnot\u001b[39;00m \u001b[39mNotImplemented\u001b[39m:\n\u001b[0;32m   <a href='file:///c%3A/Users/Sander/anaconda3/lib/site-packages/pandas/core/arrays/base.py?line=1614'>1615</a>\u001b[0m     \u001b[39mreturn\u001b[39;00m result\n",
      "File \u001b[1;32m~\\anaconda3\\lib\\site-packages\\pandas\\_libs\\ops_dispatch.pyx:113\u001b[0m, in \u001b[0;36mpandas._libs.ops_dispatch.maybe_dispatch_ufunc_to_dunder_op\u001b[1;34m()\u001b[0m\n",
      "File \u001b[1;32m~\\anaconda3\\lib\\site-packages\\pandas\\core\\arrays\\datetimelike.py:1380\u001b[0m, in \u001b[0;36mDatetimeLikeArrayMixin.__rsub__\u001b[1;34m(self, other)\u001b[0m\n\u001b[0;32m   <a href='file:///c%3A/Users/Sander/anaconda3/lib/site-packages/pandas/core/arrays/datetimelike.py?line=1371'>1372</a>\u001b[0m     \u001b[39mreturn\u001b[39;00m other \u001b[39m-\u001b[39m \u001b[39mself\u001b[39m\n\u001b[0;32m   <a href='file:///c%3A/Users/Sander/anaconda3/lib/site-packages/pandas/core/arrays/datetimelike.py?line=1372'>1373</a>\u001b[0m \u001b[39melif\u001b[39;00m (\n\u001b[0;32m   <a href='file:///c%3A/Users/Sander/anaconda3/lib/site-packages/pandas/core/arrays/datetimelike.py?line=1373'>1374</a>\u001b[0m     is_datetime64_any_dtype(\u001b[39mself\u001b[39m\u001b[39m.\u001b[39mdtype)\n\u001b[0;32m   <a href='file:///c%3A/Users/Sander/anaconda3/lib/site-packages/pandas/core/arrays/datetimelike.py?line=1374'>1375</a>\u001b[0m     \u001b[39mand\u001b[39;00m \u001b[39mhasattr\u001b[39m(other, \u001b[39m\"\u001b[39m\u001b[39mdtype\u001b[39m\u001b[39m\"\u001b[39m)\n\u001b[1;32m   (...)\u001b[0m\n\u001b[0;32m   <a href='file:///c%3A/Users/Sander/anaconda3/lib/site-packages/pandas/core/arrays/datetimelike.py?line=1377'>1378</a>\u001b[0m     \u001b[39m# GH#19959 datetime - datetime is well-defined as timedelta,\u001b[39;00m\n\u001b[0;32m   <a href='file:///c%3A/Users/Sander/anaconda3/lib/site-packages/pandas/core/arrays/datetimelike.py?line=1378'>1379</a>\u001b[0m     \u001b[39m# but any other type - datetime is not well-defined.\u001b[39;00m\n\u001b[1;32m-> <a href='file:///c%3A/Users/Sander/anaconda3/lib/site-packages/pandas/core/arrays/datetimelike.py?line=1379'>1380</a>\u001b[0m     \u001b[39mraise\u001b[39;00m \u001b[39mTypeError\u001b[39;00m(\n\u001b[0;32m   <a href='file:///c%3A/Users/Sander/anaconda3/lib/site-packages/pandas/core/arrays/datetimelike.py?line=1380'>1381</a>\u001b[0m         \u001b[39mf\u001b[39m\u001b[39m\"\u001b[39m\u001b[39mcannot subtract \u001b[39m\u001b[39m{\u001b[39;00m\u001b[39mtype\u001b[39m(\u001b[39mself\u001b[39m)\u001b[39m.\u001b[39m\u001b[39m__name__\u001b[39m\u001b[39m}\u001b[39;00m\u001b[39m from \u001b[39m\u001b[39m{\u001b[39;00m\u001b[39mtype\u001b[39m(other)\u001b[39m.\u001b[39m\u001b[39m__name__\u001b[39m\u001b[39m}\u001b[39;00m\u001b[39m\"\u001b[39m\n\u001b[0;32m   <a href='file:///c%3A/Users/Sander/anaconda3/lib/site-packages/pandas/core/arrays/datetimelike.py?line=1381'>1382</a>\u001b[0m     )\n\u001b[0;32m   <a href='file:///c%3A/Users/Sander/anaconda3/lib/site-packages/pandas/core/arrays/datetimelike.py?line=1382'>1383</a>\u001b[0m \u001b[39melif\u001b[39;00m is_period_dtype(\u001b[39mself\u001b[39m\u001b[39m.\u001b[39mdtype) \u001b[39mand\u001b[39;00m is_timedelta64_dtype(other_dtype):\n\u001b[0;32m   <a href='file:///c%3A/Users/Sander/anaconda3/lib/site-packages/pandas/core/arrays/datetimelike.py?line=1383'>1384</a>\u001b[0m     \u001b[39m# TODO: Can we simplify/generalize these cases at all?\u001b[39;00m\n\u001b[0;32m   <a href='file:///c%3A/Users/Sander/anaconda3/lib/site-packages/pandas/core/arrays/datetimelike.py?line=1384'>1385</a>\u001b[0m     \u001b[39mraise\u001b[39;00m \u001b[39mTypeError\u001b[39;00m(\u001b[39mf\u001b[39m\u001b[39m\"\u001b[39m\u001b[39mcannot subtract \u001b[39m\u001b[39m{\u001b[39;00m\u001b[39mtype\u001b[39m(\u001b[39mself\u001b[39m)\u001b[39m.\u001b[39m\u001b[39m__name__\u001b[39m\u001b[39m}\u001b[39;00m\u001b[39m from \u001b[39m\u001b[39m{\u001b[39;00mother\u001b[39m.\u001b[39mdtype\u001b[39m}\u001b[39;00m\u001b[39m\"\u001b[39m)\n",
      "\u001b[1;31mTypeError\u001b[0m: cannot subtract DatetimeArray from ndarray"
     ]
    }
   ],
   "source": [
    "# Running the notebook that adds the baseline predictions to df and df_test\n",
    "%run -i \"Baseline Prediction Tool.ipynb\""
   ]
  },
  {
   "cell_type": "code",
   "execution_count": null,
   "metadata": {},
   "outputs": [],
   "source": [
    "# Accuracy % of the baseline based on last event, event predictions:\n",
    "\n",
    "training_event_accuracy = len(df[(df[baseline_la_next_event_column].shift(periods=1)==df[event_column]) & (df[case_column].shift(periods=1) == df[case_column])]) * 100 / len(df[df[case_column].shift(periods=1) == df[case_column]])\n",
    "\n",
    "test_event_accuracy = len(df_test[(df_test[baseline_la_next_event_column].shift(periods=1)==df_test[event_column]) & (df_test[case_column].shift(periods=1) == df_test[case_column])]) * 100 / len(df_test[df_test[case_column].shift(periods=1) == df_test[case_column]])\n",
    "\n",
    "training_event_accuracy, test_event_accuracy"
   ]
  },
  {
   "cell_type": "code",
   "execution_count": null,
   "metadata": {},
   "outputs": [],
   "source": [
    "# Accuracy % of the baseline based on last position, event predictions:\n",
    "\n",
    "training_event_accuracy = len(df[(df[baseline_pos_next_event_column].shift(periods=1)==df[event_column]) & (df[case_column].shift(periods=1) == df[case_column])]) * 100 / len(df[df[case_column].shift(periods=1) == df[case_column]])\n",
    "\n",
    "test_event_accuracy = len(df_test[(df_test[baseline_pos_next_event_column].shift(periods=1)==df_test[event_column]) & (df_test[case_column].shift(periods=1) == df_test[case_column])]) * 100 / len(df_test[df_test[case_column].shift(periods=1) == df_test[case_column]])\n",
    "\n",
    "training_event_accuracy, test_event_accuracy"
   ]
  },
  {
   "cell_type": "code",
   "execution_count": null,
   "metadata": {},
   "outputs": [],
   "source": [
    "# Mean Absolute Error of the baseline based on last event, time predictions:\n",
    "\n",
    "training_time_MAE = abs(df[timestamp_column] - df[baseline_la_next_timestamp_column].shift(periods=1))[df[case_column].shift(periods=1) == df[case_column]].mean()\n",
    "\n",
    "test_time_MAE = abs(df_test[timestamp_column] - df_test[baseline_la_next_timestamp_column].shift(periods=1))[df_test[case_column].shift(periods=1) == df_test[case_column]].mean()\n",
    "\n",
    "training_time_MAE, test_time_MAE"
   ]
  },
  {
   "cell_type": "code",
   "execution_count": null,
   "metadata": {},
   "outputs": [],
   "source": [
    "# Mean Absolute Error of the baseline based on last position, time predictions:\n",
    "\n",
    "training_time_MAE = abs(df[timestamp_column] - df[baseline_pos_next_timestamp_column].shift(periods=1))[df[case_column].shift(periods=1) == df[case_column]].mean()\n",
    "\n",
    "test_time_MAE = abs(df_test[timestamp_column] - df_test[baseline_pos_next_timestamp_column].shift(periods=1))[df_test[case_column].shift(periods=1) == df_test[case_column]].mean()\n",
    "\n",
    "training_time_MAE, test_time_MAE"
   ]
  },
  {
   "cell_type": "code",
   "execution_count": null,
   "metadata": {},
   "outputs": [],
   "source": [
    "# Running the notebook that adds the on-the-fly event prediction to df and df_test\n",
    "%run -i \"event_onTheFly.ipynb\""
   ]
  },
  {
   "cell_type": "code",
   "execution_count": null,
   "metadata": {},
   "outputs": [],
   "source": [
    "df.head(10)"
   ]
  },
  {
   "cell_type": "code",
   "execution_count": null,
   "metadata": {
    "collapsed": false,
    "pycharm": {
     "name": "#%%\n"
    }
   },
   "outputs": [],
   "source": [
    "print(f'train accuracy event on the fly: {train_acc_event_otf*100}') # does still run because is in event_onthefly.ipynb\n",
    "print(f'test accuracy event on the fly: {test_acc_event_otf*100}')"
   ]
  },
  {
   "cell_type": "code",
   "execution_count": null,
   "metadata": {},
   "outputs": [],
   "source": [
    "#df = df.sort_values(by=[case_column, timestamp_column]).reset_index(drop=True)\n",
    "#df_test = df_test.sort_values(by=[case_column, timestamp_column]).reset_index(drop=True)\n",
    "\n",
    "#training_event_accuracy = len(df[(df[pred_event_otf].shift(periods=1)==df[event_column]) & (df[case_column].shift(periods=1) == df[case_column])]) * 100 / len(df[df[case_column].shift(periods=1) == df[case_column]])\n",
    "\n",
    "#test_event_accuracy = len(df_test[(df_test[pred_event_otf].shift(periods=1)==df_test[event_column]) & (df_test[case_column].shift(periods=1) == df_test[case_column])]) * 100 / len(df_test[df_test[case_column].shift(periods=1) == df_test[case_column]])\n",
    "\n",
    "#training_event_accuracy, test_event_accuracy\n"
   ]
  },
  {
   "cell_type": "code",
   "execution_count": null,
   "metadata": {},
   "outputs": [],
   "source": [
    "# Accuracy % of the on-the-fly event predictions:\n",
    "\n",
    "# training_event_accuracy = len(df[(df[baseline_next_event_column].shift(periods=1)==df[event_column]) & (df[case_column].shift(periods=1) == df[case_column])]) * 100 / len(df[df[case_column].shift(periods=1) == df[case_column]])\n",
    "\n",
    "# test_event_accuracy = len(df_test[(df_test[baseline_next_event_column].shift(periods=1)==df_test[event_column]) & (df_test[case_column].shift(periods=1) == df_test[case_column])]) * 100 / len(df_test[df_test[case_column].shift(periods=1) == df_test[case_column]])\n",
    "\n",
    "# training_event_accuracy, test_event_accuracy"
   ]
  },
  {
   "cell_type": "code",
   "execution_count": null,
   "metadata": {},
   "outputs": [],
   "source": [
    "# Running the notebook that adds the on-the-fly event prediction to df and df_test\n",
    "%run -i \"timePrediction_onTheFly.ipynb\" # Takes around 2 minutes to run"
   ]
  },
  {
   "cell_type": "code",
   "execution_count": null,
   "metadata": {},
   "outputs": [],
   "source": [
    "df.head(10)"
   ]
  },
  {
   "cell_type": "code",
   "execution_count": null,
   "metadata": {},
   "outputs": [],
   "source": [
    "# Mean Absolute Error of the on-the-fly time predictions:\n",
    "\n",
    "# training_time_MAE = abs(df[timestamp_column] - df[baseline_next_timestamp_column].shift(periods=1))[df[case_column].shift(periods=1) == df[case_column]].mean()\n",
    "\n",
    "# test_time_MAE = abs(df_test[timestamp_column] - df_test[baseline_next_timestamp_column].shift(periods=1))[df_test[case_column].shift(periods=1) == df_test[case_column]].mean()\n",
    "\n",
    "# training_time_MAE, test_time_MAE"
   ]
  },
  {
   "cell_type": "code",
   "execution_count": null,
   "metadata": {},
   "outputs": [],
   "source": []
  }
 ],
 "metadata": {
  "interpreter": {
   "hash": "450e333e9284914ea1fdff9838c0f3ff8e2f8f37f2f7a4d8dce33ea62376eaf6"
  },
  "kernelspec": {
   "display_name": "Python 3.9.7 ('base')",
   "language": "python",
   "name": "python3"
  },
  "language_info": {
   "codemirror_mode": {
    "name": "ipython",
    "version": 3
   },
   "file_extension": ".py",
   "mimetype": "text/x-python",
   "name": "python",
   "nbconvert_exporter": "python",
   "pygments_lexer": "ipython3",
   "version": "3.9.11"
  },
  "orig_nbformat": 4
 },
 "nbformat": 4,
 "nbformat_minor": 2
}
