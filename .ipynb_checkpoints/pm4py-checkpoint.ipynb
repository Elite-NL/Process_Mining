{
 "cells": [
  {
   "cell_type": "code",
   "execution_count": null,
   "metadata": {
    "pycharm": {
     "is_executing": true
    }
   },
   "outputs": [],
   "source": [
    "!pip install pm4py"
   ]
  },
  {
   "cell_type": "code",
   "execution_count": null,
   "metadata": {},
   "outputs": [],
   "source": [
    "### From tutorial 1-4 ###"
   ]
  },
  {
   "cell_type": "code",
   "execution_count": null,
   "metadata": {
    "pycharm": {
     "is_executing": true,
     "name": "#%%\n"
    }
   },
   "outputs": [],
   "source": [
    "import pandas as pd\n",
    "import pm4py\n",
    "\n",
    "from mp4py.objects.log.util import func as functools"
   ]
  },
  {
   "cell_type": "code",
   "execution_count": null,
   "metadata": {
    "pycharm": {
     "name": "#%%\n"
    }
   },
   "outputs": [],
   "source": [
    "filepath = 'running_example.csv'\n",
    "event_log = pd.read_csv(file_path, sep=';')\n",
    "num_events = len(event_log)\n",
    "num_cases = len(pd.unique(event_log['case_id']))\n",
    "\n",
    "print('Number of events = ' + str(num_events) + ' and the number of cases = ' + str(num_cases) + '.')\n"
   ]
  },
  {
   "cell_type": "code",
   "execution_count": null,
   "metadata": {},
   "outputs": [],
   "source": [
    "# work with pm4py\n",
    "\n",
    "event_log = pm4py.format_dataframe(event_log, case_id='case_id', activity_key='activity', timestamp_key='timestamp', timest_format='%Y-%m-%d %H:%M:%S%z')\n",
    "start_activities = pm4py.get_start_activities(event_log)\n",
    "end_activities = pm4py.get_end_activities(event_log)\n",
    "\n",
    "print('Start activities: ' + str(start_activities) + '.')\n",
    "print('End activities: ' + str(end_activities) + '.')"
   ]
  },
  {
   "cell_type": "code",
   "execution_count": null,
   "metadata": {},
   "outputs": [],
   "source": [
    "# look at the event log\n",
    "\n",
    "print(event_log)\n",
    "print(' ')\n",
    "for t in event_log:\n",
    "    print(t)"
   ]
  },
  {
   "cell_type": "code",
   "execution_count": null,
   "metadata": {},
   "outputs": [],
   "source": [
    "# evaluate traces\n",
    "\n",
    "trace_log = functools.filter_(lambda t: len(t) > 5, event_log)\n",
    "print(type(trace_log))\n",
    "print(trace_log)\n",
    "for t in trace_log:\n",
    "    print(t)\n",
    "    \n",
    "print(' ')\n",
    "\n",
    "print(trace_log.attributes)\n",
    "print(trace_log.classifiers)\n",
    "print(trace_log.omni_present)"
   ]
  },
  {
   "cell_type": "code",
   "execution_count": null,
   "metadata": {},
   "outputs": [],
   "source": [
    "# I prefer working with a pandas dataframe over an eventstream, but just for the sake of completeness\n",
    "\n",
    "event_stream = pm4py.convert_to_event_stream(event_log)\n",
    "event_stream_mike = functools.filter_(lambda e: e['org:resource'] == 'Mike', event_stream)\n",
    "\n",
    "print(type(event_stream_mike))\n",
    "\n",
    "for e in event_stream_mike:\n",
    "    print(e)\n",
    "    \n",
    "event_log_mike = pm4py.convert_to_event_log(event_stream_mike)\n",
    "\n",
    "for t in event_log_mike:\n",
    "    print(t)"
   ]
  }
 ],
 "metadata": {
  "kernelspec": {
   "display_name": "Python 3",
   "language": "python",
   "name": "python3"
  },
  "language_info": {
   "codemirror_mode": {
    "name": "ipython",
    "version": 3
   },
   "file_extension": ".py",
   "mimetype": "text/x-python",
   "name": "python",
   "nbconvert_exporter": "python",
   "pygments_lexer": "ipython3",
   "version": "3.7.4"
  }
 },
 "nbformat": 4,
 "nbformat_minor": 1
}
