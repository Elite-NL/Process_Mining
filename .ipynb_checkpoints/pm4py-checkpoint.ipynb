{
 "cells": [
  {
   "cell_type": "code",
   "execution_count": 1,
   "metadata": {},
   "outputs": [],
   "source": [
    "### From tutorial 1-4 ###"
   ]
  },
  {
   "cell_type": "code",
   "execution_count": 2,
   "metadata": {
    "pycharm": {
     "is_executing": true,
     "name": "#%%\n"
    }
   },
   "outputs": [],
   "source": [
    "import pandas as pd\n",
    "import pm4py\n",
    "\n",
    "from pm4py.objects.log.util import func as functools"
   ]
  },
  {
   "cell_type": "code",
   "execution_count": 3,
   "metadata": {
    "pycharm": {
     "name": "#%%\n"
    }
   },
   "outputs": [
    {
     "name": "stdout",
     "output_type": "stream",
     "text": [
      "Number of events = 42 and the number of cases = 6.\n"
     ]
    }
   ],
   "source": [
    "file_path = 'running-example.csv'\n",
    "event_log = pd.read_csv(file_path, sep=';')\n",
    "num_events = len(event_log)\n",
    "num_cases = len(pd.unique(event_log['case_id']))\n",
    "\n",
    "print('Number of events = ' + str(num_events) + ' and the number of cases = ' + str(num_cases) + '.')\n"
   ]
  },
  {
   "cell_type": "code",
   "execution_count": 4,
   "metadata": {},
   "outputs": [
    {
     "name": "stdout",
     "output_type": "stream",
     "text": [
      "Start activities: {'register request': 6}.\n",
      "End activities: {'reject request': 3, 'pay compensation': 3}.\n"
     ]
    }
   ],
   "source": [
    "# work with pm4py\n",
    "\n",
    "event_log = pm4py.format_dataframe(event_log, case_id='case_id', activity_key='activity', timestamp_key='timestamp', timest_format='%Y-%m-%d %H:%M:%S%z')\n",
    "start_activities = pm4py.get_start_activities(event_log)\n",
    "end_activities = pm4py.get_end_activities(event_log)\n",
    "\n",
    "print('Start activities: ' + str(start_activities) + '.')\n",
    "print('End activities: ' + str(end_activities) + '.')"
   ]
  },
  {
   "cell_type": "code",
   "execution_count": 5,
   "metadata": {},
   "outputs": [
    {
     "name": "stdout",
     "output_type": "stream",
     "text": [
      "    case_id            activity                 timestamp  costs resource  \\\n",
      "14        1    register request 2010-12-30 10:02:00+00:00     50     Pete   \n",
      "15        1  examine thoroughly 2010-12-31 09:06:00+00:00    400      Sue   \n",
      "16        1        check ticket 2011-01-05 14:12:00+00:00    100     Mike   \n",
      "17        1              decide 2011-01-06 10:18:00+00:00    200     Sara   \n",
      "18        1      reject request 2011-01-07 13:24:00+00:00    200     Pete   \n",
      "9         2    register request 2010-12-30 10:32:00+00:00     50     Mike   \n",
      "10        2        check ticket 2010-12-30 11:12:00+00:00    100     Mike   \n",
      "11        2    examine casually 2010-12-30 13:16:00+00:00    400     Sean   \n",
      "12        2              decide 2011-01-05 10:22:00+00:00    200     Sara   \n",
      "13        2    pay compensation 2011-01-08 11:05:00+00:00    200    Ellen   \n",
      "0         3    register request 2010-12-30 13:32:00+00:00     50     Pete   \n",
      "1         3    examine casually 2010-12-30 14:06:00+00:00    400     Mike   \n",
      "2         3        check ticket 2010-12-30 15:34:00+00:00    100    Ellen   \n",
      "3         3              decide 2011-01-06 08:18:00+00:00    200     Sara   \n",
      "4         3  reinitiate request 2011-01-06 11:18:00+00:00    200     Sara   \n",
      "5         3  examine thoroughly 2011-01-06 12:06:00+00:00    400     Sean   \n",
      "6         3        check ticket 2011-01-08 10:43:00+00:00    100     Pete   \n",
      "7         3              decide 2011-01-09 08:55:00+00:00    200     Sara   \n",
      "8         3    pay compensation 2011-01-15 09:45:00+00:00    200    Ellen   \n",
      "37        4    register request 2011-01-06 14:02:00+00:00     50     Pete   \n",
      "38        4        check ticket 2011-01-07 11:06:00+00:00    100     Mike   \n",
      "39        4  examine thoroughly 2011-01-08 13:43:00+00:00    400     Sean   \n",
      "40        4              decide 2011-01-09 11:02:00+00:00    200     Sara   \n",
      "41        4      reject request 2011-01-12 14:44:00+00:00    200    Ellen   \n",
      "24        5    register request 2011-01-06 08:02:00+00:00     50    Ellen   \n",
      "25        5    examine casually 2011-01-07 09:16:00+00:00    400     Mike   \n",
      "26        5        check ticket 2011-01-08 10:22:00+00:00    100     Pete   \n",
      "27        5              decide 2011-01-10 12:28:00+00:00    200     Sara   \n",
      "28        5  reinitiate request 2011-01-11 15:18:00+00:00    200     Sara   \n",
      "29        5        check ticket 2011-01-14 13:33:00+00:00    100    Ellen   \n",
      "30        5    examine casually 2011-01-16 14:50:00+00:00    400     Mike   \n",
      "31        5              decide 2011-01-19 10:18:00+00:00    200     Sara   \n",
      "32        5  reinitiate request 2011-01-20 11:48:00+00:00    200     Sara   \n",
      "33        5    examine casually 2011-01-21 08:06:00+00:00    400      Sue   \n",
      "34        5        check ticket 2011-01-21 10:34:00+00:00    100     Pete   \n",
      "35        5              decide 2011-01-23 12:12:00+00:00    200     Sara   \n",
      "36        5      reject request 2011-01-24 13:56:00+00:00    200     Mike   \n",
      "19        6    register request 2011-01-06 14:02:00+00:00     50     Mike   \n",
      "20        6    examine casually 2011-01-06 15:06:00+00:00    400    Ellen   \n",
      "21        6        check ticket 2011-01-07 15:22:00+00:00    100     Mike   \n",
      "22        6              decide 2011-01-07 15:52:00+00:00    200     Sara   \n",
      "23        6    pay compensation 2011-01-16 10:47:00+00:00    200     Mike   \n",
      "\n",
      "   case:concept:name        concept:name            time:timestamp  @@index  \n",
      "14                 1    register request 2010-12-30 10:02:00+00:00       14  \n",
      "15                 1  examine thoroughly 2010-12-31 09:06:00+00:00       15  \n",
      "16                 1        check ticket 2011-01-05 14:12:00+00:00       16  \n",
      "17                 1              decide 2011-01-06 10:18:00+00:00       17  \n",
      "18                 1      reject request 2011-01-07 13:24:00+00:00       18  \n",
      "9                  2    register request 2010-12-30 10:32:00+00:00        9  \n",
      "10                 2        check ticket 2010-12-30 11:12:00+00:00       10  \n",
      "11                 2    examine casually 2010-12-30 13:16:00+00:00       11  \n",
      "12                 2              decide 2011-01-05 10:22:00+00:00       12  \n",
      "13                 2    pay compensation 2011-01-08 11:05:00+00:00       13  \n",
      "0                  3    register request 2010-12-30 13:32:00+00:00        0  \n",
      "1                  3    examine casually 2010-12-30 14:06:00+00:00        1  \n",
      "2                  3        check ticket 2010-12-30 15:34:00+00:00        2  \n",
      "3                  3              decide 2011-01-06 08:18:00+00:00        3  \n",
      "4                  3  reinitiate request 2011-01-06 11:18:00+00:00        4  \n",
      "5                  3  examine thoroughly 2011-01-06 12:06:00+00:00        5  \n",
      "6                  3        check ticket 2011-01-08 10:43:00+00:00        6  \n",
      "7                  3              decide 2011-01-09 08:55:00+00:00        7  \n",
      "8                  3    pay compensation 2011-01-15 09:45:00+00:00        8  \n",
      "37                 4    register request 2011-01-06 14:02:00+00:00       37  \n",
      "38                 4        check ticket 2011-01-07 11:06:00+00:00       38  \n",
      "39                 4  examine thoroughly 2011-01-08 13:43:00+00:00       39  \n",
      "40                 4              decide 2011-01-09 11:02:00+00:00       40  \n",
      "41                 4      reject request 2011-01-12 14:44:00+00:00       41  \n",
      "24                 5    register request 2011-01-06 08:02:00+00:00       24  \n",
      "25                 5    examine casually 2011-01-07 09:16:00+00:00       25  \n",
      "26                 5        check ticket 2011-01-08 10:22:00+00:00       26  \n",
      "27                 5              decide 2011-01-10 12:28:00+00:00       27  \n",
      "28                 5  reinitiate request 2011-01-11 15:18:00+00:00       28  \n",
      "29                 5        check ticket 2011-01-14 13:33:00+00:00       29  \n",
      "30                 5    examine casually 2011-01-16 14:50:00+00:00       30  \n",
      "31                 5              decide 2011-01-19 10:18:00+00:00       31  \n",
      "32                 5  reinitiate request 2011-01-20 11:48:00+00:00       32  \n",
      "33                 5    examine casually 2011-01-21 08:06:00+00:00       33  \n",
      "34                 5        check ticket 2011-01-21 10:34:00+00:00       34  \n",
      "35                 5              decide 2011-01-23 12:12:00+00:00       35  \n",
      "36                 5      reject request 2011-01-24 13:56:00+00:00       36  \n",
      "19                 6    register request 2011-01-06 14:02:00+00:00       19  \n",
      "20                 6    examine casually 2011-01-06 15:06:00+00:00       20  \n",
      "21                 6        check ticket 2011-01-07 15:22:00+00:00       21  \n",
      "22                 6              decide 2011-01-07 15:52:00+00:00       22  \n",
      "23                 6    pay compensation 2011-01-16 10:47:00+00:00       23  \n",
      " \n",
      "case_id\n",
      "activity\n",
      "timestamp\n",
      "costs\n",
      "resource\n",
      "case:concept:name\n",
      "concept:name\n",
      "time:timestamp\n",
      "@@index\n"
     ]
    }
   ],
   "source": [
    "# look at the event log\n",
    "\n",
    "print(event_log)\n",
    "print(' ')\n",
    "for t in event_log:\n",
    "    print(t)"
   ]
  },
  {
   "cell_type": "code",
   "execution_count": 7,
   "metadata": {},
   "outputs": [
    {
     "name": "stdout",
     "output_type": "stream",
     "text": [
      "<class 'pandas.core.frame.DataFrame'>\n",
      "    case_id            activity                 timestamp  costs resource  \\\n",
      "14        1    register request 2010-12-30 10:02:00+00:00     50     Pete   \n",
      "15        1  examine thoroughly 2010-12-31 09:06:00+00:00    400      Sue   \n",
      "16        1        check ticket 2011-01-05 14:12:00+00:00    100     Mike   \n",
      "17        1              decide 2011-01-06 10:18:00+00:00    200     Sara   \n",
      "18        1      reject request 2011-01-07 13:24:00+00:00    200     Pete   \n",
      "9         2    register request 2010-12-30 10:32:00+00:00     50     Mike   \n",
      "10        2        check ticket 2010-12-30 11:12:00+00:00    100     Mike   \n",
      "11        2    examine casually 2010-12-30 13:16:00+00:00    400     Sean   \n",
      "12        2              decide 2011-01-05 10:22:00+00:00    200     Sara   \n",
      "13        2    pay compensation 2011-01-08 11:05:00+00:00    200    Ellen   \n",
      "0         3    register request 2010-12-30 13:32:00+00:00     50     Pete   \n",
      "1         3    examine casually 2010-12-30 14:06:00+00:00    400     Mike   \n",
      "2         3        check ticket 2010-12-30 15:34:00+00:00    100    Ellen   \n",
      "3         3              decide 2011-01-06 08:18:00+00:00    200     Sara   \n",
      "4         3  reinitiate request 2011-01-06 11:18:00+00:00    200     Sara   \n",
      "5         3  examine thoroughly 2011-01-06 12:06:00+00:00    400     Sean   \n",
      "6         3        check ticket 2011-01-08 10:43:00+00:00    100     Pete   \n",
      "7         3              decide 2011-01-09 08:55:00+00:00    200     Sara   \n",
      "8         3    pay compensation 2011-01-15 09:45:00+00:00    200    Ellen   \n",
      "37        4    register request 2011-01-06 14:02:00+00:00     50     Pete   \n",
      "38        4        check ticket 2011-01-07 11:06:00+00:00    100     Mike   \n",
      "39        4  examine thoroughly 2011-01-08 13:43:00+00:00    400     Sean   \n",
      "40        4              decide 2011-01-09 11:02:00+00:00    200     Sara   \n",
      "41        4      reject request 2011-01-12 14:44:00+00:00    200    Ellen   \n",
      "24        5    register request 2011-01-06 08:02:00+00:00     50    Ellen   \n",
      "25        5    examine casually 2011-01-07 09:16:00+00:00    400     Mike   \n",
      "26        5        check ticket 2011-01-08 10:22:00+00:00    100     Pete   \n",
      "27        5              decide 2011-01-10 12:28:00+00:00    200     Sara   \n",
      "28        5  reinitiate request 2011-01-11 15:18:00+00:00    200     Sara   \n",
      "29        5        check ticket 2011-01-14 13:33:00+00:00    100    Ellen   \n",
      "30        5    examine casually 2011-01-16 14:50:00+00:00    400     Mike   \n",
      "31        5              decide 2011-01-19 10:18:00+00:00    200     Sara   \n",
      "32        5  reinitiate request 2011-01-20 11:48:00+00:00    200     Sara   \n",
      "33        5    examine casually 2011-01-21 08:06:00+00:00    400      Sue   \n",
      "34        5        check ticket 2011-01-21 10:34:00+00:00    100     Pete   \n",
      "35        5              decide 2011-01-23 12:12:00+00:00    200     Sara   \n",
      "36        5      reject request 2011-01-24 13:56:00+00:00    200     Mike   \n",
      "19        6    register request 2011-01-06 14:02:00+00:00     50     Mike   \n",
      "20        6    examine casually 2011-01-06 15:06:00+00:00    400    Ellen   \n",
      "21        6        check ticket 2011-01-07 15:22:00+00:00    100     Mike   \n",
      "22        6              decide 2011-01-07 15:52:00+00:00    200     Sara   \n",
      "23        6    pay compensation 2011-01-16 10:47:00+00:00    200     Mike   \n",
      "\n",
      "   case:concept:name        concept:name            time:timestamp  @@index  \n",
      "14                 1    register request 2010-12-30 10:02:00+00:00       14  \n",
      "15                 1  examine thoroughly 2010-12-31 09:06:00+00:00       15  \n",
      "16                 1        check ticket 2011-01-05 14:12:00+00:00       16  \n",
      "17                 1              decide 2011-01-06 10:18:00+00:00       17  \n",
      "18                 1      reject request 2011-01-07 13:24:00+00:00       18  \n",
      "9                  2    register request 2010-12-30 10:32:00+00:00        9  \n",
      "10                 2        check ticket 2010-12-30 11:12:00+00:00       10  \n",
      "11                 2    examine casually 2010-12-30 13:16:00+00:00       11  \n",
      "12                 2              decide 2011-01-05 10:22:00+00:00       12  \n",
      "13                 2    pay compensation 2011-01-08 11:05:00+00:00       13  \n",
      "0                  3    register request 2010-12-30 13:32:00+00:00        0  \n",
      "1                  3    examine casually 2010-12-30 14:06:00+00:00        1  \n",
      "2                  3        check ticket 2010-12-30 15:34:00+00:00        2  \n",
      "3                  3              decide 2011-01-06 08:18:00+00:00        3  \n",
      "4                  3  reinitiate request 2011-01-06 11:18:00+00:00        4  \n",
      "5                  3  examine thoroughly 2011-01-06 12:06:00+00:00        5  \n",
      "6                  3        check ticket 2011-01-08 10:43:00+00:00        6  \n",
      "7                  3              decide 2011-01-09 08:55:00+00:00        7  \n",
      "8                  3    pay compensation 2011-01-15 09:45:00+00:00        8  \n",
      "37                 4    register request 2011-01-06 14:02:00+00:00       37  \n",
      "38                 4        check ticket 2011-01-07 11:06:00+00:00       38  \n",
      "39                 4  examine thoroughly 2011-01-08 13:43:00+00:00       39  \n",
      "40                 4              decide 2011-01-09 11:02:00+00:00       40  \n",
      "41                 4      reject request 2011-01-12 14:44:00+00:00       41  \n",
      "24                 5    register request 2011-01-06 08:02:00+00:00       24  \n",
      "25                 5    examine casually 2011-01-07 09:16:00+00:00       25  \n",
      "26                 5        check ticket 2011-01-08 10:22:00+00:00       26  \n",
      "27                 5              decide 2011-01-10 12:28:00+00:00       27  \n",
      "28                 5  reinitiate request 2011-01-11 15:18:00+00:00       28  \n",
      "29                 5        check ticket 2011-01-14 13:33:00+00:00       29  \n",
      "30                 5    examine casually 2011-01-16 14:50:00+00:00       30  \n",
      "31                 5              decide 2011-01-19 10:18:00+00:00       31  \n",
      "32                 5  reinitiate request 2011-01-20 11:48:00+00:00       32  \n",
      "33                 5    examine casually 2011-01-21 08:06:00+00:00       33  \n",
      "34                 5        check ticket 2011-01-21 10:34:00+00:00       34  \n",
      "35                 5              decide 2011-01-23 12:12:00+00:00       35  \n",
      "36                 5      reject request 2011-01-24 13:56:00+00:00       36  \n",
      "19                 6    register request 2011-01-06 14:02:00+00:00       19  \n",
      "20                 6    examine casually 2011-01-06 15:06:00+00:00       20  \n",
      "21                 6        check ticket 2011-01-07 15:22:00+00:00       21  \n",
      "22                 6              decide 2011-01-07 15:52:00+00:00       22  \n",
      "23                 6    pay compensation 2011-01-16 10:47:00+00:00       23  \n",
      "case_id\n",
      "activity\n",
      "timestamp\n",
      "costs\n",
      "resource\n",
      "case:concept:name\n",
      "concept:name\n",
      "time:timestamp\n",
      "@@index\n"
     ]
    },
    {
     "name": "stderr",
     "output_type": "stream",
     "text": [
      "C:\\Users\\20182960\\AppData\\Local\\Continuum\\anaconda3\\lib\\site-packages\\ipykernel_launcher.py:3: DeprecatedWarning: filter_ is deprecated as of 2.1.3.1 and will be removed in 2.4.0. filter_() deprecated, use pm4py.filter_log() or pm4py.filter_trace() instead\n",
      "  This is separate from the ipykernel package so we can avoid doing imports until\n",
      "C:\\Users\\20182960\\AppData\\Local\\Continuum\\anaconda3\\lib\\site-packages\\pm4py\\objects\\log\\util\\func.py:47: UserWarning: input log object not of appropriate type, filter() not applied\n",
      "  warnings.warn('input log object not of appropriate type, filter() not applied')\n"
     ]
    }
   ],
   "source": [
    "# evaluate traces\n",
    "\n",
    "trace_log = functools.filter_(lambda t: len(t) > 5, event_log)\n",
    "print(type(trace_log))\n",
    "print(trace_log)\n",
    "for t in trace_log:\n",
    "    print(t)\n"
   ]
  },
  {
   "cell_type": "markdown",
   "metadata": {},
   "source": [
    "# I prefer working with a pandas dataframe over an eventstream, but just for the sake of completeness\n",
    "\n",
    "event_stream = pm4py.convert_to_event_stream(event_log)\n",
    "event_stream_mike = functools.filter_(lambda e: e['org:resource'] == 'Mike', event_stream)\n",
    "\n",
    "print(type(event_stream_mike))\n",
    "\n",
    "for e in event_stream_mike:\n",
    "    print(e)\n",
    "    \n",
    "event_log_mike = pm4py.convert_to_event_log(event_stream_mike)\n",
    "\n",
    "for t in event_log_mike:\n",
    "    print(t)"
   ]
  }
 ],
 "metadata": {
  "kernelspec": {
   "display_name": "Python 3",
   "language": "python",
   "name": "python3"
  },
  "language_info": {
   "codemirror_mode": {
    "name": "ipython",
    "version": 3
   },
   "file_extension": ".py",
   "mimetype": "text/x-python",
   "name": "python",
   "nbconvert_exporter": "python",
   "pygments_lexer": "ipython3",
   "version": "3.7.4"
  }
 },
 "nbformat": 4,
 "nbformat_minor": 1
}
