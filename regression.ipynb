{
 "cells": [
  {
   "cell_type": "code",
   "execution_count": 7,
   "metadata": {
    "collapsed": true
   },
   "outputs": [],
   "source": [
    "# imports\n",
    "import time\n",
    "import timeit\n",
    "import pandas as pd\n",
    "import statistics\n",
    "import numpy as np\n",
    "from datetime import datetime\n",
    "import re\n",
    "from numpy import arange\n",
    "from sklearn.linear_model import Ridge\n",
    "from sklearn.linear_model import RidgeCV\n",
    "from sklearn.model_selection import RepeatedKFold\n",
    "from sklearn.metrics import mean_squared_error, r2_score, mean_absolute_error, mean_absolute_percentage_error\n",
    "from sklearn.metrics import accuracy_score"
   ]
  },
  {
   "cell_type": "code",
   "execution_count": 32,
   "outputs": [],
   "source": [
    "def prep_data(df):\n",
    "    # definitions\n",
    "    case_column = \"case concept:name\"\n",
    "    registration_time_column = \"case REG_DATE\"\n",
    "    event_column = \"event concept:name\"\n",
    "    timestamp_column = \"event time:timestamp\"\n",
    "    position_column = \"position\"\n",
    "    baseline_next_event_column = \"Baseline Prediction for Next Activity\"\n",
    "    pos_event_next_event_column = \"Position&Event Prediction for Next Activity\"\n",
    "    baseline_next_timestamp_column = \"Baseline Prediction for Next Timestamp\"\n",
    "    pos_event_next_timestamp_column = \"Position&Event Prediction for Next Timestamp\"\n",
    "    time_since_registration_column = \"Time Since Registration\"\n",
    "    day_of_week_column = \"day_of_week\"\n",
    "    month_of_year_column = \"month_of_year\"\n",
    "    offer_sent = 'offer_sent_already' # the name a of a sent offer state within event_column\n",
    "    timeformat_registration = \"%Y-%m-%dT%H:%M:%S\" # new time format\n",
    "    timeformat_timestamp = \"%d-%m-%Y %H:%M:%S.%f\"\n",
    "    predicted_shift_column = 'Predicted event from baseline'\n",
    "    start_time = timeit.default_timer()\n",
    "\n",
    "    #make timestamps\n",
    "    df[registration_time_column] = [re.sub('\\..*|\\+.*', '', a, flags=re.DOTALL) for a in df[registration_time_column]]\n",
    "    df[registration_time_column] = [datetime.strptime(date, timeformat_registration) for date in df[registration_time_column]]\n",
    "    #df[timestamp_column] = [datetime.strptime(date, timeformat_timestamp) for date in df[timestamp_column]]\n",
    "\n",
    "    #sort and order dataframe\n",
    "    df = df.sort_values(by=[case_column, timestamp_column])\n",
    "    df.reset_index(inplace=True, drop=True)\n",
    "    df.reset_index(inplace=True)\n",
    "\n",
    "    # add time related columns\n",
    "    df[time_since_registration_column] = df[timestamp_column] - df[registration_time_column] # Adding time since registration\n",
    "    df[day_of_week_column] = df[timestamp_column].dt.dayofweek\n",
    "    df[month_of_year_column] = df[timestamp_column].dt.month\n",
    "    minutes_since_reg= 'minutes_since_reg'\n",
    "    df[minutes_since_reg]=[((i.total_seconds()+0.000001)/60) for i in df[time_since_registration_column]]\n",
    "    hour = 'hour'\n",
    "    df[hour]  = [i.hour for i in df[timestamp_column]]\n",
    "\n",
    "    '''df[offer_sent] = 0\n",
    "    offer_sent_mask = df[event_column] == offer_sent\n",
    "    case_check = df[offer_sent_mask][[case_column,timestamp_column]].copy().reset_index(drop=True)\n",
    "    for i in range(len(case_check)):\n",
    "        case_name = case_check.iloc[i,0]\n",
    "        case_time = case_check.iloc[i,1]\n",
    "        mask = (df[case_column]==case_name)&(df[timestamp_column]>=case_time)\n",
    "        df.loc[mask, offer_sent] = 1'''\n",
    "\n",
    "    # add position column\n",
    "    df[position_column] = df.groupby([case_column]).cumcount()+1\n",
    "\n",
    "    # add time until next event column\n",
    "    shifted_deltatimes_list = df[timestamp_column].diff().shift(periods=-1)\n",
    "    shifted_deltatimes = 'shifted_deltatimes'\n",
    "    df[shifted_deltatimes] = [(i.total_seconds()) for i in shifted_deltatimes_list]\n",
    "    mask1  = (df[shifted_deltatimes]<0.001)\n",
    "    mask2 = (df[shifted_deltatimes]<0)\n",
    "    df.loc[mask1, shifted_deltatimes]=0.001\n",
    "    df.loc[mask2, shifted_deltatimes]=np.nan\n",
    "\n",
    "    # add previous event and previous lifecycle column\n",
    "    df['previous_event']=0\n",
    "    df['previous_lifecycle']=0\n",
    "    all_ids = list(df[case_column].unique())\n",
    "\n",
    "    for ids in all_ids:\n",
    "        df2 = df[df[case_column]==ids].copy()\n",
    "        df.loc[df[case_column]==ids, 'previous_event']= df2[event_column].shift(periods=1)\n",
    "        df.loc[df[case_column]==ids, 'previous_lifecycle']= df2['event lifecycle:transition'].shift(periods=1)\n",
    "    df.loc[df['previous_event'].isnull(), 'previous_event']='START'\n",
    "    df.loc[df['previous_lifecycle'].isnull(), 'previous_lifecycle']='START'\n",
    "\n",
    "    # add binary columns of what events already happened in a case\n",
    "    all_events = list(df['previous_event'].unique())\n",
    "    for event in all_events:\n",
    "        df[event] = 0\n",
    "    df['last_event'] = 0\n",
    "    a=0\n",
    "    for ids in all_ids:\n",
    "        index_case = df[df[case_column]==ids]['index'].max()\n",
    "        df.loc[index_case,'last_event']=1\n",
    "        for i in range(a,index_case+1):\n",
    "            mask = ((df[case_column]==ids)& (df['index']>=i))\n",
    "            prev_event = df.loc[mask,'previous_event'].reset_index(drop=True)[0]\n",
    "            df.loc[mask, prev_event]=1\n",
    "        a = index_case+1\n",
    "\n",
    "    # print time and add log column of time until next event\n",
    "    print((timeit.default_timer() - start_time)/60)\n",
    "    df['log_y'] = np.log(df['shifted_deltatimes'])\n",
    "    return df\n",
    "\n",
    "def prep_data_reg(df):\n",
    "    df_prep = prep_data(df)\n",
    "    mask_nan = df_prep['last_event']==0\n",
    "    df_reg = df_prep[mask_nan].copy()\n",
    "    return df_reg\n",
    "\n",
    "def MAPE(Y_actual,Y_Predicted):\n",
    "    mape = np.mean(np.abs((Y_actual - Y_Predicted)/Y_actual))*100\n",
    "    return mape\n",
    "\n",
    "def MAE(Y_actual,Y_Predicted):\n",
    "    mae = np.mean(np.abs((Y_actual - Y_Predicted)))\n",
    "    return mae\n",
    "\n",
    "def split_train_data(df_train, df_test):\n",
    "    timeformat_timestamp = \"%d-%m-%Y %H:%M:%S.%f\"\n",
    "    df_train[\"event time:timestamp\"] = [datetime.strptime(date, timeformat_timestamp) for date in df_train[\"event time:timestamp\"]]\n",
    "    df_test[\"event time:timestamp\"] = [datetime.strptime(date, timeformat_timestamp) for date in df_test[\"event time:timestamp\"]]\n",
    "    max_time_train = min(df_test['event time:timestamp'])\n",
    "    for i in range((round(len(df_train)/2)), len(df_train)):\n",
    "        if df_train['event time:timestamp'][i] > max_time_train:\n",
    "            print(df_train['event time:timestamp'][i])\n",
    "            df_train2 = df_train[:i].copy()\n",
    "            break\n",
    "    return df_train2\n",
    "\n",
    "def prep_data2(df):\n",
    "    # definitions\n",
    "    case_column = \"case concept:name\"\n",
    "    registration_time_column = \"case REG_DATE\"\n",
    "    event_column = \"event concept:name\"\n",
    "    timestamp_column = \"event time:timestamp\"\n",
    "    position_column = \"position\"\n",
    "    baseline_next_event_column = \"Baseline Prediction for Next Activity\"\n",
    "    pos_event_next_event_column = \"Position&Event Prediction for Next Activity\"\n",
    "    baseline_next_timestamp_column = \"Baseline Prediction for Next Timestamp\"\n",
    "    pos_event_next_timestamp_column = \"Position&Event Prediction for Next Timestamp\"\n",
    "    time_since_registration_column = \"Time Since Registration\"\n",
    "    day_of_week_column = \"day_of_week\"\n",
    "    month_of_year_column = \"month_of_year\"\n",
    "    offer_sent = 'offer_sent_already' # the name a of a sent offer state within event_column\n",
    "    timeformat_registration = \"%Y-%m-%dT%H:%M:%S\" # new time format\n",
    "    timeformat_timestamp = \"%d-%m-%Y %H:%M:%S.%f\"\n",
    "    predicted_shift_column = 'Predicted event from baseline'\n",
    "    start_time = timeit.default_timer()\n",
    "\n",
    "    #make timestamps\n",
    "    df[registration_time_column] = [re.sub('\\..*|\\+.*', '', a, flags=re.DOTALL) for a in df[registration_time_column]]\n",
    "    df[registration_time_column] = [datetime.strptime(date, timeformat_registration) for date in df[registration_time_column]]\n",
    "    #df[timestamp_column] = [datetime.strptime(date, timeformat_timestamp) for date in df[timestamp_column]]\n",
    "\n",
    "    #sort and order dataframe\n",
    "    df = df.sort_values(by=[case_column, timestamp_column])\n",
    "    df.reset_index(inplace=True, drop=True)\n",
    "    df.reset_index(inplace=True)\n",
    "\n",
    "    # add time related columns\n",
    "    df[time_since_registration_column] = df[timestamp_column] - df[registration_time_column] # Adding time since registration\n",
    "    df[day_of_week_column] = df[timestamp_column].dt.dayofweek\n",
    "    df[month_of_year_column] = df[timestamp_column].dt.month\n",
    "    minutes_since_reg= 'minutes_since_reg'\n",
    "    df[minutes_since_reg]=[((i.total_seconds()+0.000001)/60) for i in df[time_since_registration_column]]\n",
    "    hour = 'hour'\n",
    "    df[hour]  = [i.hour for i in df[timestamp_column]]\n",
    "\n",
    "    '''df[offer_sent] = 0\n",
    "    offer_sent_mask = df[event_column] == offer_sent\n",
    "    case_check = df[offer_sent_mask][[case_column,timestamp_column]].copy().reset_index(drop=True)\n",
    "    for i in range(len(case_check)):\n",
    "        case_name = case_check.iloc[i,0]\n",
    "        case_time = case_check.iloc[i,1]\n",
    "        mask = (df[case_column]==case_name)&(df[timestamp_column]>=case_time)\n",
    "        df.loc[mask, offer_sent] = 1'''\n",
    "\n",
    "    # add position column\n",
    "    df[position_column] = df.groupby([case_column]).cumcount()+1\n",
    "\n",
    "    # add time until next event column\n",
    "    shifted_deltatimes_list = df[timestamp_column].diff().shift(periods=-1)\n",
    "    shifted_deltatimes = 'shifted_deltatimes'\n",
    "    df[shifted_deltatimes] = [(i.total_seconds()) for i in shifted_deltatimes_list]\n",
    "    mask1  = (df[shifted_deltatimes]<0.001)\n",
    "    mask2 = (df[shifted_deltatimes]<0)\n",
    "    df.loc[mask1, shifted_deltatimes]=0.001\n",
    "    df.loc[mask2, shifted_deltatimes]=np.nan\n",
    "\n",
    "    # add previous event and previous lifecycle column\n",
    "    df['previous_event']=0\n",
    "    df['previous_lifecycle']=0\n",
    "    all_ids = list(df[case_column].unique())\n",
    "\n",
    "    for ids in all_ids:\n",
    "        df2 = df[df[case_column]==ids].copy()\n",
    "        df.loc[df[case_column]==ids, 'previous_event']= df2[event_column].shift(periods=1)\n",
    "        df.loc[df[case_column]==ids, 'previous_lifecycle']= df2['event lifecycle:transition'].shift(periods=1)\n",
    "    df.loc[df['previous_event'].isnull(), 'previous_event']='START'\n",
    "    df.loc[df['previous_lifecycle'].isnull(), 'previous_lifecycle']='START'\n",
    "\n",
    "\n",
    "    # add binary columns of what events already happened in a case\n",
    "    '''all_events = list(df['previous_event'].unique())\n",
    "    for event in all_events:\n",
    "        df[event] = 0\n",
    "    '''\n",
    "    df['last_event'] = 0\n",
    "    a=0\n",
    "    for ids in all_ids:\n",
    "        index_case = df[df[case_column]==ids]['index'].max()\n",
    "        df.loc[index_case,'last_event']=1\n",
    "        '''\n",
    "        for i in range(a,index_case+1):\n",
    "            mask = ((df[case_column]==ids)& (df['index']>=i))\n",
    "            prev_event = df.loc[mask,'previous_event'].reset_index(drop=True)[0]\n",
    "            df.loc[mask, prev_event]=1\n",
    "        a = index_case+1\n",
    "    '''\n",
    "    # print time and add log column of time until next event\n",
    "    print((timeit.default_timer() - start_time)/60)\n",
    "    df['log_y'] = np.log(df['shifted_deltatimes'])\n",
    "    dummies = pd.get_dummies(df['previous_event'])\n",
    "    df1 = pd.concat([df, dummies], axis=1)\n",
    "    return df1\n",
    "\n",
    "def prep_data_reg2(df):\n",
    "    df_prep = prep_data2(df)\n",
    "    mask_nan = df_prep['last_event']==0\n",
    "    df_reg = df_prep[mask_nan].copy()\n",
    "    return df_reg"
   ],
   "metadata": {
    "collapsed": false,
    "pycharm": {
     "name": "#%%\n"
    }
   }
  },
  {
   "cell_type": "code",
   "execution_count": 33,
   "outputs": [],
   "source": [
    "df = pd.read_csv('data/BPI_Challenge_2012-training.csv')\n",
    "df_t = pd.read_csv('data/BPI_Challenge_2012-test.csv')"
   ],
   "metadata": {
    "collapsed": false,
    "pycharm": {
     "name": "#%%\n"
    }
   }
  },
  {
   "cell_type": "code",
   "execution_count": 34,
   "outputs": [
    {
     "name": "stdout",
     "output_type": "stream",
     "text": [
      "2012-02-03 17:18:54.290000\n",
      "1.7853828316666902\n",
      "0.21400695833332672\n"
     ]
    }
   ],
   "source": [
    "df_split = split_train_data(df,df_t)\n",
    "df_train = prep_data_reg2(df_split)\n",
    "df_test = prep_data_reg2(df_t)"
   ],
   "metadata": {
    "collapsed": false,
    "pycharm": {
     "name": "#%%\n"
    }
   }
  },
  {
   "cell_type": "code",
   "execution_count": 36,
   "outputs": [
    {
     "data": {
      "text/plain": "         index        eventID   case concept:name       case REG_DATE  \\\n0            0               0             173688 2011-10-01 00:38:44   \n1            1               1             173688 2011-10-01 00:38:44   \n2            2               2             173688 2011-10-01 00:38:44   \n3            3               3             173688 2011-10-01 00:38:44   \n4            4               4             173688 2011-10-01 00:38:44   \n...        ...             ...                ...                 ...   \n199660  199660  44951127719937             206315 2012-02-03 17:04:58   \n199662  199662  44955422687232             206318 2012-02-03 17:07:38   \n199663  199663  44955422687233             206318 2012-02-03 17:07:38   \n199665  199665  44959717654528             206321 2012-02-03 17:08:39   \n199666  199666  44959717654529             206321 2012-02-03 17:08:39   \n\n        case AMOUNT_REQ      event concept:name event lifecycle:transition  \\\n0                 20000             A_SUBMITTED                   COMPLETE   \n1                 20000       A_PARTLYSUBMITTED                   COMPLETE   \n2                 20000           A_PREACCEPTED                   COMPLETE   \n3                 20000  W_Completeren aanvraag                   SCHEDULE   \n4                 20000  W_Completeren aanvraag                      START   \n...                 ...                     ...                        ...   \n199660             7000       A_PARTLYSUBMITTED                   COMPLETE   \n199662             5000             A_SUBMITTED                   COMPLETE   \n199663             5000       A_PARTLYSUBMITTED                   COMPLETE   \n199665             2000             A_SUBMITTED                   COMPLETE   \n199666             2000       A_PARTLYSUBMITTED                   COMPLETE   \n\n          event time:timestamp Time Since Registration  day_of_week  ...  \\\n0      2011-10-01 00:38:44.546  0 days 00:00:00.546000            5  ...   \n1      2011-10-01 00:38:44.880  0 days 00:00:00.880000            5  ...   \n2      2011-10-01 00:39:37.906  0 days 00:00:53.906000            5  ...   \n3      2011-10-01 00:39:38.875  0 days 00:00:54.875000            5  ...   \n4      2011-10-01 11:36:46.437  0 days 10:58:02.437000            5  ...   \n...                        ...                     ...          ...  ...   \n199660 2012-02-03 17:04:58.813  0 days 00:00:00.813000            4  ...   \n199662 2012-02-03 17:07:38.334  0 days 00:00:00.334000            4  ...   \n199663 2012-02-03 17:07:38.843  0 days 00:00:00.843000            4  ...   \n199665 2012-02-03 17:08:39.200  0 days 00:00:00.200000            4  ...   \n199666 2012-02-03 17:08:39.459  0 days 00:00:00.459000            4  ...   \n\n        O_SENT  O_SENT_BACK  START  W_Afhandelen leads  W_Beoordelen fraude  \\\n0            0            0      1                   0                    0   \n1            0            0      0                   0                    0   \n2            0            0      0                   0                    0   \n3            0            0      0                   0                    0   \n4            0            0      0                   0                    0   \n...        ...          ...    ...                 ...                  ...   \n199660       0            0      0                   0                    0   \n199662       0            0      1                   0                    0   \n199663       0            0      0                   0                    0   \n199665       0            0      1                   0                    0   \n199666       0            0      0                   0                    0   \n\n       W_Completeren aanvraag W_Nabellen incomplete dossiers  \\\n0                           0                              0   \n1                           0                              0   \n2                           0                              0   \n3                           0                              0   \n4                           1                              0   \n...                       ...                            ...   \n199660                      0                              0   \n199662                      0                              0   \n199663                      0                              0   \n199665                      0                              0   \n199666                      0                              0   \n\n        W_Nabellen offertes  W_Valideren aanvraag  W_Wijzigen contractgegevens  \n0                         0                     0                            0  \n1                         0                     0                            0  \n2                         0                     0                            0  \n3                         0                     0                            0  \n4                         0                     0                            0  \n...                     ...                   ...                          ...  \n199660                    0                     0                            0  \n199662                    0                     0                            0  \n199663                    0                     0                            0  \n199665                    0                     0                            0  \n199666                    0                     0                            0  \n\n[189199 rows x 44 columns]",
      "text/html": "<div>\n<style scoped>\n    .dataframe tbody tr th:only-of-type {\n        vertical-align: middle;\n    }\n\n    .dataframe tbody tr th {\n        vertical-align: top;\n    }\n\n    .dataframe thead th {\n        text-align: right;\n    }\n</style>\n<table border=\"1\" class=\"dataframe\">\n  <thead>\n    <tr style=\"text-align: right;\">\n      <th></th>\n      <th>index</th>\n      <th>eventID</th>\n      <th>case concept:name</th>\n      <th>case REG_DATE</th>\n      <th>case AMOUNT_REQ</th>\n      <th>event concept:name</th>\n      <th>event lifecycle:transition</th>\n      <th>event time:timestamp</th>\n      <th>Time Since Registration</th>\n      <th>day_of_week</th>\n      <th>...</th>\n      <th>O_SENT</th>\n      <th>O_SENT_BACK</th>\n      <th>START</th>\n      <th>W_Afhandelen leads</th>\n      <th>W_Beoordelen fraude</th>\n      <th>W_Completeren aanvraag</th>\n      <th>W_Nabellen incomplete dossiers</th>\n      <th>W_Nabellen offertes</th>\n      <th>W_Valideren aanvraag</th>\n      <th>W_Wijzigen contractgegevens</th>\n    </tr>\n  </thead>\n  <tbody>\n    <tr>\n      <th>0</th>\n      <td>0</td>\n      <td>0</td>\n      <td>173688</td>\n      <td>2011-10-01 00:38:44</td>\n      <td>20000</td>\n      <td>A_SUBMITTED</td>\n      <td>COMPLETE</td>\n      <td>2011-10-01 00:38:44.546</td>\n      <td>0 days 00:00:00.546000</td>\n      <td>5</td>\n      <td>...</td>\n      <td>0</td>\n      <td>0</td>\n      <td>1</td>\n      <td>0</td>\n      <td>0</td>\n      <td>0</td>\n      <td>0</td>\n      <td>0</td>\n      <td>0</td>\n      <td>0</td>\n    </tr>\n    <tr>\n      <th>1</th>\n      <td>1</td>\n      <td>1</td>\n      <td>173688</td>\n      <td>2011-10-01 00:38:44</td>\n      <td>20000</td>\n      <td>A_PARTLYSUBMITTED</td>\n      <td>COMPLETE</td>\n      <td>2011-10-01 00:38:44.880</td>\n      <td>0 days 00:00:00.880000</td>\n      <td>5</td>\n      <td>...</td>\n      <td>0</td>\n      <td>0</td>\n      <td>0</td>\n      <td>0</td>\n      <td>0</td>\n      <td>0</td>\n      <td>0</td>\n      <td>0</td>\n      <td>0</td>\n      <td>0</td>\n    </tr>\n    <tr>\n      <th>2</th>\n      <td>2</td>\n      <td>2</td>\n      <td>173688</td>\n      <td>2011-10-01 00:38:44</td>\n      <td>20000</td>\n      <td>A_PREACCEPTED</td>\n      <td>COMPLETE</td>\n      <td>2011-10-01 00:39:37.906</td>\n      <td>0 days 00:00:53.906000</td>\n      <td>5</td>\n      <td>...</td>\n      <td>0</td>\n      <td>0</td>\n      <td>0</td>\n      <td>0</td>\n      <td>0</td>\n      <td>0</td>\n      <td>0</td>\n      <td>0</td>\n      <td>0</td>\n      <td>0</td>\n    </tr>\n    <tr>\n      <th>3</th>\n      <td>3</td>\n      <td>3</td>\n      <td>173688</td>\n      <td>2011-10-01 00:38:44</td>\n      <td>20000</td>\n      <td>W_Completeren aanvraag</td>\n      <td>SCHEDULE</td>\n      <td>2011-10-01 00:39:38.875</td>\n      <td>0 days 00:00:54.875000</td>\n      <td>5</td>\n      <td>...</td>\n      <td>0</td>\n      <td>0</td>\n      <td>0</td>\n      <td>0</td>\n      <td>0</td>\n      <td>0</td>\n      <td>0</td>\n      <td>0</td>\n      <td>0</td>\n      <td>0</td>\n    </tr>\n    <tr>\n      <th>4</th>\n      <td>4</td>\n      <td>4</td>\n      <td>173688</td>\n      <td>2011-10-01 00:38:44</td>\n      <td>20000</td>\n      <td>W_Completeren aanvraag</td>\n      <td>START</td>\n      <td>2011-10-01 11:36:46.437</td>\n      <td>0 days 10:58:02.437000</td>\n      <td>5</td>\n      <td>...</td>\n      <td>0</td>\n      <td>0</td>\n      <td>0</td>\n      <td>0</td>\n      <td>0</td>\n      <td>1</td>\n      <td>0</td>\n      <td>0</td>\n      <td>0</td>\n      <td>0</td>\n    </tr>\n    <tr>\n      <th>...</th>\n      <td>...</td>\n      <td>...</td>\n      <td>...</td>\n      <td>...</td>\n      <td>...</td>\n      <td>...</td>\n      <td>...</td>\n      <td>...</td>\n      <td>...</td>\n      <td>...</td>\n      <td>...</td>\n      <td>...</td>\n      <td>...</td>\n      <td>...</td>\n      <td>...</td>\n      <td>...</td>\n      <td>...</td>\n      <td>...</td>\n      <td>...</td>\n      <td>...</td>\n      <td>...</td>\n    </tr>\n    <tr>\n      <th>199660</th>\n      <td>199660</td>\n      <td>44951127719937</td>\n      <td>206315</td>\n      <td>2012-02-03 17:04:58</td>\n      <td>7000</td>\n      <td>A_PARTLYSUBMITTED</td>\n      <td>COMPLETE</td>\n      <td>2012-02-03 17:04:58.813</td>\n      <td>0 days 00:00:00.813000</td>\n      <td>4</td>\n      <td>...</td>\n      <td>0</td>\n      <td>0</td>\n      <td>0</td>\n      <td>0</td>\n      <td>0</td>\n      <td>0</td>\n      <td>0</td>\n      <td>0</td>\n      <td>0</td>\n      <td>0</td>\n    </tr>\n    <tr>\n      <th>199662</th>\n      <td>199662</td>\n      <td>44955422687232</td>\n      <td>206318</td>\n      <td>2012-02-03 17:07:38</td>\n      <td>5000</td>\n      <td>A_SUBMITTED</td>\n      <td>COMPLETE</td>\n      <td>2012-02-03 17:07:38.334</td>\n      <td>0 days 00:00:00.334000</td>\n      <td>4</td>\n      <td>...</td>\n      <td>0</td>\n      <td>0</td>\n      <td>1</td>\n      <td>0</td>\n      <td>0</td>\n      <td>0</td>\n      <td>0</td>\n      <td>0</td>\n      <td>0</td>\n      <td>0</td>\n    </tr>\n    <tr>\n      <th>199663</th>\n      <td>199663</td>\n      <td>44955422687233</td>\n      <td>206318</td>\n      <td>2012-02-03 17:07:38</td>\n      <td>5000</td>\n      <td>A_PARTLYSUBMITTED</td>\n      <td>COMPLETE</td>\n      <td>2012-02-03 17:07:38.843</td>\n      <td>0 days 00:00:00.843000</td>\n      <td>4</td>\n      <td>...</td>\n      <td>0</td>\n      <td>0</td>\n      <td>0</td>\n      <td>0</td>\n      <td>0</td>\n      <td>0</td>\n      <td>0</td>\n      <td>0</td>\n      <td>0</td>\n      <td>0</td>\n    </tr>\n    <tr>\n      <th>199665</th>\n      <td>199665</td>\n      <td>44959717654528</td>\n      <td>206321</td>\n      <td>2012-02-03 17:08:39</td>\n      <td>2000</td>\n      <td>A_SUBMITTED</td>\n      <td>COMPLETE</td>\n      <td>2012-02-03 17:08:39.200</td>\n      <td>0 days 00:00:00.200000</td>\n      <td>4</td>\n      <td>...</td>\n      <td>0</td>\n      <td>0</td>\n      <td>1</td>\n      <td>0</td>\n      <td>0</td>\n      <td>0</td>\n      <td>0</td>\n      <td>0</td>\n      <td>0</td>\n      <td>0</td>\n    </tr>\n    <tr>\n      <th>199666</th>\n      <td>199666</td>\n      <td>44959717654529</td>\n      <td>206321</td>\n      <td>2012-02-03 17:08:39</td>\n      <td>2000</td>\n      <td>A_PARTLYSUBMITTED</td>\n      <td>COMPLETE</td>\n      <td>2012-02-03 17:08:39.459</td>\n      <td>0 days 00:00:00.459000</td>\n      <td>4</td>\n      <td>...</td>\n      <td>0</td>\n      <td>0</td>\n      <td>0</td>\n      <td>0</td>\n      <td>0</td>\n      <td>0</td>\n      <td>0</td>\n      <td>0</td>\n      <td>0</td>\n      <td>0</td>\n    </tr>\n  </tbody>\n</table>\n<p>189199 rows × 44 columns</p>\n</div>"
     },
     "execution_count": 36,
     "metadata": {},
     "output_type": "execute_result"
    }
   ],
   "source": [
    "df_train"
   ],
   "metadata": {
    "collapsed": false,
    "pycharm": {
     "name": "#%%\n"
    }
   }
  },
  {
   "cell_type": "code",
   "execution_count": 36,
   "outputs": [],
   "source": [],
   "metadata": {
    "collapsed": false,
    "pycharm": {
     "name": "#%%\n"
    }
   }
  },
  {
   "cell_type": "code",
   "execution_count": 12,
   "outputs": [],
   "source": [],
   "metadata": {
    "collapsed": false,
    "pycharm": {
     "name": "#%%\n"
    }
   }
  },
  {
   "cell_type": "code",
   "execution_count": 12,
   "outputs": [],
   "source": [],
   "metadata": {
    "collapsed": false,
    "pycharm": {
     "name": "#%%\n"
    }
   }
  },
  {
   "cell_type": "code",
   "execution_count": 37,
   "outputs": [
    {
     "name": "stdout",
     "output_type": "stream",
     "text": [
      "Alpha: 0.03\n",
      "MAPE: 701496.1587222911\n",
      "MAE: 9.530618055932312 hours\n",
      "R2: 0.4348927550698244\n"
     ]
    }
   ],
   "source": [
    "X = df_train[['day_of_week', 'hour', 'month_of_year','position','minutes_since_reg', 'case AMOUNT_REQ', 'START', 'A_SUBMITTED', 'A_PARTLYSUBMITTED', 'A_PREACCEPTED', 'W_Completeren aanvraag', 'A_DECLINED', 'A_ACCEPTED', 'A_FINALIZED', 'O_SELECTED', 'O_CREATED', 'O_SENT', 'W_Nabellen offertes', 'O_CANCELLED', 'W_Afhandelen leads', 'A_CANCELLED', 'O_SENT_BACK', 'W_Valideren aanvraag', 'O_ACCEPTED', 'A_APPROVED', 'A_REGISTERED', 'A_ACTIVATED', 'O_DECLINED', 'W_Nabellen incomplete dossiers', 'W_Beoordelen fraude']]\n",
    "y = df_train['log_y']\n",
    "\n",
    "cv = RepeatedKFold(n_splits=5, n_repeats=3, random_state=1)\n",
    "\n",
    "model = RidgeCV(alphas=arange(0, 1, 0.01), cv=cv, scoring='neg_mean_absolute_error')\n",
    "\n",
    "model.fit(X, y)\n",
    "\n",
    "print(f'Alpha: {model.alpha_}')\n",
    "\n",
    "X_test = df_test[['day_of_week', 'hour', 'month_of_year','position','minutes_since_reg', 'case AMOUNT_REQ', 'START', 'A_SUBMITTED', 'A_PARTLYSUBMITTED', 'A_PREACCEPTED', 'W_Completeren aanvraag', 'A_DECLINED', 'A_ACCEPTED', 'A_FINALIZED', 'O_SELECTED', 'O_CREATED', 'O_SENT', 'W_Nabellen offertes', 'O_CANCELLED', 'W_Afhandelen leads', 'A_CANCELLED', 'O_SENT_BACK', 'W_Valideren aanvraag', 'O_ACCEPTED', 'A_APPROVED', 'A_REGISTERED', 'A_ACTIVATED', 'O_DECLINED', 'W_Nabellen incomplete dossiers', 'W_Beoordelen fraude']]\n",
    "Y_test = df_test['shifted_deltatimes']\n",
    "ridge_predict = np.exp(model.predict(X_test))\n",
    "ridge_MAPE = MAPE(Y_test,ridge_predict)\n",
    "ridge_MAE = MAE(Y_test,ridge_predict)\n",
    "r2 = model.score(X_test,df_test['log_y'])\n",
    "print(f'MAPE: {ridge_MAPE}')\n",
    "print(f'MAE: {ridge_MAE/3600} hours')\n",
    "print(f'R2: {r2}')"
   ],
   "metadata": {
    "collapsed": false,
    "pycharm": {
     "name": "#%%\n"
    }
   }
  },
  {
   "cell_type": "code",
   "execution_count": null,
   "outputs": [],
   "source": [
    "X = df_train[['day_of_week', 'hour', 'month_of_year','position','minutes_since_reg', 'case AMOUNT_REQ', 'START', 'A_SUBMITTED', 'A_PARTLYSUBMITTED', 'A_PREACCEPTED', 'W_Completeren aanvraag', 'A_DECLINED', 'A_ACCEPTED', 'A_FINALIZED', 'O_SELECTED', 'O_CREATED', 'O_SENT', 'W_Nabellen offertes', 'O_CANCELLED', 'W_Afhandelen leads', 'A_CANCELLED', 'O_SENT_BACK', 'W_Valideren aanvraag', 'O_ACCEPTED', 'A_APPROVED', 'A_REGISTERED', 'A_ACTIVATED', 'O_DECLINED', 'W_Nabellen incomplete dossiers', 'W_Beoordelen fraude']]\n",
    "y = df_train['log_y']\n",
    "\n",
    "cv = RepeatedKFold(n_splits=5, n_repeats=3, random_state=1)\n",
    "\n",
    "model = RidgeCV(alphas=arange(0, 1, 0.01), cv=cv, scoring='neg_mean_absolute_error')\n",
    "\n",
    "model.fit(X, y)\n",
    "\n",
    "print(f'Alpha: {model.alpha_}')\n",
    "\n",
    "X_test = df_test[['day_of_week', 'hour', 'month_of_year','position','minutes_since_reg', 'case AMOUNT_REQ', 'START', 'A_SUBMITTED', 'A_PARTLYSUBMITTED', 'A_PREACCEPTED', 'W_Completeren aanvraag', 'A_DECLINED', 'A_ACCEPTED', 'A_FINALIZED', 'O_SELECTED', 'O_CREATED', 'O_SENT', 'W_Nabellen offertes', 'O_CANCELLED', 'W_Afhandelen leads', 'A_CANCELLED', 'O_SENT_BACK', 'W_Valideren aanvraag', 'O_ACCEPTED', 'A_APPROVED', 'A_REGISTERED', 'A_ACTIVATED', 'O_DECLINED', 'W_Nabellen incomplete dossiers', 'W_Beoordelen fraude']]\n",
    "Y_test = df_test['shifted_deltatimes']\n",
    "ridge_predict = np.exp(model.predict(X_test))\n",
    "ridge_MAPE = MAPE(Y_test,ridge_predict)\n",
    "ridge_MAE = MAE(Y_test,ridge_predict)\n",
    "r2 = model.score(X_test,df_test['log_y'])\n",
    "print(f'MAPE: {ridge_MAPE}')\n",
    "print(f'MAE: {ridge_MAE/3600} hours')\n",
    "print(f'R2: {r2}')"
   ],
   "metadata": {
    "collapsed": false,
    "pycharm": {
     "name": "#%%\n"
    }
   }
  },
  {
   "cell_type": "code",
   "execution_count": 38,
   "outputs": [
    {
     "data": {
      "text/plain": "array([ 5.05698284e-02,  7.90357299e-02,  8.45807231e-03,  1.91786689e-02,\n       -9.00419107e-06, -2.63848332e-06, -3.69433512e+09,  4.50964467e+00,\n        4.97113333e-03,  2.04004906e+00,  7.95090073e-01, -3.51447311e+00,\n       -1.07878945e+01,  9.67749572e-01,  2.05893261e+00, -4.18521413e-01,\n        2.28285058e+00,  5.02739317e+00, -1.57739590e+00, -4.12299957e-01,\n       -4.40605035e+00, -4.40678094e+00,  4.10610140e+00, -6.36926289e+00,\n       -2.63261834e+00, -2.63974782e-01, -4.17866519e-01, -3.42910073e+00,\n        1.23151406e-01, -8.41922452e-02])"
     },
     "execution_count": 38,
     "metadata": {},
     "output_type": "execute_result"
    }
   ],
   "source": [
    "model.coef_"
   ],
   "metadata": {
    "collapsed": false,
    "pycharm": {
     "name": "#%%\n"
    }
   }
  },
  {
   "cell_type": "code",
   "execution_count": null,
   "outputs": [],
   "source": [
    "mae 9.45 hours\n",
    "r2 0.34"
   ],
   "metadata": {
    "collapsed": false,
    "pycharm": {
     "name": "#%%\n"
    }
   }
  }
 ],
 "metadata": {
  "kernelspec": {
   "display_name": "Python 3",
   "language": "python",
   "name": "python3"
  },
  "language_info": {
   "codemirror_mode": {
    "name": "ipython",
    "version": 2
   },
   "file_extension": ".py",
   "mimetype": "text/x-python",
   "name": "python",
   "nbconvert_exporter": "python",
   "pygments_lexer": "ipython2",
   "version": "2.7.6"
  }
 },
 "nbformat": 4,
 "nbformat_minor": 0
}