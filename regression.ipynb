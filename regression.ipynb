{
 "cells": [
  {
   "cell_type": "code",
   "execution_count": 50,
   "metadata": {
    "collapsed": true
   },
   "outputs": [],
   "source": [
    "# imports\n",
    "import time\n",
    "import timeit\n",
    "import pandas as pd\n",
    "import statistics\n",
    "import numpy as np\n",
    "from datetime import datetime\n",
    "import re\n",
    "from numpy import arange\n",
    "from sklearn.linear_model import Ridge\n",
    "from sklearn.linear_model import RidgeCV\n",
    "from sklearn.model_selection import RepeatedKFold\n",
    "from sklearn.metrics import mean_squared_error, r2_score, mean_absolute_error, mean_absolute_percentage_error\n",
    "from sklearn.metrics import accuracy_score"
   ]
  },
  {
   "cell_type": "code",
   "execution_count": 8,
   "outputs": [
    {
     "data": {
      "text/plain": "     eventID   case concept:name                  case REG_DATE  \\\n0           0             173688  2011-10-01T00:38:44.546+02:00   \n1           1             173688  2011-10-01T00:38:44.546+02:00   \n2           2             173688  2011-10-01T00:38:44.546+02:00   \n3           3             173688  2011-10-01T00:38:44.546+02:00   \n4  4294967296             173691  2011-10-01T08:08:58.256+02:00   \n5  4294967297             173691  2011-10-01T08:08:58.256+02:00   \n6  4294967298             173691  2011-10-01T08:08:58.256+02:00   \n7  4294967299             173691  2011-10-01T08:08:58.256+02:00   \n8  8589934592             173694  2011-10-01T08:10:30.287+02:00   \n9  8589934593             173694  2011-10-01T08:10:30.287+02:00   \n\n   case AMOUNT_REQ      event concept:name event lifecycle:transition  \\\n0            20000             A_SUBMITTED                   COMPLETE   \n1            20000       A_PARTLYSUBMITTED                   COMPLETE   \n2            20000           A_PREACCEPTED                   COMPLETE   \n3            20000  W_Completeren aanvraag                   SCHEDULE   \n4             5000             A_SUBMITTED                   COMPLETE   \n5             5000       A_PARTLYSUBMITTED                   COMPLETE   \n6             5000           A_PREACCEPTED                   COMPLETE   \n7             5000  W_Completeren aanvraag                   SCHEDULE   \n8             7000             A_SUBMITTED                   COMPLETE   \n9             7000       A_PARTLYSUBMITTED                   COMPLETE   \n\n      event time:timestamp  \n0  01-10-2011 00:38:44.546  \n1  01-10-2011 00:38:44.880  \n2  01-10-2011 00:39:37.906  \n3  01-10-2011 00:39:38.875  \n4  01-10-2011 08:08:58.256  \n5  01-10-2011 08:09:02.195  \n6  01-10-2011 08:09:56.648  \n7  01-10-2011 08:09:59.578  \n8  01-10-2011 08:10:30.287  \n9  01-10-2011 08:10:30.591  ",
      "text/html": "<div>\n<style scoped>\n    .dataframe tbody tr th:only-of-type {\n        vertical-align: middle;\n    }\n\n    .dataframe tbody tr th {\n        vertical-align: top;\n    }\n\n    .dataframe thead th {\n        text-align: right;\n    }\n</style>\n<table border=\"1\" class=\"dataframe\">\n  <thead>\n    <tr style=\"text-align: right;\">\n      <th></th>\n      <th>eventID</th>\n      <th>case concept:name</th>\n      <th>case REG_DATE</th>\n      <th>case AMOUNT_REQ</th>\n      <th>event concept:name</th>\n      <th>event lifecycle:transition</th>\n      <th>event time:timestamp</th>\n    </tr>\n  </thead>\n  <tbody>\n    <tr>\n      <th>0</th>\n      <td>0</td>\n      <td>173688</td>\n      <td>2011-10-01T00:38:44.546+02:00</td>\n      <td>20000</td>\n      <td>A_SUBMITTED</td>\n      <td>COMPLETE</td>\n      <td>01-10-2011 00:38:44.546</td>\n    </tr>\n    <tr>\n      <th>1</th>\n      <td>1</td>\n      <td>173688</td>\n      <td>2011-10-01T00:38:44.546+02:00</td>\n      <td>20000</td>\n      <td>A_PARTLYSUBMITTED</td>\n      <td>COMPLETE</td>\n      <td>01-10-2011 00:38:44.880</td>\n    </tr>\n    <tr>\n      <th>2</th>\n      <td>2</td>\n      <td>173688</td>\n      <td>2011-10-01T00:38:44.546+02:00</td>\n      <td>20000</td>\n      <td>A_PREACCEPTED</td>\n      <td>COMPLETE</td>\n      <td>01-10-2011 00:39:37.906</td>\n    </tr>\n    <tr>\n      <th>3</th>\n      <td>3</td>\n      <td>173688</td>\n      <td>2011-10-01T00:38:44.546+02:00</td>\n      <td>20000</td>\n      <td>W_Completeren aanvraag</td>\n      <td>SCHEDULE</td>\n      <td>01-10-2011 00:39:38.875</td>\n    </tr>\n    <tr>\n      <th>4</th>\n      <td>4294967296</td>\n      <td>173691</td>\n      <td>2011-10-01T08:08:58.256+02:00</td>\n      <td>5000</td>\n      <td>A_SUBMITTED</td>\n      <td>COMPLETE</td>\n      <td>01-10-2011 08:08:58.256</td>\n    </tr>\n    <tr>\n      <th>5</th>\n      <td>4294967297</td>\n      <td>173691</td>\n      <td>2011-10-01T08:08:58.256+02:00</td>\n      <td>5000</td>\n      <td>A_PARTLYSUBMITTED</td>\n      <td>COMPLETE</td>\n      <td>01-10-2011 08:09:02.195</td>\n    </tr>\n    <tr>\n      <th>6</th>\n      <td>4294967298</td>\n      <td>173691</td>\n      <td>2011-10-01T08:08:58.256+02:00</td>\n      <td>5000</td>\n      <td>A_PREACCEPTED</td>\n      <td>COMPLETE</td>\n      <td>01-10-2011 08:09:56.648</td>\n    </tr>\n    <tr>\n      <th>7</th>\n      <td>4294967299</td>\n      <td>173691</td>\n      <td>2011-10-01T08:08:58.256+02:00</td>\n      <td>5000</td>\n      <td>W_Completeren aanvraag</td>\n      <td>SCHEDULE</td>\n      <td>01-10-2011 08:09:59.578</td>\n    </tr>\n    <tr>\n      <th>8</th>\n      <td>8589934592</td>\n      <td>173694</td>\n      <td>2011-10-01T08:10:30.287+02:00</td>\n      <td>7000</td>\n      <td>A_SUBMITTED</td>\n      <td>COMPLETE</td>\n      <td>01-10-2011 08:10:30.287</td>\n    </tr>\n    <tr>\n      <th>9</th>\n      <td>8589934593</td>\n      <td>173694</td>\n      <td>2011-10-01T08:10:30.287+02:00</td>\n      <td>7000</td>\n      <td>A_PARTLYSUBMITTED</td>\n      <td>COMPLETE</td>\n      <td>01-10-2011 08:10:30.591</td>\n    </tr>\n  </tbody>\n</table>\n</div>"
     },
     "execution_count": 8,
     "metadata": {},
     "output_type": "execute_result"
    }
   ],
   "source": [
    "# read the data (2012)\n",
    "df = pd.read_csv('data/BPI_Challenge_2012-training.csv')\n",
    "\n",
    "df_test = pd.read_csv('data/BPI_Challenge_2012-test.csv')\n",
    "\n",
    "# Defining database-specific variables\n",
    "case_column = \"case concept:name\"\n",
    "registration_time_column = \"case REG_DATE\"\n",
    "event_column = \"event concept:name\"\n",
    "timestamp_column = \"event time:timestamp\"\n",
    "position_column = \"Position\"\n",
    "baseline_next_event_column = \"Baseline Prediction for Next Activity\"\n",
    "pos_event_next_event_column = \"Position&Event Prediction for Next Activity\"\n",
    "baseline_next_timestamp_column = \"Baseline Prediction for Next Timestamp\"\n",
    "pos_event_next_timestamp_column = \"Position&Event Prediction for Next Timestamp\"\n",
    "time_since_registration_column = \"Time Since Registration\"\n",
    "day_of_week_column = \"day_of_week\"\n",
    "month_of_year_column = \"month_of_year\"\n",
    "offer_sent = 'offer_sent_already' # the name a of a sent offer state within event_column\n",
    "timeformat_registration = \"%Y-%m-%dT%H:%M:%S\" # new time format\n",
    "timeformat_timestamp = \"%d-%m-%Y %H:%M:%S.%f\"\n",
    "predicted_shift_column = 'Predicted event from baseline'\n",
    "df.head(10)"
   ],
   "metadata": {
    "collapsed": false,
    "pycharm": {
     "name": "#%%\n"
    }
   }
  },
  {
   "cell_type": "code",
   "execution_count": 204,
   "outputs": [
    {
     "data": {
      "text/plain": "         index        eventID   case concept:name       case REG_DATE  \\\n0            0               0             173688 2011-10-01 00:38:44   \n1            1               1             173688 2011-10-01 00:38:44   \n2            2               2             173688 2011-10-01 00:38:44   \n3            3               3             173688 2011-10-01 00:38:44   \n4            4               4             173688 2011-10-01 00:38:44   \n...        ...             ...                ...                 ...   \n214372  214372  44955422687236             206318 2012-02-03 17:07:38   \n214373  214373  44955422687237             206318 2012-02-03 17:07:38   \n214374  214374  44959717654528             206321 2012-02-03 17:08:39   \n214375  214375  44959717654529             206321 2012-02-03 17:08:39   \n214376  214376  44959717654530             206321 2012-02-03 17:08:39   \n\n        case AMOUNT_REQ      event concept:name event lifecycle:transition  \\\n0                 20000             A_SUBMITTED                   COMPLETE   \n1                 20000       A_PARTLYSUBMITTED                   COMPLETE   \n2                 20000           A_PREACCEPTED                   COMPLETE   \n3                 20000  W_Completeren aanvraag                   SCHEDULE   \n4                 20000  W_Completeren aanvraag                      START   \n...                 ...                     ...                        ...   \n214372             5000              A_DECLINED                   COMPLETE   \n214373             5000      W_Afhandelen leads                   COMPLETE   \n214374             2000             A_SUBMITTED                   COMPLETE   \n214375             2000       A_PARTLYSUBMITTED                   COMPLETE   \n214376             2000              A_DECLINED                   COMPLETE   \n\n          event time:timestamp  \n0      2011-10-01 00:38:44.546  \n1      2011-10-01 00:38:44.880  \n2      2011-10-01 00:39:37.906  \n3      2011-10-01 00:39:38.875  \n4      2011-10-01 11:36:46.437  \n...                        ...  \n214372 2012-02-03 17:55:57.294  \n214373 2012-02-03 17:56:00.998  \n214374 2012-02-03 17:08:39.200  \n214375 2012-02-03 17:08:39.459  \n214376 2012-02-03 17:09:19.112  \n\n[214377 rows x 8 columns]",
      "text/html": "<div>\n<style scoped>\n    .dataframe tbody tr th:only-of-type {\n        vertical-align: middle;\n    }\n\n    .dataframe tbody tr th {\n        vertical-align: top;\n    }\n\n    .dataframe thead th {\n        text-align: right;\n    }\n</style>\n<table border=\"1\" class=\"dataframe\">\n  <thead>\n    <tr style=\"text-align: right;\">\n      <th></th>\n      <th>index</th>\n      <th>eventID</th>\n      <th>case concept:name</th>\n      <th>case REG_DATE</th>\n      <th>case AMOUNT_REQ</th>\n      <th>event concept:name</th>\n      <th>event lifecycle:transition</th>\n      <th>event time:timestamp</th>\n    </tr>\n  </thead>\n  <tbody>\n    <tr>\n      <th>0</th>\n      <td>0</td>\n      <td>0</td>\n      <td>173688</td>\n      <td>2011-10-01 00:38:44</td>\n      <td>20000</td>\n      <td>A_SUBMITTED</td>\n      <td>COMPLETE</td>\n      <td>2011-10-01 00:38:44.546</td>\n    </tr>\n    <tr>\n      <th>1</th>\n      <td>1</td>\n      <td>1</td>\n      <td>173688</td>\n      <td>2011-10-01 00:38:44</td>\n      <td>20000</td>\n      <td>A_PARTLYSUBMITTED</td>\n      <td>COMPLETE</td>\n      <td>2011-10-01 00:38:44.880</td>\n    </tr>\n    <tr>\n      <th>2</th>\n      <td>2</td>\n      <td>2</td>\n      <td>173688</td>\n      <td>2011-10-01 00:38:44</td>\n      <td>20000</td>\n      <td>A_PREACCEPTED</td>\n      <td>COMPLETE</td>\n      <td>2011-10-01 00:39:37.906</td>\n    </tr>\n    <tr>\n      <th>3</th>\n      <td>3</td>\n      <td>3</td>\n      <td>173688</td>\n      <td>2011-10-01 00:38:44</td>\n      <td>20000</td>\n      <td>W_Completeren aanvraag</td>\n      <td>SCHEDULE</td>\n      <td>2011-10-01 00:39:38.875</td>\n    </tr>\n    <tr>\n      <th>4</th>\n      <td>4</td>\n      <td>4</td>\n      <td>173688</td>\n      <td>2011-10-01 00:38:44</td>\n      <td>20000</td>\n      <td>W_Completeren aanvraag</td>\n      <td>START</td>\n      <td>2011-10-01 11:36:46.437</td>\n    </tr>\n    <tr>\n      <th>...</th>\n      <td>...</td>\n      <td>...</td>\n      <td>...</td>\n      <td>...</td>\n      <td>...</td>\n      <td>...</td>\n      <td>...</td>\n      <td>...</td>\n    </tr>\n    <tr>\n      <th>214372</th>\n      <td>214372</td>\n      <td>44955422687236</td>\n      <td>206318</td>\n      <td>2012-02-03 17:07:38</td>\n      <td>5000</td>\n      <td>A_DECLINED</td>\n      <td>COMPLETE</td>\n      <td>2012-02-03 17:55:57.294</td>\n    </tr>\n    <tr>\n      <th>214373</th>\n      <td>214373</td>\n      <td>44955422687237</td>\n      <td>206318</td>\n      <td>2012-02-03 17:07:38</td>\n      <td>5000</td>\n      <td>W_Afhandelen leads</td>\n      <td>COMPLETE</td>\n      <td>2012-02-03 17:56:00.998</td>\n    </tr>\n    <tr>\n      <th>214374</th>\n      <td>214374</td>\n      <td>44959717654528</td>\n      <td>206321</td>\n      <td>2012-02-03 17:08:39</td>\n      <td>2000</td>\n      <td>A_SUBMITTED</td>\n      <td>COMPLETE</td>\n      <td>2012-02-03 17:08:39.200</td>\n    </tr>\n    <tr>\n      <th>214375</th>\n      <td>214375</td>\n      <td>44959717654529</td>\n      <td>206321</td>\n      <td>2012-02-03 17:08:39</td>\n      <td>2000</td>\n      <td>A_PARTLYSUBMITTED</td>\n      <td>COMPLETE</td>\n      <td>2012-02-03 17:08:39.459</td>\n    </tr>\n    <tr>\n      <th>214376</th>\n      <td>214376</td>\n      <td>44959717654530</td>\n      <td>206321</td>\n      <td>2012-02-03 17:08:39</td>\n      <td>2000</td>\n      <td>A_DECLINED</td>\n      <td>COMPLETE</td>\n      <td>2012-02-03 17:09:19.112</td>\n    </tr>\n  </tbody>\n</table>\n<p>214377 rows × 8 columns</p>\n</div>"
     },
     "execution_count": 204,
     "metadata": {},
     "output_type": "execute_result"
    }
   ],
   "source": [
    "df[registration_time_column]= [re.sub('\\..*|\\+.*','',a,flags=re.DOTALL) for a in df[registration_time_column]]\n",
    "df[registration_time_column] = [datetime.strptime(date, timeformat_registration) for date in df[registration_time_column]]\n",
    "df[timestamp_column] = [datetime.strptime(date, timeformat_timestamp) for date in df[timestamp_column]]\n",
    "df = df.sort_values(by=[case_column, timestamp_column])\n",
    "df.reset_index(inplace=True, drop=True)\n",
    "df.reset_index(inplace=True)\n",
    "df"
   ],
   "metadata": {
    "collapsed": false,
    "pycharm": {
     "name": "#%%\n"
    }
   }
  },
  {
   "cell_type": "code",
   "execution_count": 205,
   "outputs": [
    {
     "data": {
      "text/plain": "         index        eventID   case concept:name       case REG_DATE  \\\n0            0               0             173688 2011-10-01 00:38:44   \n1            1               1             173688 2011-10-01 00:38:44   \n2            2               2             173688 2011-10-01 00:38:44   \n3            3               3             173688 2011-10-01 00:38:44   \n4            4               4             173688 2011-10-01 00:38:44   \n...        ...             ...                ...                 ...   \n214372  214372  44955422687236             206318 2012-02-03 17:07:38   \n214373  214373  44955422687237             206318 2012-02-03 17:07:38   \n214374  214374  44959717654528             206321 2012-02-03 17:08:39   \n214375  214375  44959717654529             206321 2012-02-03 17:08:39   \n214376  214376  44959717654530             206321 2012-02-03 17:08:39   \n\n        case AMOUNT_REQ      event concept:name event lifecycle:transition  \\\n0                 20000             A_SUBMITTED                   COMPLETE   \n1                 20000       A_PARTLYSUBMITTED                   COMPLETE   \n2                 20000           A_PREACCEPTED                   COMPLETE   \n3                 20000  W_Completeren aanvraag                   SCHEDULE   \n4                 20000  W_Completeren aanvraag                      START   \n...                 ...                     ...                        ...   \n214372             5000              A_DECLINED                   COMPLETE   \n214373             5000      W_Afhandelen leads                   COMPLETE   \n214374             2000             A_SUBMITTED                   COMPLETE   \n214375             2000       A_PARTLYSUBMITTED                   COMPLETE   \n214376             2000              A_DECLINED                   COMPLETE   \n\n          event time:timestamp Time Since Registration  day_of_week  \\\n0      2011-10-01 00:38:44.546  0 days 00:00:00.546000            5   \n1      2011-10-01 00:38:44.880  0 days 00:00:00.880000            5   \n2      2011-10-01 00:39:37.906  0 days 00:00:53.906000            5   \n3      2011-10-01 00:39:38.875  0 days 00:00:54.875000            5   \n4      2011-10-01 11:36:46.437  0 days 10:58:02.437000            5   \n...                        ...                     ...          ...   \n214372 2012-02-03 17:55:57.294  0 days 00:48:19.294000            4   \n214373 2012-02-03 17:56:00.998  0 days 00:48:22.998000            4   \n214374 2012-02-03 17:08:39.200  0 days 00:00:00.200000            4   \n214375 2012-02-03 17:08:39.459  0 days 00:00:00.459000            4   \n214376 2012-02-03 17:09:19.112  0 days 00:00:40.112000            4   \n\n        month_of_year  \n0                  10  \n1                  10  \n2                  10  \n3                  10  \n4                  10  \n...               ...  \n214372              2  \n214373              2  \n214374              2  \n214375              2  \n214376              2  \n\n[214377 rows x 11 columns]",
      "text/html": "<div>\n<style scoped>\n    .dataframe tbody tr th:only-of-type {\n        vertical-align: middle;\n    }\n\n    .dataframe tbody tr th {\n        vertical-align: top;\n    }\n\n    .dataframe thead th {\n        text-align: right;\n    }\n</style>\n<table border=\"1\" class=\"dataframe\">\n  <thead>\n    <tr style=\"text-align: right;\">\n      <th></th>\n      <th>index</th>\n      <th>eventID</th>\n      <th>case concept:name</th>\n      <th>case REG_DATE</th>\n      <th>case AMOUNT_REQ</th>\n      <th>event concept:name</th>\n      <th>event lifecycle:transition</th>\n      <th>event time:timestamp</th>\n      <th>Time Since Registration</th>\n      <th>day_of_week</th>\n      <th>month_of_year</th>\n    </tr>\n  </thead>\n  <tbody>\n    <tr>\n      <th>0</th>\n      <td>0</td>\n      <td>0</td>\n      <td>173688</td>\n      <td>2011-10-01 00:38:44</td>\n      <td>20000</td>\n      <td>A_SUBMITTED</td>\n      <td>COMPLETE</td>\n      <td>2011-10-01 00:38:44.546</td>\n      <td>0 days 00:00:00.546000</td>\n      <td>5</td>\n      <td>10</td>\n    </tr>\n    <tr>\n      <th>1</th>\n      <td>1</td>\n      <td>1</td>\n      <td>173688</td>\n      <td>2011-10-01 00:38:44</td>\n      <td>20000</td>\n      <td>A_PARTLYSUBMITTED</td>\n      <td>COMPLETE</td>\n      <td>2011-10-01 00:38:44.880</td>\n      <td>0 days 00:00:00.880000</td>\n      <td>5</td>\n      <td>10</td>\n    </tr>\n    <tr>\n      <th>2</th>\n      <td>2</td>\n      <td>2</td>\n      <td>173688</td>\n      <td>2011-10-01 00:38:44</td>\n      <td>20000</td>\n      <td>A_PREACCEPTED</td>\n      <td>COMPLETE</td>\n      <td>2011-10-01 00:39:37.906</td>\n      <td>0 days 00:00:53.906000</td>\n      <td>5</td>\n      <td>10</td>\n    </tr>\n    <tr>\n      <th>3</th>\n      <td>3</td>\n      <td>3</td>\n      <td>173688</td>\n      <td>2011-10-01 00:38:44</td>\n      <td>20000</td>\n      <td>W_Completeren aanvraag</td>\n      <td>SCHEDULE</td>\n      <td>2011-10-01 00:39:38.875</td>\n      <td>0 days 00:00:54.875000</td>\n      <td>5</td>\n      <td>10</td>\n    </tr>\n    <tr>\n      <th>4</th>\n      <td>4</td>\n      <td>4</td>\n      <td>173688</td>\n      <td>2011-10-01 00:38:44</td>\n      <td>20000</td>\n      <td>W_Completeren aanvraag</td>\n      <td>START</td>\n      <td>2011-10-01 11:36:46.437</td>\n      <td>0 days 10:58:02.437000</td>\n      <td>5</td>\n      <td>10</td>\n    </tr>\n    <tr>\n      <th>...</th>\n      <td>...</td>\n      <td>...</td>\n      <td>...</td>\n      <td>...</td>\n      <td>...</td>\n      <td>...</td>\n      <td>...</td>\n      <td>...</td>\n      <td>...</td>\n      <td>...</td>\n      <td>...</td>\n    </tr>\n    <tr>\n      <th>214372</th>\n      <td>214372</td>\n      <td>44955422687236</td>\n      <td>206318</td>\n      <td>2012-02-03 17:07:38</td>\n      <td>5000</td>\n      <td>A_DECLINED</td>\n      <td>COMPLETE</td>\n      <td>2012-02-03 17:55:57.294</td>\n      <td>0 days 00:48:19.294000</td>\n      <td>4</td>\n      <td>2</td>\n    </tr>\n    <tr>\n      <th>214373</th>\n      <td>214373</td>\n      <td>44955422687237</td>\n      <td>206318</td>\n      <td>2012-02-03 17:07:38</td>\n      <td>5000</td>\n      <td>W_Afhandelen leads</td>\n      <td>COMPLETE</td>\n      <td>2012-02-03 17:56:00.998</td>\n      <td>0 days 00:48:22.998000</td>\n      <td>4</td>\n      <td>2</td>\n    </tr>\n    <tr>\n      <th>214374</th>\n      <td>214374</td>\n      <td>44959717654528</td>\n      <td>206321</td>\n      <td>2012-02-03 17:08:39</td>\n      <td>2000</td>\n      <td>A_SUBMITTED</td>\n      <td>COMPLETE</td>\n      <td>2012-02-03 17:08:39.200</td>\n      <td>0 days 00:00:00.200000</td>\n      <td>4</td>\n      <td>2</td>\n    </tr>\n    <tr>\n      <th>214375</th>\n      <td>214375</td>\n      <td>44959717654529</td>\n      <td>206321</td>\n      <td>2012-02-03 17:08:39</td>\n      <td>2000</td>\n      <td>A_PARTLYSUBMITTED</td>\n      <td>COMPLETE</td>\n      <td>2012-02-03 17:08:39.459</td>\n      <td>0 days 00:00:00.459000</td>\n      <td>4</td>\n      <td>2</td>\n    </tr>\n    <tr>\n      <th>214376</th>\n      <td>214376</td>\n      <td>44959717654530</td>\n      <td>206321</td>\n      <td>2012-02-03 17:08:39</td>\n      <td>2000</td>\n      <td>A_DECLINED</td>\n      <td>COMPLETE</td>\n      <td>2012-02-03 17:09:19.112</td>\n      <td>0 days 00:00:40.112000</td>\n      <td>4</td>\n      <td>2</td>\n    </tr>\n  </tbody>\n</table>\n<p>214377 rows × 11 columns</p>\n</div>"
     },
     "execution_count": 205,
     "metadata": {},
     "output_type": "execute_result"
    }
   ],
   "source": [
    "df[time_since_registration_column] = df[timestamp_column] - df[registration_time_column] # Adding time since registration\n",
    "df[day_of_week_column] = df[timestamp_column].dt.dayofweek\n",
    "df[month_of_year_column] = df[timestamp_column].dt.month\n",
    "df"
   ],
   "metadata": {
    "collapsed": false,
    "pycharm": {
     "name": "#%%\n"
    }
   }
  },
  {
   "cell_type": "code",
   "execution_count": 206,
   "outputs": [],
   "source": [
    "minutes_since_reg= 'minutes_since_reg'\n",
    "df[minutes_since_reg]=[((i.total_seconds()+0.000001)/60) for i in df[time_since_registration_column]]\n",
    "hour = 'hour'\n",
    "df[hour]  = [i.hour for i in df[timestamp_column]]\n",
    "df[offer_sent] = 0\n",
    "offer_sent_mask = df[event_column] == offer_sent\n",
    "case_check = df[offer_sent_mask][[case_column,timestamp_column]].copy().reset_index(drop=True)\n",
    "for i in range(len(case_check)):\n",
    "    case_name = case_check.iloc[i,0]\n",
    "    case_time = case_check.iloc[i,1]\n",
    "    mask = (df[case_column]==case_name)&(df[timestamp_column]>=case_time)\n",
    "    df.loc[mask, offer_sent] = 1\n"
   ],
   "metadata": {
    "collapsed": false,
    "pycharm": {
     "name": "#%%\n"
    }
   }
  },
  {
   "cell_type": "code",
   "execution_count": 207,
   "outputs": [],
   "source": [
    "df[position_column] = df.groupby([case_column]).cumcount()+1\n",
    "length_process = df.groupby([case_column]).size().to_dict()"
   ],
   "metadata": {
    "collapsed": false,
    "pycharm": {
     "name": "#%%\n"
    }
   }
  },
  {
   "cell_type": "code",
   "execution_count": 208,
   "outputs": [
    {
     "data": {
      "text/plain": "         index        eventID   case concept:name       case REG_DATE  \\\n0            0               0             173688 2011-10-01 00:38:44   \n1            1               1             173688 2011-10-01 00:38:44   \n2            2               2             173688 2011-10-01 00:38:44   \n3            3               3             173688 2011-10-01 00:38:44   \n4            4               4             173688 2011-10-01 00:38:44   \n...        ...             ...                ...                 ...   \n214372  214372  44955422687236             206318 2012-02-03 17:07:38   \n214373  214373  44955422687237             206318 2012-02-03 17:07:38   \n214374  214374  44959717654528             206321 2012-02-03 17:08:39   \n214375  214375  44959717654529             206321 2012-02-03 17:08:39   \n214376  214376  44959717654530             206321 2012-02-03 17:08:39   \n\n        case AMOUNT_REQ      event concept:name event lifecycle:transition  \\\n0                 20000             A_SUBMITTED                   COMPLETE   \n1                 20000       A_PARTLYSUBMITTED                   COMPLETE   \n2                 20000           A_PREACCEPTED                   COMPLETE   \n3                 20000  W_Completeren aanvraag                   SCHEDULE   \n4                 20000  W_Completeren aanvraag                      START   \n...                 ...                     ...                        ...   \n214372             5000              A_DECLINED                   COMPLETE   \n214373             5000      W_Afhandelen leads                   COMPLETE   \n214374             2000             A_SUBMITTED                   COMPLETE   \n214375             2000       A_PARTLYSUBMITTED                   COMPLETE   \n214376             2000              A_DECLINED                   COMPLETE   \n\n          event time:timestamp Time Since Registration  day_of_week  \\\n0      2011-10-01 00:38:44.546  0 days 00:00:00.546000            5   \n1      2011-10-01 00:38:44.880  0 days 00:00:00.880000            5   \n2      2011-10-01 00:39:37.906  0 days 00:00:53.906000            5   \n3      2011-10-01 00:39:38.875  0 days 00:00:54.875000            5   \n4      2011-10-01 11:36:46.437  0 days 10:58:02.437000            5   \n...                        ...                     ...          ...   \n214372 2012-02-03 17:55:57.294  0 days 00:48:19.294000            4   \n214373 2012-02-03 17:56:00.998  0 days 00:48:22.998000            4   \n214374 2012-02-03 17:08:39.200  0 days 00:00:00.200000            4   \n214375 2012-02-03 17:08:39.459  0 days 00:00:00.459000            4   \n214376 2012-02-03 17:09:19.112  0 days 00:00:40.112000            4   \n\n        month_of_year  minutes_since_reg  hour  offer_sent_already  Position  \\\n0                  10           0.009100     0                   0         1   \n1                  10           0.014667     0                   0         2   \n2                  10           0.898433     0                   0         3   \n3                  10           0.914583     0                   0         4   \n4                  10         658.040617    11                   0         5   \n...               ...                ...   ...                 ...       ...   \n214372              2          48.321567    17                   0         5   \n214373              2          48.383300    17                   0         6   \n214374              2           0.003333    17                   0         1   \n214375              2           0.007650    17                   0         2   \n214376              2           0.668533    17                   0         3   \n\n        shifted_deltatimes  \n0                    0.334  \n1                   53.026  \n2                    0.969  \n3                39427.562  \n4                  356.871  \n...                    ...  \n214372               3.704  \n214373                 NaN  \n214374               0.259  \n214375              39.653  \n214376                 NaN  \n\n[214377 rows x 16 columns]",
      "text/html": "<div>\n<style scoped>\n    .dataframe tbody tr th:only-of-type {\n        vertical-align: middle;\n    }\n\n    .dataframe tbody tr th {\n        vertical-align: top;\n    }\n\n    .dataframe thead th {\n        text-align: right;\n    }\n</style>\n<table border=\"1\" class=\"dataframe\">\n  <thead>\n    <tr style=\"text-align: right;\">\n      <th></th>\n      <th>index</th>\n      <th>eventID</th>\n      <th>case concept:name</th>\n      <th>case REG_DATE</th>\n      <th>case AMOUNT_REQ</th>\n      <th>event concept:name</th>\n      <th>event lifecycle:transition</th>\n      <th>event time:timestamp</th>\n      <th>Time Since Registration</th>\n      <th>day_of_week</th>\n      <th>month_of_year</th>\n      <th>minutes_since_reg</th>\n      <th>hour</th>\n      <th>offer_sent_already</th>\n      <th>Position</th>\n      <th>shifted_deltatimes</th>\n    </tr>\n  </thead>\n  <tbody>\n    <tr>\n      <th>0</th>\n      <td>0</td>\n      <td>0</td>\n      <td>173688</td>\n      <td>2011-10-01 00:38:44</td>\n      <td>20000</td>\n      <td>A_SUBMITTED</td>\n      <td>COMPLETE</td>\n      <td>2011-10-01 00:38:44.546</td>\n      <td>0 days 00:00:00.546000</td>\n      <td>5</td>\n      <td>10</td>\n      <td>0.009100</td>\n      <td>0</td>\n      <td>0</td>\n      <td>1</td>\n      <td>0.334</td>\n    </tr>\n    <tr>\n      <th>1</th>\n      <td>1</td>\n      <td>1</td>\n      <td>173688</td>\n      <td>2011-10-01 00:38:44</td>\n      <td>20000</td>\n      <td>A_PARTLYSUBMITTED</td>\n      <td>COMPLETE</td>\n      <td>2011-10-01 00:38:44.880</td>\n      <td>0 days 00:00:00.880000</td>\n      <td>5</td>\n      <td>10</td>\n      <td>0.014667</td>\n      <td>0</td>\n      <td>0</td>\n      <td>2</td>\n      <td>53.026</td>\n    </tr>\n    <tr>\n      <th>2</th>\n      <td>2</td>\n      <td>2</td>\n      <td>173688</td>\n      <td>2011-10-01 00:38:44</td>\n      <td>20000</td>\n      <td>A_PREACCEPTED</td>\n      <td>COMPLETE</td>\n      <td>2011-10-01 00:39:37.906</td>\n      <td>0 days 00:00:53.906000</td>\n      <td>5</td>\n      <td>10</td>\n      <td>0.898433</td>\n      <td>0</td>\n      <td>0</td>\n      <td>3</td>\n      <td>0.969</td>\n    </tr>\n    <tr>\n      <th>3</th>\n      <td>3</td>\n      <td>3</td>\n      <td>173688</td>\n      <td>2011-10-01 00:38:44</td>\n      <td>20000</td>\n      <td>W_Completeren aanvraag</td>\n      <td>SCHEDULE</td>\n      <td>2011-10-01 00:39:38.875</td>\n      <td>0 days 00:00:54.875000</td>\n      <td>5</td>\n      <td>10</td>\n      <td>0.914583</td>\n      <td>0</td>\n      <td>0</td>\n      <td>4</td>\n      <td>39427.562</td>\n    </tr>\n    <tr>\n      <th>4</th>\n      <td>4</td>\n      <td>4</td>\n      <td>173688</td>\n      <td>2011-10-01 00:38:44</td>\n      <td>20000</td>\n      <td>W_Completeren aanvraag</td>\n      <td>START</td>\n      <td>2011-10-01 11:36:46.437</td>\n      <td>0 days 10:58:02.437000</td>\n      <td>5</td>\n      <td>10</td>\n      <td>658.040617</td>\n      <td>11</td>\n      <td>0</td>\n      <td>5</td>\n      <td>356.871</td>\n    </tr>\n    <tr>\n      <th>...</th>\n      <td>...</td>\n      <td>...</td>\n      <td>...</td>\n      <td>...</td>\n      <td>...</td>\n      <td>...</td>\n      <td>...</td>\n      <td>...</td>\n      <td>...</td>\n      <td>...</td>\n      <td>...</td>\n      <td>...</td>\n      <td>...</td>\n      <td>...</td>\n      <td>...</td>\n      <td>...</td>\n    </tr>\n    <tr>\n      <th>214372</th>\n      <td>214372</td>\n      <td>44955422687236</td>\n      <td>206318</td>\n      <td>2012-02-03 17:07:38</td>\n      <td>5000</td>\n      <td>A_DECLINED</td>\n      <td>COMPLETE</td>\n      <td>2012-02-03 17:55:57.294</td>\n      <td>0 days 00:48:19.294000</td>\n      <td>4</td>\n      <td>2</td>\n      <td>48.321567</td>\n      <td>17</td>\n      <td>0</td>\n      <td>5</td>\n      <td>3.704</td>\n    </tr>\n    <tr>\n      <th>214373</th>\n      <td>214373</td>\n      <td>44955422687237</td>\n      <td>206318</td>\n      <td>2012-02-03 17:07:38</td>\n      <td>5000</td>\n      <td>W_Afhandelen leads</td>\n      <td>COMPLETE</td>\n      <td>2012-02-03 17:56:00.998</td>\n      <td>0 days 00:48:22.998000</td>\n      <td>4</td>\n      <td>2</td>\n      <td>48.383300</td>\n      <td>17</td>\n      <td>0</td>\n      <td>6</td>\n      <td>NaN</td>\n    </tr>\n    <tr>\n      <th>214374</th>\n      <td>214374</td>\n      <td>44959717654528</td>\n      <td>206321</td>\n      <td>2012-02-03 17:08:39</td>\n      <td>2000</td>\n      <td>A_SUBMITTED</td>\n      <td>COMPLETE</td>\n      <td>2012-02-03 17:08:39.200</td>\n      <td>0 days 00:00:00.200000</td>\n      <td>4</td>\n      <td>2</td>\n      <td>0.003333</td>\n      <td>17</td>\n      <td>0</td>\n      <td>1</td>\n      <td>0.259</td>\n    </tr>\n    <tr>\n      <th>214375</th>\n      <td>214375</td>\n      <td>44959717654529</td>\n      <td>206321</td>\n      <td>2012-02-03 17:08:39</td>\n      <td>2000</td>\n      <td>A_PARTLYSUBMITTED</td>\n      <td>COMPLETE</td>\n      <td>2012-02-03 17:08:39.459</td>\n      <td>0 days 00:00:00.459000</td>\n      <td>4</td>\n      <td>2</td>\n      <td>0.007650</td>\n      <td>17</td>\n      <td>0</td>\n      <td>2</td>\n      <td>39.653</td>\n    </tr>\n    <tr>\n      <th>214376</th>\n      <td>214376</td>\n      <td>44959717654530</td>\n      <td>206321</td>\n      <td>2012-02-03 17:08:39</td>\n      <td>2000</td>\n      <td>A_DECLINED</td>\n      <td>COMPLETE</td>\n      <td>2012-02-03 17:09:19.112</td>\n      <td>0 days 00:00:40.112000</td>\n      <td>4</td>\n      <td>2</td>\n      <td>0.668533</td>\n      <td>17</td>\n      <td>0</td>\n      <td>3</td>\n      <td>NaN</td>\n    </tr>\n  </tbody>\n</table>\n<p>214377 rows × 16 columns</p>\n</div>"
     },
     "execution_count": 208,
     "metadata": {},
     "output_type": "execute_result"
    }
   ],
   "source": [
    "shifted_deltatimes_list = df[timestamp_column].diff().shift(periods=-1)\n",
    "shifted_deltatimes = 'shifted_deltatimes'\n",
    "df[shifted_deltatimes] = [(i.total_seconds()) for i in shifted_deltatimes_list]\n",
    "mask1  = (df[shifted_deltatimes]<0.001)\n",
    "mask2 = (df[shifted_deltatimes]<0)\n",
    "df.loc[mask1, shifted_deltatimes]=0\n",
    "df.loc[mask2, shifted_deltatimes]=np.nan\n",
    "df"
   ],
   "metadata": {
    "collapsed": false,
    "pycharm": {
     "name": "#%%\n"
    }
   }
  },
  {
   "cell_type": "code",
   "execution_count": 209,
   "outputs": [],
   "source": [
    "df['previous_event']=0\n",
    "df['previous_lifecycle']=0\n",
    "all_ids = list(df[case_column].unique())\n",
    "\n",
    "for ids in all_ids:\n",
    "    df2 = df[df[case_column]==ids].copy()\n",
    "    df.loc[df[case_column]==ids, 'previous_event']= df2[event_column].shift(periods=1)\n",
    "    df.loc[df[case_column]==ids, 'previous_lifecycle']= df2['event lifecycle:transition'].shift(periods=1)\n",
    "df.loc[df['previous_event'].isnull(), 'previous_event']='START'\n",
    "df.loc[df['previous_lifecycle'].isnull(), 'previous_lifecycle']='START'"
   ],
   "metadata": {
    "collapsed": false,
    "pycharm": {
     "name": "#%%\n"
    }
   }
  },
  {
   "cell_type": "code",
   "execution_count": 210,
   "outputs": [
    {
     "data": {
      "text/plain": "         index        eventID   case concept:name       case REG_DATE  \\\n0            0               0             173688 2011-10-01 00:38:44   \n1            1               1             173688 2011-10-01 00:38:44   \n2            2               2             173688 2011-10-01 00:38:44   \n3            3               3             173688 2011-10-01 00:38:44   \n4            4               4             173688 2011-10-01 00:38:44   \n...        ...             ...                ...                 ...   \n214372  214372  44955422687236             206318 2012-02-03 17:07:38   \n214373  214373  44955422687237             206318 2012-02-03 17:07:38   \n214374  214374  44959717654528             206321 2012-02-03 17:08:39   \n214375  214375  44959717654529             206321 2012-02-03 17:08:39   \n214376  214376  44959717654530             206321 2012-02-03 17:08:39   \n\n        case AMOUNT_REQ      event concept:name event lifecycle:transition  \\\n0                 20000             A_SUBMITTED                   COMPLETE   \n1                 20000       A_PARTLYSUBMITTED                   COMPLETE   \n2                 20000           A_PREACCEPTED                   COMPLETE   \n3                 20000  W_Completeren aanvraag                   SCHEDULE   \n4                 20000  W_Completeren aanvraag                      START   \n...                 ...                     ...                        ...   \n214372             5000              A_DECLINED                   COMPLETE   \n214373             5000      W_Afhandelen leads                   COMPLETE   \n214374             2000             A_SUBMITTED                   COMPLETE   \n214375             2000       A_PARTLYSUBMITTED                   COMPLETE   \n214376             2000              A_DECLINED                   COMPLETE   \n\n          event time:timestamp Time Since Registration  day_of_week  ...  \\\n0      2011-10-01 00:38:44.546  0 days 00:00:00.546000            5  ...   \n1      2011-10-01 00:38:44.880  0 days 00:00:00.880000            5  ...   \n2      2011-10-01 00:39:37.906  0 days 00:00:53.906000            5  ...   \n3      2011-10-01 00:39:38.875  0 days 00:00:54.875000            5  ...   \n4      2011-10-01 11:36:46.437  0 days 10:58:02.437000            5  ...   \n...                        ...                     ...          ...  ...   \n214372 2012-02-03 17:55:57.294  0 days 00:48:19.294000            4  ...   \n214373 2012-02-03 17:56:00.998  0 days 00:48:22.998000            4  ...   \n214374 2012-02-03 17:08:39.200  0 days 00:00:00.200000            4  ...   \n214375 2012-02-03 17:08:39.459  0 days 00:00:00.459000            4  ...   \n214376 2012-02-03 17:09:19.112  0 days 00:00:40.112000            4  ...   \n\n        A_APPROVED  A_ACTIVATED  O_CANCELLED  A_CANCELLED  W_Afhandelen leads  \\\n0                0            0            0            0                   0   \n1                0            0            0            0                   0   \n2                0            0            0            0                   0   \n3                0            0            0            0                   0   \n4                0            0            0            0                   0   \n...            ...          ...          ...          ...                 ...   \n214372           0            0            0            0                   0   \n214373           0            0            0            0                   0   \n214374           0            0            0            0                   0   \n214375           0            0            0            0                   0   \n214376           0            0            0            0                   0   \n\n        A_DECLINED O_DECLINED W_Nabellen incomplete dossiers  \\\n0                0          0                              0   \n1                0          0                              0   \n2                0          0                              0   \n3                0          0                              0   \n4                0          0                              0   \n...            ...        ...                            ...   \n214372           0          0                              0   \n214373           0          0                              0   \n214374           0          0                              0   \n214375           0          0                              0   \n214376           0          0                              0   \n\n        W_Beoordelen fraude  W_Wijzigen contractgegevens  \n0                         0                            0  \n1                         0                            0  \n2                         0                            0  \n3                         0                            0  \n4                         0                            0  \n...                     ...                          ...  \n214372                    0                            0  \n214373                    0                            0  \n214374                    0                            0  \n214375                    0                            0  \n214376                    0                            0  \n\n[214377 rows x 43 columns]",
      "text/html": "<div>\n<style scoped>\n    .dataframe tbody tr th:only-of-type {\n        vertical-align: middle;\n    }\n\n    .dataframe tbody tr th {\n        vertical-align: top;\n    }\n\n    .dataframe thead th {\n        text-align: right;\n    }\n</style>\n<table border=\"1\" class=\"dataframe\">\n  <thead>\n    <tr style=\"text-align: right;\">\n      <th></th>\n      <th>index</th>\n      <th>eventID</th>\n      <th>case concept:name</th>\n      <th>case REG_DATE</th>\n      <th>case AMOUNT_REQ</th>\n      <th>event concept:name</th>\n      <th>event lifecycle:transition</th>\n      <th>event time:timestamp</th>\n      <th>Time Since Registration</th>\n      <th>day_of_week</th>\n      <th>...</th>\n      <th>A_APPROVED</th>\n      <th>A_ACTIVATED</th>\n      <th>O_CANCELLED</th>\n      <th>A_CANCELLED</th>\n      <th>W_Afhandelen leads</th>\n      <th>A_DECLINED</th>\n      <th>O_DECLINED</th>\n      <th>W_Nabellen incomplete dossiers</th>\n      <th>W_Beoordelen fraude</th>\n      <th>W_Wijzigen contractgegevens</th>\n    </tr>\n  </thead>\n  <tbody>\n    <tr>\n      <th>0</th>\n      <td>0</td>\n      <td>0</td>\n      <td>173688</td>\n      <td>2011-10-01 00:38:44</td>\n      <td>20000</td>\n      <td>A_SUBMITTED</td>\n      <td>COMPLETE</td>\n      <td>2011-10-01 00:38:44.546</td>\n      <td>0 days 00:00:00.546000</td>\n      <td>5</td>\n      <td>...</td>\n      <td>0</td>\n      <td>0</td>\n      <td>0</td>\n      <td>0</td>\n      <td>0</td>\n      <td>0</td>\n      <td>0</td>\n      <td>0</td>\n      <td>0</td>\n      <td>0</td>\n    </tr>\n    <tr>\n      <th>1</th>\n      <td>1</td>\n      <td>1</td>\n      <td>173688</td>\n      <td>2011-10-01 00:38:44</td>\n      <td>20000</td>\n      <td>A_PARTLYSUBMITTED</td>\n      <td>COMPLETE</td>\n      <td>2011-10-01 00:38:44.880</td>\n      <td>0 days 00:00:00.880000</td>\n      <td>5</td>\n      <td>...</td>\n      <td>0</td>\n      <td>0</td>\n      <td>0</td>\n      <td>0</td>\n      <td>0</td>\n      <td>0</td>\n      <td>0</td>\n      <td>0</td>\n      <td>0</td>\n      <td>0</td>\n    </tr>\n    <tr>\n      <th>2</th>\n      <td>2</td>\n      <td>2</td>\n      <td>173688</td>\n      <td>2011-10-01 00:38:44</td>\n      <td>20000</td>\n      <td>A_PREACCEPTED</td>\n      <td>COMPLETE</td>\n      <td>2011-10-01 00:39:37.906</td>\n      <td>0 days 00:00:53.906000</td>\n      <td>5</td>\n      <td>...</td>\n      <td>0</td>\n      <td>0</td>\n      <td>0</td>\n      <td>0</td>\n      <td>0</td>\n      <td>0</td>\n      <td>0</td>\n      <td>0</td>\n      <td>0</td>\n      <td>0</td>\n    </tr>\n    <tr>\n      <th>3</th>\n      <td>3</td>\n      <td>3</td>\n      <td>173688</td>\n      <td>2011-10-01 00:38:44</td>\n      <td>20000</td>\n      <td>W_Completeren aanvraag</td>\n      <td>SCHEDULE</td>\n      <td>2011-10-01 00:39:38.875</td>\n      <td>0 days 00:00:54.875000</td>\n      <td>5</td>\n      <td>...</td>\n      <td>0</td>\n      <td>0</td>\n      <td>0</td>\n      <td>0</td>\n      <td>0</td>\n      <td>0</td>\n      <td>0</td>\n      <td>0</td>\n      <td>0</td>\n      <td>0</td>\n    </tr>\n    <tr>\n      <th>4</th>\n      <td>4</td>\n      <td>4</td>\n      <td>173688</td>\n      <td>2011-10-01 00:38:44</td>\n      <td>20000</td>\n      <td>W_Completeren aanvraag</td>\n      <td>START</td>\n      <td>2011-10-01 11:36:46.437</td>\n      <td>0 days 10:58:02.437000</td>\n      <td>5</td>\n      <td>...</td>\n      <td>0</td>\n      <td>0</td>\n      <td>0</td>\n      <td>0</td>\n      <td>0</td>\n      <td>0</td>\n      <td>0</td>\n      <td>0</td>\n      <td>0</td>\n      <td>0</td>\n    </tr>\n    <tr>\n      <th>...</th>\n      <td>...</td>\n      <td>...</td>\n      <td>...</td>\n      <td>...</td>\n      <td>...</td>\n      <td>...</td>\n      <td>...</td>\n      <td>...</td>\n      <td>...</td>\n      <td>...</td>\n      <td>...</td>\n      <td>...</td>\n      <td>...</td>\n      <td>...</td>\n      <td>...</td>\n      <td>...</td>\n      <td>...</td>\n      <td>...</td>\n      <td>...</td>\n      <td>...</td>\n      <td>...</td>\n    </tr>\n    <tr>\n      <th>214372</th>\n      <td>214372</td>\n      <td>44955422687236</td>\n      <td>206318</td>\n      <td>2012-02-03 17:07:38</td>\n      <td>5000</td>\n      <td>A_DECLINED</td>\n      <td>COMPLETE</td>\n      <td>2012-02-03 17:55:57.294</td>\n      <td>0 days 00:48:19.294000</td>\n      <td>4</td>\n      <td>...</td>\n      <td>0</td>\n      <td>0</td>\n      <td>0</td>\n      <td>0</td>\n      <td>0</td>\n      <td>0</td>\n      <td>0</td>\n      <td>0</td>\n      <td>0</td>\n      <td>0</td>\n    </tr>\n    <tr>\n      <th>214373</th>\n      <td>214373</td>\n      <td>44955422687237</td>\n      <td>206318</td>\n      <td>2012-02-03 17:07:38</td>\n      <td>5000</td>\n      <td>W_Afhandelen leads</td>\n      <td>COMPLETE</td>\n      <td>2012-02-03 17:56:00.998</td>\n      <td>0 days 00:48:22.998000</td>\n      <td>4</td>\n      <td>...</td>\n      <td>0</td>\n      <td>0</td>\n      <td>0</td>\n      <td>0</td>\n      <td>0</td>\n      <td>0</td>\n      <td>0</td>\n      <td>0</td>\n      <td>0</td>\n      <td>0</td>\n    </tr>\n    <tr>\n      <th>214374</th>\n      <td>214374</td>\n      <td>44959717654528</td>\n      <td>206321</td>\n      <td>2012-02-03 17:08:39</td>\n      <td>2000</td>\n      <td>A_SUBMITTED</td>\n      <td>COMPLETE</td>\n      <td>2012-02-03 17:08:39.200</td>\n      <td>0 days 00:00:00.200000</td>\n      <td>4</td>\n      <td>...</td>\n      <td>0</td>\n      <td>0</td>\n      <td>0</td>\n      <td>0</td>\n      <td>0</td>\n      <td>0</td>\n      <td>0</td>\n      <td>0</td>\n      <td>0</td>\n      <td>0</td>\n    </tr>\n    <tr>\n      <th>214375</th>\n      <td>214375</td>\n      <td>44959717654529</td>\n      <td>206321</td>\n      <td>2012-02-03 17:08:39</td>\n      <td>2000</td>\n      <td>A_PARTLYSUBMITTED</td>\n      <td>COMPLETE</td>\n      <td>2012-02-03 17:08:39.459</td>\n      <td>0 days 00:00:00.459000</td>\n      <td>4</td>\n      <td>...</td>\n      <td>0</td>\n      <td>0</td>\n      <td>0</td>\n      <td>0</td>\n      <td>0</td>\n      <td>0</td>\n      <td>0</td>\n      <td>0</td>\n      <td>0</td>\n      <td>0</td>\n    </tr>\n    <tr>\n      <th>214376</th>\n      <td>214376</td>\n      <td>44959717654530</td>\n      <td>206321</td>\n      <td>2012-02-03 17:08:39</td>\n      <td>2000</td>\n      <td>A_DECLINED</td>\n      <td>COMPLETE</td>\n      <td>2012-02-03 17:09:19.112</td>\n      <td>0 days 00:00:40.112000</td>\n      <td>4</td>\n      <td>...</td>\n      <td>0</td>\n      <td>0</td>\n      <td>0</td>\n      <td>0</td>\n      <td>0</td>\n      <td>0</td>\n      <td>0</td>\n      <td>0</td>\n      <td>0</td>\n      <td>0</td>\n    </tr>\n  </tbody>\n</table>\n<p>214377 rows × 43 columns</p>\n</div>"
     },
     "execution_count": 210,
     "metadata": {},
     "output_type": "execute_result"
    }
   ],
   "source": [
    "all_events = list(df['previous_event'].unique())\n",
    "for event in all_events:\n",
    "    df[event] = 0\n",
    "df"
   ],
   "metadata": {
    "collapsed": false,
    "pycharm": {
     "name": "#%%\n"
    }
   }
  },
  {
   "cell_type": "code",
   "execution_count": 211,
   "outputs": [
    {
     "name": "stdout",
     "output_type": "stream",
     "text": [
      "520.7884987000016\n"
     ]
    }
   ],
   "source": [
    "#takes 10 mins\n",
    "start_time = timeit.default_timer()\n",
    "df['last_event'] = 0\n",
    "a=0\n",
    "for ids in all_ids:\n",
    "    index_case = df[df[case_column]==ids]['index'].max()\n",
    "    df.loc[index_case,'last_event']=1\n",
    "    for i in range(a,index_case+1):\n",
    "        mask = ((df[case_column]==ids)& (df['index']>=i))\n",
    "        prev_event = df.loc[mask,'previous_event'].reset_index(drop=True)[0]\n",
    "        df.loc[mask, prev_event]=1\n",
    "    a = index_case+1\n",
    "print(timeit.default_timer() - start_time)"
   ],
   "metadata": {
    "collapsed": false,
    "pycharm": {
     "name": "#%%\n"
    }
   }
  },
  {
   "cell_type": "code",
   "execution_count": 212,
   "outputs": [
    {
     "data": {
      "text/plain": "         index        eventID   case concept:name       case REG_DATE  \\\n0            0               0             173688 2011-10-01 00:38:44   \n1            1               1             173688 2011-10-01 00:38:44   \n2            2               2             173688 2011-10-01 00:38:44   \n3            3               3             173688 2011-10-01 00:38:44   \n4            4               4             173688 2011-10-01 00:38:44   \n...        ...             ...                ...                 ...   \n214372  214372  44955422687236             206318 2012-02-03 17:07:38   \n214373  214373  44955422687237             206318 2012-02-03 17:07:38   \n214374  214374  44959717654528             206321 2012-02-03 17:08:39   \n214375  214375  44959717654529             206321 2012-02-03 17:08:39   \n214376  214376  44959717654530             206321 2012-02-03 17:08:39   \n\n        case AMOUNT_REQ      event concept:name event lifecycle:transition  \\\n0                 20000             A_SUBMITTED                   COMPLETE   \n1                 20000       A_PARTLYSUBMITTED                   COMPLETE   \n2                 20000           A_PREACCEPTED                   COMPLETE   \n3                 20000  W_Completeren aanvraag                   SCHEDULE   \n4                 20000  W_Completeren aanvraag                      START   \n...                 ...                     ...                        ...   \n214372             5000              A_DECLINED                   COMPLETE   \n214373             5000      W_Afhandelen leads                   COMPLETE   \n214374             2000             A_SUBMITTED                   COMPLETE   \n214375             2000       A_PARTLYSUBMITTED                   COMPLETE   \n214376             2000              A_DECLINED                   COMPLETE   \n\n          event time:timestamp Time Since Registration  day_of_week  ...  \\\n0      2011-10-01 00:38:44.546  0 days 00:00:00.546000            5  ...   \n1      2011-10-01 00:38:44.880  0 days 00:00:00.880000            5  ...   \n2      2011-10-01 00:39:37.906  0 days 00:00:53.906000            5  ...   \n3      2011-10-01 00:39:38.875  0 days 00:00:54.875000            5  ...   \n4      2011-10-01 11:36:46.437  0 days 10:58:02.437000            5  ...   \n...                        ...                     ...          ...  ...   \n214372 2012-02-03 17:55:57.294  0 days 00:48:19.294000            4  ...   \n214373 2012-02-03 17:56:00.998  0 days 00:48:22.998000            4  ...   \n214374 2012-02-03 17:08:39.200  0 days 00:00:00.200000            4  ...   \n214375 2012-02-03 17:08:39.459  0 days 00:00:00.459000            4  ...   \n214376 2012-02-03 17:09:19.112  0 days 00:00:40.112000            4  ...   \n\n        A_ACTIVATED  O_CANCELLED  A_CANCELLED  W_Afhandelen leads  A_DECLINED  \\\n0                 0            0            0                   0           0   \n1                 0            0            0                   0           0   \n2                 0            0            0                   0           0   \n3                 0            0            0                   0           0   \n4                 0            0            0                   0           0   \n...             ...          ...          ...                 ...         ...   \n214372            0            0            0                   1           0   \n214373            0            0            0                   1           1   \n214374            0            0            0                   0           0   \n214375            0            0            0                   0           0   \n214376            0            0            0                   0           0   \n\n        O_DECLINED W_Nabellen incomplete dossiers W_Beoordelen fraude  \\\n0                0                              0                   0   \n1                0                              0                   0   \n2                0                              0                   0   \n3                0                              0                   0   \n4                0                              0                   0   \n...            ...                            ...                 ...   \n214372           0                              0                   0   \n214373           0                              0                   0   \n214374           0                              0                   0   \n214375           0                              0                   0   \n214376           0                              0                   0   \n\n        W_Wijzigen contractgegevens  last_event  \n0                                 0           0  \n1                                 0           0  \n2                                 0           0  \n3                                 0           0  \n4                                 0           0  \n...                             ...         ...  \n214372                            0           0  \n214373                            0           1  \n214374                            0           0  \n214375                            0           0  \n214376                            0           1  \n\n[214377 rows x 44 columns]",
      "text/html": "<div>\n<style scoped>\n    .dataframe tbody tr th:only-of-type {\n        vertical-align: middle;\n    }\n\n    .dataframe tbody tr th {\n        vertical-align: top;\n    }\n\n    .dataframe thead th {\n        text-align: right;\n    }\n</style>\n<table border=\"1\" class=\"dataframe\">\n  <thead>\n    <tr style=\"text-align: right;\">\n      <th></th>\n      <th>index</th>\n      <th>eventID</th>\n      <th>case concept:name</th>\n      <th>case REG_DATE</th>\n      <th>case AMOUNT_REQ</th>\n      <th>event concept:name</th>\n      <th>event lifecycle:transition</th>\n      <th>event time:timestamp</th>\n      <th>Time Since Registration</th>\n      <th>day_of_week</th>\n      <th>...</th>\n      <th>A_ACTIVATED</th>\n      <th>O_CANCELLED</th>\n      <th>A_CANCELLED</th>\n      <th>W_Afhandelen leads</th>\n      <th>A_DECLINED</th>\n      <th>O_DECLINED</th>\n      <th>W_Nabellen incomplete dossiers</th>\n      <th>W_Beoordelen fraude</th>\n      <th>W_Wijzigen contractgegevens</th>\n      <th>last_event</th>\n    </tr>\n  </thead>\n  <tbody>\n    <tr>\n      <th>0</th>\n      <td>0</td>\n      <td>0</td>\n      <td>173688</td>\n      <td>2011-10-01 00:38:44</td>\n      <td>20000</td>\n      <td>A_SUBMITTED</td>\n      <td>COMPLETE</td>\n      <td>2011-10-01 00:38:44.546</td>\n      <td>0 days 00:00:00.546000</td>\n      <td>5</td>\n      <td>...</td>\n      <td>0</td>\n      <td>0</td>\n      <td>0</td>\n      <td>0</td>\n      <td>0</td>\n      <td>0</td>\n      <td>0</td>\n      <td>0</td>\n      <td>0</td>\n      <td>0</td>\n    </tr>\n    <tr>\n      <th>1</th>\n      <td>1</td>\n      <td>1</td>\n      <td>173688</td>\n      <td>2011-10-01 00:38:44</td>\n      <td>20000</td>\n      <td>A_PARTLYSUBMITTED</td>\n      <td>COMPLETE</td>\n      <td>2011-10-01 00:38:44.880</td>\n      <td>0 days 00:00:00.880000</td>\n      <td>5</td>\n      <td>...</td>\n      <td>0</td>\n      <td>0</td>\n      <td>0</td>\n      <td>0</td>\n      <td>0</td>\n      <td>0</td>\n      <td>0</td>\n      <td>0</td>\n      <td>0</td>\n      <td>0</td>\n    </tr>\n    <tr>\n      <th>2</th>\n      <td>2</td>\n      <td>2</td>\n      <td>173688</td>\n      <td>2011-10-01 00:38:44</td>\n      <td>20000</td>\n      <td>A_PREACCEPTED</td>\n      <td>COMPLETE</td>\n      <td>2011-10-01 00:39:37.906</td>\n      <td>0 days 00:00:53.906000</td>\n      <td>5</td>\n      <td>...</td>\n      <td>0</td>\n      <td>0</td>\n      <td>0</td>\n      <td>0</td>\n      <td>0</td>\n      <td>0</td>\n      <td>0</td>\n      <td>0</td>\n      <td>0</td>\n      <td>0</td>\n    </tr>\n    <tr>\n      <th>3</th>\n      <td>3</td>\n      <td>3</td>\n      <td>173688</td>\n      <td>2011-10-01 00:38:44</td>\n      <td>20000</td>\n      <td>W_Completeren aanvraag</td>\n      <td>SCHEDULE</td>\n      <td>2011-10-01 00:39:38.875</td>\n      <td>0 days 00:00:54.875000</td>\n      <td>5</td>\n      <td>...</td>\n      <td>0</td>\n      <td>0</td>\n      <td>0</td>\n      <td>0</td>\n      <td>0</td>\n      <td>0</td>\n      <td>0</td>\n      <td>0</td>\n      <td>0</td>\n      <td>0</td>\n    </tr>\n    <tr>\n      <th>4</th>\n      <td>4</td>\n      <td>4</td>\n      <td>173688</td>\n      <td>2011-10-01 00:38:44</td>\n      <td>20000</td>\n      <td>W_Completeren aanvraag</td>\n      <td>START</td>\n      <td>2011-10-01 11:36:46.437</td>\n      <td>0 days 10:58:02.437000</td>\n      <td>5</td>\n      <td>...</td>\n      <td>0</td>\n      <td>0</td>\n      <td>0</td>\n      <td>0</td>\n      <td>0</td>\n      <td>0</td>\n      <td>0</td>\n      <td>0</td>\n      <td>0</td>\n      <td>0</td>\n    </tr>\n    <tr>\n      <th>...</th>\n      <td>...</td>\n      <td>...</td>\n      <td>...</td>\n      <td>...</td>\n      <td>...</td>\n      <td>...</td>\n      <td>...</td>\n      <td>...</td>\n      <td>...</td>\n      <td>...</td>\n      <td>...</td>\n      <td>...</td>\n      <td>...</td>\n      <td>...</td>\n      <td>...</td>\n      <td>...</td>\n      <td>...</td>\n      <td>...</td>\n      <td>...</td>\n      <td>...</td>\n      <td>...</td>\n    </tr>\n    <tr>\n      <th>214372</th>\n      <td>214372</td>\n      <td>44955422687236</td>\n      <td>206318</td>\n      <td>2012-02-03 17:07:38</td>\n      <td>5000</td>\n      <td>A_DECLINED</td>\n      <td>COMPLETE</td>\n      <td>2012-02-03 17:55:57.294</td>\n      <td>0 days 00:48:19.294000</td>\n      <td>4</td>\n      <td>...</td>\n      <td>0</td>\n      <td>0</td>\n      <td>0</td>\n      <td>1</td>\n      <td>0</td>\n      <td>0</td>\n      <td>0</td>\n      <td>0</td>\n      <td>0</td>\n      <td>0</td>\n    </tr>\n    <tr>\n      <th>214373</th>\n      <td>214373</td>\n      <td>44955422687237</td>\n      <td>206318</td>\n      <td>2012-02-03 17:07:38</td>\n      <td>5000</td>\n      <td>W_Afhandelen leads</td>\n      <td>COMPLETE</td>\n      <td>2012-02-03 17:56:00.998</td>\n      <td>0 days 00:48:22.998000</td>\n      <td>4</td>\n      <td>...</td>\n      <td>0</td>\n      <td>0</td>\n      <td>0</td>\n      <td>1</td>\n      <td>1</td>\n      <td>0</td>\n      <td>0</td>\n      <td>0</td>\n      <td>0</td>\n      <td>1</td>\n    </tr>\n    <tr>\n      <th>214374</th>\n      <td>214374</td>\n      <td>44959717654528</td>\n      <td>206321</td>\n      <td>2012-02-03 17:08:39</td>\n      <td>2000</td>\n      <td>A_SUBMITTED</td>\n      <td>COMPLETE</td>\n      <td>2012-02-03 17:08:39.200</td>\n      <td>0 days 00:00:00.200000</td>\n      <td>4</td>\n      <td>...</td>\n      <td>0</td>\n      <td>0</td>\n      <td>0</td>\n      <td>0</td>\n      <td>0</td>\n      <td>0</td>\n      <td>0</td>\n      <td>0</td>\n      <td>0</td>\n      <td>0</td>\n    </tr>\n    <tr>\n      <th>214375</th>\n      <td>214375</td>\n      <td>44959717654529</td>\n      <td>206321</td>\n      <td>2012-02-03 17:08:39</td>\n      <td>2000</td>\n      <td>A_PARTLYSUBMITTED</td>\n      <td>COMPLETE</td>\n      <td>2012-02-03 17:08:39.459</td>\n      <td>0 days 00:00:00.459000</td>\n      <td>4</td>\n      <td>...</td>\n      <td>0</td>\n      <td>0</td>\n      <td>0</td>\n      <td>0</td>\n      <td>0</td>\n      <td>0</td>\n      <td>0</td>\n      <td>0</td>\n      <td>0</td>\n      <td>0</td>\n    </tr>\n    <tr>\n      <th>214376</th>\n      <td>214376</td>\n      <td>44959717654530</td>\n      <td>206321</td>\n      <td>2012-02-03 17:08:39</td>\n      <td>2000</td>\n      <td>A_DECLINED</td>\n      <td>COMPLETE</td>\n      <td>2012-02-03 17:09:19.112</td>\n      <td>0 days 00:00:40.112000</td>\n      <td>4</td>\n      <td>...</td>\n      <td>0</td>\n      <td>0</td>\n      <td>0</td>\n      <td>0</td>\n      <td>0</td>\n      <td>0</td>\n      <td>0</td>\n      <td>0</td>\n      <td>0</td>\n      <td>1</td>\n    </tr>\n  </tbody>\n</table>\n<p>214377 rows × 44 columns</p>\n</div>"
     },
     "execution_count": 212,
     "metadata": {},
     "output_type": "execute_result"
    }
   ],
   "source": [
    "df"
   ],
   "metadata": {
    "collapsed": false,
    "pycharm": {
     "name": "#%%\n"
    }
   }
  },
  {
   "cell_type": "code",
   "execution_count": 213,
   "outputs": [],
   "source": [
    "df_reg = df.copy()"
   ],
   "metadata": {
    "collapsed": false,
    "pycharm": {
     "name": "#%%\n"
    }
   }
  },
  {
   "cell_type": "code",
   "execution_count": 215,
   "outputs": [],
   "source": [
    "mask_nan = df_reg['last_event']==0\n",
    "df_reg = df_reg[mask_nan].copy()"
   ],
   "metadata": {
    "collapsed": false,
    "pycharm": {
     "name": "#%%\n"
    }
   }
  },
  {
   "cell_type": "code",
   "execution_count": 57,
   "outputs": [],
   "source": [
    "def prep_data(df):\n",
    "    # definitions\n",
    "    case_column = \"case concept:name\"\n",
    "    registration_time_column = \"case REG_DATE\"\n",
    "    event_column = \"event concept:name\"\n",
    "    timestamp_column = \"event time:timestamp\"\n",
    "    position_column = \"position\"\n",
    "    baseline_next_event_column = \"Baseline Prediction for Next Activity\"\n",
    "    pos_event_next_event_column = \"Position&Event Prediction for Next Activity\"\n",
    "    baseline_next_timestamp_column = \"Baseline Prediction for Next Timestamp\"\n",
    "    pos_event_next_timestamp_column = \"Position&Event Prediction for Next Timestamp\"\n",
    "    time_since_registration_column = \"Time Since Registration\"\n",
    "    day_of_week_column = \"day_of_week\"\n",
    "    month_of_year_column = \"month_of_year\"\n",
    "    offer_sent = 'offer_sent_already' # the name a of a sent offer state within event_column\n",
    "    timeformat_registration = \"%Y-%m-%dT%H:%M:%S\" # new time format\n",
    "    timeformat_timestamp = \"%d-%m-%Y %H:%M:%S.%f\"\n",
    "    predicted_shift_column = 'Predicted event from baseline'\n",
    "    start_time = timeit.default_timer()\n",
    "\n",
    "    #make timestamps\n",
    "    df[registration_time_column] = [re.sub('\\..*|\\+.*', '', a, flags=re.DOTALL) for a in df[registration_time_column]]\n",
    "    df[registration_time_column] = [datetime.strptime(date, timeformat_registration) for date in df[registration_time_column]]\n",
    "    df[timestamp_column] = [datetime.strptime(date, timeformat_timestamp) for date in df[timestamp_column]]\n",
    "\n",
    "    #sort and order dataframe\n",
    "    df = df.sort_values(by=[case_column, timestamp_column])\n",
    "    df.reset_index(inplace=True, drop=True)\n",
    "    df.reset_index(inplace=True)\n",
    "\n",
    "    # add time related columns\n",
    "    df[time_since_registration_column] = df[timestamp_column] - df[registration_time_column] # Adding time since registration\n",
    "    df[day_of_week_column] = df[timestamp_column].dt.dayofweek\n",
    "    df[month_of_year_column] = df[timestamp_column].dt.month\n",
    "    minutes_since_reg= 'minutes_since_reg'\n",
    "    df[minutes_since_reg]=[((i.total_seconds()+0.000001)/60) for i in df[time_since_registration_column]]\n",
    "    hour = 'hour'\n",
    "    df[hour]  = [i.hour for i in df[timestamp_column]]\n",
    "\n",
    "    '''df[offer_sent] = 0\n",
    "    offer_sent_mask = df[event_column] == offer_sent\n",
    "    case_check = df[offer_sent_mask][[case_column,timestamp_column]].copy().reset_index(drop=True)\n",
    "    for i in range(len(case_check)):\n",
    "        case_name = case_check.iloc[i,0]\n",
    "        case_time = case_check.iloc[i,1]\n",
    "        mask = (df[case_column]==case_name)&(df[timestamp_column]>=case_time)\n",
    "        df.loc[mask, offer_sent] = 1'''\n",
    "\n",
    "    # add position column\n",
    "    df[position_column] = df.groupby([case_column]).cumcount()+1\n",
    "\n",
    "    # add time until next event column\n",
    "    shifted_deltatimes_list = df[timestamp_column].diff().shift(periods=-1)\n",
    "    shifted_deltatimes = 'shifted_deltatimes'\n",
    "    df[shifted_deltatimes] = [(i.total_seconds()) for i in shifted_deltatimes_list]\n",
    "    mask1  = (df[shifted_deltatimes]<0.001)\n",
    "    mask2 = (df[shifted_deltatimes]<0)\n",
    "    df.loc[mask1, shifted_deltatimes]=0.001\n",
    "    df.loc[mask2, shifted_deltatimes]=np.nan\n",
    "\n",
    "    # add previous event and previous lifecycle column\n",
    "    df['previous_event']=0\n",
    "    df['previous_lifecycle']=0\n",
    "    all_ids = list(df[case_column].unique())\n",
    "\n",
    "    for ids in all_ids:\n",
    "        df2 = df[df[case_column]==ids].copy()\n",
    "        df.loc[df[case_column]==ids, 'previous_event']= df2[event_column].shift(periods=1)\n",
    "        df.loc[df[case_column]==ids, 'previous_lifecycle']= df2['event lifecycle:transition'].shift(periods=1)\n",
    "    df.loc[df['previous_event'].isnull(), 'previous_event']='START'\n",
    "    df.loc[df['previous_lifecycle'].isnull(), 'previous_lifecycle']='START'\n",
    "\n",
    "    # add binary columns of what events already happened in a case\n",
    "    all_events = list(df['previous_event'].unique())\n",
    "    for event in all_events:\n",
    "        df[event] = 0\n",
    "    df['last_event'] = 0\n",
    "    a=0\n",
    "    for ids in all_ids:\n",
    "        index_case = df[df[case_column]==ids]['index'].max()\n",
    "        df.loc[index_case,'last_event']=1\n",
    "        for i in range(a,index_case+1):\n",
    "            mask = ((df[case_column]==ids)& (df['index']>=i))\n",
    "            prev_event = df.loc[mask,'previous_event'].reset_index(drop=True)[0]\n",
    "            df.loc[mask, prev_event]=1\n",
    "        a = index_case+1\n",
    "\n",
    "    # print time and add log column of time until next event\n",
    "    print((timeit.default_timer() - start_time)/60)\n",
    "    df['log_y'] = np.log(df['shifted_deltatimes'])\n",
    "    return df\n",
    "\n",
    "def prep_data_reg(df):\n",
    "    df_prep = prep_data(df)\n",
    "    mask_nan = df_prep['last_event']==0\n",
    "    df_reg = df_prep[mask_nan].copy()\n",
    "    return df_reg\n",
    "\n",
    "def MAPE(Y_actual,Y_Predicted):\n",
    "    mape = np.mean(np.abs((Y_actual - Y_Predicted)/Y_actual))*100\n",
    "    return mape\n",
    "\n",
    "def MAE(Y_actual,Y_Predicted):\n",
    "    mae = np.mean(np.abs((Y_actual - Y_Predicted)))\n",
    "    return mae"
   ],
   "metadata": {
    "collapsed": false,
    "pycharm": {
     "name": "#%%\n"
    }
   }
  },
  {
   "cell_type": "code",
   "execution_count": 58,
   "outputs": [],
   "source": [
    "df = pd.read_csv('data/BPI_Challenge_2012-training.csv')\n",
    "df_t = pd.read_csv('data/BPI_Challenge_2012-test.csv')"
   ],
   "metadata": {
    "collapsed": false,
    "pycharm": {
     "name": "#%%\n"
    }
   }
  },
  {
   "cell_type": "code",
   "execution_count": 59,
   "outputs": [
    {
     "name": "stdout",
     "output_type": "stream",
     "text": [
      "13.128087163333324\n",
      "1.1282564616666604\n"
     ]
    }
   ],
   "source": [
    "df_train = prep_data_reg(df)\n",
    "df_test = prep_data_reg(df_t)"
   ],
   "metadata": {
    "collapsed": false,
    "pycharm": {
     "name": "#%%\n"
    }
   }
  },
  {
   "cell_type": "code",
   "execution_count": 27,
   "outputs": [],
   "source": [],
   "metadata": {
    "collapsed": false,
    "pycharm": {
     "name": "#%%\n"
    }
   }
  },
  {
   "cell_type": "code",
   "execution_count": 34,
   "outputs": [],
   "source": [],
   "metadata": {
    "collapsed": false,
    "pycharm": {
     "name": "#%%\n"
    }
   }
  },
  {
   "cell_type": "code",
   "execution_count": 36,
   "outputs": [
    {
     "data": {
      "text/plain": "       index        eventID   case concept:name       case REG_DATE  \\\n0          0  44964012621824             206324 2012-02-03 17:17:11   \n1          1  44964012621825             206324 2012-02-03 17:17:11   \n3          3  44968307589120             206327 2012-02-03 17:23:41   \n4          4  44968307589121             206327 2012-02-03 17:23:41   \n5          5  44968307589122             206327 2012-02-03 17:23:41   \n...      ...             ...                ...                 ...   \n47817  47817  56203942035456             214376 2012-02-29 23:51:16   \n47818  47818  56203942035457             214376 2012-02-29 23:51:16   \n47819  47819  56203942035458             214376 2012-02-29 23:51:16   \n47820  47820  56203942035459             214376 2012-02-29 23:51:16   \n47821  47821  56203942035460             214376 2012-02-29 23:51:16   \n\n       case AMOUNT_REQ  event concept:name event lifecycle:transition  \\\n0                 2500         A_SUBMITTED                   COMPLETE   \n1                 2500   A_PARTLYSUBMITTED                   COMPLETE   \n3                 6000         A_SUBMITTED                   COMPLETE   \n4                 6000   A_PARTLYSUBMITTED                   COMPLETE   \n5                 6000       A_PREACCEPTED                   COMPLETE   \n...                ...                 ...                        ...   \n47817            15000         A_SUBMITTED                   COMPLETE   \n47818            15000   A_PARTLYSUBMITTED                   COMPLETE   \n47819            15000  W_Afhandelen leads                   SCHEDULE   \n47820            15000  W_Afhandelen leads                      START   \n47821            15000          A_DECLINED                   COMPLETE   \n\n         event time:timestamp Time Since Registration  day_of_week  ...  \\\n0     2012-02-03 17:17:11.047  0 days 00:00:00.047000            4  ...   \n1     2012-02-03 17:17:11.323  0 days 00:00:00.323000            4  ...   \n3     2012-02-03 17:23:41.949  0 days 00:00:00.949000            4  ...   \n4     2012-02-03 17:23:42.504  0 days 00:00:01.504000            4  ...   \n5     2012-02-03 17:24:23.379  0 days 00:00:42.379000            4  ...   \n...                       ...                     ...          ...  ...   \n47817 2012-02-29 23:51:16.799  0 days 00:00:00.799000            2  ...   \n47818 2012-02-29 23:51:17.423  0 days 00:00:01.423000            2  ...   \n47819 2012-02-29 23:52:01.287  0 days 00:00:45.287000            2  ...   \n47820 2012-03-01 09:26:46.736  0 days 09:35:30.736000            3  ...   \n47821 2012-03-01 09:27:37.118  0 days 09:36:21.118000            3  ...   \n\n       W_Valideren aanvraag  O_ACCEPTED  A_APPROVED  A_REGISTERED  \\\n0                         0           0           0             0   \n1                         0           0           0             0   \n3                         0           0           0             0   \n4                         0           0           0             0   \n5                         0           0           0             0   \n...                     ...         ...         ...           ...   \n47817                     0           0           0             0   \n47818                     0           0           0             0   \n47819                     0           0           0             0   \n47820                     0           0           0             0   \n47821                     0           0           0             0   \n\n       A_ACTIVATED  O_DECLINED W_Nabellen incomplete dossiers  \\\n0                0           0                              0   \n1                0           0                              0   \n3                0           0                              0   \n4                0           0                              0   \n5                0           0                              0   \n...            ...         ...                            ...   \n47817            0           0                              0   \n47818            0           0                              0   \n47819            0           0                              0   \n47820            0           0                              0   \n47821            0           0                              0   \n\n      W_Beoordelen fraude  last_event      log_y  \n0                       0           0  -1.287354  \n1                       0           0   3.454454  \n3                       0           0  -0.588787  \n4                       0           0   3.710519  \n5                       0           0  -0.396010  \n...                   ...         ...        ...  \n47817                   0           0  -0.471605  \n47818                   0           0   3.781094  \n47819                   0           0  10.448293  \n47820                   0           0   3.919634  \n47821                   0           0   1.436750  \n\n[45205 rows x 44 columns]",
      "text/html": "<div>\n<style scoped>\n    .dataframe tbody tr th:only-of-type {\n        vertical-align: middle;\n    }\n\n    .dataframe tbody tr th {\n        vertical-align: top;\n    }\n\n    .dataframe thead th {\n        text-align: right;\n    }\n</style>\n<table border=\"1\" class=\"dataframe\">\n  <thead>\n    <tr style=\"text-align: right;\">\n      <th></th>\n      <th>index</th>\n      <th>eventID</th>\n      <th>case concept:name</th>\n      <th>case REG_DATE</th>\n      <th>case AMOUNT_REQ</th>\n      <th>event concept:name</th>\n      <th>event lifecycle:transition</th>\n      <th>event time:timestamp</th>\n      <th>Time Since Registration</th>\n      <th>day_of_week</th>\n      <th>...</th>\n      <th>W_Valideren aanvraag</th>\n      <th>O_ACCEPTED</th>\n      <th>A_APPROVED</th>\n      <th>A_REGISTERED</th>\n      <th>A_ACTIVATED</th>\n      <th>O_DECLINED</th>\n      <th>W_Nabellen incomplete dossiers</th>\n      <th>W_Beoordelen fraude</th>\n      <th>last_event</th>\n      <th>log_y</th>\n    </tr>\n  </thead>\n  <tbody>\n    <tr>\n      <th>0</th>\n      <td>0</td>\n      <td>44964012621824</td>\n      <td>206324</td>\n      <td>2012-02-03 17:17:11</td>\n      <td>2500</td>\n      <td>A_SUBMITTED</td>\n      <td>COMPLETE</td>\n      <td>2012-02-03 17:17:11.047</td>\n      <td>0 days 00:00:00.047000</td>\n      <td>4</td>\n      <td>...</td>\n      <td>0</td>\n      <td>0</td>\n      <td>0</td>\n      <td>0</td>\n      <td>0</td>\n      <td>0</td>\n      <td>0</td>\n      <td>0</td>\n      <td>0</td>\n      <td>-1.287354</td>\n    </tr>\n    <tr>\n      <th>1</th>\n      <td>1</td>\n      <td>44964012621825</td>\n      <td>206324</td>\n      <td>2012-02-03 17:17:11</td>\n      <td>2500</td>\n      <td>A_PARTLYSUBMITTED</td>\n      <td>COMPLETE</td>\n      <td>2012-02-03 17:17:11.323</td>\n      <td>0 days 00:00:00.323000</td>\n      <td>4</td>\n      <td>...</td>\n      <td>0</td>\n      <td>0</td>\n      <td>0</td>\n      <td>0</td>\n      <td>0</td>\n      <td>0</td>\n      <td>0</td>\n      <td>0</td>\n      <td>0</td>\n      <td>3.454454</td>\n    </tr>\n    <tr>\n      <th>3</th>\n      <td>3</td>\n      <td>44968307589120</td>\n      <td>206327</td>\n      <td>2012-02-03 17:23:41</td>\n      <td>6000</td>\n      <td>A_SUBMITTED</td>\n      <td>COMPLETE</td>\n      <td>2012-02-03 17:23:41.949</td>\n      <td>0 days 00:00:00.949000</td>\n      <td>4</td>\n      <td>...</td>\n      <td>0</td>\n      <td>0</td>\n      <td>0</td>\n      <td>0</td>\n      <td>0</td>\n      <td>0</td>\n      <td>0</td>\n      <td>0</td>\n      <td>0</td>\n      <td>-0.588787</td>\n    </tr>\n    <tr>\n      <th>4</th>\n      <td>4</td>\n      <td>44968307589121</td>\n      <td>206327</td>\n      <td>2012-02-03 17:23:41</td>\n      <td>6000</td>\n      <td>A_PARTLYSUBMITTED</td>\n      <td>COMPLETE</td>\n      <td>2012-02-03 17:23:42.504</td>\n      <td>0 days 00:00:01.504000</td>\n      <td>4</td>\n      <td>...</td>\n      <td>0</td>\n      <td>0</td>\n      <td>0</td>\n      <td>0</td>\n      <td>0</td>\n      <td>0</td>\n      <td>0</td>\n      <td>0</td>\n      <td>0</td>\n      <td>3.710519</td>\n    </tr>\n    <tr>\n      <th>5</th>\n      <td>5</td>\n      <td>44968307589122</td>\n      <td>206327</td>\n      <td>2012-02-03 17:23:41</td>\n      <td>6000</td>\n      <td>A_PREACCEPTED</td>\n      <td>COMPLETE</td>\n      <td>2012-02-03 17:24:23.379</td>\n      <td>0 days 00:00:42.379000</td>\n      <td>4</td>\n      <td>...</td>\n      <td>0</td>\n      <td>0</td>\n      <td>0</td>\n      <td>0</td>\n      <td>0</td>\n      <td>0</td>\n      <td>0</td>\n      <td>0</td>\n      <td>0</td>\n      <td>-0.396010</td>\n    </tr>\n    <tr>\n      <th>...</th>\n      <td>...</td>\n      <td>...</td>\n      <td>...</td>\n      <td>...</td>\n      <td>...</td>\n      <td>...</td>\n      <td>...</td>\n      <td>...</td>\n      <td>...</td>\n      <td>...</td>\n      <td>...</td>\n      <td>...</td>\n      <td>...</td>\n      <td>...</td>\n      <td>...</td>\n      <td>...</td>\n      <td>...</td>\n      <td>...</td>\n      <td>...</td>\n      <td>...</td>\n      <td>...</td>\n    </tr>\n    <tr>\n      <th>47817</th>\n      <td>47817</td>\n      <td>56203942035456</td>\n      <td>214376</td>\n      <td>2012-02-29 23:51:16</td>\n      <td>15000</td>\n      <td>A_SUBMITTED</td>\n      <td>COMPLETE</td>\n      <td>2012-02-29 23:51:16.799</td>\n      <td>0 days 00:00:00.799000</td>\n      <td>2</td>\n      <td>...</td>\n      <td>0</td>\n      <td>0</td>\n      <td>0</td>\n      <td>0</td>\n      <td>0</td>\n      <td>0</td>\n      <td>0</td>\n      <td>0</td>\n      <td>0</td>\n      <td>-0.471605</td>\n    </tr>\n    <tr>\n      <th>47818</th>\n      <td>47818</td>\n      <td>56203942035457</td>\n      <td>214376</td>\n      <td>2012-02-29 23:51:16</td>\n      <td>15000</td>\n      <td>A_PARTLYSUBMITTED</td>\n      <td>COMPLETE</td>\n      <td>2012-02-29 23:51:17.423</td>\n      <td>0 days 00:00:01.423000</td>\n      <td>2</td>\n      <td>...</td>\n      <td>0</td>\n      <td>0</td>\n      <td>0</td>\n      <td>0</td>\n      <td>0</td>\n      <td>0</td>\n      <td>0</td>\n      <td>0</td>\n      <td>0</td>\n      <td>3.781094</td>\n    </tr>\n    <tr>\n      <th>47819</th>\n      <td>47819</td>\n      <td>56203942035458</td>\n      <td>214376</td>\n      <td>2012-02-29 23:51:16</td>\n      <td>15000</td>\n      <td>W_Afhandelen leads</td>\n      <td>SCHEDULE</td>\n      <td>2012-02-29 23:52:01.287</td>\n      <td>0 days 00:00:45.287000</td>\n      <td>2</td>\n      <td>...</td>\n      <td>0</td>\n      <td>0</td>\n      <td>0</td>\n      <td>0</td>\n      <td>0</td>\n      <td>0</td>\n      <td>0</td>\n      <td>0</td>\n      <td>0</td>\n      <td>10.448293</td>\n    </tr>\n    <tr>\n      <th>47820</th>\n      <td>47820</td>\n      <td>56203942035459</td>\n      <td>214376</td>\n      <td>2012-02-29 23:51:16</td>\n      <td>15000</td>\n      <td>W_Afhandelen leads</td>\n      <td>START</td>\n      <td>2012-03-01 09:26:46.736</td>\n      <td>0 days 09:35:30.736000</td>\n      <td>3</td>\n      <td>...</td>\n      <td>0</td>\n      <td>0</td>\n      <td>0</td>\n      <td>0</td>\n      <td>0</td>\n      <td>0</td>\n      <td>0</td>\n      <td>0</td>\n      <td>0</td>\n      <td>3.919634</td>\n    </tr>\n    <tr>\n      <th>47821</th>\n      <td>47821</td>\n      <td>56203942035460</td>\n      <td>214376</td>\n      <td>2012-02-29 23:51:16</td>\n      <td>15000</td>\n      <td>A_DECLINED</td>\n      <td>COMPLETE</td>\n      <td>2012-03-01 09:27:37.118</td>\n      <td>0 days 09:36:21.118000</td>\n      <td>3</td>\n      <td>...</td>\n      <td>0</td>\n      <td>0</td>\n      <td>0</td>\n      <td>0</td>\n      <td>0</td>\n      <td>0</td>\n      <td>0</td>\n      <td>0</td>\n      <td>0</td>\n      <td>1.436750</td>\n    </tr>\n  </tbody>\n</table>\n<p>45205 rows × 44 columns</p>\n</div>"
     },
     "execution_count": 36,
     "metadata": {},
     "output_type": "execute_result"
    }
   ],
   "source": [],
   "metadata": {
    "collapsed": false,
    "pycharm": {
     "name": "#%%\n"
    }
   }
  },
  {
   "cell_type": "code",
   "execution_count": 60,
   "outputs": [
    {
     "name": "stdout",
     "output_type": "stream",
     "text": [
      "Alpha: 0.0\n",
      "MAPE: 511745.1158522866\n",
      "MAE: 9.531905645772383 hours\n",
      "R2: 0.33949739994279193\n"
     ]
    }
   ],
   "source": [
    "X = df_train[['day_of_week', 'hour', 'month_of_year','position','minutes_since_reg', 'case AMOUNT_REQ', 'START', 'A_SUBMITTED', 'A_PARTLYSUBMITTED', 'A_PREACCEPTED', 'W_Completeren aanvraag', 'A_DECLINED', 'A_ACCEPTED', 'A_FINALIZED', 'O_SELECTED', 'O_CREATED', 'O_SENT', 'W_Nabellen offertes', 'O_CANCELLED', 'W_Afhandelen leads', 'A_CANCELLED', 'O_SENT_BACK', 'W_Valideren aanvraag', 'O_ACCEPTED', 'A_APPROVED', 'A_REGISTERED', 'A_ACTIVATED', 'O_DECLINED', 'W_Nabellen incomplete dossiers', 'W_Beoordelen fraude']]\n",
    "y = df_train['log_y']\n",
    "\n",
    "cv = RepeatedKFold(n_splits=10, n_repeats=3, random_state=1)\n",
    "\n",
    "model = RidgeCV(alphas=arange(0, 1, 0.01), cv=cv, scoring='neg_mean_absolute_error')\n",
    "\n",
    "model.fit(X, y)\n",
    "\n",
    "print(f'Alpha: {model.alpha_}')\n",
    "\n",
    "X_test = df_test[['day_of_week', 'hour', 'month_of_year','position','minutes_since_reg', 'case AMOUNT_REQ', 'START', 'A_SUBMITTED', 'A_PARTLYSUBMITTED', 'A_PREACCEPTED', 'W_Completeren aanvraag', 'A_DECLINED', 'A_ACCEPTED', 'A_FINALIZED', 'O_SELECTED', 'O_CREATED', 'O_SENT', 'W_Nabellen offertes', 'O_CANCELLED', 'W_Afhandelen leads', 'A_CANCELLED', 'O_SENT_BACK', 'W_Valideren aanvraag', 'O_ACCEPTED', 'A_APPROVED', 'A_REGISTERED', 'A_ACTIVATED', 'O_DECLINED', 'W_Nabellen incomplete dossiers', 'W_Beoordelen fraude']]\n",
    "Y_test = df_test['shifted_deltatimes']\n",
    "ridge_predict = np.exp(model.predict(X_test))\n",
    "ridge_MAPE = MAPE(Y_test,ridge_predict)\n",
    "ridge_MAE = MAE(Y_test,ridge_predict)\n",
    "r2 = model.score(X_test,df_test['log_y'])\n",
    "print(f'MAPE: {ridge_MAPE}')\n",
    "print(f'MAE: {ridge_MAE/3600} hours')\n",
    "print(f'R2: {r2}')"
   ],
   "metadata": {
    "collapsed": false,
    "pycharm": {
     "name": "#%%\n"
    }
   }
  },
  {
   "cell_type": "code",
   "execution_count": 32,
   "outputs": [
    {
     "data": {
      "text/plain": "array([ 3.00222933e+03,  1.52395234e+03, -5.17032126e+02,  1.12166025e+03,\n       -9.68733787e-01, -6.74174558e-02,  0.00000000e+00, -1.08622676e+03,\n        8.92583015e+03,  6.65769665e+03,  1.78508300e+04, -5.03832073e+04,\n       -3.60168820e+04, -2.49832007e+03, -2.47479019e+03, -6.76265977e+02,\n       -9.95758273e+02,  1.16587848e+05, -2.72583520e+04, -6.51639002e+03,\n       -9.48356534e+04, -1.00267332e+05,  5.09112402e+04, -2.45518943e+04,\n       -1.44746797e+04, -6.79883379e+03, -6.58249324e+03, -4.92650048e+04,\n       -4.48670972e+04, -5.60597345e+03])"
     },
     "execution_count": 32,
     "metadata": {},
     "output_type": "execute_result"
    }
   ],
   "source": [
    "model.coef_"
   ],
   "metadata": {
    "collapsed": false,
    "pycharm": {
     "name": "#%%\n"
    }
   }
  },
  {
   "cell_type": "code",
   "execution_count": 37,
   "outputs": [
    {
     "name": "stdout",
     "output_type": "stream",
     "text": [
      "MAPE: 511745.1158522866\n",
      "MAE: 34314.86032478058\n"
     ]
    }
   ],
   "source": [
    "Y_test2 = df_test['shifted_deltatimes']\n",
    "ridge_predict2 = np.exp(model.predict(X_test))\n",
    "ridge_MAPE2 = MAPE(Y_test2,ridge_predict2)\n",
    "ridge_MAE2 = MAE(Y_test2,ridge_predict2)\n",
    "print(f'MAPE: {ridge_MAPE2}')\n",
    "print(f'MAE: {ridge_MAE2}')"
   ],
   "metadata": {
    "collapsed": false,
    "pycharm": {
     "name": "#%%\n"
    }
   }
  },
  {
   "cell_type": "code",
   "execution_count": 52,
   "outputs": [
    {
     "name": "stdout",
     "output_type": "stream",
     "text": [
      "18366516961.876656\n",
      "-0.06737323207863244\n",
      "34314.860324780726\n",
      "5117.451158522869\n"
     ]
    }
   ],
   "source": [
    "print(mean_squared_error(Y_test2,ridge_predict2))\n",
    "print(r2_score(Y_test2,ridge_predict2))\n",
    "print(mean_absolute_error(Y_test2,ridge_predict2))\n",
    "print(mean_absolute_percentage_error(Y_test2,ridge_predict2))\n"
   ],
   "metadata": {
    "collapsed": false,
    "pycharm": {
     "name": "#%%\n"
    }
   }
  },
  {
   "cell_type": "code",
   "execution_count": 54,
   "outputs": [
    {
     "data": {
      "text/plain": "0.33949739994279193"
     },
     "execution_count": 54,
     "metadata": {},
     "output_type": "execute_result"
    }
   ],
   "source": [
    "model.score(X_test,df_test['log_y'])"
   ],
   "metadata": {
    "collapsed": false,
    "pycharm": {
     "name": "#%%\n"
    }
   }
  }
 ],
 "metadata": {
  "kernelspec": {
   "display_name": "Python 3",
   "language": "python",
   "name": "python3"
  },
  "language_info": {
   "codemirror_mode": {
    "name": "ipython",
    "version": 2
   },
   "file_extension": ".py",
   "mimetype": "text/x-python",
   "name": "python",
   "nbconvert_exporter": "python",
   "pygments_lexer": "ipython2",
   "version": "2.7.6"
  }
 },
 "nbformat": 4,
 "nbformat_minor": 0
}