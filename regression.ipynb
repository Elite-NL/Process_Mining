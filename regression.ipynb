{
 "cells": [
  {
   "cell_type": "code",
   "execution_count": 104,
   "metadata": {
    "collapsed": true
   },
   "outputs": [],
   "source": [
    "# imports\n",
    "import pandas as pd\n",
    "import statistics\n",
    "import numpy as np\n",
    "from datetime import datetime\n",
    "import re\n",
    "from numpy import arange\n",
    "from sklearn.linear_model import Ridge\n",
    "from sklearn.linear_model import RidgeCV\n",
    "from sklearn.model_selection import RepeatedKFold\n",
    "from sklearn.metrics import accuracy_score"
   ]
  },
  {
   "cell_type": "code",
   "execution_count": 76,
   "outputs": [
    {
     "data": {
      "text/plain": "     eventID   case concept:name                  case REG_DATE  \\\n0           0             173688  2011-10-01T00:38:44.546+02:00   \n1           1             173688  2011-10-01T00:38:44.546+02:00   \n2           2             173688  2011-10-01T00:38:44.546+02:00   \n3           3             173688  2011-10-01T00:38:44.546+02:00   \n4  4294967296             173691  2011-10-01T08:08:58.256+02:00   \n5  4294967297             173691  2011-10-01T08:08:58.256+02:00   \n6  4294967298             173691  2011-10-01T08:08:58.256+02:00   \n7  4294967299             173691  2011-10-01T08:08:58.256+02:00   \n8  8589934592             173694  2011-10-01T08:10:30.287+02:00   \n9  8589934593             173694  2011-10-01T08:10:30.287+02:00   \n\n   case AMOUNT_REQ      event concept:name event lifecycle:transition  \\\n0            20000             A_SUBMITTED                   COMPLETE   \n1            20000       A_PARTLYSUBMITTED                   COMPLETE   \n2            20000           A_PREACCEPTED                   COMPLETE   \n3            20000  W_Completeren aanvraag                   SCHEDULE   \n4             5000             A_SUBMITTED                   COMPLETE   \n5             5000       A_PARTLYSUBMITTED                   COMPLETE   \n6             5000           A_PREACCEPTED                   COMPLETE   \n7             5000  W_Completeren aanvraag                   SCHEDULE   \n8             7000             A_SUBMITTED                   COMPLETE   \n9             7000       A_PARTLYSUBMITTED                   COMPLETE   \n\n      event time:timestamp  \n0  01-10-2011 00:38:44.546  \n1  01-10-2011 00:38:44.880  \n2  01-10-2011 00:39:37.906  \n3  01-10-2011 00:39:38.875  \n4  01-10-2011 08:08:58.256  \n5  01-10-2011 08:09:02.195  \n6  01-10-2011 08:09:56.648  \n7  01-10-2011 08:09:59.578  \n8  01-10-2011 08:10:30.287  \n9  01-10-2011 08:10:30.591  ",
      "text/html": "<div>\n<style scoped>\n    .dataframe tbody tr th:only-of-type {\n        vertical-align: middle;\n    }\n\n    .dataframe tbody tr th {\n        vertical-align: top;\n    }\n\n    .dataframe thead th {\n        text-align: right;\n    }\n</style>\n<table border=\"1\" class=\"dataframe\">\n  <thead>\n    <tr style=\"text-align: right;\">\n      <th></th>\n      <th>eventID</th>\n      <th>case concept:name</th>\n      <th>case REG_DATE</th>\n      <th>case AMOUNT_REQ</th>\n      <th>event concept:name</th>\n      <th>event lifecycle:transition</th>\n      <th>event time:timestamp</th>\n    </tr>\n  </thead>\n  <tbody>\n    <tr>\n      <th>0</th>\n      <td>0</td>\n      <td>173688</td>\n      <td>2011-10-01T00:38:44.546+02:00</td>\n      <td>20000</td>\n      <td>A_SUBMITTED</td>\n      <td>COMPLETE</td>\n      <td>01-10-2011 00:38:44.546</td>\n    </tr>\n    <tr>\n      <th>1</th>\n      <td>1</td>\n      <td>173688</td>\n      <td>2011-10-01T00:38:44.546+02:00</td>\n      <td>20000</td>\n      <td>A_PARTLYSUBMITTED</td>\n      <td>COMPLETE</td>\n      <td>01-10-2011 00:38:44.880</td>\n    </tr>\n    <tr>\n      <th>2</th>\n      <td>2</td>\n      <td>173688</td>\n      <td>2011-10-01T00:38:44.546+02:00</td>\n      <td>20000</td>\n      <td>A_PREACCEPTED</td>\n      <td>COMPLETE</td>\n      <td>01-10-2011 00:39:37.906</td>\n    </tr>\n    <tr>\n      <th>3</th>\n      <td>3</td>\n      <td>173688</td>\n      <td>2011-10-01T00:38:44.546+02:00</td>\n      <td>20000</td>\n      <td>W_Completeren aanvraag</td>\n      <td>SCHEDULE</td>\n      <td>01-10-2011 00:39:38.875</td>\n    </tr>\n    <tr>\n      <th>4</th>\n      <td>4294967296</td>\n      <td>173691</td>\n      <td>2011-10-01T08:08:58.256+02:00</td>\n      <td>5000</td>\n      <td>A_SUBMITTED</td>\n      <td>COMPLETE</td>\n      <td>01-10-2011 08:08:58.256</td>\n    </tr>\n    <tr>\n      <th>5</th>\n      <td>4294967297</td>\n      <td>173691</td>\n      <td>2011-10-01T08:08:58.256+02:00</td>\n      <td>5000</td>\n      <td>A_PARTLYSUBMITTED</td>\n      <td>COMPLETE</td>\n      <td>01-10-2011 08:09:02.195</td>\n    </tr>\n    <tr>\n      <th>6</th>\n      <td>4294967298</td>\n      <td>173691</td>\n      <td>2011-10-01T08:08:58.256+02:00</td>\n      <td>5000</td>\n      <td>A_PREACCEPTED</td>\n      <td>COMPLETE</td>\n      <td>01-10-2011 08:09:56.648</td>\n    </tr>\n    <tr>\n      <th>7</th>\n      <td>4294967299</td>\n      <td>173691</td>\n      <td>2011-10-01T08:08:58.256+02:00</td>\n      <td>5000</td>\n      <td>W_Completeren aanvraag</td>\n      <td>SCHEDULE</td>\n      <td>01-10-2011 08:09:59.578</td>\n    </tr>\n    <tr>\n      <th>8</th>\n      <td>8589934592</td>\n      <td>173694</td>\n      <td>2011-10-01T08:10:30.287+02:00</td>\n      <td>7000</td>\n      <td>A_SUBMITTED</td>\n      <td>COMPLETE</td>\n      <td>01-10-2011 08:10:30.287</td>\n    </tr>\n    <tr>\n      <th>9</th>\n      <td>8589934593</td>\n      <td>173694</td>\n      <td>2011-10-01T08:10:30.287+02:00</td>\n      <td>7000</td>\n      <td>A_PARTLYSUBMITTED</td>\n      <td>COMPLETE</td>\n      <td>01-10-2011 08:10:30.591</td>\n    </tr>\n  </tbody>\n</table>\n</div>"
     },
     "execution_count": 76,
     "metadata": {},
     "output_type": "execute_result"
    }
   ],
   "source": [
    "# read the data (2012)\n",
    "df = pd.read_csv('data/BPI_Challenge_2012-training.csv')\n",
    "\n",
    "df_test = pd.read_csv('data/BPI_Challenge_2012-test.csv')\n",
    "\n",
    "# Defining database-specific variables\n",
    "case_column = \"case concept:name\"\n",
    "registration_time_column = \"case REG_DATE\"\n",
    "event_column = \"event concept:name\"\n",
    "timestamp_column = \"event time:timestamp\"\n",
    "position_column = \"Position\"\n",
    "baseline_next_event_column = \"Baseline Prediction for Next Activity\"\n",
    "pos_event_next_event_column = \"Position&Event Prediction for Next Activity\"\n",
    "baseline_next_timestamp_column = \"Baseline Prediction for Next Timestamp\"\n",
    "pos_event_next_timestamp_column = \"Position&Event Prediction for Next Timestamp\"\n",
    "time_since_registration_column = \"Time Since Registration\"\n",
    "day_of_week_column = \"day_of_week\"\n",
    "month_of_year_column = \"month_of_year\"\n",
    "offer_sent = 'O_SENT' # the name a of a sent offer state within event_column\n",
    "timeformat_registration = \"%Y-%m-%dT%H:%M:%S\" # new time format\n",
    "timeformat_timestamp = \"%d-%m-%Y %H:%M:%S.%f\"\n",
    "predicted_shift_column = 'Predicted event from baseline'\n",
    "\n",
    "df.head(10)"
   ],
   "metadata": {
    "collapsed": false,
    "pycharm": {
     "name": "#%%\n"
    }
   }
  },
  {
   "cell_type": "code",
   "execution_count": 77,
   "outputs": [
    {
     "name": "stdout",
     "output_type": "stream",
     "text": [
      "<class 'pandas.core.frame.DataFrame'>\n",
      "RangeIndex: 214377 entries, 0 to 214376\n",
      "Data columns (total 7 columns):\n",
      " #   Column                      Non-Null Count   Dtype         \n",
      "---  ------                      --------------   -----         \n",
      " 0   eventID                     214377 non-null  int64         \n",
      " 1   case concept:name           214377 non-null  int64         \n",
      " 2   case REG_DATE               214377 non-null  datetime64[ns]\n",
      " 3   case AMOUNT_REQ             214377 non-null  int64         \n",
      " 4   event concept:name          214377 non-null  object        \n",
      " 5   event lifecycle:transition  214377 non-null  object        \n",
      " 6   event time:timestamp        214377 non-null  datetime64[ns]\n",
      "dtypes: datetime64[ns](2), int64(3), object(2)\n",
      "memory usage: 11.4+ MB\n"
     ]
    }
   ],
   "source": [
    "df[registration_time_column]= [re.sub('\\..*|\\+.*','',a,flags=re.DOTALL) for a in df[registration_time_column]]\n",
    "df[registration_time_column] = [datetime.strptime(date, timeformat_registration) for date in df[registration_time_column]]\n",
    "df[timestamp_column] = [datetime.strptime(date, timeformat_timestamp) for date in df[timestamp_column]]\n",
    "df = df.sort_values(by=[case_column, timestamp_column])\n",
    "df.reset_index(inplace=True, drop=True)# sort values by user and time of event\n",
    "df.info()"
   ],
   "metadata": {
    "collapsed": false,
    "pycharm": {
     "name": "#%%\n"
    }
   }
  },
  {
   "cell_type": "code",
   "execution_count": 78,
   "outputs": [
    {
     "data": {
      "text/plain": "              eventID   case concept:name       case REG_DATE  \\\n0                    0             173688 2011-10-01 00:38:44   \n1                    1             173688 2011-10-01 00:38:44   \n2                    2             173688 2011-10-01 00:38:44   \n3                    3             173688 2011-10-01 00:38:44   \n4                    4             173688 2011-10-01 00:38:44   \n...                ...                ...                 ...   \n214372  44955422687236             206318 2012-02-03 17:07:38   \n214373  44955422687237             206318 2012-02-03 17:07:38   \n214374  44959717654528             206321 2012-02-03 17:08:39   \n214375  44959717654529             206321 2012-02-03 17:08:39   \n214376  44959717654530             206321 2012-02-03 17:08:39   \n\n        case AMOUNT_REQ      event concept:name event lifecycle:transition  \\\n0                 20000             A_SUBMITTED                   COMPLETE   \n1                 20000       A_PARTLYSUBMITTED                   COMPLETE   \n2                 20000           A_PREACCEPTED                   COMPLETE   \n3                 20000  W_Completeren aanvraag                   SCHEDULE   \n4                 20000  W_Completeren aanvraag                      START   \n...                 ...                     ...                        ...   \n214372             5000              A_DECLINED                   COMPLETE   \n214373             5000      W_Afhandelen leads                   COMPLETE   \n214374             2000             A_SUBMITTED                   COMPLETE   \n214375             2000       A_PARTLYSUBMITTED                   COMPLETE   \n214376             2000              A_DECLINED                   COMPLETE   \n\n          event time:timestamp Time Since Registration day_of_week  \\\n0      2011-10-01 00:38:44.546  0 days 00:00:00.546000    Saturday   \n1      2011-10-01 00:38:44.880  0 days 00:00:00.880000    Saturday   \n2      2011-10-01 00:39:37.906  0 days 00:00:53.906000    Saturday   \n3      2011-10-01 00:39:38.875  0 days 00:00:54.875000    Saturday   \n4      2011-10-01 11:36:46.437  0 days 10:58:02.437000    Saturday   \n...                        ...                     ...         ...   \n214372 2012-02-03 17:55:57.294  0 days 00:48:19.294000      Friday   \n214373 2012-02-03 17:56:00.998  0 days 00:48:22.998000      Friday   \n214374 2012-02-03 17:08:39.200  0 days 00:00:00.200000      Friday   \n214375 2012-02-03 17:08:39.459  0 days 00:00:00.459000      Friday   \n214376 2012-02-03 17:09:19.112  0 days 00:00:40.112000      Friday   \n\n       month_of_year  \n0            October  \n1            October  \n2            October  \n3            October  \n4            October  \n...              ...  \n214372      February  \n214373      February  \n214374      February  \n214375      February  \n214376      February  \n\n[214377 rows x 10 columns]",
      "text/html": "<div>\n<style scoped>\n    .dataframe tbody tr th:only-of-type {\n        vertical-align: middle;\n    }\n\n    .dataframe tbody tr th {\n        vertical-align: top;\n    }\n\n    .dataframe thead th {\n        text-align: right;\n    }\n</style>\n<table border=\"1\" class=\"dataframe\">\n  <thead>\n    <tr style=\"text-align: right;\">\n      <th></th>\n      <th>eventID</th>\n      <th>case concept:name</th>\n      <th>case REG_DATE</th>\n      <th>case AMOUNT_REQ</th>\n      <th>event concept:name</th>\n      <th>event lifecycle:transition</th>\n      <th>event time:timestamp</th>\n      <th>Time Since Registration</th>\n      <th>day_of_week</th>\n      <th>month_of_year</th>\n    </tr>\n  </thead>\n  <tbody>\n    <tr>\n      <th>0</th>\n      <td>0</td>\n      <td>173688</td>\n      <td>2011-10-01 00:38:44</td>\n      <td>20000</td>\n      <td>A_SUBMITTED</td>\n      <td>COMPLETE</td>\n      <td>2011-10-01 00:38:44.546</td>\n      <td>0 days 00:00:00.546000</td>\n      <td>Saturday</td>\n      <td>October</td>\n    </tr>\n    <tr>\n      <th>1</th>\n      <td>1</td>\n      <td>173688</td>\n      <td>2011-10-01 00:38:44</td>\n      <td>20000</td>\n      <td>A_PARTLYSUBMITTED</td>\n      <td>COMPLETE</td>\n      <td>2011-10-01 00:38:44.880</td>\n      <td>0 days 00:00:00.880000</td>\n      <td>Saturday</td>\n      <td>October</td>\n    </tr>\n    <tr>\n      <th>2</th>\n      <td>2</td>\n      <td>173688</td>\n      <td>2011-10-01 00:38:44</td>\n      <td>20000</td>\n      <td>A_PREACCEPTED</td>\n      <td>COMPLETE</td>\n      <td>2011-10-01 00:39:37.906</td>\n      <td>0 days 00:00:53.906000</td>\n      <td>Saturday</td>\n      <td>October</td>\n    </tr>\n    <tr>\n      <th>3</th>\n      <td>3</td>\n      <td>173688</td>\n      <td>2011-10-01 00:38:44</td>\n      <td>20000</td>\n      <td>W_Completeren aanvraag</td>\n      <td>SCHEDULE</td>\n      <td>2011-10-01 00:39:38.875</td>\n      <td>0 days 00:00:54.875000</td>\n      <td>Saturday</td>\n      <td>October</td>\n    </tr>\n    <tr>\n      <th>4</th>\n      <td>4</td>\n      <td>173688</td>\n      <td>2011-10-01 00:38:44</td>\n      <td>20000</td>\n      <td>W_Completeren aanvraag</td>\n      <td>START</td>\n      <td>2011-10-01 11:36:46.437</td>\n      <td>0 days 10:58:02.437000</td>\n      <td>Saturday</td>\n      <td>October</td>\n    </tr>\n    <tr>\n      <th>...</th>\n      <td>...</td>\n      <td>...</td>\n      <td>...</td>\n      <td>...</td>\n      <td>...</td>\n      <td>...</td>\n      <td>...</td>\n      <td>...</td>\n      <td>...</td>\n      <td>...</td>\n    </tr>\n    <tr>\n      <th>214372</th>\n      <td>44955422687236</td>\n      <td>206318</td>\n      <td>2012-02-03 17:07:38</td>\n      <td>5000</td>\n      <td>A_DECLINED</td>\n      <td>COMPLETE</td>\n      <td>2012-02-03 17:55:57.294</td>\n      <td>0 days 00:48:19.294000</td>\n      <td>Friday</td>\n      <td>February</td>\n    </tr>\n    <tr>\n      <th>214373</th>\n      <td>44955422687237</td>\n      <td>206318</td>\n      <td>2012-02-03 17:07:38</td>\n      <td>5000</td>\n      <td>W_Afhandelen leads</td>\n      <td>COMPLETE</td>\n      <td>2012-02-03 17:56:00.998</td>\n      <td>0 days 00:48:22.998000</td>\n      <td>Friday</td>\n      <td>February</td>\n    </tr>\n    <tr>\n      <th>214374</th>\n      <td>44959717654528</td>\n      <td>206321</td>\n      <td>2012-02-03 17:08:39</td>\n      <td>2000</td>\n      <td>A_SUBMITTED</td>\n      <td>COMPLETE</td>\n      <td>2012-02-03 17:08:39.200</td>\n      <td>0 days 00:00:00.200000</td>\n      <td>Friday</td>\n      <td>February</td>\n    </tr>\n    <tr>\n      <th>214375</th>\n      <td>44959717654529</td>\n      <td>206321</td>\n      <td>2012-02-03 17:08:39</td>\n      <td>2000</td>\n      <td>A_PARTLYSUBMITTED</td>\n      <td>COMPLETE</td>\n      <td>2012-02-03 17:08:39.459</td>\n      <td>0 days 00:00:00.459000</td>\n      <td>Friday</td>\n      <td>February</td>\n    </tr>\n    <tr>\n      <th>214376</th>\n      <td>44959717654530</td>\n      <td>206321</td>\n      <td>2012-02-03 17:08:39</td>\n      <td>2000</td>\n      <td>A_DECLINED</td>\n      <td>COMPLETE</td>\n      <td>2012-02-03 17:09:19.112</td>\n      <td>0 days 00:00:40.112000</td>\n      <td>Friday</td>\n      <td>February</td>\n    </tr>\n  </tbody>\n</table>\n<p>214377 rows × 10 columns</p>\n</div>"
     },
     "execution_count": 78,
     "metadata": {},
     "output_type": "execute_result"
    }
   ],
   "source": [
    "df[time_since_registration_column] = df[timestamp_column] - df[registration_time_column] # Adding time since registration\n",
    "df[day_of_week_column] = df[timestamp_column].dt.day_name()\n",
    "df[month_of_year_column] = df[timestamp_column].dt.month_name()\n",
    "df"
   ],
   "metadata": {
    "collapsed": false,
    "pycharm": {
     "name": "#%%\n"
    }
   }
  },
  {
   "cell_type": "code",
   "execution_count": 79,
   "outputs": [],
   "source": [
    "minutes_since_reg= 'minutes_since_reg'\n",
    "df[minutes_since_reg]=[np.log((i.total_seconds()+0.000001)*60) for i in df[time_since_registration_column]]\n",
    "hour = 'hour'\n",
    "df[hour]  = [i.hour for i in df[timestamp_column]]\n",
    "df[offer_sent] = 0\n",
    "offer_sent_mask = df[event_column] == offer_sent\n",
    "case_check = df[offer_sent_mask][[case_column,timestamp_column]].copy().reset_index(drop=True)\n",
    "for i in range(len(case_check)):\n",
    "    case_name = case_check.iloc[i,0]\n",
    "    case_time = case_check.iloc[i,1]\n",
    "    mask = (df[case_column]==case_name)&(df[timestamp_column]>=case_time)\n",
    "    df.loc[mask, offer_sent] = 1\n"
   ],
   "metadata": {
    "collapsed": false,
    "pycharm": {
     "name": "#%%\n"
    }
   }
  },
  {
   "cell_type": "code",
   "execution_count": 80,
   "outputs": [],
   "source": [
    "df[position_column] = df.groupby([case_column]).cumcount()+1\n",
    "length_process = df.groupby([case_column]).size().to_dict()"
   ],
   "metadata": {
    "collapsed": false,
    "pycharm": {
     "name": "#%%\n"
    }
   }
  },
  {
   "cell_type": "code",
   "execution_count": 102,
   "outputs": [
    {
     "data": {
      "text/plain": "              eventID   case concept:name       case REG_DATE  \\\n0                    0             173688 2011-10-01 00:38:44   \n1                    1             173688 2011-10-01 00:38:44   \n2                    2             173688 2011-10-01 00:38:44   \n3                    3             173688 2011-10-01 00:38:44   \n4                    4             173688 2011-10-01 00:38:44   \n...                ...                ...                 ...   \n214372  44955422687236             206318 2012-02-03 17:07:38   \n214373  44955422687237             206318 2012-02-03 17:07:38   \n214374  44959717654528             206321 2012-02-03 17:08:39   \n214375  44959717654529             206321 2012-02-03 17:08:39   \n214376  44959717654530             206321 2012-02-03 17:08:39   \n\n        case AMOUNT_REQ      event concept:name event lifecycle:transition  \\\n0                 20000             A_SUBMITTED                   COMPLETE   \n1                 20000       A_PARTLYSUBMITTED                   COMPLETE   \n2                 20000           A_PREACCEPTED                   COMPLETE   \n3                 20000  W_Completeren aanvraag                   SCHEDULE   \n4                 20000  W_Completeren aanvraag                      START   \n...                 ...                     ...                        ...   \n214372             5000              A_DECLINED                   COMPLETE   \n214373             5000      W_Afhandelen leads                   COMPLETE   \n214374             2000             A_SUBMITTED                   COMPLETE   \n214375             2000       A_PARTLYSUBMITTED                   COMPLETE   \n214376             2000              A_DECLINED                   COMPLETE   \n\n          event time:timestamp Time Since Registration day_of_week  \\\n0      2011-10-01 00:38:44.546  0 days 00:00:00.546000    Saturday   \n1      2011-10-01 00:38:44.880  0 days 00:00:00.880000    Saturday   \n2      2011-10-01 00:39:37.906  0 days 00:00:53.906000    Saturday   \n3      2011-10-01 00:39:38.875  0 days 00:00:54.875000    Saturday   \n4      2011-10-01 11:36:46.437  0 days 10:58:02.437000    Saturday   \n...                        ...                     ...         ...   \n214372 2012-02-03 17:55:57.294  0 days 00:48:19.294000      Friday   \n214373 2012-02-03 17:56:00.998  0 days 00:48:22.998000      Friday   \n214374 2012-02-03 17:08:39.200  0 days 00:00:00.200000      Friday   \n214375 2012-02-03 17:08:39.459  0 days 00:00:00.459000      Friday   \n214376 2012-02-03 17:09:19.112  0 days 00:00:40.112000      Friday   \n\n       month_of_year  minutes_since_reg  hour  O_SENT  Position  \\\n0            October           3.489210     0       0         1   \n1            October           3.966512     0       0         2   \n2            October           8.081586     0       0         3   \n3            October           8.099402     0       0         4   \n4            October          14.677956    11       0         5   \n...              ...                ...   ...     ...       ...   \n214372      February          12.066567    17       0         5   \n214373      February          12.067844    17       0         6   \n214374      February           2.484912    17       0         1   \n214375      February           3.315642    17       0         2   \n214376      February           7.786020    17       0         3   \n\n        shifted_deltatimes  \n0                    0.334  \n1                   53.026  \n2                    0.969  \n3                39427.562  \n4                  356.871  \n...                    ...  \n214372               3.704  \n214373                 NaN  \n214374               0.259  \n214375              39.653  \n214376                 NaN  \n\n[214377 rows x 15 columns]",
      "text/html": "<div>\n<style scoped>\n    .dataframe tbody tr th:only-of-type {\n        vertical-align: middle;\n    }\n\n    .dataframe tbody tr th {\n        vertical-align: top;\n    }\n\n    .dataframe thead th {\n        text-align: right;\n    }\n</style>\n<table border=\"1\" class=\"dataframe\">\n  <thead>\n    <tr style=\"text-align: right;\">\n      <th></th>\n      <th>eventID</th>\n      <th>case concept:name</th>\n      <th>case REG_DATE</th>\n      <th>case AMOUNT_REQ</th>\n      <th>event concept:name</th>\n      <th>event lifecycle:transition</th>\n      <th>event time:timestamp</th>\n      <th>Time Since Registration</th>\n      <th>day_of_week</th>\n      <th>month_of_year</th>\n      <th>minutes_since_reg</th>\n      <th>hour</th>\n      <th>O_SENT</th>\n      <th>Position</th>\n      <th>shifted_deltatimes</th>\n    </tr>\n  </thead>\n  <tbody>\n    <tr>\n      <th>0</th>\n      <td>0</td>\n      <td>173688</td>\n      <td>2011-10-01 00:38:44</td>\n      <td>20000</td>\n      <td>A_SUBMITTED</td>\n      <td>COMPLETE</td>\n      <td>2011-10-01 00:38:44.546</td>\n      <td>0 days 00:00:00.546000</td>\n      <td>Saturday</td>\n      <td>October</td>\n      <td>3.489210</td>\n      <td>0</td>\n      <td>0</td>\n      <td>1</td>\n      <td>0.334</td>\n    </tr>\n    <tr>\n      <th>1</th>\n      <td>1</td>\n      <td>173688</td>\n      <td>2011-10-01 00:38:44</td>\n      <td>20000</td>\n      <td>A_PARTLYSUBMITTED</td>\n      <td>COMPLETE</td>\n      <td>2011-10-01 00:38:44.880</td>\n      <td>0 days 00:00:00.880000</td>\n      <td>Saturday</td>\n      <td>October</td>\n      <td>3.966512</td>\n      <td>0</td>\n      <td>0</td>\n      <td>2</td>\n      <td>53.026</td>\n    </tr>\n    <tr>\n      <th>2</th>\n      <td>2</td>\n      <td>173688</td>\n      <td>2011-10-01 00:38:44</td>\n      <td>20000</td>\n      <td>A_PREACCEPTED</td>\n      <td>COMPLETE</td>\n      <td>2011-10-01 00:39:37.906</td>\n      <td>0 days 00:00:53.906000</td>\n      <td>Saturday</td>\n      <td>October</td>\n      <td>8.081586</td>\n      <td>0</td>\n      <td>0</td>\n      <td>3</td>\n      <td>0.969</td>\n    </tr>\n    <tr>\n      <th>3</th>\n      <td>3</td>\n      <td>173688</td>\n      <td>2011-10-01 00:38:44</td>\n      <td>20000</td>\n      <td>W_Completeren aanvraag</td>\n      <td>SCHEDULE</td>\n      <td>2011-10-01 00:39:38.875</td>\n      <td>0 days 00:00:54.875000</td>\n      <td>Saturday</td>\n      <td>October</td>\n      <td>8.099402</td>\n      <td>0</td>\n      <td>0</td>\n      <td>4</td>\n      <td>39427.562</td>\n    </tr>\n    <tr>\n      <th>4</th>\n      <td>4</td>\n      <td>173688</td>\n      <td>2011-10-01 00:38:44</td>\n      <td>20000</td>\n      <td>W_Completeren aanvraag</td>\n      <td>START</td>\n      <td>2011-10-01 11:36:46.437</td>\n      <td>0 days 10:58:02.437000</td>\n      <td>Saturday</td>\n      <td>October</td>\n      <td>14.677956</td>\n      <td>11</td>\n      <td>0</td>\n      <td>5</td>\n      <td>356.871</td>\n    </tr>\n    <tr>\n      <th>...</th>\n      <td>...</td>\n      <td>...</td>\n      <td>...</td>\n      <td>...</td>\n      <td>...</td>\n      <td>...</td>\n      <td>...</td>\n      <td>...</td>\n      <td>...</td>\n      <td>...</td>\n      <td>...</td>\n      <td>...</td>\n      <td>...</td>\n      <td>...</td>\n      <td>...</td>\n    </tr>\n    <tr>\n      <th>214372</th>\n      <td>44955422687236</td>\n      <td>206318</td>\n      <td>2012-02-03 17:07:38</td>\n      <td>5000</td>\n      <td>A_DECLINED</td>\n      <td>COMPLETE</td>\n      <td>2012-02-03 17:55:57.294</td>\n      <td>0 days 00:48:19.294000</td>\n      <td>Friday</td>\n      <td>February</td>\n      <td>12.066567</td>\n      <td>17</td>\n      <td>0</td>\n      <td>5</td>\n      <td>3.704</td>\n    </tr>\n    <tr>\n      <th>214373</th>\n      <td>44955422687237</td>\n      <td>206318</td>\n      <td>2012-02-03 17:07:38</td>\n      <td>5000</td>\n      <td>W_Afhandelen leads</td>\n      <td>COMPLETE</td>\n      <td>2012-02-03 17:56:00.998</td>\n      <td>0 days 00:48:22.998000</td>\n      <td>Friday</td>\n      <td>February</td>\n      <td>12.067844</td>\n      <td>17</td>\n      <td>0</td>\n      <td>6</td>\n      <td>NaN</td>\n    </tr>\n    <tr>\n      <th>214374</th>\n      <td>44959717654528</td>\n      <td>206321</td>\n      <td>2012-02-03 17:08:39</td>\n      <td>2000</td>\n      <td>A_SUBMITTED</td>\n      <td>COMPLETE</td>\n      <td>2012-02-03 17:08:39.200</td>\n      <td>0 days 00:00:00.200000</td>\n      <td>Friday</td>\n      <td>February</td>\n      <td>2.484912</td>\n      <td>17</td>\n      <td>0</td>\n      <td>1</td>\n      <td>0.259</td>\n    </tr>\n    <tr>\n      <th>214375</th>\n      <td>44959717654529</td>\n      <td>206321</td>\n      <td>2012-02-03 17:08:39</td>\n      <td>2000</td>\n      <td>A_PARTLYSUBMITTED</td>\n      <td>COMPLETE</td>\n      <td>2012-02-03 17:08:39.459</td>\n      <td>0 days 00:00:00.459000</td>\n      <td>Friday</td>\n      <td>February</td>\n      <td>3.315642</td>\n      <td>17</td>\n      <td>0</td>\n      <td>2</td>\n      <td>39.653</td>\n    </tr>\n    <tr>\n      <th>214376</th>\n      <td>44959717654530</td>\n      <td>206321</td>\n      <td>2012-02-03 17:08:39</td>\n      <td>2000</td>\n      <td>A_DECLINED</td>\n      <td>COMPLETE</td>\n      <td>2012-02-03 17:09:19.112</td>\n      <td>0 days 00:00:40.112000</td>\n      <td>Friday</td>\n      <td>February</td>\n      <td>7.786020</td>\n      <td>17</td>\n      <td>0</td>\n      <td>3</td>\n      <td>NaN</td>\n    </tr>\n  </tbody>\n</table>\n<p>214377 rows × 15 columns</p>\n</div>"
     },
     "execution_count": 102,
     "metadata": {},
     "output_type": "execute_result"
    }
   ],
   "source": [
    "shifted_deltatimes_list = df[timestamp_column].diff().shift(periods=-1)\n",
    "shifted_deltatimes = 'shifted_deltatimes'\n",
    "df[shifted_deltatimes] = [(i.total_seconds()) for i in shifted_deltatimes_list]\n",
    "mask1  = (df[shifted_deltatimes]<0.01)\n",
    "mask2 = (df[shifted_deltatimes]<0)\n",
    "df.loc[mask1, shifted_deltatimes]=0\n",
    "df.loc[mask2, shifted_deltatimes]=np.nan\n",
    "df"
   ],
   "metadata": {
    "collapsed": false,
    "pycharm": {
     "name": "#%%\n"
    }
   }
  },
  {
   "cell_type": "code",
   "execution_count": 95,
   "outputs": [],
   "source": [
    "df[timestamp_column].diff().shift(periods=-1)"
   ],
   "metadata": {
    "collapsed": false,
    "pycharm": {
     "name": "#%%\n"
    }
   }
  },
  {
   "cell_type": "code",
   "execution_count": 96,
   "outputs": [
    {
     "data": {
      "text/plain": "0        0 days 00:00:00.334000\n1        0 days 00:00:53.026000\n2        0 days 00:00:00.969000\n3        0 days 10:57:07.562000\n4        0 days 00:05:56.871000\n                  ...          \n214370   0 days 00:41:36.288000\n214371   0 days 00:06:28.186000\n214372   0 days 00:00:03.704000\n214374   0 days 00:00:00.259000\n214375   0 days 00:00:39.653000\nName: event time:timestamp, Length: 203908, dtype: timedelta64[ns]"
     },
     "execution_count": 96,
     "metadata": {},
     "output_type": "execute_result"
    }
   ],
   "source": [
    "shifted_deltatimes_list"
   ],
   "metadata": {
    "collapsed": false,
    "pycharm": {
     "name": "#%%\n"
    }
   }
  },
  {
   "cell_type": "code",
   "execution_count": 105,
   "outputs": [
    {
     "ename": "KeyboardInterrupt",
     "evalue": "",
     "output_type": "error",
     "traceback": [
      "\u001B[1;31m---------------------------------------------------------------------------\u001B[0m",
      "\u001B[1;31mValueError\u001B[0m                                Traceback (most recent call last)",
      "\u001B[1;32mC:\\ProgramData\\Anaconda3\\envs\\my_env\\lib\\site-packages\\sklearn\\model_selection\\_validation.py\u001B[0m in \u001B[0;36m_fit_and_score\u001B[1;34m(estimator, X, y, scorer, train, test, verbose, parameters, fit_params, return_train_score, return_parameters, return_n_test_samples, return_times, return_estimator, split_progress, candidate_progress, error_score)\u001B[0m\n\u001B[0;32m    679\u001B[0m         \u001B[1;32melse\u001B[0m\u001B[1;33m:\u001B[0m\u001B[1;33m\u001B[0m\u001B[1;33m\u001B[0m\u001B[0m\n\u001B[1;32m--> 680\u001B[1;33m             \u001B[0mestimator\u001B[0m\u001B[1;33m.\u001B[0m\u001B[0mfit\u001B[0m\u001B[1;33m(\u001B[0m\u001B[0mX_train\u001B[0m\u001B[1;33m,\u001B[0m \u001B[0my_train\u001B[0m\u001B[1;33m,\u001B[0m \u001B[1;33m**\u001B[0m\u001B[0mfit_params\u001B[0m\u001B[1;33m)\u001B[0m\u001B[1;33m\u001B[0m\u001B[1;33m\u001B[0m\u001B[0m\n\u001B[0m\u001B[0;32m    681\u001B[0m \u001B[1;33m\u001B[0m\u001B[0m\n",
      "\u001B[1;32mC:\\ProgramData\\Anaconda3\\envs\\my_env\\lib\\site-packages\\sklearn\\linear_model\\_ridge.py\u001B[0m in \u001B[0;36mfit\u001B[1;34m(self, X, y, sample_weight)\u001B[0m\n\u001B[0;32m   1002\u001B[0m         \u001B[0m_accept_sparse\u001B[0m \u001B[1;33m=\u001B[0m \u001B[0m_get_valid_accept_sparse\u001B[0m\u001B[1;33m(\u001B[0m\u001B[0msparse\u001B[0m\u001B[1;33m.\u001B[0m\u001B[0missparse\u001B[0m\u001B[1;33m(\u001B[0m\u001B[0mX\u001B[0m\u001B[1;33m)\u001B[0m\u001B[1;33m,\u001B[0m \u001B[0mself\u001B[0m\u001B[1;33m.\u001B[0m\u001B[0msolver\u001B[0m\u001B[1;33m)\u001B[0m\u001B[1;33m\u001B[0m\u001B[1;33m\u001B[0m\u001B[0m\n\u001B[1;32m-> 1003\u001B[1;33m         X, y = self._validate_data(\n\u001B[0m\u001B[0;32m   1004\u001B[0m             \u001B[0mX\u001B[0m\u001B[1;33m,\u001B[0m\u001B[1;33m\u001B[0m\u001B[1;33m\u001B[0m\u001B[0m\n",
      "\u001B[1;32mC:\\ProgramData\\Anaconda3\\envs\\my_env\\lib\\site-packages\\sklearn\\base.py\u001B[0m in \u001B[0;36m_validate_data\u001B[1;34m(self, X, y, reset, validate_separately, **check_params)\u001B[0m\n\u001B[0;32m    580\u001B[0m             \u001B[1;32melse\u001B[0m\u001B[1;33m:\u001B[0m\u001B[1;33m\u001B[0m\u001B[1;33m\u001B[0m\u001B[0m\n\u001B[1;32m--> 581\u001B[1;33m                 \u001B[0mX\u001B[0m\u001B[1;33m,\u001B[0m \u001B[0my\u001B[0m \u001B[1;33m=\u001B[0m \u001B[0mcheck_X_y\u001B[0m\u001B[1;33m(\u001B[0m\u001B[0mX\u001B[0m\u001B[1;33m,\u001B[0m \u001B[0my\u001B[0m\u001B[1;33m,\u001B[0m \u001B[1;33m**\u001B[0m\u001B[0mcheck_params\u001B[0m\u001B[1;33m)\u001B[0m\u001B[1;33m\u001B[0m\u001B[1;33m\u001B[0m\u001B[0m\n\u001B[0m\u001B[0;32m    582\u001B[0m             \u001B[0mout\u001B[0m \u001B[1;33m=\u001B[0m \u001B[0mX\u001B[0m\u001B[1;33m,\u001B[0m \u001B[0my\u001B[0m\u001B[1;33m\u001B[0m\u001B[1;33m\u001B[0m\u001B[0m\n",
      "\u001B[1;32mC:\\ProgramData\\Anaconda3\\envs\\my_env\\lib\\site-packages\\sklearn\\utils\\validation.py\u001B[0m in \u001B[0;36mcheck_X_y\u001B[1;34m(X, y, accept_sparse, accept_large_sparse, dtype, order, copy, force_all_finite, ensure_2d, allow_nd, multi_output, ensure_min_samples, ensure_min_features, y_numeric, estimator)\u001B[0m\n\u001B[0;32m    963\u001B[0m \u001B[1;33m\u001B[0m\u001B[0m\n\u001B[1;32m--> 964\u001B[1;33m     X = check_array(\n\u001B[0m\u001B[0;32m    965\u001B[0m         \u001B[0mX\u001B[0m\u001B[1;33m,\u001B[0m\u001B[1;33m\u001B[0m\u001B[1;33m\u001B[0m\u001B[0m\n",
      "\u001B[1;32mC:\\ProgramData\\Anaconda3\\envs\\my_env\\lib\\site-packages\\sklearn\\utils\\validation.py\u001B[0m in \u001B[0;36mcheck_array\u001B[1;34m(array, accept_sparse, accept_large_sparse, dtype, order, copy, force_all_finite, ensure_2d, allow_nd, ensure_min_samples, ensure_min_features, estimator)\u001B[0m\n\u001B[0;32m    745\u001B[0m                 \u001B[1;32melse\u001B[0m\u001B[1;33m:\u001B[0m\u001B[1;33m\u001B[0m\u001B[1;33m\u001B[0m\u001B[0m\n\u001B[1;32m--> 746\u001B[1;33m                     \u001B[0marray\u001B[0m \u001B[1;33m=\u001B[0m \u001B[0mnp\u001B[0m\u001B[1;33m.\u001B[0m\u001B[0masarray\u001B[0m\u001B[1;33m(\u001B[0m\u001B[0marray\u001B[0m\u001B[1;33m,\u001B[0m \u001B[0morder\u001B[0m\u001B[1;33m=\u001B[0m\u001B[0morder\u001B[0m\u001B[1;33m,\u001B[0m \u001B[0mdtype\u001B[0m\u001B[1;33m=\u001B[0m\u001B[0mdtype\u001B[0m\u001B[1;33m)\u001B[0m\u001B[1;33m\u001B[0m\u001B[1;33m\u001B[0m\u001B[0m\n\u001B[0m\u001B[0;32m    747\u001B[0m             \u001B[1;32mexcept\u001B[0m \u001B[0mComplexWarning\u001B[0m \u001B[1;32mas\u001B[0m \u001B[0mcomplex_warning\u001B[0m\u001B[1;33m:\u001B[0m\u001B[1;33m\u001B[0m\u001B[1;33m\u001B[0m\u001B[0m\n",
      "\u001B[1;32mC:\\ProgramData\\Anaconda3\\envs\\my_env\\lib\\site-packages\\pandas\\core\\generic.py\u001B[0m in \u001B[0;36m__array__\u001B[1;34m(self, dtype)\u001B[0m\n\u001B[0;32m   1992\u001B[0m     \u001B[1;32mdef\u001B[0m \u001B[0m__array__\u001B[0m\u001B[1;33m(\u001B[0m\u001B[0mself\u001B[0m\u001B[1;33m,\u001B[0m \u001B[0mdtype\u001B[0m\u001B[1;33m:\u001B[0m \u001B[0mNpDtype\u001B[0m \u001B[1;33m|\u001B[0m \u001B[1;32mNone\u001B[0m \u001B[1;33m=\u001B[0m \u001B[1;32mNone\u001B[0m\u001B[1;33m)\u001B[0m \u001B[1;33m->\u001B[0m \u001B[0mnp\u001B[0m\u001B[1;33m.\u001B[0m\u001B[0mndarray\u001B[0m\u001B[1;33m:\u001B[0m\u001B[1;33m\u001B[0m\u001B[1;33m\u001B[0m\u001B[0m\n\u001B[1;32m-> 1993\u001B[1;33m         \u001B[1;32mreturn\u001B[0m \u001B[0mnp\u001B[0m\u001B[1;33m.\u001B[0m\u001B[0masarray\u001B[0m\u001B[1;33m(\u001B[0m\u001B[0mself\u001B[0m\u001B[1;33m.\u001B[0m\u001B[0m_values\u001B[0m\u001B[1;33m,\u001B[0m \u001B[0mdtype\u001B[0m\u001B[1;33m=\u001B[0m\u001B[0mdtype\u001B[0m\u001B[1;33m)\u001B[0m\u001B[1;33m\u001B[0m\u001B[1;33m\u001B[0m\u001B[0m\n\u001B[0m\u001B[0;32m   1994\u001B[0m \u001B[1;33m\u001B[0m\u001B[0m\n",
      "\u001B[1;31mValueError\u001B[0m: could not convert string to float: 'Saturday'",
      "\nDuring handling of the above exception, another exception occurred:\n",
      "\u001B[1;31mKeyboardInterrupt\u001B[0m                         Traceback (most recent call last)",
      "\u001B[1;32m~\\AppData\\Local\\Temp/ipykernel_12224/522334438.py\u001B[0m in \u001B[0;36m<module>\u001B[1;34m\u001B[0m\n\u001B[0;32m      9\u001B[0m \u001B[1;33m\u001B[0m\u001B[0m\n\u001B[0;32m     10\u001B[0m \u001B[1;31m#fit model\u001B[0m\u001B[1;33m\u001B[0m\u001B[1;33m\u001B[0m\u001B[0m\n\u001B[1;32m---> 11\u001B[1;33m \u001B[0mmodel\u001B[0m\u001B[1;33m.\u001B[0m\u001B[0mfit\u001B[0m\u001B[1;33m(\u001B[0m\u001B[0mX\u001B[0m\u001B[1;33m,\u001B[0m \u001B[0my\u001B[0m\u001B[1;33m)\u001B[0m\u001B[1;33m\u001B[0m\u001B[1;33m\u001B[0m\u001B[0m\n\u001B[0m\u001B[0;32m     12\u001B[0m \u001B[1;33m\u001B[0m\u001B[0m\n\u001B[0;32m     13\u001B[0m \u001B[1;31m#display lambda that produced the lowest test MSE\u001B[0m\u001B[1;33m\u001B[0m\u001B[1;33m\u001B[0m\u001B[0m\n",
      "\u001B[1;32mC:\\ProgramData\\Anaconda3\\envs\\my_env\\lib\\site-packages\\sklearn\\linear_model\\_ridge.py\u001B[0m in \u001B[0;36mfit\u001B[1;34m(self, X, y, sample_weight)\u001B[0m\n\u001B[0;32m   2051\u001B[0m                 \u001B[0mscoring\u001B[0m\u001B[1;33m=\u001B[0m\u001B[0mself\u001B[0m\u001B[1;33m.\u001B[0m\u001B[0mscoring\u001B[0m\u001B[1;33m,\u001B[0m\u001B[1;33m\u001B[0m\u001B[1;33m\u001B[0m\u001B[0m\n\u001B[0;32m   2052\u001B[0m             )\n\u001B[1;32m-> 2053\u001B[1;33m             \u001B[0mgs\u001B[0m\u001B[1;33m.\u001B[0m\u001B[0mfit\u001B[0m\u001B[1;33m(\u001B[0m\u001B[0mX\u001B[0m\u001B[1;33m,\u001B[0m \u001B[0my\u001B[0m\u001B[1;33m,\u001B[0m \u001B[0msample_weight\u001B[0m\u001B[1;33m=\u001B[0m\u001B[0msample_weight\u001B[0m\u001B[1;33m)\u001B[0m\u001B[1;33m\u001B[0m\u001B[1;33m\u001B[0m\u001B[0m\n\u001B[0m\u001B[0;32m   2054\u001B[0m             \u001B[0mestimator\u001B[0m \u001B[1;33m=\u001B[0m \u001B[0mgs\u001B[0m\u001B[1;33m.\u001B[0m\u001B[0mbest_estimator_\u001B[0m\u001B[1;33m\u001B[0m\u001B[1;33m\u001B[0m\u001B[0m\n\u001B[0;32m   2055\u001B[0m             \u001B[0mself\u001B[0m\u001B[1;33m.\u001B[0m\u001B[0malpha_\u001B[0m \u001B[1;33m=\u001B[0m \u001B[0mgs\u001B[0m\u001B[1;33m.\u001B[0m\u001B[0mbest_estimator_\u001B[0m\u001B[1;33m.\u001B[0m\u001B[0malpha\u001B[0m\u001B[1;33m\u001B[0m\u001B[1;33m\u001B[0m\u001B[0m\n",
      "\u001B[1;32mC:\\ProgramData\\Anaconda3\\envs\\my_env\\lib\\site-packages\\sklearn\\model_selection\\_search.py\u001B[0m in \u001B[0;36mfit\u001B[1;34m(self, X, y, groups, **fit_params)\u001B[0m\n\u001B[0;32m    889\u001B[0m                 \u001B[1;32mreturn\u001B[0m \u001B[0mresults\u001B[0m\u001B[1;33m\u001B[0m\u001B[1;33m\u001B[0m\u001B[0m\n\u001B[0;32m    890\u001B[0m \u001B[1;33m\u001B[0m\u001B[0m\n\u001B[1;32m--> 891\u001B[1;33m             \u001B[0mself\u001B[0m\u001B[1;33m.\u001B[0m\u001B[0m_run_search\u001B[0m\u001B[1;33m(\u001B[0m\u001B[0mevaluate_candidates\u001B[0m\u001B[1;33m)\u001B[0m\u001B[1;33m\u001B[0m\u001B[1;33m\u001B[0m\u001B[0m\n\u001B[0m\u001B[0;32m    892\u001B[0m \u001B[1;33m\u001B[0m\u001B[0m\n\u001B[0;32m    893\u001B[0m             \u001B[1;31m# multimetric is determined here because in the case of a callable\u001B[0m\u001B[1;33m\u001B[0m\u001B[1;33m\u001B[0m\u001B[0m\n",
      "\u001B[1;32mC:\\ProgramData\\Anaconda3\\envs\\my_env\\lib\\site-packages\\sklearn\\model_selection\\_search.py\u001B[0m in \u001B[0;36m_run_search\u001B[1;34m(self, evaluate_candidates)\u001B[0m\n\u001B[0;32m   1390\u001B[0m     \u001B[1;32mdef\u001B[0m \u001B[0m_run_search\u001B[0m\u001B[1;33m(\u001B[0m\u001B[0mself\u001B[0m\u001B[1;33m,\u001B[0m \u001B[0mevaluate_candidates\u001B[0m\u001B[1;33m)\u001B[0m\u001B[1;33m:\u001B[0m\u001B[1;33m\u001B[0m\u001B[1;33m\u001B[0m\u001B[0m\n\u001B[0;32m   1391\u001B[0m         \u001B[1;34m\"\"\"Search all candidates in param_grid\"\"\"\u001B[0m\u001B[1;33m\u001B[0m\u001B[1;33m\u001B[0m\u001B[0m\n\u001B[1;32m-> 1392\u001B[1;33m         \u001B[0mevaluate_candidates\u001B[0m\u001B[1;33m(\u001B[0m\u001B[0mParameterGrid\u001B[0m\u001B[1;33m(\u001B[0m\u001B[0mself\u001B[0m\u001B[1;33m.\u001B[0m\u001B[0mparam_grid\u001B[0m\u001B[1;33m)\u001B[0m\u001B[1;33m)\u001B[0m\u001B[1;33m\u001B[0m\u001B[1;33m\u001B[0m\u001B[0m\n\u001B[0m\u001B[0;32m   1393\u001B[0m \u001B[1;33m\u001B[0m\u001B[0m\n\u001B[0;32m   1394\u001B[0m \u001B[1;33m\u001B[0m\u001B[0m\n",
      "\u001B[1;32mC:\\ProgramData\\Anaconda3\\envs\\my_env\\lib\\site-packages\\sklearn\\model_selection\\_search.py\u001B[0m in \u001B[0;36mevaluate_candidates\u001B[1;34m(candidate_params, cv, more_results)\u001B[0m\n\u001B[0;32m    836\u001B[0m                     )\n\u001B[0;32m    837\u001B[0m \u001B[1;33m\u001B[0m\u001B[0m\n\u001B[1;32m--> 838\u001B[1;33m                 out = parallel(\n\u001B[0m\u001B[0;32m    839\u001B[0m                     delayed(_fit_and_score)(\n\u001B[0;32m    840\u001B[0m                         \u001B[0mclone\u001B[0m\u001B[1;33m(\u001B[0m\u001B[0mbase_estimator\u001B[0m\u001B[1;33m)\u001B[0m\u001B[1;33m,\u001B[0m\u001B[1;33m\u001B[0m\u001B[1;33m\u001B[0m\u001B[0m\n",
      "\u001B[1;32mC:\\ProgramData\\Anaconda3\\envs\\my_env\\lib\\site-packages\\joblib\\parallel.py\u001B[0m in \u001B[0;36m__call__\u001B[1;34m(self, iterable)\u001B[0m\n\u001B[0;32m   1044\u001B[0m                 \u001B[0mself\u001B[0m\u001B[1;33m.\u001B[0m\u001B[0m_iterating\u001B[0m \u001B[1;33m=\u001B[0m \u001B[0mself\u001B[0m\u001B[1;33m.\u001B[0m\u001B[0m_original_iterator\u001B[0m \u001B[1;32mis\u001B[0m \u001B[1;32mnot\u001B[0m \u001B[1;32mNone\u001B[0m\u001B[1;33m\u001B[0m\u001B[1;33m\u001B[0m\u001B[0m\n\u001B[0;32m   1045\u001B[0m \u001B[1;33m\u001B[0m\u001B[0m\n\u001B[1;32m-> 1046\u001B[1;33m             \u001B[1;32mwhile\u001B[0m \u001B[0mself\u001B[0m\u001B[1;33m.\u001B[0m\u001B[0mdispatch_one_batch\u001B[0m\u001B[1;33m(\u001B[0m\u001B[0miterator\u001B[0m\u001B[1;33m)\u001B[0m\u001B[1;33m:\u001B[0m\u001B[1;33m\u001B[0m\u001B[1;33m\u001B[0m\u001B[0m\n\u001B[0m\u001B[0;32m   1047\u001B[0m                 \u001B[1;32mpass\u001B[0m\u001B[1;33m\u001B[0m\u001B[1;33m\u001B[0m\u001B[0m\n\u001B[0;32m   1048\u001B[0m \u001B[1;33m\u001B[0m\u001B[0m\n",
      "\u001B[1;32mC:\\ProgramData\\Anaconda3\\envs\\my_env\\lib\\site-packages\\joblib\\parallel.py\u001B[0m in \u001B[0;36mdispatch_one_batch\u001B[1;34m(self, iterator)\u001B[0m\n\u001B[0;32m    859\u001B[0m                 \u001B[1;32mreturn\u001B[0m \u001B[1;32mFalse\u001B[0m\u001B[1;33m\u001B[0m\u001B[1;33m\u001B[0m\u001B[0m\n\u001B[0;32m    860\u001B[0m             \u001B[1;32melse\u001B[0m\u001B[1;33m:\u001B[0m\u001B[1;33m\u001B[0m\u001B[1;33m\u001B[0m\u001B[0m\n\u001B[1;32m--> 861\u001B[1;33m                 \u001B[0mself\u001B[0m\u001B[1;33m.\u001B[0m\u001B[0m_dispatch\u001B[0m\u001B[1;33m(\u001B[0m\u001B[0mtasks\u001B[0m\u001B[1;33m)\u001B[0m\u001B[1;33m\u001B[0m\u001B[1;33m\u001B[0m\u001B[0m\n\u001B[0m\u001B[0;32m    862\u001B[0m                 \u001B[1;32mreturn\u001B[0m \u001B[1;32mTrue\u001B[0m\u001B[1;33m\u001B[0m\u001B[1;33m\u001B[0m\u001B[0m\n\u001B[0;32m    863\u001B[0m \u001B[1;33m\u001B[0m\u001B[0m\n",
      "\u001B[1;32mC:\\ProgramData\\Anaconda3\\envs\\my_env\\lib\\site-packages\\joblib\\parallel.py\u001B[0m in \u001B[0;36m_dispatch\u001B[1;34m(self, batch)\u001B[0m\n\u001B[0;32m    777\u001B[0m         \u001B[1;32mwith\u001B[0m \u001B[0mself\u001B[0m\u001B[1;33m.\u001B[0m\u001B[0m_lock\u001B[0m\u001B[1;33m:\u001B[0m\u001B[1;33m\u001B[0m\u001B[1;33m\u001B[0m\u001B[0m\n\u001B[0;32m    778\u001B[0m             \u001B[0mjob_idx\u001B[0m \u001B[1;33m=\u001B[0m \u001B[0mlen\u001B[0m\u001B[1;33m(\u001B[0m\u001B[0mself\u001B[0m\u001B[1;33m.\u001B[0m\u001B[0m_jobs\u001B[0m\u001B[1;33m)\u001B[0m\u001B[1;33m\u001B[0m\u001B[1;33m\u001B[0m\u001B[0m\n\u001B[1;32m--> 779\u001B[1;33m             \u001B[0mjob\u001B[0m \u001B[1;33m=\u001B[0m \u001B[0mself\u001B[0m\u001B[1;33m.\u001B[0m\u001B[0m_backend\u001B[0m\u001B[1;33m.\u001B[0m\u001B[0mapply_async\u001B[0m\u001B[1;33m(\u001B[0m\u001B[0mbatch\u001B[0m\u001B[1;33m,\u001B[0m \u001B[0mcallback\u001B[0m\u001B[1;33m=\u001B[0m\u001B[0mcb\u001B[0m\u001B[1;33m)\u001B[0m\u001B[1;33m\u001B[0m\u001B[1;33m\u001B[0m\u001B[0m\n\u001B[0m\u001B[0;32m    780\u001B[0m             \u001B[1;31m# A job can complete so quickly than its callback is\u001B[0m\u001B[1;33m\u001B[0m\u001B[1;33m\u001B[0m\u001B[0m\n\u001B[0;32m    781\u001B[0m             \u001B[1;31m# called before we get here, causing self._jobs to\u001B[0m\u001B[1;33m\u001B[0m\u001B[1;33m\u001B[0m\u001B[0m\n",
      "\u001B[1;32mC:\\ProgramData\\Anaconda3\\envs\\my_env\\lib\\site-packages\\joblib\\_parallel_backends.py\u001B[0m in \u001B[0;36mapply_async\u001B[1;34m(self, func, callback)\u001B[0m\n\u001B[0;32m    206\u001B[0m     \u001B[1;32mdef\u001B[0m \u001B[0mapply_async\u001B[0m\u001B[1;33m(\u001B[0m\u001B[0mself\u001B[0m\u001B[1;33m,\u001B[0m \u001B[0mfunc\u001B[0m\u001B[1;33m,\u001B[0m \u001B[0mcallback\u001B[0m\u001B[1;33m=\u001B[0m\u001B[1;32mNone\u001B[0m\u001B[1;33m)\u001B[0m\u001B[1;33m:\u001B[0m\u001B[1;33m\u001B[0m\u001B[1;33m\u001B[0m\u001B[0m\n\u001B[0;32m    207\u001B[0m         \u001B[1;34m\"\"\"Schedule a func to be run\"\"\"\u001B[0m\u001B[1;33m\u001B[0m\u001B[1;33m\u001B[0m\u001B[0m\n\u001B[1;32m--> 208\u001B[1;33m         \u001B[0mresult\u001B[0m \u001B[1;33m=\u001B[0m \u001B[0mImmediateResult\u001B[0m\u001B[1;33m(\u001B[0m\u001B[0mfunc\u001B[0m\u001B[1;33m)\u001B[0m\u001B[1;33m\u001B[0m\u001B[1;33m\u001B[0m\u001B[0m\n\u001B[0m\u001B[0;32m    209\u001B[0m         \u001B[1;32mif\u001B[0m \u001B[0mcallback\u001B[0m\u001B[1;33m:\u001B[0m\u001B[1;33m\u001B[0m\u001B[1;33m\u001B[0m\u001B[0m\n\u001B[0;32m    210\u001B[0m             \u001B[0mcallback\u001B[0m\u001B[1;33m(\u001B[0m\u001B[0mresult\u001B[0m\u001B[1;33m)\u001B[0m\u001B[1;33m\u001B[0m\u001B[1;33m\u001B[0m\u001B[0m\n",
      "\u001B[1;32mC:\\ProgramData\\Anaconda3\\envs\\my_env\\lib\\site-packages\\joblib\\_parallel_backends.py\u001B[0m in \u001B[0;36m__init__\u001B[1;34m(self, batch)\u001B[0m\n\u001B[0;32m    570\u001B[0m         \u001B[1;31m# Don't delay the application, to avoid keeping the input\u001B[0m\u001B[1;33m\u001B[0m\u001B[1;33m\u001B[0m\u001B[0m\n\u001B[0;32m    571\u001B[0m         \u001B[1;31m# arguments in memory\u001B[0m\u001B[1;33m\u001B[0m\u001B[1;33m\u001B[0m\u001B[0m\n\u001B[1;32m--> 572\u001B[1;33m         \u001B[0mself\u001B[0m\u001B[1;33m.\u001B[0m\u001B[0mresults\u001B[0m \u001B[1;33m=\u001B[0m \u001B[0mbatch\u001B[0m\u001B[1;33m(\u001B[0m\u001B[1;33m)\u001B[0m\u001B[1;33m\u001B[0m\u001B[1;33m\u001B[0m\u001B[0m\n\u001B[0m\u001B[0;32m    573\u001B[0m \u001B[1;33m\u001B[0m\u001B[0m\n\u001B[0;32m    574\u001B[0m     \u001B[1;32mdef\u001B[0m \u001B[0mget\u001B[0m\u001B[1;33m(\u001B[0m\u001B[0mself\u001B[0m\u001B[1;33m)\u001B[0m\u001B[1;33m:\u001B[0m\u001B[1;33m\u001B[0m\u001B[1;33m\u001B[0m\u001B[0m\n",
      "\u001B[1;32mC:\\ProgramData\\Anaconda3\\envs\\my_env\\lib\\site-packages\\joblib\\parallel.py\u001B[0m in \u001B[0;36m__call__\u001B[1;34m(self)\u001B[0m\n\u001B[0;32m    260\u001B[0m         \u001B[1;31m# change the default number of processes to -1\u001B[0m\u001B[1;33m\u001B[0m\u001B[1;33m\u001B[0m\u001B[0m\n\u001B[0;32m    261\u001B[0m         \u001B[1;32mwith\u001B[0m \u001B[0mparallel_backend\u001B[0m\u001B[1;33m(\u001B[0m\u001B[0mself\u001B[0m\u001B[1;33m.\u001B[0m\u001B[0m_backend\u001B[0m\u001B[1;33m,\u001B[0m \u001B[0mn_jobs\u001B[0m\u001B[1;33m=\u001B[0m\u001B[0mself\u001B[0m\u001B[1;33m.\u001B[0m\u001B[0m_n_jobs\u001B[0m\u001B[1;33m)\u001B[0m\u001B[1;33m:\u001B[0m\u001B[1;33m\u001B[0m\u001B[1;33m\u001B[0m\u001B[0m\n\u001B[1;32m--> 262\u001B[1;33m             return [func(*args, **kwargs)\n\u001B[0m\u001B[0;32m    263\u001B[0m                     for func, args, kwargs in self.items]\n\u001B[0;32m    264\u001B[0m \u001B[1;33m\u001B[0m\u001B[0m\n",
      "\u001B[1;32mC:\\ProgramData\\Anaconda3\\envs\\my_env\\lib\\site-packages\\joblib\\parallel.py\u001B[0m in \u001B[0;36m<listcomp>\u001B[1;34m(.0)\u001B[0m\n\u001B[0;32m    260\u001B[0m         \u001B[1;31m# change the default number of processes to -1\u001B[0m\u001B[1;33m\u001B[0m\u001B[1;33m\u001B[0m\u001B[0m\n\u001B[0;32m    261\u001B[0m         \u001B[1;32mwith\u001B[0m \u001B[0mparallel_backend\u001B[0m\u001B[1;33m(\u001B[0m\u001B[0mself\u001B[0m\u001B[1;33m.\u001B[0m\u001B[0m_backend\u001B[0m\u001B[1;33m,\u001B[0m \u001B[0mn_jobs\u001B[0m\u001B[1;33m=\u001B[0m\u001B[0mself\u001B[0m\u001B[1;33m.\u001B[0m\u001B[0m_n_jobs\u001B[0m\u001B[1;33m)\u001B[0m\u001B[1;33m:\u001B[0m\u001B[1;33m\u001B[0m\u001B[1;33m\u001B[0m\u001B[0m\n\u001B[1;32m--> 262\u001B[1;33m             return [func(*args, **kwargs)\n\u001B[0m\u001B[0;32m    263\u001B[0m                     for func, args, kwargs in self.items]\n\u001B[0;32m    264\u001B[0m \u001B[1;33m\u001B[0m\u001B[0m\n",
      "\u001B[1;32mC:\\ProgramData\\Anaconda3\\envs\\my_env\\lib\\site-packages\\sklearn\\utils\\fixes.py\u001B[0m in \u001B[0;36m__call__\u001B[1;34m(self, *args, **kwargs)\u001B[0m\n\u001B[0;32m    214\u001B[0m     \u001B[1;32mdef\u001B[0m \u001B[0m__call__\u001B[0m\u001B[1;33m(\u001B[0m\u001B[0mself\u001B[0m\u001B[1;33m,\u001B[0m \u001B[1;33m*\u001B[0m\u001B[0margs\u001B[0m\u001B[1;33m,\u001B[0m \u001B[1;33m**\u001B[0m\u001B[0mkwargs\u001B[0m\u001B[1;33m)\u001B[0m\u001B[1;33m:\u001B[0m\u001B[1;33m\u001B[0m\u001B[1;33m\u001B[0m\u001B[0m\n\u001B[0;32m    215\u001B[0m         \u001B[1;32mwith\u001B[0m \u001B[0mconfig_context\u001B[0m\u001B[1;33m(\u001B[0m\u001B[1;33m**\u001B[0m\u001B[0mself\u001B[0m\u001B[1;33m.\u001B[0m\u001B[0mconfig\u001B[0m\u001B[1;33m)\u001B[0m\u001B[1;33m:\u001B[0m\u001B[1;33m\u001B[0m\u001B[1;33m\u001B[0m\u001B[0m\n\u001B[1;32m--> 216\u001B[1;33m             \u001B[1;32mreturn\u001B[0m \u001B[0mself\u001B[0m\u001B[1;33m.\u001B[0m\u001B[0mfunction\u001B[0m\u001B[1;33m(\u001B[0m\u001B[1;33m*\u001B[0m\u001B[0margs\u001B[0m\u001B[1;33m,\u001B[0m \u001B[1;33m**\u001B[0m\u001B[0mkwargs\u001B[0m\u001B[1;33m)\u001B[0m\u001B[1;33m\u001B[0m\u001B[1;33m\u001B[0m\u001B[0m\n\u001B[0m\u001B[0;32m    217\u001B[0m \u001B[1;33m\u001B[0m\u001B[0m\n\u001B[0;32m    218\u001B[0m \u001B[1;33m\u001B[0m\u001B[0m\n",
      "\u001B[1;32mC:\\ProgramData\\Anaconda3\\envs\\my_env\\lib\\site-packages\\sklearn\\model_selection\\_validation.py\u001B[0m in \u001B[0;36m_fit_and_score\u001B[1;34m(estimator, X, y, scorer, train, test, verbose, parameters, fit_params, return_train_score, return_parameters, return_n_test_samples, return_times, return_estimator, split_progress, candidate_progress, error_score)\u001B[0m\n\u001B[0;32m    695\u001B[0m                 \u001B[1;32mif\u001B[0m \u001B[0mreturn_train_score\u001B[0m\u001B[1;33m:\u001B[0m\u001B[1;33m\u001B[0m\u001B[1;33m\u001B[0m\u001B[0m\n\u001B[0;32m    696\u001B[0m                     \u001B[0mtrain_scores\u001B[0m \u001B[1;33m=\u001B[0m \u001B[0merror_score\u001B[0m\u001B[1;33m\u001B[0m\u001B[1;33m\u001B[0m\u001B[0m\n\u001B[1;32m--> 697\u001B[1;33m         \u001B[0mresult\u001B[0m\u001B[1;33m[\u001B[0m\u001B[1;34m\"fit_error\"\u001B[0m\u001B[1;33m]\u001B[0m \u001B[1;33m=\u001B[0m \u001B[0mformat_exc\u001B[0m\u001B[1;33m(\u001B[0m\u001B[1;33m)\u001B[0m\u001B[1;33m\u001B[0m\u001B[1;33m\u001B[0m\u001B[0m\n\u001B[0m\u001B[0;32m    698\u001B[0m     \u001B[1;32melse\u001B[0m\u001B[1;33m:\u001B[0m\u001B[1;33m\u001B[0m\u001B[1;33m\u001B[0m\u001B[0m\n\u001B[0;32m    699\u001B[0m         \u001B[0mresult\u001B[0m\u001B[1;33m[\u001B[0m\u001B[1;34m\"fit_error\"\u001B[0m\u001B[1;33m]\u001B[0m \u001B[1;33m=\u001B[0m \u001B[1;32mNone\u001B[0m\u001B[1;33m\u001B[0m\u001B[1;33m\u001B[0m\u001B[0m\n",
      "\u001B[1;32mC:\\ProgramData\\Anaconda3\\envs\\my_env\\lib\\traceback.py\u001B[0m in \u001B[0;36mformat_exc\u001B[1;34m(limit, chain)\u001B[0m\n\u001B[0;32m    165\u001B[0m \u001B[1;32mdef\u001B[0m \u001B[0mformat_exc\u001B[0m\u001B[1;33m(\u001B[0m\u001B[0mlimit\u001B[0m\u001B[1;33m=\u001B[0m\u001B[1;32mNone\u001B[0m\u001B[1;33m,\u001B[0m \u001B[0mchain\u001B[0m\u001B[1;33m=\u001B[0m\u001B[1;32mTrue\u001B[0m\u001B[1;33m)\u001B[0m\u001B[1;33m:\u001B[0m\u001B[1;33m\u001B[0m\u001B[1;33m\u001B[0m\u001B[0m\n\u001B[0;32m    166\u001B[0m     \u001B[1;34m\"\"\"Like print_exc() but return a string.\"\"\"\u001B[0m\u001B[1;33m\u001B[0m\u001B[1;33m\u001B[0m\u001B[0m\n\u001B[1;32m--> 167\u001B[1;33m     \u001B[1;32mreturn\u001B[0m \u001B[1;34m\"\"\u001B[0m\u001B[1;33m.\u001B[0m\u001B[0mjoin\u001B[0m\u001B[1;33m(\u001B[0m\u001B[0mformat_exception\u001B[0m\u001B[1;33m(\u001B[0m\u001B[1;33m*\u001B[0m\u001B[0msys\u001B[0m\u001B[1;33m.\u001B[0m\u001B[0mexc_info\u001B[0m\u001B[1;33m(\u001B[0m\u001B[1;33m)\u001B[0m\u001B[1;33m,\u001B[0m \u001B[0mlimit\u001B[0m\u001B[1;33m=\u001B[0m\u001B[0mlimit\u001B[0m\u001B[1;33m,\u001B[0m \u001B[0mchain\u001B[0m\u001B[1;33m=\u001B[0m\u001B[0mchain\u001B[0m\u001B[1;33m)\u001B[0m\u001B[1;33m)\u001B[0m\u001B[1;33m\u001B[0m\u001B[1;33m\u001B[0m\u001B[0m\n\u001B[0m\u001B[0;32m    168\u001B[0m \u001B[1;33m\u001B[0m\u001B[0m\n\u001B[0;32m    169\u001B[0m \u001B[1;32mdef\u001B[0m \u001B[0mprint_last\u001B[0m\u001B[1;33m(\u001B[0m\u001B[0mlimit\u001B[0m\u001B[1;33m=\u001B[0m\u001B[1;32mNone\u001B[0m\u001B[1;33m,\u001B[0m \u001B[0mfile\u001B[0m\u001B[1;33m=\u001B[0m\u001B[1;32mNone\u001B[0m\u001B[1;33m,\u001B[0m \u001B[0mchain\u001B[0m\u001B[1;33m=\u001B[0m\u001B[1;32mTrue\u001B[0m\u001B[1;33m)\u001B[0m\u001B[1;33m:\u001B[0m\u001B[1;33m\u001B[0m\u001B[1;33m\u001B[0m\u001B[0m\n",
      "\u001B[1;32mC:\\ProgramData\\Anaconda3\\envs\\my_env\\lib\\traceback.py\u001B[0m in \u001B[0;36mformat_exception\u001B[1;34m(etype, value, tb, limit, chain)\u001B[0m\n\u001B[0;32m    118\u001B[0m     \u001B[1;31m# passes in bogus values as a result. For compatibility with such code we\u001B[0m\u001B[1;33m\u001B[0m\u001B[1;33m\u001B[0m\u001B[0m\n\u001B[0;32m    119\u001B[0m     \u001B[1;31m# ignore it here (rather than in the new TracebackException API).\u001B[0m\u001B[1;33m\u001B[0m\u001B[1;33m\u001B[0m\u001B[0m\n\u001B[1;32m--> 120\u001B[1;33m     return list(TracebackException(\n\u001B[0m\u001B[0;32m    121\u001B[0m         type(value), value, tb, limit=limit).format(chain=chain))\n\u001B[0;32m    122\u001B[0m \u001B[1;33m\u001B[0m\u001B[0m\n",
      "\u001B[1;32mC:\\ProgramData\\Anaconda3\\envs\\my_env\\lib\\traceback.py\u001B[0m in \u001B[0;36m__init__\u001B[1;34m(self, exc_type, exc_value, exc_traceback, limit, lookup_lines, capture_locals, _seen)\u001B[0m\n\u001B[0;32m    515\u001B[0m             \u001B[0mexc_value\u001B[0m\u001B[1;33m.\u001B[0m\u001B[0m__suppress_context__\u001B[0m \u001B[1;32mif\u001B[0m \u001B[0mexc_value\u001B[0m \u001B[1;32melse\u001B[0m \u001B[1;32mFalse\u001B[0m\u001B[1;33m\u001B[0m\u001B[1;33m\u001B[0m\u001B[0m\n\u001B[0;32m    516\u001B[0m         \u001B[1;31m# TODO: locals.\u001B[0m\u001B[1;33m\u001B[0m\u001B[1;33m\u001B[0m\u001B[0m\n\u001B[1;32m--> 517\u001B[1;33m         self.stack = StackSummary.extract(\n\u001B[0m\u001B[0;32m    518\u001B[0m             \u001B[0mwalk_tb\u001B[0m\u001B[1;33m(\u001B[0m\u001B[0mexc_traceback\u001B[0m\u001B[1;33m)\u001B[0m\u001B[1;33m,\u001B[0m \u001B[0mlimit\u001B[0m\u001B[1;33m=\u001B[0m\u001B[0mlimit\u001B[0m\u001B[1;33m,\u001B[0m \u001B[0mlookup_lines\u001B[0m\u001B[1;33m=\u001B[0m\u001B[0mlookup_lines\u001B[0m\u001B[1;33m,\u001B[0m\u001B[1;33m\u001B[0m\u001B[1;33m\u001B[0m\u001B[0m\n\u001B[0;32m    519\u001B[0m             capture_locals=capture_locals)\n",
      "\u001B[1;32mC:\\ProgramData\\Anaconda3\\envs\\my_env\\lib\\traceback.py\u001B[0m in \u001B[0;36mextract\u001B[1;34m(klass, frame_gen, limit, lookup_lines, capture_locals)\u001B[0m\n\u001B[0;32m    360\u001B[0m                 filename, lineno, name, lookup_line=False, locals=f_locals))\n\u001B[0;32m    361\u001B[0m         \u001B[1;32mfor\u001B[0m \u001B[0mfilename\u001B[0m \u001B[1;32min\u001B[0m \u001B[0mfnames\u001B[0m\u001B[1;33m:\u001B[0m\u001B[1;33m\u001B[0m\u001B[1;33m\u001B[0m\u001B[0m\n\u001B[1;32m--> 362\u001B[1;33m             \u001B[0mlinecache\u001B[0m\u001B[1;33m.\u001B[0m\u001B[0mcheckcache\u001B[0m\u001B[1;33m(\u001B[0m\u001B[0mfilename\u001B[0m\u001B[1;33m)\u001B[0m\u001B[1;33m\u001B[0m\u001B[1;33m\u001B[0m\u001B[0m\n\u001B[0m\u001B[0;32m    363\u001B[0m         \u001B[1;31m# If immediate lookup was desired, trigger lookups now.\u001B[0m\u001B[1;33m\u001B[0m\u001B[1;33m\u001B[0m\u001B[0m\n\u001B[0;32m    364\u001B[0m         \u001B[1;32mif\u001B[0m \u001B[0mlookup_lines\u001B[0m\u001B[1;33m:\u001B[0m\u001B[1;33m\u001B[0m\u001B[1;33m\u001B[0m\u001B[0m\n",
      "\u001B[1;32mC:\\ProgramData\\Anaconda3\\envs\\my_env\\lib\\site-packages\\IPython\\core\\compilerop.py\u001B[0m in \u001B[0;36mcheck_linecache_ipython\u001B[1;34m(*args)\u001B[0m\n\u001B[0;32m    183\u001B[0m     \"\"\"\n\u001B[0;32m    184\u001B[0m     \u001B[1;31m# First call the original checkcache as intended\u001B[0m\u001B[1;33m\u001B[0m\u001B[1;33m\u001B[0m\u001B[0m\n\u001B[1;32m--> 185\u001B[1;33m     \u001B[0mlinecache\u001B[0m\u001B[1;33m.\u001B[0m\u001B[0m_checkcache_ori\u001B[0m\u001B[1;33m(\u001B[0m\u001B[1;33m*\u001B[0m\u001B[0margs\u001B[0m\u001B[1;33m)\u001B[0m\u001B[1;33m\u001B[0m\u001B[1;33m\u001B[0m\u001B[0m\n\u001B[0m\u001B[0;32m    186\u001B[0m     \u001B[1;31m# Then, update back the cache with our data, so that tracebacks related\u001B[0m\u001B[1;33m\u001B[0m\u001B[1;33m\u001B[0m\u001B[0m\n\u001B[0;32m    187\u001B[0m     \u001B[1;31m# to our compiled codes can be produced.\u001B[0m\u001B[1;33m\u001B[0m\u001B[1;33m\u001B[0m\u001B[0m\n",
      "\u001B[1;32mC:\\ProgramData\\Anaconda3\\envs\\my_env\\lib\\linecache.py\u001B[0m in \u001B[0;36mcheckcache\u001B[1;34m(filename)\u001B[0m\n\u001B[0;32m     70\u001B[0m             \u001B[1;32mcontinue\u001B[0m   \u001B[1;31m# no-op for files loaded via a __loader__\u001B[0m\u001B[1;33m\u001B[0m\u001B[1;33m\u001B[0m\u001B[0m\n\u001B[0;32m     71\u001B[0m         \u001B[1;32mtry\u001B[0m\u001B[1;33m:\u001B[0m\u001B[1;33m\u001B[0m\u001B[1;33m\u001B[0m\u001B[0m\n\u001B[1;32m---> 72\u001B[1;33m             \u001B[0mstat\u001B[0m \u001B[1;33m=\u001B[0m \u001B[0mos\u001B[0m\u001B[1;33m.\u001B[0m\u001B[0mstat\u001B[0m\u001B[1;33m(\u001B[0m\u001B[0mfullname\u001B[0m\u001B[1;33m)\u001B[0m\u001B[1;33m\u001B[0m\u001B[1;33m\u001B[0m\u001B[0m\n\u001B[0m\u001B[0;32m     73\u001B[0m         \u001B[1;32mexcept\u001B[0m \u001B[0mOSError\u001B[0m\u001B[1;33m:\u001B[0m\u001B[1;33m\u001B[0m\u001B[1;33m\u001B[0m\u001B[0m\n\u001B[0;32m     74\u001B[0m             \u001B[0mcache\u001B[0m\u001B[1;33m.\u001B[0m\u001B[0mpop\u001B[0m\u001B[1;33m(\u001B[0m\u001B[0mfilename\u001B[0m\u001B[1;33m,\u001B[0m \u001B[1;32mNone\u001B[0m\u001B[1;33m)\u001B[0m\u001B[1;33m\u001B[0m\u001B[1;33m\u001B[0m\u001B[0m\n",
      "\u001B[1;31mKeyboardInterrupt\u001B[0m: "
     ]
    }
   ],
   "source": [
    "\n",
    "X = df[[day_of_week_column, hour, month_of_year_column,offer_sent,position_column,minutes_since_reg]]\n",
    "y = df[shifted_deltatimes]\n",
    "\n",
    "#define cross-validation method to evaluate model\n",
    "cv = RepeatedKFold(n_splits=10, n_repeats=3, random_state=1)\n",
    "\n",
    "#define model\n",
    "model = RidgeCV(alphas=arange(0, 1, 0.01), cv=cv, scoring='neg_mean_absolute_error')\n",
    "\n",
    "#fit model\n",
    "model.fit(X, y)\n",
    "\n",
    "#display lambda that produced the lowest test MSE\n",
    "print(model.alpha_)\n",
    "\n"
   ],
   "metadata": {
    "collapsed": false,
    "pycharm": {
     "name": "#%%\n"
    }
   }
  },
  {
   "cell_type": "code",
   "execution_count": null,
   "outputs": [],
   "source": [],
   "metadata": {
    "collapsed": false,
    "pycharm": {
     "name": "#%%\n"
    }
   }
  },
  {
   "cell_type": "code",
   "execution_count": null,
   "outputs": [],
   "source": [],
   "metadata": {
    "collapsed": false,
    "pycharm": {
     "name": "#%%\n"
    }
   }
  },
  {
   "cell_type": "code",
   "execution_count": null,
   "outputs": [],
   "source": [],
   "metadata": {
    "collapsed": false,
    "pycharm": {
     "name": "#%%\n"
    }
   }
  },
  {
   "cell_type": "code",
   "execution_count": null,
   "outputs": [],
   "source": [],
   "metadata": {
    "collapsed": false,
    "pycharm": {
     "name": "#%%\n"
    }
   }
  }
 ],
 "metadata": {
  "kernelspec": {
   "display_name": "Python 3",
   "language": "python",
   "name": "python3"
  },
  "language_info": {
   "codemirror_mode": {
    "name": "ipython",
    "version": 2
   },
   "file_extension": ".py",
   "mimetype": "text/x-python",
   "name": "python",
   "nbconvert_exporter": "python",
   "pygments_lexer": "ipython2",
   "version": "2.7.6"
  }
 },
 "nbformat": 4,
 "nbformat_minor": 0
}