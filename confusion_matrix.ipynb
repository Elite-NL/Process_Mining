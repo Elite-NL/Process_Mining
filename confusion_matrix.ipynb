{
 "cells": [
  {
   "cell_type": "code",
   "execution_count": null,
   "id": "ada82849",
   "metadata": {},
   "outputs": [],
   "source": [
    "import pandas as pd\n",
    "import numpy as np\n",
    "import matplotlib.pyplot as plt\n",
    "import seaborn as sns\n",
    "from sklearn.ensemble import RandomForestClassifier\n",
    "from sklearn.metrics import accuracy_score, confusion_matrix, classification_report\n",
    "\n",
    "%matplotlib inline"
   ]
  },
  {
   "cell_type": "code",
   "execution_count": null,
   "id": "923d0200",
   "metadata": {},
   "outputs": [],
   "source": [
    "#make a confusion matrix using the real and predicted values\n",
    "matrix = confusion_matrix(y_true, y_pred)\n",
    "\n",
    "#get the number of predictions per group\n",
    "group_counts = [\"{0:0.0f}\".format(value) for value in matrix.flatten()]\n",
    "\n",
    "#get the percentage of predictions per group\n",
    "group_percentages = [\"{0:.0%}\".format(value) for value in matrix.flatten()/np.sum(matrix)]\n",
    "\n",
    "#create labels for each cell of the heatmap\n",
    "labels = [f\"{v1}\\n{v2}\" for v1, v2 in zip(group_counts,group_percentages)]\n",
    "\n",
    "#reshape into size of the matrix\n",
    "labels = np.asarray(labels).reshape(matrix.shape)\n",
    "\n",
    "#set fig size depending on the size of the matrix\n",
    "plt.figure(figsize=(25,15))\n",
    "\n",
    "#plot the matrix\n",
    "sns.heatmap(matrix/np.sum(matrix), fmt='', annot=labels, annot_kws={'size':16}, linewidths = 0.3\n",
    "            , linecolor = 'white', cbar = True)\n",
    "\n",
    "#set event labels and change color scheme of the matrix\n",
    "#, xticklabels=events, yticklabels=events, cmap=\"YlGnBu\"\n",
    "\n",
    "#set x and y label orinetation and size\n",
    "plt.xticks(rotation=30, horizontalalignment='right', fontsize = 20)\n",
    "plt.yticks(rotation=30, horizontalalignment='right', fontsize = 20)\n",
    "\n",
    "#add labels to the plot\n",
    "plt.xlabel('Predicted label', fontsize=25 )\n",
    "plt.ylabel('True label', fontsize=25)\n",
    "plt.title('Confusion Matrix for Random Forest Model', fontsize=30)\n",
    "\n",
    "plt.savefig('confusion_matrix.png')\n",
    "\n",
    "plt.show()"
   ]
  },
  {
   "cell_type": "code",
   "execution_count": null,
   "id": "53e4b5a6",
   "metadata": {},
   "outputs": [],
   "source": [
    "from sklearn import metrics\n",
    "\n",
    "#summary metrics for the performance of the model\n",
    "print('Mean Absolute Error:', metrics.mean_absolute_error(y_true, y_pred))\n",
    "print('Mean Squared Error:', metrics.mean_squared_error(y_true, y_pred))\n",
    "print('Root Mean Squared Error:', np.sqrt(metrics.mean_squared_error(y_true, y_pred)))\n",
    "print(classification_report(y_true, y_pred))"
   ]
  },
  {
   "cell_type": "code",
   "execution_count": null,
   "id": "6115c002",
   "metadata": {},
   "outputs": [],
   "source": []
  },
  {
   "cell_type": "code",
   "execution_count": null,
   "id": "21f6a404",
   "metadata": {},
   "outputs": [],
   "source": []
  },
  {
   "cell_type": "code",
   "execution_count": null,
   "id": "fd8f2913",
   "metadata": {},
   "outputs": [],
   "source": []
  },
  {
   "cell_type": "code",
   "execution_count": null,
   "id": "219d0450",
   "metadata": {},
   "outputs": [],
   "source": []
  },
  {
   "cell_type": "code",
   "execution_count": null,
   "id": "fccc3240",
   "metadata": {},
   "outputs": [],
   "source": []
  },
  {
   "cell_type": "code",
   "execution_count": null,
   "id": "c096f246",
   "metadata": {},
   "outputs": [],
   "source": []
  },
  {
   "cell_type": "code",
   "execution_count": null,
   "id": "492d4853",
   "metadata": {},
   "outputs": [],
   "source": []
  }
 ],
 "metadata": {
  "kernelspec": {
   "display_name": "Python 3",
   "language": "python",
   "name": "python3"
  },
  "language_info": {
   "codemirror_mode": {
    "name": "ipython",
    "version": 3
   },
   "file_extension": ".py",
   "mimetype": "text/x-python",
   "name": "python",
   "nbconvert_exporter": "python",
   "pygments_lexer": "ipython3",
   "version": "3.8.8"
  }
 },
 "nbformat": 4,
 "nbformat_minor": 5
}
