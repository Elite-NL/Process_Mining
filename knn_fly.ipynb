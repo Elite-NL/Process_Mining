{
 "cells": [
  {
   "cell_type": "code",
   "execution_count": 3,
   "metadata": {
    "collapsed": true
   },
   "outputs": [],
   "source": [
    "### IMPORT PACKAGES ###\n",
    "\n",
    "import pandas as pd\n",
    "import numpy as np\n",
    "\n",
    "import datetime\n",
    "import time\n",
    "from sklearn.neighbors import KNeighborsClassifier"
   ]
  },
  {
   "cell_type": "code",
   "execution_count": 4,
   "outputs": [
    {
     "name": "stderr",
     "output_type": "stream",
     "text": [
      "C:\\ProgramData\\Anaconda3\\lib\\site-packages\\ipykernel_launcher.py:17: SettingWithCopyWarning: \n",
      "A value is trying to be set on a copy of a slice from a DataFrame.\n",
      "Try using .loc[row_indexer,col_indexer] = value instead\n",
      "\n",
      "See the caveats in the documentation: https://pandas.pydata.org/pandas-docs/stable/user_guide/indexing.html#returning-a-view-versus-a-copy\n"
     ]
    }
   ],
   "source": [
    "### IMPORT THE DATA ###\n",
    "df = pd.read_csv('data/BPI_Challenge_2012-training.csv')\n",
    "\n",
    "# select columns of interest\n",
    "instance_column = \"case concept:name\"\n",
    "event_column = \"event concept:name\"\n",
    "timestamp_column = \"event time:timestamp\"\n",
    "additionalInfo = [] # like 'event lifecycle:transition'\n",
    "\n",
    "# putting the columns together and eliminating other columns\n",
    "columns = [instance_column, event_column, timestamp_column]\n",
    "columns.extend(additionalInfo)\n",
    "dataset = df[columns]\n",
    "\n",
    "# adding an index column\n",
    "row_nr_column = 'row_nr'\n",
    "dataset[row_nr_column] = dataset.index\n",
    "\n",
    "# variables\n",
    "timestampFormat = \"%d-%m-%Y %H:%M:%S.%f\""
   ],
   "metadata": {
    "collapsed": false,
    "pycharm": {
     "name": "#%%\n"
    }
   }
  },
  {
   "cell_type": "code",
   "execution_count": 5,
   "outputs": [
    {
     "data": {
      "text/plain": "   case concept:name      event concept:name     event time:timestamp  row_nr\n0             173688             A_SUBMITTED  01-10-2011 00:38:44.546       0\n1             173688       A_PARTLYSUBMITTED  01-10-2011 00:38:44.880       1\n2             173688           A_PREACCEPTED  01-10-2011 00:39:37.906       2\n3             173688  W_Completeren aanvraag  01-10-2011 00:39:38.875       3\n4             173691             A_SUBMITTED  01-10-2011 08:08:58.256       4",
      "text/html": "<div>\n<style scoped>\n    .dataframe tbody tr th:only-of-type {\n        vertical-align: middle;\n    }\n\n    .dataframe tbody tr th {\n        vertical-align: top;\n    }\n\n    .dataframe thead th {\n        text-align: right;\n    }\n</style>\n<table border=\"1\" class=\"dataframe\">\n  <thead>\n    <tr style=\"text-align: right;\">\n      <th></th>\n      <th>case concept:name</th>\n      <th>event concept:name</th>\n      <th>event time:timestamp</th>\n      <th>row_nr</th>\n    </tr>\n  </thead>\n  <tbody>\n    <tr>\n      <th>0</th>\n      <td>173688</td>\n      <td>A_SUBMITTED</td>\n      <td>01-10-2011 00:38:44.546</td>\n      <td>0</td>\n    </tr>\n    <tr>\n      <th>1</th>\n      <td>173688</td>\n      <td>A_PARTLYSUBMITTED</td>\n      <td>01-10-2011 00:38:44.880</td>\n      <td>1</td>\n    </tr>\n    <tr>\n      <th>2</th>\n      <td>173688</td>\n      <td>A_PREACCEPTED</td>\n      <td>01-10-2011 00:39:37.906</td>\n      <td>2</td>\n    </tr>\n    <tr>\n      <th>3</th>\n      <td>173688</td>\n      <td>W_Completeren aanvraag</td>\n      <td>01-10-2011 00:39:38.875</td>\n      <td>3</td>\n    </tr>\n    <tr>\n      <th>4</th>\n      <td>173691</td>\n      <td>A_SUBMITTED</td>\n      <td>01-10-2011 08:08:58.256</td>\n      <td>4</td>\n    </tr>\n  </tbody>\n</table>\n</div>"
     },
     "execution_count": 5,
     "metadata": {},
     "output_type": "execute_result"
    }
   ],
   "source": [
    "# checking the dataset\n",
    "\n",
    "dataset.head()"
   ],
   "metadata": {
    "collapsed": false,
    "pycharm": {
     "name": "#%%\n"
    }
   }
  },
  {
   "cell_type": "code",
   "execution_count": 6,
   "outputs": [
    {
     "name": "stderr",
     "output_type": "stream",
     "text": [
      "C:\\ProgramData\\Anaconda3\\lib\\site-packages\\pandas\\core\\indexing.py:1773: SettingWithCopyWarning: \n",
      "A value is trying to be set on a copy of a slice from a DataFrame.\n",
      "Try using .loc[row_indexer,col_indexer] = value instead\n",
      "\n",
      "See the caveats in the documentation: https://pandas.pydata.org/pandas-docs/stable/user_guide/indexing.html#returning-a-view-versus-a-copy\n",
      "  self._setitem_single_column(ilocs[0], value, pi)\n"
     ]
    }
   ],
   "source": [
    "# sorting by date\n",
    "\n",
    "dataset.loc[:,timestamp_column] = pd.to_datetime(dataset.loc[:,timestamp_column], format=timestampFormat)\n",
    "dataset = dataset.sort_values(by=timestamp_column)"
   ],
   "metadata": {
    "collapsed": false,
    "pycharm": {
     "name": "#%%\n"
    }
   }
  },
  {
   "cell_type": "code",
   "execution_count": 4,
   "outputs": [],
   "source": [
    "### STORAGE ###\n",
    "# we want to keep track of things that happen within one instance (also called trace or case)\n",
    "\n",
    "# instanceStorage stores: key=instance, values= [event_column, timestamp_column],\n",
    "# to look up the previous event in this instance\n",
    "instanceStorage = {}\n",
    "\n",
    "# we also want to keep track of the predictionError\n",
    "# errorStorage stores: key=unique integer, values= [previousEvent, previousTimestamp, predictionError, predictionErrorRatio]\n",
    "errorStorage = {}\n",
    "\n",
    "\n",
    "def updateStorage(case, event, timestamp, row_nr, predicted_event):\n",
    "    \"\"\"\n",
    "    :param case: string; the case_id, so which instance this event belongs to\n",
    "    :param event: string; the id of the event we're evaluating\n",
    "    :param timestamp: pandas datetime; the time of the event that we're evaluating\n",
    "    :param row_nr: int; unique id in the dataset\n",
    "    :param predictedDuration: float; the predicted time for this event\n",
    "    (which you need to store to calculate the error when you know the real time passed when the next event comes in)\n",
    "    :return: previousEvent, timePassed; string, pandas datetime delta;\n",
    "    the id of the previous event and the time that passed since that event, you need this information to update the model\n",
    "    \"\"\"\n",
    "    if case in instanceStorage:\n",
    "\n",
    "        # find the previous event\n",
    "        previous_event = instanceStorage[case][0]\n",
    "\n",
    "        # time related variables\n",
    " #       thisTimestamp = pd.to_datetime(timestamp, format=timestampFormat)\n",
    " #       previousTimestamp = pd.to_datetime(instanceStorage[case][1], format=timestampFormat)\n",
    " #       timePassed = thisTimestamp - previousTimestamp\n",
    "\n",
    "        # add binary column based on time factors, one absolute, one based on current event\n",
    "#        if timePassed >= certain_time:\n",
    "#            something = True\n",
    " #       if timePassed >= scalar * regular_time_for_event\n",
    " #           something_else = True\n",
    "\n",
    "        # since we have also saved the predicted time between the previous event and this event,\n",
    "        # we can now also compute the difference\n",
    " #       if predicted_event != None:\n",
    "\n",
    " #           errorStorage[row_nr] = [previousEvent, previousTimestamp, predictionError, predictionErrorRatio]\n",
    "\n",
    "    # otherwise we don't have a previous event\n",
    "    else:\n",
    "        previous_event = None\n",
    "\n",
    "    # key = instance_column (so which case we're looking at), and the values are the activity and the timestamp\n",
    "    instanceStorage[case] = [event, timestamp]\n",
    "\n",
    "    return previous_event"
   ],
   "metadata": {
    "collapsed": false,
    "pycharm": {
     "name": "#%%\n"
    }
   }
  },
  {
   "cell_type": "code",
   "execution_count": 4,
   "outputs": [],
   "source": [],
   "metadata": {
    "collapsed": false,
    "pycharm": {
     "name": "#%%\n"
    }
   }
  },
  {
   "cell_type": "code",
   "execution_count": 4,
   "outputs": [],
   "source": [],
   "metadata": {
    "collapsed": false,
    "pycharm": {
     "name": "#%%\n"
    }
   }
  },
  {
   "cell_type": "code",
   "execution_count": 4,
   "outputs": [],
   "source": [
    "### THE MODEL ###\n",
    "# We start with only one feature: the historical average time between two events based on the previous event\n",
    "# You don't need a second model for the test set, since you train your model on the training-set and then use it on the test-set\n",
    "\n",
    "predictionModel = {}\n",
    "\n",
    "def getPrediction(event):\n",
    "    \"\"\"\n",
    "    :param event: string; the name of the activity for which you want a prediction of time until the next event\n",
    "    :return: float (or None); predicted time until the next event in this instance, if there is already data on this activity,\n",
    "    otherwise None\n",
    "    \"\"\"\n",
    "\n",
    "    # if this activity is already in the predictionModel, then return the predicted duration\n",
    "    # try & except works slightly faster then if key in dict\n",
    "    # but only for valid keys, since you skip the if statement\n",
    "    try:\n",
    "        return predictionModel[event]\n",
    "\n",
    "    except:\n",
    "        return None"
   ],
   "metadata": {
    "collapsed": false,
    "pycharm": {
     "name": "#%%\n"
    }
   }
  },
  {
   "cell_type": "code",
   "execution_count": null,
   "outputs": [],
   "source": [
    "def UpdateDataset(X_old,row):\n",
    "\n",
    "    i = 0\n",
    "    new_data = {}\n",
    "\n",
    "    if i < 1000:\n",
    "        i += 1\n",
    "\n",
    "        event = row[0]\n",
    "\n",
    "        \n",
    "\n",
    "        new_data[event] = row[instance_column, event_column, timestamp_column, previous_event]\n",
    "\n",
    "\n",
    "    else:\n",
    "\n",
    "        X_old.append(new_data)\n",
    "\n",
    "        i = 0\n",
    "        new_data = [[]]\n",
    "\n",
    "\n",
    "    return X_new"
   ],
   "metadata": {
    "collapsed": false,
    "pycharm": {
     "name": "#%%\n"
    }
   }
  },
  {
   "cell_type": "code",
   "execution_count": 4,
   "outputs": [],
   "source": [
    "def updatePredictionModel(X,): #this_event_id, timePassed, weight_newtimePassed\n",
    "    \"\"\"\n",
    "    :param this_event_id: string; the slicing-id of the current event\n",
    "    :param timePassed: datatime delta; the time between the previous event in this instance and the current event\n",
    "    :param weight_newtimePassed: float; how much weight should the new timePassed have in the update\n",
    "    :return: None\n",
    "    It will update the global variable predictionModel\n",
    "    \"\"\"\n",
    "\n",
    "    'split X and y'\n",
    "\n",
    "    i = 0\n",
    "\n",
    "    if i < 1000:\n",
    "        i += 1\n",
    "    else:\n",
    "        neigh_1 = KNeighborsClassifier(n_neighbors=50)\n",
    "        neigh_1.fit(X, y)\n",
    "\n",
    "\n",
    "\n",
    "\n",
    "\n",
    "\n",
    "    if timePassed != None:\n",
    "\n",
    "        # if this activity is already in the predictionModel, update the model\n",
    "        # try & except works slightly faster then if key in dict\n",
    "        # but only for valid keys, since you skip the if statement\n",
    "        try:\n",
    "            predictionModel[this_event_id] = timePassed*weight_newtimePassed + predictionModel[this_event_id]*(1-weight_newtimePassed)\n",
    "\n",
    "        except:\n",
    "            predictionModel[this_event_id] = timePassed"
   ],
   "metadata": {
    "collapsed": false,
    "pycharm": {
     "name": "#%%\n"
    }
   }
  },
  {
   "cell_type": "code",
   "execution_count": 4,
   "outputs": [],
   "source": [
    "def processEvent(case, event, additional, timestamp, row_nr, includeAdditional=True):"
   ],
   "metadata": {
    "collapsed": false,
    "pycharm": {
     "name": "#%%\n"
    }
   }
  },
  {
   "cell_type": "code",
   "execution_count": 4,
   "outputs": [],
   "source": [],
   "metadata": {
    "collapsed": false,
    "pycharm": {
     "name": "#%%\n"
    }
   }
  },
  {
   "cell_type": "code",
   "execution_count": 4,
   "outputs": [],
   "source": [],
   "metadata": {
    "collapsed": false,
    "pycharm": {
     "name": "#%%\n"
    }
   }
  }
 ],
 "metadata": {
  "kernelspec": {
   "display_name": "Python 3",
   "language": "python",
   "name": "python3"
  },
  "language_info": {
   "codemirror_mode": {
    "name": "ipython",
    "version": 2
   },
   "file_extension": ".py",
   "mimetype": "text/x-python",
   "name": "python",
   "nbconvert_exporter": "python",
   "pygments_lexer": "ipython2",
   "version": "2.7.6"
  }
 },
 "nbformat": 4,
 "nbformat_minor": 0
}