{
 "cells": [
  {
   "cell_type": "code",
   "execution_count": 3,
   "metadata": {
    "collapsed": true
   },
   "outputs": [],
   "source": [
    "### IMPORT PACKAGES ###\n",
    "\n",
    "import pandas as pd\n",
    "import numpy as np\n",
    "\n",
    "import datetime\n",
    "import time\n",
    "from sklearn.neighbors import KNeighborsClassifier"
   ]
  },
  {
   "cell_type": "code",
   "execution_count": 4,
   "outputs": [
    {
     "name": "stderr",
     "output_type": "stream",
     "text": [
      "C:\\ProgramData\\Anaconda3\\lib\\site-packages\\ipykernel_launcher.py:17: SettingWithCopyWarning: \n",
      "A value is trying to be set on a copy of a slice from a DataFrame.\n",
      "Try using .loc[row_indexer,col_indexer] = value instead\n",
      "\n",
      "See the caveats in the documentation: https://pandas.pydata.org/pandas-docs/stable/user_guide/indexing.html#returning-a-view-versus-a-copy\n"
     ]
    }
   ],
   "source": [
    "### IMPORT THE DATA ###\n",
    "df = pd.read_csv('data/BPI_Challenge_2012-training.csv')\n",
    "\n",
    "# select columns of interest\n",
    "instance_column = \"case concept:name\"\n",
    "event_column = \"event concept:name\"\n",
    "timestamp_column = \"event time:timestamp\"\n",
    "additionalInfo = [] # like 'event lifecycle:transition'\n",
    "\n",
    "# putting the columns together and eliminating other columns\n",
    "columns = [instance_column, event_column, timestamp_column]\n",
    "columns.extend(additionalInfo)\n",
    "dataset = df[columns]\n",
    "\n",
    "# adding an index column\n",
    "row_nr_column = 'row_nr'\n",
    "dataset[row_nr_column] = dataset.index\n",
    "\n",
    "# variables\n",
    "timestampFormat = \"%d-%m-%Y %H:%M:%S.%f\""
   ],
   "metadata": {
    "collapsed": false,
    "pycharm": {
     "name": "#%%\n"
    }
   }
  },
  {
   "cell_type": "code",
   "execution_count": 5,
   "outputs": [
    {
     "data": {
      "text/plain": "   case concept:name      event concept:name     event time:timestamp  row_nr\n0             173688             A_SUBMITTED  01-10-2011 00:38:44.546       0\n1             173688       A_PARTLYSUBMITTED  01-10-2011 00:38:44.880       1\n2             173688           A_PREACCEPTED  01-10-2011 00:39:37.906       2\n3             173688  W_Completeren aanvraag  01-10-2011 00:39:38.875       3\n4             173691             A_SUBMITTED  01-10-2011 08:08:58.256       4",
      "text/html": "<div>\n<style scoped>\n    .dataframe tbody tr th:only-of-type {\n        vertical-align: middle;\n    }\n\n    .dataframe tbody tr th {\n        vertical-align: top;\n    }\n\n    .dataframe thead th {\n        text-align: right;\n    }\n</style>\n<table border=\"1\" class=\"dataframe\">\n  <thead>\n    <tr style=\"text-align: right;\">\n      <th></th>\n      <th>case concept:name</th>\n      <th>event concept:name</th>\n      <th>event time:timestamp</th>\n      <th>row_nr</th>\n    </tr>\n  </thead>\n  <tbody>\n    <tr>\n      <th>0</th>\n      <td>173688</td>\n      <td>A_SUBMITTED</td>\n      <td>01-10-2011 00:38:44.546</td>\n      <td>0</td>\n    </tr>\n    <tr>\n      <th>1</th>\n      <td>173688</td>\n      <td>A_PARTLYSUBMITTED</td>\n      <td>01-10-2011 00:38:44.880</td>\n      <td>1</td>\n    </tr>\n    <tr>\n      <th>2</th>\n      <td>173688</td>\n      <td>A_PREACCEPTED</td>\n      <td>01-10-2011 00:39:37.906</td>\n      <td>2</td>\n    </tr>\n    <tr>\n      <th>3</th>\n      <td>173688</td>\n      <td>W_Completeren aanvraag</td>\n      <td>01-10-2011 00:39:38.875</td>\n      <td>3</td>\n    </tr>\n    <tr>\n      <th>4</th>\n      <td>173691</td>\n      <td>A_SUBMITTED</td>\n      <td>01-10-2011 08:08:58.256</td>\n      <td>4</td>\n    </tr>\n  </tbody>\n</table>\n</div>"
     },
     "execution_count": 5,
     "metadata": {},
     "output_type": "execute_result"
    }
   ],
   "source": [
    "# checking the dataset\n",
    "\n",
    "dataset.head()"
   ],
   "metadata": {
    "collapsed": false,
    "pycharm": {
     "name": "#%%\n"
    }
   }
  },
  {
   "cell_type": "code",
   "execution_count": 6,
   "outputs": [
    {
     "name": "stderr",
     "output_type": "stream",
     "text": [
      "C:\\ProgramData\\Anaconda3\\lib\\site-packages\\pandas\\core\\indexing.py:1773: SettingWithCopyWarning: \n",
      "A value is trying to be set on a copy of a slice from a DataFrame.\n",
      "Try using .loc[row_indexer,col_indexer] = value instead\n",
      "\n",
      "See the caveats in the documentation: https://pandas.pydata.org/pandas-docs/stable/user_guide/indexing.html#returning-a-view-versus-a-copy\n",
      "  self._setitem_single_column(ilocs[0], value, pi)\n"
     ]
    }
   ],
   "source": [
    "# sorting by date\n",
    "\n",
    "dataset.loc[:,timestamp_column] = pd.to_datetime(dataset.loc[:,timestamp_column], format=timestampFormat)\n",
    "dataset = dataset.sort_values(by=timestamp_column)"
   ],
   "metadata": {
    "collapsed": false,
    "pycharm": {
     "name": "#%%\n"
    }
   }
  },
  {
   "cell_type": "code",
   "execution_count": 4,
   "outputs": [],
   "source": [
    "### STORAGE ###\n",
    "# we want to keep track of things that happen within one instance (also called trace or case)\n",
    "\n",
    "# instanceStorage stores: key=instance, values= [event_column, timestamp_column],\n",
    "# to look up the previous event in this instance\n",
    "instanceStorage = {}\n",
    "\n",
    "# we also want to keep track of the predictionError\n",
    "# errorStorage stores: key=unique integer, values= [previousEvent, previousTimestamp, predictionError, predictionErrorRatio]\n",
    "errorStorage = {}\n",
    "\n",
    "\n",
    "def updateStorage(case, event, timestamp, row_nr, predicted_event):\n",
    "    # if this instance is already in the instanceStorage, we have a previous event\n",
    "    if case in instanceStorage:\n",
    "\n",
    "        # find the previous event\n",
    "        previousEvent = instanceStorage[case]\n",
    "\n",
    "        # time related variables\n",
    "        thisTimestamp = pd.to_datetime(timestamp, format=timestampFormat)\n",
    "        previousTimestamp = pd.to_datetime(instanceStorage[case][1], format=timestampFormat)\n",
    "        timePassed = thisTimestamp - previousTimestamp\n",
    "        \n",
    "        if timePassed >= certain_time:\n",
    "            something = True\n",
    "        if timePassed >= scalar * regular_time_for_event\n",
    "            something_else = True\n",
    "\n",
    "        # event related variables\n",
    "        this_event = event\n",
    "        previous_event = instanceStorage[case][0]\n",
    "\n",
    "        # since we have also saved the predicted time between the previous event and this event,\n",
    "        # we can now also compute the difference\n",
    "        if predicted_event != None:\n",
    "\n",
    "            errorStorage[row_nr] = [previousEvent, previousTimestamp, predictionError, predictionErrorRatio]\n",
    "\n",
    "    # otherwise we don't have a previous event\n",
    "    else:\n",
    "        previousEvent = None\n",
    "        timePassed = None\n",
    "\n",
    "    # key = instance_column (so which case we're looking at), and the values are the activity and the timestamp\n",
    "    instanceStorage[case] = [event, timestamp]\n",
    "\n",
    "    return previousEvent, timePassed\n",
    "\n",
    "\n",
    "instanceStorage"
   ],
   "metadata": {
    "collapsed": false,
    "pycharm": {
     "name": "#%%\n"
    }
   }
  },
  {
   "cell_type": "code",
   "execution_count": 4,
   "outputs": [],
   "source": [],
   "metadata": {
    "collapsed": false,
    "pycharm": {
     "name": "#%%\n"
    }
   }
  },
  {
   "cell_type": "code",
   "execution_count": 4,
   "outputs": [],
   "source": [],
   "metadata": {
    "collapsed": false,
    "pycharm": {
     "name": "#%%\n"
    }
   }
  },
  {
   "cell_type": "code",
   "execution_count": 4,
   "outputs": [],
   "source": [],
   "metadata": {
    "collapsed": false,
    "pycharm": {
     "name": "#%%\n"
    }
   }
  },
  {
   "cell_type": "code",
   "execution_count": 4,
   "outputs": [],
   "source": [],
   "metadata": {
    "collapsed": false,
    "pycharm": {
     "name": "#%%\n"
    }
   }
  },
  {
   "cell_type": "code",
   "execution_count": 4,
   "outputs": [],
   "source": [],
   "metadata": {
    "collapsed": false,
    "pycharm": {
     "name": "#%%\n"
    }
   }
  },
  {
   "cell_type": "code",
   "execution_count": 4,
   "outputs": [],
   "source": [],
   "metadata": {
    "collapsed": false,
    "pycharm": {
     "name": "#%%\n"
    }
   }
  },
  {
   "cell_type": "code",
   "execution_count": 4,
   "outputs": [],
   "source": [],
   "metadata": {
    "collapsed": false,
    "pycharm": {
     "name": "#%%\n"
    }
   }
  }
 ],
 "metadata": {
  "kernelspec": {
   "display_name": "Python 3",
   "language": "python",
   "name": "python3"
  },
  "language_info": {
   "codemirror_mode": {
    "name": "ipython",
    "version": 2
   },
   "file_extension": ".py",
   "mimetype": "text/x-python",
   "name": "python",
   "nbconvert_exporter": "python",
   "pygments_lexer": "ipython2",
   "version": "2.7.6"
  }
 },
 "nbformat": 4,
 "nbformat_minor": 0
}