{
 "cells": [
  {
   "cell_type": "code",
   "execution_count": 1,
   "metadata": {
    "collapsed": true
   },
   "outputs": [],
   "source": [
    "### IMPORT PACKAGES ###\n",
    "\n",
    "import pandas as pd\n",
    "import numpy as np\n",
    "\n",
    "# to make pretty plots\n",
    "import plotly\n",
    "import plotly.express as px\n",
    "import plotly.graph_objects as go\n",
    "\n",
    "# to play with time :-)\n",
    "import datetime\n",
    "import time"
   ]
  },
  {
   "cell_type": "code",
   "execution_count": 68,
   "metadata": {},
   "outputs": [],
   "source": [
    "# This notebook can be run separately from the deliverable tool.\n",
    "#if (('df' not in globals()) or ('df_test' not in globals())):\n",
    "    ### IMPORT THE DATA ###\n",
    "df = pd.read_csv('data/BPI_Challenge_2012-training.csv')\n",
    "df_test = pd.read_csv('data/BPI_Challenge_2012-test.csv')\n",
    "\n",
    "# Defining database-specific variables\n",
    "case_column = \"case concept:name\"\n",
    "event_column = \"event concept:name\"\n",
    "timestamp_column = \"event time:timestamp\"\n",
    "timeformat_timestamp = \"%d-%m-%Y %H:%M:%S.%f\"\n",
    "lifecycle_column = 'event lifecycle:transition'\n",
    "amount_column = 'case AMOUNT_REQ'\n",
    "df[amount_column] = [round(x,-4) for x in df[amount_column]]\n",
    "df_test[amount_column] = [round(x,-4) for x in df_test[amount_column]]\n",
    "#df[event_column] = [x if x!='A_SUBMITTED' else 'End_case/Begin_case' for x in df[event_column]]"
   ]
  },
  {
   "cell_type": "code",
   "execution_count": 114,
   "outputs": [
    {
     "data": {
      "text/plain": "0.014631469853075656"
     },
     "execution_count": 114,
     "metadata": {},
     "output_type": "execute_result"
    }
   ],
   "source": [
    "480/sum(df[df[amount_column]>20000].sort_values([case_column,timestamp_column])[event_column].value_counts())"
   ],
   "metadata": {
    "collapsed": false,
    "pycharm": {
     "name": "#%%\n"
    }
   }
  },
  {
   "cell_type": "code",
   "execution_count": 117,
   "outputs": [
    {
     "data": {
      "text/plain": "W_Nabellen offertes               7096\nW_Completeren aanvraag            6627\nW_Nabellen incomplete dossiers    3810\nW_Valideren aanvraag              3009\nW_Afhandelen leads                1731\nA_SUBMITTED                       1273\nA_PARTLYSUBMITTED                 1273\nA_PREACCEPTED                      904\nO_SELECTED                         897\nO_CREATED                          897\nO_SENT                             897\nA_DECLINED                         651\nA_ACCEPTED                         611\nA_FINALIZED                        596\nO_CANCELLED                        514\nO_SENT_BACK                        441\nA_CANCELLED                        359\nA_APPROVED                         257\nA_ACTIVATED                        257\nA_REGISTERED                       257\nO_ACCEPTED                         257\nO_DECLINED                         120\nW_Beoordelen fraude                 71\nW_Wijzigen contractgegevens          1\nName: event concept:name, dtype: int64"
     },
     "execution_count": 117,
     "metadata": {},
     "output_type": "execute_result"
    }
   ],
   "source": [
    "df[df[amount_column]>20000].sort_values([case_column,timestamp_column])[event_column].value_counts()W_Completeren aanvraag"
   ],
   "metadata": {
    "collapsed": false,
    "pycharm": {
     "name": "#%%\n"
    }
   }
  },
  {
   "cell_type": "code",
   "execution_count": 70,
   "metadata": {
    "collapsed": false,
    "pycharm": {
     "name": "#%%\n"
    }
   },
   "outputs": [
    {
     "name": "stdout",
     "output_type": "stream",
     "text": [
      "   case concept:name      event concept:name event lifecycle:transition  \\\n",
      "0             173688             A_SUBMITTED                   COMPLETE   \n",
      "1             173688       A_PARTLYSUBMITTED                   COMPLETE   \n",
      "2             173688           A_PREACCEPTED                   COMPLETE   \n",
      "3             173688  W_Completeren aanvraag                   SCHEDULE   \n",
      "4             173691             A_SUBMITTED                   COMPLETE   \n",
      "\n",
      "   case AMOUNT_REQ     event time:timestamp  row_nr  \n",
      "0            20000  01-10-2011 00:38:44.546       0  \n",
      "1            20000  01-10-2011 00:38:44.880       1  \n",
      "2            20000  01-10-2011 00:39:37.906       2  \n",
      "3            20000  01-10-2011 00:39:38.875       3  \n",
      "4                0  01-10-2011 08:08:58.256       4  \n",
      "{'A_SUBMITTED': 0, 'A_PARTLYSUBMITTED': 0, 'A_PREACCEPTED': 0, 'W_Completeren aanvraag': 0, 'A_DECLINED': 0, 'W_Afhandelen leads': 0, 'A_ACCEPTED': 0, 'O_SELECTED': 0, 'A_FINALIZED': 0, 'O_CREATED': 0, 'O_SENT': 0, 'W_Nabellen offertes': 0, 'O_CANCELLED': 0, 'A_CANCELLED': 0, 'W_Beoordelen fraude': 0, 'O_SENT_BACK': 0, 'W_Valideren aanvraag': 0, 'W_Nabellen incomplete dossiers': 0, 'O_ACCEPTED': 0, 'A_APPROVED': 0, 'A_ACTIVATED': 0, 'A_REGISTERED': 0, 'O_DECLINED': 0, 'W_Wijzigen contractgegevens': 0}\n"
     ]
    },
    {
     "name": "stderr",
     "output_type": "stream",
     "text": [
      "C:\\Users\\20203666\\AppData\\Local\\Temp/ipykernel_10464/31932527.py:26: SettingWithCopyWarning: \n",
      "A value is trying to be set on a copy of a slice from a DataFrame.\n",
      "Try using .loc[row_indexer,col_indexer] = value instead\n",
      "\n",
      "See the caveats in the documentation: https://pandas.pydata.org/pandas-docs/stable/user_guide/indexing.html#returning-a-view-versus-a-copy\n",
      "  dataset[row_nr_column] = dataset.index\n",
      "C:\\Users\\20203666\\AppData\\Local\\Temp/ipykernel_10464/31932527.py:27: SettingWithCopyWarning: \n",
      "A value is trying to be set on a copy of a slice from a DataFrame.\n",
      "Try using .loc[row_indexer,col_indexer] = value instead\n",
      "\n",
      "See the caveats in the documentation: https://pandas.pydata.org/pandas-docs/stable/user_guide/indexing.html#returning-a-view-versus-a-copy\n",
      "  dataset_test[row_nr_column] = dataset_test.index\n"
     ]
    }
   ],
   "source": [
    "row_nr_column = 'row_nr'\n",
    "additionalInfo = ['event lifecycle:transition']\n",
    "\n",
    "# do you want any error plots?\n",
    "printPlots = False\n",
    "# do you want to write the plots to html?\n",
    "writePlots = False\n",
    "\n",
    "\n",
    "# events that are influenced by concurency\n",
    "eventList = ['A_SUBMITTED', 'A_PARTLYSUBMITTED', 'A_PREACCEPTED', 'O_SELECTED', 'A_FINALIZED', 'O_ACCEPTED']\n",
    "\n",
    "# variables\n",
    "weight_newtimePassed = 0.1\n",
    "\n",
    "# make a list of the columns you need\n",
    "columns = [case_column, event_column, lifecycle_column, amount_column, timestamp_column]\n",
    "#columns.extend(additionalInfo)\n",
    "all_events_dict = {}\n",
    "for event in list(df[event_column].unique()):\n",
    "    all_events_dict[event] = 0\n",
    "\n",
    "# you can get rid of all the other columns, to make things faster\n",
    "dataset = df[columns]\n",
    "dataset_test = df_test[columns]\n",
    "dataset[row_nr_column] = dataset.index\n",
    "dataset_test[row_nr_column] = dataset_test.index\n",
    "\n",
    "print(dataset.head())\n",
    "print(all_events_dict)"
   ]
  },
  {
   "cell_type": "code",
   "execution_count": 71,
   "metadata": {
    "collapsed": false,
    "pycharm": {
     "name": "#%%\n"
    }
   },
   "outputs": [
    {
     "name": "stderr",
     "output_type": "stream",
     "text": [
      "C:\\ProgramData\\Anaconda3\\envs\\my_env\\lib\\site-packages\\pandas\\core\\indexing.py:1773: SettingWithCopyWarning: \n",
      "A value is trying to be set on a copy of a slice from a DataFrame.\n",
      "Try using .loc[row_indexer,col_indexer] = value instead\n",
      "\n",
      "See the caveats in the documentation: https://pandas.pydata.org/pandas-docs/stable/user_guide/indexing.html#returning-a-view-versus-a-copy\n",
      "  self._setitem_single_column(ilocs[0], value, pi)\n"
     ]
    }
   ],
   "source": [
    "### ON THE FLY ###\n",
    "# This has two practical implications that we should be aware of\n",
    "# 1) You can't preprocess the data, when a new event comes in, you have to be able to process it on the spot\n",
    "# 2) You don't have any historical data, so your predictions can only rely on the things you have seen before\n",
    "\n",
    "# This means that the data needs to be sorted on timestamp_column\n",
    "# you need to first convert to a datetime, because otherwise you'll sort the strings\n",
    "# and since the day of the month is the first part of the string, you will first get all firsts of all months, etc.\n",
    "dataset.loc[:,timestamp_column] = pd.to_datetime(dataset.loc[:,timestamp_column], format=timeformat_timestamp)\n",
    "dataset = dataset.sort_values(by=timestamp_column)\n",
    "\n",
    "dataset_test.loc[:,timestamp_column] = pd.to_datetime(dataset_test.loc[:,timestamp_column], format=timeformat_timestamp)\n",
    "dataset_test = dataset_test.sort_values(by=timestamp_column)"
   ]
  },
  {
   "cell_type": "code",
   "execution_count": 72,
   "outputs": [
    {
     "data": {
      "text/plain": "'Nonek'"
     },
     "execution_count": 72,
     "metadata": {},
     "output_type": "execute_result"
    }
   ],
   "source": [
    "s = {'error':-1, 'ok':1}\n",
    "max(s, key=s.get)\n",
    "str('None')+'k'"
   ],
   "metadata": {
    "collapsed": false,
    "pycharm": {
     "name": "#%%\n"
    }
   }
  },
  {
   "cell_type": "code",
   "execution_count": 159,
   "metadata": {
    "collapsed": false,
    "pycharm": {
     "name": "#%%\n"
    }
   },
   "outputs": [],
   "source": [
    "### STORAGE ###\n",
    "# we want to keep track of things that happen within one instance (also called trace or case)\n",
    "\n",
    "# instanceStorage stores: key=instance, values= [event_column, timestamp_column, predictedDuration],\n",
    "# to look up the previous event in this instance, and it's predicted TimePassed\n",
    "instanceStorage = {}\n",
    "\n",
    "# we also want to keep track of the predictionError\n",
    "# errorStorage stores: key=unique integer, values= [previousEvent, previousTimestamp, predictionError, predictionErrorRatio, predictedTimePassed, timePassed]\n",
    "errorStorage = {}\n",
    "\n",
    "predictionError = 0\n",
    "predictionErrorRatio=0\n",
    "# we also want to add a log feature => we don't have to save this seperatly, just needed to check if having it makes sense.\n",
    "# how many events of the same activty are running at the same time might be interesting\n",
    "# concurentEvents = {}\n",
    "\n",
    "def updateStorage(case, event, row_nr, amount, predictionError):\n",
    "\n",
    "\n",
    "    # if this instance is already in the instanceStorage, we have a previous event\n",
    "    if case in instanceStorage:\n",
    "\n",
    "        # find the previous event\n",
    "        previousEvent = instanceStorage[case][0]\n",
    "        previousLifecycle = instanceStorage[case][4]\n",
    "        predictedEvent = instanceStorage[case][7]\n",
    "        previousEvent_id = instanceStorage[case][2]\n",
    "\n",
    "\n",
    "\n",
    "        if predictedEvent == event:\n",
    "            predictionError +=1\n",
    "\n",
    "\n",
    "\n",
    "\n",
    "        # this is the rownumber of the current event, not of the previous one, but that doesn't matter,\n",
    "        # I only need a unique key\n",
    "        errorStorage[row_nr] = [previousEvent, previousLifecycle, predictionError,predictedEvent, event]\n",
    "\n",
    "    # otherwise we don't have a previous event\n",
    "    else:\n",
    "        previousEvent = None\n",
    "        previousEvent_id = None\n",
    "        previousLifecycle = None\n",
    "    event_id = str(event)+'_XX_'+str(amount)+'_XX_'+str(previousEvent)+'_XX_'+str(previousLifecycle)\n",
    "\n",
    "\n",
    "    # key = case_column (so which case we're looking at), and the values are the activity and the timestamp\n",
    "    #instanceStorage[case] = [event, previousEvent, event_id, previousEvent_id, lifecycle, previousLifecycle, amount, predictedEvent]\n",
    "\n",
    "\n",
    "    # update concurentEvents -> I only used this once to be able to make pretty plots showing if it would have effect or not\n",
    "    # howManyConcurentEvents = [x[0] for x in instanceStorage.values()].count(previousEvent)\n",
    "    # concurentEvents[row_nr] = [previousEvent, howManyConcurentEvents, timePassed, row_nr]\n",
    "\n",
    "    return previousEvent, previousEvent_id, previousLifecycle, event_id\n",
    "\n"
   ]
  },
  {
   "cell_type": "code",
   "execution_count": 186,
   "metadata": {
    "collapsed": false,
    "pycharm": {
     "name": "#%%\n"
    }
   },
   "outputs": [],
   "source": [
    "### THE MODEL ###\n",
    "# We start with only one feature: the historical average time between two events based on the previous event\n",
    "# You don't need a second model for the test set, since you train your model on the training-set and then use it on the test-set\n",
    "\n",
    "predictionModel = {}\n",
    "\n",
    "def getPrediction(event_id):\n",
    "    \"\"\"\n",
    "\n",
    "    \"\"\"\n",
    "\n",
    "    # if this activity is already in the predictionModel, then return the predicted duration\n",
    "    # try & except works slightly faster then if key in dict\n",
    "    # but only for valid keys, since you skip the if statement\n",
    "    try:\n",
    "        return max(predictionModel[event_id],key=predictionModel[event_id].get)\n",
    "\n",
    "    except:\n",
    "        return 'W_Nabellen offertes'\n",
    "\n",
    "\n",
    "\n",
    "def updatePredictionModel(this_event_id, event):\n",
    "    \"\"\"\n",
    "\n",
    "    \"\"\"\n",
    "    all_events_dict={'A_SUBMITTED': 0, 'A_PARTLYSUBMITTED': 0, 'A_PREACCEPTED': 0, 'W_Completeren aanvraag': 0, 'A_DECLINED': 0, 'W_Afhandelen leads': 0, 'A_ACCEPTED': 0, 'O_SELECTED': 0, 'A_FINALIZED': 0, 'O_CREATED': 0, 'O_SENT': 0, 'W_Nabellen offertes': 0, 'O_CANCELLED': 0, 'A_CANCELLED': 0, 'W_Beoordelen fraude': 0, 'O_SENT_BACK': 0, 'W_Valideren aanvraag': 0, 'W_Nabellen incomplete dossiers': 0, 'O_ACCEPTED': 0, 'A_APPROVED': 0, 'A_ACTIVATED': 0, 'A_REGISTERED': 0, 'O_DECLINED': 0, 'W_Wijzigen contractgegevens': 0, 'End_of_case':0}\n",
    "\n",
    "    if this_event_id != None:\n",
    "\n",
    "        # if this activity is already in the predictionModel, update the model\n",
    "        # try & except works slightly faster then if key in dict\n",
    "        # but only for valid keys, since you skip the if statement\n",
    "        try:\n",
    "            predictionModel[this_event_id][event] +=1\n",
    "\n",
    "        except:\n",
    "            predictionModel[this_event_id] = all_events_dict\n",
    "            predictionModel[this_event_id][event] +=1\n",
    "\n"
   ]
  },
  {
   "cell_type": "code",
   "execution_count": 187,
   "metadata": {
    "collapsed": false,
    "pycharm": {
     "name": "#%%\n"
    }
   },
   "outputs": [
    {
     "name": "stdout",
     "output_type": "stream",
     "text": [
      "dict: Elapsed time during the whole program in seconds: 1.34375\n"
     ]
    }
   ],
   "source": [
    "### RUNNING THE MODEL ###\n",
    "# We have to run the model line by line, we can't do things in parallel, otherwise it's not on the fly\n",
    "\n",
    "def processEvent(case, event, amount, lifecycle, row_nr):\n",
    "    \"\"\"\n",
    "\n",
    "    \"\"\"\n",
    "\n",
    "    # step 1: preProcess the incoming event -> create an event_id that indicates the dataSlice that you want to use\n",
    "    # The event-id is where you want to slice the data on before you take the average timePassed\n",
    "    # If you don't want to include any additional information, this is just the event itself\n",
    "    # otherwise include it in the event_id to make sure that you slice on everything you want to slice on\n",
    "\n",
    "\n",
    "\n",
    "\n",
    "    # step 2: predict\n",
    "    # look up if this event is already in predictionModel\n",
    "    # if it is, use the predictedDuration as current prediction\n",
    "    # otherwise predict: unknown\n",
    "    previousEvent, previousEvent_id, previousLifecycle, event_id = updateStorage(case, event, row_nr, amount, predictionError)\n",
    "    predictedEvent = getPrediction(event_id)\n",
    "\n",
    "    # step 3: loop up historical data\n",
    "    # you only know things of the past, so you want to check if there is a previous event in the instanceStorage\n",
    "    # if there is, you can calculate the duration between that event and this one\n",
    "    #case, event, event_id, row_nr, predictedEvent, amount, predictionError\n",
    "\n",
    "    instanceStorage[case] = [event, previousEvent, event_id, previousEvent_id, lifecycle, previousLifecycle, amount, predictedEvent]\n",
    "    # step 4: update predictionModel\n",
    "    #this_event_id, previousEvent, event\n",
    "    updatePredictionModel(previousEvent_id, event)\n",
    "\n",
    "\n",
    "\n",
    "### Run over all lines =>\n",
    "# let's first do a simple for-loop, maybe I can improve the running time by using .apply later on\n",
    "#mini_dataset = dataset.loc[0:1000, :]\n",
    "#print(mini_dataset)\n",
    "# Start the stopwatch / counter\n",
    "\n",
    "# Start the stopwatch / counter\n",
    "start_time = time.process_time()\n",
    "\n",
    "# running the on-the-fly model for each row\n",
    "# I have tested it, ... for ... in ... does iterate over all events in order\n",
    "# so we're not using information from the future.\n",
    "[processEvent(case, event, amount, lifecycle, row_nr) for case, event, amount, lifecycle, row_nr in zip(dataset[case_column],dataset[event_column], dataset[amount_column], dataset[lifecycle_column], dataset[row_nr_column])]\n",
    "\n",
    "# Stop the stopwatch / counter\n",
    "end_time = time.process_time()\n",
    "\n",
    "print(\"dict: Elapsed time during the whole program in seconds:\", end_time-start_time)\n"
   ]
  },
  {
   "cell_type": "code",
   "execution_count": 188,
   "outputs": [
    {
     "name": "stdout",
     "output_type": "stream",
     "text": [
      "train accuracy:0.8223923275351367\n"
     ]
    }
   ],
   "source": [
    "count=0\n",
    "for i in errorStorage.values():\n",
    "    count+=i[2]\n",
    "len_set = max(errorStorage.keys())+1\n",
    "print(f'train accuracy:{count/len_set}')\n"
   ],
   "metadata": {
    "collapsed": false,
    "pycharm": {
     "name": "#%%\n"
    }
   }
  },
  {
   "cell_type": "code",
   "execution_count": 191,
   "outputs": [
    {
     "data": {
      "text/plain": "{1: ['A_SUBMITTED', 'COMPLETE', 0, 'W_Nabellen offertes', 'A_PARTLYSUBMITTED'],\n 2: ['A_PARTLYSUBMITTED',\n  'COMPLETE',\n  0,\n  'W_Nabellen offertes',\n  'A_PREACCEPTED'],\n 3: ['A_PREACCEPTED',\n  'COMPLETE',\n  0,\n  'W_Nabellen offertes',\n  'W_Completeren aanvraag'],\n 5: ['A_SUBMITTED', 'COMPLETE', 0, 'W_Nabellen offertes', 'A_PARTLYSUBMITTED'],\n 6: ['A_PARTLYSUBMITTED',\n  'COMPLETE',\n  0,\n  'W_Nabellen offertes',\n  'A_PREACCEPTED'],\n 7: ['A_PREACCEPTED',\n  'COMPLETE',\n  0,\n  'W_Nabellen offertes',\n  'W_Completeren aanvraag'],\n 9: ['A_SUBMITTED', 'COMPLETE', 0, 'W_Nabellen offertes', 'A_PARTLYSUBMITTED'],\n 11: ['A_SUBMITTED',\n  'COMPLETE',\n  0,\n  'W_Nabellen offertes',\n  'A_PARTLYSUBMITTED'],\n 12: ['A_PARTLYSUBMITTED',\n  'COMPLETE',\n  0,\n  'W_Nabellen offertes',\n  'A_PREACCEPTED'],\n 13: ['A_PREACCEPTED',\n  'COMPLETE',\n  0,\n  'W_Nabellen offertes',\n  'W_Completeren aanvraag'],\n 14: ['A_PARTLYSUBMITTED', 'COMPLETE', 0, 'A_PREACCEPTED', 'A_DECLINED'],\n 16: ['A_SUBMITTED',\n  'COMPLETE',\n  0,\n  'W_Nabellen offertes',\n  'A_PARTLYSUBMITTED'],\n 17: ['A_PARTLYSUBMITTED', 'COMPLETE', 0, 'A_PREACCEPTED', 'A_DECLINED'],\n 19: ['A_SUBMITTED',\n  'COMPLETE',\n  0,\n  'W_Nabellen offertes',\n  'A_PARTLYSUBMITTED'],\n 21: ['A_SUBMITTED',\n  'COMPLETE',\n  0,\n  'W_Nabellen offertes',\n  'A_PARTLYSUBMITTED'],\n 22: ['A_PARTLYSUBMITTED', 'COMPLETE', 1, 'A_PREACCEPTED', 'A_PREACCEPTED'],\n 23: ['A_PARTLYSUBMITTED',\n  'COMPLETE',\n  0,\n  'A_PREACCEPTED',\n  'W_Afhandelen leads'],\n 24: ['A_PREACCEPTED',\n  'COMPLETE',\n  1,\n  'W_Completeren aanvraag',\n  'W_Completeren aanvraag'],\n 26: ['A_SUBMITTED',\n  'COMPLETE',\n  0,\n  'W_Nabellen offertes',\n  'A_PARTLYSUBMITTED'],\n 27: ['A_PARTLYSUBMITTED', 'COMPLETE', 1, 'A_PREACCEPTED', 'A_PREACCEPTED'],\n 28: ['A_PREACCEPTED',\n  'COMPLETE',\n  1,\n  'W_Completeren aanvraag',\n  'W_Completeren aanvraag'],\n 30: ['A_SUBMITTED',\n  'COMPLETE',\n  0,\n  'W_Nabellen offertes',\n  'A_PARTLYSUBMITTED'],\n 31: ['A_PARTLYSUBMITTED',\n  'COMPLETE',\n  0,\n  'W_Nabellen offertes',\n  'W_Afhandelen leads'],\n 33: ['A_SUBMITTED',\n  'COMPLETE',\n  0,\n  'W_Nabellen offertes',\n  'A_PARTLYSUBMITTED'],\n 34: ['A_PARTLYSUBMITTED',\n  'COMPLETE',\n  0,\n  'W_Nabellen offertes',\n  'A_PREACCEPTED'],\n 35: ['A_PREACCEPTED',\n  'COMPLETE',\n  0,\n  'W_Nabellen offertes',\n  'W_Completeren aanvraag'],\n 36: ['W_Afhandelen leads',\n  'SCHEDULE',\n  0,\n  'W_Nabellen offertes',\n  'W_Afhandelen leads'],\n 37: ['W_Afhandelen leads',\n  'START',\n  0,\n  'W_Nabellen offertes',\n  'A_PREACCEPTED'],\n 38: ['A_PREACCEPTED',\n  'COMPLETE',\n  0,\n  'W_Nabellen offertes',\n  'W_Completeren aanvraag'],\n 39: ['W_Completeren aanvraag',\n  'SCHEDULE',\n  0,\n  'W_Nabellen offertes',\n  'W_Afhandelen leads'],\n 40: ['W_Afhandelen leads',\n  'SCHEDULE',\n  0,\n  'W_Nabellen offertes',\n  'W_Afhandelen leads'],\n 41: ['W_Afhandelen leads',\n  'START',\n  0,\n  'W_Nabellen offertes',\n  'A_PREACCEPTED'],\n 42: ['A_PREACCEPTED',\n  'COMPLETE',\n  0,\n  'W_Nabellen offertes',\n  'W_Completeren aanvraag'],\n 43: ['W_Completeren aanvraag',\n  'SCHEDULE',\n  0,\n  'W_Nabellen offertes',\n  'W_Afhandelen leads'],\n 44: ['W_Completeren aanvraag',\n  'SCHEDULE',\n  0,\n  'W_Nabellen offertes',\n  'W_Completeren aanvraag'],\n 45: ['W_Completeren aanvraag',\n  'START',\n  0,\n  'W_Nabellen offertes',\n  'W_Completeren aanvraag'],\n 47: ['A_SUBMITTED', 'COMPLETE', 1, 'A_PARTLYSUBMITTED', 'A_PARTLYSUBMITTED'],\n 48: ['A_PARTLYSUBMITTED', 'COMPLETE', 1, 'A_PREACCEPTED', 'A_PREACCEPTED'],\n 49: ['A_PREACCEPTED',\n  'COMPLETE',\n  1,\n  'W_Completeren aanvraag',\n  'W_Completeren aanvraag'],\n 50: ['W_Completeren aanvraag',\n  'SCHEDULE',\n  0,\n  'W_Afhandelen leads',\n  'W_Completeren aanvraag'],\n 51: ['W_Completeren aanvraag',\n  'START',\n  0,\n  'W_Nabellen offertes',\n  'A_ACCEPTED'],\n 52: ['A_ACCEPTED', 'COMPLETE', 0, 'W_Nabellen offertes', 'O_SELECTED'],\n 53: ['O_SELECTED', 'COMPLETE', 0, 'W_Nabellen offertes', 'A_FINALIZED'],\n 54: ['A_FINALIZED', 'COMPLETE', 0, 'W_Nabellen offertes', 'O_CREATED'],\n 55: ['O_CREATED', 'COMPLETE', 0, 'W_Nabellen offertes', 'O_SENT'],\n 56: ['O_SENT', 'COMPLETE', 1, 'W_Nabellen offertes', 'W_Nabellen offertes'],\n 57: ['W_Nabellen offertes',\n  'SCHEDULE',\n  0,\n  'W_Nabellen offertes',\n  'W_Completeren aanvraag'],\n 58: ['W_Completeren aanvraag',\n  'COMPLETE',\n  1,\n  'W_Nabellen offertes',\n  'W_Nabellen offertes'],\n 59: ['W_Nabellen offertes',\n  'START',\n  1,\n  'W_Nabellen offertes',\n  'W_Nabellen offertes'],\n 60: ['W_Nabellen offertes',\n  'COMPLETE',\n  1,\n  'W_Nabellen offertes',\n  'W_Nabellen offertes'],\n 61: ['W_Nabellen offertes', 'START', 0, 'W_Nabellen offertes', 'O_SELECTED'],\n 62: ['O_SELECTED', 'COMPLETE', 0, 'W_Nabellen offertes', 'O_CANCELLED'],\n 63: ['O_CANCELLED', 'COMPLETE', 0, 'W_Nabellen offertes', 'O_CREATED'],\n 64: ['O_CREATED', 'COMPLETE', 0, 'W_Nabellen offertes', 'O_SENT'],\n 65: ['O_SENT', 'COMPLETE', 1, 'W_Nabellen offertes', 'W_Nabellen offertes'],\n 66: ['W_Nabellen offertes',\n  'SCHEDULE',\n  0,\n  'W_Completeren aanvraag',\n  'W_Nabellen offertes'],\n 67: ['W_Nabellen offertes',\n  'COMPLETE',\n  1,\n  'W_Nabellen offertes',\n  'W_Nabellen offertes'],\n 68: ['W_Nabellen offertes', 'START', 0, 'O_SELECTED', 'W_Nabellen offertes'],\n 69: ['W_Nabellen offertes',\n  'COMPLETE',\n  1,\n  'W_Nabellen offertes',\n  'W_Nabellen offertes'],\n 70: ['W_Nabellen offertes', 'START', 0, 'O_SELECTED', 'W_Nabellen offertes'],\n 72: ['A_SUBMITTED',\n  'COMPLETE',\n  0,\n  'W_Nabellen offertes',\n  'A_PARTLYSUBMITTED'],\n 73: ['A_PARTLYSUBMITTED', 'COMPLETE', 1, 'A_PREACCEPTED', 'A_PREACCEPTED'],\n 74: ['A_PREACCEPTED',\n  'COMPLETE',\n  1,\n  'W_Completeren aanvraag',\n  'W_Completeren aanvraag'],\n 75: ['W_Completeren aanvraag',\n  'SCHEDULE',\n  1,\n  'W_Completeren aanvraag',\n  'W_Completeren aanvraag'],\n 76: ['W_Completeren aanvraag',\n  'START',\n  0,\n  'W_Completeren aanvraag',\n  'A_ACCEPTED'],\n 78: ['A_ACCEPTED', 'COMPLETE', 0, 'W_Nabellen offertes', 'O_SELECTED'],\n 77: ['O_SELECTED', 'COMPLETE', 0, 'W_Nabellen offertes', 'A_FINALIZED'],\n 79: ['A_FINALIZED', 'COMPLETE', 0, 'W_Nabellen offertes', 'O_CREATED'],\n 80: ['O_CREATED', 'COMPLETE', 0, 'W_Nabellen offertes', 'O_SENT'],\n 81: ['O_SENT', 'COMPLETE', 1, 'W_Nabellen offertes', 'W_Nabellen offertes'],\n 82: ['W_Nabellen offertes',\n  'SCHEDULE',\n  0,\n  'W_Nabellen offertes',\n  'W_Completeren aanvraag'],\n 83: ['W_Completeren aanvraag',\n  'COMPLETE',\n  1,\n  'W_Nabellen offertes',\n  'W_Nabellen offertes'],\n 84: ['W_Nabellen offertes',\n  'START',\n  1,\n  'W_Nabellen offertes',\n  'W_Nabellen offertes'],\n 85: ['W_Nabellen offertes',\n  'COMPLETE',\n  1,\n  'W_Nabellen offertes',\n  'W_Nabellen offertes'],\n 86: ['W_Completeren aanvraag',\n  'SCHEDULE',\n  0,\n  'W_Nabellen offertes',\n  'W_Completeren aanvraag'],\n 87: ['W_Nabellen offertes',\n  'START',\n  1,\n  'W_Nabellen offertes',\n  'W_Nabellen offertes'],\n 88: ['W_Completeren aanvraag',\n  'START',\n  1,\n  'W_Completeren aanvraag',\n  'W_Completeren aanvraag'],\n 89: ['W_Completeren aanvraag',\n  'SCHEDULE',\n  0,\n  'W_Nabellen offertes',\n  'W_Completeren aanvraag'],\n 90: ['W_Completeren aanvraag',\n  'SCHEDULE',\n  0,\n  'W_Nabellen offertes',\n  'W_Completeren aanvraag'],\n 91: ['W_Completeren aanvraag',\n  'SCHEDULE',\n  0,\n  'W_Nabellen offertes',\n  'W_Completeren aanvraag'],\n 92: ['W_Completeren aanvraag',\n  'START',\n  1,\n  'W_Completeren aanvraag',\n  'W_Completeren aanvraag'],\n 93: ['W_Completeren aanvraag',\n  'COMPLETE',\n  0,\n  'W_Nabellen offertes',\n  'W_Completeren aanvraag'],\n 94: ['W_Completeren aanvraag', 'START', 1, 'A_ACCEPTED', 'A_ACCEPTED'],\n 95: ['W_Completeren aanvraag',\n  'START',\n  0,\n  'W_Nabellen offertes',\n  'W_Completeren aanvraag'],\n 96: ['W_Completeren aanvraag',\n  'START',\n  0,\n  'W_Nabellen offertes',\n  'W_Completeren aanvraag'],\n 97: ['W_Completeren aanvraag',\n  'SCHEDULE',\n  0,\n  'W_Nabellen offertes',\n  'W_Completeren aanvraag'],\n 98: ['A_ACCEPTED', 'COMPLETE', 0, 'O_SELECTED', 'A_FINALIZED'],\n 99: ['A_FINALIZED', 'COMPLETE', 0, 'W_Nabellen offertes', 'O_SELECTED'],\n 100: ['O_SELECTED', 'COMPLETE', 0, 'W_Nabellen offertes', 'O_CREATED'],\n 101: ['O_CREATED', 'COMPLETE', 0, 'W_Nabellen offertes', 'O_SENT'],\n 102: ['O_SENT', 'COMPLETE', 1, 'W_Nabellen offertes', 'W_Nabellen offertes'],\n 103: ['W_Nabellen offertes',\n  'SCHEDULE',\n  1,\n  'W_Completeren aanvraag',\n  'W_Completeren aanvraag'],\n 104: ['W_Completeren aanvraag',\n  'START',\n  0,\n  'W_Nabellen offertes',\n  'W_Completeren aanvraag'],\n 105: ['W_Afhandelen leads',\n  'COMPLETE',\n  0,\n  'W_Nabellen offertes',\n  'W_Completeren aanvraag'],\n 106: ['W_Completeren aanvraag',\n  'START',\n  0,\n  'W_Nabellen offertes',\n  'W_Completeren aanvraag'],\n 107: ['W_Completeren aanvraag',\n  'COMPLETE',\n  0,\n  'W_Nabellen offertes',\n  'W_Completeren aanvraag'],\n 109: ['A_SUBMITTED', 'COMPLETE', 1, 'A_PARTLYSUBMITTED', 'A_PARTLYSUBMITTED'],\n 110: ['A_PARTLYSUBMITTED',\n  'COMPLETE',\n  0,\n  'A_PREACCEPTED',\n  'W_Afhandelen leads'],\n 111: ['W_Completeren aanvraag',\n  'START',\n  0,\n  'W_Nabellen offertes',\n  'W_Completeren aanvraag'],\n 112: ['W_Afhandelen leads',\n  'SCHEDULE',\n  1,\n  'W_Afhandelen leads',\n  'W_Afhandelen leads'],\n 114: ['A_SUBMITTED',\n  'COMPLETE',\n  0,\n  'W_Nabellen offertes',\n  'A_PARTLYSUBMITTED'],\n 115: ['A_PARTLYSUBMITTED', 'COMPLETE', 0, 'A_PREACCEPTED', 'A_DECLINED'],\n 116: ['W_Afhandelen leads',\n  'START',\n  0,\n  'A_PREACCEPTED',\n  'W_Afhandelen leads'],\n 117: ['W_Completeren aanvraag',\n  'COMPLETE',\n  1,\n  'W_Nabellen offertes',\n  'W_Nabellen offertes'],\n 118: ['W_Nabellen offertes',\n  'START',\n  1,\n  'W_Nabellen offertes',\n  'W_Nabellen offertes'],\n 119: ['W_Completeren aanvraag',\n  'COMPLETE',\n  0,\n  'W_Nabellen offertes',\n  'W_Completeren aanvraag'],\n 120: ['W_Afhandelen leads',\n  'COMPLETE',\n  0,\n  'W_Nabellen offertes',\n  'W_Afhandelen leads'],\n 121: ['W_Afhandelen leads',\n  'START',\n  0,\n  'W_Nabellen offertes',\n  'A_PREACCEPTED'],\n 122: ['A_PREACCEPTED',\n  'COMPLETE',\n  1,\n  'W_Completeren aanvraag',\n  'W_Completeren aanvraag'],\n 123: ['W_Completeren aanvraag',\n  'SCHEDULE',\n  0,\n  'W_Completeren aanvraag',\n  'W_Afhandelen leads'],\n 124: ['W_Completeren aanvraag',\n  'START',\n  0,\n  'W_Nabellen offertes',\n  'A_ACCEPTED'],\n 125: ['A_ACCEPTED', 'COMPLETE', 0, 'W_Nabellen offertes', 'O_SELECTED'],\n 126: ['O_SELECTED', 'COMPLETE', 0, 'W_Nabellen offertes', 'A_FINALIZED'],\n 127: ['A_FINALIZED', 'COMPLETE', 0, 'W_Nabellen offertes', 'O_CREATED'],\n 128: ['O_CREATED', 'COMPLETE', 0, 'W_Nabellen offertes', 'O_SENT'],\n 129: ['O_SENT', 'COMPLETE', 1, 'W_Nabellen offertes', 'W_Nabellen offertes'],\n 130: ['W_Nabellen offertes',\n  'SCHEDULE',\n  0,\n  'W_Nabellen offertes',\n  'W_Completeren aanvraag'],\n 132: ['A_SUBMITTED', 'COMPLETE', 1, 'A_PARTLYSUBMITTED', 'A_PARTLYSUBMITTED'],\n 133: ['A_PARTLYSUBMITTED', 'COMPLETE', 1, 'A_PREACCEPTED', 'A_PREACCEPTED'],\n 134: ['A_PREACCEPTED',\n  'COMPLETE',\n  1,\n  'W_Completeren aanvraag',\n  'W_Completeren aanvraag'],\n 136: ['A_SUBMITTED',\n  'COMPLETE',\n  0,\n  'W_Nabellen offertes',\n  'A_PARTLYSUBMITTED'],\n 137: ['A_PARTLYSUBMITTED',\n  'COMPLETE',\n  0,\n  'A_PREACCEPTED',\n  'W_Afhandelen leads'],\n 138: ['W_Completeren aanvraag',\n  'COMPLETE',\n  0,\n  'W_Nabellen offertes',\n  'W_Completeren aanvraag'],\n 139: ['W_Afhandelen leads',\n  'COMPLETE',\n  0,\n  'W_Nabellen offertes',\n  'W_Completeren aanvraag'],\n 141: ['A_SUBMITTED', 'COMPLETE', 1, 'A_PARTLYSUBMITTED', 'A_PARTLYSUBMITTED'],\n 142: ['W_Completeren aanvraag',\n  'START',\n  0,\n  'W_Completeren aanvraag',\n  'A_CANCELLED'],\n 143: ['A_CANCELLED',\n  'COMPLETE',\n  0,\n  'W_Nabellen offertes',\n  'W_Completeren aanvraag'],\n 144: ['A_PARTLYSUBMITTED', 'COMPLETE', 1, 'A_PREACCEPTED', 'A_PREACCEPTED'],\n 145: ['A_PREACCEPTED',\n  'COMPLETE',\n  1,\n  'W_Completeren aanvraag',\n  'W_Completeren aanvraag'],\n 146: ['W_Completeren aanvraag',\n  'START',\n  0,\n  'W_Nabellen offertes',\n  'W_Completeren aanvraag'],\n 148: ['A_SUBMITTED',\n  'COMPLETE',\n  0,\n  'W_Nabellen offertes',\n  'A_PARTLYSUBMITTED'],\n 149: ['A_PARTLYSUBMITTED', 'COMPLETE', 1, 'A_PREACCEPTED', 'A_PREACCEPTED'],\n 150: ['A_PREACCEPTED',\n  'COMPLETE',\n  1,\n  'W_Completeren aanvraag',\n  'W_Completeren aanvraag'],\n 151: ['W_Afhandelen leads',\n  'COMPLETE',\n  1,\n  'W_Completeren aanvraag',\n  'W_Completeren aanvraag'],\n 152: ['W_Completeren aanvraag',\n  'START',\n  1,\n  'W_Completeren aanvraag',\n  'W_Completeren aanvraag'],\n 154: ['A_SUBMITTED', 'COMPLETE', 1, 'A_PARTLYSUBMITTED', 'A_PARTLYSUBMITTED'],\n 155: ['A_PARTLYSUBMITTED',\n  'COMPLETE',\n  0,\n  'A_PREACCEPTED',\n  'W_Afhandelen leads'],\n 156: ['W_Completeren aanvraag',\n  'SCHEDULE',\n  1,\n  'W_Completeren aanvraag',\n  'W_Completeren aanvraag'],\n 157: ['W_Completeren aanvraag',\n  'START',\n  0,\n  'A_ACCEPTED',\n  'W_Completeren aanvraag'],\n 158: ['W_Completeren aanvraag',\n  'COMPLETE',\n  1,\n  'W_Completeren aanvraag',\n  'W_Completeren aanvraag'],\n 159: ['W_Completeren aanvraag',\n  'START',\n  1,\n  'W_Completeren aanvraag',\n  'W_Completeren aanvraag'],\n 161: ['A_SUBMITTED',\n  'COMPLETE',\n  0,\n  'W_Nabellen offertes',\n  'A_PARTLYSUBMITTED'],\n 162: ['A_PARTLYSUBMITTED',\n  'COMPLETE',\n  0,\n  'A_PREACCEPTED',\n  'W_Afhandelen leads'],\n 164: ['A_SUBMITTED', 'COMPLETE', 1, 'A_PARTLYSUBMITTED', 'A_PARTLYSUBMITTED'],\n 165: ['A_PARTLYSUBMITTED',\n  'COMPLETE',\n  0,\n  'A_PREACCEPTED',\n  'W_Afhandelen leads'],\n 167: ['A_SUBMITTED', 'COMPLETE', 1, 'A_PARTLYSUBMITTED', 'A_PARTLYSUBMITTED'],\n 168: ['A_PARTLYSUBMITTED', 'COMPLETE', 1, 'A_PREACCEPTED', 'A_PREACCEPTED'],\n 169: ['A_PREACCEPTED',\n  'COMPLETE',\n  1,\n  'W_Completeren aanvraag',\n  'W_Completeren aanvraag'],\n 170: ['W_Completeren aanvraag',\n  'COMPLETE',\n  0,\n  'W_Nabellen offertes',\n  'W_Completeren aanvraag'],\n 171: ['W_Completeren aanvraag',\n  'START',\n  0,\n  'W_Nabellen offertes',\n  'A_ACCEPTED'],\n 172: ['A_ACCEPTED', 'COMPLETE', 0, 'W_Nabellen offertes', 'O_SELECTED'],\n 173: ['O_SELECTED', 'COMPLETE', 0, 'W_Nabellen offertes', 'A_FINALIZED'],\n 174: ['A_FINALIZED', 'COMPLETE', 0, 'W_Nabellen offertes', 'O_CREATED'],\n 175: ['O_CREATED', 'COMPLETE', 0, 'W_Nabellen offertes', 'O_SENT'],\n 176: ['O_SENT', 'COMPLETE', 1, 'W_Nabellen offertes', 'W_Nabellen offertes'],\n 177: ['W_Nabellen offertes',\n  'SCHEDULE',\n  0,\n  'W_Nabellen offertes',\n  'W_Completeren aanvraag'],\n 178: ['W_Completeren aanvraag',\n  'COMPLETE',\n  1,\n  'W_Nabellen offertes',\n  'W_Nabellen offertes'],\n 179: ['W_Nabellen offertes',\n  'START',\n  1,\n  'W_Nabellen offertes',\n  'W_Nabellen offertes'],\n 181: ['A_SUBMITTED',\n  'COMPLETE',\n  0,\n  'W_Nabellen offertes',\n  'A_PARTLYSUBMITTED'],\n 182: ['W_Completeren aanvraag',\n  'COMPLETE',\n  1,\n  'W_Completeren aanvraag',\n  'W_Completeren aanvraag'],\n 183: ['A_PARTLYSUBMITTED', 'COMPLETE', 1, 'A_PREACCEPTED', 'A_PREACCEPTED'],\n 184: ['A_PREACCEPTED',\n  'COMPLETE',\n  1,\n  'W_Completeren aanvraag',\n  'W_Completeren aanvraag'],\n 185: ['W_Afhandelen leads',\n  'SCHEDULE',\n  0,\n  'W_Nabellen offertes',\n  'W_Afhandelen leads'],\n 186: ['W_Afhandelen leads', 'START', 0, 'W_Nabellen offertes', 'A_DECLINED'],\n 187: ['A_DECLINED',\n  'COMPLETE',\n  0,\n  'W_Nabellen offertes',\n  'W_Afhandelen leads'],\n 188: ['W_Afhandelen leads',\n  'SCHEDULE',\n  0,\n  'W_Nabellen offertes',\n  'W_Afhandelen leads'],\n 189: ['W_Afhandelen leads', 'START', 0, 'A_DECLINED', 'A_PREACCEPTED'],\n 190: ['A_PREACCEPTED',\n  'COMPLETE',\n  0,\n  'W_Nabellen offertes',\n  'W_Completeren aanvraag'],\n 191: ['W_Completeren aanvraag',\n  'SCHEDULE',\n  0,\n  'W_Completeren aanvraag',\n  'W_Afhandelen leads'],\n 192: ['W_Completeren aanvraag',\n  'START',\n  0,\n  'W_Completeren aanvraag',\n  'A_DECLINED'],\n 193: ['A_DECLINED',\n  'COMPLETE',\n  0,\n  'W_Nabellen offertes',\n  'W_Completeren aanvraag'],\n 195: ['A_SUBMITTED', 'COMPLETE', 1, 'A_PARTLYSUBMITTED', 'A_PARTLYSUBMITTED'],\n 196: ['A_PARTLYSUBMITTED', 'COMPLETE', 0, 'A_PREACCEPTED', 'A_DECLINED'],\n 197: ['W_Completeren aanvraag',\n  'COMPLETE',\n  1,\n  'W_Completeren aanvraag',\n  'W_Completeren aanvraag'],\n 198: ['W_Completeren aanvraag',\n  'COMPLETE',\n  1,\n  'W_Completeren aanvraag',\n  'W_Completeren aanvraag'],\n 199: ['W_Completeren aanvraag',\n  'START',\n  1,\n  'W_Completeren aanvraag',\n  'W_Completeren aanvraag'],\n 201: ['W_Completeren aanvraag',\n  'START',\n  1,\n  'W_Completeren aanvraag',\n  'W_Completeren aanvraag'],\n 202: ['A_SUBMITTED',\n  'COMPLETE',\n  0,\n  'W_Nabellen offertes',\n  'A_PARTLYSUBMITTED'],\n 203: ['W_Completeren aanvraag',\n  'COMPLETE',\n  1,\n  'W_Completeren aanvraag',\n  'W_Completeren aanvraag'],\n 204: ['A_PARTLYSUBMITTED',\n  'COMPLETE',\n  0,\n  'W_Afhandelen leads',\n  'A_PREACCEPTED'],\n 205: ['A_PREACCEPTED',\n  'COMPLETE',\n  0,\n  'W_Nabellen offertes',\n  'W_Completeren aanvraag'],\n 206: ['W_Afhandelen leads',\n  'SCHEDULE',\n  0,\n  'W_Nabellen offertes',\n  'W_Afhandelen leads'],\n 207: ['W_Afhandelen leads',\n  'START',\n  0,\n  'W_Nabellen offertes',\n  'A_PREACCEPTED'],\n 208: ['A_PREACCEPTED',\n  'COMPLETE',\n  0,\n  'W_Nabellen offertes',\n  'W_Completeren aanvraag'],\n 209: ['W_Completeren aanvraag',\n  'SCHEDULE',\n  0,\n  'W_Completeren aanvraag',\n  'W_Afhandelen leads'],\n 210: ['W_Afhandelen leads',\n  'SCHEDULE',\n  0,\n  'W_Nabellen offertes',\n  'W_Afhandelen leads'],\n 211: ['W_Afhandelen leads', 'START', 1, 'A_PREACCEPTED', 'A_PREACCEPTED'],\n 212: ['A_PREACCEPTED',\n  'COMPLETE',\n  1,\n  'W_Completeren aanvraag',\n  'W_Completeren aanvraag'],\n 213: ['W_Completeren aanvraag',\n  'SCHEDULE',\n  0,\n  'W_Completeren aanvraag',\n  'W_Afhandelen leads'],\n 214: ['W_Completeren aanvraag',\n  'SCHEDULE',\n  1,\n  'W_Completeren aanvraag',\n  'W_Completeren aanvraag'],\n 215: ['W_Completeren aanvraag',\n  'SCHEDULE',\n  1,\n  'W_Completeren aanvraag',\n  'W_Completeren aanvraag'],\n 216: ['W_Completeren aanvraag',\n  'START',\n  1,\n  'W_Completeren aanvraag',\n  'W_Completeren aanvraag'],\n 217: ['W_Completeren aanvraag',\n  'SCHEDULE',\n  1,\n  'W_Completeren aanvraag',\n  'W_Completeren aanvraag'],\n 218: ['W_Completeren aanvraag',\n  'START',\n  1,\n  'W_Completeren aanvraag',\n  'W_Completeren aanvraag'],\n 219: ['W_Completeren aanvraag',\n  'COMPLETE',\n  1,\n  'W_Completeren aanvraag',\n  'W_Completeren aanvraag'],\n 220: ['W_Completeren aanvraag',\n  'START',\n  1,\n  'W_Completeren aanvraag',\n  'W_Completeren aanvraag'],\n 221: ['W_Completeren aanvraag',\n  'SCHEDULE',\n  1,\n  'W_Completeren aanvraag',\n  'W_Completeren aanvraag'],\n 222: ['W_Completeren aanvraag',\n  'START',\n  0,\n  'W_Completeren aanvraag',\n  'A_ACCEPTED'],\n 223: ['W_Completeren aanvraag',\n  'COMPLETE',\n  1,\n  'W_Completeren aanvraag',\n  'W_Completeren aanvraag'],\n 224: ['A_ACCEPTED', 'COMPLETE', 1, 'O_SELECTED', 'O_SELECTED'],\n 225: ['O_SELECTED', 'COMPLETE', 1, 'A_FINALIZED', 'A_FINALIZED'],\n 226: ['W_Completeren aanvraag',\n  'START',\n  0,\n  'A_ACCEPTED',\n  'W_Completeren aanvraag'],\n 227: ['A_FINALIZED', 'COMPLETE', 1, 'O_CREATED', 'O_CREATED'],\n 228: ['O_CREATED', 'COMPLETE', 1, 'O_SENT', 'O_SENT'],\n 229: ['O_SENT', 'COMPLETE', 1, 'W_Nabellen offertes', 'W_Nabellen offertes'],\n 230: ['W_Nabellen offertes',\n  'SCHEDULE',\n  1,\n  'W_Completeren aanvraag',\n  'W_Completeren aanvraag'],\n 231: ['W_Completeren aanvraag',\n  'START',\n  1,\n  'W_Completeren aanvraag',\n  'W_Completeren aanvraag'],\n 232: ['W_Completeren aanvraag',\n  'COMPLETE',\n  1,\n  'W_Nabellen offertes',\n  'W_Nabellen offertes'],\n 233: ['W_Afhandelen leads',\n  'COMPLETE',\n  0,\n  'W_Nabellen offertes',\n  'W_Completeren aanvraag'],\n 234: ['W_Completeren aanvraag',\n  'START',\n  0,\n  'A_ACCEPTED',\n  'W_Completeren aanvraag'],\n 235: ['W_Completeren aanvraag',\n  'COMPLETE',\n  1,\n  'W_Completeren aanvraag',\n  'W_Completeren aanvraag'],\n 236: ['W_Nabellen offertes',\n  'START',\n  1,\n  'W_Nabellen offertes',\n  'W_Nabellen offertes'],\n 237: ['W_Completeren aanvraag',\n  'COMPLETE',\n  1,\n  'W_Completeren aanvraag',\n  'W_Completeren aanvraag'],\n 238: ['W_Completeren aanvraag',\n  'SCHEDULE',\n  0,\n  'W_Afhandelen leads',\n  'W_Completeren aanvraag'],\n 239: ['W_Afhandelen leads',\n  'COMPLETE',\n  0,\n  'W_Nabellen offertes',\n  'W_Completeren aanvraag'],\n 240: ['W_Completeren aanvraag',\n  'START',\n  0,\n  'W_Nabellen offertes',\n  'W_Completeren aanvraag'],\n 241: ['W_Completeren aanvraag',\n  'START',\n  0,\n  'W_Completeren aanvraag',\n  'A_ACCEPTED'],\n 242: ['W_Completeren aanvraag',\n  'START',\n  0,\n  'W_Nabellen offertes',\n  'A_ACCEPTED'],\n 243: ['W_Completeren aanvraag',\n  'START',\n  1,\n  'W_Completeren aanvraag',\n  'W_Completeren aanvraag'],\n 244: ['W_Completeren aanvraag',\n  'COMPLETE',\n  1,\n  'W_Completeren aanvraag',\n  'W_Completeren aanvraag'],\n 245: ['W_Completeren aanvraag',\n  'START',\n  0,\n  'W_Nabellen offertes',\n  'A_ACCEPTED'],\n 247: ['A_ACCEPTED', 'COMPLETE', 0, 'O_SELECTED', 'A_FINALIZED'],\n 246: ['A_FINALIZED', 'COMPLETE', 0, 'W_Nabellen offertes', 'O_SELECTED'],\n 248: ['O_SELECTED', 'COMPLETE', 0, 'W_Nabellen offertes', 'O_CREATED'],\n 249: ['O_CREATED', 'COMPLETE', 0, 'W_Nabellen offertes', 'O_SENT'],\n 250: ['O_SENT', 'COMPLETE', 1, 'W_Nabellen offertes', 'W_Nabellen offertes'],\n 251: ['W_Nabellen offertes',\n  'SCHEDULE',\n  1,\n  'W_Completeren aanvraag',\n  'W_Completeren aanvraag'],\n 252: ['W_Afhandelen leads',\n  'COMPLETE',\n  0,\n  'W_Nabellen offertes',\n  'W_Completeren aanvraag'],\n 253: ['W_Completeren aanvraag',\n  'START',\n  0,\n  'A_ACCEPTED',\n  'W_Completeren aanvraag'],\n 254: ['W_Completeren aanvraag',\n  'COMPLETE',\n  1,\n  'W_Completeren aanvraag',\n  'W_Completeren aanvraag'],\n 255: ['W_Completeren aanvraag',\n  'START',\n  0,\n  'A_ACCEPTED',\n  'W_Completeren aanvraag'],\n 256: ['W_Completeren aanvraag',\n  'COMPLETE',\n  1,\n  'W_Completeren aanvraag',\n  'W_Completeren aanvraag'],\n 257: ['A_ACCEPTED', 'COMPLETE', 1, 'O_SELECTED', 'O_SELECTED'],\n 258: ['O_SELECTED', 'COMPLETE', 1, 'A_FINALIZED', 'A_FINALIZED'],\n 259: ['A_FINALIZED', 'COMPLETE', 1, 'O_CREATED', 'O_CREATED'],\n 260: ['O_CREATED', 'COMPLETE', 1, 'O_SENT', 'O_SENT'],\n 261: ['O_SENT', 'COMPLETE', 1, 'W_Nabellen offertes', 'W_Nabellen offertes'],\n 262: ['W_Nabellen offertes',\n  'SCHEDULE',\n  1,\n  'W_Completeren aanvraag',\n  'W_Completeren aanvraag'],\n 263: ['W_Completeren aanvraag',\n  'START',\n  1,\n  'W_Completeren aanvraag',\n  'W_Completeren aanvraag'],\n 264: ['W_Completeren aanvraag',\n  'COMPLETE',\n  1,\n  'W_Completeren aanvraag',\n  'W_Completeren aanvraag'],\n 265: ['W_Completeren aanvraag',\n  'COMPLETE',\n  1,\n  'W_Nabellen offertes',\n  'W_Nabellen offertes'],\n 266: ['W_Completeren aanvraag',\n  'START',\n  0,\n  'W_Completeren aanvraag',\n  'A_ACCEPTED'],\n 267: ['W_Nabellen offertes',\n  'START',\n  1,\n  'W_Nabellen offertes',\n  'W_Nabellen offertes'],\n 268: ['W_Completeren aanvraag',\n  'START',\n  1,\n  'W_Completeren aanvraag',\n  'W_Completeren aanvraag'],\n 269: ['A_ACCEPTED', 'COMPLETE', 0, 'W_Nabellen offertes', 'O_SELECTED'],\n 270: ['O_SELECTED', 'COMPLETE', 0, 'W_Nabellen offertes', 'A_FINALIZED'],\n 271: ['A_FINALIZED', 'COMPLETE', 0, 'W_Nabellen offertes', 'O_CREATED'],\n 272: ['O_CREATED', 'COMPLETE', 0, 'W_Nabellen offertes', 'O_SENT'],\n 273: ['O_SENT', 'COMPLETE', 1, 'W_Nabellen offertes', 'W_Nabellen offertes'],\n 274: ['W_Nabellen offertes',\n  'SCHEDULE',\n  0,\n  'W_Nabellen offertes',\n  'W_Completeren aanvraag'],\n 275: ['W_Completeren aanvraag',\n  'COMPLETE',\n  1,\n  'W_Completeren aanvraag',\n  'W_Completeren aanvraag'],\n 276: ['A_ACCEPTED', 'COMPLETE', 1, 'O_SELECTED', 'O_SELECTED'],\n 277: ['O_SELECTED', 'COMPLETE', 1, 'A_FINALIZED', 'A_FINALIZED'],\n 278: ['A_FINALIZED', 'COMPLETE', 1, 'O_CREATED', 'O_CREATED'],\n 279: ['O_CREATED', 'COMPLETE', 1, 'O_SENT', 'O_SENT'],\n 280: ['O_SENT', 'COMPLETE', 1, 'W_Nabellen offertes', 'W_Nabellen offertes'],\n 281: ['W_Nabellen offertes',\n  'SCHEDULE',\n  1,\n  'W_Completeren aanvraag',\n  'W_Completeren aanvraag'],\n 283: ['A_SUBMITTED',\n  'COMPLETE',\n  0,\n  'W_Nabellen offertes',\n  'A_PARTLYSUBMITTED'],\n 284: ['A_PARTLYSUBMITTED',\n  'COMPLETE',\n  1,\n  'W_Afhandelen leads',\n  'W_Afhandelen leads'],\n 285: ['W_Completeren aanvraag',\n  'START',\n  1,\n  'W_Completeren aanvraag',\n  'W_Completeren aanvraag'],\n 287: ['A_SUBMITTED',\n  'COMPLETE',\n  0,\n  'W_Nabellen offertes',\n  'A_PARTLYSUBMITTED'],\n 288: ['A_PARTLYSUBMITTED',\n  'COMPLETE',\n  0,\n  'W_Afhandelen leads',\n  'A_PREACCEPTED'],\n 289: ['A_PREACCEPTED',\n  'COMPLETE',\n  1,\n  'W_Completeren aanvraag',\n  'W_Completeren aanvraag'],\n 290: ['W_Completeren aanvraag',\n  'SCHEDULE',\n  0,\n  'W_Afhandelen leads',\n  'W_Completeren aanvraag'],\n 291: ['W_Completeren aanvraag',\n  'COMPLETE',\n  1,\n  'W_Completeren aanvraag',\n  'W_Completeren aanvraag'],\n 292: ['W_Completeren aanvraag',\n  'START',\n  0,\n  'W_Completeren aanvraag',\n  'A_ACCEPTED'],\n 294: ['A_SUBMITTED', 'COMPLETE', 1, 'A_PARTLYSUBMITTED', 'A_PARTLYSUBMITTED'],\n 295: ['A_PARTLYSUBMITTED', 'COMPLETE', 0, 'A_PREACCEPTED', 'A_DECLINED'],\n 296: ['W_Afhandelen leads',\n  'SCHEDULE',\n  1,\n  'W_Afhandelen leads',\n  'W_Afhandelen leads'],\n 297: ['A_ACCEPTED', 'COMPLETE', 1, 'O_SELECTED', 'O_SELECTED'],\n 298: ['O_SELECTED', 'COMPLETE', 1, 'A_FINALIZED', 'A_FINALIZED'],\n 299: ['A_FINALIZED', 'COMPLETE', 1, 'O_CREATED', 'O_CREATED'],\n 300: ['O_CREATED', 'COMPLETE', 1, 'O_SENT', 'O_SENT'],\n 301: ['O_SENT', 'COMPLETE', 1, 'W_Nabellen offertes', 'W_Nabellen offertes'],\n 302: ['W_Nabellen offertes',\n  'SCHEDULE',\n  1,\n  'W_Completeren aanvraag',\n  'W_Completeren aanvraag'],\n 303: ['W_Completeren aanvraag',\n  'COMPLETE',\n  1,\n  'W_Nabellen offertes',\n  'W_Nabellen offertes'],\n 304: ['W_Afhandelen leads', 'START', 0, 'A_PREACCEPTED', 'A_DECLINED'],\n 305: ['A_DECLINED',\n  'COMPLETE',\n  0,\n  'W_Nabellen offertes',\n  'W_Afhandelen leads'],\n 306: ['W_Completeren aanvraag',\n  'COMPLETE',\n  1,\n  'W_Completeren aanvraag',\n  'W_Completeren aanvraag'],\n 307: ['W_Nabellen offertes',\n  'START',\n  1,\n  'W_Nabellen offertes',\n  'W_Nabellen offertes'],\n 309: ['A_SUBMITTED', 'COMPLETE', 1, 'A_PARTLYSUBMITTED', 'A_PARTLYSUBMITTED'],\n 310: ['A_PARTLYSUBMITTED', 'COMPLETE', 0, 'W_Afhandelen leads', 'A_DECLINED'],\n 311: ['W_Nabellen offertes',\n  'COMPLETE',\n  1,\n  'W_Nabellen offertes',\n  'W_Nabellen offertes'],\n 313: ['W_Nabellen offertes', 'START', 0, 'W_Nabellen offertes', 'O_SELECTED'],\n 312: ['O_SELECTED', 'COMPLETE', 0, 'W_Nabellen offertes', 'O_CANCELLED'],\n 314: ['O_CANCELLED', 'COMPLETE', 0, 'W_Nabellen offertes', 'O_CREATED'],\n 315: ['O_CREATED', 'COMPLETE', 0, 'W_Nabellen offertes', 'O_SENT'],\n 316: ['O_SENT', 'COMPLETE', 1, 'W_Nabellen offertes', 'W_Nabellen offertes'],\n 317: ['W_Nabellen offertes',\n  'SCHEDULE',\n  0,\n  'W_Completeren aanvraag',\n  'W_Nabellen offertes'],\n 318: ['W_Nabellen offertes',\n  'COMPLETE',\n  1,\n  'W_Nabellen offertes',\n  'W_Nabellen offertes'],\n 319: ['W_Completeren aanvraag',\n  'START',\n  0,\n  'W_Completeren aanvraag',\n  'A_ACCEPTED'],\n 320: ['W_Completeren aanvraag',\n  'START',\n  1,\n  'W_Completeren aanvraag',\n  'W_Completeren aanvraag'],\n 321: ['W_Completeren aanvraag',\n  'COMPLETE',\n  1,\n  'W_Completeren aanvraag',\n  'W_Completeren aanvraag'],\n 322: ['W_Completeren aanvraag',\n  'START',\n  1,\n  'W_Completeren aanvraag',\n  'W_Completeren aanvraag'],\n 323: ['W_Nabellen offertes', 'START', 0, 'O_SELECTED', 'W_Nabellen offertes'],\n 325: ['A_ACCEPTED', 'COMPLETE', 1, 'O_SELECTED', 'O_SELECTED'],\n 324: ['O_SELECTED', 'COMPLETE', 1, 'A_FINALIZED', 'A_FINALIZED'],\n 326: ['A_FINALIZED', 'COMPLETE', 1, 'O_CREATED', 'O_CREATED'],\n 327: ['O_CREATED', 'COMPLETE', 1, 'O_SENT', 'O_SENT'],\n 328: ['O_SENT', 'COMPLETE', 1, 'W_Nabellen offertes', 'W_Nabellen offertes'],\n 329: ['W_Nabellen offertes',\n  'SCHEDULE',\n  1,\n  'W_Completeren aanvraag',\n  'W_Completeren aanvraag'],\n 331: ['A_SUBMITTED', 'COMPLETE', 1, 'A_PARTLYSUBMITTED', 'A_PARTLYSUBMITTED'],\n 332: ['A_PARTLYSUBMITTED', 'COMPLETE', 1, 'A_PREACCEPTED', 'A_PREACCEPTED'],\n 333: ['A_PREACCEPTED',\n  'COMPLETE',\n  1,\n  'W_Completeren aanvraag',\n  'W_Completeren aanvraag'],\n 335: ['A_SUBMITTED', 'COMPLETE', 1, 'A_PARTLYSUBMITTED', 'A_PARTLYSUBMITTED'],\n 336: ['A_PARTLYSUBMITTED',\n  'COMPLETE',\n  0,\n  'A_PREACCEPTED',\n  'W_Afhandelen leads'],\n 338: ['A_SUBMITTED', 'COMPLETE', 1, 'A_PARTLYSUBMITTED', 'A_PARTLYSUBMITTED'],\n 339: ['A_PARTLYSUBMITTED',\n  'COMPLETE',\n  0,\n  'W_Afhandelen leads',\n  'A_PREACCEPTED'],\n 340: ['A_PREACCEPTED',\n  'COMPLETE',\n  1,\n  'W_Completeren aanvraag',\n  'W_Completeren aanvraag'],\n 342: ['A_SUBMITTED', 'COMPLETE', 1, 'A_PARTLYSUBMITTED', 'A_PARTLYSUBMITTED'],\n 344: ['A_SUBMITTED', 'COMPLETE', 1, 'A_PARTLYSUBMITTED', 'A_PARTLYSUBMITTED'],\n 345: ['A_PARTLYSUBMITTED', 'COMPLETE', 1, 'A_PREACCEPTED', 'A_PREACCEPTED'],\n 346: ['A_PREACCEPTED',\n  'COMPLETE',\n  1,\n  'W_Completeren aanvraag',\n  'W_Completeren aanvraag'],\n 347: ['A_PARTLYSUBMITTED', 'COMPLETE', 1, 'A_PREACCEPTED', 'A_PREACCEPTED'],\n 348: ['A_PREACCEPTED',\n  'COMPLETE',\n  1,\n  'W_Completeren aanvraag',\n  'W_Completeren aanvraag'],\n 350: ['A_SUBMITTED', 'COMPLETE', 1, 'A_PARTLYSUBMITTED', 'A_PARTLYSUBMITTED'],\n 351: ['A_PARTLYSUBMITTED', 'COMPLETE', 1, 'A_PREACCEPTED', 'A_PREACCEPTED'],\n 352: ['A_PREACCEPTED',\n  'COMPLETE',\n  1,\n  'W_Completeren aanvraag',\n  'W_Completeren aanvraag'],\n 354: ['A_SUBMITTED', 'COMPLETE', 1, 'A_PARTLYSUBMITTED', 'A_PARTLYSUBMITTED'],\n 355: ['A_PARTLYSUBMITTED', 'COMPLETE', 1, 'A_PREACCEPTED', 'A_PREACCEPTED'],\n 356: ['A_PREACCEPTED',\n  'COMPLETE',\n  1,\n  'W_Completeren aanvraag',\n  'W_Completeren aanvraag'],\n 358: ['A_SUBMITTED',\n  'COMPLETE',\n  0,\n  'W_Nabellen offertes',\n  'A_PARTLYSUBMITTED'],\n 359: ['A_PARTLYSUBMITTED', 'COMPLETE', 1, 'A_PREACCEPTED', 'A_PREACCEPTED'],\n 360: ['A_PREACCEPTED',\n  'COMPLETE',\n  1,\n  'W_Completeren aanvraag',\n  'W_Completeren aanvraag'],\n 362: ['A_SUBMITTED', 'COMPLETE', 1, 'A_PARTLYSUBMITTED', 'A_PARTLYSUBMITTED'],\n 363: ['A_PARTLYSUBMITTED', 'COMPLETE', 1, 'A_PREACCEPTED', 'A_PREACCEPTED'],\n 364: ['A_PREACCEPTED',\n  'COMPLETE',\n  1,\n  'W_Completeren aanvraag',\n  'W_Completeren aanvraag'],\n 366: ['A_SUBMITTED',\n  'COMPLETE',\n  0,\n  'W_Nabellen offertes',\n  'A_PARTLYSUBMITTED'],\n 367: ['A_PARTLYSUBMITTED',\n  'COMPLETE',\n  0,\n  'A_PREACCEPTED',\n  'W_Afhandelen leads'],\n 369: ['A_SUBMITTED',\n  'COMPLETE',\n  0,\n  'W_Nabellen offertes',\n  'A_PARTLYSUBMITTED'],\n 370: ['A_PARTLYSUBMITTED', 'COMPLETE', 1, 'A_PREACCEPTED', 'A_PREACCEPTED'],\n 371: ['A_PREACCEPTED',\n  'COMPLETE',\n  1,\n  'W_Completeren aanvraag',\n  'W_Completeren aanvraag'],\n 373: ['A_SUBMITTED', 'COMPLETE', 1, 'A_PARTLYSUBMITTED', 'A_PARTLYSUBMITTED'],\n 374: ['A_PARTLYSUBMITTED', 'COMPLETE', 0, 'A_PREACCEPTED', 'A_DECLINED'],\n 376: ['A_SUBMITTED',\n  'COMPLETE',\n  0,\n  'W_Nabellen offertes',\n  'A_PARTLYSUBMITTED'],\n 377: ['A_PARTLYSUBMITTED',\n  'COMPLETE',\n  0,\n  'W_Nabellen offertes',\n  'W_Afhandelen leads'],\n 379: ['A_SUBMITTED', 'COMPLETE', 1, 'A_PARTLYSUBMITTED', 'A_PARTLYSUBMITTED'],\n 380: ['A_PARTLYSUBMITTED',\n  'COMPLETE',\n  0,\n  'A_PREACCEPTED',\n  'W_Afhandelen leads'],\n 382: ['A_SUBMITTED', 'COMPLETE', 1, 'A_PARTLYSUBMITTED', 'A_PARTLYSUBMITTED'],\n 383: ['A_PARTLYSUBMITTED', 'COMPLETE', 1, 'A_PREACCEPTED', 'A_PREACCEPTED'],\n 384: ['A_PREACCEPTED',\n  'COMPLETE',\n  1,\n  'W_Completeren aanvraag',\n  'W_Completeren aanvraag'],\n 386: ['A_SUBMITTED', 'COMPLETE', 1, 'A_PARTLYSUBMITTED', 'A_PARTLYSUBMITTED'],\n 387: ['A_PARTLYSUBMITTED', 'COMPLETE', 0, 'A_PREACCEPTED', 'A_DECLINED'],\n 389: ['A_SUBMITTED', 'COMPLETE', 1, 'A_PARTLYSUBMITTED', 'A_PARTLYSUBMITTED'],\n 390: ['A_PARTLYSUBMITTED', 'COMPLETE', 1, 'A_PREACCEPTED', 'A_PREACCEPTED'],\n 391: ['A_PREACCEPTED',\n  'COMPLETE',\n  1,\n  'W_Completeren aanvraag',\n  'W_Completeren aanvraag'],\n 393: ['A_SUBMITTED', 'COMPLETE', 1, 'A_PARTLYSUBMITTED', 'A_PARTLYSUBMITTED'],\n 394: ['A_PARTLYSUBMITTED',\n  'COMPLETE',\n  0,\n  'A_PREACCEPTED',\n  'W_Afhandelen leads'],\n 396: ['A_SUBMITTED', 'COMPLETE', 1, 'A_PARTLYSUBMITTED', 'A_PARTLYSUBMITTED'],\n 398: ['A_SUBMITTED', 'COMPLETE', 1, 'A_PARTLYSUBMITTED', 'A_PARTLYSUBMITTED'],\n 399: ['A_PARTLYSUBMITTED', 'COMPLETE', 0, 'A_PREACCEPTED', 'A_DECLINED'],\n 400: ['A_PARTLYSUBMITTED',\n  'COMPLETE',\n  0,\n  'A_PREACCEPTED',\n  'W_Afhandelen leads'],\n 402: ['A_SUBMITTED',\n  'COMPLETE',\n  0,\n  'W_Nabellen offertes',\n  'A_PARTLYSUBMITTED'],\n 403: ['A_PARTLYSUBMITTED', 'COMPLETE', 1, 'A_PREACCEPTED', 'A_PREACCEPTED'],\n 404: ['A_PREACCEPTED',\n  'COMPLETE',\n  1,\n  'W_Completeren aanvraag',\n  'W_Completeren aanvraag'],\n 406: ['A_SUBMITTED', 'COMPLETE', 1, 'A_PARTLYSUBMITTED', 'A_PARTLYSUBMITTED'],\n 407: ['A_PARTLYSUBMITTED', 'COMPLETE', 0, 'A_PREACCEPTED', 'A_DECLINED'],\n 409: ['A_SUBMITTED', 'COMPLETE', 1, 'A_PARTLYSUBMITTED', 'A_PARTLYSUBMITTED'],\n 410: ['A_PARTLYSUBMITTED', 'COMPLETE', 1, 'A_PREACCEPTED', 'A_PREACCEPTED'],\n 411: ['A_PREACCEPTED',\n  'COMPLETE',\n  1,\n  'W_Completeren aanvraag',\n  'W_Completeren aanvraag'],\n 413: ['A_SUBMITTED', 'COMPLETE', 1, 'A_PARTLYSUBMITTED', 'A_PARTLYSUBMITTED'],\n 414: ['A_PARTLYSUBMITTED', 'COMPLETE', 1, 'A_PREACCEPTED', 'A_PREACCEPTED'],\n 415: ['A_PREACCEPTED',\n  'COMPLETE',\n  1,\n  'W_Completeren aanvraag',\n  'W_Completeren aanvraag'],\n 417: ['A_SUBMITTED', 'COMPLETE', 1, 'A_PARTLYSUBMITTED', 'A_PARTLYSUBMITTED'],\n 418: ['A_PARTLYSUBMITTED', 'COMPLETE', 1, 'A_PREACCEPTED', 'A_PREACCEPTED'],\n 419: ['A_PREACCEPTED',\n  'COMPLETE',\n  1,\n  'W_Completeren aanvraag',\n  'W_Completeren aanvraag'],\n 421: ['A_SUBMITTED', 'COMPLETE', 1, 'A_PARTLYSUBMITTED', 'A_PARTLYSUBMITTED'],\n 422: ['A_PARTLYSUBMITTED', 'COMPLETE', 0, 'A_PREACCEPTED', 'A_DECLINED'],\n 424: ['A_SUBMITTED', 'COMPLETE', 1, 'A_PARTLYSUBMITTED', 'A_PARTLYSUBMITTED'],\n 425: ['A_PARTLYSUBMITTED', 'COMPLETE', 0, 'A_PREACCEPTED', 'A_DECLINED'],\n 427: ['A_SUBMITTED', 'COMPLETE', 1, 'A_PARTLYSUBMITTED', 'A_PARTLYSUBMITTED'],\n 428: ['A_PARTLYSUBMITTED',\n  'COMPLETE',\n  0,\n  'A_PREACCEPTED',\n  'W_Afhandelen leads'],\n 430: ['A_SUBMITTED', 'COMPLETE', 1, 'A_PARTLYSUBMITTED', 'A_PARTLYSUBMITTED'],\n 431: ['A_PARTLYSUBMITTED',\n  'COMPLETE',\n  0,\n  'A_PREACCEPTED',\n  'W_Afhandelen leads'],\n 433: ['A_SUBMITTED', 'COMPLETE', 1, 'A_PARTLYSUBMITTED', 'A_PARTLYSUBMITTED'],\n 434: ['A_PARTLYSUBMITTED',\n  'COMPLETE',\n  0,\n  'A_PREACCEPTED',\n  'W_Afhandelen leads'],\n 436: ['A_SUBMITTED', 'COMPLETE', 1, 'A_PARTLYSUBMITTED', 'A_PARTLYSUBMITTED'],\n 437: ['A_PARTLYSUBMITTED', 'COMPLETE', 0, 'A_PREACCEPTED', 'A_DECLINED'],\n 439: ['A_SUBMITTED', 'COMPLETE', 1, 'A_PARTLYSUBMITTED', 'A_PARTLYSUBMITTED'],\n 440: ['A_PARTLYSUBMITTED', 'COMPLETE', 1, 'A_PREACCEPTED', 'A_PREACCEPTED'],\n 441: ['A_PREACCEPTED',\n  'COMPLETE',\n  1,\n  'W_Completeren aanvraag',\n  'W_Completeren aanvraag'],\n 443: ['A_SUBMITTED', 'COMPLETE', 1, 'A_PARTLYSUBMITTED', 'A_PARTLYSUBMITTED'],\n 444: ['A_PARTLYSUBMITTED', 'COMPLETE', 1, 'A_PREACCEPTED', 'A_PREACCEPTED'],\n 445: ['A_PREACCEPTED',\n  'COMPLETE',\n  1,\n  'W_Completeren aanvraag',\n  'W_Completeren aanvraag'],\n 447: ['A_SUBMITTED', 'COMPLETE', 1, 'A_PARTLYSUBMITTED', 'A_PARTLYSUBMITTED'],\n 448: ['A_PARTLYSUBMITTED', 'COMPLETE', 0, 'A_PREACCEPTED', 'A_DECLINED'],\n 450: ['A_SUBMITTED',\n  'COMPLETE',\n  0,\n  'W_Nabellen offertes',\n  'A_PARTLYSUBMITTED'],\n 451: ['A_PARTLYSUBMITTED', 'COMPLETE', 0, 'A_PREACCEPTED', 'A_DECLINED'],\n 453: ['A_SUBMITTED',\n  'COMPLETE',\n  0,\n  'W_Nabellen offertes',\n  'A_PARTLYSUBMITTED'],\n 454: ['A_PARTLYSUBMITTED',\n  'COMPLETE',\n  1,\n  'W_Afhandelen leads',\n  'W_Afhandelen leads'],\n 456: ['A_SUBMITTED', 'COMPLETE', 1, 'A_PARTLYSUBMITTED', 'A_PARTLYSUBMITTED'],\n 457: ['A_PARTLYSUBMITTED', 'COMPLETE', 0, 'A_PREACCEPTED', 'A_DECLINED'],\n 459: ['A_SUBMITTED', 'COMPLETE', 1, 'A_PARTLYSUBMITTED', 'A_PARTLYSUBMITTED'],\n 460: ['A_PARTLYSUBMITTED', 'COMPLETE', 0, 'A_PREACCEPTED', 'A_DECLINED'],\n 462: ['A_SUBMITTED', 'COMPLETE', 1, 'A_PARTLYSUBMITTED', 'A_PARTLYSUBMITTED'],\n 463: ['A_PARTLYSUBMITTED',\n  'COMPLETE',\n  0,\n  'A_PREACCEPTED',\n  'W_Afhandelen leads'],\n 465: ['A_SUBMITTED', 'COMPLETE', 1, 'A_PARTLYSUBMITTED', 'A_PARTLYSUBMITTED'],\n 466: ['A_PARTLYSUBMITTED', 'COMPLETE', 0, 'A_PREACCEPTED', 'A_DECLINED'],\n 468: ['A_SUBMITTED', 'COMPLETE', 1, 'A_PARTLYSUBMITTED', 'A_PARTLYSUBMITTED'],\n 469: ['A_PARTLYSUBMITTED', 'COMPLETE', 0, 'A_PREACCEPTED', 'A_DECLINED'],\n 471: ['A_SUBMITTED', 'COMPLETE', 1, 'A_PARTLYSUBMITTED', 'A_PARTLYSUBMITTED'],\n 472: ['A_PARTLYSUBMITTED',\n  'COMPLETE',\n  0,\n  'A_PREACCEPTED',\n  'W_Afhandelen leads'],\n 474: ['A_SUBMITTED', 'COMPLETE', 1, 'A_PARTLYSUBMITTED', 'A_PARTLYSUBMITTED'],\n 475: ['A_PARTLYSUBMITTED',\n  'COMPLETE',\n  0,\n  'A_PREACCEPTED',\n  'W_Afhandelen leads'],\n 477: ['A_SUBMITTED', 'COMPLETE', 1, 'A_PARTLYSUBMITTED', 'A_PARTLYSUBMITTED'],\n 478: ['A_PARTLYSUBMITTED',\n  'COMPLETE',\n  0,\n  'A_PREACCEPTED',\n  'W_Afhandelen leads'],\n 480: ['A_SUBMITTED', 'COMPLETE', 1, 'A_PARTLYSUBMITTED', 'A_PARTLYSUBMITTED'],\n 481: ['A_PARTLYSUBMITTED', 'COMPLETE', 0, 'A_PREACCEPTED', 'A_DECLINED'],\n 483: ['A_SUBMITTED', 'COMPLETE', 1, 'A_PARTLYSUBMITTED', 'A_PARTLYSUBMITTED'],\n 485: ['A_SUBMITTED', 'COMPLETE', 1, 'A_PARTLYSUBMITTED', 'A_PARTLYSUBMITTED'],\n 486: ['A_PARTLYSUBMITTED', 'COMPLETE', 0, 'A_PREACCEPTED', 'A_DECLINED'],\n 487: ['A_PARTLYSUBMITTED', 'COMPLETE', 1, 'A_PREACCEPTED', 'A_PREACCEPTED'],\n 488: ['A_PREACCEPTED',\n  'COMPLETE',\n  1,\n  'W_Completeren aanvraag',\n  'W_Completeren aanvraag'],\n 490: ['A_SUBMITTED',\n  'COMPLETE',\n  0,\n  'W_Nabellen offertes',\n  'A_PARTLYSUBMITTED'],\n 491: ['A_PARTLYSUBMITTED',\n  'COMPLETE',\n  0,\n  'A_PREACCEPTED',\n  'W_Beoordelen fraude'],\n 493: ['A_SUBMITTED', 'COMPLETE', 1, 'A_PARTLYSUBMITTED', 'A_PARTLYSUBMITTED'],\n 494: ['A_PARTLYSUBMITTED',\n  'COMPLETE',\n  0,\n  'A_PREACCEPTED',\n  'W_Afhandelen leads'],\n 496: ['A_SUBMITTED', 'COMPLETE', 1, 'A_PARTLYSUBMITTED', 'A_PARTLYSUBMITTED'],\n 497: ['A_PARTLYSUBMITTED', 'COMPLETE', 0, 'A_PREACCEPTED', 'A_DECLINED'],\n 499: ['A_SUBMITTED', 'COMPLETE', 1, 'A_PARTLYSUBMITTED', 'A_PARTLYSUBMITTED'],\n 500: ['A_PARTLYSUBMITTED',\n  'COMPLETE',\n  0,\n  'A_PREACCEPTED',\n  'W_Afhandelen leads'],\n 502: ['A_SUBMITTED', 'COMPLETE', 1, 'A_PARTLYSUBMITTED', 'A_PARTLYSUBMITTED'],\n 503: ['A_PARTLYSUBMITTED', 'COMPLETE', 1, 'A_PREACCEPTED', 'A_PREACCEPTED'],\n 504: ['A_PREACCEPTED',\n  'COMPLETE',\n  1,\n  'W_Completeren aanvraag',\n  'W_Completeren aanvraag'],\n 506: ['A_SUBMITTED', 'COMPLETE', 1, 'A_PARTLYSUBMITTED', 'A_PARTLYSUBMITTED'],\n 507: ['A_PARTLYSUBMITTED', 'COMPLETE', 0, 'A_PREACCEPTED', 'A_DECLINED'],\n 509: ['A_SUBMITTED', 'COMPLETE', 1, 'A_PARTLYSUBMITTED', 'A_PARTLYSUBMITTED'],\n 510: ['A_PARTLYSUBMITTED',\n  'COMPLETE',\n  0,\n  'A_PREACCEPTED',\n  'W_Afhandelen leads'],\n 512: ['A_SUBMITTED', 'COMPLETE', 1, 'A_PARTLYSUBMITTED', 'A_PARTLYSUBMITTED'],\n 514: ['A_SUBMITTED', 'COMPLETE', 1, 'A_PARTLYSUBMITTED', 'A_PARTLYSUBMITTED'],\n 515: ['A_PARTLYSUBMITTED', 'COMPLETE', 1, 'A_PREACCEPTED', 'A_PREACCEPTED'],\n 516: ['A_PREACCEPTED',\n  'COMPLETE',\n  1,\n  'W_Completeren aanvraag',\n  'W_Completeren aanvraag'],\n 517: ['A_PARTLYSUBMITTED', 'COMPLETE', 1, 'A_PREACCEPTED', 'A_PREACCEPTED'],\n 518: ['A_PREACCEPTED',\n  'COMPLETE',\n  1,\n  'W_Completeren aanvraag',\n  'W_Completeren aanvraag'],\n 520: ['A_SUBMITTED',\n  'COMPLETE',\n  0,\n  'W_Nabellen offertes',\n  'A_PARTLYSUBMITTED'],\n 521: ['A_PARTLYSUBMITTED',\n  'COMPLETE',\n  0,\n  'A_PREACCEPTED',\n  'W_Afhandelen leads'],\n 523: ['A_SUBMITTED', 'COMPLETE', 1, 'A_PARTLYSUBMITTED', 'A_PARTLYSUBMITTED'],\n 524: ['A_PARTLYSUBMITTED', 'COMPLETE', 1, 'A_PREACCEPTED', 'A_PREACCEPTED'],\n 525: ['A_PREACCEPTED',\n  'COMPLETE',\n  1,\n  'W_Completeren aanvraag',\n  'W_Completeren aanvraag'],\n 527: ['A_SUBMITTED', 'COMPLETE', 1, 'A_PARTLYSUBMITTED', 'A_PARTLYSUBMITTED'],\n 528: ['A_PARTLYSUBMITTED',\n  'COMPLETE',\n  1,\n  'W_Afhandelen leads',\n  'W_Afhandelen leads'],\n 530: ['A_SUBMITTED', 'COMPLETE', 1, 'A_PARTLYSUBMITTED', 'A_PARTLYSUBMITTED'],\n 531: ['A_PARTLYSUBMITTED', 'COMPLETE', 0, 'A_PREACCEPTED', 'A_DECLINED'],\n 533: ['A_SUBMITTED', 'COMPLETE', 1, 'A_PARTLYSUBMITTED', 'A_PARTLYSUBMITTED'],\n 534: ['A_PARTLYSUBMITTED', 'COMPLETE', 1, 'A_PREACCEPTED', 'A_PREACCEPTED'],\n 535: ['A_PREACCEPTED',\n  'COMPLETE',\n  1,\n  'W_Completeren aanvraag',\n  'W_Completeren aanvraag'],\n 537: ['A_SUBMITTED', 'COMPLETE', 1, 'A_PARTLYSUBMITTED', 'A_PARTLYSUBMITTED'],\n 538: ['A_PARTLYSUBMITTED', 'COMPLETE', 1, 'A_PREACCEPTED', 'A_PREACCEPTED'],\n 539: ['A_PREACCEPTED',\n  'COMPLETE',\n  1,\n  'W_Completeren aanvraag',\n  'W_Completeren aanvraag'],\n 541: ['A_SUBMITTED', 'COMPLETE', 1, 'A_PARTLYSUBMITTED', 'A_PARTLYSUBMITTED'],\n 542: ['A_PARTLYSUBMITTED',\n  'COMPLETE',\n  0,\n  'A_PREACCEPTED',\n  'W_Afhandelen leads'],\n 544: ['A_SUBMITTED',\n  'COMPLETE',\n  0,\n  'W_Nabellen offertes',\n  'A_PARTLYSUBMITTED'],\n 545: ['A_PARTLYSUBMITTED',\n  'COMPLETE',\n  0,\n  'W_Nabellen offertes',\n  'W_Afhandelen leads'],\n 547: ['A_SUBMITTED', 'COMPLETE', 1, 'A_PARTLYSUBMITTED', 'A_PARTLYSUBMITTED'],\n 548: ['A_PARTLYSUBMITTED', 'COMPLETE', 1, 'A_PREACCEPTED', 'A_PREACCEPTED'],\n 549: ['A_PREACCEPTED',\n  'COMPLETE',\n  1,\n  'W_Completeren aanvraag',\n  'W_Completeren aanvraag'],\n 550: ['W_Afhandelen leads',\n  'SCHEDULE',\n  1,\n  'W_Afhandelen leads',\n  'W_Afhandelen leads'],\n 551: ['W_Afhandelen leads', 'START', 0, 'A_PREACCEPTED', 'A_DECLINED'],\n 552: ['A_DECLINED',\n  'COMPLETE',\n  1,\n  'W_Afhandelen leads',\n  'W_Afhandelen leads'],\n 553: ['W_Afhandelen leads',\n  'SCHEDULE',\n  1,\n  'W_Afhandelen leads',\n  'W_Afhandelen leads'],\n 554: ['W_Completeren aanvraag',\n  'SCHEDULE',\n  1,\n  'W_Completeren aanvraag',\n  'W_Completeren aanvraag'],\n 555: ['W_Afhandelen leads', 'START', 0, 'A_PREACCEPTED', 'A_DECLINED'],\n 556: ['A_DECLINED',\n  'COMPLETE',\n  0,\n  'W_Nabellen offertes',\n  'W_Afhandelen leads'],\n 557: ['W_Afhandelen leads',\n  'SCHEDULE',\n  0,\n  'W_Nabellen offertes',\n  'W_Afhandelen leads'],\n 558: ['W_Afhandelen leads',\n  'START',\n  0,\n  'W_Nabellen offertes',\n  'A_PREACCEPTED'],\n 559: ['A_PREACCEPTED',\n  'COMPLETE',\n  0,\n  'W_Nabellen offertes',\n  'W_Completeren aanvraag'],\n 560: ['W_Completeren aanvraag',\n  'SCHEDULE',\n  0,\n  'W_Nabellen offertes',\n  'W_Afhandelen leads'],\n 561: ['W_Afhandelen leads',\n  'SCHEDULE',\n  1,\n  'W_Afhandelen leads',\n  'W_Afhandelen leads'],\n 562: ['W_Afhandelen leads', 'START', 0, 'A_DECLINED', 'A_PREACCEPTED'],\n 563: ['A_PREACCEPTED',\n  'COMPLETE',\n  1,\n  'W_Completeren aanvraag',\n  'W_Completeren aanvraag'],\n 564: ['W_Completeren aanvraag',\n  'SCHEDULE',\n  0,\n  'W_Completeren aanvraag',\n  'W_Afhandelen leads'],\n 565: ['W_Afhandelen leads',\n  'SCHEDULE',\n  1,\n  'W_Afhandelen leads',\n  'W_Afhandelen leads'],\n 566: ['W_Completeren aanvraag',\n  'SCHEDULE',\n  1,\n  'W_Completeren aanvraag',\n  'W_Completeren aanvraag'],\n 567: ['W_Completeren aanvraag',\n  'SCHEDULE',\n  1,\n  'W_Completeren aanvraag',\n  'W_Completeren aanvraag'],\n 568: ['W_Afhandelen leads',\n  'SCHEDULE',\n  1,\n  'W_Afhandelen leads',\n  'W_Afhandelen leads'],\n 569: ['W_Afhandelen leads',\n  'SCHEDULE',\n  0,\n  'W_Nabellen offertes',\n  'W_Afhandelen leads'],\n 570: ['W_Afhandelen leads',\n  'SCHEDULE',\n  1,\n  'W_Afhandelen leads',\n  'W_Afhandelen leads'],\n 571: ['W_Afhandelen leads',\n  'SCHEDULE',\n  0,\n  'W_Nabellen offertes',\n  'W_Afhandelen leads'],\n 572: ['W_Afhandelen leads',\n  'START',\n  0,\n  'W_Nabellen offertes',\n  'A_PREACCEPTED'],\n 573: ['A_PREACCEPTED',\n  'COMPLETE',\n  0,\n  'W_Nabellen offertes',\n  'W_Completeren aanvraag'],\n 574: ['W_Completeren aanvraag',\n  'SCHEDULE',\n  0,\n  'W_Nabellen offertes',\n  'W_Afhandelen leads'],\n 575: ['W_Completeren aanvraag',\n  'START',\n  1,\n  'W_Completeren aanvraag',\n  'W_Completeren aanvraag'],\n 576: ['W_Completeren aanvraag',\n  'START',\n  1,\n  'W_Completeren aanvraag',\n  'W_Completeren aanvraag'],\n 577: ['W_Completeren aanvraag',\n  'SCHEDULE',\n  1,\n  'W_Completeren aanvraag',\n  'W_Completeren aanvraag'],\n 578: ['W_Completeren aanvraag',\n  'SCHEDULE',\n  1,\n  'W_Completeren aanvraag',\n  'W_Completeren aanvraag'],\n 579: ['W_Afhandelen leads', 'START', 1, 'A_PREACCEPTED', 'A_PREACCEPTED'],\n 580: ['A_PREACCEPTED',\n  'COMPLETE',\n  1,\n  'W_Completeren aanvraag',\n  'W_Completeren aanvraag'],\n 581: ['W_Completeren aanvraag',\n  'SCHEDULE',\n  1,\n  'W_Afhandelen leads',\n  'W_Afhandelen leads'],\n 582: ['W_Afhandelen leads', 'START', 0, 'A_PREACCEPTED', 'A_DECLINED'],\n 583: ['W_Afhandelen leads',\n  'SCHEDULE',\n  1,\n  'W_Afhandelen leads',\n  'W_Afhandelen leads'],\n 584: ['W_Afhandelen leads',\n  'SCHEDULE',\n  1,\n  'W_Afhandelen leads',\n  'W_Afhandelen leads'],\n 585: ['A_DECLINED',\n  'COMPLETE',\n  1,\n  'W_Afhandelen leads',\n  'W_Afhandelen leads'],\n 586: ['W_Afhandelen leads', 'START', 1, 'A_PREACCEPTED', 'A_PREACCEPTED'],\n 587: ['A_PREACCEPTED',\n  'COMPLETE',\n  1,\n  'W_Completeren aanvraag',\n  'W_Completeren aanvraag'],\n 588: ['W_Completeren aanvraag',\n  'SCHEDULE',\n  0,\n  'W_Completeren aanvraag',\n  'W_Afhandelen leads'],\n 589: ['W_Afhandelen leads',\n  'START',\n  0,\n  'A_PREACCEPTED',\n  'W_Afhandelen leads'],\n 590: ['W_Afhandelen leads',\n  'COMPLETE',\n  0,\n  'W_Nabellen offertes',\n  'W_Afhandelen leads'],\n 591: ['W_Afhandelen leads',\n  'SCHEDULE',\n  1,\n  'W_Afhandelen leads',\n  'W_Afhandelen leads'],\n 592: ['W_Afhandelen leads',\n  'SCHEDULE',\n  1,\n  'W_Afhandelen leads',\n  'W_Afhandelen leads'],\n 593: ['W_Completeren aanvraag',\n  'START',\n  0,\n  'W_Completeren aanvraag',\n  'A_DECLINED'],\n 594: ['W_Completeren aanvraag',\n  'START',\n  0,\n  'W_Completeren aanvraag',\n  'A_ACCEPTED'],\n 595: ['A_DECLINED',\n  'COMPLETE',\n  0,\n  'W_Nabellen offertes',\n  'W_Completeren aanvraag'],\n 596: ['A_ACCEPTED', 'COMPLETE', 1, 'O_SELECTED', 'O_SELECTED'],\n 597: ['O_SELECTED', 'COMPLETE', 1, 'A_FINALIZED', 'A_FINALIZED'],\n 598: ['A_FINALIZED', 'COMPLETE', 1, 'O_CREATED', 'O_CREATED'],\n 599: ['O_CREATED', 'COMPLETE', 1, 'O_SENT', 'O_SENT'],\n 600: ['O_SENT', 'COMPLETE', 1, 'W_Nabellen offertes', 'W_Nabellen offertes'],\n 601: ['W_Nabellen offertes',\n  'SCHEDULE',\n  1,\n  'W_Completeren aanvraag',\n  'W_Completeren aanvraag'],\n 602: ['W_Afhandelen leads', 'START', 0, 'W_Nabellen offertes', 'A_DECLINED'],\n 603: ['A_DECLINED',\n  'COMPLETE',\n  1,\n  'W_Afhandelen leads',\n  'W_Afhandelen leads'],\n 604: ['W_Afhandelen leads',\n  'SCHEDULE',\n  1,\n  'W_Afhandelen leads',\n  'W_Afhandelen leads'],\n 605: ['W_Completeren aanvraag',\n  'COMPLETE',\n  1,\n  'W_Nabellen offertes',\n  'W_Nabellen offertes'],\n 606: ['W_Completeren aanvraag',\n  'SCHEDULE',\n  1,\n  'W_Completeren aanvraag',\n  'W_Completeren aanvraag'],\n 607: ['W_Completeren aanvraag',\n  'START',\n  0,\n  'W_Completeren aanvraag',\n  'A_ACCEPTED'],\n 608: ['W_Afhandelen leads', 'START', 1, 'A_PREACCEPTED', 'A_PREACCEPTED'],\n 609: ['A_PREACCEPTED',\n  'COMPLETE',\n  1,\n  'W_Completeren aanvraag',\n  'W_Completeren aanvraag'],\n 610: ['W_Completeren aanvraag',\n  'SCHEDULE',\n  0,\n  'W_Completeren aanvraag',\n  'W_Afhandelen leads'],\n 611: ['W_Afhandelen leads', 'START', 1, 'A_PREACCEPTED', 'A_PREACCEPTED'],\n 612: ['A_PREACCEPTED',\n  'COMPLETE',\n  1,\n  'W_Completeren aanvraag',\n  'W_Completeren aanvraag'],\n 613: ['W_Completeren aanvraag',\n  'SCHEDULE',\n  0,\n  'W_Completeren aanvraag',\n  'W_Afhandelen leads'],\n 614: ['W_Afhandelen leads',\n  'SCHEDULE',\n  1,\n  'W_Afhandelen leads',\n  'W_Afhandelen leads'],\n 615: ['W_Afhandelen leads', 'START', 1, 'A_DECLINED', 'A_DECLINED'],\n 616: ['A_DECLINED',\n  'COMPLETE',\n  1,\n  'W_Afhandelen leads',\n  'W_Afhandelen leads'],\n 617: ['W_Afhandelen leads',\n  'SCHEDULE',\n  1,\n  'W_Afhandelen leads',\n  'W_Afhandelen leads'],\n 618: ['W_Afhandelen leads',\n  'SCHEDULE',\n  1,\n  'W_Afhandelen leads',\n  'W_Afhandelen leads'],\n 619: ['W_Completeren aanvraag',\n  'START',\n  1,\n  'W_Completeren aanvraag',\n  'W_Completeren aanvraag'],\n 620: ['W_Completeren aanvraag',\n  'SCHEDULE',\n  1,\n  'W_Completeren aanvraag',\n  'W_Completeren aanvraag'],\n 621: ['W_Afhandelen leads', 'START', 0, 'A_PREACCEPTED', 'A_DECLINED'],\n 622: ['A_DECLINED',\n  'COMPLETE',\n  1,\n  'W_Afhandelen leads',\n  'W_Afhandelen leads'],\n 623: ['W_Afhandelen leads',\n  'SCHEDULE',\n  0,\n  'W_Nabellen offertes',\n  'W_Afhandelen leads'],\n 624: ['W_Afhandelen leads', 'START', 1, 'A_PREACCEPTED', 'A_PREACCEPTED'],\n 625: ['A_PREACCEPTED',\n  'COMPLETE',\n  1,\n  'W_Completeren aanvraag',\n  'W_Completeren aanvraag'],\n 626: ['W_Completeren aanvraag',\n  'SCHEDULE',\n  0,\n  'W_Completeren aanvraag',\n  'W_Afhandelen leads'],\n 628: ['W_Afhandelen leads',\n  'SCHEDULE',\n  1,\n  'W_Afhandelen leads',\n  'W_Afhandelen leads'],\n 629: ['A_SUBMITTED', 'COMPLETE', 1, 'A_PARTLYSUBMITTED', 'A_PARTLYSUBMITTED'],\n 630: ['A_ACCEPTED', 'COMPLETE', 0, 'O_SELECTED', 'A_FINALIZED'],\n 631: ['A_FINALIZED', 'COMPLETE', 0, 'W_Nabellen offertes', 'O_SELECTED'],\n 632: ['O_SELECTED', 'COMPLETE', 0, 'W_Nabellen offertes', 'O_CREATED'],\n 633: ['O_CREATED', 'COMPLETE', 0, 'W_Nabellen offertes', 'O_SENT'],\n 634: ['O_SENT', 'COMPLETE', 1, 'W_Nabellen offertes', 'W_Nabellen offertes'],\n 635: ['W_Nabellen offertes',\n  'SCHEDULE',\n  1,\n  'W_Completeren aanvraag',\n  'W_Completeren aanvraag'],\n 636: ['W_Nabellen offertes',\n  'START',\n  1,\n  'W_Nabellen offertes',\n  'W_Nabellen offertes'],\n 637: ['A_PARTLYSUBMITTED', 'COMPLETE', 1, 'A_PREACCEPTED', 'A_PREACCEPTED'],\n 638: ['A_PREACCEPTED',\n  'COMPLETE',\n  1,\n  'W_Completeren aanvraag',\n  'W_Completeren aanvraag'],\n 639: ['W_Afhandelen leads', 'START', 1, 'A_PREACCEPTED', 'A_PREACCEPTED'],\n 640: ['A_PREACCEPTED',\n  'COMPLETE',\n  1,\n  'W_Completeren aanvraag',\n  'W_Completeren aanvraag'],\n 641: ['W_Completeren aanvraag',\n  'SCHEDULE',\n  1,\n  'W_Afhandelen leads',\n  'W_Afhandelen leads'],\n 642: ['W_Nabellen offertes',\n  'COMPLETE',\n  1,\n  'W_Nabellen offertes',\n  'W_Nabellen offertes'],\n 643: ['W_Nabellen offertes', 'START', 0, 'O_SELECTED', 'W_Nabellen offertes'],\n 644: ['W_Completeren aanvraag',\n  'START',\n  1,\n  'W_Completeren aanvraag',\n  'W_Completeren aanvraag'],\n 645: ['W_Completeren aanvraag',\n  'SCHEDULE',\n  1,\n  'W_Completeren aanvraag',\n  'W_Completeren aanvraag'],\n 646: ['W_Completeren aanvraag',\n  'COMPLETE',\n  1,\n  'W_Nabellen offertes',\n  'W_Nabellen offertes'],\n 647: ['W_Afhandelen leads', 'START', 0, 'A_PREACCEPTED', 'A_DECLINED'],\n 648: ['A_DECLINED',\n  'COMPLETE',\n  1,\n  'W_Afhandelen leads',\n  'W_Afhandelen leads'],\n 649: ['W_Afhandelen leads',\n  'SCHEDULE',\n  1,\n  'W_Afhandelen leads',\n  'W_Afhandelen leads'],\n 650: ['W_Afhandelen leads',\n  'SCHEDULE',\n  1,\n  'W_Afhandelen leads',\n  'W_Afhandelen leads'],\n 652: ['A_SUBMITTED', 'COMPLETE', 1, 'A_PARTLYSUBMITTED', 'A_PARTLYSUBMITTED'],\n 653: ['W_Afhandelen leads',\n  'START',\n  0,\n  'A_PREACCEPTED',\n  'W_Afhandelen leads'],\n 654: ['W_Afhandelen leads',\n  'START',\n  0,\n  'A_PREACCEPTED',\n  'W_Afhandelen leads'],\n 655: ['A_PARTLYSUBMITTED',\n  'COMPLETE',\n  0,\n  'A_PREACCEPTED',\n  'W_Afhandelen leads'],\n 656: ['W_Afhandelen leads',\n  'SCHEDULE',\n  1,\n  'W_Afhandelen leads',\n  'W_Afhandelen leads'],\n 657: ['W_Afhandelen leads', 'START', 0, 'A_PREACCEPTED', 'A_DECLINED'],\n 658: ['A_DECLINED',\n  'COMPLETE',\n  1,\n  'W_Afhandelen leads',\n  'W_Afhandelen leads'],\n 659: ['W_Completeren aanvraag',\n  'START',\n  1,\n  'W_Completeren aanvraag',\n  'W_Completeren aanvraag'],\n 660: ['W_Completeren aanvraag',\n  'SCHEDULE',\n  1,\n  'W_Completeren aanvraag',\n  'W_Completeren aanvraag'],\n 661: ['W_Afhandelen leads', 'START', 1, 'A_DECLINED', 'A_DECLINED'],\n 662: ['A_DECLINED',\n  'COMPLETE',\n  1,\n  'W_Afhandelen leads',\n  'W_Afhandelen leads'],\n 663: ['W_Nabellen offertes',\n  'START',\n  0,\n  'W_Nabellen offertes',\n  'O_CANCELLED'],\n 664: ['O_CANCELLED', 'COMPLETE', 0, 'W_Nabellen offertes', 'O_SELECTED'],\n 665: ['O_SELECTED', 'COMPLETE', 0, 'W_Nabellen offertes', 'O_CREATED'],\n 666: ['O_CREATED', 'COMPLETE', 1, 'O_SENT', 'O_SENT'],\n 667: ['O_SENT', 'COMPLETE', 1, 'W_Nabellen offertes', 'W_Nabellen offertes'],\n 668: ['W_Nabellen offertes',\n  'SCHEDULE',\n  0,\n  'W_Completeren aanvraag',\n  'W_Nabellen offertes'],\n 669: ['W_Afhandelen leads',\n  'COMPLETE',\n  1,\n  'W_Afhandelen leads',\n  'W_Afhandelen leads'],\n 670: ['W_Afhandelen leads', 'START', 0, 'A_DECLINED', 'A_PREACCEPTED'],\n 671: ['A_PREACCEPTED',\n  'COMPLETE',\n  1,\n  'W_Completeren aanvraag',\n  'W_Completeren aanvraag'],\n 672: ['W_Completeren aanvraag',\n  'SCHEDULE',\n  0,\n  'W_Completeren aanvraag',\n  'W_Afhandelen leads'],\n 673: ['W_Afhandelen leads',\n  'COMPLETE',\n  0,\n  'W_Nabellen offertes',\n  'W_Afhandelen leads'],\n 674: ['W_Nabellen offertes',\n  'COMPLETE',\n  1,\n  'W_Nabellen offertes',\n  'W_Nabellen offertes'],\n 675: ['W_Afhandelen leads',\n  'START',\n  0,\n  'W_Nabellen offertes',\n  'A_PREACCEPTED'],\n 676: ['A_PREACCEPTED',\n  'COMPLETE',\n  1,\n  'W_Completeren aanvraag',\n  'W_Completeren aanvraag'],\n 677: ['W_Completeren aanvraag',\n  'SCHEDULE',\n  0,\n  'W_Completeren aanvraag',\n  'W_Afhandelen leads'],\n 678: ['W_Completeren aanvraag',\n  'START',\n  1,\n  'W_Completeren aanvraag',\n  'W_Completeren aanvraag'],\n 679: ['W_Afhandelen leads',\n  'COMPLETE',\n  1,\n  'W_Completeren aanvraag',\n  'W_Completeren aanvraag'],\n 680: ['W_Completeren aanvraag',\n  'SCHEDULE',\n  1,\n  'W_Completeren aanvraag',\n  'W_Completeren aanvraag'],\n 681: ['W_Completeren aanvraag',\n  'START',\n  0,\n  'W_Completeren aanvraag',\n  'A_DECLINED'],\n 682: ['A_DECLINED',\n  'COMPLETE',\n  1,\n  'W_Completeren aanvraag',\n  'W_Completeren aanvraag'],\n 683: ['W_Nabellen offertes',\n  'START',\n  1,\n  'W_Nabellen offertes',\n  'W_Nabellen offertes'],\n 684: ['W_Afhandelen leads', 'START', 0, 'A_DECLINED', 'W_Afhandelen leads'],\n 685: ['W_Completeren aanvraag',\n  'COMPLETE',\n  1,\n  'W_Completeren aanvraag',\n  'W_Completeren aanvraag'],\n 686: ['W_Afhandelen leads',\n  'COMPLETE',\n  1,\n  'W_Afhandelen leads',\n  'W_Afhandelen leads'],\n 687: ['W_Completeren aanvraag',\n  'SCHEDULE',\n  1,\n  'W_Completeren aanvraag',\n  'W_Completeren aanvraag'],\n 688: ['W_Completeren aanvraag',\n  'START',\n  0,\n  'W_Completeren aanvraag',\n  'A_ACCEPTED'],\n 689: ['W_Afhandelen leads', 'START', 0, 'A_DECLINED', 'A_PREACCEPTED'],\n 690: ['A_PREACCEPTED',\n  'COMPLETE',\n  1,\n  'W_Completeren aanvraag',\n  'W_Completeren aanvraag'],\n 691: ['W_Completeren aanvraag',\n  'SCHEDULE',\n  0,\n  'W_Completeren aanvraag',\n  'W_Afhandelen leads'],\n 692: ['W_Afhandelen leads',\n  'COMPLETE',\n  1,\n  'W_Completeren aanvraag',\n  'W_Completeren aanvraag'],\n 693: ['W_Completeren aanvraag',\n  'START',\n  1,\n  'W_Completeren aanvraag',\n  'W_Completeren aanvraag'],\n 694: ['W_Afhandelen leads', 'START', 0, 'A_DECLINED', 'A_PREACCEPTED'],\n 695: ['A_PREACCEPTED',\n  'COMPLETE',\n  1,\n  'W_Completeren aanvraag',\n  'W_Completeren aanvraag'],\n 696: ['W_Completeren aanvraag',\n  'SCHEDULE',\n  0,\n  'W_Completeren aanvraag',\n  'W_Afhandelen leads'],\n 697: ['W_Afhandelen leads',\n  'COMPLETE',\n  1,\n  'W_Completeren aanvraag',\n  'W_Completeren aanvraag'],\n 698: ['W_Completeren aanvraag',\n  'START',\n  0,\n  'W_Completeren aanvraag',\n  'A_ACCEPTED'],\n 699: ['W_Completeren aanvraag',\n  'START',\n  0,\n  'W_Completeren aanvraag',\n  'A_ACCEPTED'],\n 700: ['A_ACCEPTED', 'COMPLETE', 1, 'O_SELECTED', 'O_SELECTED'],\n 701: ['O_SELECTED', 'COMPLETE', 1, 'A_FINALIZED', 'A_FINALIZED'],\n 702: ['A_FINALIZED', 'COMPLETE', 1, 'O_CREATED', 'O_CREATED'],\n 703: ['O_CREATED', 'COMPLETE', 1, 'O_SENT', 'O_SENT'],\n 704: ['O_SENT', 'COMPLETE', 1, 'W_Nabellen offertes', 'W_Nabellen offertes'],\n 705: ['W_Nabellen offertes',\n  'SCHEDULE',\n  1,\n  'W_Completeren aanvraag',\n  'W_Completeren aanvraag'],\n 707: ['A_SUBMITTED', 'COMPLETE', 1, 'A_PARTLYSUBMITTED', 'A_PARTLYSUBMITTED'],\n 708: ['W_Completeren aanvraag',\n  'COMPLETE',\n  1,\n  'W_Nabellen offertes',\n  'W_Nabellen offertes'],\n 709: ['A_PARTLYSUBMITTED',\n  'COMPLETE',\n  0,\n  'A_PREACCEPTED',\n  'W_Afhandelen leads'],\n 710: ['A_ACCEPTED', 'COMPLETE', 1, 'O_SELECTED', 'O_SELECTED'],\n 711: ['O_SELECTED', 'COMPLETE', 1, 'A_FINALIZED', 'A_FINALIZED'],\n 712: ['A_FINALIZED', 'COMPLETE', 1, 'O_CREATED', 'O_CREATED'],\n 713: ['O_CREATED', 'COMPLETE', 1, 'O_SENT', 'O_SENT'],\n 714: ['O_SENT', 'COMPLETE', 1, 'W_Nabellen offertes', 'W_Nabellen offertes'],\n 715: ['W_Nabellen offertes', 'START', 0, 'W_Nabellen offertes', 'O_SELECTED'],\n 716: ['O_SELECTED', 'COMPLETE', 0, 'W_Nabellen offertes', 'O_CANCELLED'],\n 717: ['O_CANCELLED', 'COMPLETE', 0, 'W_Nabellen offertes', 'O_CREATED'],\n 718: ['O_CREATED', 'COMPLETE', 0, 'W_Nabellen offertes', 'O_SENT'],\n 719: ['O_SENT', 'COMPLETE', 1, 'W_Nabellen offertes', 'W_Nabellen offertes'],\n 720: ['W_Nabellen offertes',\n  'SCHEDULE',\n  1,\n  'W_Completeren aanvraag',\n  'W_Completeren aanvraag'],\n 721: ['W_Nabellen offertes',\n  'SCHEDULE',\n  0,\n  'W_Completeren aanvraag',\n  'W_Nabellen offertes'],\n 722: ['W_Nabellen offertes',\n  'COMPLETE',\n  1,\n  'W_Nabellen offertes',\n  'W_Nabellen offertes'],\n 723: ['W_Afhandelen leads',\n  'SCHEDULE',\n  1,\n  'W_Afhandelen leads',\n  'W_Afhandelen leads'],\n 724: ['W_Completeren aanvraag',\n  'START',\n  0,\n  'W_Completeren aanvraag',\n  'A_ACCEPTED'],\n 725: ['W_Nabellen offertes',\n  'COMPLETE',\n  1,\n  'W_Nabellen offertes',\n  'W_Nabellen offertes'],\n 726: ['W_Nabellen offertes',\n  'START',\n  1,\n  'W_Nabellen offertes',\n  'W_Nabellen offertes'],\n 727: ['W_Completeren aanvraag',\n  'COMPLETE',\n  1,\n  'W_Nabellen offertes',\n  'W_Nabellen offertes'],\n 728: ['W_Nabellen offertes',\n  'START',\n  1,\n  'W_Nabellen offertes',\n  'W_Nabellen offertes'],\n 729: ['A_ACCEPTED', 'COMPLETE', 1, 'O_SELECTED', 'O_SELECTED'],\n 730: ['O_SELECTED', 'COMPLETE', 1, 'A_FINALIZED', 'A_FINALIZED'],\n 731: ['A_FINALIZED', 'COMPLETE', 1, 'O_CREATED', 'O_CREATED'],\n 732: ['O_CREATED', 'COMPLETE', 1, 'O_SENT', 'O_SENT'],\n 733: ['O_SENT', 'COMPLETE', 1, 'W_Nabellen offertes', 'W_Nabellen offertes'],\n 734: ['W_Nabellen offertes',\n  'SCHEDULE',\n  1,\n  'W_Completeren aanvraag',\n  'W_Completeren aanvraag'],\n 735: ['W_Completeren aanvraag',\n  'SCHEDULE',\n  1,\n  'W_Completeren aanvraag',\n  'W_Completeren aanvraag'],\n 736: ['W_Afhandelen leads', 'START', 1, 'A_PREACCEPTED', 'A_PREACCEPTED'],\n 737: ['A_PREACCEPTED',\n  'COMPLETE',\n  1,\n  'W_Completeren aanvraag',\n  'W_Completeren aanvraag'],\n 738: ['W_Completeren aanvraag',\n  'SCHEDULE',\n  0,\n  'W_Completeren aanvraag',\n  'W_Afhandelen leads'],\n 739: ['W_Afhandelen leads',\n  'COMPLETE',\n  1,\n  'W_Completeren aanvraag',\n  'W_Completeren aanvraag'],\n 740: ['W_Completeren aanvraag',\n  'START',\n  1,\n  'W_Completeren aanvraag',\n  'W_Completeren aanvraag'],\n 741: ['A_ACCEPTED', 'COMPLETE', 1, 'O_SELECTED', 'O_SELECTED'],\n 742: ['O_SELECTED', 'COMPLETE', 1, 'A_FINALIZED', 'A_FINALIZED'],\n 743: ['A_FINALIZED', 'COMPLETE', 1, 'O_CREATED', 'O_CREATED'],\n 744: ['O_CREATED', 'COMPLETE', 1, 'O_SENT', 'O_SENT'],\n 745: ['O_SENT', 'COMPLETE', 1, 'W_Nabellen offertes', 'W_Nabellen offertes'],\n 746: ['W_Nabellen offertes',\n  'SCHEDULE',\n  1,\n  'W_Completeren aanvraag',\n  'W_Completeren aanvraag'],\n 747: ['W_Completeren aanvraag',\n  'COMPLETE',\n  1,\n  'W_Nabellen offertes',\n  'W_Nabellen offertes'],\n 748: ['W_Nabellen offertes',\n  'START',\n  1,\n  'W_Nabellen offertes',\n  'W_Nabellen offertes'],\n 749: ['W_Completeren aanvraag',\n  'START',\n  1,\n  'W_Completeren aanvraag',\n  'W_Completeren aanvraag'],\n 750: ['W_Nabellen offertes',\n  'START',\n  1,\n  'W_Nabellen offertes',\n  'W_Nabellen offertes'],\n 751: ['W_Completeren aanvraag',\n  'SCHEDULE',\n  1,\n  'W_Completeren aanvraag',\n  'W_Completeren aanvraag'],\n 752: ['W_Nabellen offertes',\n  'COMPLETE',\n  1,\n  'W_Nabellen offertes',\n  'W_Nabellen offertes'],\n 753: ['W_Nabellen offertes',\n  'START',\n  1,\n  'W_Nabellen offertes',\n  'W_Nabellen offertes'],\n 755: ['A_SUBMITTED', 'COMPLETE', 1, 'A_PARTLYSUBMITTED', 'A_PARTLYSUBMITTED'],\n 756: ['A_PARTLYSUBMITTED', 'COMPLETE', 0, 'A_PREACCEPTED', 'A_DECLINED'],\n 757: ['W_Completeren aanvraag',\n  'SCHEDULE',\n  1,\n  'W_Completeren aanvraag',\n  'W_Completeren aanvraag'],\n 758: ['W_Completeren aanvraag',\n  'COMPLETE',\n  1,\n  'W_Completeren aanvraag',\n  'W_Completeren aanvraag'],\n 759: ['W_Completeren aanvraag',\n  'START',\n  1,\n  'W_Completeren aanvraag',\n  'W_Completeren aanvraag'],\n 760: ['W_Completeren aanvraag',\n  'SCHEDULE',\n  1,\n  'W_Completeren aanvraag',\n  'W_Completeren aanvraag'],\n 761: ['W_Completeren aanvraag',\n  'START',\n  1,\n  'W_Completeren aanvraag',\n  'W_Completeren aanvraag'],\n 762: ['W_Completeren aanvraag',\n  'SCHEDULE',\n  1,\n  'W_Completeren aanvraag',\n  'W_Completeren aanvraag'],\n 763: ['W_Completeren aanvraag',\n  'START',\n  1,\n  'W_Completeren aanvraag',\n  'W_Completeren aanvraag'],\n 764: ['W_Completeren aanvraag',\n  'COMPLETE',\n  1,\n  'W_Completeren aanvraag',\n  'W_Completeren aanvraag'],\n 765: ['W_Completeren aanvraag',\n  'START',\n  0,\n  'W_Completeren aanvraag',\n  'A_ACCEPTED'],\n 766: ['W_Completeren aanvraag',\n  'START',\n  0,\n  'W_Completeren aanvraag',\n  'A_ACCEPTED'],\n 767: ['A_ACCEPTED', 'COMPLETE', 1, 'O_SELECTED', 'O_SELECTED'],\n 768: ['O_SELECTED', 'COMPLETE', 1, 'A_FINALIZED', 'A_FINALIZED'],\n 769: ['A_FINALIZED', 'COMPLETE', 1, 'O_CREATED', 'O_CREATED'],\n 770: ['O_CREATED', 'COMPLETE', 1, 'O_SENT', 'O_SENT'],\n 771: ['O_SENT', 'COMPLETE', 1, 'W_Nabellen offertes', 'W_Nabellen offertes'],\n 772: ['W_Nabellen offertes',\n  'SCHEDULE',\n  1,\n  'W_Completeren aanvraag',\n  'W_Completeren aanvraag'],\n 773: ['A_ACCEPTED', 'COMPLETE', 1, 'O_SELECTED', 'O_SELECTED'],\n 774: ['O_SELECTED', 'COMPLETE', 1, 'A_FINALIZED', 'A_FINALIZED'],\n 775: ['A_FINALIZED', 'COMPLETE', 1, 'O_CREATED', 'O_CREATED'],\n 776: ['O_CREATED', 'COMPLETE', 1, 'O_SENT', 'O_SENT'],\n 777: ['O_SENT', 'COMPLETE', 1, 'W_Nabellen offertes', 'W_Nabellen offertes'],\n 778: ['W_Nabellen offertes',\n  'SCHEDULE',\n  1,\n  'W_Completeren aanvraag',\n  'W_Completeren aanvraag'],\n 779: ['W_Completeren aanvraag',\n  'COMPLETE',\n  1,\n  'W_Completeren aanvraag',\n  'W_Completeren aanvraag'],\n 780: ['W_Completeren aanvraag',\n  'START',\n  1,\n  'W_Completeren aanvraag',\n  'W_Completeren aanvraag'],\n 781: ['W_Completeren aanvraag',\n  'SCHEDULE',\n  1,\n  'W_Completeren aanvraag',\n  'W_Completeren aanvraag'],\n 782: ['W_Completeren aanvraag',\n  'SCHEDULE',\n  1,\n  'W_Completeren aanvraag',\n  'W_Completeren aanvraag'],\n 783: ['W_Completeren aanvraag',\n  'START',\n  1,\n  'W_Completeren aanvraag',\n  'W_Completeren aanvraag'],\n 784: ['W_Completeren aanvraag',\n  'SCHEDULE',\n  1,\n  'W_Completeren aanvraag',\n  'W_Completeren aanvraag'],\n 785: ['W_Completeren aanvraag',\n  'START',\n  0,\n  'W_Completeren aanvraag',\n  'A_ACCEPTED'],\n 786: ['W_Completeren aanvraag',\n  'START',\n  0,\n  'A_ACCEPTED',\n  'W_Completeren aanvraag'],\n 787: ['W_Completeren aanvraag',\n  'SCHEDULE',\n  1,\n  'W_Completeren aanvraag',\n  'W_Completeren aanvraag'],\n 788: ['W_Completeren aanvraag',\n  'START',\n  1,\n  'W_Completeren aanvraag',\n  'W_Completeren aanvraag'],\n 789: ['W_Completeren aanvraag',\n  'START',\n  0,\n  'W_Completeren aanvraag',\n  'A_ACCEPTED'],\n 790: ['W_Completeren aanvraag',\n  'SCHEDULE',\n  1,\n  'W_Completeren aanvraag',\n  'W_Completeren aanvraag'],\n 791: ['W_Completeren aanvraag',\n  'COMPLETE',\n  1,\n  'W_Completeren aanvraag',\n  'W_Completeren aanvraag'],\n 792: ['W_Completeren aanvraag',\n  'START',\n  0,\n  'W_Completeren aanvraag',\n  'A_ACCEPTED'],\n 794: ['W_Completeren aanvraag',\n  'COMPLETE',\n  1,\n  'W_Completeren aanvraag',\n  'W_Completeren aanvraag'],\n 795: ['A_SUBMITTED', 'COMPLETE', 1, 'A_PARTLYSUBMITTED', 'A_PARTLYSUBMITTED'],\n 797: ['A_ACCEPTED', 'COMPLETE', 0, 'O_SELECTED', 'A_FINALIZED'],\n 796: ['A_FINALIZED', 'COMPLETE', 1, 'O_SELECTED', 'O_SELECTED'],\n 798: ['O_SELECTED', 'COMPLETE', 1, 'O_CREATED', 'O_CREATED'],\n 799: ['O_CREATED', 'COMPLETE', 1, 'O_SENT', 'O_SENT'],\n 800: ['O_SENT', 'COMPLETE', 1, 'W_Nabellen offertes', 'W_Nabellen offertes'],\n 801: ['W_Nabellen offertes',\n  'SCHEDULE',\n  1,\n  'W_Completeren aanvraag',\n  'W_Completeren aanvraag'],\n 802: ['A_PARTLYSUBMITTED', 'COMPLETE', 1, 'A_DECLINED', 'A_DECLINED'],\n 803: ['A_ACCEPTED', 'COMPLETE', 0, 'O_SELECTED', 'A_FINALIZED'],\n 804: ['A_FINALIZED', 'COMPLETE', 1, 'O_SELECTED', 'O_SELECTED'],\n 805: ['O_SELECTED', 'COMPLETE', 1, 'O_CREATED', 'O_CREATED'],\n 806: ['O_CREATED', 'COMPLETE', 1, 'O_SENT', 'O_SENT'],\n 807: ['O_SENT', 'COMPLETE', 1, 'W_Nabellen offertes', 'W_Nabellen offertes'],\n 808: ['W_Nabellen offertes',\n  'SCHEDULE',\n  1,\n  'W_Completeren aanvraag',\n  'W_Completeren aanvraag'],\n 809: ['W_Completeren aanvraag',\n  'COMPLETE',\n  1,\n  'W_Nabellen offertes',\n  'W_Nabellen offertes'],\n 810: ['W_Nabellen offertes',\n  'START',\n  1,\n  'W_Nabellen offertes',\n  'W_Nabellen offertes'],\n 811: ['W_Completeren aanvraag',\n  'SCHEDULE',\n  1,\n  'W_Completeren aanvraag',\n  'W_Completeren aanvraag'],\n 812: ['W_Completeren aanvraag', 'START', 0, 'A_ACCEPTED', 'A_DECLINED'],\n 813: ['A_DECLINED',\n  'COMPLETE',\n  0,\n  'W_Nabellen offertes',\n  'W_Completeren aanvraag'],\n 815: ['A_SUBMITTED',\n  'COMPLETE',\n  0,\n  'W_Nabellen offertes',\n  'A_PARTLYSUBMITTED'],\n 816: ['A_PARTLYSUBMITTED',\n  'COMPLETE',\n  0,\n  'W_Afhandelen leads',\n  'A_PREACCEPTED'],\n 817: ['A_PREACCEPTED',\n  'COMPLETE',\n  0,\n  'W_Nabellen offertes',\n  'W_Completeren aanvraag'],\n 819: ['A_SUBMITTED',\n  'COMPLETE',\n  0,\n  'W_Nabellen offertes',\n  'A_PARTLYSUBMITTED'],\n 820: ['A_PARTLYSUBMITTED',\n  'COMPLETE',\n  0,\n  'A_PREACCEPTED',\n  'W_Afhandelen leads'],\n 821: ['W_Afhandelen leads',\n  'SCHEDULE',\n  1,\n  'W_Afhandelen leads',\n  'W_Afhandelen leads'],\n 822: ['W_Afhandelen leads', 'START', 0, 'A_DECLINED', 'A_PREACCEPTED'],\n 823: ['A_PREACCEPTED',\n  'COMPLETE',\n  1,\n  'W_Completeren aanvraag',\n  'W_Completeren aanvraag'],\n 824: ['W_Completeren aanvraag',\n  'SCHEDULE',\n  0,\n  'W_Completeren aanvraag',\n  'W_Afhandelen leads'],\n 825: ['W_Afhandelen leads',\n  'COMPLETE',\n  1,\n  'W_Completeren aanvraag',\n  'W_Completeren aanvraag'],\n 826: ['A_ACCEPTED', 'COMPLETE', 1, 'O_SELECTED', 'O_SELECTED'],\n 827: ['O_SELECTED', 'COMPLETE', 1, 'A_FINALIZED', 'A_FINALIZED'],\n 828: ['A_FINALIZED', 'COMPLETE', 1, 'O_CREATED', 'O_CREATED'],\n 829: ['O_CREATED', 'COMPLETE', 1, 'O_SENT', 'O_SENT'],\n 830: ['O_SENT', 'COMPLETE', 1, 'W_Nabellen offertes', 'W_Nabellen offertes'],\n 831: ['W_Nabellen offertes',\n  'SCHEDULE',\n  1,\n  'W_Completeren aanvraag',\n  'W_Completeren aanvraag'],\n 832: ['W_Completeren aanvraag',\n  'COMPLETE',\n  1,\n  'W_Nabellen offertes',\n  'W_Nabellen offertes'],\n 833: ['W_Completeren aanvraag',\n  'START',\n  1,\n  'W_Completeren aanvraag',\n  'W_Completeren aanvraag'],\n 834: ['W_Completeren aanvraag',\n  'SCHEDULE',\n  1,\n  'W_Completeren aanvraag',\n  'W_Completeren aanvraag'],\n 835: ['W_Completeren aanvraag',\n  'START',\n  0,\n  'W_Completeren aanvraag',\n  'A_ACCEPTED'],\n 837: ['A_ACCEPTED', 'COMPLETE', 0, 'O_SELECTED', 'A_FINALIZED'],\n 836: ['A_FINALIZED', 'COMPLETE', 1, 'O_SELECTED', 'O_SELECTED'],\n 838: ['O_SELECTED', 'COMPLETE', 1, 'O_CREATED', 'O_CREATED'],\n 839: ['O_CREATED', 'COMPLETE', 1, 'O_SENT', 'O_SENT'],\n 840: ['O_SENT', 'COMPLETE', 1, 'W_Nabellen offertes', 'W_Nabellen offertes'],\n 841: ['W_Nabellen offertes',\n  'SCHEDULE',\n  1,\n  'W_Completeren aanvraag',\n  'W_Completeren aanvraag'],\n 842: ['W_Completeren aanvraag',\n  'COMPLETE',\n  1,\n  'W_Nabellen offertes',\n  'W_Nabellen offertes'],\n 843: ['W_Completeren aanvraag',\n  'START',\n  0,\n  'W_Completeren aanvraag',\n  'A_ACCEPTED'],\n 844: ['W_Nabellen offertes',\n  'START',\n  1,\n  'W_Nabellen offertes',\n  'W_Nabellen offertes'],\n 845: ['W_Completeren aanvraag',\n  'START',\n  1,\n  'W_Completeren aanvraag',\n  'W_Completeren aanvraag'],\n 846: ['W_Completeren aanvraag',\n  'SCHEDULE',\n  1,\n  'W_Completeren aanvraag',\n  'W_Completeren aanvraag'],\n 847: ['W_Nabellen offertes',\n  'START',\n  1,\n  'W_Nabellen offertes',\n  'W_Nabellen offertes'],\n 848: ['A_ACCEPTED', 'COMPLETE', 0, 'O_SELECTED', 'A_FINALIZED'],\n 849: ['A_FINALIZED', 'COMPLETE', 1, 'O_SELECTED', 'O_SELECTED'],\n 850: ['O_SELECTED', 'COMPLETE', 1, 'O_CREATED', 'O_CREATED'],\n 851: ['O_CREATED', 'COMPLETE', 1, 'O_SENT', 'O_SENT'],\n 852: ['O_SENT', 'COMPLETE', 1, 'W_Nabellen offertes', 'W_Nabellen offertes'],\n 853: ['W_Nabellen offertes',\n  'SCHEDULE',\n  1,\n  'W_Completeren aanvraag',\n  'W_Completeren aanvraag'],\n 854: ['W_Completeren aanvraag',\n  'COMPLETE',\n  1,\n  'W_Nabellen offertes',\n  'W_Nabellen offertes'],\n 855: ['W_Nabellen offertes',\n  'START',\n  1,\n  'W_Nabellen offertes',\n  'W_Nabellen offertes'],\n 856: ['W_Completeren aanvraag',\n  'START',\n  1,\n  'W_Completeren aanvraag',\n  'W_Completeren aanvraag'],\n 857: ['W_Nabellen offertes',\n  'COMPLETE',\n  1,\n  'W_Nabellen offertes',\n  'W_Nabellen offertes'],\n 858: ['W_Completeren aanvraag',\n  'SCHEDULE',\n  1,\n  'W_Completeren aanvraag',\n  'W_Completeren aanvraag'],\n 859: ['W_Nabellen offertes',\n  'START',\n  1,\n  'W_Nabellen offertes',\n  'W_Nabellen offertes'],\n 860: ['W_Completeren aanvraag',\n  'COMPLETE',\n  0,\n  'W_Nabellen offertes',\n  'W_Completeren aanvraag'],\n 861: ['W_Completeren aanvraag',\n  'START',\n  0,\n  'W_Nabellen offertes',\n  'W_Completeren aanvraag'],\n 863: ['A_SUBMITTED',\n  'COMPLETE',\n  0,\n  'W_Nabellen offertes',\n  'A_PARTLYSUBMITTED'],\n 864: ['A_PARTLYSUBMITTED', 'COMPLETE', 0, 'W_Afhandelen leads', 'A_DECLINED'],\n 866: ['A_SUBMITTED', 'COMPLETE', 1, 'A_PARTLYSUBMITTED', 'A_PARTLYSUBMITTED'],\n 867: ['A_PARTLYSUBMITTED',\n  'COMPLETE',\n  0,\n  'A_PREACCEPTED',\n  'W_Afhandelen leads'],\n 869: ['A_SUBMITTED', 'COMPLETE', 1, 'A_PARTLYSUBMITTED', 'A_PARTLYSUBMITTED'],\n 870: ['W_Beoordelen fraude',\n  'SCHEDULE',\n  0,\n  'W_Nabellen offertes',\n  'W_Beoordelen fraude'],\n 871: ['W_Completeren aanvraag',\n  'START',\n  1,\n  'W_Completeren aanvraag',\n  'W_Completeren aanvraag'],\n 872: ['W_Beoordelen fraude',\n  'START',\n  0,\n  'W_Nabellen offertes',\n  'W_Beoordelen fraude'],\n 873: ['A_PARTLYSUBMITTED', 'COMPLETE', 1, 'A_PREACCEPTED', 'A_PREACCEPTED'],\n 874: ['A_PREACCEPTED',\n  'COMPLETE',\n  1,\n  'W_Completeren aanvraag',\n  'W_Completeren aanvraag'],\n 875: ['W_Beoordelen fraude',\n  'COMPLETE',\n  0,\n  'W_Nabellen offertes',\n  'W_Beoordelen fraude'],\n 876: ['W_Beoordelen fraude',\n  'START',\n  0,\n  'W_Nabellen offertes',\n  'W_Beoordelen fraude'],\n 877: ['W_Completeren aanvraag',\n  'COMPLETE',\n  1,\n  'W_Completeren aanvraag',\n  'W_Completeren aanvraag'],\n 878: ['W_Completeren aanvraag',\n  'SCHEDULE',\n  1,\n  'W_Completeren aanvraag',\n  'W_Completeren aanvraag'],\n 879: ['W_Completeren aanvraag',\n  'START',\n  1,\n  'W_Completeren aanvraag',\n  'W_Completeren aanvraag'],\n 880: ['W_Afhandelen leads',\n  'COMPLETE',\n  0,\n  'W_Nabellen offertes',\n  'W_Completeren aanvraag'],\n 881: ['W_Completeren aanvraag',\n  'START',\n  0,\n  'W_Nabellen offertes',\n  'W_Completeren aanvraag'],\n 883: ['A_SUBMITTED', 'COMPLETE', 1, 'A_PARTLYSUBMITTED', 'A_PARTLYSUBMITTED'],\n 884: ['W_Afhandelen leads',\n  'COMPLETE',\n  1,\n  'W_Completeren aanvraag',\n  'W_Completeren aanvraag'],\n 885: ['A_PARTLYSUBMITTED', 'COMPLETE', 1, 'A_PREACCEPTED', 'A_PREACCEPTED'],\n 886: ['A_PREACCEPTED',\n  'COMPLETE',\n  1,\n  'W_Completeren aanvraag',\n  'W_Completeren aanvraag'],\n 887: ['W_Completeren aanvraag',\n  'START',\n  0,\n  'W_Completeren aanvraag',\n  'A_ACCEPTED'],\n 888: ['W_Completeren aanvraag',\n  'COMPLETE',\n  1,\n  'W_Completeren aanvraag',\n  'W_Completeren aanvraag'],\n 889: ['W_Completeren aanvraag',\n  'START',\n  0,\n  'A_ACCEPTED',\n  'W_Completeren aanvraag'],\n 890: ['W_Completeren aanvraag',\n  'COMPLETE',\n  0,\n  'W_Nabellen offertes',\n  'W_Completeren aanvraag'],\n 891: ['W_Completeren aanvraag',\n  'START',\n  0,\n  'W_Completeren aanvraag',\n  'A_DECLINED'],\n 892: ['A_DECLINED',\n  'COMPLETE',\n  1,\n  'W_Completeren aanvraag',\n  'W_Completeren aanvraag'],\n 893: ['A_ACCEPTED', 'COMPLETE', 1, 'O_SELECTED', 'O_SELECTED'],\n 894: ['O_SELECTED', 'COMPLETE', 1, 'A_FINALIZED', 'A_FINALIZED'],\n 895: ['W_Completeren aanvraag',\n  'COMPLETE',\n  0,\n  'W_Nabellen offertes',\n  'W_Completeren aanvraag'],\n 896: ['A_FINALIZED', 'COMPLETE', 1, 'O_CREATED', 'O_CREATED'],\n 897: ['O_CREATED', 'COMPLETE', 1, 'O_SENT', 'O_SENT'],\n 898: ['O_SENT', 'COMPLETE', 1, 'W_Nabellen offertes', 'W_Nabellen offertes'],\n 899: ['W_Nabellen offertes',\n  'SCHEDULE',\n  1,\n  'W_Completeren aanvraag',\n  'W_Completeren aanvraag'],\n 900: ['W_Completeren aanvraag',\n  'START',\n  1,\n  'W_Completeren aanvraag',\n  'W_Completeren aanvraag'],\n 901: ['W_Beoordelen fraude',\n  'COMPLETE',\n  1,\n  'W_Beoordelen fraude',\n  'W_Beoordelen fraude'],\n 902: ['W_Beoordelen fraude', 'START', 0, 'W_Beoordelen fraude', 'A_DECLINED'],\n 903: ['A_DECLINED',\n  'COMPLETE',\n  0,\n  'W_Nabellen offertes',\n  'W_Beoordelen fraude'],\n 905: ['A_SUBMITTED', 'COMPLETE', 1, 'A_PARTLYSUBMITTED', 'A_PARTLYSUBMITTED'],\n 906: ['A_PARTLYSUBMITTED',\n  'COMPLETE',\n  0,\n  'A_PREACCEPTED',\n  'W_Afhandelen leads'],\n 908: ['A_SUBMITTED', 'COMPLETE', 1, 'A_PARTLYSUBMITTED', 'A_PARTLYSUBMITTED'],\n 909: ['W_Completeren aanvraag',\n  'START',\n  1,\n  'W_Completeren aanvraag',\n  'W_Completeren aanvraag'],\n 910: ['W_Afhandelen leads',\n  'COMPLETE',\n  0,\n  'W_Nabellen offertes',\n  'W_Completeren aanvraag'],\n 911: ['A_PARTLYSUBMITTED', 'COMPLETE', 1, 'A_PREACCEPTED', 'A_PREACCEPTED'],\n 912: ['A_PREACCEPTED',\n  'COMPLETE',\n  1,\n  'W_Completeren aanvraag',\n  'W_Completeren aanvraag'],\n 913: ['W_Completeren aanvraag',\n  'COMPLETE',\n  1,\n  'W_Completeren aanvraag',\n  'W_Completeren aanvraag'],\n 914: ['W_Completeren aanvraag',\n  'COMPLETE',\n  1,\n  'W_Completeren aanvraag',\n  'W_Completeren aanvraag'],\n 915: ['W_Completeren aanvraag',\n  'START',\n  0,\n  'W_Completeren aanvraag',\n  'A_ACCEPTED'],\n 916: ['W_Completeren aanvraag',\n  'COMPLETE',\n  0,\n  'W_Nabellen offertes',\n  'W_Completeren aanvraag'],\n 917: ['W_Completeren aanvraag',\n  'START',\n  0,\n  'W_Nabellen offertes',\n  'A_CANCELLED'],\n 918: ['A_CANCELLED',\n  'COMPLETE',\n  0,\n  'W_Nabellen offertes',\n  'W_Completeren aanvraag'],\n 919: ['W_Completeren aanvraag',\n  'START',\n  1,\n  'W_Completeren aanvraag',\n  'W_Completeren aanvraag'],\n 921: ['A_SUBMITTED', 'COMPLETE', 1, 'A_PARTLYSUBMITTED', 'A_PARTLYSUBMITTED'],\n 922: ['A_PARTLYSUBMITTED', 'COMPLETE', 0, 'A_DECLINED', 'W_Afhandelen leads'],\n 923: ['A_ACCEPTED', 'COMPLETE', 0, 'O_SELECTED', 'A_FINALIZED'],\n 924: ['A_FINALIZED', 'COMPLETE', 0, 'W_Nabellen offertes', 'O_SELECTED'],\n 925: ['O_SELECTED', 'COMPLETE', 0, 'W_Nabellen offertes', 'O_CREATED'],\n 926: ['O_CREATED', 'COMPLETE', 0, 'W_Nabellen offertes', 'O_SENT'],\n 927: ['O_SENT', 'COMPLETE', 1, 'W_Nabellen offertes', 'W_Nabellen offertes'],\n 928: ['W_Nabellen offertes',\n  'SCHEDULE',\n  1,\n  'W_Completeren aanvraag',\n  'W_Completeren aanvraag'],\n 929: ['W_Afhandelen leads',\n  'COMPLETE',\n  1,\n  'W_Completeren aanvraag',\n  'W_Completeren aanvraag'],\n 930: ['W_Completeren aanvraag',\n  'START',\n  1,\n  'W_Completeren aanvraag',\n  'W_Completeren aanvraag'],\n 931: ['W_Afhandelen leads',\n  'COMPLETE',\n  0,\n  'W_Nabellen offertes',\n  'W_Completeren aanvraag'],\n 932: ['W_Completeren aanvraag',\n  'START',\n  0,\n  'W_Nabellen offertes',\n  'A_ACCEPTED'],\n 933: ['A_ACCEPTED', 'COMPLETE', 0, 'W_Nabellen offertes', 'O_SELECTED'],\n 934: ['O_SELECTED', 'COMPLETE', 0, 'W_Nabellen offertes', 'A_FINALIZED'],\n 935: ['A_FINALIZED', 'COMPLETE', 0, 'W_Nabellen offertes', 'O_CREATED'],\n 936: ['O_CREATED', 'COMPLETE', 0, 'W_Nabellen offertes', 'O_SENT'],\n 937: ['O_SENT', 'COMPLETE', 1, 'W_Nabellen offertes', 'W_Nabellen offertes'],\n 938: ['W_Nabellen offertes',\n  'SCHEDULE',\n  0,\n  'W_Nabellen offertes',\n  'W_Completeren aanvraag'],\n 939: ['W_Completeren aanvraag',\n  'COMPLETE',\n  1,\n  'W_Nabellen offertes',\n  'W_Nabellen offertes'],\n 941: ['A_SUBMITTED', 'COMPLETE', 1, 'A_PARTLYSUBMITTED', 'A_PARTLYSUBMITTED'],\n 942: ['A_PARTLYSUBMITTED', 'COMPLETE', 0, 'A_DECLINED', 'W_Afhandelen leads'],\n 943: ['W_Nabellen offertes',\n  'START',\n  1,\n  'W_Nabellen offertes',\n  'W_Nabellen offertes'],\n 945: ['A_SUBMITTED', 'COMPLETE', 1, 'A_PARTLYSUBMITTED', 'A_PARTLYSUBMITTED'],\n 946: ['A_PARTLYSUBMITTED',\n  'COMPLETE',\n  0,\n  'A_PREACCEPTED',\n  'W_Afhandelen leads'],\n 948: ['A_SUBMITTED', 'COMPLETE', 1, 'A_PARTLYSUBMITTED', 'A_PARTLYSUBMITTED'],\n 949: ['A_PARTLYSUBMITTED', 'COMPLETE', 1, 'A_PREACCEPTED', 'A_PREACCEPTED'],\n 950: ['A_PREACCEPTED',\n  'COMPLETE',\n  1,\n  'W_Completeren aanvraag',\n  'W_Completeren aanvraag'],\n 952: ['A_SUBMITTED', 'COMPLETE', 1, 'A_PARTLYSUBMITTED', 'A_PARTLYSUBMITTED'],\n 953: ['A_PARTLYSUBMITTED', 'COMPLETE', 0, 'A_PREACCEPTED', 'A_DECLINED'],\n 955: ['A_SUBMITTED',\n  'COMPLETE',\n  0,\n  'W_Nabellen offertes',\n  'A_PARTLYSUBMITTED'],\n 956: ['A_PARTLYSUBMITTED', 'COMPLETE', 1, 'A_PREACCEPTED', 'A_PREACCEPTED'],\n 957: ['A_PREACCEPTED',\n  'COMPLETE',\n  1,\n  'W_Completeren aanvraag',\n  'W_Completeren aanvraag'],\n 958: ['W_Completeren aanvraag',\n  'COMPLETE',\n  1,\n  'W_Completeren aanvraag',\n  'W_Completeren aanvraag'],\n 959: ['W_Completeren aanvraag',\n  'START',\n  1,\n  'W_Completeren aanvraag',\n  'W_Completeren aanvraag'],\n 960: ['W_Completeren aanvraag',\n  'START',\n  1,\n  'W_Completeren aanvraag',\n  'W_Completeren aanvraag'],\n 961: ['W_Afhandelen leads',\n  'SCHEDULE',\n  1,\n  'W_Afhandelen leads',\n  'W_Afhandelen leads'],\n 963: ['A_SUBMITTED', 'COMPLETE', 1, 'A_PARTLYSUBMITTED', 'A_PARTLYSUBMITTED'],\n 964: ['A_PARTLYSUBMITTED', 'COMPLETE', 1, 'A_PREACCEPTED', 'A_PREACCEPTED'],\n 965: ['A_PREACCEPTED',\n  'COMPLETE',\n  1,\n  'W_Completeren aanvraag',\n  'W_Completeren aanvraag'],\n 967: ['A_SUBMITTED', 'COMPLETE', 1, 'A_PARTLYSUBMITTED', 'A_PARTLYSUBMITTED'],\n 968: ['W_Afhandelen leads', 'START', 0, 'A_PREACCEPTED', 'A_DECLINED'],\n 969: ['A_DECLINED',\n  'COMPLETE',\n  1,\n  'W_Afhandelen leads',\n  'W_Afhandelen leads'],\n 970: ['W_Afhandelen leads',\n  'SCHEDULE',\n  1,\n  'W_Afhandelen leads',\n  'W_Afhandelen leads'],\n 971: ['A_PARTLYSUBMITTED', 'COMPLETE', 1, 'A_PREACCEPTED', 'A_PREACCEPTED'],\n 972: ['A_PREACCEPTED',\n  'COMPLETE',\n  1,\n  'W_Completeren aanvraag',\n  'W_Completeren aanvraag'],\n 973: ['W_Afhandelen leads',\n  'COMPLETE',\n  1,\n  'W_Completeren aanvraag',\n  'W_Completeren aanvraag'],\n 974: ['W_Completeren aanvraag',\n  'SCHEDULE',\n  1,\n  'W_Completeren aanvraag',\n  'W_Completeren aanvraag'],\n 975: ['W_Afhandelen leads', 'START', 0, 'A_PREACCEPTED', 'A_DECLINED'],\n 976: ['A_DECLINED',\n  'COMPLETE',\n  1,\n  'W_Afhandelen leads',\n  'W_Afhandelen leads'],\n 977: ['W_Afhandelen leads',\n  'SCHEDULE',\n  1,\n  'W_Afhandelen leads',\n  'W_Afhandelen leads'],\n 978: ['W_Afhandelen leads', 'START', 0, 'A_PREACCEPTED', 'A_DECLINED'],\n 979: ['A_DECLINED',\n  'COMPLETE',\n  1,\n  'W_Afhandelen leads',\n  'W_Afhandelen leads'],\n 980: ['W_Afhandelen leads',\n  'SCHEDULE',\n  1,\n  'W_Afhandelen leads',\n  'W_Afhandelen leads'],\n 982: ['A_SUBMITTED', 'COMPLETE', 1, 'A_PARTLYSUBMITTED', 'A_PARTLYSUBMITTED'],\n 983: ['A_PARTLYSUBMITTED', 'COMPLETE', 1, 'A_PREACCEPTED', 'A_PREACCEPTED'],\n 984: ['A_PREACCEPTED',\n  'COMPLETE',\n  1,\n  'W_Completeren aanvraag',\n  'W_Completeren aanvraag'],\n 985: ['W_Completeren aanvraag',\n  'SCHEDULE',\n  1,\n  'W_Completeren aanvraag',\n  'W_Completeren aanvraag'],\n 986: ['W_Afhandelen leads', 'START', 1, 'A_PREACCEPTED', 'A_PREACCEPTED'],\n 987: ['A_PREACCEPTED',\n  'COMPLETE',\n  1,\n  'W_Completeren aanvraag',\n  'W_Completeren aanvraag'],\n 988: ['W_Completeren aanvraag',\n  'SCHEDULE',\n  0,\n  'W_Completeren aanvraag',\n  'W_Afhandelen leads'],\n 989: ['W_Afhandelen leads',\n  'SCHEDULE',\n  1,\n  'W_Afhandelen leads',\n  'W_Afhandelen leads'],\n 990: ['W_Completeren aanvraag',\n  'START',\n  0,\n  'W_Completeren aanvraag',\n  'A_ACCEPTED'],\n 991: ['W_Afhandelen leads', 'START', 1, 'A_DECLINED', 'A_DECLINED'],\n 992: ['A_DECLINED',\n  'COMPLETE',\n  1,\n  'W_Afhandelen leads',\n  'W_Afhandelen leads'],\n 994: ['A_ACCEPTED', 'COMPLETE', 0, 'O_SELECTED', 'A_FINALIZED'],\n 993: ['A_FINALIZED', 'COMPLETE', 1, 'O_SELECTED', 'O_SELECTED'],\n 995: ['W_Afhandelen leads',\n  'COMPLETE',\n  1,\n  'W_Completeren aanvraag',\n  'W_Completeren aanvraag'],\n 996: ['W_Completeren aanvraag',\n  'START',\n  1,\n  'W_Completeren aanvraag',\n  'W_Completeren aanvraag'],\n 997: ['O_SELECTED', 'COMPLETE', 1, 'O_CREATED', 'O_CREATED'],\n 998: ['O_CREATED', 'COMPLETE', 1, 'O_SENT', 'O_SENT'],\n 999: ['O_SENT', 'COMPLETE', 1, 'W_Nabellen offertes', 'W_Nabellen offertes'],\n 1000: ['W_Nabellen offertes',\n  'SCHEDULE',\n  1,\n  'W_Completeren aanvraag',\n  'W_Completeren aanvraag'],\n 1001: ['W_Completeren aanvraag',\n  'COMPLETE',\n  1,\n  'W_Nabellen offertes',\n  'W_Nabellen offertes'],\n 1002: ['W_Completeren aanvraag',\n  'START',\n  1,\n  'W_Completeren aanvraag',\n  'W_Completeren aanvraag'],\n 1003: ['W_Completeren aanvraag',\n  'COMPLETE',\n  1,\n  'W_Completeren aanvraag',\n  'W_Completeren aanvraag'],\n 1004: ['W_Completeren aanvraag',\n  'START',\n  0,\n  'W_Completeren aanvraag',\n  'A_ACCEPTED'],\n 1005: ['W_Completeren aanvraag',\n  'START',\n  0,\n  'W_Completeren aanvraag',\n  'A_DECLINED'],\n 1006: ['A_DECLINED',\n  'COMPLETE',\n  1,\n  'W_Completeren aanvraag',\n  'W_Completeren aanvraag'],\n 1007: ['W_Completeren aanvraag',\n  'COMPLETE',\n  1,\n  'W_Completeren aanvraag',\n  'W_Completeren aanvraag'],\n 1008: ['W_Nabellen offertes',\n  'START',\n  0,\n  'W_Nabellen offertes',\n  'O_SENT_BACK'],\n 1009: ['O_SENT_BACK',\n  'COMPLETE',\n  0,\n  'W_Nabellen offertes',\n  'W_Valideren aanvraag'],\n 1010: ['W_Valideren aanvraag',\n  'SCHEDULE',\n  1,\n  'W_Nabellen offertes',\n  'W_Nabellen offertes'],\n 1011: ['W_Nabellen offertes',\n  'COMPLETE',\n  0,\n  'W_Nabellen offertes',\n  'W_Valideren aanvraag'],\n 1012: ['W_Valideren aanvraag',\n  'START',\n  0,\n  'W_Nabellen offertes',\n  'W_Valideren aanvraag'],\n 1013: ['W_Afhandelen leads',\n  'COMPLETE',\n  1,\n  'W_Completeren aanvraag',\n  'W_Completeren aanvraag'],\n 1015: ['A_SUBMITTED',\n  'COMPLETE',\n  1,\n  'A_PARTLYSUBMITTED',\n  'A_PARTLYSUBMITTED'],\n 1016: ['W_Completeren aanvraag',\n  'START',\n  1,\n  'W_Completeren aanvraag',\n  'W_Completeren aanvraag'],\n 1017: ['W_Afhandelen leads',\n  'COMPLETE',\n  1,\n  'W_Completeren aanvraag',\n  'W_Completeren aanvraag'],\n 1018: ['A_PARTLYSUBMITTED', 'COMPLETE', 1, 'A_PREACCEPTED', 'A_PREACCEPTED'],\n 1019: ['A_PREACCEPTED',\n  'COMPLETE',\n  1,\n  'W_Completeren aanvraag',\n  'W_Completeren aanvraag'],\n 1020: ['W_Completeren aanvraag',\n  'SCHEDULE',\n  1,\n  'W_Completeren aanvraag',\n  'W_Completeren aanvraag'],\n 1021: ['W_Valideren aanvraag',\n  'COMPLETE',\n  0,\n  'W_Nabellen offertes',\n  'W_Valideren aanvraag'],\n 1022: ['A_ACCEPTED', 'COMPLETE', 1, 'O_SELECTED', 'O_SELECTED'],\n 1023: ['O_SELECTED', 'COMPLETE', 1, 'A_FINALIZED', 'A_FINALIZED'],\n 1024: ['A_FINALIZED', 'COMPLETE', 1, 'O_CREATED', 'O_CREATED'],\n 1025: ['O_CREATED', 'COMPLETE', 1, 'O_SENT', 'O_SENT'],\n 1026: ['O_SENT', 'COMPLETE', 1, 'W_Nabellen offertes', 'W_Nabellen offertes'],\n 1027: ['W_Nabellen offertes',\n  'SCHEDULE',\n  1,\n  'W_Completeren aanvraag',\n  'W_Completeren aanvraag'],\n 1029: ['A_SUBMITTED',\n  'COMPLETE',\n  1,\n  'A_PARTLYSUBMITTED',\n  'A_PARTLYSUBMITTED'],\n 1030: ['A_PARTLYSUBMITTED',\n  'COMPLETE',\n  0,\n  'A_PREACCEPTED',\n  'W_Afhandelen leads'],\n 1031: ['W_Completeren aanvraag',\n  'START',\n  0,\n  'W_Completeren aanvraag',\n  'A_DECLINED'],\n 1032: ['A_DECLINED',\n  'COMPLETE',\n  1,\n  'W_Completeren aanvraag',\n  'W_Completeren aanvraag'],\n 1033: ['W_Completeren aanvraag',\n  'COMPLETE',\n  1,\n  'W_Nabellen offertes',\n  'W_Nabellen offertes'],\n 1034: ['W_Completeren aanvraag',\n  'START',\n  1,\n  'W_Completeren aanvraag',\n  'W_Completeren aanvraag'],\n 1035: ['W_Completeren aanvraag',\n  'SCHEDULE',\n  1,\n  'W_Completeren aanvraag',\n  'W_Completeren aanvraag'],\n 1036: ['W_Completeren aanvraag',\n  'START',\n  0,\n  'W_Completeren aanvraag',\n  'A_ACCEPTED'],\n 1037: ['W_Completeren aanvraag',\n  'START',\n  1,\n  'W_Completeren aanvraag',\n  'W_Completeren aanvraag'],\n 1038: ['W_Completeren aanvraag',\n  'COMPLETE',\n  1,\n  'W_Completeren aanvraag',\n  'W_Completeren aanvraag'],\n 1039: ['W_Completeren aanvraag',\n  'START',\n  0,\n  'W_Completeren aanvraag',\n  'A_ACCEPTED'],\n 1041: ['A_SUBMITTED',\n  'COMPLETE',\n  1,\n  'A_PARTLYSUBMITTED',\n  'A_PARTLYSUBMITTED'],\n 1042: ['A_PARTLYSUBMITTED',\n  'COMPLETE',\n  0,\n  'W_Afhandelen leads',\n  'A_DECLINED'],\n 1043: ['A_ACCEPTED', 'COMPLETE', 1, 'O_SELECTED', 'O_SELECTED'],\n 1044: ['O_SELECTED', 'COMPLETE', 1, 'A_FINALIZED', 'A_FINALIZED'],\n 1045: ['A_FINALIZED', 'COMPLETE', 1, 'O_CREATED', 'O_CREATED'],\n 1046: ['O_CREATED', 'COMPLETE', 1, 'O_SENT', 'O_SENT'],\n 1047: ['O_SENT', 'COMPLETE', 1, 'W_Nabellen offertes', 'W_Nabellen offertes'],\n 1048: ['W_Nabellen offertes',\n  'SCHEDULE',\n  1,\n  'W_Completeren aanvraag',\n  'W_Completeren aanvraag'],\n 1049: ['A_ACCEPTED', 'COMPLETE', 1, 'O_SELECTED', 'O_SELECTED'],\n 1050: ['O_SELECTED', 'COMPLETE', 1, 'A_FINALIZED', 'A_FINALIZED'],\n 1051: ['A_FINALIZED', 'COMPLETE', 1, 'O_CREATED', 'O_CREATED'],\n 1052: ['O_CREATED', 'COMPLETE', 1, 'O_SENT', 'O_SENT'],\n 1053: ['O_SENT', 'COMPLETE', 1, 'W_Nabellen offertes', 'W_Nabellen offertes'],\n 1054: ['W_Nabellen offertes',\n  'SCHEDULE',\n  1,\n  'W_Completeren aanvraag',\n  'W_Completeren aanvraag'],\n 1055: ['W_Completeren aanvraag',\n  'COMPLETE',\n  1,\n  'W_Nabellen offertes',\n  'W_Nabellen offertes'],\n 1056: ['W_Nabellen offertes',\n  'START',\n  1,\n  'W_Nabellen offertes',\n  'W_Nabellen offertes'],\n 1057: ['W_Nabellen offertes',\n  'START',\n  1,\n  'W_Nabellen offertes',\n  'W_Nabellen offertes'],\n 1059: ['A_SUBMITTED',\n  'COMPLETE',\n  1,\n  'A_PARTLYSUBMITTED',\n  'A_PARTLYSUBMITTED'],\n 1060: ['A_PARTLYSUBMITTED', 'COMPLETE', 1, 'A_DECLINED', 'A_DECLINED'],\n 1061: ['W_Afhandelen leads',\n  'COMPLETE',\n  0,\n  'W_Nabellen offertes',\n  'W_Completeren aanvraag'],\n 1062: ['W_Completeren aanvraag',\n  'START',\n  1,\n  'W_Completeren aanvraag',\n  'W_Completeren aanvraag'],\n 1064: ['A_SUBMITTED',\n  'COMPLETE',\n  1,\n  'A_PARTLYSUBMITTED',\n  'A_PARTLYSUBMITTED'],\n 1065: ['W_Completeren aanvraag',\n  'COMPLETE',\n  1,\n  'W_Completeren aanvraag',\n  'W_Completeren aanvraag'],\n 1066: ['A_PARTLYSUBMITTED', 'COMPLETE', 1, 'A_PREACCEPTED', 'A_PREACCEPTED'],\n 1067: ['A_PREACCEPTED',\n  'COMPLETE',\n  1,\n  'W_Completeren aanvraag',\n  'W_Completeren aanvraag'],\n 1068: ['W_Completeren aanvraag',\n  'START',\n  1,\n  'W_Completeren aanvraag',\n  'W_Completeren aanvraag'],\n 1069: ['W_Completeren aanvraag',\n  'COMPLETE',\n  1,\n  'W_Completeren aanvraag',\n  'W_Completeren aanvraag'],\n 1070: ['W_Completeren aanvraag',\n  'START',\n  1,\n  'W_Completeren aanvraag',\n  'W_Completeren aanvraag'],\n 1071: ['W_Valideren aanvraag',\n  'START',\n  0,\n  'W_Nabellen offertes',\n  'W_Nabellen incomplete dossiers'],\n 1072: ['W_Nabellen incomplete dossiers',\n  'SCHEDULE',\n  0,\n  'W_Nabellen offertes',\n  'W_Valideren aanvraag'],\n 1074: ['A_SUBMITTED',\n  'COMPLETE',\n  1,\n  'A_PARTLYSUBMITTED',\n  'A_PARTLYSUBMITTED'],\n 1075: ['A_PARTLYSUBMITTED', 'COMPLETE', 1, 'A_DECLINED', 'A_DECLINED'],\n 1077: ['A_SUBMITTED',\n  'COMPLETE',\n  1,\n  'A_PARTLYSUBMITTED',\n  'A_PARTLYSUBMITTED'],\n 1078: ['A_PARTLYSUBMITTED', 'COMPLETE', 1, 'A_DECLINED', 'A_DECLINED'],\n 1080: ['A_SUBMITTED',\n  'COMPLETE',\n  1,\n  'A_PARTLYSUBMITTED',\n  'A_PARTLYSUBMITTED'],\n 1081: ['A_PARTLYSUBMITTED',\n  'COMPLETE',\n  0,\n  'A_PREACCEPTED',\n  'W_Afhandelen leads'],\n 1082: ['W_Completeren aanvraag',\n  'COMPLETE',\n  1,\n  'W_Completeren aanvraag',\n  'W_Completeren aanvraag'],\n 1083: ['W_Afhandelen leads',\n  'SCHEDULE',\n  1,\n  'W_Afhandelen leads',\n  'W_Afhandelen leads'],\n 1084: ['W_Afhandelen leads', 'START', 0, 'A_DECLINED', 'W_Afhandelen leads'],\n 1085: ['W_Completeren aanvraag',\n  'START',\n  1,\n  'W_Completeren aanvraag',\n  'W_Completeren aanvraag'],\n 1086: ['W_Completeren aanvraag',\n  'COMPLETE',\n  1,\n  'W_Completeren aanvraag',\n  'W_Completeren aanvraag'],\n 1087: ['W_Completeren aanvraag',\n  'START',\n  0,\n  'W_Completeren aanvraag',\n  'A_ACCEPTED'],\n 1089: ['A_SUBMITTED',\n  'COMPLETE',\n  1,\n  'A_PARTLYSUBMITTED',\n  'A_PARTLYSUBMITTED'],\n 1090: ['A_PARTLYSUBMITTED',\n  'COMPLETE',\n  0,\n  'A_PREACCEPTED',\n  'W_Afhandelen leads'],\n 1091: ['A_ACCEPTED', 'COMPLETE', 0, 'O_SELECTED', 'A_FINALIZED'],\n 1092: ['A_FINALIZED', 'COMPLETE', 1, 'O_SELECTED', 'O_SELECTED'],\n 1093: ['O_SELECTED', 'COMPLETE', 1, 'O_CREATED', 'O_CREATED'],\n 1094: ['O_CREATED', 'COMPLETE', 1, 'O_SENT', 'O_SENT'],\n 1095: ['O_SENT', 'COMPLETE', 1, 'W_Nabellen offertes', 'W_Nabellen offertes'],\n 1096: ['W_Nabellen offertes',\n  'SCHEDULE',\n  1,\n  'W_Completeren aanvraag',\n  'W_Completeren aanvraag'],\n 1097: ['W_Completeren aanvraag',\n  'COMPLETE',\n  1,\n  'W_Completeren aanvraag',\n  'W_Completeren aanvraag'],\n 1099: ['A_SUBMITTED',\n  'COMPLETE',\n  1,\n  'A_PARTLYSUBMITTED',\n  'A_PARTLYSUBMITTED'],\n 1100: ['A_PARTLYSUBMITTED',\n  'COMPLETE',\n  0,\n  'A_PREACCEPTED',\n  'W_Afhandelen leads'],\n 1102: ['A_SUBMITTED',\n  'COMPLETE',\n  1,\n  'A_PARTLYSUBMITTED',\n  'A_PARTLYSUBMITTED'],\n 1103: ['W_Afhandelen leads',\n  'SCHEDULE',\n  0,\n  'W_Nabellen offertes',\n  'W_Afhandelen leads'],\n 1104: ['A_PARTLYSUBMITTED', 'COMPLETE', 1, 'A_PREACCEPTED', 'A_PREACCEPTED'],\n 1105: ['A_PREACCEPTED',\n  'COMPLETE',\n  1,\n  'W_Completeren aanvraag',\n  'W_Completeren aanvraag'],\n 1107: ['A_SUBMITTED',\n  'COMPLETE',\n  1,\n  'A_PARTLYSUBMITTED',\n  'A_PARTLYSUBMITTED'],\n 1109: ['A_SUBMITTED',\n  'COMPLETE',\n  1,\n  'A_PARTLYSUBMITTED',\n  'A_PARTLYSUBMITTED'],\n 1110: ['W_Afhandelen leads',\n  'START',\n  0,\n  'W_Nabellen offertes',\n  'A_PREACCEPTED'],\n 1111: ['A_PREACCEPTED',\n  'COMPLETE',\n  0,\n  'W_Nabellen offertes',\n  'W_Completeren aanvraag'],\n 1112: ['W_Completeren aanvraag',\n  'SCHEDULE',\n  0,\n  'W_Completeren aanvraag',\n  'W_Afhandelen leads'],\n 1113: ['W_Afhandelen leads',\n  'COMPLETE',\n  1,\n  'W_Afhandelen leads',\n  'W_Afhandelen leads'],\n 1114: ['A_PARTLYSUBMITTED', 'COMPLETE', 0, 'A_PREACCEPTED', 'A_DECLINED'],\n 1115: ['A_PARTLYSUBMITTED', 'COMPLETE', 1, 'A_PREACCEPTED', 'A_PREACCEPTED'],\n 1116: ['A_PREACCEPTED',\n  'COMPLETE',\n  1,\n  'W_Completeren aanvraag',\n  'W_Completeren aanvraag'],\n 1117: ['W_Completeren aanvraag',\n  'SCHEDULE',\n  1,\n  'W_Completeren aanvraag',\n  'W_Completeren aanvraag'],\n 1118: ['W_Afhandelen leads', 'START', 0, 'A_PREACCEPTED', 'A_DECLINED'],\n 1119: ['A_DECLINED',\n  'COMPLETE',\n  1,\n  'W_Afhandelen leads',\n  'W_Afhandelen leads'],\n 1120: ['W_Afhandelen leads',\n  'SCHEDULE',\n  1,\n  'W_Afhandelen leads',\n  'W_Afhandelen leads'],\n 1121: ['W_Afhandelen leads', 'START', 1, 'A_DECLINED', 'A_DECLINED'],\n 1122: ['A_DECLINED',\n  'COMPLETE',\n  1,\n  'W_Afhandelen leads',\n  'W_Afhandelen leads'],\n 1123: ['W_Afhandelen leads',\n  'SCHEDULE',\n  1,\n  'W_Afhandelen leads',\n  'W_Afhandelen leads'],\n 1124: ['W_Completeren aanvraag',\n  'START',\n  1,\n  'W_Completeren aanvraag',\n  'W_Completeren aanvraag'],\n 1125: ['W_Completeren aanvraag',\n  'COMPLETE',\n  1,\n  'W_Completeren aanvraag',\n  'W_Completeren aanvraag'],\n 1126: ['W_Completeren aanvraag',\n  'START',\n  0,\n  'W_Completeren aanvraag',\n  'A_ACCEPTED'],\n 1127: ['W_Afhandelen leads', 'START', 1, 'A_DECLINED', 'A_DECLINED'],\n 1128: ['A_DECLINED',\n  'COMPLETE',\n  1,\n  'W_Afhandelen leads',\n  'W_Afhandelen leads'],\n ...}"
     },
     "execution_count": 191,
     "metadata": {},
     "output_type": "execute_result"
    }
   ],
   "source": [
    "errorStorage"
   ],
   "metadata": {
    "collapsed": false,
    "pycharm": {
     "name": "#%%\n"
    }
   }
  },
  {
   "cell_type": "code",
   "execution_count": 172,
   "outputs": [],
   "source": [
    "dataset_test = dataset_test.sort_values([case_column,timestamp_column])\n",
    "dataset_test['y'] = dataset_test[event_column].shift(periods= -1)\n",
    "dataset_test['previous_event']=0\n",
    "dataset_test['previous_lifecycle']=0\n",
    "all_ids = list(dataset_test[case_column].unique())\n",
    "\n",
    "for ids in all_ids:\n",
    "    df2= dataset_test[dataset_test[case_column]==ids].copy()\n",
    "    dataset_test.loc[dataset_test[case_column]==ids, 'previous_event']= df2[event_column].shift(periods=1)\n",
    "    dataset_test.loc[dataset_test[case_column]==ids, 'previous_lifecycle']= df2['event lifecycle:transition'].shift(periods=1)\n",
    "dataset_test.loc[dataset_test['previous_event'].isnull(), 'previous_event']=None\n",
    "dataset_test.loc[dataset_test['previous_lifecycle'].isnull(), 'previous_lifecycle']=None\n",
    "dataset_test.reset_index(drop=True, inplace=True)"
   ],
   "metadata": {
    "collapsed": false,
    "pycharm": {
     "name": "#%%\n"
    }
   }
  },
  {
   "cell_type": "code",
   "execution_count": 173,
   "outputs": [],
   "source": [
    "def getPrediction_test(event, amount, previousEvent, previousLifecycle):\n",
    "\n",
    "    event_id = str(event)+'_XX_'+str(amount)+'_XX_'+str(previousEvent)+'_XX_'+str(previousLifecycle)\n",
    "\n",
    "\n",
    "    # if this activity is already in the predictionModel, then return the predicted duration\n",
    "    # try & except works slightly faster then if key in dict\n",
    "    # but only for valid keys, since you skip the if statement\n",
    "    try:\n",
    "        return max(predictionModel[event_id],key=predictionModel[event_id].get)\n",
    "\n",
    "    except:\n",
    "        return 'W_Nabellen offertes'\n"
   ],
   "metadata": {
    "collapsed": false,
    "pycharm": {
     "name": "#%%\n"
    }
   }
  },
  {
   "cell_type": "code",
   "execution_count": 174,
   "outputs": [],
   "source": [
    "predictions = [getPrediction_test(event, amount, previousEvent, previousLifecycle) for event, amount, previousEvent, previousLifecycle in zip(dataset_test[event_column], dataset_test[amount_column], dataset_test['previous_event'], dataset_test['previous_lifecycle'])]"
   ],
   "metadata": {
    "collapsed": false,
    "pycharm": {
     "name": "#%%\n"
    }
   }
  },
  {
   "cell_type": "code",
   "execution_count": 175,
   "outputs": [
    {
     "data": {
      "text/plain": "dict_keys(['A_SUBMITTED_XX_20000_XX_None_XX_None', 'A_PARTLYSUBMITTED_XX_20000_XX_A_SUBMITTED_XX_COMPLETE', 'A_PREACCEPTED_XX_20000_XX_A_PARTLYSUBMITTED_XX_COMPLETE', 'A_SUBMITTED_XX_0_XX_None_XX_None', 'A_PARTLYSUBMITTED_XX_0_XX_A_SUBMITTED_XX_COMPLETE', 'A_PREACCEPTED_XX_0_XX_A_PARTLYSUBMITTED_XX_COMPLETE', 'A_SUBMITTED_XX_10000_XX_None_XX_None', 'A_PARTLYSUBMITTED_XX_10000_XX_A_SUBMITTED_XX_COMPLETE', 'A_PREACCEPTED_XX_10000_XX_A_PARTLYSUBMITTED_XX_COMPLETE', 'A_SUBMITTED_XX_30000_XX_None_XX_None', 'A_PARTLYSUBMITTED_XX_30000_XX_A_SUBMITTED_XX_COMPLETE', 'A_SUBMITTED_XX_40000_XX_None_XX_None', 'A_PARTLYSUBMITTED_XX_40000_XX_A_SUBMITTED_XX_COMPLETE', 'A_PREACCEPTED_XX_40000_XX_A_PARTLYSUBMITTED_XX_COMPLETE', 'W_Afhandelen leads_XX_30000_XX_A_PARTLYSUBMITTED_XX_COMPLETE', 'W_Afhandelen leads_XX_30000_XX_W_Afhandelen leads_XX_SCHEDULE', 'A_PREACCEPTED_XX_30000_XX_W_Afhandelen leads_XX_START', 'W_Completeren aanvraag_XX_30000_XX_A_PREACCEPTED_XX_COMPLETE', 'W_Afhandelen leads_XX_20000_XX_A_PARTLYSUBMITTED_XX_COMPLETE', 'W_Afhandelen leads_XX_20000_XX_W_Afhandelen leads_XX_SCHEDULE', 'A_PREACCEPTED_XX_20000_XX_W_Afhandelen leads_XX_START', 'W_Completeren aanvraag_XX_20000_XX_A_PREACCEPTED_XX_COMPLETE', 'W_Completeren aanvraag_XX_10000_XX_A_PREACCEPTED_XX_COMPLETE', 'W_Completeren aanvraag_XX_10000_XX_W_Completeren aanvraag_XX_SCHEDULE', 'W_Completeren aanvraag_XX_20000_XX_W_Completeren aanvraag_XX_SCHEDULE', 'A_ACCEPTED_XX_20000_XX_W_Completeren aanvraag_XX_START', 'O_SELECTED_XX_20000_XX_A_ACCEPTED_XX_COMPLETE', 'A_FINALIZED_XX_20000_XX_O_SELECTED_XX_COMPLETE', 'O_CREATED_XX_20000_XX_A_FINALIZED_XX_COMPLETE', 'O_SENT_XX_20000_XX_O_CREATED_XX_COMPLETE', 'W_Nabellen offertes_XX_20000_XX_O_SENT_XX_COMPLETE', 'W_Completeren aanvraag_XX_20000_XX_W_Nabellen offertes_XX_SCHEDULE', 'W_Nabellen offertes_XX_20000_XX_W_Completeren aanvraag_XX_COMPLETE', 'W_Nabellen offertes_XX_20000_XX_W_Nabellen offertes_XX_START', 'W_Nabellen offertes_XX_20000_XX_W_Nabellen offertes_XX_COMPLETE', 'O_SELECTED_XX_20000_XX_W_Nabellen offertes_XX_START', 'O_CANCELLED_XX_20000_XX_O_SELECTED_XX_COMPLETE', 'O_CREATED_XX_20000_XX_O_CANCELLED_XX_COMPLETE', 'W_Nabellen offertes_XX_20000_XX_W_Nabellen offertes_XX_SCHEDULE', 'A_ACCEPTED_XX_10000_XX_W_Completeren aanvraag_XX_START', 'O_SELECTED_XX_10000_XX_A_ACCEPTED_XX_COMPLETE', 'A_FINALIZED_XX_10000_XX_O_SELECTED_XX_COMPLETE', 'O_CREATED_XX_10000_XX_A_FINALIZED_XX_COMPLETE', 'O_SENT_XX_10000_XX_O_CREATED_XX_COMPLETE', 'W_Nabellen offertes_XX_10000_XX_O_SENT_XX_COMPLETE', 'W_Completeren aanvraag_XX_10000_XX_W_Nabellen offertes_XX_SCHEDULE', 'W_Nabellen offertes_XX_10000_XX_W_Completeren aanvraag_XX_COMPLETE', 'W_Nabellen offertes_XX_10000_XX_W_Nabellen offertes_XX_START', 'W_Nabellen offertes_XX_10000_XX_W_Nabellen offertes_XX_COMPLETE', 'W_Completeren aanvraag_XX_0_XX_A_PREACCEPTED_XX_COMPLETE', 'W_Completeren aanvraag_XX_10000_XX_W_Completeren aanvraag_XX_START', 'W_Completeren aanvraag_XX_10000_XX_W_Completeren aanvraag_XX_COMPLETE', 'W_Completeren aanvraag_XX_0_XX_W_Completeren aanvraag_XX_SCHEDULE', 'W_Completeren aanvraag_XX_40000_XX_A_PREACCEPTED_XX_COMPLETE', 'A_FINALIZED_XX_20000_XX_A_ACCEPTED_XX_COMPLETE', 'O_SELECTED_XX_20000_XX_A_FINALIZED_XX_COMPLETE', 'O_CREATED_XX_20000_XX_O_SELECTED_XX_COMPLETE', 'W_Completeren aanvraag_XX_40000_XX_W_Completeren aanvraag_XX_SCHEDULE', 'W_Afhandelen leads_XX_20000_XX_W_Completeren aanvraag_XX_SCHEDULE', 'W_Completeren aanvraag_XX_20000_XX_W_Afhandelen leads_XX_COMPLETE', 'W_Completeren aanvraag_XX_20000_XX_W_Completeren aanvraag_XX_START', 'W_Completeren aanvraag_XX_20000_XX_W_Completeren aanvraag_XX_COMPLETE', 'W_Completeren aanvraag_XX_40000_XX_W_Completeren aanvraag_XX_START', 'W_Afhandelen leads_XX_20000_XX_W_Afhandelen leads_XX_START', 'W_Afhandelen leads_XX_20000_XX_W_Afhandelen leads_XX_COMPLETE', 'W_Completeren aanvraag_XX_40000_XX_W_Completeren aanvraag_XX_COMPLETE', 'A_ACCEPTED_XX_40000_XX_W_Completeren aanvraag_XX_START', 'O_SELECTED_XX_40000_XX_A_ACCEPTED_XX_COMPLETE', 'A_FINALIZED_XX_40000_XX_O_SELECTED_XX_COMPLETE', 'O_CREATED_XX_40000_XX_A_FINALIZED_XX_COMPLETE', 'O_SENT_XX_40000_XX_O_CREATED_XX_COMPLETE', 'W_Nabellen offertes_XX_40000_XX_O_SENT_XX_COMPLETE', 'W_Afhandelen leads_XX_30000_XX_W_Completeren aanvraag_XX_SCHEDULE', 'A_CANCELLED_XX_10000_XX_W_Completeren aanvraag_XX_START', 'W_Completeren aanvraag_XX_30000_XX_W_Afhandelen leads_XX_COMPLETE', 'W_Completeren aanvraag_XX_0_XX_W_Completeren aanvraag_XX_START', 'W_Completeren aanvraag_XX_0_XX_W_Completeren aanvraag_XX_COMPLETE', 'A_ACCEPTED_XX_0_XX_W_Completeren aanvraag_XX_START', 'O_SELECTED_XX_0_XX_A_ACCEPTED_XX_COMPLETE', 'A_FINALIZED_XX_0_XX_O_SELECTED_XX_COMPLETE', 'O_CREATED_XX_0_XX_A_FINALIZED_XX_COMPLETE', 'O_SENT_XX_0_XX_O_CREATED_XX_COMPLETE', 'W_Nabellen offertes_XX_0_XX_O_SENT_XX_COMPLETE', 'W_Completeren aanvraag_XX_0_XX_W_Nabellen offertes_XX_SCHEDULE', 'W_Nabellen offertes_XX_0_XX_W_Completeren aanvraag_XX_COMPLETE', 'W_Afhandelen leads_XX_10000_XX_A_PARTLYSUBMITTED_XX_COMPLETE', 'W_Afhandelen leads_XX_10000_XX_W_Afhandelen leads_XX_SCHEDULE', 'A_DECLINED_XX_10000_XX_W_Afhandelen leads_XX_START', 'A_PREACCEPTED_XX_10000_XX_W_Afhandelen leads_XX_START', 'A_DECLINED_XX_20000_XX_W_Completeren aanvraag_XX_START', 'A_PREACCEPTED_XX_30000_XX_A_PARTLYSUBMITTED_XX_COMPLETE', 'W_Afhandelen leads_XX_0_XX_A_PARTLYSUBMITTED_XX_COMPLETE', 'W_Afhandelen leads_XX_0_XX_W_Afhandelen leads_XX_SCHEDULE', 'A_PREACCEPTED_XX_0_XX_W_Afhandelen leads_XX_START', 'W_Afhandelen leads_XX_10000_XX_W_Completeren aanvraag_XX_SCHEDULE', 'W_Afhandelen leads_XX_0_XX_W_Completeren aanvraag_XX_SCHEDULE', 'W_Completeren aanvraag_XX_10000_XX_W_Afhandelen leads_XX_COMPLETE', 'W_Completeren aanvraag_XX_0_XX_W_Afhandelen leads_XX_COMPLETE', 'W_Completeren aanvraag_XX_30000_XX_W_Completeren aanvraag_XX_SCHEDULE', 'A_FINALIZED_XX_10000_XX_A_ACCEPTED_XX_COMPLETE', 'O_SELECTED_XX_10000_XX_A_FINALIZED_XX_COMPLETE', 'O_CREATED_XX_10000_XX_O_SELECTED_XX_COMPLETE', 'A_ACCEPTED_XX_30000_XX_W_Completeren aanvraag_XX_START', 'O_SELECTED_XX_30000_XX_A_ACCEPTED_XX_COMPLETE', 'A_FINALIZED_XX_30000_XX_O_SELECTED_XX_COMPLETE', 'O_CREATED_XX_30000_XX_A_FINALIZED_XX_COMPLETE', 'O_SENT_XX_30000_XX_O_CREATED_XX_COMPLETE', 'W_Nabellen offertes_XX_30000_XX_O_SENT_XX_COMPLETE', 'A_DECLINED_XX_0_XX_W_Afhandelen leads_XX_START', 'W_Nabellen offertes_XX_0_XX_W_Nabellen offertes_XX_START', 'W_Nabellen offertes_XX_0_XX_W_Nabellen offertes_XX_COMPLETE', 'O_SELECTED_XX_0_XX_W_Nabellen offertes_XX_START', 'O_CANCELLED_XX_0_XX_O_SELECTED_XX_COMPLETE', 'O_CREATED_XX_0_XX_O_CANCELLED_XX_COMPLETE', 'W_Nabellen offertes_XX_0_XX_W_Nabellen offertes_XX_SCHEDULE', 'A_SUBMITTED_XX_50000_XX_None_XX_None', 'A_PARTLYSUBMITTED_XX_50000_XX_A_SUBMITTED_XX_COMPLETE', 'A_SUBMITTED_XX_60000_XX_None_XX_None', 'A_PARTLYSUBMITTED_XX_60000_XX_A_SUBMITTED_XX_COMPLETE', 'A_DECLINED_XX_20000_XX_W_Afhandelen leads_XX_START', 'W_Afhandelen leads_XX_50000_XX_A_PARTLYSUBMITTED_XX_COMPLETE', 'W_Afhandelen leads_XX_50000_XX_W_Afhandelen leads_XX_SCHEDULE', 'A_PREACCEPTED_XX_50000_XX_W_Afhandelen leads_XX_START', 'W_Completeren aanvraag_XX_50000_XX_A_PREACCEPTED_XX_COMPLETE', 'W_Afhandelen leads_XX_60000_XX_A_PARTLYSUBMITTED_XX_COMPLETE', 'W_Afhandelen leads_XX_60000_XX_W_Afhandelen leads_XX_SCHEDULE', 'A_PREACCEPTED_XX_60000_XX_W_Afhandelen leads_XX_START', 'W_Completeren aanvraag_XX_60000_XX_A_PREACCEPTED_XX_COMPLETE', 'W_Afhandelen leads_XX_10000_XX_W_Afhandelen leads_XX_START', 'A_DECLINED_XX_0_XX_W_Completeren aanvraag_XX_START', 'W_Afhandelen leads_XX_10000_XX_W_Afhandelen leads_XX_COMPLETE', 'A_FINALIZED_XX_0_XX_A_ACCEPTED_XX_COMPLETE', 'O_SELECTED_XX_0_XX_A_FINALIZED_XX_COMPLETE', 'O_CREATED_XX_0_XX_O_SELECTED_XX_COMPLETE', 'O_CANCELLED_XX_0_XX_W_Nabellen offertes_XX_START', 'O_SELECTED_XX_0_XX_O_CANCELLED_XX_COMPLETE', 'W_Afhandelen leads_XX_0_XX_W_Afhandelen leads_XX_START', 'W_Afhandelen leads_XX_0_XX_W_Afhandelen leads_XX_COMPLETE', 'O_SELECTED_XX_10000_XX_W_Nabellen offertes_XX_START', 'O_CANCELLED_XX_10000_XX_O_SELECTED_XX_COMPLETE', 'O_CREATED_XX_10000_XX_O_CANCELLED_XX_COMPLETE', 'W_Nabellen offertes_XX_10000_XX_W_Nabellen offertes_XX_SCHEDULE', 'A_DECLINED_XX_10000_XX_W_Completeren aanvraag_XX_START', 'A_PREACCEPTED_XX_50000_XX_A_PARTLYSUBMITTED_XX_COMPLETE', 'W_Completeren aanvraag_XX_30000_XX_W_Completeren aanvraag_XX_START', 'W_Completeren aanvraag_XX_30000_XX_W_Completeren aanvraag_XX_COMPLETE', 'W_Beoordelen fraude_XX_0_XX_A_PARTLYSUBMITTED_XX_COMPLETE', 'W_Beoordelen fraude_XX_0_XX_W_Beoordelen fraude_XX_SCHEDULE', 'W_Beoordelen fraude_XX_0_XX_W_Beoordelen fraude_XX_START', 'W_Beoordelen fraude_XX_0_XX_W_Beoordelen fraude_XX_COMPLETE', 'W_Afhandelen leads_XX_50000_XX_W_Completeren aanvraag_XX_SCHEDULE', 'W_Completeren aanvraag_XX_50000_XX_W_Afhandelen leads_XX_COMPLETE', 'A_DECLINED_XX_0_XX_W_Beoordelen fraude_XX_START', 'W_Afhandelen leads_XX_60000_XX_W_Completeren aanvraag_XX_SCHEDULE', 'W_Completeren aanvraag_XX_50000_XX_W_Completeren aanvraag_XX_START', 'W_Completeren aanvraag_XX_60000_XX_W_Afhandelen leads_XX_COMPLETE', 'A_CANCELLED_XX_60000_XX_W_Completeren aanvraag_XX_START', 'A_FINALIZED_XX_30000_XX_A_ACCEPTED_XX_COMPLETE', 'O_SELECTED_XX_30000_XX_A_FINALIZED_XX_COMPLETE', 'O_CREATED_XX_30000_XX_O_SELECTED_XX_COMPLETE', 'W_Completeren aanvraag_XX_50000_XX_W_Completeren aanvraag_XX_COMPLETE', 'A_ACCEPTED_XX_50000_XX_W_Completeren aanvraag_XX_START', 'O_SELECTED_XX_50000_XX_A_ACCEPTED_XX_COMPLETE', 'A_FINALIZED_XX_50000_XX_O_SELECTED_XX_COMPLETE', 'O_CREATED_XX_50000_XX_A_FINALIZED_XX_COMPLETE', 'O_SENT_XX_50000_XX_O_CREATED_XX_COMPLETE', 'W_Nabellen offertes_XX_50000_XX_O_SENT_XX_COMPLETE', 'W_Completeren aanvraag_XX_50000_XX_W_Nabellen offertes_XX_SCHEDULE', 'W_Nabellen offertes_XX_50000_XX_W_Completeren aanvraag_XX_COMPLETE', 'O_SENT_BACK_XX_20000_XX_W_Nabellen offertes_XX_START', 'W_Valideren aanvraag_XX_20000_XX_O_SENT_BACK_XX_COMPLETE', 'W_Nabellen offertes_XX_20000_XX_W_Valideren aanvraag_XX_SCHEDULE', 'W_Valideren aanvraag_XX_20000_XX_W_Nabellen offertes_XX_COMPLETE', 'W_Valideren aanvraag_XX_20000_XX_W_Valideren aanvraag_XX_START', 'W_Valideren aanvraag_XX_20000_XX_W_Valideren aanvraag_XX_COMPLETE', 'W_Nabellen incomplete dossiers_XX_20000_XX_W_Valideren aanvraag_XX_START', 'W_Afhandelen leads_XX_40000_XX_A_PARTLYSUBMITTED_XX_COMPLETE', 'W_Afhandelen leads_XX_40000_XX_W_Afhandelen leads_XX_SCHEDULE', 'A_PREACCEPTED_XX_40000_XX_W_Afhandelen leads_XX_START', 'A_FINALIZED_XX_50000_XX_A_ACCEPTED_XX_COMPLETE', 'O_SELECTED_XX_50000_XX_A_FINALIZED_XX_COMPLETE', 'O_CREATED_XX_50000_XX_O_SELECTED_XX_COMPLETE', 'W_Completeren aanvraag_XX_50000_XX_W_Completeren aanvraag_XX_SCHEDULE', 'O_SENT_BACK_XX_10000_XX_W_Nabellen offertes_XX_START', 'W_Valideren aanvraag_XX_10000_XX_O_SENT_BACK_XX_COMPLETE', 'W_Nabellen offertes_XX_10000_XX_W_Valideren aanvraag_XX_SCHEDULE', 'W_Valideren aanvraag_XX_10000_XX_W_Nabellen offertes_XX_COMPLETE', 'W_Nabellen incomplete dossiers_XX_10000_XX_W_Valideren aanvraag_XX_START', 'W_Valideren aanvraag_XX_10000_XX_W_Nabellen incomplete dossiers_XX_SCHEDULE', 'W_Nabellen incomplete dossiers_XX_10000_XX_W_Valideren aanvraag_XX_COMPLETE', 'O_SENT_BACK_XX_0_XX_W_Nabellen offertes_XX_START', 'W_Valideren aanvraag_XX_0_XX_O_SENT_BACK_XX_COMPLETE', 'W_Nabellen offertes_XX_0_XX_W_Valideren aanvraag_XX_SCHEDULE', 'A_CANCELLED_XX_30000_XX_W_Completeren aanvraag_XX_START', 'W_Valideren aanvraag_XX_0_XX_W_Nabellen offertes_XX_COMPLETE', 'O_ACCEPTED_XX_0_XX_W_Valideren aanvraag_XX_START', 'A_APPROVED_XX_0_XX_O_ACCEPTED_XX_COMPLETE', 'A_ACTIVATED_XX_0_XX_A_APPROVED_XX_COMPLETE', 'A_REGISTERED_XX_0_XX_A_ACTIVATED_XX_COMPLETE', 'O_CANCELLED_XX_10000_XX_W_Nabellen offertes_XX_START', 'O_SELECTED_XX_10000_XX_O_CANCELLED_XX_COMPLETE', 'W_Nabellen incomplete dossiers_XX_10000_XX_W_Nabellen incomplete dossiers_XX_START', 'W_Valideren aanvraag_XX_20000_XX_W_Nabellen incomplete dossiers_XX_SCHEDULE', 'W_Nabellen incomplete dossiers_XX_20000_XX_W_Valideren aanvraag_XX_COMPLETE', 'W_Nabellen incomplete dossiers_XX_10000_XX_W_Nabellen incomplete dossiers_XX_COMPLETE', 'W_Completeren aanvraag_XX_30000_XX_W_Nabellen offertes_XX_SCHEDULE', 'W_Nabellen offertes_XX_30000_XX_W_Completeren aanvraag_XX_COMPLETE', 'O_CANCELLED_XX_30000_XX_W_Nabellen offertes_XX_START', 'O_SELECTED_XX_30000_XX_O_CANCELLED_XX_COMPLETE', 'W_Nabellen offertes_XX_30000_XX_W_Nabellen offertes_XX_SCHEDULE', 'W_Nabellen offertes_XX_30000_XX_W_Nabellen offertes_XX_COMPLETE', 'W_Afhandelen leads_XX_40000_XX_W_Completeren aanvraag_XX_SCHEDULE', 'W_Completeren aanvraag_XX_40000_XX_W_Afhandelen leads_XX_COMPLETE', 'W_Completeren aanvraag_XX_0_XX_A_ACCEPTED_XX_COMPLETE', 'A_CANCELLED_XX_0_XX_W_Completeren aanvraag_XX_START', 'O_DECLINED_XX_0_XX_W_Nabellen offertes_XX_START', 'A_DECLINED_XX_0_XX_O_DECLINED_XX_COMPLETE', 'A_CANCELLED_XX_20000_XX_W_Completeren aanvraag_XX_START', 'A_FINALIZED_XX_40000_XX_A_ACCEPTED_XX_COMPLETE', 'O_SELECTED_XX_40000_XX_A_FINALIZED_XX_COMPLETE', 'O_CREATED_XX_40000_XX_O_SELECTED_XX_COMPLETE', 'W_Completeren aanvraag_XX_40000_XX_W_Nabellen offertes_XX_SCHEDULE', 'W_Nabellen offertes_XX_40000_XX_W_Completeren aanvraag_XX_COMPLETE', 'O_CANCELLED_XX_40000_XX_W_Nabellen offertes_XX_START', 'O_SELECTED_XX_40000_XX_O_CANCELLED_XX_COMPLETE', 'A_SUBMITTED_XX_70000_XX_None_XX_None', 'A_PARTLYSUBMITTED_XX_70000_XX_A_SUBMITTED_XX_COMPLETE', 'W_Afhandelen leads_XX_70000_XX_A_PARTLYSUBMITTED_XX_COMPLETE', 'W_Afhandelen leads_XX_70000_XX_W_Afhandelen leads_XX_SCHEDULE', 'A_PREACCEPTED_XX_70000_XX_W_Afhandelen leads_XX_START', 'W_Completeren aanvraag_XX_70000_XX_A_PREACCEPTED_XX_COMPLETE', 'W_Afhandelen leads_XX_30000_XX_W_Afhandelen leads_XX_START', 'W_Afhandelen leads_XX_30000_XX_W_Afhandelen leads_XX_COMPLETE', 'A_DECLINED_XX_30000_XX_W_Completeren aanvraag_XX_START', 'A_DECLINED_XX_30000_XX_W_Afhandelen leads_XX_START', 'O_CANCELLED_XX_20000_XX_W_Nabellen offertes_XX_START', 'O_SELECTED_XX_20000_XX_O_CANCELLED_XX_COMPLETE', 'W_Afhandelen leads_XX_70000_XX_W_Completeren aanvraag_XX_SCHEDULE', 'W_Completeren aanvraag_XX_70000_XX_W_Afhandelen leads_XX_COMPLETE', 'O_ACCEPTED_XX_10000_XX_W_Nabellen incomplete dossiers_XX_START', 'A_REGISTERED_XX_10000_XX_O_ACCEPTED_XX_COMPLETE', 'A_APPROVED_XX_10000_XX_A_REGISTERED_XX_COMPLETE', 'A_ACTIVATED_XX_10000_XX_A_APPROVED_XX_COMPLETE', 'W_Completeren aanvraag_XX_70000_XX_W_Completeren aanvraag_XX_START', 'W_Completeren aanvraag_XX_70000_XX_W_Completeren aanvraag_XX_COMPLETE', 'A_CANCELLED_XX_20000_XX_A_ACCEPTED_XX_COMPLETE', 'W_Completeren aanvraag_XX_20000_XX_A_ACCEPTED_XX_COMPLETE', 'A_FINALIZED_XX_20000_XX_W_Completeren aanvraag_XX_START', 'W_Nabellen offertes_XX_30000_XX_W_Nabellen offertes_XX_START', 'A_DECLINED_XX_70000_XX_W_Completeren aanvraag_XX_START', 'O_SENT_BACK_XX_30000_XX_W_Nabellen offertes_XX_START', 'W_Valideren aanvraag_XX_30000_XX_O_SENT_BACK_XX_COMPLETE', 'W_Nabellen offertes_XX_30000_XX_W_Valideren aanvraag_XX_SCHEDULE', 'W_Valideren aanvraag_XX_30000_XX_W_Nabellen offertes_XX_COMPLETE', 'W_Nabellen incomplete dossiers_XX_30000_XX_W_Valideren aanvraag_XX_START', 'O_ACCEPTED_XX_10000_XX_W_Valideren aanvraag_XX_START', 'A_APPROVED_XX_10000_XX_O_ACCEPTED_XX_COMPLETE', 'A_REGISTERED_XX_10000_XX_A_APPROVED_XX_COMPLETE', 'A_ACTIVATED_XX_10000_XX_A_REGISTERED_XX_COMPLETE', 'W_Nabellen offertes_XX_40000_XX_W_Nabellen offertes_XX_SCHEDULE', 'W_Nabellen offertes_XX_40000_XX_W_Nabellen offertes_XX_COMPLETE', 'A_DECLINED_XX_40000_XX_W_Completeren aanvraag_XX_START', 'W_Afhandelen leads_XX_50000_XX_W_Afhandelen leads_XX_START', 'W_Afhandelen leads_XX_50000_XX_W_Afhandelen leads_XX_COMPLETE', 'A_DECLINED_XX_50000_XX_W_Afhandelen leads_XX_START', 'W_Valideren aanvraag_XX_30000_XX_W_Nabellen incomplete dossiers_XX_SCHEDULE', 'W_Nabellen incomplete dossiers_XX_30000_XX_W_Valideren aanvraag_XX_COMPLETE', 'O_SELECTED_XX_40000_XX_W_Nabellen offertes_XX_START', 'O_CANCELLED_XX_40000_XX_O_SELECTED_XX_COMPLETE', 'O_CREATED_XX_40000_XX_O_CANCELLED_XX_COMPLETE', 'W_Beoordelen fraude_XX_40000_XX_A_PARTLYSUBMITTED_XX_COMPLETE', 'W_Beoordelen fraude_XX_40000_XX_W_Beoordelen fraude_XX_SCHEDULE', 'W_Nabellen incomplete dossiers_XX_30000_XX_W_Nabellen incomplete dossiers_XX_START', 'W_Nabellen incomplete dossiers_XX_30000_XX_W_Nabellen incomplete dossiers_XX_COMPLETE', 'W_Nabellen incomplete dossiers_XX_20000_XX_W_Nabellen incomplete dossiers_XX_START', 'W_Nabellen incomplete dossiers_XX_20000_XX_W_Nabellen incomplete dossiers_XX_COMPLETE', 'A_SUBMITTED_XX_100000_XX_None_XX_None', 'A_PARTLYSUBMITTED_XX_100000_XX_A_SUBMITTED_XX_COMPLETE', 'A_PREACCEPTED_XX_100000_XX_A_PARTLYSUBMITTED_XX_COMPLETE', 'W_Completeren aanvraag_XX_100000_XX_A_PREACCEPTED_XX_COMPLETE', 'W_Completeren aanvraag_XX_100000_XX_W_Completeren aanvraag_XX_SCHEDULE', 'A_ACCEPTED_XX_100000_XX_W_Completeren aanvraag_XX_START', 'A_FINALIZED_XX_100000_XX_A_ACCEPTED_XX_COMPLETE', 'O_SELECTED_XX_100000_XX_A_FINALIZED_XX_COMPLETE', 'O_CREATED_XX_100000_XX_O_SELECTED_XX_COMPLETE', 'O_SENT_XX_100000_XX_O_CREATED_XX_COMPLETE', 'W_Nabellen offertes_XX_100000_XX_O_SENT_XX_COMPLETE', 'W_Completeren aanvraag_XX_100000_XX_W_Nabellen offertes_XX_SCHEDULE', 'W_Nabellen offertes_XX_100000_XX_W_Completeren aanvraag_XX_COMPLETE', 'O_CANCELLED_XX_100000_XX_W_Nabellen offertes_XX_START', 'O_SELECTED_XX_100000_XX_O_CANCELLED_XX_COMPLETE', 'W_Nabellen offertes_XX_100000_XX_W_Nabellen offertes_XX_SCHEDULE', 'W_Nabellen offertes_XX_100000_XX_W_Nabellen offertes_XX_COMPLETE', 'A_CANCELLED_XX_50000_XX_W_Completeren aanvraag_XX_START', 'O_SELECTED_XX_30000_XX_W_Nabellen offertes_XX_START', 'O_CANCELLED_XX_30000_XX_O_SELECTED_XX_COMPLETE', 'O_CREATED_XX_30000_XX_O_CANCELLED_XX_COMPLETE', 'W_Valideren aanvraag_XX_30000_XX_W_Nabellen incomplete dossiers_XX_START', 'W_Nabellen incomplete dossiers_XX_30000_XX_W_Valideren aanvraag_XX_SCHEDULE', 'W_Valideren aanvraag_XX_30000_XX_W_Nabellen incomplete dossiers_XX_COMPLETE', 'W_Valideren aanvraag_XX_30000_XX_W_Valideren aanvraag_XX_START', 'A_DECLINED_XX_50000_XX_W_Completeren aanvraag_XX_START', 'W_Valideren aanvraag_XX_30000_XX_W_Valideren aanvraag_XX_COMPLETE', 'W_Beoordelen fraude_XX_40000_XX_W_Beoordelen fraude_XX_START', 'W_Beoordelen fraude_XX_40000_XX_W_Beoordelen fraude_XX_COMPLETE', 'A_DECLINED_XX_40000_XX_W_Beoordelen fraude_XX_START', 'W_Beoordelen fraude_XX_10000_XX_A_PARTLYSUBMITTED_XX_COMPLETE', 'W_Beoordelen fraude_XX_10000_XX_W_Beoordelen fraude_XX_SCHEDULE', 'W_Beoordelen fraude_XX_10000_XX_W_Beoordelen fraude_XX_START', 'W_Beoordelen fraude_XX_10000_XX_W_Beoordelen fraude_XX_COMPLETE', 'O_CANCELLED_XX_30000_XX_W_Nabellen incomplete dossiers_XX_START', 'W_Nabellen incomplete dossiers_XX_30000_XX_O_SENT_XX_COMPLETE', 'W_Nabellen incomplete dossiers_XX_30000_XX_W_Nabellen incomplete dossiers_XX_SCHEDULE', 'O_SENT_BACK_XX_30000_XX_W_Nabellen incomplete dossiers_XX_START', 'O_ACCEPTED_XX_30000_XX_W_Nabellen incomplete dossiers_XX_START', 'A_REGISTERED_XX_30000_XX_O_ACCEPTED_XX_COMPLETE', 'A_ACTIVATED_XX_30000_XX_A_REGISTERED_XX_COMPLETE', 'A_APPROVED_XX_30000_XX_A_ACTIVATED_XX_COMPLETE', 'W_Nabellen offertes_XX_50000_XX_W_Nabellen offertes_XX_START', 'W_Nabellen offertes_XX_50000_XX_W_Nabellen offertes_XX_COMPLETE', 'O_CANCELLED_XX_50000_XX_W_Nabellen offertes_XX_START', 'O_SELECTED_XX_50000_XX_O_CANCELLED_XX_COMPLETE', 'W_Nabellen offertes_XX_50000_XX_W_Nabellen offertes_XX_SCHEDULE', 'W_Nabellen offertes_XX_40000_XX_W_Nabellen offertes_XX_START', 'A_CANCELLED_XX_0_XX_O_CANCELLED_XX_COMPLETE', 'A_CANCELLED_XX_40000_XX_W_Completeren aanvraag_XX_START', 'W_Valideren aanvraag_XX_10000_XX_W_Nabellen incomplete dossiers_XX_START', 'W_Completeren aanvraag_XX_10000_XX_A_ACCEPTED_XX_COMPLETE', 'W_Afhandelen leads_XX_40000_XX_W_Afhandelen leads_XX_START', 'W_Afhandelen leads_XX_40000_XX_W_Afhandelen leads_XX_COMPLETE', 'A_DECLINED_XX_10000_XX_W_Beoordelen fraude_XX_START', 'O_SENT_BACK_XX_40000_XX_W_Nabellen offertes_XX_START', 'W_Valideren aanvraag_XX_40000_XX_O_SENT_BACK_XX_COMPLETE', 'W_Nabellen incomplete dossiers_XX_10000_XX_W_Valideren aanvraag_XX_SCHEDULE', 'W_Valideren aanvraag_XX_10000_XX_W_Nabellen incomplete dossiers_XX_COMPLETE', 'O_SENT_BACK_XX_50000_XX_W_Nabellen offertes_XX_START', 'W_Valideren aanvraag_XX_50000_XX_O_SENT_BACK_XX_COMPLETE', 'W_Valideren aanvraag_XX_0_XX_W_Valideren aanvraag_XX_START', 'W_Valideren aanvraag_XX_0_XX_W_Valideren aanvraag_XX_COMPLETE', 'A_REGISTERED_XX_0_XX_A_APPROVED_XX_COMPLETE', 'A_ACTIVATED_XX_0_XX_A_REGISTERED_XX_COMPLETE', 'A_REGISTERED_XX_0_XX_O_ACCEPTED_XX_COMPLETE', 'A_APPROVED_XX_0_XX_A_REGISTERED_XX_COMPLETE', 'O_DECLINED_XX_10000_XX_W_Nabellen incomplete dossiers_XX_START', 'A_DECLINED_XX_10000_XX_O_DECLINED_XX_COMPLETE', 'A_CANCELLED_XX_10000_XX_W_Nabellen offertes_XX_START', 'O_CANCELLED_XX_10000_XX_A_CANCELLED_XX_COMPLETE', 'A_CANCELLED_XX_0_XX_W_Nabellen offertes_XX_START', 'O_CANCELLED_XX_0_XX_A_CANCELLED_XX_COMPLETE', 'A_CANCELLED_XX_20000_XX_O_CANCELLED_XX_COMPLETE', 'A_CANCELLED_XX_10000_XX_O_CANCELLED_XX_COMPLETE', 'A_DECLINED_XX_10000_XX_W_Valideren aanvraag_XX_START', 'O_DECLINED_XX_10000_XX_A_DECLINED_XX_COMPLETE', 'W_Valideren aanvraag_XX_20000_XX_W_Nabellen incomplete dossiers_XX_START', 'W_Nabellen incomplete dossiers_XX_20000_XX_W_Valideren aanvraag_XX_SCHEDULE', 'W_Valideren aanvraag_XX_20000_XX_W_Nabellen incomplete dossiers_XX_COMPLETE', 'O_ACCEPTED_XX_20000_XX_W_Valideren aanvraag_XX_START', 'A_APPROVED_XX_20000_XX_O_ACCEPTED_XX_COMPLETE', 'A_REGISTERED_XX_20000_XX_A_APPROVED_XX_COMPLETE', 'A_ACTIVATED_XX_20000_XX_A_REGISTERED_XX_COMPLETE', 'A_ACTIVATED_XX_10000_XX_O_ACCEPTED_XX_COMPLETE', 'A_REGISTERED_XX_10000_XX_A_ACTIVATED_XX_COMPLETE', 'A_APPROVED_XX_20000_XX_W_Valideren aanvraag_XX_START', 'O_ACCEPTED_XX_20000_XX_A_APPROVED_XX_COMPLETE', 'A_REGISTERED_XX_20000_XX_O_ACCEPTED_XX_COMPLETE', 'A_APPROVED_XX_30000_XX_W_Valideren aanvraag_XX_START', 'O_ACCEPTED_XX_30000_XX_A_APPROVED_XX_COMPLETE', 'A_ACTIVATED_XX_30000_XX_O_ACCEPTED_XX_COMPLETE', 'A_REGISTERED_XX_30000_XX_A_ACTIVATED_XX_COMPLETE', 'W_Valideren aanvraag_XX_10000_XX_W_Valideren aanvraag_XX_START', 'W_Nabellen incomplete dossiers_XX_0_XX_W_Valideren aanvraag_XX_START', 'W_Valideren aanvraag_XX_10000_XX_W_Valideren aanvraag_XX_COMPLETE', 'W_Valideren aanvraag_XX_0_XX_W_Nabellen incomplete dossiers_XX_SCHEDULE', 'W_Nabellen incomplete dossiers_XX_0_XX_W_Valideren aanvraag_XX_COMPLETE', 'W_Nabellen incomplete dossiers_XX_0_XX_W_Nabellen incomplete dossiers_XX_START', 'W_Nabellen incomplete dossiers_XX_0_XX_W_Nabellen incomplete dossiers_XX_COMPLETE', 'A_REGISTERED_XX_10000_XX_W_Valideren aanvraag_XX_START', 'O_ACCEPTED_XX_10000_XX_A_ACTIVATED_XX_COMPLETE', 'O_SELECTED_XX_50000_XX_W_Nabellen offertes_XX_START', 'O_CANCELLED_XX_50000_XX_O_SELECTED_XX_COMPLETE', 'O_CREATED_XX_50000_XX_O_CANCELLED_XX_COMPLETE', 'W_Beoordelen fraude_XX_10000_XX_W_Valideren aanvraag_XX_START', 'W_Valideren aanvraag_XX_10000_XX_W_Beoordelen fraude_XX_SCHEDULE', 'W_Beoordelen fraude_XX_10000_XX_W_Valideren aanvraag_XX_COMPLETE', 'W_Valideren aanvraag_XX_10000_XX_W_Beoordelen fraude_XX_START', 'W_Beoordelen fraude_XX_10000_XX_W_Valideren aanvraag_XX_SCHEDULE', 'W_Valideren aanvraag_XX_10000_XX_W_Beoordelen fraude_XX_COMPLETE', 'A_ACTIVATED_XX_20000_XX_A_APPROVED_XX_COMPLETE', 'A_REGISTERED_XX_20000_XX_A_ACTIVATED_XX_COMPLETE', 'W_Valideren aanvraag_XX_0_XX_W_Nabellen incomplete dossiers_XX_START', 'A_APPROVED_XX_10000_XX_A_ACTIVATED_XX_COMPLETE', 'W_Nabellen incomplete dossiers_XX_0_XX_W_Valideren aanvraag_XX_SCHEDULE', 'W_Valideren aanvraag_XX_0_XX_W_Nabellen incomplete dossiers_XX_COMPLETE', 'O_SELECTED_XX_0_XX_W_Valideren aanvraag_XX_START', 'W_Nabellen incomplete dossiers_XX_0_XX_O_SENT_XX_COMPLETE', 'O_ACCEPTED_XX_0_XX_W_Nabellen incomplete dossiers_XX_START', 'A_ACTIVATED_XX_0_XX_O_ACCEPTED_XX_COMPLETE', 'A_APPROVED_XX_0_XX_A_ACTIVATED_XX_COMPLETE', 'A_APPROVED_XX_10000_XX_W_Valideren aanvraag_XX_START', 'O_ACCEPTED_XX_10000_XX_A_REGISTERED_XX_COMPLETE', 'O_DECLINED_XX_0_XX_W_Valideren aanvraag_XX_START', 'A_APPROVED_XX_0_XX_W_Valideren aanvraag_XX_START', 'O_ACCEPTED_XX_0_XX_A_APPROVED_XX_COMPLETE', 'O_ACCEPTED_XX_10000_XX_A_APPROVED_XX_COMPLETE', 'A_CANCELLED_XX_10000_XX_A_ACCEPTED_XX_COMPLETE', 'O_DECLINED_XX_10000_XX_W_Valideren aanvraag_XX_START', 'O_DECLINED_XX_20000_XX_W_Valideren aanvraag_XX_START', 'A_DECLINED_XX_20000_XX_O_DECLINED_XX_COMPLETE', 'W_Nabellen offertes_XX_50000_XX_W_Valideren aanvraag_XX_SCHEDULE', 'W_Nabellen offertes_XX_40000_XX_W_Valideren aanvraag_XX_SCHEDULE', 'W_Valideren aanvraag_XX_50000_XX_W_Nabellen offertes_XX_COMPLETE', 'A_ACTIVATED_XX_20000_XX_W_Valideren aanvraag_XX_START', 'A_APPROVED_XX_20000_XX_A_ACTIVATED_XX_COMPLETE', 'O_ACCEPTED_XX_20000_XX_A_REGISTERED_XX_COMPLETE', 'W_Valideren aanvraag_XX_40000_XX_W_Nabellen offertes_XX_COMPLETE', 'W_Nabellen incomplete dossiers_XX_40000_XX_W_Valideren aanvraag_XX_START', 'W_Valideren aanvraag_XX_50000_XX_W_Valideren aanvraag_XX_START', 'A_DECLINED_XX_40000_XX_W_Valideren aanvraag_XX_START', 'O_DECLINED_XX_40000_XX_A_DECLINED_XX_COMPLETE', 'W_Valideren aanvraag_XX_50000_XX_W_Valideren aanvraag_XX_COMPLETE', 'W_Valideren aanvraag_XX_40000_XX_W_Nabellen incomplete dossiers_XX_SCHEDULE', 'W_Nabellen incomplete dossiers_XX_40000_XX_W_Valideren aanvraag_XX_COMPLETE', 'W_Nabellen incomplete dossiers_XX_40000_XX_W_Nabellen incomplete dossiers_XX_START', 'W_Nabellen incomplete dossiers_XX_40000_XX_W_Nabellen incomplete dossiers_XX_COMPLETE', 'W_Nabellen incomplete dossiers_XX_50000_XX_W_Valideren aanvraag_XX_START', 'W_Valideren aanvraag_XX_50000_XX_W_Nabellen incomplete dossiers_XX_SCHEDULE', 'O_CANCELLED_XX_20000_XX_W_Nabellen incomplete dossiers_XX_START', 'W_Nabellen incomplete dossiers_XX_20000_XX_O_SENT_XX_COMPLETE', 'W_Nabellen incomplete dossiers_XX_50000_XX_W_Valideren aanvraag_XX_COMPLETE', 'W_Beoordelen fraude_XX_20000_XX_A_PARTLYSUBMITTED_XX_COMPLETE', 'W_Beoordelen fraude_XX_20000_XX_W_Beoordelen fraude_XX_SCHEDULE', 'W_Nabellen incomplete dossiers_XX_50000_XX_W_Nabellen incomplete dossiers_XX_START', 'W_Nabellen incomplete dossiers_XX_50000_XX_W_Nabellen incomplete dossiers_XX_COMPLETE', 'W_Valideren aanvraag_XX_50000_XX_W_Nabellen incomplete dossiers_XX_START', 'W_Nabellen incomplete dossiers_XX_20000_XX_W_Nabellen incomplete dossiers_XX_SCHEDULE', 'A_REGISTERED_XX_20000_XX_W_Valideren aanvraag_XX_START', 'A_APPROVED_XX_20000_XX_A_REGISTERED_XX_COMPLETE', 'A_ACTIVATED_XX_20000_XX_O_ACCEPTED_XX_COMPLETE', 'W_Nabellen incomplete dossiers_XX_50000_XX_W_Valideren aanvraag_XX_SCHEDULE', 'W_Valideren aanvraag_XX_50000_XX_W_Nabellen incomplete dossiers_XX_COMPLETE', 'A_ACTIVATED_XX_50000_XX_W_Valideren aanvraag_XX_START', 'A_REGISTERED_XX_50000_XX_A_ACTIVATED_XX_COMPLETE', 'O_ACCEPTED_XX_50000_XX_A_REGISTERED_XX_COMPLETE', 'A_APPROVED_XX_50000_XX_O_ACCEPTED_XX_COMPLETE', 'W_Nabellen offertes_XX_100000_XX_W_Nabellen offertes_XX_START', 'A_CANCELLED_XX_100000_XX_O_CANCELLED_XX_COMPLETE', 'W_Valideren aanvraag_XX_40000_XX_W_Nabellen incomplete dossiers_XX_START', 'O_ACCEPTED_XX_20000_XX_A_ACTIVATED_XX_COMPLETE', 'W_Afhandelen leads_XX_10000_XX_W_Beoordelen fraude_XX_START', 'W_Beoordelen fraude_XX_20000_XX_W_Beoordelen fraude_XX_START', 'W_Beoordelen fraude_XX_20000_XX_W_Beoordelen fraude_XX_COMPLETE', 'A_DECLINED_XX_20000_XX_W_Beoordelen fraude_XX_START', 'W_Beoordelen fraude_XX_10000_XX_W_Afhandelen leads_XX_SCHEDULE', 'W_Afhandelen leads_XX_10000_XX_W_Beoordelen fraude_XX_COMPLETE', 'W_Beoordelen fraude_XX_10000_XX_W_Afhandelen leads_XX_START', 'W_Nabellen incomplete dossiers_XX_40000_XX_W_Valideren aanvraag_XX_SCHEDULE', 'W_Valideren aanvraag_XX_40000_XX_W_Nabellen incomplete dossiers_XX_COMPLETE', 'O_DECLINED_XX_40000_XX_W_Valideren aanvraag_XX_START', 'A_DECLINED_XX_40000_XX_O_DECLINED_XX_COMPLETE', 'O_CANCELLED_XX_10000_XX_W_Nabellen incomplete dossiers_XX_START', 'O_SELECTED_XX_0_XX_W_Nabellen incomplete dossiers_XX_START', 'W_Nabellen incomplete dossiers_XX_0_XX_W_Nabellen incomplete dossiers_XX_SCHEDULE', 'W_Afhandelen leads_XX_10000_XX_W_Beoordelen fraude_XX_SCHEDULE', 'W_Beoordelen fraude_XX_10000_XX_W_Afhandelen leads_XX_COMPLETE', 'A_DECLINED_XX_20000_XX_A_ACCEPTED_XX_COMPLETE', 'A_DECLINED_XX_20000_XX_W_Valideren aanvraag_XX_START', 'O_DECLINED_XX_20000_XX_A_DECLINED_XX_COMPLETE', 'A_ACTIVATED_XX_0_XX_W_Valideren aanvraag_XX_START', 'O_CANCELLED_XX_10000_XX_W_Valideren aanvraag_XX_START', 'W_Nabellen incomplete dossiers_XX_10000_XX_O_SENT_XX_COMPLETE', 'W_Beoordelen fraude_XX_20000_XX_W_Completeren aanvraag_XX_START', 'W_Completeren aanvraag_XX_20000_XX_W_Beoordelen fraude_XX_SCHEDULE', 'W_Beoordelen fraude_XX_20000_XX_W_Completeren aanvraag_XX_COMPLETE', 'O_ACCEPTED_XX_30000_XX_W_Valideren aanvraag_XX_START', 'A_APPROVED_XX_30000_XX_A_REGISTERED_XX_COMPLETE', 'A_ACTIVATED_XX_30000_XX_A_APPROVED_XX_COMPLETE', 'O_SELECTED_XX_10000_XX_W_Completeren aanvraag_XX_START', 'A_REGISTERED_XX_10000_XX_W_Nabellen incomplete dossiers_XX_START', 'A_SUBMITTED_XX_80000_XX_None_XX_None', 'A_PARTLYSUBMITTED_XX_80000_XX_A_SUBMITTED_XX_COMPLETE', 'A_CANCELLED_XX_20000_XX_W_Nabellen offertes_XX_START', 'O_CANCELLED_XX_20000_XX_A_CANCELLED_XX_COMPLETE', 'W_Afhandelen leads_XX_100000_XX_A_PARTLYSUBMITTED_XX_COMPLETE', 'W_Afhandelen leads_XX_100000_XX_W_Afhandelen leads_XX_SCHEDULE', 'A_PREACCEPTED_XX_100000_XX_W_Afhandelen leads_XX_START', 'W_Afhandelen leads_XX_100000_XX_W_Completeren aanvraag_XX_SCHEDULE', 'W_Completeren aanvraag_XX_100000_XX_W_Afhandelen leads_XX_COMPLETE', 'W_Completeren aanvraag_XX_100000_XX_W_Completeren aanvraag_XX_START', 'W_Completeren aanvraag_XX_100000_XX_W_Completeren aanvraag_XX_COMPLETE', 'A_PREACCEPTED_XX_80000_XX_A_PARTLYSUBMITTED_XX_COMPLETE', 'A_CANCELLED_XX_0_XX_W_Nabellen offertes_XX_COMPLETE', 'W_Completeren aanvraag_XX_80000_XX_A_PREACCEPTED_XX_COMPLETE', 'W_Completeren aanvraag_XX_80000_XX_W_Completeren aanvraag_XX_SCHEDULE', 'A_ACCEPTED_XX_80000_XX_W_Completeren aanvraag_XX_START', 'O_SELECTED_XX_80000_XX_A_ACCEPTED_XX_COMPLETE', 'A_FINALIZED_XX_80000_XX_O_SELECTED_XX_COMPLETE', 'O_CREATED_XX_80000_XX_A_FINALIZED_XX_COMPLETE', 'O_SENT_XX_80000_XX_O_CREATED_XX_COMPLETE', 'W_Nabellen offertes_XX_80000_XX_O_SENT_XX_COMPLETE', 'A_DECLINED_XX_0_XX_W_Valideren aanvraag_XX_START', 'O_DECLINED_XX_0_XX_A_DECLINED_XX_COMPLETE', 'O_SELECTED_XX_20000_XX_W_Nabellen incomplete dossiers_XX_START', 'O_ACCEPTED_XX_0_XX_A_ACTIVATED_XX_COMPLETE', 'O_ACCEPTED_XX_0_XX_A_REGISTERED_XX_COMPLETE', 'O_CANCELLED_XX_0_XX_W_Nabellen incomplete dossiers_XX_START', 'W_Afhandelen leads_XX_70000_XX_W_Afhandelen leads_XX_START', 'W_Afhandelen leads_XX_70000_XX_W_Afhandelen leads_XX_COMPLETE', 'W_Afhandelen leads_XX_60000_XX_W_Afhandelen leads_XX_START', 'W_Afhandelen leads_XX_60000_XX_W_Afhandelen leads_XX_COMPLETE', 'A_DECLINED_XX_60000_XX_W_Completeren aanvraag_XX_START', 'A_CANCELLED_XX_100000_XX_W_Completeren aanvraag_XX_START', 'O_SELECTED_XX_40000_XX_W_Nabellen incomplete dossiers_XX_START', 'W_Nabellen incomplete dossiers_XX_40000_XX_O_SENT_XX_COMPLETE', 'A_DECLINED_XX_40000_XX_W_Afhandelen leads_XX_START', 'O_SENT_BACK_XX_20000_XX_W_Nabellen incomplete dossiers_XX_START', 'W_Nabellen incomplete dossiers_XX_40000_XX_W_Nabellen incomplete dossiers_XX_SCHEDULE', 'O_ACCEPTED_XX_20000_XX_W_Nabellen incomplete dossiers_XX_START', 'W_Valideren aanvraag_XX_40000_XX_W_Valideren aanvraag_XX_START', 'W_Valideren aanvraag_XX_40000_XX_W_Valideren aanvraag_XX_COMPLETE', 'A_ACTIVATED_XX_10000_XX_W_Valideren aanvraag_XX_START', 'A_DECLINED_XX_50000_XX_W_Valideren aanvraag_XX_START', 'O_DECLINED_XX_50000_XX_A_DECLINED_XX_COMPLETE', 'O_ACCEPTED_XX_40000_XX_W_Valideren aanvraag_XX_START', 'A_ACTIVATED_XX_40000_XX_O_ACCEPTED_XX_COMPLETE', 'A_REGISTERED_XX_40000_XX_A_ACTIVATED_XX_COMPLETE', 'A_APPROVED_XX_40000_XX_A_REGISTERED_XX_COMPLETE', 'A_ACTIVATED_XX_30000_XX_W_Valideren aanvraag_XX_START', 'A_CANCELLED_XX_40000_XX_W_Nabellen offertes_XX_START', 'O_CANCELLED_XX_40000_XX_A_CANCELLED_XX_COMPLETE', 'A_CANCELLED_XX_20000_XX_W_Valideren aanvraag_XX_START', 'A_PREACCEPTED_XX_60000_XX_A_PARTLYSUBMITTED_XX_COMPLETE', 'W_Completeren aanvraag_XX_60000_XX_W_Completeren aanvraag_XX_SCHEDULE', 'A_CANCELLED_XX_50000_XX_O_CANCELLED_XX_COMPLETE', 'A_DECLINED_XX_0_XX_W_Nabellen offertes_XX_START', 'W_Completeren aanvraag_XX_60000_XX_W_Completeren aanvraag_XX_START', 'W_Completeren aanvraag_XX_60000_XX_W_Completeren aanvraag_XX_COMPLETE', 'A_DECLINED_XX_0_XX_A_ACCEPTED_XX_COMPLETE', 'A_DECLINED_XX_60000_XX_W_Afhandelen leads_XX_START', 'A_CANCELLED_XX_50000_XX_W_Nabellen offertes_XX_START', 'O_CANCELLED_XX_50000_XX_A_CANCELLED_XX_COMPLETE', 'O_CANCELLED_XX_0_XX_W_Valideren aanvraag_XX_START', 'O_SELECTED_XX_20000_XX_W_Valideren aanvraag_XX_START', 'A_DECLINED_XX_10000_XX_A_ACCEPTED_XX_COMPLETE', 'A_CANCELLED_XX_10000_XX_W_Nabellen offertes_XX_COMPLETE', 'O_SELECTED_XX_10000_XX_W_Valideren aanvraag_XX_START', 'A_DECLINED_XX_10000_XX_W_Nabellen incomplete dossiers_XX_START', 'A_CANCELLED_XX_30000_XX_O_CANCELLED_XX_COMPLETE', 'O_SELECTED_XX_10000_XX_W_Nabellen incomplete dossiers_XX_START', 'W_Nabellen incomplete dossiers_XX_10000_XX_W_Nabellen incomplete dossiers_XX_SCHEDULE', 'A_CANCELLED_XX_30000_XX_W_Nabellen offertes_XX_START', 'O_CANCELLED_XX_30000_XX_A_CANCELLED_XX_COMPLETE', 'O_SENT_BACK_XX_0_XX_W_Nabellen incomplete dossiers_XX_START', 'A_REGISTERED_XX_40000_XX_W_Valideren aanvraag_XX_START', 'O_ACCEPTED_XX_40000_XX_A_REGISTERED_XX_COMPLETE', 'A_APPROVED_XX_40000_XX_O_ACCEPTED_XX_COMPLETE', 'A_ACTIVATED_XX_40000_XX_A_APPROVED_XX_COMPLETE', 'A_CANCELLED_XX_50000_XX_W_Valideren aanvraag_XX_START', 'W_Completeren aanvraag_XX_20000_XX_W_Beoordelen fraude_XX_COMPLETE', 'W_Afhandelen leads_XX_0_XX_W_Beoordelen fraude_XX_START', 'W_Beoordelen fraude_XX_0_XX_W_Afhandelen leads_XX_SCHEDULE', 'W_Afhandelen leads_XX_0_XX_W_Beoordelen fraude_XX_COMPLETE', 'W_Beoordelen fraude_XX_0_XX_W_Afhandelen leads_XX_START', 'O_CANCELLED_XX_40000_XX_W_Nabellen incomplete dossiers_XX_START', 'W_Wijzigen contractgegevens_XX_30000_XX_W_Nabellen offertes_XX_COMPLETE', 'W_Valideren aanvraag_XX_30000_XX_W_Wijzigen contractgegevens_XX_SCHEDULE', 'W_Afhandelen leads_XX_0_XX_W_Beoordelen fraude_XX_SCHEDULE', 'W_Beoordelen fraude_XX_0_XX_W_Afhandelen leads_XX_COMPLETE', 'O_DECLINED_XX_20000_XX_W_Nabellen offertes_XX_START', 'A_APPROVED_XX_30000_XX_O_ACCEPTED_XX_COMPLETE', 'W_Wijzigen contractgegevens_XX_10000_XX_W_Nabellen offertes_XX_COMPLETE', 'O_SENT_BACK_XX_10000_XX_W_Nabellen incomplete dossiers_XX_START', 'O_DECLINED_XX_40000_XX_W_Nabellen incomplete dossiers_XX_START', 'O_DECLINED_XX_50000_XX_W_Valideren aanvraag_XX_START', 'A_DECLINED_XX_50000_XX_O_DECLINED_XX_COMPLETE', 'A_REGISTERED_XX_0_XX_W_Valideren aanvraag_XX_START', 'A_REGISTERED_XX_40000_XX_A_APPROVED_XX_COMPLETE', 'A_ACTIVATED_XX_40000_XX_A_REGISTERED_XX_COMPLETE', 'A_CANCELLED_XX_0_XX_A_ACCEPTED_XX_COMPLETE', 'W_Completeren aanvraag_XX_80000_XX_W_Nabellen offertes_XX_SCHEDULE', 'W_Nabellen offertes_XX_80000_XX_W_Completeren aanvraag_XX_COMPLETE', 'O_CANCELLED_XX_80000_XX_W_Nabellen offertes_XX_START', 'A_CANCELLED_XX_80000_XX_O_CANCELLED_XX_COMPLETE', 'A_CANCELLED_XX_10000_XX_W_Nabellen incomplete dossiers_XX_START', 'O_SENT_BACK_XX_40000_XX_W_Nabellen incomplete dossiers_XX_START', 'W_Wijzigen contractgegevens_XX_10000_XX_W_Wijzigen contractgegevens_XX_SCHEDULE', 'O_ACCEPTED_XX_50000_XX_W_Valideren aanvraag_XX_START', 'A_ACTIVATED_XX_50000_XX_A_APPROVED_XX_COMPLETE', 'W_Nabellen offertes_XX_10000_XX_W_Wijzigen contractgegevens_XX_SCHEDULE', 'A_REGISTERED_XX_30000_XX_W_Valideren aanvraag_XX_START', 'O_ACCEPTED_XX_30000_XX_A_ACTIVATED_XX_COMPLETE', 'W_Beoordelen fraude_XX_0_XX_W_Valideren aanvraag_XX_START', 'W_Valideren aanvraag_XX_0_XX_W_Beoordelen fraude_XX_SCHEDULE', 'W_Beoordelen fraude_XX_0_XX_W_Valideren aanvraag_XX_COMPLETE', 'O_CANCELLED_XX_40000_XX_W_Valideren aanvraag_XX_START', 'A_ACTIVATED_XX_40000_XX_W_Nabellen incomplete dossiers_XX_START', 'O_ACCEPTED_XX_40000_XX_A_ACTIVATED_XX_COMPLETE', 'A_REGISTERED_XX_40000_XX_O_ACCEPTED_XX_COMPLETE', 'A_APPROVED_XX_50000_XX_W_Valideren aanvraag_XX_START', 'O_ACCEPTED_XX_50000_XX_A_ACTIVATED_XX_COMPLETE', 'A_REGISTERED_XX_50000_XX_O_ACCEPTED_XX_COMPLETE', 'A_ACTIVATED_XX_40000_XX_W_Valideren aanvraag_XX_START', 'A_APPROVED_XX_40000_XX_A_ACTIVATED_XX_COMPLETE', 'O_ACCEPTED_XX_40000_XX_A_APPROVED_XX_COMPLETE', 'A_DECLINED_XX_30000_XX_W_Valideren aanvraag_XX_START', 'O_DECLINED_XX_30000_XX_A_DECLINED_XX_COMPLETE', 'W_Valideren aanvraag_XX_0_XX_W_Beoordelen fraude_XX_COMPLETE', 'W_Valideren aanvraag_XX_0_XX_W_Valideren aanvraag_XX_SCHEDULE', 'O_DECLINED_XX_10000_XX_W_Nabellen offertes_XX_START', 'A_REGISTERED_XX_20000_XX_W_Nabellen incomplete dossiers_XX_COMPLETE', 'W_Nabellen incomplete dossiers_XX_20000_XX_A_APPROVED_XX_COMPLETE', 'O_ACCEPTED_XX_50000_XX_A_APPROVED_XX_COMPLETE', 'A_ACTIVATED_XX_50000_XX_O_ACCEPTED_XX_COMPLETE', 'O_CANCELLED_XX_50000_XX_W_Nabellen incomplete dossiers_XX_START', 'W_Nabellen incomplete dossiers_XX_50000_XX_O_SENT_XX_COMPLETE', 'W_Nabellen incomplete dossiers_XX_50000_XX_W_Nabellen incomplete dossiers_XX_SCHEDULE', 'A_CANCELLED_XX_30000_XX_A_ACCEPTED_XX_COMPLETE', 'A_DECLINED_XX_20000_XX_W_Nabellen incomplete dossiers_XX_START', 'A_CANCELLED_XX_20000_XX_W_Nabellen incomplete dossiers_XX_START', 'A_CANCELLED_XX_40000_XX_O_CANCELLED_XX_COMPLETE', 'O_DECLINED_XX_30000_XX_W_Valideren aanvraag_XX_START', 'A_DECLINED_XX_30000_XX_O_DECLINED_XX_COMPLETE', 'O_CANCELLED_XX_20000_XX_W_Valideren aanvraag_XX_START', 'A_APPROVED_XX_20000_XX_W_Nabellen incomplete dossiers_XX_START', 'A_REGISTERED_XX_30000_XX_A_APPROVED_XX_COMPLETE', 'O_SELECTED_XX_30000_XX_W_Valideren aanvraag_XX_START', 'A_CANCELLED_XX_20000_XX_W_Nabellen offertes_XX_COMPLETE', 'A_CANCELLED_XX_50000_XX_W_Nabellen offertes_XX_COMPLETE', 'O_CANCELLED_XX_20000_XX_W_Nabellen offertes_XX_COMPLETE', 'A_CANCELLED_XX_30000_XX_W_Nabellen incomplete dossiers_XX_START', 'A_CANCELLED_XX_40000_XX_W_Nabellen offertes_XX_COMPLETE', 'O_CANCELLED_XX_10000_XX_W_Nabellen offertes_XX_COMPLETE', 'O_CANCELLED_XX_30000_XX_W_Nabellen offertes_XX_COMPLETE', 'A_ACTIVATED_XX_10000_XX_W_Nabellen incomplete dossiers_XX_START', 'O_SENT_BACK_XX_50000_XX_W_Nabellen incomplete dossiers_XX_START', 'A_REGISTERED_XX_50000_XX_A_APPROVED_XX_COMPLETE', 'A_APPROVED_XX_30000_XX_W_Nabellen incomplete dossiers_XX_START', 'A_APPROVED_XX_10000_XX_W_Nabellen incomplete dossiers_XX_COMPLETE', 'A_APPROVED_XX_40000_XX_W_Valideren aanvraag_XX_START', 'A_SUBMITTED_XX_90000_XX_None_XX_None', 'A_PARTLYSUBMITTED_XX_90000_XX_A_SUBMITTED_XX_COMPLETE', 'O_SELECTED_XX_20000_XX_W_Completeren aanvraag_XX_START', 'W_Afhandelen leads_XX_90000_XX_A_PARTLYSUBMITTED_XX_COMPLETE', 'W_Afhandelen leads_XX_90000_XX_W_Afhandelen leads_XX_SCHEDULE', 'A_DECLINED_XX_90000_XX_W_Afhandelen leads_XX_START', 'O_SELECTED_XX_0_XX_W_Completeren aanvraag_XX_START', 'O_SELECTED_XX_30000_XX_W_Nabellen incomplete dossiers_XX_START', 'A_CANCELLED_XX_0_XX_W_Completeren aanvraag_XX_COMPLETE', 'A_CANCELLED_XX_30000_XX_W_Nabellen offertes_XX_COMPLETE', 'W_Nabellen offertes_XX_30000_XX_O_CANCELLED_XX_COMPLETE', 'W_Valideren aanvraag_XX_0_XX_W_Beoordelen fraude_XX_START', 'W_Beoordelen fraude_XX_0_XX_W_Valideren aanvraag_XX_SCHEDULE', 'A_FINALIZED_XX_10000_XX_W_Completeren aanvraag_XX_START', 'A_APPROVED_XX_50000_XX_A_ACTIVATED_XX_COMPLETE', 'W_Beoordelen fraude_XX_20000_XX_W_Valideren aanvraag_XX_START', 'W_Valideren aanvraag_XX_20000_XX_W_Beoordelen fraude_XX_SCHEDULE', 'W_Beoordelen fraude_XX_20000_XX_W_Valideren aanvraag_XX_COMPLETE', 'W_Valideren aanvraag_XX_20000_XX_W_Beoordelen fraude_XX_START', 'W_Beoordelen fraude_XX_20000_XX_W_Valideren aanvraag_XX_SCHEDULE', 'W_Valideren aanvraag_XX_20000_XX_W_Beoordelen fraude_XX_COMPLETE', 'A_PREACCEPTED_XX_90000_XX_A_PARTLYSUBMITTED_XX_COMPLETE', 'A_ACTIVATED_XX_20000_XX_W_Valideren aanvraag_XX_COMPLETE', 'W_Completeren aanvraag_XX_90000_XX_A_PREACCEPTED_XX_COMPLETE', 'W_Completeren aanvraag_XX_90000_XX_W_Completeren aanvraag_XX_SCHEDULE', 'A_CANCELLED_XX_0_XX_W_Nabellen incomplete dossiers_XX_START', 'W_Completeren aanvraag_XX_90000_XX_W_Completeren aanvraag_XX_START', 'W_Completeren aanvraag_XX_90000_XX_W_Completeren aanvraag_XX_COMPLETE', 'A_CANCELLED_XX_90000_XX_W_Completeren aanvraag_XX_START', 'A_CANCELLED_XX_10000_XX_W_Nabellen incomplete dossiers_XX_COMPLETE', 'A_DECLINED_XX_0_XX_W_Nabellen incomplete dossiers_XX_START', 'W_Afhandelen leads_XX_80000_XX_A_PARTLYSUBMITTED_XX_COMPLETE', 'W_Afhandelen leads_XX_80000_XX_W_Afhandelen leads_XX_SCHEDULE', 'A_DECLINED_XX_80000_XX_W_Afhandelen leads_XX_START', 'W_Beoordelen fraude_XX_20000_XX_W_Afhandelen leads_XX_START', 'A_CANCELLED_XX_10000_XX_W_Valideren aanvraag_XX_COMPLETE', 'A_CANCELLED_XX_40000_XX_W_Completeren aanvraag_XX_COMPLETE', 'O_CANCELLED_XX_50000_XX_W_Nabellen offertes_XX_COMPLETE', 'O_CANCELLED_XX_0_XX_W_Nabellen offertes_XX_COMPLETE', 'W_Nabellen offertes_XX_10000_XX_A_CANCELLED_XX_COMPLETE', 'O_SELECTED_XX_40000_XX_W_Valideren aanvraag_XX_START', 'O_CANCELLED_XX_50000_XX_W_Valideren aanvraag_XX_START', 'O_ACCEPTED_XX_40000_XX_W_Nabellen incomplete dossiers_XX_START', 'A_CANCELLED_XX_30000_XX_W_Valideren aanvraag_XX_START', 'O_DECLINED_XX_20000_XX_W_Nabellen incomplete dossiers_XX_START', 'A_CANCELLED_XX_10000_XX_W_Completeren aanvraag_XX_COMPLETE', 'A_CANCELLED_XX_20000_XX_W_Completeren aanvraag_XX_COMPLETE', 'O_CANCELLED_XX_30000_XX_W_Valideren aanvraag_XX_START', 'O_ACCEPTED_XX_30000_XX_A_REGISTERED_XX_COMPLETE', 'A_APPROVED_XX_10000_XX_W_Nabellen incomplete dossiers_XX_START', 'W_Nabellen offertes_XX_40000_XX_A_CANCELLED_XX_COMPLETE', 'W_Completeren aanvraag_XX_10000_XX_A_CANCELLED_XX_COMPLETE', 'O_SELECTED_XX_100000_XX_A_ACCEPTED_XX_COMPLETE', 'A_FINALIZED_XX_100000_XX_O_SELECTED_XX_COMPLETE', 'O_CREATED_XX_100000_XX_A_FINALIZED_XX_COMPLETE', 'A_DECLINED_XX_50000_XX_W_Nabellen incomplete dossiers_XX_START', 'W_Afhandelen leads_XX_20000_XX_W_Beoordelen fraude_XX_SCHEDULE', 'W_Beoordelen fraude_XX_20000_XX_W_Afhandelen leads_XX_COMPLETE', 'A_ACCEPTED_XX_70000_XX_W_Completeren aanvraag_XX_START', 'O_SELECTED_XX_70000_XX_A_ACCEPTED_XX_COMPLETE', 'A_FINALIZED_XX_70000_XX_O_SELECTED_XX_COMPLETE', 'O_CREATED_XX_70000_XX_A_FINALIZED_XX_COMPLETE', 'O_SENT_XX_70000_XX_O_CREATED_XX_COMPLETE', 'W_Nabellen offertes_XX_70000_XX_O_SENT_XX_COMPLETE', 'O_CANCELLED_XX_40000_XX_W_Nabellen offertes_XX_COMPLETE', 'A_ACTIVATED_XX_50000_XX_A_REGISTERED_XX_COMPLETE', 'A_CANCELLED_XX_0_XX_W_Nabellen incomplete dossiers_XX_COMPLETE', 'A_PREACCEPTED_XX_80000_XX_W_Afhandelen leads_XX_START', 'W_Afhandelen leads_XX_80000_XX_W_Completeren aanvraag_XX_SCHEDULE', 'W_Completeren aanvraag_XX_80000_XX_W_Afhandelen leads_XX_COMPLETE', 'A_ACCEPTED_XX_60000_XX_W_Completeren aanvraag_XX_START', 'A_FINALIZED_XX_60000_XX_A_ACCEPTED_XX_COMPLETE', 'O_SELECTED_XX_60000_XX_A_FINALIZED_XX_COMPLETE', 'O_CREATED_XX_60000_XX_O_SELECTED_XX_COMPLETE', 'O_SENT_XX_60000_XX_O_CREATED_XX_COMPLETE', 'W_Nabellen offertes_XX_60000_XX_O_SENT_XX_COMPLETE', 'A_REGISTERED_XX_50000_XX_W_Valideren aanvraag_XX_START', 'A_APPROVED_XX_50000_XX_A_REGISTERED_XX_COMPLETE', 'O_SELECTED_XX_60000_XX_A_ACCEPTED_XX_COMPLETE', 'A_FINALIZED_XX_60000_XX_O_SELECTED_XX_COMPLETE', 'O_CREATED_XX_60000_XX_A_FINALIZED_XX_COMPLETE', 'W_Completeren aanvraag_XX_80000_XX_W_Completeren aanvraag_XX_START', 'W_Completeren aanvraag_XX_80000_XX_W_Completeren aanvraag_XX_COMPLETE', 'W_Wijzigen contractgegevens_XX_20000_XX_W_Valideren aanvraag_XX_COMPLETE', 'W_Wijzigen contractgegevens_XX_20000_XX_W_Wijzigen contractgegevens_XX_SCHEDULE', 'W_Valideren aanvraag_XX_20000_XX_W_Wijzigen contractgegevens_XX_SCHEDULE', 'W_Beoordelen fraude_XX_50000_XX_A_PARTLYSUBMITTED_XX_COMPLETE', 'W_Beoordelen fraude_XX_50000_XX_W_Beoordelen fraude_XX_SCHEDULE', 'O_SELECTED_XX_100000_XX_W_Nabellen offertes_XX_START', 'O_CANCELLED_XX_100000_XX_O_SELECTED_XX_COMPLETE', 'O_CREATED_XX_100000_XX_O_CANCELLED_XX_COMPLETE', 'W_Completeren aanvraag_XX_70000_XX_W_Nabellen offertes_XX_SCHEDULE', 'W_Nabellen offertes_XX_70000_XX_W_Completeren aanvraag_XX_COMPLETE', 'A_DECLINED_XX_30000_XX_W_Nabellen offertes_XX_START', 'A_PREACCEPTED_XX_70000_XX_A_PARTLYSUBMITTED_XX_COMPLETE', 'A_CANCELLED_XX_80000_XX_W_Completeren aanvraag_XX_START', 'W_Completeren aanvraag_XX_70000_XX_W_Completeren aanvraag_XX_SCHEDULE', 'A_CANCELLED_XX_40000_XX_W_Nabellen incomplete dossiers_XX_START', 'A_ACTIVATED_XX_20000_XX_W_Nabellen incomplete dossiers_XX_START', 'W_Nabellen offertes_XX_70000_XX_W_Nabellen offertes_XX_START', 'W_Nabellen offertes_XX_70000_XX_W_Nabellen offertes_XX_COMPLETE', 'O_CANCELLED_XX_70000_XX_W_Nabellen offertes_XX_START', 'A_CANCELLED_XX_70000_XX_O_CANCELLED_XX_COMPLETE', 'A_REGISTERED_XX_20000_XX_W_Nabellen incomplete dossiers_XX_START', 'W_Beoordelen fraude_XX_50000_XX_W_Beoordelen fraude_XX_START', 'W_Beoordelen fraude_XX_50000_XX_W_Beoordelen fraude_XX_COMPLETE', 'A_DECLINED_XX_50000_XX_W_Beoordelen fraude_XX_START', 'O_DECLINED_XX_50000_XX_W_Nabellen incomplete dossiers_XX_START', 'A_DECLINED_XX_80000_XX_W_Completeren aanvraag_XX_START', 'W_Completeren aanvraag_XX_60000_XX_W_Nabellen offertes_XX_SCHEDULE', 'W_Nabellen offertes_XX_60000_XX_W_Completeren aanvraag_XX_COMPLETE', 'A_ACTIVATED_XX_0_XX_W_Nabellen incomplete dossiers_XX_START', 'A_FINALIZED_XX_0_XX_W_Completeren aanvraag_XX_START', 'W_Beoordelen fraude_XX_30000_XX_A_PARTLYSUBMITTED_XX_COMPLETE', 'W_Beoordelen fraude_XX_30000_XX_W_Beoordelen fraude_XX_SCHEDULE', 'W_Beoordelen fraude_XX_30000_XX_W_Beoordelen fraude_XX_START', 'W_Beoordelen fraude_XX_30000_XX_W_Beoordelen fraude_XX_COMPLETE', 'W_Nabellen offertes_XX_60000_XX_W_Nabellen offertes_XX_START', 'W_Nabellen offertes_XX_60000_XX_W_Nabellen offertes_XX_COMPLETE', 'A_DECLINED_XX_30000_XX_W_Beoordelen fraude_XX_START', 'O_DECLINED_XX_0_XX_W_Nabellen incomplete dossiers_XX_START', 'A_DECLINED_XX_20000_XX_W_Nabellen offertes_XX_START', 'O_SENT_BACK_XX_60000_XX_W_Nabellen offertes_XX_START', 'W_Valideren aanvraag_XX_60000_XX_O_SENT_BACK_XX_COMPLETE', 'O_SELECTED_XX_50000_XX_W_Nabellen incomplete dossiers_XX_START', 'A_DECLINED_XX_10000_XX_W_Nabellen offertes_XX_START', 'W_Nabellen offertes_XX_60000_XX_W_Valideren aanvraag_XX_SCHEDULE', 'W_Valideren aanvraag_XX_60000_XX_W_Nabellen offertes_XX_COMPLETE', 'W_Nabellen incomplete dossiers_XX_60000_XX_W_Valideren aanvraag_XX_START', 'W_Valideren aanvraag_XX_60000_XX_W_Nabellen incomplete dossiers_XX_SCHEDULE', 'W_Nabellen incomplete dossiers_XX_60000_XX_W_Valideren aanvraag_XX_COMPLETE', 'W_Nabellen incomplete dossiers_XX_60000_XX_W_Nabellen incomplete dossiers_XX_START', 'W_Nabellen incomplete dossiers_XX_60000_XX_W_Nabellen incomplete dossiers_XX_COMPLETE', 'W_Valideren aanvraag_XX_60000_XX_W_Nabellen incomplete dossiers_XX_START', 'W_Nabellen incomplete dossiers_XX_60000_XX_W_Valideren aanvraag_XX_SCHEDULE', 'W_Valideren aanvraag_XX_60000_XX_W_Nabellen incomplete dossiers_XX_COMPLETE', 'W_Valideren aanvraag_XX_60000_XX_W_Valideren aanvraag_XX_START', 'W_Valideren aanvraag_XX_60000_XX_W_Valideren aanvraag_XX_COMPLETE', 'A_APPROVED_XX_60000_XX_W_Valideren aanvraag_XX_START', 'O_ACCEPTED_XX_60000_XX_A_APPROVED_XX_COMPLETE', 'A_REGISTERED_XX_60000_XX_O_ACCEPTED_XX_COMPLETE', 'A_ACTIVATED_XX_60000_XX_A_REGISTERED_XX_COMPLETE', 'O_SENT_BACK_XX_70000_XX_W_Nabellen offertes_XX_START', 'W_Valideren aanvraag_XX_70000_XX_O_SENT_BACK_XX_COMPLETE', 'O_CANCELLED_XX_60000_XX_W_Nabellen offertes_XX_START', 'O_SELECTED_XX_60000_XX_O_CANCELLED_XX_COMPLETE', 'W_Nabellen offertes_XX_60000_XX_W_Nabellen offertes_XX_SCHEDULE', 'W_Nabellen offertes_XX_70000_XX_W_Valideren aanvraag_XX_SCHEDULE', 'W_Valideren aanvraag_XX_70000_XX_W_Nabellen offertes_XX_COMPLETE', 'A_DECLINED_XX_70000_XX_W_Valideren aanvraag_XX_START', 'O_DECLINED_XX_70000_XX_A_DECLINED_XX_COMPLETE', 'A_CANCELLED_XX_10000_XX_W_Valideren aanvraag_XX_START', 'O_DECLINED_XX_40000_XX_W_Nabellen offertes_XX_START', 'O_SENT_BACK_XX_100000_XX_W_Nabellen offertes_XX_START', 'W_Valideren aanvraag_XX_100000_XX_O_SENT_BACK_XX_COMPLETE', 'O_DECLINED_XX_50000_XX_W_Nabellen offertes_XX_START', 'W_Valideren aanvraag_XX_10000_XX_A_ACTIVATED_XX_COMPLETE', 'W_Wijzigen contractgegevens_XX_10000_XX_W_Valideren aanvraag_XX_COMPLETE', 'O_CANCELLED_XX_60000_XX_W_Nabellen offertes_XX_COMPLETE', 'W_Afhandelen leads_XX_40000_XX_W_Beoordelen fraude_XX_START', 'W_Beoordelen fraude_XX_40000_XX_W_Afhandelen leads_XX_SCHEDULE', 'W_Afhandelen leads_XX_40000_XX_W_Beoordelen fraude_XX_COMPLETE', 'W_Beoordelen fraude_XX_40000_XX_W_Afhandelen leads_XX_START', 'W_Afhandelen leads_XX_20000_XX_W_Beoordelen fraude_XX_COMPLETE', 'W_Nabellen offertes_XX_10000_XX_W_Valideren aanvraag_XX_COMPLETE', 'A_DECLINED_XX_100000_XX_A_ACCEPTED_XX_COMPLETE', 'W_Nabellen offertes_XX_100000_XX_W_Valideren aanvraag_XX_SCHEDULE', 'W_Valideren aanvraag_XX_100000_XX_W_Nabellen offertes_XX_COMPLETE', 'A_ACTIVATED_XX_100000_XX_W_Valideren aanvraag_XX_START', 'A_REGISTERED_XX_100000_XX_A_ACTIVATED_XX_COMPLETE', 'A_APPROVED_XX_100000_XX_A_REGISTERED_XX_COMPLETE', 'O_ACCEPTED_XX_100000_XX_A_APPROVED_XX_COMPLETE', 'O_DECLINED_XX_30000_XX_W_Nabellen offertes_XX_START', 'O_CANCELLED_XX_60000_XX_W_Valideren aanvraag_XX_START', 'W_Nabellen incomplete dossiers_XX_60000_XX_O_SENT_XX_COMPLETE', 'A_APPROVED_XX_60000_XX_W_Nabellen incomplete dossiers_XX_START', 'W_Afhandelen leads_XX_20000_XX_W_Beoordelen fraude_XX_START', 'W_Beoordelen fraude_XX_20000_XX_W_Afhandelen leads_XX_SCHEDULE', 'W_Afhandelen leads_XX_40000_XX_W_Beoordelen fraude_XX_SCHEDULE', 'W_Beoordelen fraude_XX_40000_XX_W_Afhandelen leads_XX_COMPLETE', 'W_Completeren aanvraag_XX_40000_XX_A_ACCEPTED_XX_COMPLETE', 'A_FINALIZED_XX_40000_XX_W_Completeren aanvraag_XX_START', 'W_Afhandelen leads_XX_30000_XX_W_Beoordelen fraude_XX_START', 'W_Beoordelen fraude_XX_30000_XX_W_Afhandelen leads_XX_SCHEDULE', 'W_Afhandelen leads_XX_30000_XX_W_Beoordelen fraude_XX_COMPLETE', 'W_Beoordelen fraude_XX_30000_XX_W_Afhandelen leads_XX_START', 'W_Afhandelen leads_XX_30000_XX_W_Beoordelen fraude_XX_SCHEDULE', 'W_Beoordelen fraude_XX_30000_XX_W_Afhandelen leads_XX_COMPLETE', 'A_ACTIVATED_XX_30000_XX_W_Nabellen incomplete dossiers_XX_START', 'W_Completeren aanvraag_XX_30000_XX_A_ACCEPTED_XX_COMPLETE', 'W_Beoordelen fraude_XX_10000_XX_W_Completeren aanvraag_XX_START', 'W_Completeren aanvraag_XX_10000_XX_W_Beoordelen fraude_XX_SCHEDULE', 'W_Beoordelen fraude_XX_10000_XX_W_Completeren aanvraag_XX_COMPLETE', 'W_Completeren aanvraag_XX_10000_XX_W_Beoordelen fraude_XX_START', 'W_Beoordelen fraude_XX_10000_XX_W_Completeren aanvraag_XX_SCHEDULE', 'W_Completeren aanvraag_XX_10000_XX_W_Beoordelen fraude_XX_COMPLETE', 'A_CANCELLED_XX_50000_XX_W_Nabellen incomplete dossiers_XX_START', 'A_DECLINED_XX_30000_XX_W_Nabellen incomplete dossiers_XX_START', 'W_Beoordelen fraude_XX_30000_XX_W_Valideren aanvraag_XX_START', 'W_Valideren aanvraag_XX_30000_XX_W_Beoordelen fraude_XX_SCHEDULE', 'W_Beoordelen fraude_XX_30000_XX_W_Valideren aanvraag_XX_COMPLETE', 'W_Valideren aanvraag_XX_30000_XX_W_Beoordelen fraude_XX_COMPLETE', 'W_Valideren aanvraag_XX_30000_XX_W_Valideren aanvraag_XX_SCHEDULE', 'W_Beoordelen fraude_XX_80000_XX_A_PARTLYSUBMITTED_XX_COMPLETE', 'W_Beoordelen fraude_XX_80000_XX_W_Beoordelen fraude_XX_SCHEDULE', 'W_Beoordelen fraude_XX_80000_XX_W_Beoordelen fraude_XX_START', 'W_Beoordelen fraude_XX_80000_XX_W_Beoordelen fraude_XX_COMPLETE', 'W_Afhandelen leads_XX_80000_XX_W_Beoordelen fraude_XX_START', 'W_Beoordelen fraude_XX_80000_XX_W_Afhandelen leads_XX_SCHEDULE', 'W_Afhandelen leads_XX_80000_XX_W_Beoordelen fraude_XX_COMPLETE', 'W_Beoordelen fraude_XX_80000_XX_W_Afhandelen leads_XX_START', 'O_SELECTED_XX_50000_XX_W_Valideren aanvraag_XX_START', 'A_CANCELLED_XX_50000_XX_A_ACCEPTED_XX_COMPLETE', 'W_Afhandelen leads_XX_80000_XX_W_Beoordelen fraude_XX_SCHEDULE', 'W_Beoordelen fraude_XX_80000_XX_W_Afhandelen leads_XX_COMPLETE', 'W_Nabellen incomplete dossiers_XX_20000_XX_A_ACTIVATED_XX_COMPLETE', 'W_Afhandelen leads_XX_80000_XX_W_Afhandelen leads_XX_START', 'W_Afhandelen leads_XX_80000_XX_W_Afhandelen leads_XX_COMPLETE', 'A_CANCELLED_XX_80000_XX_A_ACCEPTED_XX_COMPLETE', 'W_Completeren aanvraag_XX_10000_XX_W_Nabellen offertes_XX_COMPLETE', 'W_Nabellen offertes_XX_20000_XX_A_FINALIZED_XX_COMPLETE', 'O_CREATED_XX_20000_XX_W_Nabellen offertes_XX_SCHEDULE', 'W_Completeren aanvraag_XX_20000_XX_O_SENT_XX_COMPLETE', 'W_Afhandelen leads_XX_90000_XX_W_Afhandelen leads_XX_START', 'W_Afhandelen leads_XX_90000_XX_W_Afhandelen leads_XX_COMPLETE', 'A_PREACCEPTED_XX_90000_XX_W_Afhandelen leads_XX_START', 'W_Afhandelen leads_XX_90000_XX_W_Completeren aanvraag_XX_SCHEDULE', 'W_Completeren aanvraag_XX_90000_XX_W_Afhandelen leads_XX_COMPLETE', 'W_Completeren aanvraag_XX_50000_XX_A_ACCEPTED_XX_COMPLETE', 'O_SELECTED_XX_50000_XX_W_Completeren aanvraag_XX_START', 'A_DECLINED_XX_90000_XX_W_Completeren aanvraag_XX_START', 'W_Valideren aanvraag_XX_20000_XX_W_Valideren aanvraag_XX_SCHEDULE', 'W_Valideren aanvraag_XX_30000_XX_W_Beoordelen fraude_XX_START', 'W_Beoordelen fraude_XX_30000_XX_W_Valideren aanvraag_XX_SCHEDULE', 'A_ACCEPTED_XX_10000_XX_W_Completeren aanvraag_XX_COMPLETE', 'W_Valideren aanvraag_XX_20000_XX_A_ACTIVATED_XX_COMPLETE', 'A_CANCELLED_XX_60000_XX_O_CANCELLED_XX_COMPLETE', 'A_CANCELLED_XX_70000_XX_W_Completeren aanvraag_XX_START', 'A_CANCELLED_XX_40000_XX_A_ACCEPTED_XX_COMPLETE', 'A_CANCELLED_XX_30000_XX_W_Completeren aanvraag_XX_COMPLETE', 'W_Nabellen offertes_XX_20000_XX_O_CANCELLED_XX_COMPLETE', 'A_CANCELLED_XX_60000_XX_W_Completeren aanvraag_XX_COMPLETE', 'A_APPROVED_XX_0_XX_W_Nabellen incomplete dossiers_XX_START', 'W_Valideren aanvraag_XX_20000_XX_A_APPROVED_XX_COMPLETE', 'O_SELECTED_XX_30000_XX_W_Completeren aanvraag_XX_START', 'W_Completeren aanvraag_XX_80000_XX_A_ACCEPTED_XX_COMPLETE', 'A_DECLINED_XX_50000_XX_A_ACCEPTED_XX_COMPLETE', 'A_REGISTERED_XX_30000_XX_W_Nabellen incomplete dossiers_XX_START', 'W_Nabellen offertes_XX_20000_XX_A_CANCELLED_XX_COMPLETE', 'O_ACCEPTED_XX_50000_XX_W_Nabellen incomplete dossiers_XX_START', 'O_CANCELLED_XX_30000_XX_W_Nabellen incomplete dossiers_XX_COMPLETE', 'A_CANCELLED_XX_0_XX_W_Valideren aanvraag_XX_START', 'O_CANCELLED_XX_50000_XX_W_Nabellen incomplete dossiers_XX_COMPLETE', 'W_Completeren aanvraag_XX_20000_XX_W_Nabellen offertes_XX_COMPLETE', 'W_Beoordelen fraude_XX_40000_XX_W_Valideren aanvraag_XX_START', 'W_Valideren aanvraag_XX_40000_XX_W_Beoordelen fraude_XX_SCHEDULE', 'W_Beoordelen fraude_XX_40000_XX_W_Valideren aanvraag_XX_COMPLETE', 'W_Valideren aanvraag_XX_40000_XX_W_Beoordelen fraude_XX_START', 'W_Beoordelen fraude_XX_40000_XX_W_Valideren aanvraag_XX_SCHEDULE', 'W_Valideren aanvraag_XX_40000_XX_W_Beoordelen fraude_XX_COMPLETE', 'A_APPROVED_XX_40000_XX_W_Nabellen incomplete dossiers_XX_START', 'O_DECLINED_XX_60000_XX_W_Valideren aanvraag_XX_START', 'A_DECLINED_XX_60000_XX_O_DECLINED_XX_COMPLETE', 'W_Valideren aanvraag_XX_10000_XX_A_APPROVED_XX_COMPLETE', 'O_CANCELLED_XX_60000_XX_W_Nabellen incomplete dossiers_XX_START', 'W_Nabellen incomplete dossiers_XX_60000_XX_W_Nabellen incomplete dossiers_XX_SCHEDULE', 'A_CANCELLED_XX_40000_XX_W_Valideren aanvraag_XX_START', 'W_Valideren aanvraag_XX_100000_XX_W_Valideren aanvraag_XX_START', 'W_Valideren aanvraag_XX_100000_XX_W_Valideren aanvraag_XX_COMPLETE', 'O_DECLINED_XX_100000_XX_W_Valideren aanvraag_XX_START', 'A_DECLINED_XX_100000_XX_O_DECLINED_XX_COMPLETE', 'W_Beoordelen fraude_XX_50000_XX_W_Valideren aanvraag_XX_START', 'W_Valideren aanvraag_XX_50000_XX_W_Beoordelen fraude_XX_SCHEDULE', 'W_Beoordelen fraude_XX_50000_XX_W_Valideren aanvraag_XX_COMPLETE', 'W_Valideren aanvraag_XX_50000_XX_W_Beoordelen fraude_XX_START', 'W_Valideren aanvraag_XX_10000_XX_A_REGISTERED_XX_COMPLETE', 'W_Beoordelen fraude_XX_50000_XX_W_Valideren aanvraag_XX_SCHEDULE', 'W_Valideren aanvraag_XX_50000_XX_W_Beoordelen fraude_XX_COMPLETE', 'W_Nabellen offertes_XX_0_XX_A_CANCELLED_XX_COMPLETE', 'O_DECLINED_XX_60000_XX_W_Nabellen incomplete dossiers_XX_START'])"
     },
     "execution_count": 175,
     "metadata": {},
     "output_type": "execute_result"
    }
   ],
   "source": [
    "predictionModel.keys()"
   ],
   "metadata": {
    "collapsed": false,
    "pycharm": {
     "name": "#%%\n"
    }
   }
  },
  {
   "cell_type": "code",
   "execution_count": 176,
   "outputs": [
    {
     "data": {
      "text/plain": "0         A_PARTLYSUBMITTED\n1                A_DECLINED\n2               A_SUBMITTED\n3         A_PARTLYSUBMITTED\n4             A_PREACCEPTED\n                ...        \n47818    W_Afhandelen leads\n47819    W_Afhandelen leads\n47820            A_DECLINED\n47821    W_Afhandelen leads\n47822                   NaN\nName: y, Length: 47823, dtype: object"
     },
     "execution_count": 176,
     "metadata": {},
     "output_type": "execute_result"
    }
   ],
   "source": [
    "dataset_test['y']"
   ],
   "metadata": {
    "collapsed": false,
    "pycharm": {
     "name": "#%%\n"
    }
   }
  },
  {
   "cell_type": "code",
   "execution_count": 177,
   "outputs": [
    {
     "name": "stdout",
     "output_type": "stream",
     "text": [
      "accuracy: 0.775066390648851\n"
     ]
    }
   ],
   "source": [
    "count=0\n",
    "for i in range(len(predictions)):\n",
    "    if predictions[i]==dataset_test['y'][i]:\n",
    "        count+=1\n",
    "print(f'accuracy: {count/len(predictions)}')\n"
   ],
   "metadata": {
    "collapsed": false,
    "pycharm": {
     "name": "#%%\n"
    }
   }
  },
  {
   "cell_type": "code",
   "execution_count": null,
   "outputs": [],
   "source": [],
   "metadata": {
    "collapsed": false,
    "pycharm": {
     "name": "#%%\n"
    }
   }
  },
  {
   "cell_type": "code",
   "execution_count": null,
   "outputs": [],
   "source": [],
   "metadata": {
    "collapsed": false,
    "pycharm": {
     "name": "#%%\n"
    }
   }
  },
  {
   "cell_type": "markdown",
   "metadata": {
    "collapsed": false,
    "pycharm": {
     "name": "#%% md\n"
    }
   },
   "source": [
    "concurent_df = pd.DataFrame.from_dict(concurentEvents, orient='index', columns=['event_id', 'concurent_events', 'timePassed','row_nr'])\n",
    "print(concurent_df.head())\n"
   ]
  },
  {
   "cell_type": "code",
   "execution_count": null,
   "metadata": {
    "collapsed": false,
    "pycharm": {
     "name": "#%%\n"
    }
   },
   "outputs": [],
   "source": [
    "### THE PREDICTION ERROR ###\n",
    "# plot different things to get more insight\n",
    "# first the difference in time passed\n",
    "# then the log of the difference in time passed\n",
    "# then the ratio between the difference in time passed and the real time passed\n",
    "\n",
    "# flatten the error dictionary to a dataframe\n",
    "error_df = pd.DataFrame.from_dict(errorStorage, orient='index', columns=['event_column', 'timestamp', 'predictionError', 'predictionErrorRatio', 'predictedTimePassed', 'timePassed'])\n",
    "error_df.loc[:,'timestamp'] = pd.to_datetime(error_df.loc[:,'timestamp'])\n",
    "error_df = error_df.sort_values(by='timestamp')\n",
    "error_df['event_column_basic'] = error_df.event_column.str.split('_XX_').str.get(0)\n",
    "\n",
    "# calculate the log of the prediction error\n",
    "error_df['log_predictionError'] = [np.log2(x) for x in error_df['predictionError']]\n",
    "\n",
    "# calculate statistics\n",
    "mae = np.mean(error_df['predictionError'])\n",
    "print('The mean absolute error on the training-set is: ' + str(round(mae, 2)) + ' minutes.')\n"
   ]
  },
  {
   "cell_type": "code",
   "execution_count": null,
   "metadata": {
    "collapsed": false,
    "pycharm": {
     "name": "#%%\n"
    }
   },
   "outputs": [],
   "source": [
    "### HISTOGRAMS ###\n",
    "\n",
    "if printPlots == True:\n",
    "    # make the prediction error plot\n",
    "    fig= px.line(error_df, x='timestamp', y='predictionError', color='event_column')\n",
    "    fig.update_layout(title='Prediction error (difference in timePassed between real timePassed an predicted timePassed) per activity')\n",
    "    fig.show()\n",
    "    if writePlots == True:\n",
    "        fig.write_html(\"images/predictionError_withboth.html\")\n",
    "\n",
    "    # make the log prediction error plot\n",
    "    fig= px.line(error_df, x='timestamp', y='log_predictionError', color='event_column')\n",
    "    fig.update_layout(title='Prediction error ratio (log of the difference in timePassed) per activity')\n",
    "    fig.show()\n",
    "    if writePlots == True:\n",
    "        fig.write_html(\"images/log_predictionError_withboth.html\")\n",
    "\n",
    "    # make the ratio prediction error plot\n",
    "    fig= px.line(error_df, x='timestamp', y='predictionErrorRatio', color='event_column')\n",
    "    fig.update_layout(title='Prediction error ratio (difference in timePassed divided by real timePassed) per activity')\n",
    "    fig.show()\n",
    "    if writePlots==True:\n",
    "        fig.write_html(\"images/predictionErrorRatio_withboth.html\")"
   ]
  },
  {
   "cell_type": "code",
   "execution_count": null,
   "metadata": {
    "collapsed": false,
    "pycharm": {
     "name": "#%%\n"
    }
   },
   "outputs": [],
   "source": [
    "### BOXPLOTS ###\n",
    "\n",
    "if printPlots == True:\n",
    "    fig = px.box(error_df, y='predictionError', color='event_column_basic')\n",
    "    fig.show()\n",
    "    if writePlots == True:\n",
    "        fig.write_html('images/box_predictionError_withboth.html')\n",
    "\n",
    "\n",
    "    fig = px.box(error_df, y='predictionErrorRatio', color='event_column_basic')\n",
    "    fig.show()\n",
    "    if writePlots == True:\n",
    "        fig.write_html('images/box_predictionErrorRatio_withboth.html')\n"
   ]
  },
  {
   "cell_type": "code",
   "execution_count": null,
   "metadata": {
    "collapsed": false,
    "pycharm": {
     "name": "#%%\n"
    }
   },
   "outputs": [],
   "source": [
    "if printPlots == True:\n",
    "    for activity in eventList:\n",
    "        fig=px.box(error_df[error_df['event_column_basic'] == activity], y='predictionError', color='event_column')\n",
    "        fig.show()\n",
    "        if writePlots == True:\n",
    "            fig.write_html('images/box_predictionError_splitForConcurentEvents.html')\n",
    "\n",
    "# there is a difference in error distribution, so it looks like it does have an effect.\n",
    "# I don't save the timePassed anywhere, so I can't check on that. But in the InfluenceOnTime file I have tested that there is indeed a\n",
    "# different distribution"
   ]
  },
  {
   "cell_type": "code",
   "execution_count": null,
   "metadata": {
    "collapsed": false,
    "pycharm": {
     "name": "#%%\n"
    }
   },
   "outputs": [],
   "source": [
    "### RUN ON THE TEST SET ###\n",
    "# You can use the model that you have created during the train, so you don't have to start with empty model\n",
    "# but you do have to start with an empty storage\n",
    "\n",
    "instanceStorage = {}\n",
    "errorStorage = {}\n",
    "\n",
    "# Start the stopwatch / counter\n",
    "start_time = time.process_time()\n",
    "\n",
    "# running the on-the-fly model for each row\n",
    "# I have tested it, ... for ... in ... does iterate over all events in order\n",
    "# so we're not using information from the future.\n",
    "[processEvent(case, event, additional, timestamp, row_nr, includeAdditional=True) for case,event,additional,timestamp,row_nr in zip(dataset_test[case_column],dataset_test[event_column], dataset_test[additionalInfo].iloc[:,0], dataset_test[timestamp_column], dataset_test[row_nr_column])]\n",
    "\n",
    "# Stop the stopwatch / counter\n",
    "end_time = time.process_time()\n",
    "\n",
    "print(\"dict: Elapsed time during the whole program on the testset in seconds:\", end_time-start_time)\n",
    "\n"
   ]
  },
  {
   "cell_type": "code",
   "execution_count": null,
   "metadata": {
    "collapsed": false,
    "pycharm": {
     "name": "#%%\n"
    }
   },
   "outputs": [],
   "source": [
    "### THE PREDICTION ERROR ###\n",
    "# plot different things to get more insight\n",
    "# first the difference in time passed\n",
    "# then the log of the difference in time passed\n",
    "# then the ratio between the difference in time passed and the real time passed\n",
    "\n",
    "# flatten the error dictionary to a dataframe\n",
    "error_df_test = pd.DataFrame.from_dict(errorStorage, orient='index', columns=['event_column', 'timestamp', 'predictionError', 'predictionErrorRatio', 'predictedTimePassed', 'timePassed'])\n",
    "error_df_test.loc[:,'timestamp'] = pd.to_datetime(error_df_test.loc[:,'timestamp'])\n",
    "error_df_test = error_df_test.sort_values(by='timestamp')\n",
    "error_df_test['event_column_basic'] = error_df_test.event_column.str.split('_XX_').str.get(0)\n",
    "\n",
    "# calculate the log of the prediction error\n",
    "error_df_test['log_predictionError'] = [np.log2(x) for x in error_df_test['predictionError']]\n",
    "\n",
    "# calculate statistics\n",
    "mae = np.mean(error_df_test['predictionError'])\n",
    "print('The mean absolute error on the test-set is: ' + str(round(mae, 2)) + ' minutes.')\n"
   ]
  },
  {
   "cell_type": "code",
   "execution_count": null,
   "metadata": {
    "collapsed": false,
    "pycharm": {
     "name": "#%%\n"
    }
   },
   "outputs": [],
   "source": [
    "### BOXPLOTS ###\n",
    "\n",
    "if printPlots == True:\n",
    "    fig = px.box(error_df_test, y='predictionError', color='event_column_basic', title='PredictionError on the test-dataset')\n",
    "    fig.show()\n",
    "    if writePlots == True:\n",
    "        fig.write_html('images/TEST_box_predictionError_withboth.html')\n",
    "\n",
    "\n",
    "    fig = px.box(error_df_test, y='predictionErrorRatio', color='event_column_basic', title='PredictionErrorRatio on the test-dataset')\n",
    "    fig.show()\n",
    "    if writePlots == True:\n",
    "        fig.write_html('images/TEST_box_predictionErrorRatio_withboth.html')"
   ]
  },
  {
   "cell_type": "code",
   "execution_count": null,
   "metadata": {
    "collapsed": false,
    "pycharm": {
     "name": "#%%\n"
    }
   },
   "outputs": [],
   "source": [
    "print(error_df_test.head(5))\n"
   ]
  },
  {
   "cell_type": "markdown",
   "metadata": {
    "collapsed": false,
    "pycharm": {
     "name": "#%% md\n"
    }
   },
   "source": [
    "# to make an accurate prediction, it is important to know how much variance there is when you only take the previous event into account.\n",
    "# because if there is still a lot of variance, you can never make an accurate prediction.\n",
    "\n",
    "activities = pd.unique(error_df['event_column_basic'])\n",
    "\n",
    "\n",
    "for activity in activities:\n",
    "\n",
    "    print(activity)\n",
    "    subset = error_df[error_df['event_column_basic'] == activity]['predictionError']\n",
    "    print(np.mean(subset))\n",
    "    print(np.std(subset))\n",
    "    print(' ')"
   ]
  },
  {
   "cell_type": "markdown",
   "metadata": {
    "collapsed": false,
    "pycharm": {
     "name": "#%% md\n"
    }
   },
   "source": [
    "concurent_df[event_column] = concurent_df.event_id.str.split('_XX_').str.get(0)\n",
    "concurent_df2 = concurent_df.dropna()\n",
    "\n",
    "for activity in pd.unique(concurent_df2[event_column]):\n",
    "\n",
    "    print(activity)\n",
    "    fig= px.box(concurent_df2[concurent_df2[event_column] == activity], y='timePassed', color='concurent_events')\n",
    "    fig.show()\n",
    "    fig.write_html(activity+'_concurentEvents.html')"
   ]
  },
  {
   "cell_type": "markdown",
   "metadata": {
    "collapsed": false,
    "pycharm": {
     "name": "#%% md\n"
    }
   },
   "source": [
    "concurent_df2.to_csv('data/concurent_df.csv')"
   ]
  }
 ],
 "metadata": {
  "kernelspec": {
   "display_name": "Python 3",
   "language": "python",
   "name": "python3"
  },
  "language_info": {
   "codemirror_mode": {
    "name": "ipython",
    "version": 3
   },
   "file_extension": ".py",
   "mimetype": "text/x-python",
   "name": "python",
   "nbconvert_exporter": "python",
   "pygments_lexer": "ipython3",
   "version": "3.9.7"
  }
 },
 "nbformat": 4,
 "nbformat_minor": 0
}