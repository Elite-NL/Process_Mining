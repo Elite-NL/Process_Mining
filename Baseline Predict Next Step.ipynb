{
 "cells": [
  {
   "cell_type": "code",
   "execution_count": 151,
   "id": "dd6b3e86",
   "metadata": {},
   "outputs": [],
   "source": [
    "# imports\n",
    "import pandas as pd\n",
    "import statistics\n",
    "import numpy as np\n",
    "from datetime import datetime\n",
    "import re\n",
    "from sklearn.metrics import accuracy_score"
   ]
  },
  {
   "cell_type": "code",
   "execution_count": 152,
   "id": "61ff5bcf",
   "metadata": {},
   "outputs": [
    {
     "data": {
      "text/plain": "     eventID   case concept:name                  case REG_DATE  \\\n0           0             173688  2011-10-01T00:38:44.546+02:00   \n1           1             173688  2011-10-01T00:38:44.546+02:00   \n2           2             173688  2011-10-01T00:38:44.546+02:00   \n3           3             173688  2011-10-01T00:38:44.546+02:00   \n4  4294967296             173691  2011-10-01T08:08:58.256+02:00   \n5  4294967297             173691  2011-10-01T08:08:58.256+02:00   \n6  4294967298             173691  2011-10-01T08:08:58.256+02:00   \n7  4294967299             173691  2011-10-01T08:08:58.256+02:00   \n8  8589934592             173694  2011-10-01T08:10:30.287+02:00   \n9  8589934593             173694  2011-10-01T08:10:30.287+02:00   \n\n   case AMOUNT_REQ      event concept:name event lifecycle:transition  \\\n0            20000             A_SUBMITTED                   COMPLETE   \n1            20000       A_PARTLYSUBMITTED                   COMPLETE   \n2            20000           A_PREACCEPTED                   COMPLETE   \n3            20000  W_Completeren aanvraag                   SCHEDULE   \n4             5000             A_SUBMITTED                   COMPLETE   \n5             5000       A_PARTLYSUBMITTED                   COMPLETE   \n6             5000           A_PREACCEPTED                   COMPLETE   \n7             5000  W_Completeren aanvraag                   SCHEDULE   \n8             7000             A_SUBMITTED                   COMPLETE   \n9             7000       A_PARTLYSUBMITTED                   COMPLETE   \n\n      event time:timestamp  \n0  01-10-2011 00:38:44.546  \n1  01-10-2011 00:38:44.880  \n2  01-10-2011 00:39:37.906  \n3  01-10-2011 00:39:38.875  \n4  01-10-2011 08:08:58.256  \n5  01-10-2011 08:09:02.195  \n6  01-10-2011 08:09:56.648  \n7  01-10-2011 08:09:59.578  \n8  01-10-2011 08:10:30.287  \n9  01-10-2011 08:10:30.591  ",
      "text/html": "<div>\n<style scoped>\n    .dataframe tbody tr th:only-of-type {\n        vertical-align: middle;\n    }\n\n    .dataframe tbody tr th {\n        vertical-align: top;\n    }\n\n    .dataframe thead th {\n        text-align: right;\n    }\n</style>\n<table border=\"1\" class=\"dataframe\">\n  <thead>\n    <tr style=\"text-align: right;\">\n      <th></th>\n      <th>eventID</th>\n      <th>case concept:name</th>\n      <th>case REG_DATE</th>\n      <th>case AMOUNT_REQ</th>\n      <th>event concept:name</th>\n      <th>event lifecycle:transition</th>\n      <th>event time:timestamp</th>\n    </tr>\n  </thead>\n  <tbody>\n    <tr>\n      <th>0</th>\n      <td>0</td>\n      <td>173688</td>\n      <td>2011-10-01T00:38:44.546+02:00</td>\n      <td>20000</td>\n      <td>A_SUBMITTED</td>\n      <td>COMPLETE</td>\n      <td>01-10-2011 00:38:44.546</td>\n    </tr>\n    <tr>\n      <th>1</th>\n      <td>1</td>\n      <td>173688</td>\n      <td>2011-10-01T00:38:44.546+02:00</td>\n      <td>20000</td>\n      <td>A_PARTLYSUBMITTED</td>\n      <td>COMPLETE</td>\n      <td>01-10-2011 00:38:44.880</td>\n    </tr>\n    <tr>\n      <th>2</th>\n      <td>2</td>\n      <td>173688</td>\n      <td>2011-10-01T00:38:44.546+02:00</td>\n      <td>20000</td>\n      <td>A_PREACCEPTED</td>\n      <td>COMPLETE</td>\n      <td>01-10-2011 00:39:37.906</td>\n    </tr>\n    <tr>\n      <th>3</th>\n      <td>3</td>\n      <td>173688</td>\n      <td>2011-10-01T00:38:44.546+02:00</td>\n      <td>20000</td>\n      <td>W_Completeren aanvraag</td>\n      <td>SCHEDULE</td>\n      <td>01-10-2011 00:39:38.875</td>\n    </tr>\n    <tr>\n      <th>4</th>\n      <td>4294967296</td>\n      <td>173691</td>\n      <td>2011-10-01T08:08:58.256+02:00</td>\n      <td>5000</td>\n      <td>A_SUBMITTED</td>\n      <td>COMPLETE</td>\n      <td>01-10-2011 08:08:58.256</td>\n    </tr>\n    <tr>\n      <th>5</th>\n      <td>4294967297</td>\n      <td>173691</td>\n      <td>2011-10-01T08:08:58.256+02:00</td>\n      <td>5000</td>\n      <td>A_PARTLYSUBMITTED</td>\n      <td>COMPLETE</td>\n      <td>01-10-2011 08:09:02.195</td>\n    </tr>\n    <tr>\n      <th>6</th>\n      <td>4294967298</td>\n      <td>173691</td>\n      <td>2011-10-01T08:08:58.256+02:00</td>\n      <td>5000</td>\n      <td>A_PREACCEPTED</td>\n      <td>COMPLETE</td>\n      <td>01-10-2011 08:09:56.648</td>\n    </tr>\n    <tr>\n      <th>7</th>\n      <td>4294967299</td>\n      <td>173691</td>\n      <td>2011-10-01T08:08:58.256+02:00</td>\n      <td>5000</td>\n      <td>W_Completeren aanvraag</td>\n      <td>SCHEDULE</td>\n      <td>01-10-2011 08:09:59.578</td>\n    </tr>\n    <tr>\n      <th>8</th>\n      <td>8589934592</td>\n      <td>173694</td>\n      <td>2011-10-01T08:10:30.287+02:00</td>\n      <td>7000</td>\n      <td>A_SUBMITTED</td>\n      <td>COMPLETE</td>\n      <td>01-10-2011 08:10:30.287</td>\n    </tr>\n    <tr>\n      <th>9</th>\n      <td>8589934593</td>\n      <td>173694</td>\n      <td>2011-10-01T08:10:30.287+02:00</td>\n      <td>7000</td>\n      <td>A_PARTLYSUBMITTED</td>\n      <td>COMPLETE</td>\n      <td>01-10-2011 08:10:30.591</td>\n    </tr>\n  </tbody>\n</table>\n</div>"
     },
     "execution_count": 152,
     "metadata": {},
     "output_type": "execute_result"
    }
   ],
   "source": [
    "# read the data (2012)\n",
    "df = pd.read_csv('data/BPI_Challenge_2012-training.csv')\n",
    "\n",
    "df_test = pd.read_csv('data/BPI_Challenge_2012-test.csv')\n",
    "\n",
    "# read the data (road traffic fines)\n",
    "# df = pd.read_csv('data/Road_Traffic_Fine_Management_Process-training.csv')\n",
    "\n",
    "# read the data (2017)\n",
    "# df = pd.read_csv('data/BPI Challenge 2017-training.csv')\n",
    "\n",
    "# read the data (2018)\n",
    "# df = pd.read_csv('data/BPI Challenge 2018-training.csv')\n",
    "\n",
    "df.head(10)"
   ]
  },
  {
   "cell_type": "code",
   "execution_count": 153,
   "id": "5985b84a",
   "metadata": {},
   "outputs": [],
   "source": [
    "# Defining database-specific variables\n",
    "case_column = \"case concept:name\"\n",
    "registration_time_column = \"case REG_DATE\"\n",
    "event_column = \"event concept:name\"\n",
    "timestamp_column = \"event time:timestamp\"\n",
    "position_column = \"Position\"\n",
    "baseline_next_event_column = \"Baseline Prediction for Next Activity\"\n",
    "pos_event_next_event_column = \"Position&Event Prediction for Next Activity\"\n",
    "baseline_next_timestamp_column = \"Baseline Prediction for Next Timestamp\"\n",
    "pos_event_next_timestamp_column = \"Position&Event Prediction for Next Timestamp\"\n",
    "time_since_registration_column = \"Time Since Registration\"\n",
    "day_of_week_column = \"day_of_week\"\n",
    "month_of_year_column = \"month_of_year\"\n",
    "offer_sent = 'O_SENT' # the name a of a sent offer state within event_column\n",
    "timeformat_registration = \"%Y-%m-%dT%H:%M:%S\" # new time format\n",
    "timeformat_timestamp = \"%d-%m-%Y %H:%M:%S.%f\"\n",
    "predicted_event_shift_column = 'Predicted event from baseline'\n",
    "predicted_time_shift_column = 'Predicted time from baseline'"
   ]
  },
  {
   "cell_type": "code",
   "execution_count": 154,
   "id": "be75b2a8",
   "metadata": {},
   "outputs": [
    {
     "name": "stdout",
     "output_type": "stream",
     "text": [
      "<class 'pandas.core.frame.DataFrame'>\n",
      "Int64Index: 214377 entries, 0 to 199657\n",
      "Data columns (total 7 columns):\n",
      " #   Column                      Non-Null Count   Dtype         \n",
      "---  ------                      --------------   -----         \n",
      " 0   eventID                     214377 non-null  int64         \n",
      " 1   case concept:name           214377 non-null  int64         \n",
      " 2   case REG_DATE               214377 non-null  datetime64[ns]\n",
      " 3   case AMOUNT_REQ             214377 non-null  int64         \n",
      " 4   event concept:name          214377 non-null  object        \n",
      " 5   event lifecycle:transition  214377 non-null  object        \n",
      " 6   event time:timestamp        214377 non-null  datetime64[ns]\n",
      "dtypes: datetime64[ns](2), int64(3), object(2)\n",
      "memory usage: 13.1+ MB\n"
     ]
    }
   ],
   "source": [
    "df[registration_time_column]= [re.sub('\\..*|\\+.*','',a,flags=re.DOTALL) for a in df[registration_time_column]]\n",
    "df[registration_time_column] = [datetime.strptime(date, timeformat_registration) for date in df[registration_time_column]]\n",
    "df[timestamp_column] = [datetime.strptime(date, timeformat_timestamp) for date in df[timestamp_column]]\n",
    "df = df.sort_values(by=[case_column, timestamp_column])  # sort values by user and time of event\n",
    "df.info()"
   ]
  },
  {
   "cell_type": "code",
   "execution_count": 155,
   "metadata": {
    "collapsed": false,
    "pycharm": {
     "name": "#%%\n"
    }
   },
   "outputs": [],
   "source": [
    "# adding the day of the week and month of the year columns\n",
    "\n",
    "df[time_since_registration_column] = df[timestamp_column] - df[registration_time_column] # Adding time since registration \n",
    "df[day_of_week_column] = df[timestamp_column].dt.day_name()\n",
    "df[month_of_year_column] = df[timestamp_column].dt.month_name()"
   ]
  },
  {
   "cell_type": "code",
   "execution_count": 156,
   "metadata": {
    "collapsed": false,
    "pycharm": {
     "name": "#%%\n"
    }
   },
   "outputs": [
    {
     "data": {
      "text/plain": "      case concept:name    event time:timestamp\n0                173688 2011-10-01 11:45:11.380\n1                173691 2011-10-01 14:35:47.583\n2                173691 2011-10-03 16:56:19.645\n3                173694 2011-10-03 13:40:15.651\n4                173694 2011-10-03 13:44:19.719\n...                 ...                     ...\n5681             206294 2012-02-06 12:43:44.029\n5682             206297 2012-02-03 16:21:35.592\n5683             206300 2012-02-03 16:20:50.869\n5684             206309 2012-02-03 16:48:07.350\n5685             206315 2012-02-04 11:26:19.372\n\n[5686 rows x 2 columns]",
      "text/html": "<div>\n<style scoped>\n    .dataframe tbody tr th:only-of-type {\n        vertical-align: middle;\n    }\n\n    .dataframe tbody tr th {\n        vertical-align: top;\n    }\n\n    .dataframe thead th {\n        text-align: right;\n    }\n</style>\n<table border=\"1\" class=\"dataframe\">\n  <thead>\n    <tr style=\"text-align: right;\">\n      <th></th>\n      <th>case concept:name</th>\n      <th>event time:timestamp</th>\n    </tr>\n  </thead>\n  <tbody>\n    <tr>\n      <th>0</th>\n      <td>173688</td>\n      <td>2011-10-01 11:45:11.380</td>\n    </tr>\n    <tr>\n      <th>1</th>\n      <td>173691</td>\n      <td>2011-10-01 14:35:47.583</td>\n    </tr>\n    <tr>\n      <th>2</th>\n      <td>173691</td>\n      <td>2011-10-03 16:56:19.645</td>\n    </tr>\n    <tr>\n      <th>3</th>\n      <td>173694</td>\n      <td>2011-10-03 13:40:15.651</td>\n    </tr>\n    <tr>\n      <th>4</th>\n      <td>173694</td>\n      <td>2011-10-03 13:44:19.719</td>\n    </tr>\n    <tr>\n      <th>...</th>\n      <td>...</td>\n      <td>...</td>\n    </tr>\n    <tr>\n      <th>5681</th>\n      <td>206294</td>\n      <td>2012-02-06 12:43:44.029</td>\n    </tr>\n    <tr>\n      <th>5682</th>\n      <td>206297</td>\n      <td>2012-02-03 16:21:35.592</td>\n    </tr>\n    <tr>\n      <th>5683</th>\n      <td>206300</td>\n      <td>2012-02-03 16:20:50.869</td>\n    </tr>\n    <tr>\n      <th>5684</th>\n      <td>206309</td>\n      <td>2012-02-03 16:48:07.350</td>\n    </tr>\n    <tr>\n      <th>5685</th>\n      <td>206315</td>\n      <td>2012-02-04 11:26:19.372</td>\n    </tr>\n  </tbody>\n</table>\n<p>5686 rows × 2 columns</p>\n</div>"
     },
     "execution_count": 156,
     "metadata": {},
     "output_type": "execute_result"
    }
   ],
   "source": [
    "# creating a dataframe containing the name and time of a case at the time offer was sent\n",
    "offer_sent_mask = df[event_column] == offer_sent\n",
    "case_check = df[offer_sent_mask][[case_column,timestamp_column]].copy().reset_index(drop=True)\n",
    "case_check"
   ]
  },
  {
   "cell_type": "code",
   "execution_count": 157,
   "outputs": [],
   "source": [
    "# add column offer sent (binary)\n",
    "df[offer_sent] = 0\n",
    "for i in range(len(case_check)):\n",
    "    case_name = case_check.iloc[i,0]\n",
    "    case_time = case_check.iloc[i,1]\n",
    "    mask = (df[case_column]==case_name)&(df[timestamp_column]>=case_time)\n",
    "    df.loc[mask, offer_sent] = 1"
   ],
   "metadata": {
    "collapsed": false,
    "pycharm": {
     "name": "#%%\n"
    }
   }
  },
  {
   "cell_type": "code",
   "execution_count": 158,
   "metadata": {
    "collapsed": false,
    "pycharm": {
     "name": "#%%\n"
    }
   },
   "outputs": [],
   "source": [
    "# We create a dictionary length_process that stores the total length of a trace indexed by the case number\n",
    "# We fill in the Position column that shows which position is a certain event in the trace (the first event is 1)\n",
    "\n",
    "df[position_column] = df.groupby([case_column]).cumcount()+1\n",
    "length_process = df.groupby([case_column]).size().to_dict()\n",
    "\n",
    "#length_process\n",
    "#df[df[case_column] == 173688]"
   ]
  },
  {
   "cell_type": "code",
   "execution_count": 159,
   "id": "e3c5bd9d",
   "metadata": {},
   "outputs": [
    {
     "name": "stdout",
     "output_type": "stream",
     "text": [
      "Mean: 20.477313974591652\n",
      "Mode: 3\n",
      "Median: 11\n",
      "Max: 175\n",
      "Min: 3\n"
     ]
    }
   ],
   "source": [
    "# here you can see different statistics about the process lenght\n",
    "print(f'Mean: {statistics.mean(length_process.values())}')\n",
    "print(f'Mode: {statistics.mode(length_process.values())}') # This line can cause a critical error if there exist multiple modes\n",
    "print(f'Median: {statistics.median(length_process.values())}')\n",
    "print(f'Max: {max(length_process.values())}') # this is df[df['case concept:name'] == 185548]\n",
    "print(f'Min: {min(length_process.values())}')"
   ]
  },
  {
   "cell_type": "code",
   "execution_count": 160,
   "id": "4ce783b4",
   "metadata": {},
   "outputs": [],
   "source": [
    "# the dictionary prediction_step stores the most common event for each position (if there are multiple modes we pick the first event that is encountered)\n",
    "# for example, the most common activity to occur in position 2 is prediction_step[1]; prediction for position n+1 is prediction_step[n]\n",
    "# If there is no next prediction after position n then prediction_step[n] == \"-\"\n",
    "\n",
    "prediction_step = {i: df[event_column][df[position_column] == i+1].mode()[0] for i in range(1, max(length_process.values()))}\n",
    "prediction_step[max(length_process.values())] = \"-\"\n",
    "\n",
    "#prediction_step"
   ]
  },
  {
   "cell_type": "code",
   "execution_count": 161,
   "id": "1354f315",
   "metadata": {},
   "outputs": [],
   "source": [
    "# We add the baseline predicted next event as a new column to the dataframe\n",
    "df[baseline_next_event_column] = [prediction_step[x] for x in df[position_column]]\n",
    "\n",
    "#df[df[case_column] == 173688]"
   ]
  },
  {
   "cell_type": "code",
   "execution_count": 162,
   "id": "cbdf94d8",
   "metadata": {},
   "outputs": [],
   "source": [
    "# We create a dictionary to store the average time duration until the next event\n",
    "# For example the average time duration between position n and n+1 is average_time_per_pos[n]\n",
    "# The dataframe must be sorted on case-number and timestamp for this calculation to work!\n",
    "# if there exists no event in the dataset of n+1 then average_time_per_pos[n] == pd.Timedelta(0)\n",
    "\n",
    "# Code Explanation: We subtract the timestamps and then shift the results up so the difference from n to n+1 is on row n.\n",
    "# Only if the position numbers are consecutive (so both events are in the same trace) should include the row in the mean() calculation.\n",
    "shifted_deltatimes = df[timestamp_column].diff().shift(periods=-1)[(df[position_column].diff()==1).shift(periods=-1, fill_value=False)]\n",
    "\n",
    "# The mean() function will return NaT if the input is empty, we replace this with pd.Timedelta(0)\n",
    "def replacenat(timedelt):\n",
    "    if (pd.isna(timedelt)):\n",
    "        return pd.Timedelta(0)\n",
    "    return timedelt\n",
    "\n",
    "# We select only the rows of a certain position i and then calculate the mean() on those timedeltas\n",
    "\n",
    "average_time_per_pos = {i: replacenat(shifted_deltatimes[df[position_column] == i].mean()) for i in range(1, max(length_process.values()) + 1)}\n",
    "\n",
    "#average_time_per_pos"
   ]
  },
  {
   "cell_type": "code",
   "execution_count": 163,
   "id": "8b99aeed",
   "metadata": {},
   "outputs": [
    {
     "data": {
      "text/plain": "              eventID   case concept:name       case REG_DATE  \\\n64935   16333760626688             185548 2011-11-15 13:42:45   \n64936   16333760626689             185548 2011-11-15 13:42:45   \n64938   16333760626690             185548 2011-11-15 13:42:45   \n64939   16333760626691             185548 2011-11-15 13:42:45   \n64989   16333760626692             185548 2011-11-15 13:42:45   \n...                ...                ...                 ...   \n165456  16333760626858             185548 2011-11-15 13:42:45   \n165539  16333760626859             185548 2011-11-15 13:42:45   \n165555  16333760626861             185548 2011-11-15 13:42:45   \n165556  16333760626860             185548 2011-11-15 13:42:45   \n165557  16333760626862             185548 2011-11-15 13:42:45   \n\n        case AMOUNT_REQ              event concept:name  \\\n64935             20000                     A_SUBMITTED   \n64936             20000               A_PARTLYSUBMITTED   \n64938             20000                   A_PREACCEPTED   \n64939             20000          W_Completeren aanvraag   \n64989             20000          W_Completeren aanvraag   \n...                 ...                             ...   \n165456            20000  W_Nabellen incomplete dossiers   \n165539            20000  W_Nabellen incomplete dossiers   \n165555            20000                     O_CANCELLED   \n165556            20000                     A_CANCELLED   \n165557            20000  W_Nabellen incomplete dossiers   \n\n       event lifecycle:transition    event time:timestamp  \\\n64935                    COMPLETE 2011-11-15 13:42:45.593   \n64936                    COMPLETE 2011-11-15 13:42:45.889   \n64938                    COMPLETE 2011-11-15 13:43:31.963   \n64939                    SCHEDULE 2011-11-15 13:43:32.557   \n64989                       START 2011-11-15 13:59:33.696   \n...                           ...                     ...   \n165456                   COMPLETE 2012-01-17 10:54:42.893   \n165539                      START 2012-01-17 11:20:51.763   \n165555                   COMPLETE 2012-01-17 11:25:56.714   \n165556                   COMPLETE 2012-01-17 11:25:56.714   \n165557                   COMPLETE 2012-01-17 11:26:00.120   \n\n       Time Since Registration day_of_week month_of_year  O_SENT  Position  \\\n64935   0 days 00:00:00.593000     Tuesday      November       0         1   \n64936   0 days 00:00:00.889000     Tuesday      November       0         2   \n64938   0 days 00:00:46.963000     Tuesday      November       0         3   \n64939   0 days 00:00:47.557000     Tuesday      November       0         4   \n64989   0 days 00:16:48.696000     Tuesday      November       0         5   \n...                        ...         ...           ...     ...       ...   \n165456 62 days 21:11:57.893000     Tuesday       January       1       171   \n165539 62 days 21:38:06.763000     Tuesday       January       1       172   \n165555 62 days 21:43:11.714000     Tuesday       January       1       173   \n165556 62 days 21:43:11.714000     Tuesday       January       1       174   \n165557 62 days 21:43:15.120000     Tuesday       January       1       175   \n\n       Baseline Prediction for Next Activity  \\\n64935                      A_PARTLYSUBMITTED   \n64936                     W_Afhandelen leads   \n64938                     W_Afhandelen leads   \n64939                 W_Completeren aanvraag   \n64989                 W_Completeren aanvraag   \n...                                      ...   \n165456        W_Nabellen incomplete dossiers   \n165539                           O_CANCELLED   \n165555                           A_CANCELLED   \n165556        W_Nabellen incomplete dossiers   \n165557                                     -   \n\n       Baseline Prediction for Next Timestamp  \n64935           2011-11-15 13:42:46.175640462  \n64936           2011-11-15 13:43:20.991779539  \n64938           2011-11-15 16:34:47.624069032  \n64939           2011-11-15 16:59:25.467088057  \n64989           2011-11-15 14:17:23.742873248  \n...                                       ...  \n165456          2012-01-17 11:20:51.763000000  \n165539          2012-01-17 11:25:56.714000000  \n165555          2012-01-17 11:25:56.714000000  \n165556          2012-01-17 11:26:00.120000000  \n165557          2012-01-17 11:26:00.120000000  \n\n[175 rows x 14 columns]",
      "text/html": "<div>\n<style scoped>\n    .dataframe tbody tr th:only-of-type {\n        vertical-align: middle;\n    }\n\n    .dataframe tbody tr th {\n        vertical-align: top;\n    }\n\n    .dataframe thead th {\n        text-align: right;\n    }\n</style>\n<table border=\"1\" class=\"dataframe\">\n  <thead>\n    <tr style=\"text-align: right;\">\n      <th></th>\n      <th>eventID</th>\n      <th>case concept:name</th>\n      <th>case REG_DATE</th>\n      <th>case AMOUNT_REQ</th>\n      <th>event concept:name</th>\n      <th>event lifecycle:transition</th>\n      <th>event time:timestamp</th>\n      <th>Time Since Registration</th>\n      <th>day_of_week</th>\n      <th>month_of_year</th>\n      <th>O_SENT</th>\n      <th>Position</th>\n      <th>Baseline Prediction for Next Activity</th>\n      <th>Baseline Prediction for Next Timestamp</th>\n    </tr>\n  </thead>\n  <tbody>\n    <tr>\n      <th>64935</th>\n      <td>16333760626688</td>\n      <td>185548</td>\n      <td>2011-11-15 13:42:45</td>\n      <td>20000</td>\n      <td>A_SUBMITTED</td>\n      <td>COMPLETE</td>\n      <td>2011-11-15 13:42:45.593</td>\n      <td>0 days 00:00:00.593000</td>\n      <td>Tuesday</td>\n      <td>November</td>\n      <td>0</td>\n      <td>1</td>\n      <td>A_PARTLYSUBMITTED</td>\n      <td>2011-11-15 13:42:46.175640462</td>\n    </tr>\n    <tr>\n      <th>64936</th>\n      <td>16333760626689</td>\n      <td>185548</td>\n      <td>2011-11-15 13:42:45</td>\n      <td>20000</td>\n      <td>A_PARTLYSUBMITTED</td>\n      <td>COMPLETE</td>\n      <td>2011-11-15 13:42:45.889</td>\n      <td>0 days 00:00:00.889000</td>\n      <td>Tuesday</td>\n      <td>November</td>\n      <td>0</td>\n      <td>2</td>\n      <td>W_Afhandelen leads</td>\n      <td>2011-11-15 13:43:20.991779539</td>\n    </tr>\n    <tr>\n      <th>64938</th>\n      <td>16333760626690</td>\n      <td>185548</td>\n      <td>2011-11-15 13:42:45</td>\n      <td>20000</td>\n      <td>A_PREACCEPTED</td>\n      <td>COMPLETE</td>\n      <td>2011-11-15 13:43:31.963</td>\n      <td>0 days 00:00:46.963000</td>\n      <td>Tuesday</td>\n      <td>November</td>\n      <td>0</td>\n      <td>3</td>\n      <td>W_Afhandelen leads</td>\n      <td>2011-11-15 16:34:47.624069032</td>\n    </tr>\n    <tr>\n      <th>64939</th>\n      <td>16333760626691</td>\n      <td>185548</td>\n      <td>2011-11-15 13:42:45</td>\n      <td>20000</td>\n      <td>W_Completeren aanvraag</td>\n      <td>SCHEDULE</td>\n      <td>2011-11-15 13:43:32.557</td>\n      <td>0 days 00:00:47.557000</td>\n      <td>Tuesday</td>\n      <td>November</td>\n      <td>0</td>\n      <td>4</td>\n      <td>W_Completeren aanvraag</td>\n      <td>2011-11-15 16:59:25.467088057</td>\n    </tr>\n    <tr>\n      <th>64989</th>\n      <td>16333760626692</td>\n      <td>185548</td>\n      <td>2011-11-15 13:42:45</td>\n      <td>20000</td>\n      <td>W_Completeren aanvraag</td>\n      <td>START</td>\n      <td>2011-11-15 13:59:33.696</td>\n      <td>0 days 00:16:48.696000</td>\n      <td>Tuesday</td>\n      <td>November</td>\n      <td>0</td>\n      <td>5</td>\n      <td>W_Completeren aanvraag</td>\n      <td>2011-11-15 14:17:23.742873248</td>\n    </tr>\n    <tr>\n      <th>...</th>\n      <td>...</td>\n      <td>...</td>\n      <td>...</td>\n      <td>...</td>\n      <td>...</td>\n      <td>...</td>\n      <td>...</td>\n      <td>...</td>\n      <td>...</td>\n      <td>...</td>\n      <td>...</td>\n      <td>...</td>\n      <td>...</td>\n      <td>...</td>\n    </tr>\n    <tr>\n      <th>165456</th>\n      <td>16333760626858</td>\n      <td>185548</td>\n      <td>2011-11-15 13:42:45</td>\n      <td>20000</td>\n      <td>W_Nabellen incomplete dossiers</td>\n      <td>COMPLETE</td>\n      <td>2012-01-17 10:54:42.893</td>\n      <td>62 days 21:11:57.893000</td>\n      <td>Tuesday</td>\n      <td>January</td>\n      <td>1</td>\n      <td>171</td>\n      <td>W_Nabellen incomplete dossiers</td>\n      <td>2012-01-17 11:20:51.763000000</td>\n    </tr>\n    <tr>\n      <th>165539</th>\n      <td>16333760626859</td>\n      <td>185548</td>\n      <td>2011-11-15 13:42:45</td>\n      <td>20000</td>\n      <td>W_Nabellen incomplete dossiers</td>\n      <td>START</td>\n      <td>2012-01-17 11:20:51.763</td>\n      <td>62 days 21:38:06.763000</td>\n      <td>Tuesday</td>\n      <td>January</td>\n      <td>1</td>\n      <td>172</td>\n      <td>O_CANCELLED</td>\n      <td>2012-01-17 11:25:56.714000000</td>\n    </tr>\n    <tr>\n      <th>165555</th>\n      <td>16333760626861</td>\n      <td>185548</td>\n      <td>2011-11-15 13:42:45</td>\n      <td>20000</td>\n      <td>O_CANCELLED</td>\n      <td>COMPLETE</td>\n      <td>2012-01-17 11:25:56.714</td>\n      <td>62 days 21:43:11.714000</td>\n      <td>Tuesday</td>\n      <td>January</td>\n      <td>1</td>\n      <td>173</td>\n      <td>A_CANCELLED</td>\n      <td>2012-01-17 11:25:56.714000000</td>\n    </tr>\n    <tr>\n      <th>165556</th>\n      <td>16333760626860</td>\n      <td>185548</td>\n      <td>2011-11-15 13:42:45</td>\n      <td>20000</td>\n      <td>A_CANCELLED</td>\n      <td>COMPLETE</td>\n      <td>2012-01-17 11:25:56.714</td>\n      <td>62 days 21:43:11.714000</td>\n      <td>Tuesday</td>\n      <td>January</td>\n      <td>1</td>\n      <td>174</td>\n      <td>W_Nabellen incomplete dossiers</td>\n      <td>2012-01-17 11:26:00.120000000</td>\n    </tr>\n    <tr>\n      <th>165557</th>\n      <td>16333760626862</td>\n      <td>185548</td>\n      <td>2011-11-15 13:42:45</td>\n      <td>20000</td>\n      <td>W_Nabellen incomplete dossiers</td>\n      <td>COMPLETE</td>\n      <td>2012-01-17 11:26:00.120</td>\n      <td>62 days 21:43:15.120000</td>\n      <td>Tuesday</td>\n      <td>January</td>\n      <td>1</td>\n      <td>175</td>\n      <td>-</td>\n      <td>2012-01-17 11:26:00.120000000</td>\n    </tr>\n  </tbody>\n</table>\n<p>175 rows × 14 columns</p>\n</div>"
     },
     "execution_count": 163,
     "metadata": {},
     "output_type": "execute_result"
    }
   ],
   "source": [
    "# We add the baseline predicted time duration until next event to the dataframe \n",
    "df[baseline_next_timestamp_column] = [x + average_time_per_pos[y] for x,y in zip(df[timestamp_column], df[position_column])]\n",
    "\n",
    "df[df[case_column] == 185548] # Note that the events of pos 173 and 174 happen at the exact same timestamp!"
   ]
  },
  {
   "cell_type": "code",
   "execution_count": 164,
   "id": "b9b35766",
   "metadata": {},
   "outputs": [
    {
     "data": {
      "text/plain": "1754"
     },
     "execution_count": 164,
     "metadata": {},
     "output_type": "execute_result"
    }
   ],
   "source": [
    "# We create a list containing all unique combinations of position numbers and events that exist in the data\n",
    "\n",
    "unique_pos_event = list({(pos,event) for event,pos in zip(df[event_column],df[position_column])})\n",
    "\n",
    "len(unique_pos_event)"
   ]
  },
  {
   "cell_type": "code",
   "execution_count": 165,
   "id": "3cb7a00f",
   "metadata": {},
   "outputs": [],
   "source": [
    "# We create dictionary that takes into account the most recent event AND the position in the trace to give the most likely next event\n",
    "\n",
    "# The mode() function can return an empty series if the input is empty, then we should output \"-\"\n",
    "def get_first_mode(srs):\n",
    "    if (len(srs)>0):\n",
    "        return srs[0]\n",
    "    return \"-\"\n",
    "\n",
    "pos_event_prediction = {(pos,event): get_first_mode(df[event_column][(df[event_column].shift() == event) & (df[position_column] == pos+1)].mode()) for pos,event in unique_pos_event}\n",
    "\n",
    "#pos_event_prediction#[(\"A_PARTLYSUBMITTED\", 2)]"
   ]
  },
  {
   "cell_type": "code",
   "execution_count": 166,
   "id": "077c1773",
   "metadata": {},
   "outputs": [],
   "source": [
    "# We add the predicted next event as a new column to the dataframe\n",
    "df[pos_event_next_event_column] = [pos_event_prediction[(pos, event)] for pos,event in zip(df[position_column], df[event_column])]\n",
    "#df[df[case_column] == 185548]"
   ]
  },
  {
   "cell_type": "code",
   "execution_count": 167,
   "id": "ec1bf71d",
   "metadata": {},
   "outputs": [],
   "source": [
    "# We calculate the average time-difference between the next event and the current time for every pair of position\n",
    "\n",
    "pos_event_timedelta = {(pos,event): replacenat(shifted_deltatimes[(df[position_column]==pos)&(df[event_column]==event)].mean()) for pos,event in unique_pos_event}\n",
    "\n",
    "#pos_event_timedelta"
   ]
  },
  {
   "cell_type": "code",
   "execution_count": 168,
   "id": "f8b05ce2",
   "metadata": {},
   "outputs": [
    {
     "data": {
      "text/plain": "              eventID   case concept:name       case REG_DATE  \\\n64935   16333760626688             185548 2011-11-15 13:42:45   \n64936   16333760626689             185548 2011-11-15 13:42:45   \n64938   16333760626690             185548 2011-11-15 13:42:45   \n64939   16333760626691             185548 2011-11-15 13:42:45   \n64989   16333760626692             185548 2011-11-15 13:42:45   \n...                ...                ...                 ...   \n165456  16333760626858             185548 2011-11-15 13:42:45   \n165539  16333760626859             185548 2011-11-15 13:42:45   \n165555  16333760626861             185548 2011-11-15 13:42:45   \n165556  16333760626860             185548 2011-11-15 13:42:45   \n165557  16333760626862             185548 2011-11-15 13:42:45   \n\n        case AMOUNT_REQ              event concept:name  \\\n64935             20000                     A_SUBMITTED   \n64936             20000               A_PARTLYSUBMITTED   \n64938             20000                   A_PREACCEPTED   \n64939             20000          W_Completeren aanvraag   \n64989             20000          W_Completeren aanvraag   \n...                 ...                             ...   \n165456            20000  W_Nabellen incomplete dossiers   \n165539            20000  W_Nabellen incomplete dossiers   \n165555            20000                     O_CANCELLED   \n165556            20000                     A_CANCELLED   \n165557            20000  W_Nabellen incomplete dossiers   \n\n       event lifecycle:transition    event time:timestamp  \\\n64935                    COMPLETE 2011-11-15 13:42:45.593   \n64936                    COMPLETE 2011-11-15 13:42:45.889   \n64938                    COMPLETE 2011-11-15 13:43:31.963   \n64939                    SCHEDULE 2011-11-15 13:43:32.557   \n64989                       START 2011-11-15 13:59:33.696   \n...                           ...                     ...   \n165456                   COMPLETE 2012-01-17 10:54:42.893   \n165539                      START 2012-01-17 11:20:51.763   \n165555                   COMPLETE 2012-01-17 11:25:56.714   \n165556                   COMPLETE 2012-01-17 11:25:56.714   \n165557                   COMPLETE 2012-01-17 11:26:00.120   \n\n       Time Since Registration day_of_week month_of_year  O_SENT  Position  \\\n64935   0 days 00:00:00.593000     Tuesday      November       0         1   \n64936   0 days 00:00:00.889000     Tuesday      November       0         2   \n64938   0 days 00:00:46.963000     Tuesday      November       0         3   \n64939   0 days 00:00:47.557000     Tuesday      November       0         4   \n64989   0 days 00:16:48.696000     Tuesday      November       0         5   \n...                        ...         ...           ...     ...       ...   \n165456 62 days 21:11:57.893000     Tuesday       January       1       171   \n165539 62 days 21:38:06.763000     Tuesday       January       1       172   \n165555 62 days 21:43:11.714000     Tuesday       January       1       173   \n165556 62 days 21:43:11.714000     Tuesday       January       1       174   \n165557 62 days 21:43:15.120000     Tuesday       January       1       175   \n\n       Baseline Prediction for Next Activity  \\\n64935                      A_PARTLYSUBMITTED   \n64936                     W_Afhandelen leads   \n64938                     W_Afhandelen leads   \n64939                 W_Completeren aanvraag   \n64989                 W_Completeren aanvraag   \n...                                      ...   \n165456        W_Nabellen incomplete dossiers   \n165539                           O_CANCELLED   \n165555                           A_CANCELLED   \n165556        W_Nabellen incomplete dossiers   \n165557                                     -   \n\n       Baseline Prediction for Next Timestamp  \\\n64935           2011-11-15 13:42:46.175640462   \n64936           2011-11-15 13:43:20.991779539   \n64938           2011-11-15 16:34:47.624069032   \n64939           2011-11-15 16:59:25.467088057   \n64989           2011-11-15 14:17:23.742873248   \n...                                       ...   \n165456          2012-01-17 11:20:51.763000000   \n165539          2012-01-17 11:25:56.714000000   \n165555          2012-01-17 11:25:56.714000000   \n165556          2012-01-17 11:26:00.120000000   \n165557          2012-01-17 11:26:00.120000000   \n\n       Position&Event Prediction for Next Activity  \\\n64935                            A_PARTLYSUBMITTED   \n64936                           W_Afhandelen leads   \n64938                       W_Completeren aanvraag   \n64939                       W_Completeren aanvraag   \n64989                       W_Completeren aanvraag   \n...                                            ...   \n165456              W_Nabellen incomplete dossiers   \n165539                                 O_CANCELLED   \n165555                                 A_CANCELLED   \n165556              W_Nabellen incomplete dossiers   \n165557                                           -   \n\n       Position&Event Prediction for Next Timestamp  \n64935                 2011-11-15 13:42:46.175640462  \n64936                 2011-11-15 13:43:20.991779539  \n64938                 2011-11-15 13:43:32.673225130  \n64939                 2011-11-15 20:04:36.891513350  \n64989                 2011-11-15 14:11:02.151681413  \n...                                             ...  \n165456                2012-01-17 11:20:51.763000000  \n165539                2012-01-17 11:25:56.714000000  \n165555                2012-01-17 11:25:56.714000000  \n165556                2012-01-17 11:26:00.120000000  \n165557                2012-01-17 11:26:00.120000000  \n\n[175 rows x 16 columns]",
      "text/html": "<div>\n<style scoped>\n    .dataframe tbody tr th:only-of-type {\n        vertical-align: middle;\n    }\n\n    .dataframe tbody tr th {\n        vertical-align: top;\n    }\n\n    .dataframe thead th {\n        text-align: right;\n    }\n</style>\n<table border=\"1\" class=\"dataframe\">\n  <thead>\n    <tr style=\"text-align: right;\">\n      <th></th>\n      <th>eventID</th>\n      <th>case concept:name</th>\n      <th>case REG_DATE</th>\n      <th>case AMOUNT_REQ</th>\n      <th>event concept:name</th>\n      <th>event lifecycle:transition</th>\n      <th>event time:timestamp</th>\n      <th>Time Since Registration</th>\n      <th>day_of_week</th>\n      <th>month_of_year</th>\n      <th>O_SENT</th>\n      <th>Position</th>\n      <th>Baseline Prediction for Next Activity</th>\n      <th>Baseline Prediction for Next Timestamp</th>\n      <th>Position&amp;Event Prediction for Next Activity</th>\n      <th>Position&amp;Event Prediction for Next Timestamp</th>\n    </tr>\n  </thead>\n  <tbody>\n    <tr>\n      <th>64935</th>\n      <td>16333760626688</td>\n      <td>185548</td>\n      <td>2011-11-15 13:42:45</td>\n      <td>20000</td>\n      <td>A_SUBMITTED</td>\n      <td>COMPLETE</td>\n      <td>2011-11-15 13:42:45.593</td>\n      <td>0 days 00:00:00.593000</td>\n      <td>Tuesday</td>\n      <td>November</td>\n      <td>0</td>\n      <td>1</td>\n      <td>A_PARTLYSUBMITTED</td>\n      <td>2011-11-15 13:42:46.175640462</td>\n      <td>A_PARTLYSUBMITTED</td>\n      <td>2011-11-15 13:42:46.175640462</td>\n    </tr>\n    <tr>\n      <th>64936</th>\n      <td>16333760626689</td>\n      <td>185548</td>\n      <td>2011-11-15 13:42:45</td>\n      <td>20000</td>\n      <td>A_PARTLYSUBMITTED</td>\n      <td>COMPLETE</td>\n      <td>2011-11-15 13:42:45.889</td>\n      <td>0 days 00:00:00.889000</td>\n      <td>Tuesday</td>\n      <td>November</td>\n      <td>0</td>\n      <td>2</td>\n      <td>W_Afhandelen leads</td>\n      <td>2011-11-15 13:43:20.991779539</td>\n      <td>W_Afhandelen leads</td>\n      <td>2011-11-15 13:43:20.991779539</td>\n    </tr>\n    <tr>\n      <th>64938</th>\n      <td>16333760626690</td>\n      <td>185548</td>\n      <td>2011-11-15 13:42:45</td>\n      <td>20000</td>\n      <td>A_PREACCEPTED</td>\n      <td>COMPLETE</td>\n      <td>2011-11-15 13:43:31.963</td>\n      <td>0 days 00:00:46.963000</td>\n      <td>Tuesday</td>\n      <td>November</td>\n      <td>0</td>\n      <td>3</td>\n      <td>W_Afhandelen leads</td>\n      <td>2011-11-15 16:34:47.624069032</td>\n      <td>W_Completeren aanvraag</td>\n      <td>2011-11-15 13:43:32.673225130</td>\n    </tr>\n    <tr>\n      <th>64939</th>\n      <td>16333760626691</td>\n      <td>185548</td>\n      <td>2011-11-15 13:42:45</td>\n      <td>20000</td>\n      <td>W_Completeren aanvraag</td>\n      <td>SCHEDULE</td>\n      <td>2011-11-15 13:43:32.557</td>\n      <td>0 days 00:00:47.557000</td>\n      <td>Tuesday</td>\n      <td>November</td>\n      <td>0</td>\n      <td>4</td>\n      <td>W_Completeren aanvraag</td>\n      <td>2011-11-15 16:59:25.467088057</td>\n      <td>W_Completeren aanvraag</td>\n      <td>2011-11-15 20:04:36.891513350</td>\n    </tr>\n    <tr>\n      <th>64989</th>\n      <td>16333760626692</td>\n      <td>185548</td>\n      <td>2011-11-15 13:42:45</td>\n      <td>20000</td>\n      <td>W_Completeren aanvraag</td>\n      <td>START</td>\n      <td>2011-11-15 13:59:33.696</td>\n      <td>0 days 00:16:48.696000</td>\n      <td>Tuesday</td>\n      <td>November</td>\n      <td>0</td>\n      <td>5</td>\n      <td>W_Completeren aanvraag</td>\n      <td>2011-11-15 14:17:23.742873248</td>\n      <td>W_Completeren aanvraag</td>\n      <td>2011-11-15 14:11:02.151681413</td>\n    </tr>\n    <tr>\n      <th>...</th>\n      <td>...</td>\n      <td>...</td>\n      <td>...</td>\n      <td>...</td>\n      <td>...</td>\n      <td>...</td>\n      <td>...</td>\n      <td>...</td>\n      <td>...</td>\n      <td>...</td>\n      <td>...</td>\n      <td>...</td>\n      <td>...</td>\n      <td>...</td>\n      <td>...</td>\n      <td>...</td>\n    </tr>\n    <tr>\n      <th>165456</th>\n      <td>16333760626858</td>\n      <td>185548</td>\n      <td>2011-11-15 13:42:45</td>\n      <td>20000</td>\n      <td>W_Nabellen incomplete dossiers</td>\n      <td>COMPLETE</td>\n      <td>2012-01-17 10:54:42.893</td>\n      <td>62 days 21:11:57.893000</td>\n      <td>Tuesday</td>\n      <td>January</td>\n      <td>1</td>\n      <td>171</td>\n      <td>W_Nabellen incomplete dossiers</td>\n      <td>2012-01-17 11:20:51.763000000</td>\n      <td>W_Nabellen incomplete dossiers</td>\n      <td>2012-01-17 11:20:51.763000000</td>\n    </tr>\n    <tr>\n      <th>165539</th>\n      <td>16333760626859</td>\n      <td>185548</td>\n      <td>2011-11-15 13:42:45</td>\n      <td>20000</td>\n      <td>W_Nabellen incomplete dossiers</td>\n      <td>START</td>\n      <td>2012-01-17 11:20:51.763</td>\n      <td>62 days 21:38:06.763000</td>\n      <td>Tuesday</td>\n      <td>January</td>\n      <td>1</td>\n      <td>172</td>\n      <td>O_CANCELLED</td>\n      <td>2012-01-17 11:25:56.714000000</td>\n      <td>O_CANCELLED</td>\n      <td>2012-01-17 11:25:56.714000000</td>\n    </tr>\n    <tr>\n      <th>165555</th>\n      <td>16333760626861</td>\n      <td>185548</td>\n      <td>2011-11-15 13:42:45</td>\n      <td>20000</td>\n      <td>O_CANCELLED</td>\n      <td>COMPLETE</td>\n      <td>2012-01-17 11:25:56.714</td>\n      <td>62 days 21:43:11.714000</td>\n      <td>Tuesday</td>\n      <td>January</td>\n      <td>1</td>\n      <td>173</td>\n      <td>A_CANCELLED</td>\n      <td>2012-01-17 11:25:56.714000000</td>\n      <td>A_CANCELLED</td>\n      <td>2012-01-17 11:25:56.714000000</td>\n    </tr>\n    <tr>\n      <th>165556</th>\n      <td>16333760626860</td>\n      <td>185548</td>\n      <td>2011-11-15 13:42:45</td>\n      <td>20000</td>\n      <td>A_CANCELLED</td>\n      <td>COMPLETE</td>\n      <td>2012-01-17 11:25:56.714</td>\n      <td>62 days 21:43:11.714000</td>\n      <td>Tuesday</td>\n      <td>January</td>\n      <td>1</td>\n      <td>174</td>\n      <td>W_Nabellen incomplete dossiers</td>\n      <td>2012-01-17 11:26:00.120000000</td>\n      <td>W_Nabellen incomplete dossiers</td>\n      <td>2012-01-17 11:26:00.120000000</td>\n    </tr>\n    <tr>\n      <th>165557</th>\n      <td>16333760626862</td>\n      <td>185548</td>\n      <td>2011-11-15 13:42:45</td>\n      <td>20000</td>\n      <td>W_Nabellen incomplete dossiers</td>\n      <td>COMPLETE</td>\n      <td>2012-01-17 11:26:00.120</td>\n      <td>62 days 21:43:15.120000</td>\n      <td>Tuesday</td>\n      <td>January</td>\n      <td>1</td>\n      <td>175</td>\n      <td>-</td>\n      <td>2012-01-17 11:26:00.120000000</td>\n      <td>-</td>\n      <td>2012-01-17 11:26:00.120000000</td>\n    </tr>\n  </tbody>\n</table>\n<p>175 rows × 16 columns</p>\n</div>"
     },
     "execution_count": 168,
     "metadata": {},
     "output_type": "execute_result"
    }
   ],
   "source": [
    "# We add the predicted next timestamp as a new column to the dataframe\n",
    "df[pos_event_next_timestamp_column] = [time+pos_event_timedelta[(pos,event)] for pos,event,time in zip(df[position_column], df[event_column], df[timestamp_column])]\n",
    "df[df[case_column] == 185548]"
   ]
  },
  {
   "cell_type": "code",
   "execution_count": 169,
   "outputs": [
    {
     "data": {
      "text/plain": "              eventID   case concept:name       case REG_DATE  \\\n0                    0             173688 2011-10-01 00:38:44   \n1                    1             173688 2011-10-01 00:38:44   \n2                    2             173688 2011-10-01 00:38:44   \n3                    3             173688 2011-10-01 00:38:44   \n89                   4             173688 2011-10-01 00:38:44   \n...                ...                ...                 ...   \n200137  44951127719952             206315 2012-02-03 17:04:58   \n206367  44951127719953             206315 2012-02-03 17:04:58   \n206369  44951127719955             206315 2012-02-03 17:04:58   \n206370  44951127719954             206315 2012-02-03 17:04:58   \n206371  44951127719956             206315 2012-02-03 17:04:58   \n\n        case AMOUNT_REQ      event concept:name event lifecycle:transition  \\\n0                 20000             A_SUBMITTED                   COMPLETE   \n1                 20000       A_PARTLYSUBMITTED                   COMPLETE   \n2                 20000           A_PREACCEPTED                   COMPLETE   \n3                 20000  W_Completeren aanvraag                   SCHEDULE   \n89                20000  W_Completeren aanvraag                      START   \n...                 ...                     ...                        ...   \n200137             7000  W_Completeren aanvraag                   COMPLETE   \n206367             7000     W_Nabellen offertes                      START   \n206369             7000             O_CANCELLED                   COMPLETE   \n206370             7000             A_CANCELLED                   COMPLETE   \n206371             7000     W_Nabellen offertes                   COMPLETE   \n\n          event time:timestamp Time Since Registration day_of_week  \\\n0      2011-10-01 00:38:44.546  0 days 00:00:00.546000    Saturday   \n1      2011-10-01 00:38:44.880  0 days 00:00:00.880000    Saturday   \n2      2011-10-01 00:39:37.906  0 days 00:00:53.906000    Saturday   \n3      2011-10-01 00:39:38.875  0 days 00:00:54.875000    Saturday   \n89     2011-10-01 11:36:46.437  0 days 10:58:02.437000    Saturday   \n...                        ...                     ...         ...   \n200137 2012-02-04 11:26:20.972  0 days 18:21:22.972000    Saturday   \n206367 2012-02-11 16:20:10.518  7 days 23:15:12.518000    Saturday   \n206369 2012-02-11 16:21:43.728  7 days 23:16:45.728000    Saturday   \n206370 2012-02-11 16:21:43.728  7 days 23:16:45.728000    Saturday   \n206371 2012-02-11 16:21:46.837  7 days 23:16:48.837000    Saturday   \n\n       month_of_year  O_SENT  Position Baseline Prediction for Next Activity  \\\n0            October       0         1                     A_PARTLYSUBMITTED   \n1            October       0         2                    W_Afhandelen leads   \n2            October       0         3                    W_Afhandelen leads   \n3            October       0         4                W_Completeren aanvraag   \n89           October       0         5                W_Completeren aanvraag   \n...              ...     ...       ...                                   ...   \n200137      February       1        17                   W_Nabellen offertes   \n206367      February       1        18                   W_Nabellen offertes   \n206369      February       1        19                   W_Nabellen offertes   \n206370      February       1        20                   W_Nabellen offertes   \n206371      February       1        21                   W_Nabellen offertes   \n\n       Baseline Prediction for Next Timestamp  \\\n0               2011-10-01 00:38:45.128640462   \n1               2011-10-01 00:39:19.982779539   \n2               2011-10-01 03:30:53.567069032   \n3               2011-10-01 03:55:31.785088057   \n89              2011-10-01 11:54:36.483873248   \n...                                       ...   \n200137          2012-02-05 00:26:25.599002161   \n206367          2012-02-12 20:18:47.148377228   \n206369          2012-02-12 08:18:37.335350157   \n206370          2012-02-12 17:34:09.300022482   \n206371          2012-02-12 11:11:43.972177335   \n\n       Position&Event Prediction for Next Activity  \\\n0                                A_PARTLYSUBMITTED   \n1                               W_Afhandelen leads   \n2                           W_Completeren aanvraag   \n3                           W_Completeren aanvraag   \n89                          W_Completeren aanvraag   \n...                                            ...   \n200137                      W_Completeren aanvraag   \n206367                         W_Nabellen offertes   \n206369                                  O_SELECTED   \n206370                                 O_CANCELLED   \n206371                         W_Nabellen offertes   \n\n       Position&Event Prediction for Next Timestamp  \n0                     2011-10-01 00:38:45.128640462  \n1                     2011-10-01 00:39:19.982779539  \n2                     2011-10-01 00:39:38.616225130  \n3                     2011-10-01 07:00:43.209513350  \n89                    2011-10-01 11:48:14.892681413  \n...                                             ...  \n200137                2012-02-05 14:13:36.921816952  \n206367                2012-02-13 12:37:33.349365143  \n206369                2012-02-11 16:21:45.863880000  \n206370                2012-02-11 16:21:44.766433962  \n206371                2012-02-13 01:34:47.297308688  \n\n[17052 rows x 16 columns]",
      "text/html": "<div>\n<style scoped>\n    .dataframe tbody tr th:only-of-type {\n        vertical-align: middle;\n    }\n\n    .dataframe tbody tr th {\n        vertical-align: top;\n    }\n\n    .dataframe thead th {\n        text-align: right;\n    }\n</style>\n<table border=\"1\" class=\"dataframe\">\n  <thead>\n    <tr style=\"text-align: right;\">\n      <th></th>\n      <th>eventID</th>\n      <th>case concept:name</th>\n      <th>case REG_DATE</th>\n      <th>case AMOUNT_REQ</th>\n      <th>event concept:name</th>\n      <th>event lifecycle:transition</th>\n      <th>event time:timestamp</th>\n      <th>Time Since Registration</th>\n      <th>day_of_week</th>\n      <th>month_of_year</th>\n      <th>O_SENT</th>\n      <th>Position</th>\n      <th>Baseline Prediction for Next Activity</th>\n      <th>Baseline Prediction for Next Timestamp</th>\n      <th>Position&amp;Event Prediction for Next Activity</th>\n      <th>Position&amp;Event Prediction for Next Timestamp</th>\n    </tr>\n  </thead>\n  <tbody>\n    <tr>\n      <th>0</th>\n      <td>0</td>\n      <td>173688</td>\n      <td>2011-10-01 00:38:44</td>\n      <td>20000</td>\n      <td>A_SUBMITTED</td>\n      <td>COMPLETE</td>\n      <td>2011-10-01 00:38:44.546</td>\n      <td>0 days 00:00:00.546000</td>\n      <td>Saturday</td>\n      <td>October</td>\n      <td>0</td>\n      <td>1</td>\n      <td>A_PARTLYSUBMITTED</td>\n      <td>2011-10-01 00:38:45.128640462</td>\n      <td>A_PARTLYSUBMITTED</td>\n      <td>2011-10-01 00:38:45.128640462</td>\n    </tr>\n    <tr>\n      <th>1</th>\n      <td>1</td>\n      <td>173688</td>\n      <td>2011-10-01 00:38:44</td>\n      <td>20000</td>\n      <td>A_PARTLYSUBMITTED</td>\n      <td>COMPLETE</td>\n      <td>2011-10-01 00:38:44.880</td>\n      <td>0 days 00:00:00.880000</td>\n      <td>Saturday</td>\n      <td>October</td>\n      <td>0</td>\n      <td>2</td>\n      <td>W_Afhandelen leads</td>\n      <td>2011-10-01 00:39:19.982779539</td>\n      <td>W_Afhandelen leads</td>\n      <td>2011-10-01 00:39:19.982779539</td>\n    </tr>\n    <tr>\n      <th>2</th>\n      <td>2</td>\n      <td>173688</td>\n      <td>2011-10-01 00:38:44</td>\n      <td>20000</td>\n      <td>A_PREACCEPTED</td>\n      <td>COMPLETE</td>\n      <td>2011-10-01 00:39:37.906</td>\n      <td>0 days 00:00:53.906000</td>\n      <td>Saturday</td>\n      <td>October</td>\n      <td>0</td>\n      <td>3</td>\n      <td>W_Afhandelen leads</td>\n      <td>2011-10-01 03:30:53.567069032</td>\n      <td>W_Completeren aanvraag</td>\n      <td>2011-10-01 00:39:38.616225130</td>\n    </tr>\n    <tr>\n      <th>3</th>\n      <td>3</td>\n      <td>173688</td>\n      <td>2011-10-01 00:38:44</td>\n      <td>20000</td>\n      <td>W_Completeren aanvraag</td>\n      <td>SCHEDULE</td>\n      <td>2011-10-01 00:39:38.875</td>\n      <td>0 days 00:00:54.875000</td>\n      <td>Saturday</td>\n      <td>October</td>\n      <td>0</td>\n      <td>4</td>\n      <td>W_Completeren aanvraag</td>\n      <td>2011-10-01 03:55:31.785088057</td>\n      <td>W_Completeren aanvraag</td>\n      <td>2011-10-01 07:00:43.209513350</td>\n    </tr>\n    <tr>\n      <th>89</th>\n      <td>4</td>\n      <td>173688</td>\n      <td>2011-10-01 00:38:44</td>\n      <td>20000</td>\n      <td>W_Completeren aanvraag</td>\n      <td>START</td>\n      <td>2011-10-01 11:36:46.437</td>\n      <td>0 days 10:58:02.437000</td>\n      <td>Saturday</td>\n      <td>October</td>\n      <td>0</td>\n      <td>5</td>\n      <td>W_Completeren aanvraag</td>\n      <td>2011-10-01 11:54:36.483873248</td>\n      <td>W_Completeren aanvraag</td>\n      <td>2011-10-01 11:48:14.892681413</td>\n    </tr>\n    <tr>\n      <th>...</th>\n      <td>...</td>\n      <td>...</td>\n      <td>...</td>\n      <td>...</td>\n      <td>...</td>\n      <td>...</td>\n      <td>...</td>\n      <td>...</td>\n      <td>...</td>\n      <td>...</td>\n      <td>...</td>\n      <td>...</td>\n      <td>...</td>\n      <td>...</td>\n      <td>...</td>\n      <td>...</td>\n    </tr>\n    <tr>\n      <th>200137</th>\n      <td>44951127719952</td>\n      <td>206315</td>\n      <td>2012-02-03 17:04:58</td>\n      <td>7000</td>\n      <td>W_Completeren aanvraag</td>\n      <td>COMPLETE</td>\n      <td>2012-02-04 11:26:20.972</td>\n      <td>0 days 18:21:22.972000</td>\n      <td>Saturday</td>\n      <td>February</td>\n      <td>1</td>\n      <td>17</td>\n      <td>W_Nabellen offertes</td>\n      <td>2012-02-05 00:26:25.599002161</td>\n      <td>W_Completeren aanvraag</td>\n      <td>2012-02-05 14:13:36.921816952</td>\n    </tr>\n    <tr>\n      <th>206367</th>\n      <td>44951127719953</td>\n      <td>206315</td>\n      <td>2012-02-03 17:04:58</td>\n      <td>7000</td>\n      <td>W_Nabellen offertes</td>\n      <td>START</td>\n      <td>2012-02-11 16:20:10.518</td>\n      <td>7 days 23:15:12.518000</td>\n      <td>Saturday</td>\n      <td>February</td>\n      <td>1</td>\n      <td>18</td>\n      <td>W_Nabellen offertes</td>\n      <td>2012-02-12 20:18:47.148377228</td>\n      <td>W_Nabellen offertes</td>\n      <td>2012-02-13 12:37:33.349365143</td>\n    </tr>\n    <tr>\n      <th>206369</th>\n      <td>44951127719955</td>\n      <td>206315</td>\n      <td>2012-02-03 17:04:58</td>\n      <td>7000</td>\n      <td>O_CANCELLED</td>\n      <td>COMPLETE</td>\n      <td>2012-02-11 16:21:43.728</td>\n      <td>7 days 23:16:45.728000</td>\n      <td>Saturday</td>\n      <td>February</td>\n      <td>1</td>\n      <td>19</td>\n      <td>W_Nabellen offertes</td>\n      <td>2012-02-12 08:18:37.335350157</td>\n      <td>O_SELECTED</td>\n      <td>2012-02-11 16:21:45.863880000</td>\n    </tr>\n    <tr>\n      <th>206370</th>\n      <td>44951127719954</td>\n      <td>206315</td>\n      <td>2012-02-03 17:04:58</td>\n      <td>7000</td>\n      <td>A_CANCELLED</td>\n      <td>COMPLETE</td>\n      <td>2012-02-11 16:21:43.728</td>\n      <td>7 days 23:16:45.728000</td>\n      <td>Saturday</td>\n      <td>February</td>\n      <td>1</td>\n      <td>20</td>\n      <td>W_Nabellen offertes</td>\n      <td>2012-02-12 17:34:09.300022482</td>\n      <td>O_CANCELLED</td>\n      <td>2012-02-11 16:21:44.766433962</td>\n    </tr>\n    <tr>\n      <th>206371</th>\n      <td>44951127719956</td>\n      <td>206315</td>\n      <td>2012-02-03 17:04:58</td>\n      <td>7000</td>\n      <td>W_Nabellen offertes</td>\n      <td>COMPLETE</td>\n      <td>2012-02-11 16:21:46.837</td>\n      <td>7 days 23:16:48.837000</td>\n      <td>Saturday</td>\n      <td>February</td>\n      <td>1</td>\n      <td>21</td>\n      <td>W_Nabellen offertes</td>\n      <td>2012-02-12 11:11:43.972177335</td>\n      <td>W_Nabellen offertes</td>\n      <td>2012-02-13 01:34:47.297308688</td>\n    </tr>\n  </tbody>\n</table>\n<p>17052 rows × 16 columns</p>\n</div>"
     },
     "execution_count": 169,
     "metadata": {},
     "output_type": "execute_result"
    }
   ],
   "source": [
    "df[df['day_of_week']=='Saturday']"
   ],
   "metadata": {
    "collapsed": false,
    "pycharm": {
     "name": "#%%\n"
    }
   }
  },
  {
   "cell_type": "code",
   "execution_count": 170,
   "outputs": [
    {
     "data": {
      "text/plain": "0.3289901559561995"
     },
     "execution_count": 170,
     "metadata": {},
     "output_type": "execute_result"
    }
   ],
   "source": [
    "# ACCURACY\n",
    "\n",
    "df_test[position_column] = df_test.groupby([case_column]).cumcount()+1\n",
    "df_test[baseline_next_event_column] = [prediction_step[x] for x in df_test[position_column]]\n",
    "df_test[predicted_event_shift_column] = df_test[baseline_next_event_column].shift(1)\n",
    "accuracy_next_event = accuracy_score(df_test[df_test[position_column] != 1][event_column],df_test[df_test[position_column] != 1][predicted_event_shift_column])\n",
    "accuracy_next_event\n",
    "\n"
   ],
   "metadata": {
    "collapsed": false,
    "pycharm": {
     "name": "#%%\n"
    }
   }
  },
  {
   "cell_type": "code",
   "execution_count": 171,
   "outputs": [],
   "source": [
    "df_test[registration_time_column]= [re.sub('\\..*|\\+.*','',a,flags=re.DOTALL) for a in df_test[registration_time_column]]\n",
    "df_test[registration_time_column] = [datetime.strptime(date, timeformat_registration) for date in df_test[registration_time_column]]\n",
    "df_test[timestamp_column] = [datetime.strptime(date, timeformat_timestamp) for date in df_test[timestamp_column]]\n",
    "df_test[baseline_next_timestamp_column] = [x + average_time_per_pos[y] for x,y in zip(df_test[timestamp_column], df_test[position_column])]\n",
    "df_test[predicted_time_shift_column] = df_test[baseline_next_timestamp_column].shift(1)\n"
   ],
   "metadata": {
    "collapsed": false,
    "pycharm": {
     "name": "#%%\n"
    }
   }
  },
  {
   "cell_type": "code",
   "execution_count": 172,
   "outputs": [
    {
     "name": "stdout",
     "output_type": "stream",
     "text": [
      "Mean Absolute Error (MAE): 0 days 11:02:35.095135361\n"
     ]
    }
   ],
   "source": [
    "df_test_time = df_test[df_test[position_column] != 1][[timestamp_column, predicted_time_shift_column]]\n",
    "# # Mean Absolute Error (MAE)\n",
    "MAE = np.mean(abs(df_test_time[predicted_time_shift_column] - df_test_time[timestamp_column] ))\n",
    "print('Mean Absolute Error (MAE): ' + str(MAE))"
   ],
   "metadata": {
    "collapsed": false,
    "pycharm": {
     "name": "#%%\n"
    }
   }
  },
  {
   "cell_type": "code",
   "execution_count": 172,
   "outputs": [],
   "source": [],
   "metadata": {
    "collapsed": false,
    "pycharm": {
     "name": "#%%\n"
    }
   }
  }
 ],
 "metadata": {
  "kernelspec": {
   "display_name": "Python 3",
   "language": "python",
   "name": "python3"
  },
  "language_info": {
   "codemirror_mode": {
    "name": "ipython",
    "version": 3
   },
   "file_extension": ".py",
   "mimetype": "text/x-python",
   "name": "python",
   "nbconvert_exporter": "python",
   "pygments_lexer": "ipython3",
   "version": "3.9.7"
  }
 },
 "nbformat": 4,
 "nbformat_minor": 5
}