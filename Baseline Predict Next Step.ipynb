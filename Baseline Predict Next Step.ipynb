{
 "cells": [
  {
   "cell_type": "code",
   "execution_count": 1,
   "id": "dd6b3e86",
   "metadata": {},
   "outputs": [],
   "source": [
    "# imports\n",
    "import pandas as pd\n",
    "import matplotlib.pyplot as plt\n",
    "import statistics\n",
    "import numpy as np\n",
    "from datetime import datetime\n",
    "import re\n",
    "from sklearn.metrics import accuracy_score\n"
   ]
  },
  {
   "cell_type": "code",
   "execution_count": 2,
   "id": "61ff5bcf",
   "metadata": {},
   "outputs": [
    {
     "data": {
      "text/plain": "     eventID   case concept:name                  case REG_DATE  \\\n0           0             173688  2011-10-01T00:38:44.546+02:00   \n1           1             173688  2011-10-01T00:38:44.546+02:00   \n2           2             173688  2011-10-01T00:38:44.546+02:00   \n3           3             173688  2011-10-01T00:38:44.546+02:00   \n4  4294967296             173691  2011-10-01T08:08:58.256+02:00   \n5  4294967297             173691  2011-10-01T08:08:58.256+02:00   \n6  4294967298             173691  2011-10-01T08:08:58.256+02:00   \n7  4294967299             173691  2011-10-01T08:08:58.256+02:00   \n8  8589934592             173694  2011-10-01T08:10:30.287+02:00   \n9  8589934593             173694  2011-10-01T08:10:30.287+02:00   \n\n   case AMOUNT_REQ      event concept:name event lifecycle:transition  \\\n0            20000             A_SUBMITTED                   COMPLETE   \n1            20000       A_PARTLYSUBMITTED                   COMPLETE   \n2            20000           A_PREACCEPTED                   COMPLETE   \n3            20000  W_Completeren aanvraag                   SCHEDULE   \n4             5000             A_SUBMITTED                   COMPLETE   \n5             5000       A_PARTLYSUBMITTED                   COMPLETE   \n6             5000           A_PREACCEPTED                   COMPLETE   \n7             5000  W_Completeren aanvraag                   SCHEDULE   \n8             7000             A_SUBMITTED                   COMPLETE   \n9             7000       A_PARTLYSUBMITTED                   COMPLETE   \n\n      event time:timestamp  \n0  01-10-2011 00:38:44.546  \n1  01-10-2011 00:38:44.880  \n2  01-10-2011 00:39:37.906  \n3  01-10-2011 00:39:38.875  \n4  01-10-2011 08:08:58.256  \n5  01-10-2011 08:09:02.195  \n6  01-10-2011 08:09:56.648  \n7  01-10-2011 08:09:59.578  \n8  01-10-2011 08:10:30.287  \n9  01-10-2011 08:10:30.591  ",
      "text/html": "<div>\n<style scoped>\n    .dataframe tbody tr th:only-of-type {\n        vertical-align: middle;\n    }\n\n    .dataframe tbody tr th {\n        vertical-align: top;\n    }\n\n    .dataframe thead th {\n        text-align: right;\n    }\n</style>\n<table border=\"1\" class=\"dataframe\">\n  <thead>\n    <tr style=\"text-align: right;\">\n      <th></th>\n      <th>eventID</th>\n      <th>case concept:name</th>\n      <th>case REG_DATE</th>\n      <th>case AMOUNT_REQ</th>\n      <th>event concept:name</th>\n      <th>event lifecycle:transition</th>\n      <th>event time:timestamp</th>\n    </tr>\n  </thead>\n  <tbody>\n    <tr>\n      <th>0</th>\n      <td>0</td>\n      <td>173688</td>\n      <td>2011-10-01T00:38:44.546+02:00</td>\n      <td>20000</td>\n      <td>A_SUBMITTED</td>\n      <td>COMPLETE</td>\n      <td>01-10-2011 00:38:44.546</td>\n    </tr>\n    <tr>\n      <th>1</th>\n      <td>1</td>\n      <td>173688</td>\n      <td>2011-10-01T00:38:44.546+02:00</td>\n      <td>20000</td>\n      <td>A_PARTLYSUBMITTED</td>\n      <td>COMPLETE</td>\n      <td>01-10-2011 00:38:44.880</td>\n    </tr>\n    <tr>\n      <th>2</th>\n      <td>2</td>\n      <td>173688</td>\n      <td>2011-10-01T00:38:44.546+02:00</td>\n      <td>20000</td>\n      <td>A_PREACCEPTED</td>\n      <td>COMPLETE</td>\n      <td>01-10-2011 00:39:37.906</td>\n    </tr>\n    <tr>\n      <th>3</th>\n      <td>3</td>\n      <td>173688</td>\n      <td>2011-10-01T00:38:44.546+02:00</td>\n      <td>20000</td>\n      <td>W_Completeren aanvraag</td>\n      <td>SCHEDULE</td>\n      <td>01-10-2011 00:39:38.875</td>\n    </tr>\n    <tr>\n      <th>4</th>\n      <td>4294967296</td>\n      <td>173691</td>\n      <td>2011-10-01T08:08:58.256+02:00</td>\n      <td>5000</td>\n      <td>A_SUBMITTED</td>\n      <td>COMPLETE</td>\n      <td>01-10-2011 08:08:58.256</td>\n    </tr>\n    <tr>\n      <th>5</th>\n      <td>4294967297</td>\n      <td>173691</td>\n      <td>2011-10-01T08:08:58.256+02:00</td>\n      <td>5000</td>\n      <td>A_PARTLYSUBMITTED</td>\n      <td>COMPLETE</td>\n      <td>01-10-2011 08:09:02.195</td>\n    </tr>\n    <tr>\n      <th>6</th>\n      <td>4294967298</td>\n      <td>173691</td>\n      <td>2011-10-01T08:08:58.256+02:00</td>\n      <td>5000</td>\n      <td>A_PREACCEPTED</td>\n      <td>COMPLETE</td>\n      <td>01-10-2011 08:09:56.648</td>\n    </tr>\n    <tr>\n      <th>7</th>\n      <td>4294967299</td>\n      <td>173691</td>\n      <td>2011-10-01T08:08:58.256+02:00</td>\n      <td>5000</td>\n      <td>W_Completeren aanvraag</td>\n      <td>SCHEDULE</td>\n      <td>01-10-2011 08:09:59.578</td>\n    </tr>\n    <tr>\n      <th>8</th>\n      <td>8589934592</td>\n      <td>173694</td>\n      <td>2011-10-01T08:10:30.287+02:00</td>\n      <td>7000</td>\n      <td>A_SUBMITTED</td>\n      <td>COMPLETE</td>\n      <td>01-10-2011 08:10:30.287</td>\n    </tr>\n    <tr>\n      <th>9</th>\n      <td>8589934593</td>\n      <td>173694</td>\n      <td>2011-10-01T08:10:30.287+02:00</td>\n      <td>7000</td>\n      <td>A_PARTLYSUBMITTED</td>\n      <td>COMPLETE</td>\n      <td>01-10-2011 08:10:30.591</td>\n    </tr>\n  </tbody>\n</table>\n</div>"
     },
     "execution_count": 2,
     "metadata": {},
     "output_type": "execute_result"
    }
   ],
   "source": [
    "# read the data (2012)\n",
    "df = pd.read_csv('data/BPI_Challenge_2012-training.csv')\n",
    "\n",
    "df_test = pd.read_csv('data/BPI_Challenge_2012-test.csv')\n",
    "\n",
    "# read the data (road traffic fines)\n",
    "# df = pd.read_csv('data/Road_Traffic_Fine_Management_Process-training.csv')\n",
    "\n",
    "# read the data (2017)\n",
    "# df = pd.read_csv('data/BPI Challenge 2017-training.csv')\n",
    "\n",
    "# read the data (2018)\n",
    "# df = pd.read_csv('data/BPI Challenge 2018-training.csv')\n",
    "\n",
    "df.head(10)"
   ]
  },
  {
   "cell_type": "code",
   "execution_count": 3,
   "id": "5985b84a",
   "metadata": {},
   "outputs": [],
   "source": [
    "# Defining database-specific variables\n",
    "case_column = \"case concept:name\"\n",
    "registration_time_column = \"case REG_DATE\"\n",
    "event_column = \"event concept:name\"\n",
    "timestamp_column = \"event time:timestamp\"\n",
    "position_column = \"Position\"\n",
    "baseline_next_event_column = \"Baseline Prediction for Next Activity\"\n",
    "position_next_event_column = \"Position Prediction for Next Activity\"\n",
    "pos_event_next_event_column = \"Position&Event Prediction for Next Activity\"\n",
    "baseline_next_timestamp_column = \"Baseline Prediction for Next Timestamp\"\n",
    "position_next_timestamp_column = \"Position Prediction for Next Timestamp\"\n",
    "pos_event_next_timestamp_column = \"Position&Event Prediction for Next Timestamp\"\n",
    "time_since_registration_column = \"Time Since Registration\"\n",
    "day_of_week_column = \"day_of_week\"\n",
    "month_of_year_column = \"month_of_year\"\n",
    "offer_sent = 'O_SENT' # the name a of a sent offer state within event_column\n",
    "timeformat_registration = \"%Y-%m-%dT%H:%M:%S\" # new time format\n",
    "timeformat_timestamp = \"%d-%m-%Y %H:%M:%S.%f\""
   ]
  },
  {
   "cell_type": "code",
   "execution_count": 4,
   "id": "be75b2a8",
   "metadata": {},
   "outputs": [
    {
     "name": "stdout",
     "output_type": "stream",
     "text": [
      "<class 'pandas.core.frame.DataFrame'>\n",
      "RangeIndex: 214377 entries, 0 to 214376\n",
      "Data columns (total 8 columns):\n",
      " #   Column                      Non-Null Count   Dtype         \n",
      "---  ------                      --------------   -----         \n",
      " 0   index                       214377 non-null  int64         \n",
      " 1   eventID                     214377 non-null  int64         \n",
      " 2   case concept:name           214377 non-null  int64         \n",
      " 3   case REG_DATE               214377 non-null  datetime64[ns]\n",
      " 4   case AMOUNT_REQ             214377 non-null  int64         \n",
      " 5   event concept:name          214377 non-null  object        \n",
      " 6   event lifecycle:transition  214377 non-null  object        \n",
      " 7   event time:timestamp        214377 non-null  datetime64[ns]\n",
      "dtypes: datetime64[ns](2), int64(4), object(2)\n",
      "memory usage: 13.1+ MB\n"
     ]
    }
   ],
   "source": [
    "df[registration_time_column]= [re.sub('\\..*|\\+.*','',a,flags=re.DOTALL) for a in df[registration_time_column]]\n",
    "df[registration_time_column] = [datetime.strptime(date, timeformat_registration) for date in df[registration_time_column]]\n",
    "df[timestamp_column] = [datetime.strptime(date, timeformat_timestamp) for date in df[timestamp_column]]\n",
    "df = df.sort_values(by=[case_column, timestamp_column]).reset_index() # sort values by user and time of event\n",
    "df.info()"
   ]
  },
  {
   "cell_type": "code",
   "execution_count": 5,
   "id": "caedef63",
   "metadata": {},
   "outputs": [],
   "source": [
    "df_test[registration_time_column]= [re.sub('\\..*|\\+.*','',a,flags=re.DOTALL) for a in df_test[registration_time_column]]\n",
    "df_test[registration_time_column] = [datetime.strptime(date, timeformat_registration) for date in df_test[registration_time_column]]\n",
    "df_test[timestamp_column] = [datetime.strptime(date, timeformat_timestamp) for date in df_test[timestamp_column]]\n",
    "df_test = df_test.sort_values(by=[case_column, timestamp_column]).reset_index() # sort values by user and time of event\n",
    "#df_test.info()"
   ]
  },
  {
   "cell_type": "code",
   "execution_count": 6,
   "metadata": {
    "collapsed": false,
    "pycharm": {
     "name": "#%%\n"
    }
   },
   "outputs": [],
   "source": [
    "# adding the day of the week and month of the year columns\n",
    "\n",
    "df[time_since_registration_column] = df[timestamp_column] - df[registration_time_column] # Adding time since registration \n",
    "df[day_of_week_column] = df[timestamp_column].dt.day_name()\n",
    "df[month_of_year_column] = df[timestamp_column].dt.month_name()"
   ]
  },
  {
   "cell_type": "code",
   "execution_count": 7,
   "id": "217887cb",
   "metadata": {},
   "outputs": [],
   "source": [
    "# add column offer sent (binary)\n",
    "df_offersentevents = df[df[event_column] == offer_sent]\n",
    "df_firsteventofcase = df_offersentevents[df_offersentevents[case_column].shift(periods=1) != df_offersentevents[case_column]]\n",
    "dict_timestamp_offer_sent = dict(zip(df_firsteventofcase[case_column],df_firsteventofcase[timestamp_column]))\n",
    "\n",
    "df[offer_sent] = [(True if ((case in dict_timestamp_offer_sent) and (dict_timestamp_offer_sent[case] <= time)) else False) for case,time in zip(df[case_column],df[timestamp_column])]\n",
    "#df.head(40)"
   ]
  },
  {
   "cell_type": "code",
   "execution_count": 8,
   "metadata": {
    "collapsed": false,
    "pycharm": {
     "name": "#%%\n"
    }
   },
   "outputs": [],
   "source": [
    "# We create a dictionary length_process that stores the total length of a trace indexed by the case number\n",
    "# We fill in the Position column that shows which position is a certain event in the trace (the first event is 1)\n",
    "\n",
    "df[position_column] = df.groupby([case_column]).cumcount()+1\n",
    "length_process = df.groupby([case_column]).size().to_dict()\n",
    "\n",
    "#length_process\n",
    "#df[df[case_column] == 173688]"
   ]
  },
  {
   "cell_type": "code",
   "execution_count": 9,
   "id": "e3c5bd9d",
   "metadata": {},
   "outputs": [
    {
     "name": "stdout",
     "output_type": "stream",
     "text": [
      "Mean: 20.477313974591652\n",
      "Median: 11\n",
      "Max: 175\n",
      "Min: 3\n"
     ]
    }
   ],
   "source": [
    "# here you can see different statistics about the process length\n",
    "print(f'Mean: {statistics.mean(length_process.values())}')\n",
    "#print(f'Mode: {statistics.mode(length_process.values())}') # This line can cause a critical error if there exist multiple modes\n",
    "print(f'Median: {statistics.median(length_process.values())}')\n",
    "print(f'Max: {max(length_process.values())}') # this is df[df['case concept:name'] == 185548]\n",
    "print(f'Min: {min(length_process.values())}')"
   ]
  },
  {
   "cell_type": "code",
   "execution_count": 10,
   "id": "4ce783b4",
   "metadata": {},
   "outputs": [],
   "source": [
    "# the dictionary prediction_step stores the most common event for each position (if there are multiple modes we pick the first event that is encountered)\n",
    "# for example, the most common activity to occur in position 2 is prediction_step[1]; prediction for position n+1 is prediction_step[n]\n",
    "# If there is no next prediction after position n then prediction_step[n] == \"-\"\n",
    "\n",
    "# prediction_step = {i: df[event_column][df[position_column] == i+1].mode()[0] for i in range(1, max(length_process.values()))}\n",
    "# prediction_step[max(length_process.values())] = \"-\"\n",
    "\n",
    "#prediction_step"
   ]
  },
  {
   "cell_type": "code",
   "execution_count": 11,
   "id": "1354f315",
   "metadata": {},
   "outputs": [],
   "source": [
    "# We add the predicted next event (based on position only) as a new column to the dataframe\n",
    "#df[position_next_event_column] = [prediction_step[x] for x in df[position_column]]\n",
    "\n",
    "#df[df[case_column] == 173688]"
   ]
  },
  {
   "cell_type": "code",
   "execution_count": 12,
   "id": "cbdf94d8",
   "metadata": {},
   "outputs": [],
   "source": [
    "# We create a dictionary to store the average time duration until the next event\n",
    "# For example the average time duration between position n and n+1 is average_time_per_pos[n]\n",
    "# The dataframe must be sorted on case-number and timestamp for this calculation to work!\n",
    "# if there exists no event in the dataset of n+1 then average_time_per_pos[n] == pd.Timedelta(0)\n",
    "\n",
    "# Code Explanation: We subtract the timestamps and then shift the results up so the difference from n to n+1 is on row n.\n",
    "# Only if the position numbers are consecutive (so both events are in the same trace) should include the row in the mean() calculation.\n",
    "shifted_deltatimes = df[timestamp_column].diff().shift(periods=-1)[df[case_column].shift(periods=-1) == df[case_column]]\n",
    "\n",
    "# The mean() function will return NaT if the input is empty, we replace this with pd.Timedelta(0)\n",
    "def replacenat(timedelt):\n",
    "    if (pd.isna(timedelt)):\n",
    "        return pd.Timedelta(0)\n",
    "    return timedelt\n",
    "\n",
    "# We select only the rows of a certain position i and then calculate the mean() on those timedeltas\n",
    "\n",
    "# average_time_per_pos = {i: replacenat(shifted_deltatimes[df[position_column] == i].mean()) for i in range(1, max(length_process.values()) + 1)}\n",
    "\n",
    "#average_time_per_pos"
   ]
  },
  {
   "cell_type": "code",
   "execution_count": 29,
   "outputs": [
    {
     "name": "stdout",
     "output_type": "stream",
     "text": [
      "0    0 days 00:00:00.334000\n",
      "1    0 days 00:00:53.026000\n",
      "2    0 days 00:00:00.969000\n",
      "3    0 days 10:57:07.562000\n",
      "4    0 days 00:05:56.871000\n",
      "5    0 days 00:02:25.935000\n",
      "6           0 days 00:00:00\n",
      "7    0 days 00:00:01.954000\n",
      "8    0 days 00:00:00.183000\n",
      "9    0 days 00:00:00.174000\n",
      "10   0 days 00:00:02.363000\n",
      "11   0 days 00:30:27.373000\n",
      "12   0 days 00:01:27.634000\n",
      "13   7 days 04:09:48.796000\n",
      "14   0 days 00:05:03.166000\n",
      "15   1 days 19:00:21.609000\n",
      "16   0 days 00:00:41.173000\n",
      "17   0 days 00:00:00.892000\n",
      "18   0 days 00:00:01.231000\n",
      "19   2 days 22:32:21.134000\n",
      "20   0 days 00:32:02.301000\n",
      "21          0 days 00:00:00\n",
      "22          0 days 00:00:00\n",
      "23          0 days 00:00:00\n",
      "24   0 days 00:00:07.800000\n",
      "26   0 days 00:00:03.939000\n",
      "27   0 days 00:00:54.453000\n",
      "28   0 days 00:00:02.930000\n",
      "29   0 days 03:27:32.815000\n",
      "30   0 days 00:05:40.785000\n",
      "31   0 days 02:44:44.597000\n",
      "32   0 days 00:05:56.839000\n",
      "33   0 days 00:01:51.402000\n",
      "34          0 days 00:00:00\n",
      "35   0 days 00:00:01.472000\n",
      "36   0 days 00:00:00.095000\n",
      "37   0 days 00:00:00.099000\n",
      "38   0 days 00:00:01.109000\n",
      "39   0 days 00:00:24.652000\n",
      "40   0 days 00:00:12.351000\n",
      "41   2 days 02:18:17.463000\n",
      "42   0 days 00:01:34.474000\n",
      "43          0 days 00:00:00\n",
      "44   0 days 00:00:01.882000\n",
      "45   0 days 00:00:00.032000\n",
      "46   0 days 00:00:00.296000\n",
      "47   0 days 00:00:01.254000\n",
      "48   0 days 00:00:13.597000\n",
      "49   0 days 00:00:41.771000\n",
      "50   6 days 17:16:28.264000\n",
      "Name: event time:timestamp, dtype: timedelta64[ns]\n"
     ]
    }
   ],
   "source": [
    "print(shifted_deltatimes.head(50))"
   ],
   "metadata": {
    "collapsed": false,
    "pycharm": {
     "name": "#%%\n"
    }
   }
  },
  {
   "cell_type": "code",
   "execution_count": 30,
   "outputs": [
    {
     "data": {
      "text/plain": "    index    eventID   case concept:name       case REG_DATE  case AMOUNT_REQ  \\\n0       0           0             173688 2011-10-01 00:38:44            20000   \n1       1           1             173688 2011-10-01 00:38:44            20000   \n2       2           2             173688 2011-10-01 00:38:44            20000   \n3       3           3             173688 2011-10-01 00:38:44            20000   \n4      89           4             173688 2011-10-01 00:38:44            20000   \n5      94           5             173688 2011-10-01 00:38:44            20000   \n6      98           7             173688 2011-10-01 00:38:44            20000   \n7      99           6             173688 2011-10-01 00:38:44            20000   \n8     100           8             173688 2011-10-01 00:38:44            20000   \n9     101           9             173688 2011-10-01 00:38:44            20000   \n10    102          10             173688 2011-10-01 00:38:44            20000   \n11    103          11             173688 2011-10-01 00:38:44            20000   \n12    117          12             173688 2011-10-01 00:38:44            20000   \n13    118          13             173688 2011-10-01 00:38:44            20000   \n14   7544          14             173688 2011-10-01 00:38:44            20000   \n15   7548          15             173688 2011-10-01 00:38:44            20000   \n16   8237          16             173688 2011-10-01 00:38:44            20000   \n17   8238          17             173688 2011-10-01 00:38:44            20000   \n18   8239          18             173688 2011-10-01 00:38:44            20000   \n19   8240          19             173688 2011-10-01 00:38:44            20000   \n20  12358          20             173688 2011-10-01 00:38:44            20000   \n21  12413          23             173688 2011-10-01 00:38:44            20000   \n22  12414          21             173688 2011-10-01 00:38:44            20000   \n23  12415          22             173688 2011-10-01 00:38:44            20000   \n24  12416          24             173688 2011-10-01 00:38:44            20000   \n25  12417          25             173688 2011-10-01 00:38:44            20000   \n26      4  4294967296             173691 2011-10-01 08:08:58             5000   \n27      5  4294967297             173691 2011-10-01 08:08:58             5000   \n28      6  4294967298             173691 2011-10-01 08:08:58             5000   \n29      7  4294967299             173691 2011-10-01 08:08:58             5000   \n30     90  4294967300             173691 2011-10-01 08:08:58             5000   \n31     96  4294967301             173691 2011-10-01 08:08:58             5000   \n32    170  4294967302             173691 2011-10-01 08:08:58             5000   \n33    171  4294967303             173691 2011-10-01 08:08:58             5000   \n34    172  4294967305             173691 2011-10-01 08:08:58             5000   \n35    173  4294967304             173691 2011-10-01 08:08:58             5000   \n36    174  4294967306             173691 2011-10-01 08:08:58             5000   \n37    175  4294967307             173691 2011-10-01 08:08:58             5000   \n38    176  4294967308             173691 2011-10-01 08:08:58             5000   \n39    177  4294967309             173691 2011-10-01 08:08:58             5000   \n40    178  4294967310             173691 2011-10-01 08:08:58             5000   \n41    179  4294967311             173691 2011-10-01 08:08:58             5000   \n42   1524  4294967312             173691 2011-10-01 08:08:58             5000   \n43   1525  4294967314             173691 2011-10-01 08:08:58             5000   \n44   1526  4294967313             173691 2011-10-01 08:08:58             5000   \n45   1527  4294967315             173691 2011-10-01 08:08:58             5000   \n46   1528  4294967316             173691 2011-10-01 08:08:58             5000   \n47   1529  4294967317             173691 2011-10-01 08:08:58             5000   \n48   1530  4294967318             173691 2011-10-01 08:08:58             5000   \n49   1531  4294967319             173691 2011-10-01 08:08:58             5000   \n\n        event concept:name event lifecycle:transition    event time:timestamp  \\\n0              A_SUBMITTED                   COMPLETE 2011-10-01 00:38:44.546   \n1        A_PARTLYSUBMITTED                   COMPLETE 2011-10-01 00:38:44.880   \n2            A_PREACCEPTED                   COMPLETE 2011-10-01 00:39:37.906   \n3   W_Completeren aanvraag                   SCHEDULE 2011-10-01 00:39:38.875   \n4   W_Completeren aanvraag                      START 2011-10-01 11:36:46.437   \n5               A_ACCEPTED                   COMPLETE 2011-10-01 11:42:43.308   \n6              A_FINALIZED                   COMPLETE 2011-10-01 11:45:09.243   \n7               O_SELECTED                   COMPLETE 2011-10-01 11:45:09.243   \n8                O_CREATED                   COMPLETE 2011-10-01 11:45:11.197   \n9                   O_SENT                   COMPLETE 2011-10-01 11:45:11.380   \n10     W_Nabellen offertes                   SCHEDULE 2011-10-01 11:45:11.554   \n11  W_Completeren aanvraag                   COMPLETE 2011-10-01 11:45:13.917   \n12     W_Nabellen offertes                      START 2011-10-01 12:15:41.290   \n13     W_Nabellen offertes                   COMPLETE 2011-10-01 12:17:08.924   \n14     W_Nabellen offertes                      START 2011-10-08 16:26:57.720   \n15     W_Nabellen offertes                   COMPLETE 2011-10-08 16:32:00.886   \n16     W_Nabellen offertes                      START 2011-10-10 11:32:22.495   \n17             O_SENT_BACK                   COMPLETE 2011-10-10 11:33:03.668   \n18    W_Valideren aanvraag                   SCHEDULE 2011-10-10 11:33:04.560   \n19     W_Nabellen offertes                   COMPLETE 2011-10-10 11:33:05.791   \n20    W_Valideren aanvraag                      START 2011-10-13 10:05:26.925   \n21              O_ACCEPTED                   COMPLETE 2011-10-13 10:37:29.226   \n22            A_REGISTERED                   COMPLETE 2011-10-13 10:37:29.226   \n23              A_APPROVED                   COMPLETE 2011-10-13 10:37:29.226   \n24             A_ACTIVATED                   COMPLETE 2011-10-13 10:37:29.226   \n25    W_Valideren aanvraag                   COMPLETE 2011-10-13 10:37:37.026   \n26             A_SUBMITTED                   COMPLETE 2011-10-01 08:08:58.256   \n27       A_PARTLYSUBMITTED                   COMPLETE 2011-10-01 08:09:02.195   \n28           A_PREACCEPTED                   COMPLETE 2011-10-01 08:09:56.648   \n29  W_Completeren aanvraag                   SCHEDULE 2011-10-01 08:09:59.578   \n30  W_Completeren aanvraag                      START 2011-10-01 11:37:32.393   \n31  W_Completeren aanvraag                   COMPLETE 2011-10-01 11:43:13.178   \n32  W_Completeren aanvraag                      START 2011-10-01 14:27:57.775   \n33              A_ACCEPTED                   COMPLETE 2011-10-01 14:33:54.614   \n34              O_SELECTED                   COMPLETE 2011-10-01 14:35:46.016   \n35             A_FINALIZED                   COMPLETE 2011-10-01 14:35:46.016   \n36               O_CREATED                   COMPLETE 2011-10-01 14:35:47.488   \n37                  O_SENT                   COMPLETE 2011-10-01 14:35:47.583   \n38     W_Nabellen offertes                   SCHEDULE 2011-10-01 14:35:47.682   \n39  W_Completeren aanvraag                   COMPLETE 2011-10-01 14:35:48.791   \n40     W_Nabellen offertes                      START 2011-10-01 14:36:13.443   \n41     W_Nabellen offertes                   COMPLETE 2011-10-01 14:36:25.794   \n42     W_Nabellen offertes                      START 2011-10-03 16:54:43.257   \n43             O_CANCELLED                   COMPLETE 2011-10-03 16:56:17.731   \n44              O_SELECTED                   COMPLETE 2011-10-03 16:56:17.731   \n45               O_CREATED                   COMPLETE 2011-10-03 16:56:19.613   \n46                  O_SENT                   COMPLETE 2011-10-03 16:56:19.645   \n47     W_Nabellen offertes                   SCHEDULE 2011-10-03 16:56:19.941   \n48     W_Nabellen offertes                   COMPLETE 2011-10-03 16:56:21.195   \n49     W_Nabellen offertes                      START 2011-10-03 16:56:34.792   \n\n   Time Since Registration day_of_week month_of_year  O_SENT  Position  \\\n0   0 days 00:00:00.546000    Saturday       October   False         1   \n1   0 days 00:00:00.880000    Saturday       October   False         2   \n2   0 days 00:00:53.906000    Saturday       October   False         3   \n3   0 days 00:00:54.875000    Saturday       October   False         4   \n4   0 days 10:58:02.437000    Saturday       October   False         5   \n5   0 days 11:03:59.308000    Saturday       October   False         6   \n6   0 days 11:06:25.243000    Saturday       October   False         7   \n7   0 days 11:06:25.243000    Saturday       October   False         8   \n8   0 days 11:06:27.197000    Saturday       October   False         9   \n9   0 days 11:06:27.380000    Saturday       October    True        10   \n10  0 days 11:06:27.554000    Saturday       October    True        11   \n11  0 days 11:06:29.917000    Saturday       October    True        12   \n12  0 days 11:36:57.290000    Saturday       October    True        13   \n13  0 days 11:38:24.924000    Saturday       October    True        14   \n14  7 days 15:48:13.720000    Saturday       October    True        15   \n15  7 days 15:53:16.886000    Saturday       October    True        16   \n16  9 days 10:53:38.495000      Monday       October    True        17   \n17  9 days 10:54:19.668000      Monday       October    True        18   \n18  9 days 10:54:20.560000      Monday       October    True        19   \n19  9 days 10:54:21.791000      Monday       October    True        20   \n20 12 days 09:26:42.925000    Thursday       October    True        21   \n21 12 days 09:58:45.226000    Thursday       October    True        22   \n22 12 days 09:58:45.226000    Thursday       October    True        23   \n23 12 days 09:58:45.226000    Thursday       October    True        24   \n24 12 days 09:58:45.226000    Thursday       October    True        25   \n25 12 days 09:58:53.026000    Thursday       October    True        26   \n26  0 days 00:00:00.256000    Saturday       October   False         1   \n27  0 days 00:00:04.195000    Saturday       October   False         2   \n28  0 days 00:00:58.648000    Saturday       October   False         3   \n29  0 days 00:01:01.578000    Saturday       October   False         4   \n30  0 days 03:28:34.393000    Saturday       October   False         5   \n31  0 days 03:34:15.178000    Saturday       October   False         6   \n32  0 days 06:18:59.775000    Saturday       October   False         7   \n33  0 days 06:24:56.614000    Saturday       October   False         8   \n34  0 days 06:26:48.016000    Saturday       October   False         9   \n35  0 days 06:26:48.016000    Saturday       October   False        10   \n36  0 days 06:26:49.488000    Saturday       October   False        11   \n37  0 days 06:26:49.583000    Saturday       October    True        12   \n38  0 days 06:26:49.682000    Saturday       October    True        13   \n39  0 days 06:26:50.791000    Saturday       October    True        14   \n40  0 days 06:27:15.443000    Saturday       October    True        15   \n41  0 days 06:27:27.794000    Saturday       October    True        16   \n42  2 days 08:45:45.257000      Monday       October    True        17   \n43  2 days 08:47:19.731000      Monday       October    True        18   \n44  2 days 08:47:19.731000      Monday       October    True        19   \n45  2 days 08:47:21.613000      Monday       October    True        20   \n46  2 days 08:47:21.645000      Monday       October    True        21   \n47  2 days 08:47:21.941000      Monday       October    True        22   \n48  2 days 08:47:23.195000      Monday       October    True        23   \n49  2 days 08:47:36.792000      Monday       October    True        24   \n\n   Baseline Prediction for Next Activity  \\\n0                      A_PARTLYSUBMITTED   \n1                     W_Afhandelen leads   \n2                 W_Completeren aanvraag   \n3                 W_Completeren aanvraag   \n4                 W_Completeren aanvraag   \n5                             O_SELECTED   \n6                              O_CREATED   \n7                              O_CREATED   \n8                                 O_SENT   \n9                    W_Nabellen offertes   \n10                   W_Nabellen offertes   \n11                W_Completeren aanvraag   \n12                   W_Nabellen offertes   \n13                   W_Nabellen offertes   \n14                   W_Nabellen offertes   \n15                   W_Nabellen offertes   \n16                   W_Nabellen offertes   \n17                  W_Valideren aanvraag   \n18                  W_Valideren aanvraag   \n19                   W_Nabellen offertes   \n20                  W_Valideren aanvraag   \n21                            A_APPROVED   \n22                           A_ACTIVATED   \n23                          A_REGISTERED   \n24                          A_REGISTERED   \n25                  W_Valideren aanvraag   \n26                     A_PARTLYSUBMITTED   \n27                    W_Afhandelen leads   \n28                W_Completeren aanvraag   \n29                W_Completeren aanvraag   \n30                W_Completeren aanvraag   \n31                W_Completeren aanvraag   \n32                W_Completeren aanvraag   \n33                            O_SELECTED   \n34                             O_CREATED   \n35                             O_CREATED   \n36                                O_SENT   \n37                   W_Nabellen offertes   \n38                   W_Nabellen offertes   \n39                W_Completeren aanvraag   \n40                   W_Nabellen offertes   \n41                   W_Nabellen offertes   \n42                   W_Nabellen offertes   \n43                            O_SELECTED   \n44                             O_CREATED   \n45                                O_SENT   \n46                   W_Nabellen offertes   \n47                   W_Nabellen offertes   \n48                   W_Nabellen offertes   \n49                   W_Nabellen offertes   \n\n   Baseline Prediction for Next Timestamp  \n0           2011-10-01 00:38:45.128640462  \n1           2011-10-01 00:39:19.982779539  \n2           2011-10-01 00:39:38.408771753  \n3           2011-10-01 17:58:08.032379243  \n4           2011-10-02 04:55:15.594379243  \n5           2011-10-01 11:46:27.513278604  \n6           2011-10-01 11:45:11.557131461  \n7           2011-10-01 11:45:11.199693633  \n8           2011-10-01 11:45:11.257123109  \n9           2011-10-01 11:45:11.587961660  \n10          2011-10-02 18:43:57.249287283  \n11          2011-10-02 05:03:43.074379243  \n12          2011-10-02 19:14:26.985287283  \n13          2011-10-02 19:15:54.619287283  \n14          2011-10-09 23:25:43.415287283  \n15          2011-10-09 23:30:46.581287283  \n16          2011-10-11 18:31:08.190287283  \n17          2011-10-10 11:33:03.996141180  \n18          2011-10-10 13:52:11.053953974  \n19          2011-10-11 18:31:51.486287283  \n20          2011-10-13 12:24:33.418953974  \n21          2011-10-13 10:37:30.058150963  \n22          2011-10-13 10:37:31.753093532  \n23          2011-10-13 10:38:20.483649919  \n24          2011-10-13 10:37:32.371048128  \n25          2011-10-13 12:56:43.519953974  \n26          2011-10-01 08:08:58.838640462  \n27          2011-10-01 08:09:37.297779539  \n28          2011-10-01 08:09:57.150771753  \n29          2011-10-02 01:28:28.735379243  \n30          2011-10-02 04:56:01.550379243  \n31          2011-10-02 05:01:42.335379243  \n32          2011-10-02 07:46:26.932379243  \n33          2011-10-01 14:37:38.819278604  \n34          2011-10-01 14:35:47.972693633  \n35          2011-10-01 14:35:48.330131461  \n36          2011-10-01 14:35:47.548123109  \n37          2011-10-01 14:35:47.790961660  \n38          2011-10-02 21:34:33.377287283  \n39          2011-10-02 07:54:17.948379243  \n40          2011-10-02 21:34:59.138287283  \n41          2011-10-02 21:35:11.489287283  \n42          2011-10-04 23:53:28.952287283  \n43          2011-10-03 16:56:19.091857292  \n44          2011-10-03 16:56:19.687693633  \n45          2011-10-03 16:56:19.673123109  \n46          2011-10-03 16:56:19.852961660  \n47          2011-10-04 23:55:05.636287283  \n48          2011-10-04 23:55:06.890287283  \n49          2011-10-04 23:55:20.487287283  ",
      "text/html": "<div>\n<style scoped>\n    .dataframe tbody tr th:only-of-type {\n        vertical-align: middle;\n    }\n\n    .dataframe tbody tr th {\n        vertical-align: top;\n    }\n\n    .dataframe thead th {\n        text-align: right;\n    }\n</style>\n<table border=\"1\" class=\"dataframe\">\n  <thead>\n    <tr style=\"text-align: right;\">\n      <th></th>\n      <th>index</th>\n      <th>eventID</th>\n      <th>case concept:name</th>\n      <th>case REG_DATE</th>\n      <th>case AMOUNT_REQ</th>\n      <th>event concept:name</th>\n      <th>event lifecycle:transition</th>\n      <th>event time:timestamp</th>\n      <th>Time Since Registration</th>\n      <th>day_of_week</th>\n      <th>month_of_year</th>\n      <th>O_SENT</th>\n      <th>Position</th>\n      <th>Baseline Prediction for Next Activity</th>\n      <th>Baseline Prediction for Next Timestamp</th>\n    </tr>\n  </thead>\n  <tbody>\n    <tr>\n      <th>0</th>\n      <td>0</td>\n      <td>0</td>\n      <td>173688</td>\n      <td>2011-10-01 00:38:44</td>\n      <td>20000</td>\n      <td>A_SUBMITTED</td>\n      <td>COMPLETE</td>\n      <td>2011-10-01 00:38:44.546</td>\n      <td>0 days 00:00:00.546000</td>\n      <td>Saturday</td>\n      <td>October</td>\n      <td>False</td>\n      <td>1</td>\n      <td>A_PARTLYSUBMITTED</td>\n      <td>2011-10-01 00:38:45.128640462</td>\n    </tr>\n    <tr>\n      <th>1</th>\n      <td>1</td>\n      <td>1</td>\n      <td>173688</td>\n      <td>2011-10-01 00:38:44</td>\n      <td>20000</td>\n      <td>A_PARTLYSUBMITTED</td>\n      <td>COMPLETE</td>\n      <td>2011-10-01 00:38:44.880</td>\n      <td>0 days 00:00:00.880000</td>\n      <td>Saturday</td>\n      <td>October</td>\n      <td>False</td>\n      <td>2</td>\n      <td>W_Afhandelen leads</td>\n      <td>2011-10-01 00:39:19.982779539</td>\n    </tr>\n    <tr>\n      <th>2</th>\n      <td>2</td>\n      <td>2</td>\n      <td>173688</td>\n      <td>2011-10-01 00:38:44</td>\n      <td>20000</td>\n      <td>A_PREACCEPTED</td>\n      <td>COMPLETE</td>\n      <td>2011-10-01 00:39:37.906</td>\n      <td>0 days 00:00:53.906000</td>\n      <td>Saturday</td>\n      <td>October</td>\n      <td>False</td>\n      <td>3</td>\n      <td>W_Completeren aanvraag</td>\n      <td>2011-10-01 00:39:38.408771753</td>\n    </tr>\n    <tr>\n      <th>3</th>\n      <td>3</td>\n      <td>3</td>\n      <td>173688</td>\n      <td>2011-10-01 00:38:44</td>\n      <td>20000</td>\n      <td>W_Completeren aanvraag</td>\n      <td>SCHEDULE</td>\n      <td>2011-10-01 00:39:38.875</td>\n      <td>0 days 00:00:54.875000</td>\n      <td>Saturday</td>\n      <td>October</td>\n      <td>False</td>\n      <td>4</td>\n      <td>W_Completeren aanvraag</td>\n      <td>2011-10-01 17:58:08.032379243</td>\n    </tr>\n    <tr>\n      <th>4</th>\n      <td>89</td>\n      <td>4</td>\n      <td>173688</td>\n      <td>2011-10-01 00:38:44</td>\n      <td>20000</td>\n      <td>W_Completeren aanvraag</td>\n      <td>START</td>\n      <td>2011-10-01 11:36:46.437</td>\n      <td>0 days 10:58:02.437000</td>\n      <td>Saturday</td>\n      <td>October</td>\n      <td>False</td>\n      <td>5</td>\n      <td>W_Completeren aanvraag</td>\n      <td>2011-10-02 04:55:15.594379243</td>\n    </tr>\n    <tr>\n      <th>5</th>\n      <td>94</td>\n      <td>5</td>\n      <td>173688</td>\n      <td>2011-10-01 00:38:44</td>\n      <td>20000</td>\n      <td>A_ACCEPTED</td>\n      <td>COMPLETE</td>\n      <td>2011-10-01 11:42:43.308</td>\n      <td>0 days 11:03:59.308000</td>\n      <td>Saturday</td>\n      <td>October</td>\n      <td>False</td>\n      <td>6</td>\n      <td>O_SELECTED</td>\n      <td>2011-10-01 11:46:27.513278604</td>\n    </tr>\n    <tr>\n      <th>6</th>\n      <td>98</td>\n      <td>7</td>\n      <td>173688</td>\n      <td>2011-10-01 00:38:44</td>\n      <td>20000</td>\n      <td>A_FINALIZED</td>\n      <td>COMPLETE</td>\n      <td>2011-10-01 11:45:09.243</td>\n      <td>0 days 11:06:25.243000</td>\n      <td>Saturday</td>\n      <td>October</td>\n      <td>False</td>\n      <td>7</td>\n      <td>O_CREATED</td>\n      <td>2011-10-01 11:45:11.557131461</td>\n    </tr>\n    <tr>\n      <th>7</th>\n      <td>99</td>\n      <td>6</td>\n      <td>173688</td>\n      <td>2011-10-01 00:38:44</td>\n      <td>20000</td>\n      <td>O_SELECTED</td>\n      <td>COMPLETE</td>\n      <td>2011-10-01 11:45:09.243</td>\n      <td>0 days 11:06:25.243000</td>\n      <td>Saturday</td>\n      <td>October</td>\n      <td>False</td>\n      <td>8</td>\n      <td>O_CREATED</td>\n      <td>2011-10-01 11:45:11.199693633</td>\n    </tr>\n    <tr>\n      <th>8</th>\n      <td>100</td>\n      <td>8</td>\n      <td>173688</td>\n      <td>2011-10-01 00:38:44</td>\n      <td>20000</td>\n      <td>O_CREATED</td>\n      <td>COMPLETE</td>\n      <td>2011-10-01 11:45:11.197</td>\n      <td>0 days 11:06:27.197000</td>\n      <td>Saturday</td>\n      <td>October</td>\n      <td>False</td>\n      <td>9</td>\n      <td>O_SENT</td>\n      <td>2011-10-01 11:45:11.257123109</td>\n    </tr>\n    <tr>\n      <th>9</th>\n      <td>101</td>\n      <td>9</td>\n      <td>173688</td>\n      <td>2011-10-01 00:38:44</td>\n      <td>20000</td>\n      <td>O_SENT</td>\n      <td>COMPLETE</td>\n      <td>2011-10-01 11:45:11.380</td>\n      <td>0 days 11:06:27.380000</td>\n      <td>Saturday</td>\n      <td>October</td>\n      <td>True</td>\n      <td>10</td>\n      <td>W_Nabellen offertes</td>\n      <td>2011-10-01 11:45:11.587961660</td>\n    </tr>\n    <tr>\n      <th>10</th>\n      <td>102</td>\n      <td>10</td>\n      <td>173688</td>\n      <td>2011-10-01 00:38:44</td>\n      <td>20000</td>\n      <td>W_Nabellen offertes</td>\n      <td>SCHEDULE</td>\n      <td>2011-10-01 11:45:11.554</td>\n      <td>0 days 11:06:27.554000</td>\n      <td>Saturday</td>\n      <td>October</td>\n      <td>True</td>\n      <td>11</td>\n      <td>W_Nabellen offertes</td>\n      <td>2011-10-02 18:43:57.249287283</td>\n    </tr>\n    <tr>\n      <th>11</th>\n      <td>103</td>\n      <td>11</td>\n      <td>173688</td>\n      <td>2011-10-01 00:38:44</td>\n      <td>20000</td>\n      <td>W_Completeren aanvraag</td>\n      <td>COMPLETE</td>\n      <td>2011-10-01 11:45:13.917</td>\n      <td>0 days 11:06:29.917000</td>\n      <td>Saturday</td>\n      <td>October</td>\n      <td>True</td>\n      <td>12</td>\n      <td>W_Completeren aanvraag</td>\n      <td>2011-10-02 05:03:43.074379243</td>\n    </tr>\n    <tr>\n      <th>12</th>\n      <td>117</td>\n      <td>12</td>\n      <td>173688</td>\n      <td>2011-10-01 00:38:44</td>\n      <td>20000</td>\n      <td>W_Nabellen offertes</td>\n      <td>START</td>\n      <td>2011-10-01 12:15:41.290</td>\n      <td>0 days 11:36:57.290000</td>\n      <td>Saturday</td>\n      <td>October</td>\n      <td>True</td>\n      <td>13</td>\n      <td>W_Nabellen offertes</td>\n      <td>2011-10-02 19:14:26.985287283</td>\n    </tr>\n    <tr>\n      <th>13</th>\n      <td>118</td>\n      <td>13</td>\n      <td>173688</td>\n      <td>2011-10-01 00:38:44</td>\n      <td>20000</td>\n      <td>W_Nabellen offertes</td>\n      <td>COMPLETE</td>\n      <td>2011-10-01 12:17:08.924</td>\n      <td>0 days 11:38:24.924000</td>\n      <td>Saturday</td>\n      <td>October</td>\n      <td>True</td>\n      <td>14</td>\n      <td>W_Nabellen offertes</td>\n      <td>2011-10-02 19:15:54.619287283</td>\n    </tr>\n    <tr>\n      <th>14</th>\n      <td>7544</td>\n      <td>14</td>\n      <td>173688</td>\n      <td>2011-10-01 00:38:44</td>\n      <td>20000</td>\n      <td>W_Nabellen offertes</td>\n      <td>START</td>\n      <td>2011-10-08 16:26:57.720</td>\n      <td>7 days 15:48:13.720000</td>\n      <td>Saturday</td>\n      <td>October</td>\n      <td>True</td>\n      <td>15</td>\n      <td>W_Nabellen offertes</td>\n      <td>2011-10-09 23:25:43.415287283</td>\n    </tr>\n    <tr>\n      <th>15</th>\n      <td>7548</td>\n      <td>15</td>\n      <td>173688</td>\n      <td>2011-10-01 00:38:44</td>\n      <td>20000</td>\n      <td>W_Nabellen offertes</td>\n      <td>COMPLETE</td>\n      <td>2011-10-08 16:32:00.886</td>\n      <td>7 days 15:53:16.886000</td>\n      <td>Saturday</td>\n      <td>October</td>\n      <td>True</td>\n      <td>16</td>\n      <td>W_Nabellen offertes</td>\n      <td>2011-10-09 23:30:46.581287283</td>\n    </tr>\n    <tr>\n      <th>16</th>\n      <td>8237</td>\n      <td>16</td>\n      <td>173688</td>\n      <td>2011-10-01 00:38:44</td>\n      <td>20000</td>\n      <td>W_Nabellen offertes</td>\n      <td>START</td>\n      <td>2011-10-10 11:32:22.495</td>\n      <td>9 days 10:53:38.495000</td>\n      <td>Monday</td>\n      <td>October</td>\n      <td>True</td>\n      <td>17</td>\n      <td>W_Nabellen offertes</td>\n      <td>2011-10-11 18:31:08.190287283</td>\n    </tr>\n    <tr>\n      <th>17</th>\n      <td>8238</td>\n      <td>17</td>\n      <td>173688</td>\n      <td>2011-10-01 00:38:44</td>\n      <td>20000</td>\n      <td>O_SENT_BACK</td>\n      <td>COMPLETE</td>\n      <td>2011-10-10 11:33:03.668</td>\n      <td>9 days 10:54:19.668000</td>\n      <td>Monday</td>\n      <td>October</td>\n      <td>True</td>\n      <td>18</td>\n      <td>W_Valideren aanvraag</td>\n      <td>2011-10-10 11:33:03.996141180</td>\n    </tr>\n    <tr>\n      <th>18</th>\n      <td>8239</td>\n      <td>18</td>\n      <td>173688</td>\n      <td>2011-10-01 00:38:44</td>\n      <td>20000</td>\n      <td>W_Valideren aanvraag</td>\n      <td>SCHEDULE</td>\n      <td>2011-10-10 11:33:04.560</td>\n      <td>9 days 10:54:20.560000</td>\n      <td>Monday</td>\n      <td>October</td>\n      <td>True</td>\n      <td>19</td>\n      <td>W_Valideren aanvraag</td>\n      <td>2011-10-10 13:52:11.053953974</td>\n    </tr>\n    <tr>\n      <th>19</th>\n      <td>8240</td>\n      <td>19</td>\n      <td>173688</td>\n      <td>2011-10-01 00:38:44</td>\n      <td>20000</td>\n      <td>W_Nabellen offertes</td>\n      <td>COMPLETE</td>\n      <td>2011-10-10 11:33:05.791</td>\n      <td>9 days 10:54:21.791000</td>\n      <td>Monday</td>\n      <td>October</td>\n      <td>True</td>\n      <td>20</td>\n      <td>W_Nabellen offertes</td>\n      <td>2011-10-11 18:31:51.486287283</td>\n    </tr>\n    <tr>\n      <th>20</th>\n      <td>12358</td>\n      <td>20</td>\n      <td>173688</td>\n      <td>2011-10-01 00:38:44</td>\n      <td>20000</td>\n      <td>W_Valideren aanvraag</td>\n      <td>START</td>\n      <td>2011-10-13 10:05:26.925</td>\n      <td>12 days 09:26:42.925000</td>\n      <td>Thursday</td>\n      <td>October</td>\n      <td>True</td>\n      <td>21</td>\n      <td>W_Valideren aanvraag</td>\n      <td>2011-10-13 12:24:33.418953974</td>\n    </tr>\n    <tr>\n      <th>21</th>\n      <td>12413</td>\n      <td>23</td>\n      <td>173688</td>\n      <td>2011-10-01 00:38:44</td>\n      <td>20000</td>\n      <td>O_ACCEPTED</td>\n      <td>COMPLETE</td>\n      <td>2011-10-13 10:37:29.226</td>\n      <td>12 days 09:58:45.226000</td>\n      <td>Thursday</td>\n      <td>October</td>\n      <td>True</td>\n      <td>22</td>\n      <td>A_APPROVED</td>\n      <td>2011-10-13 10:37:30.058150963</td>\n    </tr>\n    <tr>\n      <th>22</th>\n      <td>12414</td>\n      <td>21</td>\n      <td>173688</td>\n      <td>2011-10-01 00:38:44</td>\n      <td>20000</td>\n      <td>A_REGISTERED</td>\n      <td>COMPLETE</td>\n      <td>2011-10-13 10:37:29.226</td>\n      <td>12 days 09:58:45.226000</td>\n      <td>Thursday</td>\n      <td>October</td>\n      <td>True</td>\n      <td>23</td>\n      <td>A_ACTIVATED</td>\n      <td>2011-10-13 10:37:31.753093532</td>\n    </tr>\n    <tr>\n      <th>23</th>\n      <td>12415</td>\n      <td>22</td>\n      <td>173688</td>\n      <td>2011-10-01 00:38:44</td>\n      <td>20000</td>\n      <td>A_APPROVED</td>\n      <td>COMPLETE</td>\n      <td>2011-10-13 10:37:29.226</td>\n      <td>12 days 09:58:45.226000</td>\n      <td>Thursday</td>\n      <td>October</td>\n      <td>True</td>\n      <td>24</td>\n      <td>A_REGISTERED</td>\n      <td>2011-10-13 10:38:20.483649919</td>\n    </tr>\n    <tr>\n      <th>24</th>\n      <td>12416</td>\n      <td>24</td>\n      <td>173688</td>\n      <td>2011-10-01 00:38:44</td>\n      <td>20000</td>\n      <td>A_ACTIVATED</td>\n      <td>COMPLETE</td>\n      <td>2011-10-13 10:37:29.226</td>\n      <td>12 days 09:58:45.226000</td>\n      <td>Thursday</td>\n      <td>October</td>\n      <td>True</td>\n      <td>25</td>\n      <td>A_REGISTERED</td>\n      <td>2011-10-13 10:37:32.371048128</td>\n    </tr>\n    <tr>\n      <th>25</th>\n      <td>12417</td>\n      <td>25</td>\n      <td>173688</td>\n      <td>2011-10-01 00:38:44</td>\n      <td>20000</td>\n      <td>W_Valideren aanvraag</td>\n      <td>COMPLETE</td>\n      <td>2011-10-13 10:37:37.026</td>\n      <td>12 days 09:58:53.026000</td>\n      <td>Thursday</td>\n      <td>October</td>\n      <td>True</td>\n      <td>26</td>\n      <td>W_Valideren aanvraag</td>\n      <td>2011-10-13 12:56:43.519953974</td>\n    </tr>\n    <tr>\n      <th>26</th>\n      <td>4</td>\n      <td>4294967296</td>\n      <td>173691</td>\n      <td>2011-10-01 08:08:58</td>\n      <td>5000</td>\n      <td>A_SUBMITTED</td>\n      <td>COMPLETE</td>\n      <td>2011-10-01 08:08:58.256</td>\n      <td>0 days 00:00:00.256000</td>\n      <td>Saturday</td>\n      <td>October</td>\n      <td>False</td>\n      <td>1</td>\n      <td>A_PARTLYSUBMITTED</td>\n      <td>2011-10-01 08:08:58.838640462</td>\n    </tr>\n    <tr>\n      <th>27</th>\n      <td>5</td>\n      <td>4294967297</td>\n      <td>173691</td>\n      <td>2011-10-01 08:08:58</td>\n      <td>5000</td>\n      <td>A_PARTLYSUBMITTED</td>\n      <td>COMPLETE</td>\n      <td>2011-10-01 08:09:02.195</td>\n      <td>0 days 00:00:04.195000</td>\n      <td>Saturday</td>\n      <td>October</td>\n      <td>False</td>\n      <td>2</td>\n      <td>W_Afhandelen leads</td>\n      <td>2011-10-01 08:09:37.297779539</td>\n    </tr>\n    <tr>\n      <th>28</th>\n      <td>6</td>\n      <td>4294967298</td>\n      <td>173691</td>\n      <td>2011-10-01 08:08:58</td>\n      <td>5000</td>\n      <td>A_PREACCEPTED</td>\n      <td>COMPLETE</td>\n      <td>2011-10-01 08:09:56.648</td>\n      <td>0 days 00:00:58.648000</td>\n      <td>Saturday</td>\n      <td>October</td>\n      <td>False</td>\n      <td>3</td>\n      <td>W_Completeren aanvraag</td>\n      <td>2011-10-01 08:09:57.150771753</td>\n    </tr>\n    <tr>\n      <th>29</th>\n      <td>7</td>\n      <td>4294967299</td>\n      <td>173691</td>\n      <td>2011-10-01 08:08:58</td>\n      <td>5000</td>\n      <td>W_Completeren aanvraag</td>\n      <td>SCHEDULE</td>\n      <td>2011-10-01 08:09:59.578</td>\n      <td>0 days 00:01:01.578000</td>\n      <td>Saturday</td>\n      <td>October</td>\n      <td>False</td>\n      <td>4</td>\n      <td>W_Completeren aanvraag</td>\n      <td>2011-10-02 01:28:28.735379243</td>\n    </tr>\n    <tr>\n      <th>30</th>\n      <td>90</td>\n      <td>4294967300</td>\n      <td>173691</td>\n      <td>2011-10-01 08:08:58</td>\n      <td>5000</td>\n      <td>W_Completeren aanvraag</td>\n      <td>START</td>\n      <td>2011-10-01 11:37:32.393</td>\n      <td>0 days 03:28:34.393000</td>\n      <td>Saturday</td>\n      <td>October</td>\n      <td>False</td>\n      <td>5</td>\n      <td>W_Completeren aanvraag</td>\n      <td>2011-10-02 04:56:01.550379243</td>\n    </tr>\n    <tr>\n      <th>31</th>\n      <td>96</td>\n      <td>4294967301</td>\n      <td>173691</td>\n      <td>2011-10-01 08:08:58</td>\n      <td>5000</td>\n      <td>W_Completeren aanvraag</td>\n      <td>COMPLETE</td>\n      <td>2011-10-01 11:43:13.178</td>\n      <td>0 days 03:34:15.178000</td>\n      <td>Saturday</td>\n      <td>October</td>\n      <td>False</td>\n      <td>6</td>\n      <td>W_Completeren aanvraag</td>\n      <td>2011-10-02 05:01:42.335379243</td>\n    </tr>\n    <tr>\n      <th>32</th>\n      <td>170</td>\n      <td>4294967302</td>\n      <td>173691</td>\n      <td>2011-10-01 08:08:58</td>\n      <td>5000</td>\n      <td>W_Completeren aanvraag</td>\n      <td>START</td>\n      <td>2011-10-01 14:27:57.775</td>\n      <td>0 days 06:18:59.775000</td>\n      <td>Saturday</td>\n      <td>October</td>\n      <td>False</td>\n      <td>7</td>\n      <td>W_Completeren aanvraag</td>\n      <td>2011-10-02 07:46:26.932379243</td>\n    </tr>\n    <tr>\n      <th>33</th>\n      <td>171</td>\n      <td>4294967303</td>\n      <td>173691</td>\n      <td>2011-10-01 08:08:58</td>\n      <td>5000</td>\n      <td>A_ACCEPTED</td>\n      <td>COMPLETE</td>\n      <td>2011-10-01 14:33:54.614</td>\n      <td>0 days 06:24:56.614000</td>\n      <td>Saturday</td>\n      <td>October</td>\n      <td>False</td>\n      <td>8</td>\n      <td>O_SELECTED</td>\n      <td>2011-10-01 14:37:38.819278604</td>\n    </tr>\n    <tr>\n      <th>34</th>\n      <td>172</td>\n      <td>4294967305</td>\n      <td>173691</td>\n      <td>2011-10-01 08:08:58</td>\n      <td>5000</td>\n      <td>O_SELECTED</td>\n      <td>COMPLETE</td>\n      <td>2011-10-01 14:35:46.016</td>\n      <td>0 days 06:26:48.016000</td>\n      <td>Saturday</td>\n      <td>October</td>\n      <td>False</td>\n      <td>9</td>\n      <td>O_CREATED</td>\n      <td>2011-10-01 14:35:47.972693633</td>\n    </tr>\n    <tr>\n      <th>35</th>\n      <td>173</td>\n      <td>4294967304</td>\n      <td>173691</td>\n      <td>2011-10-01 08:08:58</td>\n      <td>5000</td>\n      <td>A_FINALIZED</td>\n      <td>COMPLETE</td>\n      <td>2011-10-01 14:35:46.016</td>\n      <td>0 days 06:26:48.016000</td>\n      <td>Saturday</td>\n      <td>October</td>\n      <td>False</td>\n      <td>10</td>\n      <td>O_CREATED</td>\n      <td>2011-10-01 14:35:48.330131461</td>\n    </tr>\n    <tr>\n      <th>36</th>\n      <td>174</td>\n      <td>4294967306</td>\n      <td>173691</td>\n      <td>2011-10-01 08:08:58</td>\n      <td>5000</td>\n      <td>O_CREATED</td>\n      <td>COMPLETE</td>\n      <td>2011-10-01 14:35:47.488</td>\n      <td>0 days 06:26:49.488000</td>\n      <td>Saturday</td>\n      <td>October</td>\n      <td>False</td>\n      <td>11</td>\n      <td>O_SENT</td>\n      <td>2011-10-01 14:35:47.548123109</td>\n    </tr>\n    <tr>\n      <th>37</th>\n      <td>175</td>\n      <td>4294967307</td>\n      <td>173691</td>\n      <td>2011-10-01 08:08:58</td>\n      <td>5000</td>\n      <td>O_SENT</td>\n      <td>COMPLETE</td>\n      <td>2011-10-01 14:35:47.583</td>\n      <td>0 days 06:26:49.583000</td>\n      <td>Saturday</td>\n      <td>October</td>\n      <td>True</td>\n      <td>12</td>\n      <td>W_Nabellen offertes</td>\n      <td>2011-10-01 14:35:47.790961660</td>\n    </tr>\n    <tr>\n      <th>38</th>\n      <td>176</td>\n      <td>4294967308</td>\n      <td>173691</td>\n      <td>2011-10-01 08:08:58</td>\n      <td>5000</td>\n      <td>W_Nabellen offertes</td>\n      <td>SCHEDULE</td>\n      <td>2011-10-01 14:35:47.682</td>\n      <td>0 days 06:26:49.682000</td>\n      <td>Saturday</td>\n      <td>October</td>\n      <td>True</td>\n      <td>13</td>\n      <td>W_Nabellen offertes</td>\n      <td>2011-10-02 21:34:33.377287283</td>\n    </tr>\n    <tr>\n      <th>39</th>\n      <td>177</td>\n      <td>4294967309</td>\n      <td>173691</td>\n      <td>2011-10-01 08:08:58</td>\n      <td>5000</td>\n      <td>W_Completeren aanvraag</td>\n      <td>COMPLETE</td>\n      <td>2011-10-01 14:35:48.791</td>\n      <td>0 days 06:26:50.791000</td>\n      <td>Saturday</td>\n      <td>October</td>\n      <td>True</td>\n      <td>14</td>\n      <td>W_Completeren aanvraag</td>\n      <td>2011-10-02 07:54:17.948379243</td>\n    </tr>\n    <tr>\n      <th>40</th>\n      <td>178</td>\n      <td>4294967310</td>\n      <td>173691</td>\n      <td>2011-10-01 08:08:58</td>\n      <td>5000</td>\n      <td>W_Nabellen offertes</td>\n      <td>START</td>\n      <td>2011-10-01 14:36:13.443</td>\n      <td>0 days 06:27:15.443000</td>\n      <td>Saturday</td>\n      <td>October</td>\n      <td>True</td>\n      <td>15</td>\n      <td>W_Nabellen offertes</td>\n      <td>2011-10-02 21:34:59.138287283</td>\n    </tr>\n    <tr>\n      <th>41</th>\n      <td>179</td>\n      <td>4294967311</td>\n      <td>173691</td>\n      <td>2011-10-01 08:08:58</td>\n      <td>5000</td>\n      <td>W_Nabellen offertes</td>\n      <td>COMPLETE</td>\n      <td>2011-10-01 14:36:25.794</td>\n      <td>0 days 06:27:27.794000</td>\n      <td>Saturday</td>\n      <td>October</td>\n      <td>True</td>\n      <td>16</td>\n      <td>W_Nabellen offertes</td>\n      <td>2011-10-02 21:35:11.489287283</td>\n    </tr>\n    <tr>\n      <th>42</th>\n      <td>1524</td>\n      <td>4294967312</td>\n      <td>173691</td>\n      <td>2011-10-01 08:08:58</td>\n      <td>5000</td>\n      <td>W_Nabellen offertes</td>\n      <td>START</td>\n      <td>2011-10-03 16:54:43.257</td>\n      <td>2 days 08:45:45.257000</td>\n      <td>Monday</td>\n      <td>October</td>\n      <td>True</td>\n      <td>17</td>\n      <td>W_Nabellen offertes</td>\n      <td>2011-10-04 23:53:28.952287283</td>\n    </tr>\n    <tr>\n      <th>43</th>\n      <td>1525</td>\n      <td>4294967314</td>\n      <td>173691</td>\n      <td>2011-10-01 08:08:58</td>\n      <td>5000</td>\n      <td>O_CANCELLED</td>\n      <td>COMPLETE</td>\n      <td>2011-10-03 16:56:17.731</td>\n      <td>2 days 08:47:19.731000</td>\n      <td>Monday</td>\n      <td>October</td>\n      <td>True</td>\n      <td>18</td>\n      <td>O_SELECTED</td>\n      <td>2011-10-03 16:56:19.091857292</td>\n    </tr>\n    <tr>\n      <th>44</th>\n      <td>1526</td>\n      <td>4294967313</td>\n      <td>173691</td>\n      <td>2011-10-01 08:08:58</td>\n      <td>5000</td>\n      <td>O_SELECTED</td>\n      <td>COMPLETE</td>\n      <td>2011-10-03 16:56:17.731</td>\n      <td>2 days 08:47:19.731000</td>\n      <td>Monday</td>\n      <td>October</td>\n      <td>True</td>\n      <td>19</td>\n      <td>O_CREATED</td>\n      <td>2011-10-03 16:56:19.687693633</td>\n    </tr>\n    <tr>\n      <th>45</th>\n      <td>1527</td>\n      <td>4294967315</td>\n      <td>173691</td>\n      <td>2011-10-01 08:08:58</td>\n      <td>5000</td>\n      <td>O_CREATED</td>\n      <td>COMPLETE</td>\n      <td>2011-10-03 16:56:19.613</td>\n      <td>2 days 08:47:21.613000</td>\n      <td>Monday</td>\n      <td>October</td>\n      <td>True</td>\n      <td>20</td>\n      <td>O_SENT</td>\n      <td>2011-10-03 16:56:19.673123109</td>\n    </tr>\n    <tr>\n      <th>46</th>\n      <td>1528</td>\n      <td>4294967316</td>\n      <td>173691</td>\n      <td>2011-10-01 08:08:58</td>\n      <td>5000</td>\n      <td>O_SENT</td>\n      <td>COMPLETE</td>\n      <td>2011-10-03 16:56:19.645</td>\n      <td>2 days 08:47:21.645000</td>\n      <td>Monday</td>\n      <td>October</td>\n      <td>True</td>\n      <td>21</td>\n      <td>W_Nabellen offertes</td>\n      <td>2011-10-03 16:56:19.852961660</td>\n    </tr>\n    <tr>\n      <th>47</th>\n      <td>1529</td>\n      <td>4294967317</td>\n      <td>173691</td>\n      <td>2011-10-01 08:08:58</td>\n      <td>5000</td>\n      <td>W_Nabellen offertes</td>\n      <td>SCHEDULE</td>\n      <td>2011-10-03 16:56:19.941</td>\n      <td>2 days 08:47:21.941000</td>\n      <td>Monday</td>\n      <td>October</td>\n      <td>True</td>\n      <td>22</td>\n      <td>W_Nabellen offertes</td>\n      <td>2011-10-04 23:55:05.636287283</td>\n    </tr>\n    <tr>\n      <th>48</th>\n      <td>1530</td>\n      <td>4294967318</td>\n      <td>173691</td>\n      <td>2011-10-01 08:08:58</td>\n      <td>5000</td>\n      <td>W_Nabellen offertes</td>\n      <td>COMPLETE</td>\n      <td>2011-10-03 16:56:21.195</td>\n      <td>2 days 08:47:23.195000</td>\n      <td>Monday</td>\n      <td>October</td>\n      <td>True</td>\n      <td>23</td>\n      <td>W_Nabellen offertes</td>\n      <td>2011-10-04 23:55:06.890287283</td>\n    </tr>\n    <tr>\n      <th>49</th>\n      <td>1531</td>\n      <td>4294967319</td>\n      <td>173691</td>\n      <td>2011-10-01 08:08:58</td>\n      <td>5000</td>\n      <td>W_Nabellen offertes</td>\n      <td>START</td>\n      <td>2011-10-03 16:56:34.792</td>\n      <td>2 days 08:47:36.792000</td>\n      <td>Monday</td>\n      <td>October</td>\n      <td>True</td>\n      <td>24</td>\n      <td>W_Nabellen offertes</td>\n      <td>2011-10-04 23:55:20.487287283</td>\n    </tr>\n  </tbody>\n</table>\n</div>"
     },
     "execution_count": 30,
     "metadata": {},
     "output_type": "execute_result"
    }
   ],
   "source": [
    "df.head(50)"
   ],
   "metadata": {
    "collapsed": false,
    "pycharm": {
     "name": "#%%\n"
    }
   }
  },
  {
   "cell_type": "code",
   "execution_count": 14,
   "id": "8b99aeed",
   "metadata": {},
   "outputs": [],
   "source": [
    "# We add the predicted time duration until next event to the dataframe \n",
    "# df[position_next_timestamp_column] = [x + average_time_per_pos[y] for x,y in zip(df[timestamp_column], df[position_column])]\n",
    "\n",
    "# df[df[case_column] == 185548] # Note that the events of pos 173 and 174 happen at the exact same timestamp!"
   ]
  },
  {
   "cell_type": "code",
   "execution_count": 15,
   "id": "f7c40668",
   "metadata": {},
   "outputs": [],
   "source": [
    "# list of unique events in the data\n",
    "unique_events = df[event_column].unique()\n",
    "\n",
    "# dictionary to store the most common (mode) event following the key event\n",
    "dict_common_next_event = {event: df[(df[case_column].shift(periods=-1) == df[case_column]) & (df[event_column].shift(periods=1) == event)][event_column].mode()[0] for event in unique_events}\n",
    "\n",
    "#dict_common_next_event"
   ]
  },
  {
   "cell_type": "code",
   "execution_count": 16,
   "id": "7688074a",
   "metadata": {},
   "outputs": [],
   "source": [
    "# test = pd.Series([\"test1\", \"test1\", \"test2\", \"test2\"])\n",
    "# test.mode()[0]"
   ]
  },
  {
   "cell_type": "code",
   "execution_count": 17,
   "id": "55009a89",
   "metadata": {},
   "outputs": [],
   "source": [
    "# We apply the dictionary to the dataset to get the baseline event prediction\n",
    "df[baseline_next_event_column] = [(dict_common_next_event[event] if (event in dict_common_next_event) else \"-\") for event in df[event_column]]\n",
    "\n",
    "#df[df[case_column] == 185548]"
   ]
  },
  {
   "cell_type": "code",
   "execution_count": 18,
   "id": "e8040088",
   "metadata": {},
   "outputs": [],
   "source": [
    "# dictionary to store the average time for each event\n",
    "dict_time_per_event = {event: replacenat(shifted_deltatimes[df[event_column] == event].mean()) for event in unique_events}\n",
    "\n",
    "dict_hours_per_event = {event: (dict_time_per_event[event].total_seconds()/(60*60)) for event in unique_events}\n",
    "\n",
    "#dict_time_per_event\n",
    "\n",
    "# plt.bar(hours_per_event.keys(), hours_per_event.values())\n",
    "# plt.show()"
   ]
  },
  {
   "cell_type": "code",
   "execution_count": 19,
   "id": "e1b5da18",
   "metadata": {},
   "outputs": [
    {
     "data": {
      "text/plain": "        index        eventID   case concept:name       case REG_DATE  \\\n78435   64935  16333760626688             185548 2011-11-15 13:42:45   \n78436   64936  16333760626689             185548 2011-11-15 13:42:45   \n78437   64938  16333760626690             185548 2011-11-15 13:42:45   \n78438   64939  16333760626691             185548 2011-11-15 13:42:45   \n78439   64989  16333760626692             185548 2011-11-15 13:42:45   \n...       ...             ...                ...                 ...   \n78605  165456  16333760626858             185548 2011-11-15 13:42:45   \n78606  165539  16333760626859             185548 2011-11-15 13:42:45   \n78607  165555  16333760626861             185548 2011-11-15 13:42:45   \n78608  165556  16333760626860             185548 2011-11-15 13:42:45   \n78609  165557  16333760626862             185548 2011-11-15 13:42:45   \n\n       case AMOUNT_REQ              event concept:name  \\\n78435            20000                     A_SUBMITTED   \n78436            20000               A_PARTLYSUBMITTED   \n78437            20000                   A_PREACCEPTED   \n78438            20000          W_Completeren aanvraag   \n78439            20000          W_Completeren aanvraag   \n...                ...                             ...   \n78605            20000  W_Nabellen incomplete dossiers   \n78606            20000  W_Nabellen incomplete dossiers   \n78607            20000                     O_CANCELLED   \n78608            20000                     A_CANCELLED   \n78609            20000  W_Nabellen incomplete dossiers   \n\n      event lifecycle:transition    event time:timestamp  \\\n78435                   COMPLETE 2011-11-15 13:42:45.593   \n78436                   COMPLETE 2011-11-15 13:42:45.889   \n78437                   COMPLETE 2011-11-15 13:43:31.963   \n78438                   SCHEDULE 2011-11-15 13:43:32.557   \n78439                      START 2011-11-15 13:59:33.696   \n...                          ...                     ...   \n78605                   COMPLETE 2012-01-17 10:54:42.893   \n78606                      START 2012-01-17 11:20:51.763   \n78607                   COMPLETE 2012-01-17 11:25:56.714   \n78608                   COMPLETE 2012-01-17 11:25:56.714   \n78609                   COMPLETE 2012-01-17 11:26:00.120   \n\n      Time Since Registration day_of_week month_of_year  O_SENT  Position  \\\n78435  0 days 00:00:00.593000     Tuesday      November   False         1   \n78436  0 days 00:00:00.889000     Tuesday      November   False         2   \n78437  0 days 00:00:46.963000     Tuesday      November   False         3   \n78438  0 days 00:00:47.557000     Tuesday      November   False         4   \n78439  0 days 00:16:48.696000     Tuesday      November   False         5   \n...                       ...         ...           ...     ...       ...   \n78605 62 days 21:11:57.893000     Tuesday       January    True       171   \n78606 62 days 21:38:06.763000     Tuesday       January    True       172   \n78607 62 days 21:43:11.714000     Tuesday       January    True       173   \n78608 62 days 21:43:11.714000     Tuesday       January    True       174   \n78609 62 days 21:43:15.120000     Tuesday       January    True       175   \n\n      Baseline Prediction for Next Activity  \\\n78435                     A_PARTLYSUBMITTED   \n78436                    W_Afhandelen leads   \n78437                W_Completeren aanvraag   \n78438                W_Completeren aanvraag   \n78439                W_Completeren aanvraag   \n...                                     ...   \n78605        W_Nabellen incomplete dossiers   \n78606        W_Nabellen incomplete dossiers   \n78607                            O_SELECTED   \n78608                           A_SUBMITTED   \n78609        W_Nabellen incomplete dossiers   \n\n      Baseline Prediction for Next Timestamp  \n78435          2011-11-15 13:42:46.175640462  \n78436          2011-11-15 13:43:20.991779539  \n78437          2011-11-15 13:43:32.465771753  \n78438          2011-11-16 07:02:01.714379243  \n78439          2011-11-16 07:18:02.853379243  \n...                                      ...  \n78605          2012-01-17 18:08:57.358645946  \n78606          2012-01-17 18:35:06.228645946  \n78607          2012-01-17 11:25:58.074857292  \n78608          2012-01-17 11:28:58.061432222  \n78609          2012-01-17 18:40:14.585645946  \n\n[175 rows x 15 columns]",
      "text/html": "<div>\n<style scoped>\n    .dataframe tbody tr th:only-of-type {\n        vertical-align: middle;\n    }\n\n    .dataframe tbody tr th {\n        vertical-align: top;\n    }\n\n    .dataframe thead th {\n        text-align: right;\n    }\n</style>\n<table border=\"1\" class=\"dataframe\">\n  <thead>\n    <tr style=\"text-align: right;\">\n      <th></th>\n      <th>index</th>\n      <th>eventID</th>\n      <th>case concept:name</th>\n      <th>case REG_DATE</th>\n      <th>case AMOUNT_REQ</th>\n      <th>event concept:name</th>\n      <th>event lifecycle:transition</th>\n      <th>event time:timestamp</th>\n      <th>Time Since Registration</th>\n      <th>day_of_week</th>\n      <th>month_of_year</th>\n      <th>O_SENT</th>\n      <th>Position</th>\n      <th>Baseline Prediction for Next Activity</th>\n      <th>Baseline Prediction for Next Timestamp</th>\n    </tr>\n  </thead>\n  <tbody>\n    <tr>\n      <th>78435</th>\n      <td>64935</td>\n      <td>16333760626688</td>\n      <td>185548</td>\n      <td>2011-11-15 13:42:45</td>\n      <td>20000</td>\n      <td>A_SUBMITTED</td>\n      <td>COMPLETE</td>\n      <td>2011-11-15 13:42:45.593</td>\n      <td>0 days 00:00:00.593000</td>\n      <td>Tuesday</td>\n      <td>November</td>\n      <td>False</td>\n      <td>1</td>\n      <td>A_PARTLYSUBMITTED</td>\n      <td>2011-11-15 13:42:46.175640462</td>\n    </tr>\n    <tr>\n      <th>78436</th>\n      <td>64936</td>\n      <td>16333760626689</td>\n      <td>185548</td>\n      <td>2011-11-15 13:42:45</td>\n      <td>20000</td>\n      <td>A_PARTLYSUBMITTED</td>\n      <td>COMPLETE</td>\n      <td>2011-11-15 13:42:45.889</td>\n      <td>0 days 00:00:00.889000</td>\n      <td>Tuesday</td>\n      <td>November</td>\n      <td>False</td>\n      <td>2</td>\n      <td>W_Afhandelen leads</td>\n      <td>2011-11-15 13:43:20.991779539</td>\n    </tr>\n    <tr>\n      <th>78437</th>\n      <td>64938</td>\n      <td>16333760626690</td>\n      <td>185548</td>\n      <td>2011-11-15 13:42:45</td>\n      <td>20000</td>\n      <td>A_PREACCEPTED</td>\n      <td>COMPLETE</td>\n      <td>2011-11-15 13:43:31.963</td>\n      <td>0 days 00:00:46.963000</td>\n      <td>Tuesday</td>\n      <td>November</td>\n      <td>False</td>\n      <td>3</td>\n      <td>W_Completeren aanvraag</td>\n      <td>2011-11-15 13:43:32.465771753</td>\n    </tr>\n    <tr>\n      <th>78438</th>\n      <td>64939</td>\n      <td>16333760626691</td>\n      <td>185548</td>\n      <td>2011-11-15 13:42:45</td>\n      <td>20000</td>\n      <td>W_Completeren aanvraag</td>\n      <td>SCHEDULE</td>\n      <td>2011-11-15 13:43:32.557</td>\n      <td>0 days 00:00:47.557000</td>\n      <td>Tuesday</td>\n      <td>November</td>\n      <td>False</td>\n      <td>4</td>\n      <td>W_Completeren aanvraag</td>\n      <td>2011-11-16 07:02:01.714379243</td>\n    </tr>\n    <tr>\n      <th>78439</th>\n      <td>64989</td>\n      <td>16333760626692</td>\n      <td>185548</td>\n      <td>2011-11-15 13:42:45</td>\n      <td>20000</td>\n      <td>W_Completeren aanvraag</td>\n      <td>START</td>\n      <td>2011-11-15 13:59:33.696</td>\n      <td>0 days 00:16:48.696000</td>\n      <td>Tuesday</td>\n      <td>November</td>\n      <td>False</td>\n      <td>5</td>\n      <td>W_Completeren aanvraag</td>\n      <td>2011-11-16 07:18:02.853379243</td>\n    </tr>\n    <tr>\n      <th>...</th>\n      <td>...</td>\n      <td>...</td>\n      <td>...</td>\n      <td>...</td>\n      <td>...</td>\n      <td>...</td>\n      <td>...</td>\n      <td>...</td>\n      <td>...</td>\n      <td>...</td>\n      <td>...</td>\n      <td>...</td>\n      <td>...</td>\n      <td>...</td>\n      <td>...</td>\n    </tr>\n    <tr>\n      <th>78605</th>\n      <td>165456</td>\n      <td>16333760626858</td>\n      <td>185548</td>\n      <td>2011-11-15 13:42:45</td>\n      <td>20000</td>\n      <td>W_Nabellen incomplete dossiers</td>\n      <td>COMPLETE</td>\n      <td>2012-01-17 10:54:42.893</td>\n      <td>62 days 21:11:57.893000</td>\n      <td>Tuesday</td>\n      <td>January</td>\n      <td>True</td>\n      <td>171</td>\n      <td>W_Nabellen incomplete dossiers</td>\n      <td>2012-01-17 18:08:57.358645946</td>\n    </tr>\n    <tr>\n      <th>78606</th>\n      <td>165539</td>\n      <td>16333760626859</td>\n      <td>185548</td>\n      <td>2011-11-15 13:42:45</td>\n      <td>20000</td>\n      <td>W_Nabellen incomplete dossiers</td>\n      <td>START</td>\n      <td>2012-01-17 11:20:51.763</td>\n      <td>62 days 21:38:06.763000</td>\n      <td>Tuesday</td>\n      <td>January</td>\n      <td>True</td>\n      <td>172</td>\n      <td>W_Nabellen incomplete dossiers</td>\n      <td>2012-01-17 18:35:06.228645946</td>\n    </tr>\n    <tr>\n      <th>78607</th>\n      <td>165555</td>\n      <td>16333760626861</td>\n      <td>185548</td>\n      <td>2011-11-15 13:42:45</td>\n      <td>20000</td>\n      <td>O_CANCELLED</td>\n      <td>COMPLETE</td>\n      <td>2012-01-17 11:25:56.714</td>\n      <td>62 days 21:43:11.714000</td>\n      <td>Tuesday</td>\n      <td>January</td>\n      <td>True</td>\n      <td>173</td>\n      <td>O_SELECTED</td>\n      <td>2012-01-17 11:25:58.074857292</td>\n    </tr>\n    <tr>\n      <th>78608</th>\n      <td>165556</td>\n      <td>16333760626860</td>\n      <td>185548</td>\n      <td>2011-11-15 13:42:45</td>\n      <td>20000</td>\n      <td>A_CANCELLED</td>\n      <td>COMPLETE</td>\n      <td>2012-01-17 11:25:56.714</td>\n      <td>62 days 21:43:11.714000</td>\n      <td>Tuesday</td>\n      <td>January</td>\n      <td>True</td>\n      <td>174</td>\n      <td>A_SUBMITTED</td>\n      <td>2012-01-17 11:28:58.061432222</td>\n    </tr>\n    <tr>\n      <th>78609</th>\n      <td>165557</td>\n      <td>16333760626862</td>\n      <td>185548</td>\n      <td>2011-11-15 13:42:45</td>\n      <td>20000</td>\n      <td>W_Nabellen incomplete dossiers</td>\n      <td>COMPLETE</td>\n      <td>2012-01-17 11:26:00.120</td>\n      <td>62 days 21:43:15.120000</td>\n      <td>Tuesday</td>\n      <td>January</td>\n      <td>True</td>\n      <td>175</td>\n      <td>W_Nabellen incomplete dossiers</td>\n      <td>2012-01-17 18:40:14.585645946</td>\n    </tr>\n  </tbody>\n</table>\n<p>175 rows × 15 columns</p>\n</div>"
     },
     "execution_count": 19,
     "metadata": {},
     "output_type": "execute_result"
    }
   ],
   "source": [
    "# apply the average time to the dataframe to get the baseline time prediction\n",
    "df[baseline_next_timestamp_column] = [(time + dict_time_per_event[event] if (event in dict_time_per_event) else time) for event,time in zip(df[event_column], df[timestamp_column])]\n",
    "\n",
    "df[df[case_column] == 185548]"
   ]
  },
  {
   "cell_type": "code",
   "execution_count": 20,
   "id": "c7df6e14",
   "metadata": {},
   "outputs": [
    {
     "data": {
      "text/plain": "{'A_SUBMITTED': 0,\n 'A_PARTLYSUBMITTED': 0,\n 'A_PREACCEPTED': 0,\n 'W_Completeren aanvraag': 1545,\n 'A_ACCEPTED': 0,\n 'A_FINALIZED': 0,\n 'O_SELECTED': 0,\n 'O_CREATED': 0,\n 'O_SENT': 0,\n 'W_Nabellen offertes': 1067,\n 'O_SENT_BACK': 0,\n 'W_Valideren aanvraag': 1618,\n 'O_ACCEPTED': 0,\n 'A_REGISTERED': 0,\n 'A_APPROVED': 0,\n 'A_ACTIVATED': 1,\n 'O_CANCELLED': 141,\n 'W_Wijzigen contractgegevens': 2,\n 'A_DECLINED': 2323,\n 'A_CANCELLED': 359,\n 'W_Afhandelen leads': 1622,\n 'O_DECLINED': 0,\n 'W_Nabellen incomplete dossiers': 249,\n 'W_Beoordelen fraude': 44}"
     },
     "execution_count": 20,
     "metadata": {},
     "output_type": "execute_result"
    }
   ],
   "source": [
    "def getNumberOfActiveEvents(timestamp):\n",
    "    assert isinstance(timestamp, pd.Timestamp)\n",
    "    df_previousevents = df[df[timestamp_column] <= timestamp]\n",
    "    df_lastrowofcase = df_previousevents[(df_previousevents[position_column].diff()!=1).shift(periods=-1, fill_value=True)]\n",
    "    return {event: len(df_lastrowofcase[df_lastrowofcase[event_column] == event]) for event in unique_events}\n",
    "\n",
    "getNumberOfActiveEvents(pd.Timestamp(\"2012-01-17 11:20:51.763\"))"
   ]
  },
  {
   "cell_type": "code",
   "execution_count": 21,
   "id": "b9b35766",
   "metadata": {},
   "outputs": [],
   "source": [
    "# We create a list containing all unique combinations of position numbers and events that exist in the data\n",
    "\n",
    "# unique_pos_event = list({(pos,event) for event,pos in zip(df[event_column],df[position_column])})\n",
    "\n",
    "# len(unique_pos_event)"
   ]
  },
  {
   "cell_type": "code",
   "execution_count": 22,
   "id": "3cb7a00f",
   "metadata": {},
   "outputs": [],
   "source": [
    "# We create dictionary that takes into account the most recent event AND the position in the trace to give the most likely next event\n",
    "\n",
    "# The mode() function can return an empty series if the input is empty, then we should output \"-\"\n",
    "def get_first_mode(srs):\n",
    "    if (len(srs)>0):\n",
    "        return srs[0]\n",
    "    return \"-\"\n",
    "\n",
    "# pos_event_prediction = {(pos,event): get_first_mode(df[event_column][(df[event_column].shift() == event) & (df[position_column] == pos+1)].mode()) for pos,event in unique_pos_event}\n",
    "\n",
    "#pos_event_prediction#[(\"A_PARTLYSUBMITTED\", 2)]"
   ]
  },
  {
   "cell_type": "code",
   "execution_count": 23,
   "id": "077c1773",
   "metadata": {},
   "outputs": [],
   "source": [
    "# We add the predicted next event as a new column to the dataframe\n",
    "# df[pos_event_next_event_column] = [pos_event_prediction[(pos, event)] for pos,event in zip(df[position_column], df[event_column])]\n",
    "#df[df[case_column] == 185548]"
   ]
  },
  {
   "cell_type": "code",
   "execution_count": 24,
   "id": "ec1bf71d",
   "metadata": {},
   "outputs": [],
   "source": [
    "# We calculate the average time-difference between the next event and the current time for every pair of position\n",
    "\n",
    "# pos_event_timedelta = {(pos,event): replacenat(shifted_deltatimes[(df[position_column]==pos)&(df[event_column]==event)].mean()) for pos,event in unique_pos_event}\n",
    "\n",
    "#pos_event_timedelta"
   ]
  },
  {
   "cell_type": "code",
   "execution_count": 25,
   "id": "f8b05ce2",
   "metadata": {},
   "outputs": [],
   "source": [
    "# We add the predicted next timestamp as a new column to the dataframe\n",
    "# df[pos_event_next_timestamp_column] = [time+pos_event_timedelta[(pos,event)] for pos,event,time in zip(df[position_column], df[event_column], df[timestamp_column])]\n",
    "# df[df[case_column] == 185548]"
   ]
  },
  {
   "cell_type": "code",
   "execution_count": 26,
   "metadata": {
    "collapsed": false,
    "pycharm": {
     "name": "#%%\n"
    }
   },
   "outputs": [],
   "source": [
    "# Applying the baseline predictions to the test dataset\n",
    "df_test[baseline_next_event_column] = [(dict_common_next_event[event] if (event in dict_common_next_event) else \"-\") for event in df_test[event_column]]\n",
    "df_test[baseline_next_timestamp_column] = [(time + dict_time_per_event[event] if (event in dict_time_per_event) else time) for event,time in zip(df_test[event_column], df_test[timestamp_column])]\n"
   ]
  },
  {
   "cell_type": "code",
   "execution_count": 27,
   "id": "4a908f0d",
   "metadata": {},
   "outputs": [
    {
     "data": {
      "text/plain": "(64.9130980638327, 64.06370976661874)"
     },
     "execution_count": 27,
     "metadata": {},
     "output_type": "execute_result"
    }
   ],
   "source": [
    "# Accuracy % of event predictions:\n",
    "\n",
    "training_event_accuracy = len(df[(df[baseline_next_event_column].shift(periods=1)==df[event_column]) & (df[case_column].shift(periods=1) == df[case_column])]) * 100 / len(df[df[case_column].shift(periods=1) == df[case_column]])\n",
    "\n",
    "test_event_accuracy = len(df_test[(df_test[baseline_next_event_column].shift(periods=1)==df_test[event_column]) & (df_test[case_column].shift(periods=1) == df_test[case_column])]) * 100 / len(df_test[df_test[case_column].shift(periods=1) == df_test[case_column]])\n",
    "\n",
    "training_event_accuracy, test_event_accuracy"
   ]
  },
  {
   "cell_type": "code",
   "execution_count": 28,
   "id": "e2b7593d",
   "metadata": {},
   "outputs": [
    {
     "data": {
      "text/plain": "(Timedelta('0 days 16:20:59.739888261'),\n Timedelta('0 days 14:43:13.416911984'))"
     },
     "execution_count": 28,
     "metadata": {},
     "output_type": "execute_result"
    }
   ],
   "source": [
    "# Mean Absolute Error of time predictions:\n",
    "\n",
    "training_time_MAE = abs(df[timestamp_column] - df[baseline_next_timestamp_column].shift(periods=1))[df[case_column].shift(periods=1) == df[case_column]].mean()\n",
    "\n",
    "test_time_MAE = abs(df_test[timestamp_column] - df_test[baseline_next_timestamp_column].shift(periods=1))[df_test[case_column].shift(periods=1) == df_test[case_column]].mean()\n",
    "\n",
    "training_time_MAE, test_time_MAE"
   ]
  },
  {
   "cell_type": "code",
   "execution_count": 28,
   "metadata": {
    "collapsed": false,
    "pycharm": {
     "name": "#%%\n"
    }
   },
   "outputs": [],
   "source": []
  }
 ],
 "metadata": {
  "kernelspec": {
   "display_name": "Python 3",
   "language": "python",
   "name": "python3"
  },
  "language_info": {
   "codemirror_mode": {
    "name": "ipython",
    "version": 3
   },
   "file_extension": ".py",
   "mimetype": "text/x-python",
   "name": "python",
   "nbconvert_exporter": "python",
   "pygments_lexer": "ipython3",
   "version": "3.9.7"
  }
 },
 "nbformat": 4,
 "nbformat_minor": 5
}