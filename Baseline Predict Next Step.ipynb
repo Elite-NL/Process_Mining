{
 "cells": [
  {
   "cell_type": "code",
   "execution_count": 1,
   "id": "dd6b3e86",
   "metadata": {},
   "outputs": [],
   "source": [
    "# imports\n",
    "import pandas as pd\n",
    "import statistics\n",
    "import numpy as np"
   ]
  },
  {
   "cell_type": "code",
   "execution_count": 2,
   "id": "61ff5bcf",
   "metadata": {},
   "outputs": [
    {
     "data": {
      "text/plain": [
       "Index(['eventID ', 'case concept:name', 'case REG_DATE', 'case AMOUNT_REQ',\n",
       "       'event concept:name', 'event lifecycle:transition',\n",
       "       'event time:timestamp'],\n",
       "      dtype='object')"
      ]
     },
     "execution_count": 2,
     "metadata": {},
     "output_type": "execute_result"
    }
   ],
   "source": [
    "# read the data (2012)\n",
    "df = pd.read_csv('DATA/BPI_Challenge_2012-training.csv')\n",
    "df.columns\n",
    "\n",
    "# read the data (2017)\n",
    "# df = pd.read_csv('DATA/BPI Challenge 2017-training.csv')\n",
    "# df.columns\n",
    "\n",
    "# read the data (2018)\n",
    "# df = pd.read_csv('DATA/BPI Challenge 2018-training.csv')\n",
    "# df.columns\n",
    "\n",
    "# read the data (road traffic fines)\n",
    "# df = pd.read_csv('DATA/Road_Traffic_Fine_Management_Process-training.csv')\n",
    "# df.columns\n"
   ]
  },
  {
   "cell_type": "code",
   "execution_count": 3,
   "id": "be75b2a8",
   "metadata": {},
   "outputs": [],
   "source": [
    "df = df.sort_values(by=['case concept:name', 'event time:timestamp'])  # sort values by user and time of event\n",
    "df = df.reset_index()\n",
    "df['step number'] = np.nan  # add a new column for the number of the event in the process"
   ]
  },
  {
   "cell_type": "code",
   "execution_count": 4,
   "id": "308f1028",
   "metadata": {},
   "outputs": [
    {
     "name": "stderr",
     "output_type": "stream",
     "text": [
      "<ipython-input-4-bbb91029e447>:14: SettingWithCopyWarning: \n",
      "A value is trying to be set on a copy of a slice from a DataFrame\n",
      "\n",
      "See the caveats in the documentation: https://pandas.pydata.org/pandas-docs/stable/user_guide/indexing.html#returning-a-view-versus-a-copy\n",
      "  df['step number'][row] = step_number\n"
     ]
    }
   ],
   "source": [
    "# create the list lenght_process that stores the lenght of all processes (for all users)\n",
    "# fill in the column created earlier that shows which step is a certain event in the process (the first event is 1)\n",
    "lenght_process = []\n",
    "step_number = 0\n",
    "for row in df.index:\n",
    "    if row == 0:\n",
    "        step_number = 1\n",
    "    else:\n",
    "        if df['case concept:name'][row] == df['case concept:name'][row - 1]:\n",
    "            step_number += 1\n",
    "        else:\n",
    "            lenght_process.append(step_number)\n",
    "            step_number = 1\n",
    "    df['step number'][row] = step_number"
   ]
  },
  {
   "cell_type": "code",
   "execution_count": 5,
   "id": "e3c5bd9d",
   "metadata": {},
   "outputs": [
    {
     "name": "stdout",
     "output_type": "stream",
     "text": [
      "Mean: 20.478983568972104\n",
      "Mode: 3\n",
      "Median: 11.0\n",
      "Max: 175\n",
      "Min: 3\n"
     ]
    }
   ],
   "source": [
    "# here you can see different statistics about the process lenght\n",
    "print(f'Mean: {statistics.mean(lenght_process)}')\n",
    "print(f'Mode: {statistics.mode(lenght_process)}')\n",
    "print(f'Median: {statistics.median(lenght_process)}')\n",
    "print(f'Max: {max(lenght_process)}') # this is df[df['case concept:name'] == 185548]\n",
    "print(f'Min: {min(lenght_process)}')"
   ]
  },
  {
   "cell_type": "code",
   "execution_count": 6,
   "id": "59d0f143",
   "metadata": {},
   "outputs": [],
   "source": [
    "# make a function that determines the most common value in a list\n",
    "def most_common(lst):\n",
    "    return max(set(lst), key = lst.count)"
   ]
  },
  {
   "cell_type": "code",
   "execution_count": 7,
   "id": "4ce783b4",
   "metadata": {},
   "outputs": [],
   "source": [
    "# the list prediction_step stores the most common value for each step\n",
    "# for example, the most common activity for step 1 is prediction_step[0]; prediction for step n is prediction_step[n-1]\n",
    "prediction_step = []\n",
    "for i in range(1, max(lenght_process) + 1):\n",
    "    prediction_step.append(most_common([df['event concept:name'][row] for row in df[df['step number'] == i].index]))"
   ]
  }
 ],
 "metadata": {
  "kernelspec": {
   "display_name": "Python 3",
   "language": "python",
   "name": "python3"
  },
  "language_info": {
   "codemirror_mode": {
    "name": "ipython",
    "version": 3
   },
   "file_extension": ".py",
   "mimetype": "text/x-python",
   "name": "python",
   "nbconvert_exporter": "python",
   "pygments_lexer": "ipython3",
   "version": "3.8.8"
  }
 },
 "nbformat": 4,
 "nbformat_minor": 5
}
