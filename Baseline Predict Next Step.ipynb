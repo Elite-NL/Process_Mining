{
 "cells": [
  {
   "cell_type": "code",
   "execution_count": 2,
   "id": "dd6b3e86",
   "metadata": {},
   "outputs": [],
   "source": [
    "# imports\n",
    "import pandas as pd\n",
    "import statistics\n",
    "import numpy as np\n",
    "from datetime import datetime\n",
    "import re"
   ]
  },
  {
   "cell_type": "code",
   "execution_count": 13,
   "id": "61ff5bcf",
   "metadata": {},
   "outputs": [
    {
     "data": {
      "text/plain": "     eventID   case concept:name                  case REG_DATE  \\\n0           0             173688  2011-10-01T00:38:44.546+02:00   \n1           1             173688  2011-10-01T00:38:44.546+02:00   \n2           2             173688  2011-10-01T00:38:44.546+02:00   \n3           3             173688  2011-10-01T00:38:44.546+02:00   \n4  4294967296             173691  2011-10-01T08:08:58.256+02:00   \n5  4294967297             173691  2011-10-01T08:08:58.256+02:00   \n6  4294967298             173691  2011-10-01T08:08:58.256+02:00   \n7  4294967299             173691  2011-10-01T08:08:58.256+02:00   \n8  8589934592             173694  2011-10-01T08:10:30.287+02:00   \n9  8589934593             173694  2011-10-01T08:10:30.287+02:00   \n\n   case AMOUNT_REQ      event concept:name event lifecycle:transition  \\\n0            20000             A_SUBMITTED                   COMPLETE   \n1            20000       A_PARTLYSUBMITTED                   COMPLETE   \n2            20000           A_PREACCEPTED                   COMPLETE   \n3            20000  W_Completeren aanvraag                   SCHEDULE   \n4             5000             A_SUBMITTED                   COMPLETE   \n5             5000       A_PARTLYSUBMITTED                   COMPLETE   \n6             5000           A_PREACCEPTED                   COMPLETE   \n7             5000  W_Completeren aanvraag                   SCHEDULE   \n8             7000             A_SUBMITTED                   COMPLETE   \n9             7000       A_PARTLYSUBMITTED                   COMPLETE   \n\n      event time:timestamp  \n0  01-10-2011 00:38:44.546  \n1  01-10-2011 00:38:44.880  \n2  01-10-2011 00:39:37.906  \n3  01-10-2011 00:39:38.875  \n4  01-10-2011 08:08:58.256  \n5  01-10-2011 08:09:02.195  \n6  01-10-2011 08:09:56.648  \n7  01-10-2011 08:09:59.578  \n8  01-10-2011 08:10:30.287  \n9  01-10-2011 08:10:30.591  ",
      "text/html": "<div>\n<style scoped>\n    .dataframe tbody tr th:only-of-type {\n        vertical-align: middle;\n    }\n\n    .dataframe tbody tr th {\n        vertical-align: top;\n    }\n\n    .dataframe thead th {\n        text-align: right;\n    }\n</style>\n<table border=\"1\" class=\"dataframe\">\n  <thead>\n    <tr style=\"text-align: right;\">\n      <th></th>\n      <th>eventID</th>\n      <th>case concept:name</th>\n      <th>case REG_DATE</th>\n      <th>case AMOUNT_REQ</th>\n      <th>event concept:name</th>\n      <th>event lifecycle:transition</th>\n      <th>event time:timestamp</th>\n    </tr>\n  </thead>\n  <tbody>\n    <tr>\n      <th>0</th>\n      <td>0</td>\n      <td>173688</td>\n      <td>2011-10-01T00:38:44.546+02:00</td>\n      <td>20000</td>\n      <td>A_SUBMITTED</td>\n      <td>COMPLETE</td>\n      <td>01-10-2011 00:38:44.546</td>\n    </tr>\n    <tr>\n      <th>1</th>\n      <td>1</td>\n      <td>173688</td>\n      <td>2011-10-01T00:38:44.546+02:00</td>\n      <td>20000</td>\n      <td>A_PARTLYSUBMITTED</td>\n      <td>COMPLETE</td>\n      <td>01-10-2011 00:38:44.880</td>\n    </tr>\n    <tr>\n      <th>2</th>\n      <td>2</td>\n      <td>173688</td>\n      <td>2011-10-01T00:38:44.546+02:00</td>\n      <td>20000</td>\n      <td>A_PREACCEPTED</td>\n      <td>COMPLETE</td>\n      <td>01-10-2011 00:39:37.906</td>\n    </tr>\n    <tr>\n      <th>3</th>\n      <td>3</td>\n      <td>173688</td>\n      <td>2011-10-01T00:38:44.546+02:00</td>\n      <td>20000</td>\n      <td>W_Completeren aanvraag</td>\n      <td>SCHEDULE</td>\n      <td>01-10-2011 00:39:38.875</td>\n    </tr>\n    <tr>\n      <th>4</th>\n      <td>4294967296</td>\n      <td>173691</td>\n      <td>2011-10-01T08:08:58.256+02:00</td>\n      <td>5000</td>\n      <td>A_SUBMITTED</td>\n      <td>COMPLETE</td>\n      <td>01-10-2011 08:08:58.256</td>\n    </tr>\n    <tr>\n      <th>5</th>\n      <td>4294967297</td>\n      <td>173691</td>\n      <td>2011-10-01T08:08:58.256+02:00</td>\n      <td>5000</td>\n      <td>A_PARTLYSUBMITTED</td>\n      <td>COMPLETE</td>\n      <td>01-10-2011 08:09:02.195</td>\n    </tr>\n    <tr>\n      <th>6</th>\n      <td>4294967298</td>\n      <td>173691</td>\n      <td>2011-10-01T08:08:58.256+02:00</td>\n      <td>5000</td>\n      <td>A_PREACCEPTED</td>\n      <td>COMPLETE</td>\n      <td>01-10-2011 08:09:56.648</td>\n    </tr>\n    <tr>\n      <th>7</th>\n      <td>4294967299</td>\n      <td>173691</td>\n      <td>2011-10-01T08:08:58.256+02:00</td>\n      <td>5000</td>\n      <td>W_Completeren aanvraag</td>\n      <td>SCHEDULE</td>\n      <td>01-10-2011 08:09:59.578</td>\n    </tr>\n    <tr>\n      <th>8</th>\n      <td>8589934592</td>\n      <td>173694</td>\n      <td>2011-10-01T08:10:30.287+02:00</td>\n      <td>7000</td>\n      <td>A_SUBMITTED</td>\n      <td>COMPLETE</td>\n      <td>01-10-2011 08:10:30.287</td>\n    </tr>\n    <tr>\n      <th>9</th>\n      <td>8589934593</td>\n      <td>173694</td>\n      <td>2011-10-01T08:10:30.287+02:00</td>\n      <td>7000</td>\n      <td>A_PARTLYSUBMITTED</td>\n      <td>COMPLETE</td>\n      <td>01-10-2011 08:10:30.591</td>\n    </tr>\n  </tbody>\n</table>\n</div>"
     },
     "execution_count": 13,
     "metadata": {},
     "output_type": "execute_result"
    }
   ],
   "source": [
    "# read the data (2012)\n",
    "df = pd.read_csv('data/BPI_Challenge_2012-training.csv')\n",
    "\n",
    "# read the data (2017)\n",
    "# df = pd.read_csv('data/BPI Challenge 2017-training.csv')\n",
    "\n",
    "# read the data (2018)\n",
    "# df = pd.read_csv('data/BPI Challenge 2018-training.csv')\n",
    "\n",
    "# read the data (road traffic fines)\n",
    "# df = pd.read_csv('data/Road_Traffic_Fine_Management_Process-training.csv')\n",
    "\n",
    "df.head(10)\n"
   ]
  },
  {
   "cell_type": "code",
   "execution_count": 35,
   "id": "5985b84a",
   "metadata": {},
   "outputs": [],
   "source": [
    "# Defining some variables\n",
    "case_column = \"case concept:name\"\n",
    "registration_time_column = \"case REG_DATE\"\n",
    "event_column = \"event concept:name\"\n",
    "timestamp_column = \"event time:timestamp\"\n",
    "position_column = \"Position\"\n",
    "predicted_next_event_column = \"Prediction for Next Activity\"\n",
    "predicted_next_timestamp_column = \"Prediction for Next Timestamp\"\n",
    "time_since_registration_column = \"Time Since Registration\"\n",
    "offer_sent = 'O_SENT' # the name a of a sent offer state within event_column"
   ]
  },
  {
   "cell_type": "code",
   "execution_count": 15,
   "id": "be75b2a8",
   "metadata": {},
   "outputs": [
    {
     "name": "stdout",
     "output_type": "stream",
     "text": [
      "<class 'pandas.core.frame.DataFrame'>\n",
      "RangeIndex: 214377 entries, 0 to 214376\n",
      "Data columns (total 9 columns):\n",
      " #   Column                      Non-Null Count   Dtype         \n",
      "---  ------                      --------------   -----         \n",
      " 0   index                       214377 non-null  int64         \n",
      " 1   eventID                     214377 non-null  int64         \n",
      " 2   case concept:name           214377 non-null  int64         \n",
      " 3   case REG_DATE               214377 non-null  object        \n",
      " 4   case AMOUNT_REQ             214377 non-null  int64         \n",
      " 5   event concept:name          214377 non-null  object        \n",
      " 6   event lifecycle:transition  214377 non-null  object        \n",
      " 7   event time:timestamp        214377 non-null  datetime64[ns]\n",
      " 8   Position                    214377 non-null  int64         \n",
      "dtypes: datetime64[ns](1), int64(5), object(3)\n",
      "memory usage: 14.7+ MB\n"
     ]
    }
   ],
   "source": [
    "timeformat_registration = \"%Y-%m-%dT%H:%M:%S\" # new time format\n",
    "timeformat_timestamp = \"%d-%m-%Y %H:%M:%S.%f\"\n",
    "df[registration_time_column]= [re.sub('\\..*|\\+.*','',a,flags=re.DOTALL) for a in df[registration_time_column]]\n",
    "df[registration_time_column] = [datetime.strptime(date, timeformat_registration) for date in df[registration_time_column]]\n",
    "df[timestamp_column] = [datetime.strptime(date, timeformat_timestamp) for date in df[timestamp_column]]\n",
    "df[time_since_registration_column] = df[timestamp_column] - df[registration_time_column]\n",
    "df = df.sort_values(by=[case_column, timestamp_column])  # sort values by user and time of event\n",
    "df = df.reset_index()\n",
    "df[position_column] = 1  # add a new column for the number of the event in the process\n",
    "df.info()"
   ]
  },
  {
   "cell_type": "code",
   "execution_count": 16,
   "outputs": [
    {
     "data": {
      "text/plain": "         index        eventID   case concept:name  \\\n0            0               0             173688   \n1            1               1             173688   \n2            2               2             173688   \n3            3               3             173688   \n4           89               4             173688   \n...        ...             ...                ...   \n214372  199718  44955422687236             206318   \n214373  199719  44955422687237             206318   \n214374  199654  44959717654528             206321   \n214375  199655  44959717654529             206321   \n214376  199657  44959717654530             206321   \n\n                        case REG_DATE  case AMOUNT_REQ  \\\n0       2011-10-01T00:38:44.546+02:00            20000   \n1       2011-10-01T00:38:44.546+02:00            20000   \n2       2011-10-01T00:38:44.546+02:00            20000   \n3       2011-10-01T00:38:44.546+02:00            20000   \n4       2011-10-01T00:38:44.546+02:00            20000   \n...                               ...              ...   \n214372  2012-02-03T17:07:38.334+01:00             5000   \n214373  2012-02-03T17:07:38.334+01:00             5000   \n214374  2012-02-03T17:08:39.199+01:00             2000   \n214375  2012-02-03T17:08:39.199+01:00             2000   \n214376  2012-02-03T17:08:39.199+01:00             2000   \n\n            event concept:name event lifecycle:transition  \\\n0                  A_SUBMITTED                   COMPLETE   \n1            A_PARTLYSUBMITTED                   COMPLETE   \n2                A_PREACCEPTED                   COMPLETE   \n3       W_Completeren aanvraag                   SCHEDULE   \n4       W_Completeren aanvraag                      START   \n...                        ...                        ...   \n214372              A_DECLINED                   COMPLETE   \n214373      W_Afhandelen leads                   COMPLETE   \n214374             A_SUBMITTED                   COMPLETE   \n214375       A_PARTLYSUBMITTED                   COMPLETE   \n214376              A_DECLINED                   COMPLETE   \n\n          event time:timestamp  Position day_of_week month_of_year  \n0      2011-01-10 00:38:44.546         1      Monday       January  \n1      2011-01-10 00:38:44.880         1      Monday       January  \n2      2011-01-10 00:39:37.906         1      Monday       January  \n3      2011-01-10 00:39:38.875         1      Monday       January  \n4      2011-01-10 11:36:46.437         1      Monday       January  \n...                        ...       ...         ...           ...  \n214372 2012-03-02 17:55:57.294         1      Friday         March  \n214373 2012-03-02 17:56:00.998         1      Friday         March  \n214374 2012-03-02 17:08:39.200         1      Friday         March  \n214375 2012-03-02 17:08:39.459         1      Friday         March  \n214376 2012-03-02 17:09:19.112         1      Friday         March  \n\n[214377 rows x 11 columns]",
      "text/html": "<div>\n<style scoped>\n    .dataframe tbody tr th:only-of-type {\n        vertical-align: middle;\n    }\n\n    .dataframe tbody tr th {\n        vertical-align: top;\n    }\n\n    .dataframe thead th {\n        text-align: right;\n    }\n</style>\n<table border=\"1\" class=\"dataframe\">\n  <thead>\n    <tr style=\"text-align: right;\">\n      <th></th>\n      <th>index</th>\n      <th>eventID</th>\n      <th>case concept:name</th>\n      <th>case REG_DATE</th>\n      <th>case AMOUNT_REQ</th>\n      <th>event concept:name</th>\n      <th>event lifecycle:transition</th>\n      <th>event time:timestamp</th>\n      <th>Position</th>\n      <th>day_of_week</th>\n      <th>month_of_year</th>\n    </tr>\n  </thead>\n  <tbody>\n    <tr>\n      <th>0</th>\n      <td>0</td>\n      <td>0</td>\n      <td>173688</td>\n      <td>2011-10-01T00:38:44.546+02:00</td>\n      <td>20000</td>\n      <td>A_SUBMITTED</td>\n      <td>COMPLETE</td>\n      <td>2011-01-10 00:38:44.546</td>\n      <td>1</td>\n      <td>Monday</td>\n      <td>January</td>\n    </tr>\n    <tr>\n      <th>1</th>\n      <td>1</td>\n      <td>1</td>\n      <td>173688</td>\n      <td>2011-10-01T00:38:44.546+02:00</td>\n      <td>20000</td>\n      <td>A_PARTLYSUBMITTED</td>\n      <td>COMPLETE</td>\n      <td>2011-01-10 00:38:44.880</td>\n      <td>1</td>\n      <td>Monday</td>\n      <td>January</td>\n    </tr>\n    <tr>\n      <th>2</th>\n      <td>2</td>\n      <td>2</td>\n      <td>173688</td>\n      <td>2011-10-01T00:38:44.546+02:00</td>\n      <td>20000</td>\n      <td>A_PREACCEPTED</td>\n      <td>COMPLETE</td>\n      <td>2011-01-10 00:39:37.906</td>\n      <td>1</td>\n      <td>Monday</td>\n      <td>January</td>\n    </tr>\n    <tr>\n      <th>3</th>\n      <td>3</td>\n      <td>3</td>\n      <td>173688</td>\n      <td>2011-10-01T00:38:44.546+02:00</td>\n      <td>20000</td>\n      <td>W_Completeren aanvraag</td>\n      <td>SCHEDULE</td>\n      <td>2011-01-10 00:39:38.875</td>\n      <td>1</td>\n      <td>Monday</td>\n      <td>January</td>\n    </tr>\n    <tr>\n      <th>4</th>\n      <td>89</td>\n      <td>4</td>\n      <td>173688</td>\n      <td>2011-10-01T00:38:44.546+02:00</td>\n      <td>20000</td>\n      <td>W_Completeren aanvraag</td>\n      <td>START</td>\n      <td>2011-01-10 11:36:46.437</td>\n      <td>1</td>\n      <td>Monday</td>\n      <td>January</td>\n    </tr>\n    <tr>\n      <th>...</th>\n      <td>...</td>\n      <td>...</td>\n      <td>...</td>\n      <td>...</td>\n      <td>...</td>\n      <td>...</td>\n      <td>...</td>\n      <td>...</td>\n      <td>...</td>\n      <td>...</td>\n      <td>...</td>\n    </tr>\n    <tr>\n      <th>214372</th>\n      <td>199718</td>\n      <td>44955422687236</td>\n      <td>206318</td>\n      <td>2012-02-03T17:07:38.334+01:00</td>\n      <td>5000</td>\n      <td>A_DECLINED</td>\n      <td>COMPLETE</td>\n      <td>2012-03-02 17:55:57.294</td>\n      <td>1</td>\n      <td>Friday</td>\n      <td>March</td>\n    </tr>\n    <tr>\n      <th>214373</th>\n      <td>199719</td>\n      <td>44955422687237</td>\n      <td>206318</td>\n      <td>2012-02-03T17:07:38.334+01:00</td>\n      <td>5000</td>\n      <td>W_Afhandelen leads</td>\n      <td>COMPLETE</td>\n      <td>2012-03-02 17:56:00.998</td>\n      <td>1</td>\n      <td>Friday</td>\n      <td>March</td>\n    </tr>\n    <tr>\n      <th>214374</th>\n      <td>199654</td>\n      <td>44959717654528</td>\n      <td>206321</td>\n      <td>2012-02-03T17:08:39.199+01:00</td>\n      <td>2000</td>\n      <td>A_SUBMITTED</td>\n      <td>COMPLETE</td>\n      <td>2012-03-02 17:08:39.200</td>\n      <td>1</td>\n      <td>Friday</td>\n      <td>March</td>\n    </tr>\n    <tr>\n      <th>214375</th>\n      <td>199655</td>\n      <td>44959717654529</td>\n      <td>206321</td>\n      <td>2012-02-03T17:08:39.199+01:00</td>\n      <td>2000</td>\n      <td>A_PARTLYSUBMITTED</td>\n      <td>COMPLETE</td>\n      <td>2012-03-02 17:08:39.459</td>\n      <td>1</td>\n      <td>Friday</td>\n      <td>March</td>\n    </tr>\n    <tr>\n      <th>214376</th>\n      <td>199657</td>\n      <td>44959717654530</td>\n      <td>206321</td>\n      <td>2012-02-03T17:08:39.199+01:00</td>\n      <td>2000</td>\n      <td>A_DECLINED</td>\n      <td>COMPLETE</td>\n      <td>2012-03-02 17:09:19.112</td>\n      <td>1</td>\n      <td>Friday</td>\n      <td>March</td>\n    </tr>\n  </tbody>\n</table>\n<p>214377 rows × 11 columns</p>\n</div>"
     },
     "execution_count": 16,
     "metadata": {},
     "output_type": "execute_result"
    }
   ],
   "source": [
    "# adding the day of the week and month of the year columns\n",
    "\n",
    "df['day_of_week'] = df[timestamp_column].dt.day_name()\n",
    "df['month_of_year'] = df[timestamp_column].dt.month_name()"
   ],
   "metadata": {
    "collapsed": false,
    "pycharm": {
     "name": "#%%\n"
    }
   }
  },
  {
   "cell_type": "code",
   "execution_count": 56,
   "outputs": [
    {
     "data": {
      "text/plain": "      case concept:name    event time:timestamp\n0                173688 2011-01-10 11:45:11.380\n1                173691 2011-01-10 14:35:47.583\n2                173691 2011-03-10 16:56:19.645\n3                173694 2011-03-10 13:40:15.651\n4                173694 2011-03-10 13:44:19.719\n...                 ...                     ...\n5681             206294 2012-06-02 12:43:44.029\n5682             206297 2012-03-02 16:21:35.592\n5683             206300 2012-03-02 16:20:50.869\n5684             206309 2012-03-02 16:48:07.350\n5685             206315 2012-04-02 11:26:19.372\n\n[5686 rows x 2 columns]",
      "text/html": "<div>\n<style scoped>\n    .dataframe tbody tr th:only-of-type {\n        vertical-align: middle;\n    }\n\n    .dataframe tbody tr th {\n        vertical-align: top;\n    }\n\n    .dataframe thead th {\n        text-align: right;\n    }\n</style>\n<table border=\"1\" class=\"dataframe\">\n  <thead>\n    <tr style=\"text-align: right;\">\n      <th></th>\n      <th>case concept:name</th>\n      <th>event time:timestamp</th>\n    </tr>\n  </thead>\n  <tbody>\n    <tr>\n      <th>0</th>\n      <td>173688</td>\n      <td>2011-01-10 11:45:11.380</td>\n    </tr>\n    <tr>\n      <th>1</th>\n      <td>173691</td>\n      <td>2011-01-10 14:35:47.583</td>\n    </tr>\n    <tr>\n      <th>2</th>\n      <td>173691</td>\n      <td>2011-03-10 16:56:19.645</td>\n    </tr>\n    <tr>\n      <th>3</th>\n      <td>173694</td>\n      <td>2011-03-10 13:40:15.651</td>\n    </tr>\n    <tr>\n      <th>4</th>\n      <td>173694</td>\n      <td>2011-03-10 13:44:19.719</td>\n    </tr>\n    <tr>\n      <th>...</th>\n      <td>...</td>\n      <td>...</td>\n    </tr>\n    <tr>\n      <th>5681</th>\n      <td>206294</td>\n      <td>2012-06-02 12:43:44.029</td>\n    </tr>\n    <tr>\n      <th>5682</th>\n      <td>206297</td>\n      <td>2012-03-02 16:21:35.592</td>\n    </tr>\n    <tr>\n      <th>5683</th>\n      <td>206300</td>\n      <td>2012-03-02 16:20:50.869</td>\n    </tr>\n    <tr>\n      <th>5684</th>\n      <td>206309</td>\n      <td>2012-03-02 16:48:07.350</td>\n    </tr>\n    <tr>\n      <th>5685</th>\n      <td>206315</td>\n      <td>2012-04-02 11:26:19.372</td>\n    </tr>\n  </tbody>\n</table>\n<p>5686 rows × 2 columns</p>\n</div>"
     },
     "execution_count": 56,
     "metadata": {},
     "output_type": "execute_result"
    }
   ],
   "source": [
    "# creating a dataframe containing the name and time of a case at the time it was pre-accepted\n",
    "offer_sent_mask = df[event_column] == offer_sent\n",
    "case_check = df[offer_sent_mask][[case_column,timestamp_column]].reset_index(drop=True)\n",
    "case_check"
   ],
   "metadata": {
    "collapsed": false,
    "pycharm": {
     "name": "#%%\n"
    }
   }
  },
  {
   "cell_type": "code",
   "execution_count": null,
   "outputs": [],
   "source": [
    "# create a dictionary lenght_process that stores the lenght of all processes indexed by the case number\n",
    "# fill in the column created earlier that shows which position is a certain event in the process (the first event is 1)\n",
    "\n",
    "df[position_column] = df.groupby([case_column]).cumcount()+1\n",
    "\n",
    "lenght_process = df.groupby([case_column]).size().to_dict()\n",
    "#lenght_process\n",
    "\n",
    "df[df[case_column] == 173688]"
   ],
   "metadata": {
    "collapsed": false,
    "pycharm": {
     "name": "#%%\n"
    }
   }
  },
  {
   "cell_type": "code",
   "execution_count": null,
   "id": "e3c5bd9d",
   "metadata": {},
   "outputs": [],
   "source": [
    "# here you can see different statistics about the process lenght\n",
    "print(f'Mean: {statistics.mean(lenght_process.values())}')\n",
    "print(f'Mode: {statistics.mode(lenght_process.values())}')\n",
    "print(f'Median: {statistics.median(lenght_process.values())}')\n",
    "print(f'Max: {max(lenght_process.values())}') # this is df[df['case concept:name'] == 185548]\n",
    "print(f'Min: {min(lenght_process.values())}')"
   ]
  },
  {
   "cell_type": "code",
   "execution_count": null,
   "id": "59d0f143",
   "metadata": {},
   "outputs": [],
   "source": [
    "# make a function that determines the most common value in a list\n",
    "def most_common(list):\n",
    "    return max(set(list), key = list.count)"
   ]
  },
  {
   "cell_type": "code",
   "execution_count": null,
   "id": "4ce783b4",
   "metadata": {},
   "outputs": [],
   "source": [
    "# the list prediction_step stores the most common event for each position\n",
    "# for example, the most common activity for position 1 is prediction_step[0]; prediction for position n is prediction_step[n-1]\n",
    "prediction_step = []\n",
    "for i in range(1, max(lenght_process.values()) + 1):\n",
    "    prediction_step.append(most_common([df[event_column][row] for row in df[df[position_column] == i].index]))\n",
    "#prediction_step"
   ]
  },
  {
   "cell_type": "code",
   "execution_count": null,
   "id": "1354f315",
   "metadata": {},
   "outputs": [],
   "source": [
    "# We add the predicted next event to the dataframe\n",
    "\n",
    "df[predicted_next_event_column] = df[position_column].apply(lambda x: prediction_step[x - 1]) \n",
    "#df[df[case_column] == 173688]"
   ]
  },
  {
   "cell_type": "code",
   "execution_count": null,
   "id": "7dc7fb01",
   "metadata": {},
   "outputs": [],
   "source": [
    "df[timestamp_column][0]"
   ]
  },
  {
   "cell_type": "code",
   "execution_count": null,
   "id": "ac80cbf9",
   "metadata": {},
   "outputs": [],
   "source": [
    "average_time_per_pos = {}\n",
    "number_of_adds = {}\n",
    "for i in range(1, max(lenght_process.values()) + 1):\n",
    "    average_time_per_pos[i] = pd.Timedelta(0)\n",
    "    number_of_adds[i] = 0\n",
    "\n",
    "for row in df.index:\n",
    "    if ((row+1) < len(df) and df[case_column][row] == df[case_column][row+1]):\n",
    "        average_time_per_pos[df[position_column][row]] += (df[timestamp_column][row+1] - df[timestamp_column][row])\n",
    "        number_of_adds[df[position_column][row]] += 1\n",
    "\n",
    "average_time_per_pos = {x: (average_time_per_pos[x] / number_of_adds[x] if number_of_adds[x]!=0 else pd.Timedelta(0)) for x in average_time_per_pos.keys() & number_of_adds}\n",
    "#average_time_per_pos"
   ]
  },
  {
   "cell_type": "code",
   "execution_count": null,
   "id": "cbdf94d8",
   "metadata": {},
   "outputs": [],
   "source": [
    "# We create a dictionary to store the average time duration until the next event\n",
    "# For example the average time duration between position n and n+1 is average_time_per_pos[n]\n",
    "# The dataframe must be sorted on case-number and timestamp for this calculation!\n",
    "\n",
    "average_time_per_pos = {}\n",
    "number_of_adds = {}\n",
    "for i in range(1, max(lenght_process.values()) + 1):\n",
    "    average_time_per_pos[i] = pd.Timedelta(0)\n",
    "    number_of_adds[i] = 0\n",
    "\n",
    "for row in df.index:\n",
    "    if ((row+1) < len(df) and df[case_column][row] == df[case_column][row+1]):\n",
    "        average_time_per_pos[df[position_column][row]] += (df[timestamp_column][row+1] - df[timestamp_column][row])\n",
    "        number_of_adds[df[position_column][row]] += 1\n",
    "\n",
    "average_time_per_pos = {x: (average_time_per_pos[x] / number_of_adds[x] if number_of_adds[x]!=0 else pd.Timedelta(0)) for x in average_time_per_pos.keys() & number_of_adds}\n",
    "#average_time_per_pos"
   ]
  },
  {
   "cell_type": "code",
   "execution_count": null,
   "id": "8b99aeed",
   "metadata": {},
   "outputs": [],
   "source": [
    "# We add the predicted time duration until next event to the dataframe\n",
    "\n",
    "def next_timestamp(x):\n",
    "    return (x[timestamp_column] + average_time_per_pos[x[position_column]]) if (average_time_per_pos[x[position_column]] != pd.Timedelta(0)) else \"-\"\n",
    "df[predicted_next_timestamp_column] = df.apply(next_timestamp, axis=1)\n",
    "df[df[case_column] == 173688]"
   ]
  },
  {
   "cell_type": "code",
   "execution_count": null,
   "id": "7a8322a0",
   "metadata": {},
   "outputs": [],
   "source": [
    "df[df[predicted_next_timestamp_column] == \"-\"]"
   ]
  }
 ],
 "metadata": {
  "kernelspec": {
   "display_name": "Python 3",
   "language": "python",
   "name": "python3"
  },
  "language_info": {
   "codemirror_mode": {
    "name": "ipython",
    "version": 3
   },
   "file_extension": ".py",
   "mimetype": "text/x-python",
   "name": "python",
   "nbconvert_exporter": "python",
   "pygments_lexer": "ipython3",
   "version": "3.7.6"
  }
 },
 "nbformat": 4,
 "nbformat_minor": 5
}