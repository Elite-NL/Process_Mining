{
 "cells": [
  {
   "cell_type": "code",
   "execution_count": 1,
   "metadata": {
    "collapsed": true
   },
   "outputs": [],
   "source": [
    "### IMPORT PACKAGES ###\n",
    "\n",
    "import pandas as pd\n",
    "import numpy as np\n",
    "\n",
    "import plotly\n",
    "import plotly.express as px\n",
    "import plotly.graph_objects as go"
   ]
  },
  {
   "cell_type": "code",
   "execution_count": 2,
   "outputs": [
    {
     "name": "stdout",
     "output_type": "stream",
     "text": [
      "   case concept:name      event concept:name     event time:timestamp\n",
      "0             173688             A_SUBMITTED  01-10-2011 00:38:44.546\n",
      "1             173688       A_PARTLYSUBMITTED  01-10-2011 00:38:44.880\n",
      "2             173688           A_PREACCEPTED  01-10-2011 00:39:37.906\n",
      "3             173688  W_Completeren aanvraag  01-10-2011 00:39:38.875\n",
      "4             173691             A_SUBMITTED  01-10-2011 08:08:58.256\n"
     ]
    }
   ],
   "source": [
    "### IMPORT THE DATA ###\n",
    "df = pd.read_csv('data/BPI_Challenge_2012-training.csv')\n",
    "\n",
    "# select columns of interest\n",
    "instance_ID = \"case concept:name\"\n",
    "event_ID = \"event concept:name\"\n",
    "timestamp = \"event time:timestamp\"\n",
    "additionalInfo = []\n",
    "\n",
    "# variables\n",
    "timestampFormat = \"%d-%m-%Y %H:%M:%S.%f\"\n",
    "weight_newtimePassed = 0.1\n",
    "\n",
    "# make a list of the columns you need\n",
    "columns = [instance_ID, event_ID, timestamp]\n",
    "columns.extend(additionalInfo)\n",
    "\n",
    "# you can get rid of all the other columns, to make things faster\n",
    "dataset = df[columns]\n",
    "\n",
    "print(dataset.head())"
   ],
   "metadata": {
    "collapsed": false,
    "pycharm": {
     "name": "#%%\n"
    }
   }
  },
  {
   "cell_type": "code",
   "execution_count": 3,
   "outputs": [
    {
     "name": "stderr",
     "output_type": "stream",
     "text": [
      "C:\\Users\\20182960\\AppData\\Local\\Continuum\\anaconda3\\lib\\site-packages\\pandas\\core\\indexing.py:1773: SettingWithCopyWarning: \n",
      "A value is trying to be set on a copy of a slice from a DataFrame.\n",
      "Try using .loc[row_indexer,col_indexer] = value instead\n",
      "\n",
      "See the caveats in the documentation: https://pandas.pydata.org/pandas-docs/stable/user_guide/indexing.html#returning-a-view-versus-a-copy\n",
      "  self._setitem_single_column(ilocs[0], value, pi)\n"
     ]
    }
   ],
   "source": [
    "### ON THE FLY ###\n",
    "# This has two practical implications that we should be aware of\n",
    "# 1) You can't preprocess the data, when a new event comes in, you have to be able to process it on the spot\n",
    "# 2) You don't have any historical data, so your predictions can only rely on the things you have seen before\n",
    "\n",
    "# This means that the data needs to be sorted on timestamp\n",
    "# you need to first convert to a datetime, because otherwise you'll sort the strings\n",
    "# and since the day of the month is the first part of the string, you will first get all firsts of all months, etc.\n",
    "dataset.loc[:,timestamp] = pd.to_datetime(dataset.loc[:,timestamp], format=timestampFormat)\n",
    "dataset = dataset.sort_values(by=timestamp)"
   ],
   "metadata": {
    "collapsed": false,
    "pycharm": {
     "name": "#%%\n"
    }
   }
  },
  {
   "cell_type": "code",
   "execution_count": 4,
   "outputs": [],
   "source": [
    "### STORAGE ###\n",
    "# we want to keep track of things that happen within one instance (also called trace or case)\n",
    "\n",
    "instanceStorage = {}\n",
    "\n",
    "def updateInstanceStorage(event, instance_ID, event_ID, timestamp, timestampFormat, instanceStorage):\n",
    "\n",
    "    this_instance_id = event[instance_ID]\n",
    "\n",
    "    if this_instance_id in instanceStorage:\n",
    "        previousEvent = instanceStorage[this_instance_id][0]\n",
    "        this_timestamp = pd.to_datetime(event[timestamp], format=timestampFormat)\n",
    "        previous_timestamp = pd.to_datetime(instanceStorage[this_instance_id][1], format=timestampFormat)\n",
    "        timePassed = this_timestamp - previous_timestamp\n",
    "\n",
    "    else:\n",
    "        previousEvent = None\n",
    "        timePassed = None\n",
    "\n",
    "    instanceStorage[this_instance_id] = [event[event_ID], event[timestamp]]\n",
    "\n",
    "    return previousEvent, timePassed, instanceStorage"
   ],
   "metadata": {
    "collapsed": false,
    "pycharm": {
     "name": "#%%\n"
    }
   }
  },
  {
   "cell_type": "code",
   "execution_count": 5,
   "outputs": [
    {
     "name": "stdout",
     "output_type": "stream",
     "text": [
      "case concept:name                           173688\n",
      "event concept:name                     A_SUBMITTED\n",
      "event time:timestamp    2011-10-01 00:38:44.546000\n",
      "Name: 0, dtype: object\n",
      "None None {173688: ['A_SUBMITTED', Timestamp('2011-10-01 00:38:44.546000')]}\n"
     ]
    }
   ],
   "source": [
    "print(dataset.loc[0,:])\n",
    "previousEvent, timePassed, instanceStorage = updateInstanceStorage(dataset.loc[0,:], instance_ID, event_ID, timestamp, timestampFormat, instanceStorage)\n",
    "\n",
    "print(previousEvent, timePassed, instanceStorage)"
   ],
   "metadata": {
    "collapsed": false,
    "pycharm": {
     "name": "#%%\n"
    }
   }
  },
  {
   "cell_type": "code",
   "execution_count": 6,
   "outputs": [],
   "source": [
    "### THE MODEL ###\n",
    "# We start with only one feature: the historical average time between two events based on the previous event\n",
    "\n",
    "predictionModel = {}\n",
    "\n",
    "def getPrediction(this_event_id, predictionModel):\n",
    "\n",
    "    # if this event is already in the predictionModel, then return the predicted duration\n",
    "    if this_event_id in predictionModel:\n",
    "        return predictionModel[this_event_id]\n",
    "\n",
    "    # otherwise you don't have an estimate yet, so just return None\n",
    "    else:\n",
    "        return None\n",
    "\n",
    "\n",
    "def updatePredictionModel(this_event_id, timePassed, weight_newtimePassed):\n",
    "\n",
    "    if timePassed != None:\n",
    "\n",
    "        # if this event is already in the predictionModel, update the model\n",
    "        if this_event_id in predictionModel:\n",
    "            predictionModel[this_event_id] = timePassed*weight_newtimePassed + predictionModel[this_event_id]*(1-weight_newtimePassed)\n",
    "\n",
    "        # otherwise, just just the new value as the best estimate for the next time you see this activty\n",
    "        else:\n",
    "            predictionModel[this_event_id] = timePassed\n",
    "\n",
    "    return predictionModel"
   ],
   "metadata": {
    "collapsed": false,
    "pycharm": {
     "name": "#%%\n"
    }
   }
  },
  {
   "cell_type": "code",
   "execution_count": 7,
   "outputs": [
    {
     "name": "stdout",
     "output_type": "stream",
     "text": [
      "    case concept:name      event concept:name    event time:timestamp\n",
      "0              173688             A_SUBMITTED 2011-10-01 00:38:44.546\n",
      "1              173688       A_PARTLYSUBMITTED 2011-10-01 00:38:44.880\n",
      "2              173688           A_PREACCEPTED 2011-10-01 00:39:37.906\n",
      "3              173688  W_Completeren aanvraag 2011-10-01 00:39:38.875\n",
      "4              173691             A_SUBMITTED 2011-10-01 08:08:58.256\n",
      "5              173691       A_PARTLYSUBMITTED 2011-10-01 08:09:02.195\n",
      "6              173691           A_PREACCEPTED 2011-10-01 08:09:56.648\n",
      "7              173691  W_Completeren aanvraag 2011-10-01 08:09:59.578\n",
      "8              173694             A_SUBMITTED 2011-10-01 08:10:30.287\n",
      "9              173694       A_PARTLYSUBMITTED 2011-10-01 08:10:30.591\n",
      "10             173697             A_SUBMITTED 2011-10-01 08:11:08.866\n",
      "    case concept:name      event concept:name    event time:timestamp  \\\n",
      "0              173688             A_SUBMITTED 2011-10-01 00:38:44.546   \n",
      "1              173688       A_PARTLYSUBMITTED 2011-10-01 00:38:44.880   \n",
      "2              173688           A_PREACCEPTED 2011-10-01 00:39:37.906   \n",
      "3              173688  W_Completeren aanvraag 2011-10-01 00:39:38.875   \n",
      "4              173691             A_SUBMITTED 2011-10-01 08:08:58.256   \n",
      "5              173691       A_PARTLYSUBMITTED 2011-10-01 08:09:02.195   \n",
      "6              173691           A_PREACCEPTED 2011-10-01 08:09:56.648   \n",
      "7              173691  W_Completeren aanvraag 2011-10-01 08:09:59.578   \n",
      "8              173694             A_SUBMITTED 2011-10-01 08:10:30.287   \n",
      "9              173694       A_PARTLYSUBMITTED 2011-10-01 08:10:30.591   \n",
      "10             173697             A_SUBMITTED 2011-10-01 08:11:08.866   \n",
      "\n",
      "         predictedDuration  \n",
      "0                      NaN  \n",
      "1                      NaN  \n",
      "2                      NaN  \n",
      "3                      NaN  \n",
      "4   0 days 00:00:00.033400  \n",
      "5   0 days 00:00:53.026000  \n",
      "6   0 days 00:00:00.969000  \n",
      "7                     None  \n",
      "8   0 days 00:00:00.423960  \n",
      "9   0 days 00:00:53.168700  \n",
      "10  0 days 00:00:00.411964  \n"
     ]
    },
    {
     "name": "stderr",
     "output_type": "stream",
     "text": [
      "C:\\Users\\20182960\\AppData\\Local\\Continuum\\anaconda3\\lib\\site-packages\\pandas\\core\\indexing.py:1684: SettingWithCopyWarning: \n",
      "A value is trying to be set on a copy of a slice from a DataFrame.\n",
      "Try using .loc[row_indexer,col_indexer] = value instead\n",
      "\n",
      "See the caveats in the documentation: https://pandas.pydata.org/pandas-docs/stable/user_guide/indexing.html#returning-a-view-versus-a-copy\n",
      "  self.obj[key] = infer_fill_value(value)\n",
      "C:\\Users\\20182960\\AppData\\Local\\Continuum\\anaconda3\\lib\\site-packages\\pandas\\core\\indexing.py:1817: SettingWithCopyWarning: \n",
      "A value is trying to be set on a copy of a slice from a DataFrame.\n",
      "Try using .loc[row_indexer,col_indexer] = value instead\n",
      "\n",
      "See the caveats in the documentation: https://pandas.pydata.org/pandas-docs/stable/user_guide/indexing.html#returning-a-view-versus-a-copy\n",
      "  self._setitem_single_column(loc, value, pi)\n"
     ]
    }
   ],
   "source": [
    "### RUNNING THE MODEL ###\n",
    "# We have to run the model line by line, we can't do things in parallel, otherwise it's not on the fly\n",
    "\n",
    "### Run over all lines =>\n",
    "# let's first do a simple for-loop, maybe I can improve this to a .apply later on\n",
    "\n",
    "def processEvent(event, event_ID, predictionModel, instanceStorage):\n",
    "\n",
    "    # step 1: predict\n",
    "    # look up if this event is already in predictionModel\n",
    "    # if it is, use the predictedDuration as current prediction\n",
    "    # otherwise predict: unknown\n",
    "    predictedDuration =  getPrediction(event[event_ID], predictionModel)\n",
    "\n",
    "    # step 2: loop up historical data\n",
    "    # you only know things of the past, so you want to check if there is a previous event in the instanceStorage\n",
    "    # if there is, you can calculate the duration between that event and this one\n",
    "    previousEvent, timePassed, instanceStorage = updateInstanceStorage(event, instance_ID, event_ID, timestamp, timestampFormat, instanceStorage)\n",
    "\n",
    "    # step 3: update predictionModel\n",
    "    predictionModel = updatePredictionModel(previousEvent, timePassed, weight_newtimePassed)\n",
    "\n",
    "    return  instanceStorage, predictionModel, predictedDuration\n",
    "\n",
    "mini_dataset = dataset.loc[0:10, :]\n",
    "print(mini_dataset)\n",
    "\n",
    "for index, row in mini_dataset.iterrows():\n",
    "\n",
    "    instanceStorage, predictionModel, mini_dataset.loc[index,'predictedDuration'] = processEvent(row, event_ID, predictionModel, instanceStorage)\n",
    "\n",
    "print(mini_dataset)"
   ],
   "metadata": {
    "collapsed": false,
    "pycharm": {
     "name": "#%%\n"
    }
   }
  }
 ],
 "metadata": {
  "kernelspec": {
   "display_name": "Python 3",
   "language": "python",
   "name": "python3"
  },
  "language_info": {
   "codemirror_mode": {
    "name": "ipython",
    "version": 2
   },
   "file_extension": ".py",
   "mimetype": "text/x-python",
   "name": "python",
   "nbconvert_exporter": "python",
   "pygments_lexer": "ipython2",
   "version": "2.7.6"
  }
 },
 "nbformat": 4,
 "nbformat_minor": 0
}